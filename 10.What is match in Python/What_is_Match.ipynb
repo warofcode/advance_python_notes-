{
 "cells": [
  {
   "cell_type": "code",
   "execution_count": 8,
   "id": "7aebeaab",
   "metadata": {},
   "outputs": [
    {
     "name": "stdout",
     "output_type": "stream",
     "text": [
      "enter your choise + - **\n",
      "156\n"
     ]
    }
   ],
   "source": [
    "number1 = 12\n",
    "number2 = 13\n",
    "\n",
    "Operator = input(\"enter your choise + - *\")\n",
    "\n",
    "match Operator: \n",
    "    case \"+\":\n",
    "        \n",
    "        print(number1+number2)\n",
    "        \n",
    "    case \"-\":\n",
    "        print(number1-number2)\n",
    "        \n",
    "    case \"*\":\n",
    "        print(number1*number2)\n",
    "        \n",
    "    case _:\n",
    "        print(\"wrong option\")\n",
    "        "
   ]
  },
  {
   "cell_type": "code",
   "execution_count": null,
   "id": "b2384253",
   "metadata": {},
   "outputs": [],
   "source": []
  }
 ],
 "metadata": {
  "kernelspec": {
   "display_name": "Python 3 (ipykernel)",
   "language": "python",
   "name": "python3"
  },
  "language_info": {
   "codemirror_mode": {
    "name": "ipython",
    "version": 3
   },
   "file_extension": ".py",
   "mimetype": "text/x-python",
   "name": "python",
   "nbconvert_exporter": "python",
   "pygments_lexer": "ipython3",
   "version": "3.11.5"
  }
 },
 "nbformat": 4,
 "nbformat_minor": 5
}
