{
 "cells": [
  {
   "cell_type": "code",
   "execution_count": 5,
   "metadata": {},
   "outputs": [
    {
     "name": "stdout",
     "output_type": "stream",
     "text": [
      "Email's are:['sarah@cookingwithsarah.com', 'sjohnson@foodlover.com', 'johnson@tastytreats.net', 'delicious@sarahsrecipes.org']\n",
      "Total Email's are:4\n"
     ]
    }
   ],
   "source": [
    "import re\n",
    "\n",
    "str1 = '''\n",
    "Hey there, I'm Sarah Johnson, and you can reach me at sarah.johnson@    example.com.\n",
    "I'm currently exploring new recipes on my blog, and you can find me there. Oh, and\n",
    "I've got another email address: \"sarah@cookingwithsarah.com\".\n",
    "Additionally, you can contact me via <sjohnson@foodlover.com>.\n",
    "\n",
    "Here's another one: \"sarah.johnson@tastytreats.net\", and I also use the email address delicious@sarahsrecipes.org.\n",
    "'''\n",
    "# list1 = re.findall(r\"\\w+@\\S+\",str1)\n",
    "list1=re.findall(r'\\w+@\\S+\\w',str1) # it will return a list\n",
    "\n",
    "\n",
    "file=open(\"email_store.txt\",\"a\")\n",
    "\n",
    "j=1\n",
    "for i in list1:\n",
    "    file.write(f\"Email{j}:{i}\\n\")\n",
    "    j=j+1\n",
    "file.close()\n",
    "\n",
    "print(f\"Email's are:{list1}\")\n",
    "print(f\"Total Email's are:{j-1}\")"
   ]
  },
  {
   "cell_type": "markdown",
   "metadata": {},
   "source": [
    "# Explanation of above code"
   ]
  },
  {
   "cell_type": "raw",
   "metadata": {},
   "source": [
    "r'\\w+@\\S+\\w'  \n",
    "\n",
    "r: \n",
    "\n",
    "This is a prefix indicating a raw string literal in Python. It's often used with regular expressions to avoid unintended escape sequences.\n",
    "\n",
    "\\w+: \n",
    "[a-z, A-Z, 0-9, _]\n",
    "\n",
    "This part matches one or more word characters. Word characters include alphabetic characters, digits, and underscores. So, \\w+ matches a sequence of one or more of these characters.\n",
    "\n",
    "@: \n",
    "This matches the \"@\" symbol literally. It's used to separate the local part (before \"@\") from the domain part (after \"@\") in an email address.\n",
    "\n",
    "\\S+: \n",
    "This matches one or more non-whitespace characters. \\S represents any character that is not a whitespace character, and + means one or more occurrences.\n",
    "\n",
    "\\w: \n",
    "This matches a single word character."
   ]
  },
  {
   "cell_type": "markdown",
   "metadata": {},
   "source": [
    "print Emails"
   ]
  },
  {
   "cell_type": "code",
   "execution_count": 2,
   "metadata": {},
   "outputs": [
    {
     "data": {
      "text/plain": [
       "['johnson@example.com',\n",
       " 'sarah@cookingwithsarah.com',\n",
       " 'sjohnson@foodlover.com',\n",
       " 'johnson@tastytreats.net',\n",
       " 'delicious@sarahsrecipes.org']"
      ]
     },
     "execution_count": 2,
     "metadata": {},
     "output_type": "execute_result"
    }
   ],
   "source": [
    "re.findall(r'\\w+@\\S+\\w',str1)     # it will return a list "
   ]
  },
  {
   "cell_type": "code",
   "execution_count": 3,
   "metadata": {},
   "outputs": [
    {
     "name": "stdout",
     "output_type": "stream",
     "text": [
      "Totlal emails are:  5\n"
     ]
    }
   ],
   "source": [
    "print(\"Totlal emails are: \",len(list1))"
   ]
  },
  {
   "cell_type": "markdown",
   "metadata": {},
   "source": [
    "# Writing a file of all emails"
   ]
  },
  {
   "cell_type": "markdown",
   "metadata": {},
   "source": [
    "This will create a new text file in the name of Email_file and write all emails "
   ]
  },
  {
   "cell_type": "code",
   "execution_count": 4,
   "metadata": {},
   "outputs": [],
   "source": [
    "j=1\n",
    "with open(\"Email_file.txt\",\"wt\") as f:  # it will create a new file if does not exist ...always remember it will over write    \n",
    "    for i in list1:\n",
    "        f.write(f\"email{j}:{i}\\n\")\n",
    "        j+=1"
   ]
  },
  {
   "cell_type": "code",
   "execution_count": null,
   "metadata": {},
   "outputs": [],
   "source": [
    "# Another way to find same result"
   ]
  },
  {
   "cell_type": "code",
   "execution_count": 6,
   "metadata": {},
   "outputs": [
    {
     "name": "stdout",
     "output_type": "stream",
     "text": [
      "<re.Match object; span=(1, 25), match='Rohittyagi1234@gmail.com'>\n",
      "<re.Match object; span=(26, 45), match='rkt65@rexgalaxy.com'>\n",
      "<re.Match object; span=(46, 74), match='sachin-321-kumar@my-work.net'>\n"
     ]
    }
   ],
   "source": [
    "import re\n",
    "\n",
    "emails = '''\n",
    "Rohittyagi1234@gmail.com\n",
    "rkt65@rexgalaxy.com\n",
    "sachin-321-kumar@my-work.net\n",
    "'''\n",
    "\n",
    "pattern = re.compile(r'[a-zA-Z0-9_.+-]+@[a-zA-Z0-9-]+\\.[a-zA-Z0-9-.]+')\n",
    "\n",
    "matches = pattern.finditer(emails)\n",
    "\n",
    "for match in matches:\n",
    "    print(match)"
   ]
  },
  {
   "cell_type": "markdown",
   "metadata": {},
   "source": [
    "# Explanation of above code"
   ]
  },
  {
   "cell_type": "raw",
   "metadata": {},
   "source": [
    "1. \n",
    "[a-zA-Z0-9_.+-]+\n",
    "\n",
    "[a-zA-Z0-9_.+-]: This character set matches any alphanumeric character (a-z, A-Z, 0-9), as well as underscore (_), period (.), plus sign (+), and hyphen (-).\n",
    "+: This quantifier matches one or more occurrences of the preceding character set. So, [a-zA-Z0-9_.+-]+ matches one or more of these characters in the local part of the email address.\n",
    "\n",
    "2. \n",
    "@: This matches the \"@\" symbol, which separates the local part from the domain part of the email address.\n",
    "\n",
    "3.\n",
    "[a-zA-Z0-9-]+: This character set matches any alphanumeric character (a-z, A-Z, 0-9), as well as hyphen (-).\n",
    "\n",
    "+: \n",
    "This quantifier matches one or more occurrences of the preceding character set. So, [a-zA-Z0-9-]+ matches one or more alphanumeric characters or hyphens in the domain part of the email address.\n",
    "\n",
    "4\n",
    "\\.: \n",
    "\n",
    "This matches a literal period (.). It's escaped with a backslash (\\) because the period is a special character in regular expressions, and we want to match a literal period.\n",
    "\n",
    "5. [a-zA-Z0-9-.]+: This part matches the top-level domain part of the email address. Breaking it down:\n",
    "\n",
    "[a-zA-Z0-9-.]: \n",
    "\n",
    "This character set matches any alphanumeric character (a-z, A-Z, 0-9), as well as period (.) and hyphen (-).\n",
    "\n",
    "+: \n",
    "\n",
    "This quantifier matches one or more occurrences of the preceding character set. So, [a-zA-Z0-9-.]+ matches one or more alphanumeric characters, periods, or hyphens in the top-level domain part of the email address."
   ]
  },
  {
   "cell_type": "code",
   "execution_count": null,
   "metadata": {},
   "outputs": [],
   "source": [
    "import re\n",
    "\n",
    "emails = '''\n",
    "Rohittyagi1234@gmail.com\n",
    "rkt65@rexgalaxy.com\n",
    "sachin-321-kumar@my-work.net\n",
    "'''\n",
    "\n",
    "pattern = re.compile(r'[a-zA-Z0-9_.+-]+@[a-zA-Z0-9-]+\\.[a-zA-Z0-9-.]+')\n",
    "\n",
    "matches = pattern.finditer(emails)\n",
    "\n",
    "for match in matches:\n",
    "    print(match)"
   ]
  }
 ],
 "metadata": {
  "kernelspec": {
   "display_name": "Python 3 (ipykernel)",
   "language": "python",
   "name": "python3"
  },
  "language_info": {
   "codemirror_mode": {
    "name": "ipython",
    "version": 3
   },
   "file_extension": ".py",
   "mimetype": "text/x-python",
   "name": "python",
   "nbconvert_exporter": "python",
   "pygments_lexer": "ipython3",
   "version": "3.11.7"
  }
 },
 "nbformat": 4,
 "nbformat_minor": 4
}
