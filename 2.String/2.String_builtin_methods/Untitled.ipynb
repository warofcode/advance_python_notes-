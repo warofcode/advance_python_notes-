{
 "cells": [
  {
   "cell_type": "code",
   "execution_count": 5,
   "id": "b0d9ac97-4c03-4359-a5aa-32b9b264cfdf",
   "metadata": {},
   "outputs": [
    {
     "name": "stdout",
     "output_type": "stream",
     "text": [
      "56 is equal to 56\n"
     ]
    }
   ],
   "source": [
    "if 56!=57:\n",
    "    \n",
    "    print(\"56 is equal to 56\") \n",
    "\n",
    "elif 58==59:\n",
    "    print(\"58 is equl to 58\")\n",
    "elif 59==59:\n",
    "    print(\"59 is equal to 59\")\n",
    "    \n",
    "else:\n",
    "    print(\"56 is not equal to 57\")"
   ]
  },
  {
   "cell_type": "code",
   "execution_count": null,
   "id": "1a6b75ca-5c69-4f5a-a2a8-9d9fcb3f8ea7",
   "metadata": {},
   "outputs": [],
   "source": []
  }
 ],
 "metadata": {
  "kernelspec": {
   "display_name": "Python 3 (ipykernel)",
   "language": "python",
   "name": "python3"
  },
  "language_info": {
   "codemirror_mode": {
    "name": "ipython",
    "version": 3
   },
   "file_extension": ".py",
   "mimetype": "text/x-python",
   "name": "python",
   "nbconvert_exporter": "python",
   "pygments_lexer": "ipython3",
   "version": "3.11.7"
  }
 },
 "nbformat": 4,
 "nbformat_minor": 5
}
