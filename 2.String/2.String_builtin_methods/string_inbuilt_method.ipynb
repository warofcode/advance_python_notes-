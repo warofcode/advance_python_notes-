{
 "cells": [
  {
   "cell_type": "markdown",
   "id": "2b6429c4",
   "metadata": {},
   "source": [
    "# ........................................String Inbuilt Methods.........................................."
   ]
  },
  {
   "cell_type": "markdown",
   "id": "94ea4ef4",
   "metadata": {},
   "source": [
    "# "
   ]
  },
  {
   "cell_type": "markdown",
   "id": "7f606d58",
   "metadata": {},
   "source": [
    "# 1. string.capitalize()   \n",
    "\n"
   ]
  },
  {
   "cell_type": "markdown",
   "id": "4689ba7c",
   "metadata": {},
   "source": [
    "Converts the first character to uppercase and the rest to lowercase."
   ]
  },
  {
   "cell_type": "code",
   "execution_count": 3,
   "id": "48d70221",
   "metadata": {},
   "outputs": [
    {
     "name": "stdout",
     "output_type": "stream",
     "text": [
      "Python\n"
     ]
    }
   ],
   "source": [
    "my_string = \"python\"\n",
    "my_string = my_string.capitalize()\n",
    "print(my_string)"
   ]
  },
  {
   "cell_type": "markdown",
   "id": "c22eebad",
   "metadata": {},
   "source": [
    "# 2.string.lower()"
   ]
  },
  {
   "cell_type": "markdown",
   "id": "9f7aeddb",
   "metadata": {},
   "source": [
    "string.lower() will convert letters to lower case "
   ]
  },
  {
   "cell_type": "code",
   "execution_count": 2,
   "id": "0fff0897",
   "metadata": {},
   "outputs": [
    {
     "name": "stdout",
     "output_type": "stream",
     "text": [
      "python\n"
     ]
    }
   ],
   "source": [
    "my_string = \"PYTHON\"\n",
    "my_string = my_string.lower()\n",
    "print(my_string)"
   ]
  },
  {
   "cell_type": "markdown",
   "id": "40fe51bf",
   "metadata": {},
   "source": [
    "# 3.string.upper()"
   ]
  },
  {
   "cell_type": "markdown",
   "id": "4d60b6b9",
   "metadata": {},
   "source": [
    " convert all characters in a string to uppercase. It returns a new string where all alphabetic characters have been converted to uppercase."
   ]
  },
  {
   "cell_type": "code",
   "execution_count": 2,
   "id": "3d5d8b96",
   "metadata": {},
   "outputs": [
    {
     "name": "stdout",
     "output_type": "stream",
     "text": [
      "PYTHON\n"
     ]
    }
   ],
   "source": [
    "my_string = \"python\"\n",
    "print(my_string.upper())"
   ]
  },
  {
   "cell_type": "markdown",
   "id": "02b3838b",
   "metadata": {},
   "source": [
    "# 4.string.count(substring,start,end)"
   ]
  },
  {
   "cell_type": "markdown",
   "id": "4a999d49",
   "metadata": {},
   "source": [
    "calculate occurrences of specified value in the string"
   ]
  },
  {
   "cell_type": "code",
   "execution_count": 4,
   "id": "3cb8fdbe",
   "metadata": {},
   "outputs": [
    {
     "name": "stdout",
     "output_type": "stream",
     "text": [
      "2\n",
      "6\n"
     ]
    }
   ],
   "source": [
    "my_string = \"Hello Python PPPPPY\"\n",
    "print(my_string.count(\"l\"))\n",
    "print(my_string.count(\"P\",5,len(my_string))) # if searching substring at particular location"
   ]
  },
  {
   "cell_type": "markdown",
   "id": "85856d48",
   "metadata": {},
   "source": [
    "# 5. string.startswith(prefix[, start[, end]])\n",
    "\n"
   ]
  },
  {
   "cell_type": "markdown",
   "id": "ed57288b",
   "metadata": {},
   "source": [
    "Returns True if the string starts with the specified prefix; otherwise, False."
   ]
  },
  {
   "cell_type": "code",
   "execution_count": 5,
   "id": "0e2435ac",
   "metadata": {},
   "outputs": [
    {
     "name": "stdout",
     "output_type": "stream",
     "text": [
      "True\n"
     ]
    }
   ],
   "source": [
    "my_string = \"python\"\n",
    "print(my_string.startswith(\"p\"))"
   ]
  },
  {
   "cell_type": "markdown",
   "id": "553493cf",
   "metadata": {},
   "source": [
    "# 6. string.endswith(suffix[, start[, end]])"
   ]
  },
  {
   "cell_type": "markdown",
   "id": "15a7e23d",
   "metadata": {},
   "source": [
    " Returns True if the string ends with the specified suffix; otherwise, False."
   ]
  },
  {
   "cell_type": "code",
   "execution_count": 6,
   "id": "47a656d3",
   "metadata": {},
   "outputs": [
    {
     "name": "stdout",
     "output_type": "stream",
     "text": [
      "True\n"
     ]
    }
   ],
   "source": [
    "my_string = \"Python\"\n",
    "print(my_string.endswith(\"n\"))"
   ]
  },
  {
   "cell_type": "markdown",
   "id": "31af7417",
   "metadata": {},
   "source": [
    "# 7.find(sub[, start[, end]])"
   ]
  },
  {
   "cell_type": "markdown",
   "id": "ff5eb031",
   "metadata": {},
   "source": [
    "Returns the first occurance of substring if found in the string, else returns -1."
   ]
  },
  {
   "cell_type": "code",
   "execution_count": 4,
   "id": "b9617758",
   "metadata": {},
   "outputs": [
    {
     "name": "stdout",
     "output_type": "stream",
     "text": [
      "0\n",
      "5\n",
      "-1\n",
      "8\n"
     ]
    }
   ],
   "source": [
    "my_string = \"hi Hero how are you\"\n",
    "print(my_string.find(\"h\"))  # found at 0 index\n",
    "print(my_string.find(\"r\"))  # found at 5th index\n",
    "print(my_string.find(\"z\"))  # could not find \"z\"\n",
    "print(my_string.find(\"how\"))# found at 8th index"
   ]
  },
  {
   "cell_type": "markdown",
   "id": "a120eace",
   "metadata": {},
   "source": [
    "# 8. string.index()"
   ]
  },
  {
   "cell_type": "markdown",
   "id": "91cc9407",
   "metadata": {},
   "source": [
    "\n",
    "The index() method in Python is used to find the index of the first occurrence of a specified substring within the string. If the substring is found, it returns the lowest index where the substring is found. If the substring is not found, it raises a ValueError."
   ]
  },
  {
   "cell_type": "code",
   "execution_count": 8,
   "id": "bad2e41f",
   "metadata": {},
   "outputs": [
    {
     "name": "stdout",
     "output_type": "stream",
     "text": [
      "6\n"
     ]
    }
   ],
   "source": [
    "my_string = \"hello world  world\"\n",
    "index = my_string.index('world') # will return 6 as first occurance at index 6\n",
    "print(index) "
   ]
  },
  {
   "cell_type": "markdown",
   "id": "a7380e4c",
   "metadata": {},
   "source": [
    "# 9.string.isalnum()"
   ]
  },
  {
   "cell_type": "markdown",
   "id": "8fc75500",
   "metadata": {},
   "source": [
    "The isalnum() method in Python is used to check whether all characters in a string are alphanumeric. It returns True if all characters in the string are either alphabetic (letters) or numeric (digits), and the string contains at least one character. Otherwise, it returns False."
   ]
  },
  {
   "cell_type": "code",
   "execution_count": 12,
   "id": "fe6b9f33",
   "metadata": {},
   "outputs": [
    {
     "name": "stdout",
     "output_type": "stream",
     "text": [
      "True\n",
      "True\n",
      "True\n",
      "False\n"
     ]
    }
   ],
   "source": [
    "my_string1 = \"hello123\"\n",
    "my_string2 = \"12345\"\n",
    "my_string3 = \"Hello\"\n",
    "my_string4 = \"hello world\"\n",
    "\n",
    "print(my_string1.isalnum())  # Output: True\n",
    "print(my_string2.isalnum())  # Output: True\n",
    "print(my_string3.isalnum())  # Output: True\n",
    "print(my_string4.isalnum())  # Output: False (contains space)\n"
   ]
  },
  {
   "cell_type": "markdown",
   "id": "19680865",
   "metadata": {},
   "source": [
    "# 10. string.isalpha()"
   ]
  },
  {
   "cell_type": "markdown",
   "id": "0a3251d5",
   "metadata": {},
   "source": [
    "Returns True if all characters in the string are alphabetic (consist of only letters), and the string contains at least one character. Otherwise, it returns False."
   ]
  },
  {
   "cell_type": "code",
   "execution_count": 13,
   "id": "2778ff8d",
   "metadata": {},
   "outputs": [
    {
     "name": "stdout",
     "output_type": "stream",
     "text": [
      "True\n",
      "False\n",
      "False\n"
     ]
    }
   ],
   "source": [
    "my_string1 = \"hello\"\n",
    "my_string2 = \"hello123\"\n",
    "my_string3 = \"12345\"\n",
    "\n",
    "print(my_string1.isalpha())  # Output: True\n",
    "print(my_string2.isalpha())  # Output: False (contains digits)\n",
    "print(my_string3.isalpha())  # Output: False (contains digits)\n"
   ]
  },
  {
   "cell_type": "markdown",
   "id": "59c4927a",
   "metadata": {},
   "source": [
    "# 11. string.isdecimal()"
   ]
  },
  {
   "cell_type": "markdown",
   "id": "b9c78d65",
   "metadata": {},
   "source": [
    "The isdecimal() method in Python is used to check whether all characters in a string are decimal characters. It returns True if all characters in the string are decimal (consist of only digits 0 through 9), and the string contains at least one character. Otherwise, it returns False."
   ]
  },
  {
   "cell_type": "code",
   "execution_count": 2,
   "id": "2af55c9a",
   "metadata": {},
   "outputs": [
    {
     "name": "stdout",
     "output_type": "stream",
     "text": [
      "True\n",
      "False\n",
      "False\n"
     ]
    }
   ],
   "source": [
    "my_string1 = \"12345\"\n",
    "my_string2 = \"12.345\"\n",
    "my_string3 = \"hello\"\n",
    "\n",
    "print(my_string1.isdecimal())  # Output: True\n",
    "print(my_string2.isdecimal())  # Output: False (contains a dot)\n",
    "print(my_string3.isdecimal())  # Output: False (contains alphabetic characters)\n"
   ]
  },
  {
   "cell_type": "markdown",
   "id": "b6395a35",
   "metadata": {},
   "source": [
    "# 12. string.isdigit()"
   ]
  },
  {
   "cell_type": "markdown",
   "id": "77decf62",
   "metadata": {},
   "source": [
    "The isdigit() method in Python is used to check whether all characters in a string are digits. It returns True if all characters in the string are numeric (consist of only digits 0 through 9), and the string contains at least one character. Otherwise, it returns False."
   ]
  },
  {
   "cell_type": "code",
   "execution_count": 15,
   "id": "06b62f4a",
   "metadata": {},
   "outputs": [
    {
     "name": "stdout",
     "output_type": "stream",
     "text": [
      "True\n",
      "False\n",
      "False\n"
     ]
    }
   ],
   "source": [
    "my_string1 = \"12345\"\n",
    "my_string2 = \"12.345\"\n",
    "my_string3 = \"hello\"\n",
    "\n",
    "print(my_string1.isdigit())  # Output: True\n",
    "print(my_string2.isdigit())  # Output: False (contains a dot)\n",
    "print(my_string3.isdigit())  # Output: False (contains alphabetic characters)"
   ]
  },
  {
   "cell_type": "markdown",
   "id": "307fd6da",
   "metadata": {},
   "source": [
    "# 13. string.isnumeric()"
   ]
  },
  {
   "cell_type": "markdown",
   "id": "dc4b14d6",
   "metadata": {},
   "source": [
    "The isnumeric() method in Python is used to check whether all characters in a string are numeric. It returns True if all characters in the string are numeric (consist of only numeric characters, including digits, superscripts, subscripts, and fractions), and the string contains at least one character. Otherwise, it returns False."
   ]
  },
  {
   "cell_type": "code",
   "execution_count": 17,
   "id": "53f03075",
   "metadata": {},
   "outputs": [
    {
     "name": "stdout",
     "output_type": "stream",
     "text": [
      "True\n",
      "False\n",
      "True\n",
      "True\n"
     ]
    }
   ],
   "source": [
    "my_string1 = \"12345\"\n",
    "my_string2 = \"12.345\"\n",
    "my_string3 = \"½\"\n",
    "my_string4 = \"١٢٣٤٥\"  # Arabic numerals\n",
    "\n",
    "print(my_string1.isnumeric())  # Output: True\n",
    "print(my_string2.isnumeric())  # Output: False (contains a dot)\n",
    "print(my_string3.isnumeric())  # Output: True (represents a numeric fraction)\n",
    "print(my_string4.isnumeric())  # Output: True (Arabic numerals are numeric)\n"
   ]
  },
  {
   "cell_type": "markdown",
   "id": "a5c1f6f7",
   "metadata": {},
   "source": [
    "# 14.string.swapcase()"
   ]
  },
  {
   "cell_type": "markdown",
   "id": "01690791",
   "metadata": {},
   "source": [
    "Swaps cases, lower case becomes upper case and vice versa"
   ]
  },
  {
   "cell_type": "code",
   "execution_count": 18,
   "id": "60a95198",
   "metadata": {},
   "outputs": [
    {
     "name": "stdout",
     "output_type": "stream",
     "text": [
      "hELLO wORLD\n"
     ]
    }
   ],
   "source": [
    "my_string = \"Hello World\"\n",
    "swapped_string = my_string.swapcase()\n",
    "print(swapped_string)  # Output: hELLO wORLD\n"
   ]
  },
  {
   "cell_type": "markdown",
   "id": "fd159e09",
   "metadata": {},
   "source": [
    "# 15. string.zfill()"
   ]
  },
  {
   "cell_type": "markdown",
   "id": "7220307d",
   "metadata": {},
   "source": [
    "The zfill() method in Python is used to pad a numeric string with zeros (0) on the left side to make it a specified width. It returns a copy of the string where zeros are padded to the left until the string reaches the specified width."
   ]
  },
  {
   "cell_type": "code",
   "execution_count": 27,
   "id": "7fd2604b",
   "metadata": {},
   "outputs": [
    {
     "name": "stdout",
     "output_type": "stream",
     "text": [
      "042\n",
      "0042\n"
     ]
    }
   ],
   "source": [
    "my_string = \"42\"\n",
    "padded_string1 = my_string.zfill(3)\n",
    "padded_string2 = my_string.zfill(4)\n",
    "\n",
    "print(padded_string)  # Output: 042\n",
    "print(padded_string2)  # Output: 00042\n"
   ]
  },
  {
   "cell_type": "markdown",
   "id": "7c6d8066",
   "metadata": {},
   "source": [
    "# 16. string.strip()"
   ]
  },
  {
   "cell_type": "markdown",
   "id": "4e6d6884",
   "metadata": {},
   "source": [
    "The strip() method in Python is used to remove leading and trailing whitespace characters (spaces, tabs, newlines) from a string. It returns a copy of the string with the leading and trailing whitespace removed."
   ]
  },
  {
   "cell_type": "code",
   "execution_count": 33,
   "id": "d10a4a5d",
   "metadata": {},
   "outputs": [
    {
     "name": "stdout",
     "output_type": "stream",
     "text": [
      "Hello, World!\n"
     ]
    }
   ],
   "source": [
    "my_string = \"   Hello, World!  \"\n",
    "stripped_string = my_string.strip()\n",
    "print(stripped_string)  # Output: \"Hello, World!\"\n"
   ]
  },
  {
   "cell_type": "markdown",
   "id": "87f69d96-8ac9-4c21-a15b-50f92a081ecf",
   "metadata": {},
   "source": [
    "# 17.string.split()"
   ]
  },
  {
   "cell_type": "code",
   "execution_count": 6,
   "id": "d7c56f51-31b9-42d8-8693-bf8e0b6f88c3",
   "metadata": {},
   "outputs": [
    {
     "data": {
      "text/plain": [
       "['Rohit', 'tyagi@gmail.@com']"
      ]
     },
     "execution_count": 6,
     "metadata": {},
     "output_type": "execute_result"
    }
   ],
   "source": [
    "string = \"Rohit tyagi@gmail.@com\"\n",
    "string.split(\" \")"
   ]
  },
  {
   "cell_type": "markdown",
   "id": "8841c2fc-201e-424c-8cfa-23c08e5a3db4",
   "metadata": {},
   "source": [
    "# 18.Join() Method"
   ]
  },
  {
   "cell_type": "code",
   "execution_count": 12,
   "id": "adbc18ca-3c9d-426a-a49e-2392bd33e1d0",
   "metadata": {},
   "outputs": [
    {
     "data": {
      "text/plain": [
       "'rohitlastname@gmail.com'"
      ]
     },
     "execution_count": 12,
     "metadata": {},
     "output_type": "execute_result"
    }
   ],
   "source": [
    "list1 = [\"rohit\",\"lastname\",\"@\",\"gmail\",\".com\"]\n",
    "\n",
    "\"\".join(list1)"
   ]
  },
  {
   "cell_type": "code",
   "execution_count": null,
   "id": "4eb6975b-3202-4b12-b431-8fe52887c194",
   "metadata": {},
   "outputs": [],
   "source": []
  }
 ],
 "metadata": {
  "kernelspec": {
   "display_name": "Python 3 (ipykernel)",
   "language": "python",
   "name": "python3"
  },
  "language_info": {
   "codemirror_mode": {
    "name": "ipython",
    "version": 3
   },
   "file_extension": ".py",
   "mimetype": "text/x-python",
   "name": "python",
   "nbconvert_exporter": "python",
   "pygments_lexer": "ipython3",
   "version": "3.11.7"
  }
 },
 "nbformat": 4,
 "nbformat_minor": 5
}
