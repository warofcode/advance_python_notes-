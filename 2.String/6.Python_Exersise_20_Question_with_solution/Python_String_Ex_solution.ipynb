{
 "cells": [
  {
   "cell_type": "markdown",
   "id": "d40eaaed-f18f-4ca5-b9e5-288a8b6f44c9",
   "metadata": {},
   "source": [
    "1. How do you concatenate two strings in Python?"
   ]
  },
  {
   "cell_type": "code",
   "execution_count": 2,
   "id": "40902a74-bf9e-401a-904c-89615aa8244d",
   "metadata": {},
   "outputs": [
    {
     "name": "stdout",
     "output_type": "stream",
     "text": [
      "HelloWorld\n"
     ]
    }
   ],
   "source": [
    "string1 = \"Hello\"\n",
    "string2 = \"World\"\n",
    "concatenated_string = string1 + string2\n",
    "print(concatenated_string)  \n"
   ]
  },
  {
   "cell_type": "markdown",
   "id": "c5e14940-221f-4c7e-881e-fa57930271ec",
   "metadata": {},
   "source": [
    "2. What is the difference between the + operator and the join() method for concatenating strings?"
   ]
  },
  {
   "cell_type": "code",
   "execution_count": 5,
   "id": "908f12af-179f-470e-b0e3-f02e747c82cc",
   "metadata": {},
   "outputs": [
    {
     "name": "stdout",
     "output_type": "stream",
     "text": [
      "HelloWorld!\n",
      "HelloWorld!\n"
     ]
    }
   ],
   "source": [
    "# Using the + operator\n",
    "strings = [\"Hello\", \"World\", \"!\"]\n",
    "joined_string = \"\"\n",
    "for item in strings:\n",
    "    joined_string = joined_string + item\n",
    "\n",
    "print(joined_string)\n",
    "    \n",
    "\n",
    "# Using the join() method\n",
    "strings = [\"Hello\", \"World\", \"!\"]\n",
    "concatenated_string = \"\".join(strings)\n",
    "print(concatenated_string)  # Output: HelloWorld!\n"
   ]
  },
  {
   "cell_type": "markdown",
   "id": "ffafb21b-918e-400b-ab8c-d34075664d43",
   "metadata": {},
   "source": [
    "3. How do you access individual characters in a string?"
   ]
  },
  {
   "cell_type": "code",
   "execution_count": 6,
   "id": "7ac3a76d-5db5-4bc2-91d3-8d99a50c1b6f",
   "metadata": {},
   "outputs": [
    {
     "name": "stdout",
     "output_type": "stream",
     "text": [
      "P\n",
      "y\n",
      "t\n",
      "h\n",
      "o\n",
      "n\n"
     ]
    }
   ],
   "source": [
    "string = \"Python\"\n",
    "for char in string:\n",
    "    print(char)  \n"
   ]
  },
  {
   "cell_type": "markdown",
   "id": "2684392d-0741-47dd-ac59-1919e6939f09",
   "metadata": {},
   "source": [
    "4. What method is used to find the length of a string in Python?"
   ]
  },
  {
   "cell_type": "code",
   "execution_count": 7,
   "id": "6db8ea1e-46e1-4421-b49f-4fededbbd8fc",
   "metadata": {},
   "outputs": [
    {
     "name": "stdout",
     "output_type": "stream",
     "text": [
      "6\n"
     ]
    }
   ],
   "source": [
    "string = \"Python\"\n",
    "length = len(string)\n",
    "print(length) \n"
   ]
  },
  {
   "cell_type": "markdown",
   "id": "16e17b2b-2dc9-4b07-97c8-9427932574b9",
   "metadata": {},
   "source": [
    "5. How can you convert a string to uppercase in Python?"
   ]
  },
  {
   "cell_type": "code",
   "execution_count": 9,
   "id": "a4e2db32-046a-44d4-a986-e97a40a94e00",
   "metadata": {},
   "outputs": [
    {
     "name": "stdout",
     "output_type": "stream",
     "text": [
      "HELLO\n"
     ]
    }
   ],
   "source": [
    "string = \"hello\"\n",
    "uppercase_string = string.upper()\n",
    "print(uppercase_string)  \n"
   ]
  },
  {
   "cell_type": "markdown",
   "id": "45d112ea-c523-49b6-a2c8-9d3db28e9c7d",
   "metadata": {},
   "source": [
    "6. How can you convert a string to lowercase in Python?"
   ]
  },
  {
   "cell_type": "code",
   "execution_count": 10,
   "id": "3b527768-e737-49b6-8f46-e45c1ee02fed",
   "metadata": {},
   "outputs": [
    {
     "name": "stdout",
     "output_type": "stream",
     "text": [
      "hello\n"
     ]
    }
   ],
   "source": [
    "string = \"HELLO\"\n",
    "lowercase_string = string.lower()\n",
    "print(lowercase_string)  \n"
   ]
  },
  {
   "cell_type": "markdown",
   "id": "59a670f7-d7e3-47b5-b589-f4ca18ac0b9b",
   "metadata": {},
   "source": [
    "7. What method is used to replace substrings within a string?"
   ]
  },
  {
   "cell_type": "code",
   "execution_count": 11,
   "id": "4ff0542e-efa0-439a-ae18-43a5729c2625",
   "metadata": {},
   "outputs": [
    {
     "name": "stdout",
     "output_type": "stream",
     "text": [
      "Hello, Python!\n"
     ]
    }
   ],
   "source": [
    "string = \"Hello, World!\"\n",
    "new_string = string.replace(\"World\", \"Python\")\n",
    "print(new_string)  "
   ]
  },
  {
   "cell_type": "markdown",
   "id": "78364c2c-4b49-418f-beb9-357a7d175663",
   "metadata": {},
   "source": [
    "8. How can you split a string into a list of substrings based on a delimiter?"
   ]
  },
  {
   "cell_type": "code",
   "execution_count": 12,
   "id": "090b3929-8d7f-44dd-aeac-a95e0dee6429",
   "metadata": {},
   "outputs": [
    {
     "name": "stdout",
     "output_type": "stream",
     "text": [
      "['apple', 'banana', 'orange']\n"
     ]
    }
   ],
   "source": [
    "string = \"apple,banana,orange\"\n",
    "fruits_list = string.split(\",\")\n",
    "print(fruits_list)  # Output: ['apple', 'banana', 'orange']\n"
   ]
  },
  {
   "cell_type": "markdown",
   "id": "d0a4a3ac-9a9f-4f32-bd5e-3cbd0b00edf1",
   "metadata": {},
   "source": [
    "9. How do you check if a string starts with a particular substring?"
   ]
  },
  {
   "cell_type": "code",
   "execution_count": 13,
   "id": "5c9fc48a-c39e-4505-9dd1-e6a7fd903f44",
   "metadata": {},
   "outputs": [
    {
     "name": "stdout",
     "output_type": "stream",
     "text": [
      "String starts with 'Hello'\n"
     ]
    }
   ],
   "source": [
    "string = \"Hello, World!\"\n",
    "if string.startswith(\"Hello\"):\n",
    "    print(\"String starts with 'Hello'\")\n",
    "else:\n",
    "    print(\"String does not start with 'Hello'\")\n"
   ]
  },
  {
   "cell_type": "markdown",
   "id": "0bc5de9a-7932-49f0-8ff7-0fa0afec1a6b",
   "metadata": {},
   "source": [
    "10. How do you check if a string ends with a particular substring?"
   ]
  },
  {
   "cell_type": "code",
   "execution_count": 14,
   "id": "5e7944d5-1ffa-4780-8a33-7bb741dedaa4",
   "metadata": {},
   "outputs": [
    {
     "name": "stdout",
     "output_type": "stream",
     "text": [
      "String ends with 'World!'\n"
     ]
    }
   ],
   "source": [
    "string = \"Hello, World!\"\n",
    "if string.endswith(\"World!\"):\n",
    "    print(\"String ends with 'World!'\")\n",
    "else:\n",
    "    print(\"String does not end with 'World!'\")\n"
   ]
  },
  {
   "cell_type": "markdown",
   "id": "ebc2a6fb-7a9e-4580-b050-00d5c48b7141",
   "metadata": {},
   "source": [
    "11. How can you remove leading and trailing whitespace from a string?"
   ]
  },
  {
   "cell_type": "code",
   "execution_count": 15,
   "id": "7e15dba1-39ef-43bb-86c2-c9cc8631eb82",
   "metadata": {},
   "outputs": [
    {
     "name": "stdout",
     "output_type": "stream",
     "text": [
      "Python Programming\n"
     ]
    }
   ],
   "source": [
    "string = \"  Python Programming   \"\n",
    "stripped_string = string.strip()\n",
    "print(stripped_string)  # Output: \"Python Programming\"\n"
   ]
  },
  {
   "cell_type": "markdown",
   "id": "1fa23861-ce77-497a-8f8e-19198eab1af2",
   "metadata": {},
   "source": [
    "12. What method is used to find the index of the first occurrence of a substring within a string?"
   ]
  },
  {
   "cell_type": "code",
   "execution_count": 16,
   "id": "98d1f0bb-eb35-4d90-a6d5-77d5d97685d4",
   "metadata": {},
   "outputs": [
    {
     "name": "stdout",
     "output_type": "stream",
     "text": [
      "7\n"
     ]
    }
   ],
   "source": [
    "string = \"Hello, World!\"\n",
    "index = string.find(\"World\")\n",
    "print(index)  # Output: 7\n"
   ]
  },
  {
   "cell_type": "markdown",
   "id": "106ce555-79b0-46d8-87a2-3fc3db528aab",
   "metadata": {},
   "source": [
    "13. How can you count the number of occurrences of a substring within a string?"
   ]
  },
  {
   "cell_type": "code",
   "execution_count": 17,
   "id": "3109c980-045e-4f87-b8e2-f10647e6884a",
   "metadata": {},
   "outputs": [
    {
     "name": "stdout",
     "output_type": "stream",
     "text": [
      "2\n"
     ]
    }
   ],
   "source": [
    "string = \"Hello, World! Hello, Python!\"\n",
    "count = string.count(\"Hello\")\n",
    "print(count)  # Output: 2\n"
   ]
  },
  {
   "cell_type": "markdown",
   "id": "84e01000-8331-4e0f-b9e6-3efdf63ee8de",
   "metadata": {},
   "source": [
    "14.How do you check if a string contains only alphabetic characters?"
   ]
  },
  {
   "cell_type": "code",
   "execution_count": 18,
   "id": "4535f949-431d-4c4c-83b4-1bfa53a553e3",
   "metadata": {},
   "outputs": [
    {
     "name": "stdout",
     "output_type": "stream",
     "text": [
      "String contains only alphabetic characters\n"
     ]
    }
   ],
   "source": [
    "string = \"Python\"\n",
    "if string.isalpha():\n",
    "    print(\"String contains only alphabetic characters\")\n",
    "else:\n",
    "    print(\"String contains non-alphabetic characters\")\n"
   ]
  },
  {
   "cell_type": "markdown",
   "id": "ffb59f90-5cc0-4241-9a6c-f29d9b337739",
   "metadata": {},
   "source": [
    "15. How do you check if a string contains only numeric characters?"
   ]
  },
  {
   "cell_type": "code",
   "execution_count": 19,
   "id": "1000e821-47fd-429d-82bf-c956997b46b5",
   "metadata": {},
   "outputs": [
    {
     "name": "stdout",
     "output_type": "stream",
     "text": [
      "String contains only numeric characters\n"
     ]
    }
   ],
   "source": [
    "string = \"12345\"\n",
    "if string.isnumeric():\n",
    "    print(\"String contains only numeric characters\")\n",
    "else:\n",
    "    print(\"String contains non-numeric characters\")\n"
   ]
  },
  {
   "cell_type": "markdown",
   "id": "30b2f34f-b9a6-4966-b617-a832ed6da2b5",
   "metadata": {},
   "source": [
    "16. How can you check if a string is a palindrome?"
   ]
  },
  {
   "cell_type": "code",
   "execution_count": 20,
   "id": "7a21fbe2-5431-41ee-a9ef-6d6c923a7103",
   "metadata": {},
   "outputs": [
    {
     "name": "stdout",
     "output_type": "stream",
     "text": [
      "String is a palindrome\n"
     ]
    }
   ],
   "source": [
    "string = \"radar\"\n",
    "if string == string[::-1]:\n",
    "    print(\"String is a palindrome\")\n",
    "else:\n",
    "    print(\"String is not a palindrome\")\n"
   ]
  },
  {
   "cell_type": "markdown",
   "id": "07ece462-8416-48b0-8bac-71b901173091",
   "metadata": {},
   "source": [
    "17. How can you reverse a string in Python?\n"
   ]
  },
  {
   "cell_type": "code",
   "execution_count": 21,
   "id": "5e1cee56-bdf5-442e-a6cf-40fd066d6589",
   "metadata": {},
   "outputs": [
    {
     "name": "stdout",
     "output_type": "stream",
     "text": [
      "nohtyP\n"
     ]
    }
   ],
   "source": [
    "string = \"Python\"\n",
    "reversed_string = string[::-1]\n",
    "print(reversed_string)  # Output: \"nohtyP\"\n"
   ]
  },
  {
   "cell_type": "markdown",
   "id": "400fbb23-0a21-4b0b-94b6-33167784550e",
   "metadata": {},
   "source": [
    "18. How do you format a string with placeholders for variable values?"
   ]
  },
  {
   "cell_type": "code",
   "execution_count": 22,
   "id": "ff0275b3-da3e-4fed-8d63-bcdc07706757",
   "metadata": {},
   "outputs": [
    {
     "name": "stdout",
     "output_type": "stream",
     "text": [
      "My name is Alice and I am 30 years old\n"
     ]
    }
   ],
   "source": [
    "name = \"Alice\"\n",
    "age = 30\n",
    "formatted_string = \"My name is {} and I am {} years old\".format(name, age)\n",
    "print(formatted_string)  # Output: \"My name is Alice and I am 30 years old\"\n"
   ]
  },
  {
   "cell_type": "markdown",
   "id": "bfaa71dd-32ec-4a44-b1b1-7c8f98b22d1f",
   "metadata": {},
   "source": [
    "19. How do you access a substring of a string using slicing?"
   ]
  },
  {
   "cell_type": "code",
   "execution_count": 23,
   "id": "dfa0592c-fb0c-422d-bfdf-c266e3a3ce0b",
   "metadata": {},
   "outputs": [
    {
     "name": "stdout",
     "output_type": "stream",
     "text": [
      "tho\n"
     ]
    }
   ],
   "source": [
    "string = \"Python\"\n",
    "substring = string[2:5]\n",
    "print(substring)  # Output: \"tho\"\n"
   ]
  },
  {
   "cell_type": "markdown",
   "id": "4c0f5fac-8bd7-4334-ba72-990151a62f70",
   "metadata": {},
   "source": [
    "20. How can you remove specific characters from a string in Python?"
   ]
  },
  {
   "cell_type": "code",
   "execution_count": 25,
   "id": "3b9abb11-9a5e-46f8-bc8b-beef4ea25d83",
   "metadata": {},
   "outputs": [
    {
     "name": "stdout",
     "output_type": "stream",
     "text": [
      "Hello World\n"
     ]
    }
   ],
   "source": [
    "string = \"Hello, World!\"\n",
    "chars_to_remove = \",!\"\n",
    "for char in chars_to_remove:\n",
    "    string = string.replace(char, \"\")\n",
    "print(string)  # Output: \"Hello World\"\n"
   ]
  },
  {
   "cell_type": "code",
   "execution_count": null,
   "id": "5f60f9b9-70ba-4ddc-9f2c-6d498b36ee35",
   "metadata": {},
   "outputs": [],
   "source": []
  }
 ],
 "metadata": {
  "kernelspec": {
   "display_name": "Python 3 (ipykernel)",
   "language": "python",
   "name": "python3"
  },
  "language_info": {
   "codemirror_mode": {
    "name": "ipython",
    "version": 3
   },
   "file_extension": ".py",
   "mimetype": "text/x-python",
   "name": "python",
   "nbconvert_exporter": "python",
   "pygments_lexer": "ipython3",
   "version": "3.11.7"
  }
 },
 "nbformat": 4,
 "nbformat_minor": 5
}
