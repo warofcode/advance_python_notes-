{
 "cells": [
  {
   "cell_type": "markdown",
   "id": "0ee4f477-91a4-4de7-8b19-c231304f9a5c",
   "metadata": {},
   "source": [
    "Question1:\n",
    "\n",
    "you have to count number of Vowels in below string.\n",
    "\n",
    "You have a string:\n",
    "String = \"Hi i am learning Python\""
   ]
  },
  {
   "cell_type": "code",
   "execution_count": 15,
   "id": "e0d7690d-dd0c-407d-944c-ba1ea3100d36",
   "metadata": {},
   "outputs": [
    {
     "name": "stdout",
     "output_type": "stream",
     "text": [
      "Total count of i is : 7\n"
     ]
    }
   ],
   "source": [
    "string = \"Hi i am learning Python\"\n",
    "string_list = [\"a\",\"e\",\"i\",\"o\",\"u\",\"A\",\"E\",\"I\",\"O\",\"U\"]\n",
    "count=0\n",
    "for i in string:\n",
    "    if i in string_list:\n",
    "        count+=1\n",
    "\n",
    "print(\"Total count of i is :\",count)\n",
    "        "
   ]
  },
  {
   "cell_type": "markdown",
   "id": "5cd04ffe-3f77-4934-9e8f-87fb52203838",
   "metadata": {},
   "source": [
    "Question 2:\n",
    "\n",
    "Remove Duplicates:\n",
    "\n",
    "Write a Python Program which remove_duplicates Characters from a string."
   ]
  },
  {
   "cell_type": "code",
   "execution_count": 24,
   "id": "9909d1c3-e8a1-4d7e-a669-c0ce6a2d3de8",
   "metadata": {},
   "outputs": [
    {
     "name": "stdout",
     "output_type": "stream",
     "text": [
      "helo\n"
     ]
    }
   ],
   "source": [
    "String = \"helloworldd\"\n",
    "\n",
    "# Initialize an empty set to store unique characters\n",
    "unique_chars = set()\n",
    "\n",
    "# Initialize an empty string to store the result\n",
    "result = \"\"\n",
    "\n",
    "# Iterate through the characters in the input string\n",
    "for char in String:\n",
    "    # Check if the character is not already in the set of unique characters\n",
    "    if char not in unique_chars:\n",
    "        # Add the character to the set and append it to the result string\n",
    "        unique_chars.add(char)\n",
    "        result += char\n",
    "\n",
    "print(result)"
   ]
  },
  {
   "cell_type": "code",
   "execution_count": null,
   "id": "f84f8d93-20e2-4218-b0e9-bf76cd4dbfe9",
   "metadata": {},
   "outputs": [],
   "source": [
    "Write a program to reverse a string without using string method"
   ]
  },
  {
   "cell_type": "code",
   "execution_count": null,
   "id": "5599004d-57d9-4d26-a239-789d5b07b9ba",
   "metadata": {},
   "outputs": [],
   "source": []
  }
 ],
 "metadata": {
  "kernelspec": {
   "display_name": "Python 3 (ipykernel)",
   "language": "python",
   "name": "python3"
  },
  "language_info": {
   "codemirror_mode": {
    "name": "ipython",
    "version": 3
   },
   "file_extension": ".py",
   "mimetype": "text/x-python",
   "name": "python",
   "nbconvert_exporter": "python",
   "pygments_lexer": "ipython3",
   "version": "3.11.7"
  }
 },
 "nbformat": 4,
 "nbformat_minor": 5
}
