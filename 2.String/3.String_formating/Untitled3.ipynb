{
 "cells": [
  {
   "cell_type": "markdown",
   "id": "0ff837df-81b3-4a36-9625-6464106cfac7",
   "metadata": {},
   "source": [
    "String format"
   ]
  },
  {
   "cell_type": "code",
   "execution_count": 5,
   "id": "87ab0dd7-fd5e-403f-889a-ff48a55b4766",
   "metadata": {},
   "outputs": [],
   "source": [
    "name = \"ROhit\"\n",
    "subject = \"Python\"\n",
    "city = \"Noida\"\n",
    "\n",
    "document = \"I am name and my subject is subject and my location is city \"\n",
    "\n"
   ]
  },
  {
   "cell_type": "code",
   "execution_count": 6,
   "id": "2085c1d6-dc08-4105-9d84-fe4ed64bbfb6",
   "metadata": {},
   "outputs": [
    {
     "name": "stdout",
     "output_type": "stream",
     "text": [
      "I am name and my subject is subject and my location is city \n"
     ]
    }
   ],
   "source": [
    "print(document)"
   ]
  },
  {
   "cell_type": "markdown",
   "id": "cdffafc4-d5eb-42ff-a99c-d300f579571c",
   "metadata": {},
   "source": []
  },
  {
   "cell_type": "code",
   "execution_count": 8,
   "id": "167f09ac-fcf8-4ca0-984b-84b9821030f1",
   "metadata": {},
   "outputs": [],
   "source": [
    "name = \"ROhit\"\n",
    "subject = \"Python\"\n",
    "city = \"Noida\"\n",
    "\n",
    "document = \"I am name and my subject is subject and my location is city \"\n",
    "\n",
    "document = \"I am %s and my subject is %s and my location is %s \"%(name,subject,city)"
   ]
  },
  {
   "cell_type": "code",
   "execution_count": 9,
   "id": "ffdb6194-ab12-4b7e-a816-e19adb8e8386",
   "metadata": {},
   "outputs": [
    {
     "data": {
      "text/plain": [
       "'I am ROhit and my subject is Python and my location is Noida '"
      ]
     },
     "execution_count": 9,
     "metadata": {},
     "output_type": "execute_result"
    }
   ],
   "source": [
    "document"
   ]
  },
  {
   "cell_type": "code",
   "execution_count": 19,
   "id": "80aee788-84fa-4351-9550-a45e82584a0a",
   "metadata": {},
   "outputs": [],
   "source": [
    "name = \"ROhit\"\n",
    "subject = \"Python\"\n",
    "city = \"Noida\"\n",
    "\n",
    "document = \"I am {} and my subject is {} and my location is {}\".format(name,subject,city)"
   ]
  },
  {
   "cell_type": "code",
   "execution_count": 20,
   "id": "986a9302-aff0-4e1e-aedf-ec173272df13",
   "metadata": {},
   "outputs": [
    {
     "data": {
      "text/plain": [
       "'I am ROhit and my subject is Python and my location is Noida'"
      ]
     },
     "execution_count": 20,
     "metadata": {},
     "output_type": "execute_result"
    }
   ],
   "source": [
    "document"
   ]
  },
  {
   "cell_type": "code",
   "execution_count": 25,
   "id": "4482f213-fa20-4f04-aa6f-4da0d3548bd2",
   "metadata": {},
   "outputs": [],
   "source": [
    "name = \"ROhit\"\n",
    "subject = \"Python\"\n",
    "city = \"Noida\"\n",
    "\n",
    "document = f\"I am {name} and my subject is {subject} and my location is {city} \""
   ]
  },
  {
   "cell_type": "code",
   "execution_count": 26,
   "id": "09134c12-8ef8-4d8e-9fda-1bfa2f45ea10",
   "metadata": {},
   "outputs": [
    {
     "data": {
      "text/plain": [
       "'I am ROhit and my subject is Python and my location is Noida '"
      ]
     },
     "execution_count": 26,
     "metadata": {},
     "output_type": "execute_result"
    }
   ],
   "source": [
    "document"
   ]
  },
  {
   "cell_type": "code",
   "execution_count": null,
   "id": "048ab50b-2680-4e0a-80c3-aa98ddcd57c3",
   "metadata": {},
   "outputs": [],
   "source": []
  },
  {
   "cell_type": "code",
   "execution_count": 33,
   "id": "a96968d1-d560-4926-b995-c5ffc867456b",
   "metadata": {},
   "outputs": [
    {
     "name": "stdin",
     "output_type": "stream",
     "text": [
      "Enter candidate Name :  Mantasha\n",
      "Enter company name Ducat\n",
      "Enter job title Data Analayst\n"
     ]
    }
   ],
   "source": [
    "Candidate_name = input(\"Enter candidate Name : \")\n",
    "Company_name = input(\"Enter company name\")\n",
    "Your_Job_Title = input(\"Enter job title\")\n",
    "\n",
    "my_text = f\"\"\"\n",
    "Dear [{Candidate_name}],\n",
    "\n",
    "[{Company_name}] is delighted to offer you the [full-time, part-time, etc.] position of [job title] with an anticipated start date of [start date], contingent upon [background check, drug screening, etc.].\n",
    "\n",
    "As the [job title], you will be responsible for [brief mention of job responsibilities and expectations].\n",
    "\n",
    "You will report directly to [manager/supervisor name and title] at [workplace location]. Working hours are from [hours of day, days of week].\n",
    "\n",
    "The starting salary for this position is [dollar amount] per [hour, year, etc.]. Payment is on a [weekly, biweekly, monthly, etc.] basis by [direct deposit, check, etc.], starting on [date of first pay period]. In addition, you will be eligible to receive [discuss additional compensation potential].\n",
    "\n",
    "[Company name] offers a comprehensive benefits program, which includes [medical insurance, 401(k), paid time off, etc.].\n",
    "\n",
    "Your employment with [company name] will be on an at-will basis, which means you and the company are free to terminate employment at any time, with or without cause or advance notice. This letter is not a contract indicating employment terms or duration.\n",
    "\n",
    "Please confirm your acceptance of this offer by signing and returning this letter by [offer expiration date].\n",
    "\n",
    "Sincerely,\n",
    "\n",
    "[Your Signature]\n",
    "\n",
    "[Your Printed Name]\n",
    "[{Your_Job_Title}]\n",
    "\n",
    "Candidate Signature: ______________________________\n",
    "\n",
    "Candidate Printed Name: ______________________________\n",
    "\n",
    "Date: ______________________________\n",
    "\n",
    "\"\"\""
   ]
  },
  {
   "cell_type": "code",
   "execution_count": 46,
   "id": "a1409172-4731-4a65-84c6-90f75302aa10",
   "metadata": {},
   "outputs": [
    {
     "data": {
      "text/plain": [
       "'\\nDear [Mantasha],\\n\\n[Ducat] is delighted to offer you the [full-time, part-time, etc.] position of [job title] with an anticipated start date of [start date], contingent upon [background check, drug screening, etc.].\\n\\nAs the [job title], you will be responsible for [brief mention of job responsibilities and expectations].\\n\\nYou will report directly to [manager/supervisor name and title] at [workplace location]. Working hours are from [hours of day, days of week].\\n\\nThe starting salary for this position is [dollar amount] per [hour, year, etc.]. Payment is on a [weekly, biweekly, monthly, etc.] basis by [direct deposit, check, etc.], starting on [date of first pay period]. In addition, you will be eligible to receive [discuss additional compensation potential].\\n\\n[Company name] offers a comprehensive benefits program, which includes [medical insurance, 401(k), paid time off, etc.].\\n\\nYour employment with [company name] will be on an at-will basis, which means you and the company are free to terminate employment at any time, with or without cause or advance notice. This letter is not a contract indicating employment terms or duration.\\n\\nPlease confirm your acceptance of this offer by signing and returning this letter by [offer expiration date].\\n\\nSincerely,\\n\\n[Your Signature]\\n\\n[Your Printed Name]\\n[Data Analayst]\\n\\nCandidate Signature: ______________________________\\n\\nCandidate Printed Name: ______________________________\\n\\nDate: ______________________________\\n\\n'"
      ]
     },
     "execution_count": 46,
     "metadata": {},
     "output_type": "execute_result"
    }
   ],
   "source": [
    "print(my_text"
   ]
  },
  {
   "cell_type": "code",
   "execution_count": 38,
   "id": "e4ba9b3e-d444-46dd-ab4a-61379dd0d315",
   "metadata": {},
   "outputs": [],
   "source": [
    "def function_to_create_offerletter()\n",
    "    with open(\"offer_letter_mantasha.txt\",\"w\")as file:\n",
    "        file.write(my_text)"
   ]
  },
  {
   "cell_type": "code",
   "execution_count": 39,
   "id": "48caf7ea-9413-4c9c-9880-20c0b96a3739",
   "metadata": {},
   "outputs": [
    {
     "data": {
      "text/plain": [
       "'C:\\\\Users\\\\rkt65\\\\Desktop\\\\1Python_RexGalaxy_Clasess\\\\Python_class_notes\\\\2.String\\\\3.String_formating'"
      ]
     },
     "execution_count": 39,
     "metadata": {},
     "output_type": "execute_result"
    }
   ],
   "source": [
    "pwd"
   ]
  },
  {
   "cell_type": "code",
   "execution_count": null,
   "id": "a379cc7a-bcc1-4a63-999c-ef1c9c7639ff",
   "metadata": {},
   "outputs": [],
   "source": [
    "C:\\\\Users\\\\rkt65\\\\Desktop\\\\1Python_RexGalaxy_Clasess\\\\Python_class_notes\\\\2.String\\\\3.String_formating"
   ]
  },
  {
   "cell_type": "code",
   "execution_count": 41,
   "id": "9ccafb0c-bbf5-4886-9394-8f2da44180cf",
   "metadata": {},
   "outputs": [],
   "source": [
    "def function_to_create_offerletter():\n",
    "    with open(\"offer_letter_mantasha.pdf\",\"w\")as file:\n",
    "        file.write(my_text)"
   ]
  },
  {
   "cell_type": "code",
   "execution_count": 42,
   "id": "3aac6ead-7d2a-41b9-81d8-d16d5653adfe",
   "metadata": {},
   "outputs": [
    {
     "ename": "SyntaxError",
     "evalue": "(unicode error) 'unicodeescape' codec can't decode bytes in position 2-3: truncated \\UXXXXXXXX escape (4294124364.py, line 1)",
     "output_type": "error",
     "traceback": [
      "\u001b[1;36m  Cell \u001b[1;32mIn[42], line 1\u001b[1;36m\u001b[0m\n\u001b[1;33m    \"C:\\Users\\rkt65\\Desktop\\mongodbinsertmany.txt\"\u001b[0m\n\u001b[1;37m                                                  ^\u001b[0m\n\u001b[1;31mSyntaxError\u001b[0m\u001b[1;31m:\u001b[0m (unicode error) 'unicodeescape' codec can't decode bytes in position 2-3: truncated \\UXXXXXXXX escape\n"
     ]
    }
   ],
   "source": [
    "\"C:\\Users\\rkt65\\Desktop\\mongodbinsertmany.txt\""
   ]
  },
  {
   "cell_type": "code",
   "execution_count": 43,
   "id": "39b3b53f-b5ec-4ce2-a537-3a9aa04381b9",
   "metadata": {},
   "outputs": [],
   "source": [
    "import os"
   ]
  },
  {
   "cell_type": "code",
   "execution_count": 44,
   "id": "9b838156-0f44-492f-b394-71b11676fa3a",
   "metadata": {},
   "outputs": [],
   "source": [
    "import platform"
   ]
  },
  {
   "cell_type": "code",
   "execution_count": 45,
   "id": "341be121-423e-4471-b7c1-f05b7aa2700a",
   "metadata": {},
   "outputs": [
    {
     "data": {
      "text/plain": [
       "'Windows-10-10.0.19045-SP0'"
      ]
     },
     "execution_count": 45,
     "metadata": {},
     "output_type": "execute_result"
    }
   ],
   "source": [
    "platform.platform()"
   ]
  },
  {
   "cell_type": "code",
   "execution_count": null,
   "id": "46845e26-6ea1-473a-b2ad-0306e594b2cf",
   "metadata": {},
   "outputs": [],
   "source": []
  }
 ],
 "metadata": {
  "kernelspec": {
   "display_name": "Python 3 (ipykernel)",
   "language": "python",
   "name": "python3"
  },
  "language_info": {
   "codemirror_mode": {
    "name": "ipython",
    "version": 3
   },
   "file_extension": ".py",
   "mimetype": "text/x-python",
   "name": "python",
   "nbconvert_exporter": "python",
   "pygments_lexer": "ipython3",
   "version": "3.11.7"
  }
 },
 "nbformat": 4,
 "nbformat_minor": 5
}
