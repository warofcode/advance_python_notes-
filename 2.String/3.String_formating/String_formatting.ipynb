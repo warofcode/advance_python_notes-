{
 "cells": [
  {
   "cell_type": "code",
   "execution_count": 7,
   "id": "f63ab6f9",
   "metadata": {},
   "outputs": [
    {
     "name": "stdout",
     "output_type": "stream",
     "text": [
      "Hi name your age is age\n",
      "Hi Sachin your age is 25\n"
     ]
    }
   ],
   "source": [
    "name = \"Sachin\"\n",
    "age = 25\n",
    "\n",
    "message = \"Hi name your age is age\"\n",
    "message2 = \"Hi %s your age is %d\"%(name,age)\n",
    "\n",
    "print(message)\n",
    "print(message2)"
   ]
  },
  {
   "cell_type": "code",
   "execution_count": 8,
   "id": "9ca830a9",
   "metadata": {},
   "outputs": [
    {
     "name": "stdout",
     "output_type": "stream",
     "text": [
      "Hi Sachin your age is 25\n"
     ]
    }
   ],
   "source": [
    "name = \"Sachin\"\n",
    "age = 25\n",
    "\n",
    "message = \"Hi name your age is age\"\n",
    "message2 = \"Hi {} your age is {}\".format(name,age)\n",
    "print(message2)"
   ]
  },
  {
   "cell_type": "code",
   "execution_count": 10,
   "id": "f727aaa7",
   "metadata": {},
   "outputs": [
    {
     "name": "stdout",
     "output_type": "stream",
     "text": [
      "Hi your age is 25 and your name is Sachin\n"
     ]
    }
   ],
   "source": [
    "name = \"Sachin\"\n",
    "age = 25\n",
    "\n",
    "message = \"Hi name your age is age\"\n",
    "message2 = \"Hi your age is {1} and your name is {0}\".format(name,age)\n",
    "print(message2)"
   ]
  },
  {
   "cell_type": "code",
   "execution_count": 12,
   "id": "5865cc9e",
   "metadata": {},
   "outputs": [
    {
     "name": "stdout",
     "output_type": "stream",
     "text": [
      "Hi Sachin your age is 25\n"
     ]
    }
   ],
   "source": [
    "name = \"Sachin\"\n",
    "age = 25\n",
    "\n",
    "message = \"Hi name your age is age\"\n",
    "\n",
    "message2 = f\"Hi {name} your age is {age}\"\n",
    "\n",
    "print(message2)"
   ]
  },
  {
   "cell_type": "code",
   "execution_count": 3,
   "id": "2710b195",
   "metadata": {},
   "outputs": [
    {
     "name": "stdout",
     "output_type": "stream",
     "text": [
      "The value of the number is 3.1\n"
     ]
    }
   ],
   "source": [
    "number = 3.14159\n",
    "formatted_string = \"The value of the number is {:.1f}\".format(number)\n",
    "print(formatted_string)\n"
   ]
  },
  {
   "cell_type": "code",
   "execution_count": 4,
   "id": "65a3c689",
   "metadata": {
    "scrolled": true
   },
   "outputs": [
    {
     "ename": "SyntaxError",
     "evalue": "(unicode error) 'unicodeescape' codec can't decode bytes in position 2-3: truncated \\UXXXXXXXX escape (554691623.py, line 1)",
     "output_type": "error",
     "traceback": [
      "\u001b[1;36m  Cell \u001b[1;32mIn[4], line 1\u001b[1;36m\u001b[0m\n\u001b[1;33m    path = \"C:\\Users\\rkt65\\Desktop\\new_folder\\text_file.txt\"\u001b[0m\n\u001b[1;37m                                                            ^\u001b[0m\n\u001b[1;31mSyntaxError\u001b[0m\u001b[1;31m:\u001b[0m (unicode error) 'unicodeescape' codec can't decode bytes in position 2-3: truncated \\UXXXXXXXX escape\n"
     ]
    }
   ],
   "source": [
    "path = \"C:\\Users\\rkt65\\Desktop\\new_folder\\text_file.txt\"\n"
   ]
  },
  {
   "cell_type": "code",
   "execution_count": 5,
   "id": "2bc4b698-67f0-4f6a-a78b-e12e4183dc3a",
   "metadata": {},
   "outputs": [],
   "source": [
    "path = \"C:\\\\Users\\\\rkt65\\\\Desktop\\\\new_folder\\\\text_file.txt\""
   ]
  },
  {
   "cell_type": "code",
   "execution_count": 7,
   "id": "b6bd7b99-0c64-465b-8a61-eb8de007c518",
   "metadata": {},
   "outputs": [],
   "source": [
    "path = \"C:/Users/rkt65/Desktop/new_folder/text_file.txt\""
   ]
  },
  {
   "cell_type": "code",
   "execution_count": 8,
   "id": "b443b3ef-ad97-4c9e-9465-6731cc5269b6",
   "metadata": {},
   "outputs": [],
   "source": [
    "path = r\"C:\\Users\\rkt65\\Desktop\\new_folder\\text_file.txt\""
   ]
  },
  {
   "cell_type": "code",
   "execution_count": 15,
   "id": "2a928865-0002-4fcf-abc3-dfcd599062d0",
   "metadata": {},
   "outputs": [
    {
     "name": "stdout",
     "output_type": "stream",
     "text": [
      "python\\nthis\n"
     ]
    }
   ],
   "source": [
    "print(r\"python\\nthis\")"
   ]
  },
  {
   "cell_type": "code",
   "execution_count": 14,
   "id": "7f2725f2-db3f-4783-86b0-32e9308f42fb",
   "metadata": {},
   "outputs": [
    {
     "data": {
      "text/plain": [
       "'python\\nthis'"
      ]
     },
     "execution_count": 14,
     "metadata": {},
     "output_type": "execute_result"
    }
   ],
   "source": [
    "string"
   ]
  },
  {
   "cell_type": "code",
   "execution_count": 1,
   "id": "d1468537-7ae5-483a-9110-3c17067243ac",
   "metadata": {},
   "outputs": [
    {
     "data": {
      "text/plain": [
       "'C:\\\\Users\\\\rkt65\\\\Desktop\\\\1Python_RexGalaxy_Clasess\\\\Python_class_notes\\\\2.String\\\\3.String_formating'"
      ]
     },
     "execution_count": 1,
     "metadata": {},
     "output_type": "execute_result"
    }
   ],
   "source": [
    "pwd"
   ]
  },
  {
   "cell_type": "code",
   "execution_count": 15,
   "id": "c069aba0-35c7-459b-b1d5-e2917fa28300",
   "metadata": {},
   "outputs": [],
   "source": [
    "with open(\"C://Users//rkt65//Desktop//mongodbinsertmany.txt\") as file:\n",
    "    content  = file.read()"
   ]
  },
  {
   "cell_type": "code",
   "execution_count": 16,
   "id": "f888f3b9-7087-40ea-b49b-70153f56711a",
   "metadata": {},
   "outputs": [
    {
     "name": "stdout",
     "output_type": "stream",
     "text": [
      "create a database\n",
      "use database_name\n",
      "\n",
      "Show all available databases:\n",
      "show dbs;\n",
      "\n",
      "Select a particular database to access, e.g. mydb. This will create mydb if it does not already exist:\n",
      "use mydb;\n",
      "\n",
      "Show all collections in the database (be sure to select one first, see above):\n",
      "show collections;\n",
      "\n",
      "Show all functions that can be used with the database:\n",
      "db.mydb.help();\n",
      "\n",
      "To check your currently selected database, use the command db\n",
      "> db\n",
      "mydb\n",
      "\n",
      "command is used to drop a existing database.\n",
      "db.dropDatabase()\n",
      "\n",
      "\n",
      "\n",
      "\n",
      "# drop all databases in one go \n",
      "except mongodb reserved databases\n",
      "you can not delete 'admin','local','config'\n",
      "\n",
      "db.getMongo().getDBNames().filter(n => !['admin','local','config'].includes(n)).forEach(dname => db.getMongo().getDB(dname).dropDatabase());\n",
      "\n",
      "\n",
      "# find query with pretty \n",
      "db.rohit_collection.find().pretty()\n",
      "\n",
      "# filter queryies\n",
      "\n",
      "$lt: Less than\n",
      "$gte: Greater than or equal to\n",
      "$lte: Less than or equal to\n",
      "$eq: Equal to\n",
      "$ne: Not equal to\n",
      "$in: Matches any of the values specified in an array\n",
      "$nin: Matches none of the values specified in an array\n",
      "\n",
      "// check number of documents in collection \n",
      "\n",
      "db.collection.countDocuments({})               (Name of your collection)\n",
      "\n",
      "\n",
      "// user of operator\n",
      "db.rohit.find({ age: { $eq: 25 } })\n",
      "db.rohit.find({ age: { $ne: 30 } })\n",
      "db.collection.find({ age: { $gte: 35}})\n",
      "db.collection.find({ age: { $lte: 25}})\n",
      "db.collection.find({ age: { $eq: 25}})\n",
      "db.collection.find({ age: { $ne: 25}})\n",
      "db.collection.find({ age: { $ne: 25}})\n",
      "\n",
      "\n",
      "//$in (matches any of the values specified in an array):\n",
      "db.collection.find({ age: { $in: [25, 30, 35] }})\n",
      "\n",
      "//$nin (matches none of the values specified in an array):\n",
      "\n",
      "\n",
      "db.collection.find({ age: { $nin: [25, 30, 35]}})\n",
      "\n",
      "\n",
      "\n",
      "$and (logical AND)\n",
      "Find documents where the age is greater than 25 and the status is \"A\":\n",
      "\n",
      "\n",
      "db.rohit.find({ $and: [ { age: { $gt: 25 } }, { status: \"A\" } ] })\n",
      "\n",
      "\n",
      "Find documents where the age is greater than or equal to 25, and the status is either \"A\" or \"B\", but not equal to \"C\":\n",
      "\n",
      "db.rohit.find({$and: [{ age: { $gte: 25 } },{ $or: [{ status: \"A\" },{ status: \"B\" }]},{ status: { $ne: \"C\" }}]})\n",
      "\n",
      "\n",
      "\n",
      "\n",
      "\n",
      "$nor (logical NOR)\n",
      "Find documents where neither the age is greater than 25 nor the status is \"A\":\n",
      "\n",
      "\n",
      "db.rohit.find({ $nor: [ { age: { $gt: 25 } }, { status: \"A\" } ] })\n",
      "\n",
      "\n",
      "\n",
      "# find only names where age is greater than 30\n",
      "\n",
      "db.collection.find({ age: { $gt: 30 } }, { _id: 0, name: 1 }).forEach(function(doc) {print(doc.name);});\n",
      "\n",
      "\n",
      "\n",
      "\n",
      "\n",
      "\n",
      "\n",
      "\n",
      "\n",
      "\n",
      "\n",
      "\n",
      "\n"
     ]
    }
   ],
   "source": [
    "print(content)"
   ]
  },
  {
   "cell_type": "code",
   "execution_count": 17,
   "id": "75f6de64-c988-4f03-b146-35d04205e8f0",
   "metadata": {},
   "outputs": [
    {
     "name": "stdout",
     "output_type": "stream",
     "text": [
      "rohit sachin ram@"
     ]
    }
   ],
   "source": [
    "print(\"rohit\",end = \" \")\n",
    "print(\"sachin\",end = \" \")\n",
    "print(\"ram\",end = \"@\")"
   ]
  },
  {
   "cell_type": "code",
   "execution_count": null,
   "id": "ef8e096f-b6d6-46c0-9000-e922aa51aebe",
   "metadata": {},
   "outputs": [],
   "source": [
    "open(\"String_formatting.ipynb\")"
   ]
  },
  {
   "cell_type": "code",
   "execution_count": null,
   "id": "14374c9d-5d15-40fc-b0a3-4a76c7c4d72a",
   "metadata": {},
   "outputs": [],
   "source": []
  },
  {
   "cell_type": "code",
   "execution_count": null,
   "id": "962ab6f2-16a2-40a4-a84a-b9bceefafff9",
   "metadata": {},
   "outputs": [],
   "source": []
  },
  {
   "cell_type": "code",
   "execution_count": null,
   "id": "777a66b2-040b-45a1-910d-cb205cd8f559",
   "metadata": {},
   "outputs": [],
   "source": [
    "\n"
   ]
  },
  {
   "cell_type": "code",
   "execution_count": null,
   "id": "63b64e9b-c372-4566-b082-f5c47027d617",
   "metadata": {},
   "outputs": [],
   "source": []
  },
  {
   "cell_type": "code",
   "execution_count": null,
   "id": "7590f770-e05c-45f8-a880-3d45107565fa",
   "metadata": {},
   "outputs": [],
   "source": []
  },
  {
   "cell_type": "code",
   "execution_count": null,
   "id": "c00034cd-5fa8-4f00-980c-bb650f4a773c",
   "metadata": {},
   "outputs": [],
   "source": [
    "\n"
   ]
  }
 ],
 "metadata": {
  "kernelspec": {
   "display_name": "Python 3 (ipykernel)",
   "language": "python",
   "name": "python3"
  },
  "language_info": {
   "codemirror_mode": {
    "name": "ipython",
    "version": 3
   },
   "file_extension": ".py",
   "mimetype": "text/x-python",
   "name": "python",
   "nbconvert_exporter": "python",
   "pygments_lexer": "ipython3",
   "version": "3.11.7"
  }
 },
 "nbformat": 4,
 "nbformat_minor": 5
}
