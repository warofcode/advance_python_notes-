{
 "cells": [
  {
   "cell_type": "code",
   "execution_count": 40,
   "id": "07fb3543-30b5-4212-9016-212f73b91d0f",
   "metadata": {},
   "outputs": [
    {
     "name": "stdin",
     "output_type": "stream",
     "text": [
      "please enter your name  rohit\n"
     ]
    },
    {
     "name": "stdout",
     "output_type": "stream",
     "text": [
      "Welcome back Rohit\n"
     ]
    }
   ],
   "source": [
    "name = input(\"please enter your name \").capitalize()\n",
    "# name = name.capitalize()\n",
    "string = \"Welcome back %s\"%(name)\n",
    "\n",
    "\n",
    "\n",
    "\n",
    "print(string)"
   ]
  },
  {
   "cell_type": "code",
   "execution_count": 46,
   "id": "9417a453-ba86-4f43-a1ff-34a0f7af20fb",
   "metadata": {},
   "outputs": [
    {
     "name": "stdin",
     "output_type": "stream",
     "text": [
      "Please enter your name :  rohit\n"
     ]
    },
    {
     "name": "stdout",
     "output_type": "stream",
     "text": [
      "Hi Python rohit 12\n"
     ]
    }
   ],
   "source": [
    "user_input = input(\"Please enter your name : \")\n",
    "number = 12\n",
    "class1 = \"Python\"\n",
    "string = \"Hi {2} {0} {1}\".format(user_input,number,class1)\n",
    "print(string)"
   ]
  },
  {
   "cell_type": "code",
   "execution_count": 47,
   "id": "49ae4a63-3cad-4209-a11a-51452a12a58e",
   "metadata": {},
   "outputs": [
    {
     "name": "stdout",
     "output_type": "stream",
     "text": [
      "Hi Rohit how are you. Your location will be Noida\n"
     ]
    }
   ],
   "source": [
    "city = \"Noida\"\n",
    "name = \"Rohit\"\n",
    "\n",
    "string = f\"Hi {name} how are you. Your location will be {city}\"\n",
    "print(string)"
   ]
  },
  {
   "cell_type": "code",
   "execution_count": null,
   "id": "aab6f68f-938d-45d5-b1ee-ef105539985d",
   "metadata": {},
   "outputs": [],
   "source": []
  },
  {
   "cell_type": "code",
   "execution_count": null,
   "id": "87637b4c-02fb-4bef-9c24-af7c76c4a6d3",
   "metadata": {},
   "outputs": [],
   "source": []
  },
  {
   "cell_type": "code",
   "execution_count": null,
   "id": "56c8f3e0-454e-4462-98f9-6aed7d793088",
   "metadata": {},
   "outputs": [],
   "source": []
  },
  {
   "cell_type": "code",
   "execution_count": null,
   "id": "d26ebb5d-c637-4c31-a0ea-6ae9f6083819",
   "metadata": {},
   "outputs": [],
   "source": []
  },
  {
   "cell_type": "code",
   "execution_count": 38,
   "id": "ba45602e-9089-4702-a693-b67fda5bf776",
   "metadata": {},
   "outputs": [
    {
     "name": "stdout",
     "output_type": "stream",
     "text": [
      "Welcome back rohit\n"
     ]
    }
   ],
   "source": [
    "print(string)"
   ]
  },
  {
   "cell_type": "code",
   "execution_count": 16,
   "id": "d31dd757-e145-4957-9e2c-c73f10a3d68c",
   "metadata": {},
   "outputs": [
    {
     "name": "stdin",
     "output_type": "stream",
     "text": [
      "Enter your user name :  rohit\n"
     ]
    },
    {
     "ename": "ValueError",
     "evalue": "invalid literal for int() with base 10: 'rohit'",
     "output_type": "error",
     "traceback": [
      "\u001b[1;31m---------------------------------------------------------------------------\u001b[0m",
      "\u001b[1;31mValueError\u001b[0m                                Traceback (most recent call last)",
      "Cell \u001b[1;32mIn[16], line 1\u001b[0m\n\u001b[1;32m----> 1\u001b[0m user_input \u001b[38;5;241m=\u001b[39m\u001b[38;5;28mint\u001b[39m(\u001b[38;5;28minput\u001b[39m(\u001b[38;5;124m\"\u001b[39m\u001b[38;5;124mEnter your user name : \u001b[39m\u001b[38;5;124m\"\u001b[39m))\n\u001b[0;32m      2\u001b[0m \u001b[38;5;28mprint\u001b[39m(user_input)\n",
      "\u001b[1;31mValueError\u001b[0m: invalid literal for int() with base 10: 'rohit'"
     ]
    }
   ],
   "source": [
    "user_input =int(input(\"Enter your user name : \n",
    "\n",
    "print(user_input)"
   ]
  },
  {
   "cell_type": "code",
   "execution_count": 15,
   "id": "81032d71-e49d-465b-afee-dcba93194b1e",
   "metadata": {},
   "outputs": [
    {
     "data": {
      "text/plain": [
       "int"
      ]
     },
     "execution_count": 15,
     "metadata": {},
     "output_type": "execute_result"
    }
   ],
   "source": [
    "type(user_input) \n"
   ]
  },
  {
   "cell_type": "code",
   "execution_count": 12,
   "id": "4c6fee14-eaf0-41a6-b18c-2f19462129b5",
   "metadata": {},
   "outputs": [],
   "source": [
    "user_input = int(user_input)"
   ]
  },
  {
   "cell_type": "code",
   "execution_count": 13,
   "id": "e34c6884-3994-4275-8dc3-0c92d274f471",
   "metadata": {},
   "outputs": [
    {
     "data": {
      "text/plain": [
       "int"
      ]
     },
     "execution_count": 13,
     "metadata": {},
     "output_type": "execute_result"
    }
   ],
   "source": [
    "type(user_input)"
   ]
  },
  {
   "cell_type": "code",
   "execution_count": 17,
   "id": "7bf7072d-5bde-4d86-a521-415c0c40fc08",
   "metadata": {},
   "outputs": [
    {
     "name": "stdout",
     "output_type": "stream",
     "text": [
      "Requirement already satisfied: pyinputplus in c:\\users\\rkt65\\anaconda3\\lib\\site-packages (0.2.12)\n",
      "Requirement already satisfied: pysimplevalidate>=0.2.7 in c:\\users\\rkt65\\anaconda3\\lib\\site-packages (from pyinputplus) (0.2.12)\n",
      "Requirement already satisfied: stdiomask>=0.0.3 in c:\\users\\rkt65\\anaconda3\\lib\\site-packages (from pyinputplus) (0.0.6)\n",
      "Note: you may need to restart the kernel to use updated packages.\n"
     ]
    }
   ],
   "source": [
    "pip install pyinputplus"
   ]
  },
  {
   "cell_type": "code",
   "execution_count": 19,
   "id": "34e19f7d-f992-4816-876f-08c07a0a609d",
   "metadata": {},
   "outputs": [
    {
     "name": "stdout",
     "output_type": "stream",
     "text": [
      "Please enter your pin"
     ]
    },
    {
     "name": "stdin",
     "output_type": "stream",
     "text": [
      " dfdgh2\n"
     ]
    },
    {
     "name": "stdout",
     "output_type": "stream",
     "text": [
      "'dfdgh2' is not an integer.\n",
      "Please enter your pin"
     ]
    },
    {
     "name": "stdin",
     "output_type": "stream",
     "text": [
      " hdfd2\n"
     ]
    },
    {
     "name": "stdout",
     "output_type": "stream",
     "text": [
      "'hdfd2' is not an integer.\n",
      "Please enter your pin"
     ]
    },
    {
     "name": "stdin",
     "output_type": "stream",
     "text": [
      " hjdfj\n"
     ]
    },
    {
     "name": "stdout",
     "output_type": "stream",
     "text": [
      "'hjdfj' is not an integer.\n",
      "Please enter your pin"
     ]
    },
    {
     "name": "stdin",
     "output_type": "stream",
     "text": [
      " 33dhfj'\n"
     ]
    },
    {
     "name": "stdout",
     "output_type": "stream",
     "text": [
      "\"33dhfj'\" is not an integer.\n",
      "Please enter your pin"
     ]
    },
    {
     "name": "stdin",
     "output_type": "stream",
     "text": [
      " jdfjh\n"
     ]
    },
    {
     "name": "stdout",
     "output_type": "stream",
     "text": [
      "'jdfjh' is not an integer.\n",
      "Please enter your pin"
     ]
    },
    {
     "name": "stdin",
     "output_type": "stream",
     "text": [
      " dfd\n"
     ]
    },
    {
     "name": "stdout",
     "output_type": "stream",
     "text": [
      "'dfd' is not an integer.\n",
      "Please enter your pin"
     ]
    },
    {
     "name": "stdin",
     "output_type": "stream",
     "text": [
      " dhfjdh''\n"
     ]
    },
    {
     "name": "stdout",
     "output_type": "stream",
     "text": [
      "\"dhfjdh''\" is not an integer.\n",
      "Please enter your pin"
     ]
    },
    {
     "name": "stdin",
     "output_type": "stream",
     "text": [
      " 1234\n"
     ]
    },
    {
     "name": "stdout",
     "output_type": "stream",
     "text": [
      "your user input is 1234\n"
     ]
    }
   ],
   "source": [
    "import pyinputplus\n",
    "user_input = pyinputplus.inputInt(\"Please enter your pin\")\n",
    "print(\"your user input is\",user_input)"
   ]
  },
  {
   "cell_type": "code",
   "execution_count": 50,
   "id": "5b01ce0f-f34a-41ad-91ee-2c69eba74ba9",
   "metadata": {},
   "outputs": [
    {
     "name": "stdout",
     "output_type": "stream",
     "text": [
      "The value of the number is 3.1\n"
     ]
    }
   ],
   "source": [
    "number = 3.14159\n",
    "formatted_string = \"The value of the number is {:.1f}\".format(number)\n",
    "print(formatted_string)"
   ]
  },
  {
   "cell_type": "code",
   "execution_count": 54,
   "id": "42985a12-9f08-4ac3-976f-2577896df8a9",
   "metadata": {},
   "outputs": [
    {
     "name": "stdout",
     "output_type": "stream",
     "text": [
      "rohit@Dcucat.com\n",
      "Sachin@Dcucat.com\n",
      "vishal@Dcucat.com\n",
      "Shahil@Dcucat.com\n"
     ]
    }
   ],
   "source": [
    "first_name = \"rohit\"\n",
    "\n",
    "list1 = [\"rohit\",\"Sachin\",\"vishal\",\"Shahil\"]\n",
    "for item in list1:\n",
    "    \n",
    "    print(item,\"Dcucat.com\",sep = \"@\")\n"
   ]
  },
  {
   "cell_type": "code",
   "execution_count": null,
   "id": "6d5b4752-5dd2-4228-a212-09065836171e",
   "metadata": {},
   "outputs": [],
   "source": []
  }
 ],
 "metadata": {
  "kernelspec": {
   "display_name": "Python 3 (ipykernel)",
   "language": "python",
   "name": "python3"
  },
  "language_info": {
   "codemirror_mode": {
    "name": "ipython",
    "version": 3
   },
   "file_extension": ".py",
   "mimetype": "text/x-python",
   "name": "python",
   "nbconvert_exporter": "python",
   "pygments_lexer": "ipython3",
   "version": "3.11.7"
  }
 },
 "nbformat": 4,
 "nbformat_minor": 5
}
