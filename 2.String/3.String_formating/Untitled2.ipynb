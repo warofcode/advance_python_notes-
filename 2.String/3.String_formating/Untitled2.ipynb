{
 "cells": [
  {
   "cell_type": "markdown",
   "id": "c99ca9ac-948c-48dc-ac42-d727ba7b885d",
   "metadata": {},
   "source": [
    "write a prog to add two num"
   ]
  },
  {
   "cell_type": "code",
   "execution_count": 1,
   "id": "67ee9f3e-7423-4264-a094-87d7e675e66f",
   "metadata": {},
   "outputs": [
    {
     "name": "stdout",
     "output_type": "stream",
     "text": [
      "thisthis\n"
     ]
    }
   ],
   "source": [
    "print(\"this\"+\"this\")"
   ]
  },
  {
   "cell_type": "markdown",
   "id": "3204a2a7-a399-4860-a018-df96370f962c",
   "metadata": {},
   "source": [
    "write a prog to add two num"
   ]
  },
  {
   "cell_type": "code",
   "execution_count": 2,
   "id": "64e8eea3-373c-4a09-bb17-e9ad1eb11c65",
   "metadata": {},
   "outputs": [
    {
     "ename": "AttributeError",
     "evalue": "module 'keyword' has no attribute 'kwlis'",
     "output_type": "error",
     "traceback": [
      "\u001b[1;31m---------------------------------------------------------------------------\u001b[0m",
      "\u001b[1;31mAttributeError\u001b[0m                            Traceback (most recent call last)",
      "Cell \u001b[1;32mIn[2], line 2\u001b[0m\n\u001b[0;32m      1\u001b[0m \u001b[38;5;28;01mimport\u001b[39;00m \u001b[38;5;21;01mkeyword\u001b[39;00m\n\u001b[1;32m----> 2\u001b[0m keyword\u001b[38;5;241m.\u001b[39mkwlis\n",
      "\u001b[1;31mAttributeError\u001b[0m: module 'keyword' has no attribute 'kwlis'"
     ]
    }
   ],
   "source": [
    "import keyword\n",
    "keyword.kwlis"
   ]
  },
  {
   "cell_type": "code",
   "execution_count": null,
   "id": "f2358a8f-6744-495c-9749-d339f1241cb5",
   "metadata": {},
   "outputs": [],
   "source": [
    "name = 'Chandan'\n",
    "class1 = \"Python\"\n",
    "number1 = 12\n",
    "number2 = 13\n",
    "string = f\"My name is {name} and my  is {class1} my total + of number is {number1+number2}\"\n",
    "\n",
    "print(string)"
   ]
  },
  {
   "cell_type": "code",
   "execution_count": null,
   "id": "b808aceb-3712-4431-a027-38b84c3ccfc4",
   "metadata": {},
   "outputs": [],
   "source": [
    "print(\"hello\",end='_')\n",
    "print(\"python\")\n",
    "print(\"This\")"
   ]
  },
  {
   "cell_type": "code",
   "execution_count": null,
   "id": "0ee7507a-f814-44e0-9073-78fa08a7639c",
   "metadata": {},
   "outputs": [],
   "source": [
    "print(\"hello\",\"Python\",sep='         @           ')"
   ]
  },
  {
   "cell_type": "code",
   "execution_count": null,
   "id": "dc80623a-f8fe-4286-a582-59d2ad4a9620",
   "metadata": {},
   "outputs": [],
   "source": [
    "print(\"Hello i m learning \\'python\\'\")"
   ]
  },
  {
   "cell_type": "code",
   "execution_count": null,
   "id": "538baa1f-cd98-4d38-98c1-b1d8e9b5b8e2",
   "metadata": {},
   "outputs": [],
   "source": [
    "print(\"\"\"this \"hi\"  \"\"\")"
   ]
  },
  {
   "cell_type": "code",
   "execution_count": null,
   "id": "c03168f9-dbc8-4415-97e9-3d412f2ec845",
   "metadata": {},
   "outputs": [],
   "source": [
    "print(\"this \\nthat\")"
   ]
  },
  {
   "cell_type": "code",
   "execution_count": null,
   "id": "2602136d-f49b-4507-a35a-7f41abcbf9bf",
   "metadata": {},
   "outputs": [],
   "source": [
    "print(\"this\\tthat\")"
   ]
  },
  {
   "cell_type": "code",
   "execution_count": null,
   "id": "c24053fa-b7bc-4a2f-bf05-7e33cfcd3617",
   "metadata": {},
   "outputs": [],
   "source": [
    "print(\"python\\njava\\nc++\")"
   ]
  },
  {
   "cell_type": "code",
   "execution_count": null,
   "id": "eaf11529-0c6a-4810-9bda-0801081f029c",
   "metadata": {},
   "outputs": [],
   "source": [
    "print(\"Helloo\\t\\b\\n\\t world\")"
   ]
  },
  {
   "cell_type": "code",
   "execution_count": null,
   "id": "5ec29070-3c13-471e-ade3-a4491da5df9b",
   "metadata": {},
   "outputs": [],
   "source": [
    "file = open(r\"C:\\Users\\rkt65\\Desktop\\New folder (2)\\example1.txt\",\"r\")\n"
   ]
  },
  {
   "cell_type": "code",
   "execution_count": null,
   "id": "ca7ae291-0593-4b6c-8cdb-ada8a87eb8dd",
   "metadata": {},
   "outputs": [],
   "source": [
    "file.readline()"
   ]
  },
  {
   "cell_type": "code",
   "execution_count": null,
   "id": "8eb30393-ad0a-43da-8c73-1bacedda3637",
   "metadata": {},
   "outputs": [],
   "source": [
    "file.readline()"
   ]
  },
  {
   "cell_type": "code",
   "execution_count": null,
   "id": "bc807c48-eb6f-4260-9870-68575832be2b",
   "metadata": {},
   "outputs": [],
   "source": [
    "file.readline()"
   ]
  },
  {
   "cell_type": "code",
   "execution_count": null,
   "id": "715161c8-66c3-4e1c-8937-391ab4f82266",
   "metadata": {},
   "outputs": [],
   "source": [
    "file.readline()"
   ]
  },
  {
   "cell_type": "code",
   "execution_count": null,
   "id": "04d6b540-7a2e-4086-8421-ddc5745e1619",
   "metadata": {},
   "outputs": [],
   "source": [
    "file.readline()"
   ]
  },
  {
   "cell_type": "code",
   "execution_count": null,
   "id": "04879d3f-3146-4a71-a9cb-e1972aa9266e",
   "metadata": {},
   "outputs": [],
   "source": [
    "file.close()"
   ]
  },
  {
   "cell_type": "code",
   "execution_count": null,
   "id": "7673ebf9-68a9-43ac-8498-0c93f649c2fa",
   "metadata": {},
   "outputs": [],
   "source": []
  }
 ],
 "metadata": {
  "kernelspec": {
   "display_name": "Python 3 (ipykernel)",
   "language": "python",
   "name": "python3"
  },
  "language_info": {
   "codemirror_mode": {
    "name": "ipython",
    "version": 3
   },
   "file_extension": ".py",
   "mimetype": "text/x-python",
   "name": "python",
   "nbconvert_exporter": "python",
   "pygments_lexer": "ipython3",
   "version": "3.11.7"
  }
 },
 "nbformat": 4,
 "nbformat_minor": 5
}
