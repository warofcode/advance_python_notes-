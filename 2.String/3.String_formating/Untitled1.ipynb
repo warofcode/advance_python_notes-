{
 "cells": [
  {
   "cell_type": "code",
   "execution_count": 1,
   "id": "34fbd3fd-6bd1-4478-9615-8709a08e3859",
   "metadata": {},
   "outputs": [
    {
     "ename": "SyntaxError",
     "evalue": "unexpected character after line continuation character (1203896581.py, line 1)",
     "output_type": "error",
     "traceback": [
      "\u001b[1;36m  Cell \u001b[1;32mIn[1], line 1\u001b[1;36m\u001b[0m\n\u001b[1;33m    \\n\u001b[0m\n\u001b[1;37m     ^\u001b[0m\n\u001b[1;31mSyntaxError\u001b[0m\u001b[1;31m:\u001b[0m unexpected character after line continuation character\n"
     ]
    }
   ],
   "source": [
    "\\n\n",
    "\\t\n",
    "\\\\\n",
    "\\'\n",
    "\\\"\"\n",
    "\\r\n"
   ]
  },
  {
   "cell_type": "code",
   "execution_count": 7,
   "id": "c911b96c-d6dc-4989-a881-d17a1c62ef3c",
   "metadata": {},
   "outputs": [
    {
     "name": "stdout",
     "output_type": "stream",
     "text": [
      "ROhit Tyagi\n"
     ]
    }
   ],
   "source": [
    "print(\"ROhit\",end=' ')\n",
    "print(\"Tyagi\")"
   ]
  },
  {
   "cell_type": "code",
   "execution_count": 10,
   "id": "446cbaaf-6c98-4dbb-8263-9e6e0b714914",
   "metadata": {},
   "outputs": [
    {
     "name": "stdout",
     "output_type": "stream",
     "text": [
      "hi\trohit\n"
     ]
    }
   ],
   "source": [
    "print(\"hi\\trohit\")"
   ]
  },
  {
   "cell_type": "code",
   "execution_count": 12,
   "id": "93ae626d-a824-4d42-81d6-f684ffb4993d",
   "metadata": {},
   "outputs": [
    {
     "name": "stdout",
     "output_type": "stream",
     "text": [
      "r\n"
     ]
    }
   ],
   "source": [
    "print(\"ro\\b\")"
   ]
  },
  {
   "cell_type": "code",
   "execution_count": 13,
   "id": "75d5f89b-c419-4f5f-b858-f7b31eeff0bf",
   "metadata": {},
   "outputs": [
    {
     "ename": "NameError",
     "evalue": "name 'roht' is not defined",
     "output_type": "error",
     "traceback": [
      "\u001b[1;31m---------------------------------------------------------------------------\u001b[0m",
      "\u001b[1;31mNameError\u001b[0m                                 Traceback (most recent call last)",
      "Cell \u001b[1;32mIn[13], line 1\u001b[0m\n\u001b[1;32m----> 1\u001b[0m roht\n",
      "\u001b[1;31mNameError\u001b[0m: name 'roht' is not defined"
     ]
    }
   ],
   "source": [
    "roht"
   ]
  },
  {
   "cell_type": "code",
   "execution_count": 16,
   "id": "61fc1fa1-4b8a-4df7-b76b-8a088c3cecd9",
   "metadata": {},
   "outputs": [
    {
     "name": "stdout",
     "output_type": "stream",
     "text": [
      "We are learning \"Python\"\n"
     ]
    }
   ],
   "source": [
    "string = \"We are learning \\\"Python\\\"\"\n",
    "print(string)"
   ]
  },
  {
   "cell_type": "code",
   "execution_count": 18,
   "id": "20916eca-a1f6-41fc-af2e-fafadf9981f1",
   "metadata": {},
   "outputs": [
    {
     "ename": "SyntaxError",
     "evalue": "(unicode error) 'unicodeescape' codec can't decode bytes in position 2-3: truncated \\UXXXXXXXX escape (447341474.py, line 1)",
     "output_type": "error",
     "traceback": [
      "\u001b[1;36m  Cell \u001b[1;32mIn[18], line 1\u001b[1;36m\u001b[0m\n\u001b[1;33m    link = \"C:\\Users\\rkt65\\Desktop\\today_class\\new.txt\"\u001b[0m\n\u001b[1;37m                                                       ^\u001b[0m\n\u001b[1;31mSyntaxError\u001b[0m\u001b[1;31m:\u001b[0m (unicode error) 'unicodeescape' codec can't decode bytes in position 2-3: truncated \\UXXXXXXXX escape\n"
     ]
    }
   ],
   "source": [
    "link = \"C:\\Users\\rkt65\\Desktop\\today_class\\new.txt\""
   ]
  },
  {
   "cell_type": "code",
   "execution_count": 26,
   "id": "f1f4de31-a418-4c4f-8ae5-ac7d5b3e22bc",
   "metadata": {},
   "outputs": [
    {
     "name": "stdout",
     "output_type": "stream",
     "text": [
      "Python class ROhit\n"
     ]
    }
   ],
   "source": [
    "with open(r\"C:\\Users\\rkt65\\Desktop\\today_class\\new.txt\",\"r\") as file:\n",
    "    content = file.read()\n",
    "\n",
    "print(content)"
   ]
  },
  {
   "cell_type": "code",
   "execution_count": 25,
   "id": "4931dd5b-b8bf-4e74-ac96-c65edf19bf0e",
   "metadata": {},
   "outputs": [
    {
     "name": "stdout",
     "output_type": "stream",
     "text": [
      "\n",
      "ew.txt\n"
     ]
    }
   ],
   "source": [
    "print(\"\\new.txt\")\n"
   ]
  },
  {
   "cell_type": "code",
   "execution_count": null,
   "id": "5d6c0d7f-a8fe-4082-8a26-76c3ca2a229b",
   "metadata": {},
   "outputs": [],
   "source": []
  }
 ],
 "metadata": {
  "kernelspec": {
   "display_name": "Python 3 (ipykernel)",
   "language": "python",
   "name": "python3"
  },
  "language_info": {
   "codemirror_mode": {
    "name": "ipython",
    "version": 3
   },
   "file_extension": ".py",
   "mimetype": "text/x-python",
   "name": "python",
   "nbconvert_exporter": "python",
   "pygments_lexer": "ipython3",
   "version": "3.11.7"
  }
 },
 "nbformat": 4,
 "nbformat_minor": 5
}
