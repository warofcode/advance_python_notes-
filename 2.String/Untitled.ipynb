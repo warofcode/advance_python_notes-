{
 "cells": [
  {
   "cell_type": "code",
   "execution_count": 24,
   "id": "4c4a6581-1a3c-4af4-a77f-4a635e7c0ba0",
   "metadata": {},
   "outputs": [
    {
     "name": "stdin",
     "output_type": "stream",
     "text": [
      "Please enter your passowrd :  dfhdfdfdfjdhj\n",
      "Please enter your passowrd :  dfjkd\n"
     ]
    },
    {
     "ename": "ValueError",
     "evalue": "invalid literal for int() with base 10: 'dfjkd'",
     "output_type": "error",
     "traceback": [
      "\u001b[1;31m---------------------------------------------------------------------------\u001b[0m",
      "\u001b[1;31mValueError\u001b[0m                                Traceback (most recent call last)",
      "Cell \u001b[1;32mIn[24], line 2\u001b[0m\n\u001b[0;32m      1\u001b[0m number1 \u001b[38;5;241m=\u001b[39m \u001b[38;5;28minput\u001b[39m(\u001b[38;5;124m\"\u001b[39m\u001b[38;5;124mPlease enter your passowrd : \u001b[39m\u001b[38;5;124m\"\u001b[39m)\n\u001b[1;32m----> 2\u001b[0m number2 \u001b[38;5;241m=\u001b[39m \u001b[38;5;28mint\u001b[39m(\u001b[38;5;28minput\u001b[39m(\u001b[38;5;124m\"\u001b[39m\u001b[38;5;124mPlease enter your passowrd : \u001b[39m\u001b[38;5;124m\"\u001b[39m))\n\u001b[0;32m      4\u001b[0m total  \u001b[38;5;241m=\u001b[39m number1\u001b[38;5;241m+\u001b[39mnumber2\n\u001b[0;32m      6\u001b[0m \u001b[38;5;28mprint\u001b[39m(\u001b[38;5;124m\"\u001b[39m\u001b[38;5;124mTOtal of your numbers is : \u001b[39m\u001b[38;5;124m\"\u001b[39m,total)\n",
      "\u001b[1;31mValueError\u001b[0m: invalid literal for int() with base 10: 'dfjkd'"
     ]
    }
   ],
   "source": [
    "number1 = input(\"Please enter your passowrd : \")\n",
    "number2 = int(input(\"Please enter your passowrd : \"))\n",
    "\n",
    "total  = number1+number2\n",
    "\n",
    "print(\"TOtal of your numbers is : \",total)\n",
    "\n"
   ]
  },
  {
   "cell_type": "code",
   "execution_count": 4,
   "id": "7644847c-f75f-4d8d-9274-8048af54bff3",
   "metadata": {},
   "outputs": [
    {
     "data": {
      "text/plain": [
       "str"
      ]
     },
     "execution_count": 4,
     "metadata": {},
     "output_type": "execute_result"
    }
   ],
   "source": [
    "type(user_password)"
   ]
  },
  {
   "cell_type": "code",
   "execution_count": 5,
   "id": "de33f67a-94ed-4d9a-90b8-fa28521e3042",
   "metadata": {},
   "outputs": [
    {
     "data": {
      "text/plain": [
       "24"
      ]
     },
     "execution_count": 5,
     "metadata": {},
     "output_type": "execute_result"
    }
   ],
   "source": [
    "12 +12"
   ]
  },
  {
   "cell_type": "code",
   "execution_count": 6,
   "id": "4764847a-2fcf-406c-b57a-0fc7b8fc7c07",
   "metadata": {},
   "outputs": [
    {
     "data": {
      "text/plain": [
       "'1212'"
      ]
     },
     "execution_count": 6,
     "metadata": {},
     "output_type": "execute_result"
    }
   ],
   "source": [
    "\"12\" +\"12\""
   ]
  },
  {
   "cell_type": "code",
   "execution_count": 8,
   "id": "7b154ee4-cfa4-4bbc-bf02-8aad24c3aa4e",
   "metadata": {},
   "outputs": [
    {
     "data": {
      "text/plain": [
       "'rohit45'"
      ]
     },
     "execution_count": 8,
     "metadata": {},
     "output_type": "execute_result"
    }
   ],
   "source": [
    "name + user_password"
   ]
  },
  {
   "cell_type": "code",
   "execution_count": 9,
   "id": "43887afa-31fe-425f-a39d-a26f3a01494a",
   "metadata": {},
   "outputs": [
    {
     "ename": "TypeError",
     "evalue": "unsupported operand type(s) for +: 'int' and 'str'",
     "output_type": "error",
     "traceback": [
      "\u001b[1;31m---------------------------------------------------------------------------\u001b[0m",
      "\u001b[1;31mTypeError\u001b[0m                                 Traceback (most recent call last)",
      "Cell \u001b[1;32mIn[9], line 1\u001b[0m\n\u001b[1;32m----> 1\u001b[0m \u001b[38;5;241m12\u001b[39m \u001b[38;5;241m+\u001b[39m \u001b[38;5;124m\"\u001b[39m\u001b[38;5;124mrohit\u001b[39m\u001b[38;5;124m\"\u001b[39m\n",
      "\u001b[1;31mTypeError\u001b[0m: unsupported operand type(s) for +: 'int' and 'str'"
     ]
    }
   ],
   "source": [
    "12 + \"rohit\""
   ]
  },
  {
   "cell_type": "code",
   "execution_count": 10,
   "id": "bfaadd03-bde3-43fc-a48f-8e29301237d3",
   "metadata": {},
   "outputs": [
    {
     "data": {
      "text/plain": [
       "str"
      ]
     },
     "execution_count": 10,
     "metadata": {},
     "output_type": "execute_result"
    }
   ],
   "source": [
    "number  = \"12\"\n",
    "type(number)"
   ]
  },
  {
   "cell_type": "code",
   "execution_count": 11,
   "id": "71d6ef87-f0f6-4f09-946f-45a8b2b20b56",
   "metadata": {},
   "outputs": [],
   "source": [
    "number = int(number)"
   ]
  },
  {
   "cell_type": "code",
   "execution_count": 12,
   "id": "a4be74b7-d1be-4551-a844-410a159838f3",
   "metadata": {},
   "outputs": [
    {
     "data": {
      "text/plain": [
       "int"
      ]
     },
     "execution_count": 12,
     "metadata": {},
     "output_type": "execute_result"
    }
   ],
   "source": [
    "type(number)"
   ]
  },
  {
   "cell_type": "code",
   "execution_count": 15,
   "id": "623e1c04-7ceb-4fbb-b130-3bab18327871",
   "metadata": {},
   "outputs": [
    {
     "data": {
      "text/plain": [
       "24"
      ]
     },
     "execution_count": 15,
     "metadata": {},
     "output_type": "execute_result"
    }
   ],
   "source": [
    "int(\"12\") + 12"
   ]
  },
  {
   "cell_type": "code",
   "execution_count": null,
   "id": "bbbb04cc-3cf0-4818-be00-a443c4cfb711",
   "metadata": {},
   "outputs": [],
   "source": [
    "int(\"rohit\")"
   ]
  },
  {
   "cell_type": "code",
   "execution_count": 22,
   "id": "66182eb5-30bd-4dbc-8cdc-e9b04c7886ab",
   "metadata": {},
   "outputs": [],
   "source": [
    "import pyinputplus"
   ]
  },
  {
   "cell_type": "code",
   "execution_count": 23,
   "id": "3966caad-752a-4d63-8729-65587f86bd56",
   "metadata": {},
   "outputs": [
    {
     "name": "stdout",
     "output_type": "stream",
     "text": [
      "Requirement already satisfied: PyInputPlus in c:\\users\\rkt65\\anaconda3\\lib\\site-packages (0.2.12)\n",
      "Requirement already satisfied: pysimplevalidate>=0.2.7 in c:\\users\\rkt65\\anaconda3\\lib\\site-packages (from PyInputPlus) (0.2.12)\n",
      "Requirement already satisfied: stdiomask>=0.0.3 in c:\\users\\rkt65\\anaconda3\\lib\\site-packages (from PyInputPlus) (0.0.6)\n",
      "Note: you may need to restart the kernel to use updated packages.\n"
     ]
    }
   ],
   "source": [
    "pip install PyInputPlus"
   ]
  },
  {
   "cell_type": "code",
   "execution_count": 27,
   "id": "d247a487-d7c8-437f-a27d-97caab87b941",
   "metadata": {},
   "outputs": [],
   "source": [
    "import pyinputplus as pyin"
   ]
  },
  {
   "cell_type": "code",
   "execution_count": 29,
   "id": "bce0c7ef-c7a2-403a-bcc1-b48e2d66c401",
   "metadata": {},
   "outputs": [
    {
     "name": "stdout",
     "output_type": "stream",
     "text": [
      "Enter your email : "
     ]
    },
    {
     "name": "stdin",
     "output_type": "stream",
     "text": [
      " rohit@\n"
     ]
    },
    {
     "name": "stdout",
     "output_type": "stream",
     "text": [
      "'rohit@' is not a valid email address.\n",
      "Enter your email : "
     ]
    },
    {
     "name": "stdin",
     "output_type": "stream",
     "text": [
      " rohit@gamil\n"
     ]
    },
    {
     "name": "stdout",
     "output_type": "stream",
     "text": [
      "'rohit@gamil' is not a valid email address.\n",
      "Enter your email : "
     ]
    },
    {
     "name": "stdin",
     "output_type": "stream",
     "text": [
      " rohit.kumar@gmail.com\n"
     ]
    }
   ],
   "source": [
    "user_email = pyin.(\"Enter your email : \")"
   ]
  },
  {
   "cell_type": "markdown",
   "id": "0d9e9c5e-6b4e-4ee7-b31d-6e21d88db4fc",
   "metadata": {},
   "source": [
    "# string"
   ]
  },
  {
   "cell_type": "code",
   "execution_count": 42,
   "id": "e505cb25-0d22-49c2-91a4-7dff52764a53",
   "metadata": {},
   "outputs": [],
   "source": [
    "string = \"rOHit\""
   ]
  },
  {
   "cell_type": "code",
   "execution_count": 43,
   "id": "176f092e-1fcc-48b6-91e9-8e8081f1d538",
   "metadata": {},
   "outputs": [
    {
     "data": {
      "text/plain": [
       "'Rohit'"
      ]
     },
     "execution_count": 43,
     "metadata": {},
     "output_type": "execute_result"
    }
   ],
   "source": [
    "string.capitalize()"
   ]
  },
  {
   "cell_type": "code",
   "execution_count": 40,
   "id": "b4530cd1-778e-4f25-a46d-fef26d30db5d",
   "metadata": {},
   "outputs": [],
   "source": [
    "string = [1,2,3,]"
   ]
  },
  {
   "cell_type": "code",
   "execution_count": 35,
   "id": "4bae51b6-1f3c-4607-a7bf-74450cdc8fe6",
   "metadata": {},
   "outputs": [
    {
     "ename": "SyntaxError",
     "evalue": "invalid syntax (1280888391.py, line 1)",
     "output_type": "error",
     "traceback": [
      "\u001b[1;36m  Cell \u001b[1;32mIn[35], line 1\u001b[1;36m\u001b[0m\n\u001b[1;33m    string.\u001b[0m\n\u001b[1;37m           ^\u001b[0m\n\u001b[1;31mSyntaxError\u001b[0m\u001b[1;31m:\u001b[0m invalid syntax\n"
     ]
    }
   ],
   "source": [
    "string."
   ]
  },
  {
   "cell_type": "code",
   "execution_count": 69,
   "id": "61b0d68d-1fa4-4f4b-8192-ac9937e6198d",
   "metadata": {},
   "outputs": [
    {
     "name": "stdin",
     "output_type": "stream",
     "text": [
      "Enter your name : 124\n"
     ]
    },
    {
     "name": "stdout",
     "output_type": "stream",
     "text": [
      "Hi  124 How may i help you\n"
     ]
    }
   ],
   "source": [
    "first_name = input(\"Enter your name :\").capitalize()\n",
    "print(\"Hi \",first_name,\"How may i help you\")"
   ]
  },
  {
   "cell_type": "code",
   "execution_count": 45,
   "id": "00c1120a-9740-40c9-9cbd-a6c3dcb97dae",
   "metadata": {},
   "outputs": [],
   "source": [
    "string = \"pyThon\""
   ]
  },
  {
   "cell_type": "code",
   "execution_count": 46,
   "id": "edc2ceda-fc77-42b2-8d40-88c3b2aad985",
   "metadata": {},
   "outputs": [
    {
     "data": {
      "text/plain": [
       "'Python'"
      ]
     },
     "execution_count": 46,
     "metadata": {},
     "output_type": "execute_result"
    }
   ],
   "source": [
    "string.capitalize()"
   ]
  },
  {
   "cell_type": "code",
   "execution_count": 47,
   "id": "a6fdffb4-31cd-40f4-ac19-791d1ea88a15",
   "metadata": {},
   "outputs": [
    {
     "data": {
      "text/plain": [
       "'python'"
      ]
     },
     "execution_count": 47,
     "metadata": {},
     "output_type": "execute_result"
    }
   ],
   "source": [
    "string.casefold()"
   ]
  },
  {
   "cell_type": "code",
   "execution_count": 57,
   "id": "d8d777a1-0ecf-434f-9663-21bf92efcbd9",
   "metadata": {},
   "outputs": [
    {
     "data": {
      "text/plain": [
       "'_______________________________________________pyThon_______________________________________________'"
      ]
     },
     "execution_count": 57,
     "metadata": {},
     "output_type": "execute_result"
    }
   ],
   "source": [
    "string.center(100,'_')"
   ]
  },
  {
   "cell_type": "code",
   "execution_count": 65,
   "id": "35331dfd-b28c-498c-9066-d6381e0f9a02",
   "metadata": {},
   "outputs": [
    {
     "data": {
      "text/plain": [
       "1"
      ]
     },
     "execution_count": 65,
     "metadata": {},
     "output_type": "execute_result"
    }
   ],
   "source": [
    "string  = \"My name is rohit name is name and this is name my\"\n",
    "\n",
    "string.count('My')"
   ]
  },
  {
   "cell_type": "code",
   "execution_count": 66,
   "id": "f8525e1b-9c72-4a2e-8103-109dee17d559",
   "metadata": {},
   "outputs": [
    {
     "name": "stdout",
     "output_type": "stream",
     "text": [
      "65\n"
     ]
    }
   ],
   "source": [
    "print((ord('A')))"
   ]
  },
  {
   "cell_type": "code",
   "execution_count": 68,
   "id": "ff692ad9-290d-4472-9e15-fa281b9fa0fd",
   "metadata": {},
   "outputs": [
    {
     "name": "stdout",
     "output_type": "stream",
     "text": [
      "90\n"
     ]
    }
   ],
   "source": [
    "print((ord('Z')))"
   ]
  },
  {
   "cell_type": "code",
   "execution_count": 70,
   "id": "49bf5049-3897-4f33-af1c-d6d59137377d",
   "metadata": {},
   "outputs": [
    {
     "data": {
      "text/plain": [
       "b'My name is rohit name is name and this is name my'"
      ]
     },
     "execution_count": 70,
     "metadata": {},
     "output_type": "execute_result"
    }
   ],
   "source": [
    "string.encode()"
   ]
  },
  {
   "cell_type": "code",
   "execution_count": 71,
   "id": "7f126c12-f73d-4ad0-8297-d72b302cb8de",
   "metadata": {},
   "outputs": [
    {
     "data": {
      "text/plain": [
       "'My name is rohit name is name and this is name my'"
      ]
     },
     "execution_count": 71,
     "metadata": {},
     "output_type": "execute_result"
    }
   ],
   "source": [
    "string"
   ]
  },
  {
   "cell_type": "code",
   "execution_count": 73,
   "id": "eaf5040f-0469-4a63-bf71-9d4ca4286a5b",
   "metadata": {},
   "outputs": [
    {
     "data": {
      "text/plain": [
       "True"
      ]
     },
     "execution_count": 73,
     "metadata": {},
     "output_type": "execute_result"
    }
   ],
   "source": [
    "string.endswith(\"y\")"
   ]
  },
  {
   "cell_type": "code",
   "execution_count": 74,
   "id": "8ddf4ed0-11ff-4553-b81e-91224509de21",
   "metadata": {},
   "outputs": [
    {
     "data": {
      "text/plain": [
       "True"
      ]
     },
     "execution_count": 74,
     "metadata": {},
     "output_type": "execute_result"
    }
   ],
   "source": [
    "string.startswith(\"M\")"
   ]
  },
  {
   "cell_type": "code",
   "execution_count": 75,
   "id": "f0b30a52-f0d6-4725-ad38-634f4ca40500",
   "metadata": {},
   "outputs": [
    {
     "data": {
      "text/plain": [
       "'My naTe is rohit naTe is naTe and this is naTe Ty'"
      ]
     },
     "execution_count": 75,
     "metadata": {},
     "output_type": "execute_result"
    }
   ],
   "source": [
    "string.replace(\"m\",\"T\")"
   ]
  },
  {
   "cell_type": "code",
   "execution_count": 89,
   "id": "323fc33d-6ecc-4c83-b118-12132e7c5e0a",
   "metadata": {},
   "outputs": [],
   "source": [
    "import tkinter as tk\n",
    "import webbrowser"
   ]
  },
  {
   "cell_type": "code",
   "execution_count": 92,
   "id": "f479cedc-02ba-48ab-84fb-30d20482d1e4",
   "metadata": {},
   "outputs": [],
   "source": [
    "def login():\n",
    "    return webbrowser.open(\"www.google.com\")\n",
    "    \n",
    "\n",
    "root = tk.Tk()\n",
    "root.geometry(\"500x500\")\n",
    "root.title(\"Login App\")\n",
    "\n",
    "\n",
    "button = tk.Button(root,text = \"Login\",background = \"lightgreen\",command = login)\n",
    "button.grid(row=0,column =1,padx = 50,pady = 50)\n",
    "\n",
    "\n",
    "root.mainloop()"
   ]
  },
  {
   "cell_type": "code",
   "execution_count": 93,
   "id": "c1bdc7bc-33e0-4063-afd7-40f9de0a7ae0",
   "metadata": {},
   "outputs": [
    {
     "ename": "SyntaxError",
     "evalue": "invalid syntax (1280888391.py, line 1)",
     "output_type": "error",
     "traceback": [
      "\u001b[1;36m  Cell \u001b[1;32mIn[93], line 1\u001b[1;36m\u001b[0m\n\u001b[1;33m    string.\u001b[0m\n\u001b[1;37m           ^\u001b[0m\n\u001b[1;31mSyntaxError\u001b[0m\u001b[1;31m:\u001b[0m invalid syntax\n"
     ]
    }
   ],
   "source": [
    "string.zfill"
   ]
  },
  {
   "cell_type": "code",
   "execution_count": null,
   "id": "06adb0a9-3bdf-4aed-8aa9-f5ce7676cc84",
   "metadata": {},
   "outputs": [],
   "source": []
  }
 ],
 "metadata": {
  "kernelspec": {
   "display_name": "Python 3 (ipykernel)",
   "language": "python",
   "name": "python3"
  },
  "language_info": {
   "codemirror_mode": {
    "name": "ipython",
    "version": 3
   },
   "file_extension": ".py",
   "mimetype": "text/x-python",
   "name": "python",
   "nbconvert_exporter": "python",
   "pygments_lexer": "ipython3",
   "version": "3.11.7"
  }
 },
 "nbformat": 4,
 "nbformat_minor": 5
}
