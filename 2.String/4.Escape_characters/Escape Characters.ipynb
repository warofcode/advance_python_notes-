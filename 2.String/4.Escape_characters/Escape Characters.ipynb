{
 "cells": [
  {
   "cell_type": "markdown",
   "id": "cc300df7-1d04-49e2-9437-2e23347b9e18",
   "metadata": {},
   "source": [
    "1. \\' (single quote character.)"
   ]
  },
  {
   "cell_type": "raw",
   "id": "02bc02df-a99e-4228-914b-208a4c5f3c2c",
   "metadata": {},
   "source": [
    "\n",
    "Represents a single quote character. Similar to \\\", it allows you to include single quotes within a string that is enclosed by single quotes.\n"
   ]
  },
  {
   "cell_type": "code",
   "execution_count": 1,
   "id": "647c94ed-d7d2-4102-9823-fc1d82ea6008",
   "metadata": {},
   "outputs": [
    {
     "ename": "SyntaxError",
     "evalue": "invalid syntax. Perhaps you forgot a comma? (883792800.py, line 1)",
     "output_type": "error",
     "traceback": [
      "\u001b[1;36m  Cell \u001b[1;32mIn[1], line 1\u001b[1;36m\u001b[0m\n\u001b[1;33m    print('I am learning 'Python' ')\u001b[0m\n\u001b[1;37m          ^\u001b[0m\n\u001b[1;31mSyntaxError\u001b[0m\u001b[1;31m:\u001b[0m invalid syntax. Perhaps you forgot a comma?\n"
     ]
    }
   ],
   "source": [
    "print('I am learning 'Python' ')"
   ]
  },
  {
   "cell_type": "code",
   "execution_count": 2,
   "id": "dff6b9f6-92e0-4277-ba33-745a57333626",
   "metadata": {},
   "outputs": [
    {
     "name": "stdout",
     "output_type": "stream",
     "text": [
      "I am learning 'Python'\n"
     ]
    }
   ],
   "source": [
    "print('I am learning \\'Python\\'')"
   ]
  },
  {
   "cell_type": "markdown",
   "id": "aa833363-f68f-4d3d-888f-dc6ccb1362ae",
   "metadata": {},
   "source": [
    "2.\\\\\"(double quote character )"
   ]
  },
  {
   "cell_type": "code",
   "execution_count": 3,
   "id": "6bc40574-5f26-4c95-a8e8-ab603f8adc45",
   "metadata": {},
   "outputs": [
    {
     "name": "stdout",
     "output_type": "stream",
     "text": [
      "I am learning \"Python\"\n"
     ]
    }
   ],
   "source": [
    "print(\"I am learning \\\"Python\\\"\")"
   ]
  },
  {
   "cell_type": "markdown",
   "id": "f3f51df1-b005-4668-9f53-6bb3b2dca22d",
   "metadata": {},
   "source": [
    "3.\\n (newline character)"
   ]
  },
  {
   "cell_type": "markdown",
   "id": "159e0f53-ede5-4957-a0a5-d24b437ccb72",
   "metadata": {},
   "source": [
    "Represents a newline character. When used within a string, it moves the cursor to the beginning of the next line."
   ]
  },
  {
   "cell_type": "code",
   "execution_count": 4,
   "id": "0383cc6f-7f90-48e1-9692-dac2622d9bfb",
   "metadata": {},
   "outputs": [
    {
     "name": "stdout",
     "output_type": "stream",
     "text": [
      "pythonjavac++\n",
      "python\n",
      "java\n",
      "c++\n"
     ]
    }
   ],
   "source": [
    "print(\"pythonjavac++\")\n",
    "print(\"python\\njava\\nc++\")"
   ]
  },
  {
   "cell_type": "markdown",
   "id": "ccae21b1-82ab-42b2-a8f8-c03356dae815",
   "metadata": {},
   "source": [
    "Note: why below code everytime printing from new line.\n",
    "\n",
    "Answer: because of newline charcter. lets see how...."
   ]
  },
  {
   "cell_type": "code",
   "execution_count": 5,
   "id": "dbe7764f-9d9e-4043-80a9-1fe636bfe6be",
   "metadata": {},
   "outputs": [
    {
     "name": "stdout",
     "output_type": "stream",
     "text": [
      "python\n",
      "java\n",
      "c++\n"
     ]
    }
   ],
   "source": [
    "print(\"python\") # press shift + tab + tab (tab two time it will show you documentation)\n",
    "print(\"java\")\n",
    "print(\"c++\")\n",
    "\n",
    "# lets try to print this in a single line "
   ]
  },
  {
   "cell_type": "code",
   "execution_count": 6,
   "id": "b56448ca-d55b-474e-a32a-468f070394fc",
   "metadata": {},
   "outputs": [
    {
     "name": "stdout",
     "output_type": "stream",
     "text": [
      "python java c++\n"
     ]
    }
   ],
   "source": [
    "print(\"python\",end=' ') # press shift + tab + tab (tab two time it will show you documentation)\n",
    "print(\"java\",end=' ')\n",
    "print(\"c++\")\n",
    "# now you can see that we have replaced end = '\\n' with end = ' '"
   ]
  },
  {
   "cell_type": "markdown",
   "id": "ad295ddf-d8dc-4678-9bc3-ba12358fc9c8",
   "metadata": {},
   "source": [
    "4.\\t (tab character)"
   ]
  },
  {
   "cell_type": "markdown",
   "id": "bb561373-213d-438b-b61d-63bf88669801",
   "metadata": {},
   "source": [
    "Represents a tab character. It inserts a tab space into the string."
   ]
  },
  {
   "cell_type": "code",
   "execution_count": 7,
   "id": "4be85496-1661-4860-956a-647cb5d73544",
   "metadata": {},
   "outputs": [
    {
     "name": "stdout",
     "output_type": "stream",
     "text": [
      "PythonJavaC++\n",
      "Python\tJava\tC++\n"
     ]
    }
   ],
   "source": [
    "print(\"PythonJavaC++\")\n",
    "\n",
    "print(\"Python\\tJava\\tC++\")\n"
   ]
  },
  {
   "cell_type": "markdown",
   "id": "6ca9eb5c-629e-4a4f-b34e-29a80424b45b",
   "metadata": {},
   "source": [
    "5.\\b: (backspace character.)"
   ]
  },
  {
   "cell_type": "markdown",
   "id": "8ff37c63-9cb5-4a4b-b470-a59e9e7f7732",
   "metadata": {},
   "source": [
    " It moves the cursor one position backward, effectively erasing the character before it."
   ]
  },
  {
   "cell_type": "markdown",
   "id": "0d126dc4-32db-4e0f-874d-3b932ff09890",
   "metadata": {},
   "source": [
    "."
   ]
  },
  {
   "cell_type": "code",
   "execution_count": 8,
   "id": "522b2393-ddb0-4579-9f59-8cab5b09c827",
   "metadata": {},
   "outputs": [
    {
     "name": "stdout",
     "output_type": "stream",
     "text": [
      "Helloworld\n"
     ]
    }
   ],
   "source": [
    "# Backspace\n",
    "print(\"Helloo\\bworld\")\n"
   ]
  },
  {
   "cell_type": "markdown",
   "id": "d7cd4648-8513-4bd2-9aa2-7fc8a4aae60a",
   "metadata": {},
   "source": [
    "A raw string in Python is a string literal prefixed with the letter r (or R). When you create a raw string, Python treats backslashes (\\) as literal characters rather than as escape characters. This means that backslashes are not interpreted as the start of escape sequences.\n",
    "\n",
    "Here's an example to illustrate the difference between a regular string and a raw string:"
   ]
  },
  {
   "cell_type": "markdown",
   "id": "ed586a5d-0661-44e8-bfd7-d7aff4bb6c5f",
   "metadata": {},
   "source": [
    "."
   ]
  },
  {
   "cell_type": "markdown",
   "id": "499fb734-f74f-4b6e-a6b1-9542da2e8593",
   "metadata": {},
   "source": [
    "6.\\ (backslash)"
   ]
  },
  {
   "cell_type": "code",
   "execution_count": 9,
   "id": "3a7a59cf-9f17-4e00-b797-abc15fc50132",
   "metadata": {},
   "outputs": [
    {
     "name": "stdout",
     "output_type": "stream",
     "text": [
      "C:\\Users\\Username\\Documents\\file.txt\n"
     ]
    }
   ],
   "source": [
    "# Using backslash in a file path\n",
    "file_path = \"C:\\\\Users\\\\Username\\\\Documents\\\\file.txt\"\n",
    "print(file_path)\n"
   ]
  },
  {
   "cell_type": "markdown",
   "id": "4bdd0810-15fd-41e3-a4c0-0785ba960eff",
   "metadata": {},
   "source": [
    "7.Raw_string"
   ]
  },
  {
   "cell_type": "markdown",
   "id": "e9ac9782-ca09-4718-b918-222a5496735d",
   "metadata": {},
   "source": [
    "Raw strings are particularly useful when dealing with regular expressions, file paths, or any other situation where backslashes might occur frequently and you want to avoid the need to escape them manually."
   ]
  },
  {
   "cell_type": "code",
   "execution_count": 10,
   "id": "808937f1-c345-4715-bcb7-79f1aaf787e1",
   "metadata": {},
   "outputs": [
    {
     "name": "stdout",
     "output_type": "stream",
     "text": [
      "Hi \n",
      " python hi \n",
      " java\n"
     ]
    }
   ],
   "source": [
    "# Regular string\n",
    "regular_string = \"Hi \\n python hi \\n java\"\n",
    "print(regular_string)\n"
   ]
  },
  {
   "cell_type": "code",
   "execution_count": 11,
   "id": "795e7ef0-4bb5-4bc3-a144-2f001e5bd615",
   "metadata": {},
   "outputs": [
    {
     "name": "stdout",
     "output_type": "stream",
     "text": [
      "Hi \\n python hi \\n java\n"
     ]
    }
   ],
   "source": [
    "# raw string (here we want to avoid the escape charachters)\n",
    "raw_string = r\"Hi \\n python hi \\n java\"\n",
    "print(raw_string)  "
   ]
  },
  {
   "cell_type": "markdown",
   "id": "37fcc852-f5cb-48a6-b1b2-a8554288ec50",
   "metadata": {},
   "source": [
    "Working with file path"
   ]
  },
  {
   "cell_type": "code",
   "execution_count": 12,
   "id": "8286a113-db46-4c4e-b5a8-760105227565",
   "metadata": {},
   "outputs": [
    {
     "ename": "SyntaxError",
     "evalue": "(unicode error) 'unicodeescape' codec can't decode bytes in position 2-3: truncated \\UXXXXXXXX escape (1967459975.py, line 1)",
     "output_type": "error",
     "traceback": [
      "\u001b[1;36m  Cell \u001b[1;32mIn[12], line 1\u001b[1;36m\u001b[0m\n\u001b[1;33m    filepath = \"C:\\Users\\rkt65\\Desktop\\rawstring\\rohit.txt\"\u001b[0m\n\u001b[1;37m                                                           ^\u001b[0m\n\u001b[1;31mSyntaxError\u001b[0m\u001b[1;31m:\u001b[0m (unicode error) 'unicodeescape' codec can't decode bytes in position 2-3: truncated \\UXXXXXXXX escape\n"
     ]
    }
   ],
   "source": [
    "filepath = \"C:\\Users\\rkt65\\Desktop\\rawstring\\rohit.txt\"\n",
    "\n",
    "with open(filepath) as file:\n",
    "    content = file.read()\n",
    "\n",
    "print(content)"
   ]
  },
  {
   "cell_type": "markdown",
   "id": "7ad05c8d-de55-4b99-bb01-cf9c05e89dc6",
   "metadata": {},
   "source": [
    "Now we have 3 options to make it correct"
   ]
  },
  {
   "cell_type": "markdown",
   "id": "431499ad-c6a8-4d4d-ab27-f7569cbf388b",
   "metadata": {},
   "source": [
    "1. Use double backslash"
   ]
  },
  {
   "cell_type": "code",
   "execution_count": 13,
   "id": "fd7688c3-4f46-4745-b709-81cab9045ffe",
   "metadata": {},
   "outputs": [
    {
     "name": "stdout",
     "output_type": "stream",
     "text": [
      "Hi i am learning python.\n"
     ]
    }
   ],
   "source": [
    "filepath = \"C:\\\\Users\\\\rkt65\\\\Desktop\\\\rawstring\\\\rohit.txt\"\n",
    "\n",
    "with open(filepath) as file:\n",
    "    content = file.read()\n",
    "\n",
    "print(content)"
   ]
  },
  {
   "cell_type": "markdown",
   "id": "33cffe5d-f616-43bd-b09a-bce55ced9dc6",
   "metadata": {},
   "source": [
    "2.Instead of Backslash use forward slash (/)"
   ]
  },
  {
   "cell_type": "code",
   "execution_count": 16,
   "id": "8dc6104a-2f23-490d-9f56-c5fed8af788d",
   "metadata": {},
   "outputs": [
    {
     "name": "stdout",
     "output_type": "stream",
     "text": [
      "Hi i am learning python.\n"
     ]
    }
   ],
   "source": [
    "filepath = \"C:/Users/rkt65/Desktop/rawstring/rohit.txt\"\n",
    "\n",
    "with open(filepath) as file:\n",
    "    content = file.read()\n",
    "\n",
    "print(content)"
   ]
  },
  {
   "cell_type": "markdown",
   "id": "e3297ed7-be2b-4a8e-9993-29fd36154a48",
   "metadata": {},
   "source": [
    "3.You can use raw String"
   ]
  },
  {
   "cell_type": "code",
   "execution_count": 21,
   "id": "52686656-73ff-4fda-bb00-d9d76da2e651",
   "metadata": {},
   "outputs": [
    {
     "name": "stdout",
     "output_type": "stream",
     "text": [
      "Hi i am learning python.\n"
     ]
    }
   ],
   "source": [
    "file_path = r\"C:\\Users\\rkt65\\Desktop\\rawstring\\rohit.txt\"   # or capital R\n",
    "\n",
    "with open(filepath) as file:\n",
    "    content = file.read()\n",
    "\n",
    "print(content)"
   ]
  },
  {
   "cell_type": "code",
   "execution_count": null,
   "id": "dcf43555-3d8a-4f5a-92ce-dc57d2461155",
   "metadata": {},
   "outputs": [],
   "source": []
  },
  {
   "cell_type": "code",
   "execution_count": null,
   "id": "bcb6ad23-6620-4a6f-93b1-7f84741d0095",
   "metadata": {},
   "outputs": [],
   "source": []
  }
 ],
 "metadata": {
  "kernelspec": {
   "display_name": "Python 3 (ipykernel)",
   "language": "python",
   "name": "python3"
  },
  "language_info": {
   "codemirror_mode": {
    "name": "ipython",
    "version": 3
   },
   "file_extension": ".py",
   "mimetype": "text/x-python",
   "name": "python",
   "nbconvert_exporter": "python",
   "pygments_lexer": "ipython3",
   "version": "3.11.7"
  }
 },
 "nbformat": 4,
 "nbformat_minor": 5
}
