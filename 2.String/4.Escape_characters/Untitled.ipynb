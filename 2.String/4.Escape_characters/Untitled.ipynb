{
 "cells": [
  {
   "cell_type": "code",
   "execution_count": 9,
   "id": "35ecfe65-050d-4b98-8485-788a957613df",
   "metadata": {},
   "outputs": [
    {
     "name": "stdin",
     "output_type": "stream",
     "text": [
      "Enter your name:  rohit\n",
      "Enter your last name:  tyagi\n"
     ]
    },
    {
     "name": "stdout",
     "output_type": "stream",
     "text": [
      "Welcome Rohit Tyagi\n"
     ]
    }
   ],
   "source": [
    "first_input = input(\"Enter your name: \").capitalize()\n",
    "last_name = input(\"Enter your last name: \").capitalize()\n",
    "\n",
    "\n",
    "\n",
    "print(f\"Welcome {first_input} {last_name}\")"
   ]
  },
  {
   "cell_type": "code",
   "execution_count": 15,
   "id": "6f4dd7e9-7015-4417-9bab-d5cf22549245",
   "metadata": {},
   "outputs": [
    {
     "name": "stdin",
     "output_type": "stream",
     "text": [
      "Enter your name:  12\n",
      "Enter your last name:  12\n"
     ]
    },
    {
     "name": "stdout",
     "output_type": "stream",
     "text": [
      "Your total is 24\n"
     ]
    }
   ],
   "source": [
    "first_number = int(input(\"Enter your name: \"))\n",
    "second_number = int(input(\"Enter your last name: \"))\n",
    "\n",
    "print(f\"Your total is {first_number+second_number}\")"
   ]
  },
  {
   "cell_type": "code",
   "execution_count": 16,
   "id": "1a0193d3-9436-4cef-ac05-daecd6837a1d",
   "metadata": {},
   "outputs": [
    {
     "name": "stdout",
     "output_type": "stream",
     "text": [
      "Collecting PyInputPlusNote: you may need to restart the kernel to use updated packages.\n",
      "\n",
      "  Using cached PyInputPlus-0.2.12-py3-none-any.whl\n",
      "Collecting pysimplevalidate>=0.2.7 (from PyInputPlus)\n",
      "  Using cached PySimpleValidate-0.2.12-py3-none-any.whl\n",
      "Collecting stdiomask>=0.0.3 (from PyInputPlus)\n",
      "  Using cached stdiomask-0.0.6-py3-none-any.whl\n",
      "Installing collected packages: stdiomask, pysimplevalidate, PyInputPlus\n",
      "Successfully installed PyInputPlus-0.2.12 pysimplevalidate-0.2.12 stdiomask-0.0.6\n"
     ]
    }
   ],
   "source": [
    "pip install PyInputPlus"
   ]
  },
  {
   "cell_type": "code",
   "execution_count": 17,
   "id": "8f33aead-9706-4a55-bf5c-ea7e9ad37979",
   "metadata": {},
   "outputs": [],
   "source": [
    "import pyinputplus as pyin"
   ]
  },
  {
   "cell_type": "code",
   "execution_count": 19,
   "id": "e5527ae4-5c62-4054-8a76-b0da947836be",
   "metadata": {},
   "outputs": [
    {
     "name": "stdout",
     "output_type": "stream",
     "text": [
      "Enter your number"
     ]
    },
    {
     "name": "stdin",
     "output_type": "stream",
     "text": [
      " rohit\n"
     ]
    },
    {
     "name": "stdout",
     "output_type": "stream",
     "text": [
      "'rohit' is not a valid email address.\n",
      "Enter your number"
     ]
    },
    {
     "name": "stdin",
     "output_type": "stream",
     "text": [
      " rohit@\n"
     ]
    },
    {
     "name": "stdout",
     "output_type": "stream",
     "text": [
      "'rohit@' is not a valid email address.\n",
      "Enter your number"
     ]
    },
    {
     "name": "stdin",
     "output_type": "stream",
     "text": [
      " rohit@gmail\n"
     ]
    },
    {
     "name": "stdout",
     "output_type": "stream",
     "text": [
      "'rohit@gmail' is not a valid email address.\n",
      "Enter your number"
     ]
    },
    {
     "name": "stdin",
     "output_type": "stream",
     "text": [
      " rohit@gmail.com\n"
     ]
    },
    {
     "data": {
      "text/plain": [
       "'rohit@gmail.com'"
      ]
     },
     "execution_count": 19,
     "metadata": {},
     "output_type": "execute_result"
    }
   ],
   "source": [
    "pyin.inputEmail(\"Enter your number\")"
   ]
  },
  {
   "cell_type": "code",
   "execution_count": null,
   "id": "e6d19a9d-a361-4400-ba1c-7865a1bb0b27",
   "metadata": {},
   "outputs": [],
   "source": []
  }
 ],
 "metadata": {
  "kernelspec": {
   "display_name": "Python 3 (ipykernel)",
   "language": "python",
   "name": "python3"
  },
  "language_info": {
   "codemirror_mode": {
    "name": "ipython",
    "version": 3
   },
   "file_extension": ".py",
   "mimetype": "text/x-python",
   "name": "python",
   "nbconvert_exporter": "python",
   "pygments_lexer": "ipython3",
   "version": "3.11.7"
  }
 },
 "nbformat": 4,
 "nbformat_minor": 5
}
