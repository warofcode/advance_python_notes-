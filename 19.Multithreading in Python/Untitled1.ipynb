{
 "cells": [
  {
   "cell_type": "code",
   "execution_count": 12,
   "id": "6cdcbe85-db8b-40d2-9d76-aeb6d2752a6d",
   "metadata": {},
   "outputs": [
    {
     "name": "stdout",
     "output_type": "stream",
     "text": [
      "Task_1 has  started please wait...\n",
      "Task1has completed.\n",
      "Task_2 has started please wait...\n",
      "Task2 completed.\n",
      "Task_3 has started please wait...\n",
      "Task3 has completed.\n",
      "Total time taken :  12.002557699990575\n"
     ]
    }
   ],
   "source": [
    "import threading\n",
    "import time\n",
    "\n",
    "def task1():\n",
    "    print(f\"Task_1 has  started please wait...\")\n",
    "    time.sleep(4)  # Simulate some work\n",
    "    return f\"Task1has completed.\"\n",
    "\n",
    "def task2():\n",
    "    print(f\"Task_2 has started please wait...\")\n",
    "    time.sleep(4)  # Simulate some work\n",
    "    return f\"Task2 completed.\"\n",
    "\n",
    "def task3():\n",
    "    print(f\"Task_3 has started please wait...\")\n",
    "    time.sleep(4)  # Simulate some work\n",
    "    return f\"Task3 has completed.\"\n",
    "\n",
    "thread1 = threading.Thread(target=task1,)\n",
    "thread2 = threading.Thread(target=task2,)\n",
    "thread3 = threading.Thread(target=task3,)\n",
    "\n",
    "start_time = time.perf_counter()\n",
    "print(task1())\n",
    "print(task2())\n",
    "print(task3())\n",
    "\n",
    "\n",
    "end_time = time.perf_counter()\n",
    "\n",
    "print(\"Total time taken : \",(end_time-start_time))"
   ]
  },
  {
   "cell_type": "code",
   "execution_count": 17,
   "id": "fa29c655-5232-4b7f-800c-ac0e491a2167",
   "metadata": {},
   "outputs": [
    {
     "name": "stdout",
     "output_type": "stream",
     "text": [
      "Task_1 has  started please wait...\n",
      "Task_2 has started please wait...\n",
      "Task_3 has started please wait...\n",
      "Task1 has completed.\n",
      "Task2 completed.\n",
      "Task3 has completed.\n",
      "Total time taken :  4.003748099989025\n"
     ]
    }
   ],
   "source": [
    "import threading\n",
    "import time\n",
    "\n",
    "def task1():\n",
    "    print(f\"Task_1 has  started please wait...\")\n",
    "    time.sleep(4)  # Simulate some work\n",
    "    print(f\"Task1 has completed.\")\n",
    "\n",
    "def task2():\n",
    "    print(f\"Task_2 has started please wait...\")\n",
    "    time.sleep(4)  # Simulate some work\n",
    "    print(f\"Task2 completed.\")\n",
    "\n",
    "def task3():\n",
    "    print(f\"Task_3 has started please wait...\")\n",
    "    time.sleep(4)  # Simulate some work\n",
    "    print(f\"Task3 has completed.\")\n",
    "\n",
    "thread1 = threading.Thread(target=task1,)\n",
    "thread2 = threading.Thread(target=task2,)\n",
    "thread3 = threading.Thread(target=task3,)\n",
    "\n",
    "start_time = time.perf_counter()\n",
    "thread1.start()\n",
    "thread2.start()\n",
    "thread3.start()\n",
    "\n",
    "thread1.join()\n",
    "thread2.join()\n",
    "thread3.join()\n",
    "\n",
    "end_time = time.perf_counter()\n",
    "\n",
    "print(\"Total time taken : \",(end_time-start_time))"
   ]
  },
  {
   "cell_type": "code",
   "execution_count": null,
   "id": "0f98d4a9-029c-4605-8a4e-ec11b36a6da0",
   "metadata": {},
   "outputs": [],
   "source": []
  }
 ],
 "metadata": {
  "kernelspec": {
   "display_name": "Python 3 (ipykernel)",
   "language": "python",
   "name": "python3"
  },
  "language_info": {
   "codemirror_mode": {
    "name": "ipython",
    "version": 3
   },
   "file_extension": ".py",
   "mimetype": "text/x-python",
   "name": "python",
   "nbconvert_exporter": "python",
   "pygments_lexer": "ipython3",
   "version": "3.11.7"
  }
 },
 "nbformat": 4,
 "nbformat_minor": 5
}
