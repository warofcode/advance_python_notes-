{
 "cells": [
  {
   "cell_type": "code",
   "execution_count": 3,
   "id": "ba4cd8f6-562c-4df4-970a-7327fbeda66c",
   "metadata": {},
   "outputs": [
    {
     "name": "stdout",
     "output_type": "stream",
     "text": [
      "Title: Tech Mahindra | Scale at Speed\n",
      "Paragraphs:\n",
      "1. Scale at Speed\n",
      "2. Building India’s own large language model\n",
      "3. Digital home ownership experience for a large bank in Canada\n",
      "4. Bespoke Loan Origination System for a Bank in Indonesia\n",
      "5. Tech Mahindra Recognized as a Market Leader in Customer Experience Services by HFS Research\n",
      "6. Tech Mahindra at SAP Sapphire 2024 - Orlando\n",
      "7. Ways of Working\n",
      "8. Performance Assurance for Tier-1 Telematics Customer in North America\n",
      "9. Popular Searches\n",
      "10. Main navigation (Mobile)\n",
      "11. Our promise to help enterprises across industries transform at speed and bring agility, resilience, and efficiency to their businesses.\n",
      "12. A carousel is a rotating set of images, rotation stops on keyboard focus on carousel tab controls or hovering the mouse pointer over images.  Use the tabs or the previous and next buttons to change the displayed slide.\n",
      "13. We offer a wide range of digital solutions and best-in-class platforms to deliver meaningful outcomes, enhance customer experiences, and transform industries at scale and with unparalleled speed.\n",
      "14. Amplify your business with TechM by infusing AI in every aspect of your business, democratizing AI responsibly\n",
      "15. Unveil new ways to disrupt your industry\n",
      "16. Empower your organization with a powerfully designed infrastructure stack and support technologies\n",
      "17. Experience unparalleled innovation, efficiency, and adaptability\n",
      "18. Enable seamless cyber-physical integration for enhanced visibility and predictability\n",
      "19. Practice the art of giving you customers truly memorable experiences\n",
      "20. Leverage new opportunities to enhance network operations\n",
      "21. Accelerate the development of end-to-end automated operations for your business\n",
      "22. Thriving in the current dynamic landscape demands technological solutions that enable both transformative scale and unparalleled speed.\n",
      "23. Our expertise spans 13 industries from banking, insurance, telecommunications, media, entertainment, distribution, retail, to many more.\n",
      "24. Learn how we maintain a balance between sustainability and overall business profitability.\n",
      "25. At Tech Mahindra, 'Rise' is our core brand pillar that goes beyond business. It underscores our entire organization's culture and how we inspire our employees, stakeholders, and communities to uphold the three core tenets of this philosophy – Rise for an equal world, to be future-ready, and to create value.\n",
      "26. Gain a heritage.  Leave a legacy.\n",
      "27. What can we help you achieve.\n",
      "28. Footer Menu Links 1\n",
      "29. Footer Menu Links 2\n",
      "30. © 2022 Tech Mahindra Limited\n",
      "31. Footer\n"
     ]
    }
   ],
   "source": [
    "# pip install requests beautifulsoup4\n",
    "import requests\n",
    "from bs4 import BeautifulSoup\n",
    "\n",
    "# Function to get the HTML content of a web page\n",
    "def get_html_content(url):\n",
    "    response = requests.get(url)\n",
    "    return response.content\n",
    "\n",
    "# Function to parse HTML content and extract data\n",
    "def parse_html_content(html_content):\n",
    "    soup = BeautifulSoup(html_content, 'html.parser')\n",
    "    \n",
    "    # Extracting the title of the web page\n",
    "    title = soup.title.string if soup.title else 'No title found'\n",
    "    \n",
    "    # Extracting all paragraph texts\n",
    "    paragraphs = soup.find_all('p')\n",
    "    paragraph_texts = [para.get_text() for para in paragraphs]\n",
    "    \n",
    "    return title, paragraph_texts\n",
    "\n",
    "# URL of the web page to scrape\n",
    "url = 'https://www.techmahindra.com/'\n",
    "\n",
    "# Get the HTML content of the web page\n",
    "html_content = get_html_content(url)\n",
    "\n",
    "# Parse the HTML content and extract data\n",
    "title, paragraph_texts = parse_html_content(html_content)\n",
    "\n",
    "# Print the extracted data\n",
    "print(f'Title: {title}')\n",
    "print('Paragraphs:')\n",
    "for idx, para in enumerate(paragraph_texts, start=1):\n",
    "    print(f'{idx}. {para}')\n"
   ]
  },
  {
   "cell_type": "code",
   "execution_count": null,
   "id": "f1def1b1-b056-4767-9358-5d49cf4ac83c",
   "metadata": {},
   "outputs": [],
   "source": []
  }
 ],
 "metadata": {
  "kernelspec": {
   "display_name": "Python 3 (ipykernel)",
   "language": "python",
   "name": "python3"
  },
  "language_info": {
   "codemirror_mode": {
    "name": "ipython",
    "version": 3
   },
   "file_extension": ".py",
   "mimetype": "text/x-python",
   "name": "python",
   "nbconvert_exporter": "python",
   "pygments_lexer": "ipython3",
   "version": "3.11.7"
  }
 },
 "nbformat": 4,
 "nbformat_minor": 5
}
