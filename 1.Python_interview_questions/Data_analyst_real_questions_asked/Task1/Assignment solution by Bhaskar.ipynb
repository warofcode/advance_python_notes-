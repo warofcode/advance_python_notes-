{
 "cells": [
  {
   "cell_type": "markdown",
   "id": "650a0a19",
   "metadata": {},
   "source": [
    "# Questin1 Solution:\n"
   ]
  },
  {
   "cell_type": "code",
   "execution_count": 11,
   "id": "ecce41c2",
   "metadata": {},
   "outputs": [
    {
     "name": "stdout",
     "output_type": "stream",
     "text": [
      "            Order ID       Product ID  Qty                    Primary Key\n",
      "0     CA-2014-100006  TEC-PH-10002075  3.0  CA-2014-100006TEC-PH-10002075\n",
      "1     CA-2014-100090  FUR-TA-10003715  3.0  CA-2014-100090FUR-TA-10003715\n",
      "2     CA-2014-100090  OFF-BI-10001597  6.0  CA-2014-100090OFF-BI-10001597\n",
      "3     CA-2014-100293  OFF-PA-10000176  6.0  CA-2014-100293OFF-PA-10000176\n",
      "4     CA-2014-100328  OFF-BI-10000343  1.0  CA-2014-100328OFF-BI-10000343\n",
      "...              ...              ...  ...                            ...\n",
      "9473  US-2017-169551  OFF-PA-10004100  3.0  US-2017-169551OFF-PA-10004100\n",
      "9474  US-2017-169551  OFF-ST-10004835  3.0  US-2017-169551OFF-ST-10004835\n",
      "9475  US-2017-169551  TEC-AC-10002018  3.0  US-2017-169551TEC-AC-10002018\n",
      "9476  US-2017-169551  TEC-AC-10003033  2.0  US-2017-169551TEC-AC-10003033\n",
      "9477  US-2017-169551  TEC-PH-10001363  2.0  US-2017-169551TEC-PH-10001363\n",
      "\n",
      "[9478 rows x 4 columns]\n",
      "number of missing records are :  9478\n"
     ]
    }
   ],
   "source": [
    "import pandas as pd\n",
    "\n",
    "# Load the data from Excel files\n",
    "data1 = pd.read_excel('data.xlsx', sheet_name='data1')\n",
    "data2 = pd.read_excel('data.xlsx', sheet_name='data2')\n",
    "\n",
    "# Concatenate the 'orderid' and 'Product id' columns to create the primary key\n",
    "data1['Primary Key'] = data1['Order ID'].astype(str) + data1['Product ID'].astype(str)\n",
    "data2['Primary Key'] = data2['Product ID'].astype(str) + data2['Product ID'].astype(str)\n",
    "\n",
    "# Identify records present in data1 but missing in data2\n",
    "missing_records = data1[~data1['Primary Key'].isin(data2['Primary Key'])]\n",
    "\n",
    "# Display the missing records\n",
    "print(missing_records)\n",
    "\n",
    "print(\"number of missing records are : \",len(missing_records))\n"
   ]
  },
  {
   "cell_type": "markdown",
   "id": "a7166dc7",
   "metadata": {},
   "source": [
    "# Question2 Solution:"
   ]
  },
  {
   "cell_type": "code",
   "execution_count": 15,
   "id": "786e0d2b",
   "metadata": {},
   "outputs": [
    {
     "name": "stdout",
     "output_type": "stream",
     "text": [
      "            Order ID       Product ID   Qty                    Primary Key\n",
      "11    CA-2014-100706  TEC-AC-10001314   2.0  CA-2014-100706TEC-AC-10001314\n",
      "14    CA-2014-100762  OFF-PA-10001815   3.0  CA-2014-100762OFF-PA-10001815\n",
      "30    CA-2014-101427  OFF-AR-10002257   3.0  CA-2014-101427OFF-AR-10002257\n",
      "56    CA-2014-102652  FUR-FU-10001918   7.0  CA-2014-102652FUR-FU-10001918\n",
      "63    CA-2014-102869  OFF-PA-10000788   3.0  CA-2014-102869OFF-PA-10000788\n",
      "...              ...              ...   ...                            ...\n",
      "9428  US-2017-165344  OFF-BI-10003196  10.0  US-2017-165344OFF-BI-10003196\n",
      "9433  US-2017-165358  TEC-CO-10001943   5.0  US-2017-165358TEC-CO-10001943\n",
      "9455  US-2017-167920  OFF-AP-10000159   5.0  US-2017-167920OFF-AP-10000159\n",
      "9471  US-2017-169502  OFF-AP-10001947   5.0  US-2017-169502OFF-AP-10001947\n",
      "9473  US-2017-169551  FUR-BO-10001519   3.0  US-2017-169551FUR-BO-10001519\n",
      "\n",
      "[508 rows x 4 columns]\n",
      "Number of missing records in data1: 508\n"
     ]
    }
   ],
   "source": [
    "import pandas as pd\n",
    "\n",
    "# Load the data from Excel files\n",
    "data1 = pd.read_excel('data.xlsx', sheet_name='data1')\n",
    "data2 = pd.read_excel('data.xlsx', sheet_name='data2')\n",
    "\n",
    "# Concatenate the 'orderid' and 'Product id' columns to create the primary key\n",
    "data1['Primary Key'] = data1['Order ID'].astype(str) + data1['Product ID'].astype(str)\n",
    "data2['Primary Key'] = data2['Order ID'].astype(str) + data2['Product ID'].astype(str)\n",
    "\n",
    "# Identify records missing in data1 but present in data2\n",
    "missing_records = data2[~data2['Primary Key'].isin(data1['Primary Key'])]\n",
    "\n",
    "\n",
    "# diplsay the record\n",
    "\n",
    "print(missing_records)\n",
    "\n",
    "# Get the count of missing records\n",
    "num_missing_records = len(missing_records)\n",
    "\n",
    "\n",
    "\n",
    "# Display the count\n",
    "\n",
    "\n",
    "print(\"Number of missing records in data1:\", num_missing_records)\n"
   ]
  },
  {
   "cell_type": "markdown",
   "id": "46c5c23c",
   "metadata": {},
   "source": [
    "# Question3 Solution:"
   ]
  },
  {
   "cell_type": "code",
   "execution_count": 7,
   "id": "048118be",
   "metadata": {},
   "outputs": [
    {
     "name": "stdout",
     "output_type": "stream",
     "text": [
      "            Order ID       Product ID  Qty                    Primary Key\n",
      "0     CA-2014-100006  TEC-PH-10002075  3.0  CA-2014-100006TEC-PH-10002075\n",
      "1     CA-2014-100090  FUR-TA-10003715  3.0  CA-2014-100090FUR-TA-10003715\n",
      "2     CA-2014-100090  OFF-BI-10001597  6.0  CA-2014-100090OFF-BI-10001597\n",
      "3     CA-2014-100293  OFF-PA-10000176  6.0  CA-2014-100293OFF-PA-10000176\n",
      "4     CA-2014-100328  OFF-BI-10000343  1.0  CA-2014-100328OFF-BI-10000343\n",
      "...              ...              ...  ...                            ...\n",
      "9473  US-2017-169551  OFF-PA-10004100  3.0  US-2017-169551OFF-PA-10004100\n",
      "9474  US-2017-169551  OFF-ST-10004835  3.0  US-2017-169551OFF-ST-10004835\n",
      "9475  US-2017-169551  TEC-AC-10002018  3.0  US-2017-169551TEC-AC-10002018\n",
      "9476  US-2017-169551  TEC-AC-10003033  2.0  US-2017-169551TEC-AC-10003033\n",
      "9477  US-2017-169551  TEC-PH-10001363  2.0  US-2017-169551TEC-PH-10001363\n",
      "\n",
      "[9478 rows x 4 columns]\n",
      "Sum of total quantity in missing records: 1956.0\n"
     ]
    }
   ],
   "source": [
    "import pandas as pd\n",
    "\n",
    "# Load the data from Excel files\n",
    "data1 = pd.read_excel('data.xlsx', sheet_name='data1')\n",
    "data2 = pd.read_excel('data.xlsx', sheet_name='data2')\n",
    "\n",
    "# Concatenate the 'orderid' and 'Product id' columns to create the primary key\n",
    "data1['Primary Key'] = data1['Order ID'].astype(str) + data1['Product ID'].astype(str)\n",
    "data2['Primary Key'] = data2['Order ID'].astype(str) + data2['Product ID'].astype(str)\n",
    "\n",
    "print(data1)\n",
    "\n",
    "# Identify records missing in data1 but present in data2\n",
    "\n",
    "# print(~data2['Primary Key'].isin(data1['Primary Key'])) # eill return true and false\n",
    "\n",
    "\n",
    "\n",
    "missing_records = data2[~data2['Primary Key'].isin(data1['Primary Key'])]\n",
    "\n",
    "# Calculate the sum of the 'quantity' column in the missing records\n",
    "sum_missing_quantity = missing_records['Qty'].sum()\n",
    "\n",
    "# Display the sum\n",
    "print(\"Sum of total quantity in missing records:\", sum_missing_quantity)\n",
    "\n",
    "\n",
    "\n"
   ]
  },
  {
   "cell_type": "code",
   "execution_count": 2,
   "id": "4b847d43",
   "metadata": {},
   "outputs": [
    {
     "name": "stdout",
     "output_type": "stream",
     "text": [
      "Total number of uniqe record in both dat1 and data2 are: 9986\n"
     ]
    }
   ],
   "source": [
    "import pandas as pd\n",
    "\n",
    "# Load the data from Excel files\n",
    "data1 = pd.read_excel('data.xlsx', sheet_name='data1')\n",
    "data2 = pd.read_excel('data.xlsx', sheet_name='data2')\n",
    "\n",
    "# Concatenate data1 and data2 to create the combined dataset\n",
    "combined_data = pd.concat([data1, data2])\n",
    "\n",
    "# Identify the total number of unique records in the combined dataset\n",
    "num_unique_records = len(combined_data.drop_duplicates())\n",
    "\n",
    "# Display the total number of unique records\n",
    "print(\"Total number of uniqe record in both dat1 and data2 are:\", num_unique_records)\n"
   ]
  },
  {
   "cell_type": "code",
   "execution_count": 4,
   "id": "6da0d55b",
   "metadata": {},
   "outputs": [
    {
     "data": {
      "text/html": [
       "<div>\n",
       "<style scoped>\n",
       "    .dataframe tbody tr th:only-of-type {\n",
       "        vertical-align: middle;\n",
       "    }\n",
       "\n",
       "    .dataframe tbody tr th {\n",
       "        vertical-align: top;\n",
       "    }\n",
       "\n",
       "    .dataframe thead th {\n",
       "        text-align: right;\n",
       "    }\n",
       "</style>\n",
       "<table border=\"1\" class=\"dataframe\">\n",
       "  <thead>\n",
       "    <tr style=\"text-align: right;\">\n",
       "      <th></th>\n",
       "      <th>Order ID</th>\n",
       "      <th>Product ID</th>\n",
       "      <th>Qty</th>\n",
       "    </tr>\n",
       "  </thead>\n",
       "  <tbody>\n",
       "    <tr>\n",
       "      <th>0</th>\n",
       "      <td>CA-2014-100006</td>\n",
       "      <td>TEC-PH-10002075</td>\n",
       "      <td>3.0</td>\n",
       "    </tr>\n",
       "    <tr>\n",
       "      <th>1</th>\n",
       "      <td>CA-2014-100090</td>\n",
       "      <td>FUR-TA-10003715</td>\n",
       "      <td>3.0</td>\n",
       "    </tr>\n",
       "    <tr>\n",
       "      <th>2</th>\n",
       "      <td>CA-2014-100090</td>\n",
       "      <td>OFF-BI-10001597</td>\n",
       "      <td>6.0</td>\n",
       "    </tr>\n",
       "    <tr>\n",
       "      <th>3</th>\n",
       "      <td>CA-2014-100293</td>\n",
       "      <td>OFF-PA-10000176</td>\n",
       "      <td>6.0</td>\n",
       "    </tr>\n",
       "    <tr>\n",
       "      <th>4</th>\n",
       "      <td>CA-2014-100328</td>\n",
       "      <td>OFF-BI-10000343</td>\n",
       "      <td>1.0</td>\n",
       "    </tr>\n",
       "    <tr>\n",
       "      <th>...</th>\n",
       "      <td>...</td>\n",
       "      <td>...</td>\n",
       "      <td>...</td>\n",
       "    </tr>\n",
       "    <tr>\n",
       "      <th>9474</th>\n",
       "      <td>US-2017-169551</td>\n",
       "      <td>OFF-PA-10004100</td>\n",
       "      <td>3.0</td>\n",
       "    </tr>\n",
       "    <tr>\n",
       "      <th>9475</th>\n",
       "      <td>US-2017-169551</td>\n",
       "      <td>OFF-ST-10004835</td>\n",
       "      <td>3.0</td>\n",
       "    </tr>\n",
       "    <tr>\n",
       "      <th>9476</th>\n",
       "      <td>US-2017-169551</td>\n",
       "      <td>TEC-AC-10002018</td>\n",
       "      <td>3.0</td>\n",
       "    </tr>\n",
       "    <tr>\n",
       "      <th>9477</th>\n",
       "      <td>US-2017-169551</td>\n",
       "      <td>TEC-AC-10003033</td>\n",
       "      <td>2.0</td>\n",
       "    </tr>\n",
       "    <tr>\n",
       "      <th>9478</th>\n",
       "      <td>US-2017-169551</td>\n",
       "      <td>TEC-PH-10001363</td>\n",
       "      <td>2.0</td>\n",
       "    </tr>\n",
       "  </tbody>\n",
       "</table>\n",
       "<p>18957 rows × 3 columns</p>\n",
       "</div>"
      ],
      "text/plain": [
       "            Order ID       Product ID  Qty\n",
       "0     CA-2014-100006  TEC-PH-10002075  3.0\n",
       "1     CA-2014-100090  FUR-TA-10003715  3.0\n",
       "2     CA-2014-100090  OFF-BI-10001597  6.0\n",
       "3     CA-2014-100293  OFF-PA-10000176  6.0\n",
       "4     CA-2014-100328  OFF-BI-10000343  1.0\n",
       "...              ...              ...  ...\n",
       "9474  US-2017-169551  OFF-PA-10004100  3.0\n",
       "9475  US-2017-169551  OFF-ST-10004835  3.0\n",
       "9476  US-2017-169551  TEC-AC-10002018  3.0\n",
       "9477  US-2017-169551  TEC-AC-10003033  2.0\n",
       "9478  US-2017-169551  TEC-PH-10001363  2.0\n",
       "\n",
       "[18957 rows x 3 columns]"
      ]
     },
     "execution_count": 4,
     "metadata": {},
     "output_type": "execute_result"
    }
   ],
   "source": [
    "combined_data\n"
   ]
  },
  {
   "cell_type": "code",
   "execution_count": null,
   "id": "74eefe71",
   "metadata": {},
   "outputs": [],
   "source": []
  }
 ],
 "metadata": {
  "kernelspec": {
   "display_name": "Python 3 (ipykernel)",
   "language": "python",
   "name": "python3"
  },
  "language_info": {
   "codemirror_mode": {
    "name": "ipython",
    "version": 3
   },
   "file_extension": ".py",
   "mimetype": "text/x-python",
   "name": "python",
   "nbconvert_exporter": "python",
   "pygments_lexer": "ipython3",
   "version": "3.9.12"
  }
 },
 "nbformat": 4,
 "nbformat_minor": 5
}
