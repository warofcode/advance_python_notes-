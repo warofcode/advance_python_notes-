{
 "cells": [
  {
   "cell_type": "code",
   "execution_count": 29,
   "id": "31a972f3",
   "metadata": {},
   "outputs": [
    {
     "name": "stdout",
     "output_type": "stream",
     "text": [
      "<class 'pandas.core.frame.DataFrame'>\n",
      "RangeIndex: 408 entries, 0 to 407\n",
      "Data columns (total 1 columns):\n",
      " #   Column   Non-Null Count  Dtype\n",
      "---  ------   --------------  -----\n",
      " 0   card_no  408 non-null    int64\n",
      "dtypes: int64(1)\n",
      "memory usage: 3.3 KB\n"
     ]
    }
   ],
   "source": [
    "import pandas as pd\n",
    "abhisek = pd.read_excel(\"abhishek_Data.xlsx\")\n",
    "abhisek.info()"
   ]
  },
  {
   "cell_type": "code",
   "execution_count": 30,
   "id": "05432c93",
   "metadata": {},
   "outputs": [
    {
     "name": "stdout",
     "output_type": "stream",
     "text": [
      "<class 'pandas.core.frame.DataFrame'>\n",
      "RangeIndex: 476 entries, 0 to 475\n",
      "Data columns (total 1 columns):\n",
      " #   Column   Non-Null Count  Dtype\n",
      "---  ------   --------------  -----\n",
      " 0   card_no  476 non-null    int64\n",
      "dtypes: int64(1)\n",
      "memory usage: 3.8 KB\n"
     ]
    }
   ],
   "source": [
    "our = pd.read_excel(\"our_data.xlsx\")\n",
    "our.info()"
   ]
  },
  {
   "cell_type": "code",
   "execution_count": 31,
   "id": "cd985692",
   "metadata": {},
   "outputs": [],
   "source": [
    "# converting object data type to int as it was object insted of int in ourdata.xlsx.\n",
    "# we we do this we get error of long \n",
    "# intsed of int we use flot\n",
    "\n",
    "import pandas as pd\n",
    "\n",
    "# Read the Excel file\n",
    "df = pd.read_excel(\"our_data.xlsx\")\n",
    "\n",
    "# Convert the column from object to int\n",
    "df['card_no'] = df['card_no'].astype(float)\n",
    "\n",
    "# Save the modified DataFrame back to the Excel file\n",
    "df.to_excel(\"our_data.xlsx\", index=False)"
   ]
  },
  {
   "cell_type": "code",
   "execution_count": 34,
   "id": "0a464bf1",
   "metadata": {},
   "outputs": [
    {
     "name": "stdout",
     "output_type": "stream",
     "text": [
      "Missing Records:\n",
      "          card_no\n",
      "0    214241164926\n",
      "1    214241164927\n",
      "5    214240855370\n",
      "13   214240837210\n",
      "16   214240855402\n",
      "..            ...\n",
      "424  214240522882\n",
      "437  214240855363\n",
      "452  214240463245\n",
      "469  214240855574\n",
      "475  214240837214\n",
      "\n",
      "[84 rows x 1 columns]\n"
     ]
    }
   ],
   "source": [
    "import pandas as pd\n",
    "\n",
    "# Read the Excel files\n",
    "df1 = pd.read_excel('abhishek_Data.xlsx')\n",
    "df2 = pd.read_excel('our_data.xlsx')\n",
    "\n",
    "# Find the missing records in df1 compared to df2\n",
    "missing_records = df2[~df2['card_no'].isin(df1['card_no'])]\n",
    "\n",
    "# Print the missing records\n",
    "print(\"Missing Records:\")\n",
    "print(missing_records)\n"
   ]
  },
  {
   "cell_type": "code",
   "execution_count": 35,
   "id": "c16ec084",
   "metadata": {},
   "outputs": [
    {
     "name": "stdout",
     "output_type": "stream",
     "text": [
      "Missing records saved to missing_records.csv\n"
     ]
    }
   ],
   "source": [
    "# send above file to excel\n",
    "import pandas as pd\n",
    "\n",
    "# Read the Excel files\n",
    "df1 = pd.read_excel('abhishek_Data.xlsx')\n",
    "df2 = pd.read_excel('our_data.xlsx')\n",
    "\n",
    "# Find the missing records in df1 compared to df2\n",
    "missing_records = df2[~df2['card_no'].isin(df1['card_no'])]\n",
    "\n",
    "# Write the missing records to a new CSV file\n",
    "missing_records.to_excel('missing_records.xlsx', index=False)\n",
    "\n",
    "print(\"Missing records saved to missing_records.csv\")\n"
   ]
  },
  {
   "cell_type": "code",
   "execution_count": null,
   "id": "df0ddf64",
   "metadata": {},
   "outputs": [],
   "source": []
  }
 ],
 "metadata": {
  "kernelspec": {
   "display_name": "Python 3 (ipykernel)",
   "language": "python",
   "name": "python3"
  },
  "language_info": {
   "codemirror_mode": {
    "name": "ipython",
    "version": 3
   },
   "file_extension": ".py",
   "mimetype": "text/x-python",
   "name": "python",
   "nbconvert_exporter": "python",
   "pygments_lexer": "ipython3",
   "version": "3.9.12"
  }
 },
 "nbformat": 4,
 "nbformat_minor": 5
}
