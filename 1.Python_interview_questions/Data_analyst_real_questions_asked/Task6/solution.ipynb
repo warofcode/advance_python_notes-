{
 "cells": [
  {
   "cell_type": "markdown",
   "id": "5e20acf2",
   "metadata": {},
   "source": [
    "# Changing date format"
   ]
  },
  {
   "cell_type": "code",
   "execution_count": 14,
   "id": "2819b264",
   "metadata": {},
   "outputs": [],
   "source": [
    "import pandas as pd\n",
    "\n",
    "\n",
    "df = pd.read_csv('Case_Study_Customer_Data.csv')\n",
    "\n",
    "\n",
    "df['Customer Created Date'] = pd.to_datetime(df['Customer Created Date'], format='%d %b, %Y %H:%M:%S')\n",
    "\n",
    "\n",
    "df['Customer Created Date'] = df['Customer Created Date'].dt.date\n",
    "\n",
    "\n",
    "df.to_csv('Customer_Data.csv', index=False)\n",
    "\n"
   ]
  },
  {
   "cell_type": "code",
   "execution_count": null,
   "id": "187f76e6",
   "metadata": {},
   "outputs": [],
   "source": []
  },
  {
   "cell_type": "code",
   "execution_count": 15,
   "id": "922b6b87",
   "metadata": {},
   "outputs": [],
   "source": [
    "import pandas as pd\n",
    "\n",
    "\n",
    "df = pd.read_csv('Case_Study_Orders_Data.csv')\n",
    "\n",
    "\n",
    "df['Order Date'] = pd.to_datetime(df['Order Date'], format='%d/%m/%y %H:%M')\n",
    "\n",
    "\n",
    "df['Order Date'] = df['Order Date'].dt.date\n",
    "\n",
    "\n",
    "df.to_csv('Orders_Data.csv', index=False)\n",
    "\n"
   ]
  },
  {
   "cell_type": "markdown",
   "id": "490b4bd7",
   "metadata": {},
   "source": [
    " 1.\tPrepare analysis on the Orders Data and Customer Data while touching upon monthly revenues, users, monthly revenue per user etc"
   ]
  },
  {
   "cell_type": "code",
   "execution_count": 16,
   "id": "b98370af",
   "metadata": {},
   "outputs": [],
   "source": [
    "import pandas as pd\n",
    "import numpy as np\n"
   ]
  },
  {
   "cell_type": "code",
   "execution_count": 17,
   "id": "e1dae64d",
   "metadata": {},
   "outputs": [],
   "source": [
    "customer_data = pd.read_csv('Customer_Data.csv')\n",
    "orders_data = pd.read_csv('Orders_Data.csv')\n"
   ]
  },
  {
   "cell_type": "code",
   "execution_count": 18,
   "id": "70d99ea2",
   "metadata": {},
   "outputs": [],
   "source": [
    "customer_data['Customer Created Date'] = pd.to_datetime(customer_data['Customer Created Date'])\n",
    "orders_data['Order Date'] = pd.to_datetime(orders_data['Order Date'])\n"
   ]
  },
  {
   "cell_type": "code",
   "execution_count": 19,
   "id": "ac5834cb",
   "metadata": {},
   "outputs": [],
   "source": [
    "start_date = pd.Timestamp('2021-01-01')\n",
    "end_date = pd.Timestamp('2021-06-30')\n",
    "filtered_customer_data = customer_data[(customer_data['Customer Created Date'] >= start_date) & (customer_data['Customer Created Date'] <= end_date)]\n",
    "filtered_orders_data = orders_data[(orders_data['Order Date'] >= start_date) & (orders_data['Order Date'] <= end_date)]\n"
   ]
  },
  {
   "cell_type": "code",
   "execution_count": 20,
   "id": "05670a84",
   "metadata": {},
   "outputs": [],
   "source": [
    "monthly_revenues = filtered_orders_data[filtered_orders_data['Order Status'] == 'Won'].groupby(filtered_orders_data['Order Date'].dt.to_period('M'))['Order Amount'].sum()\n"
   ]
  },
  {
   "cell_type": "code",
   "execution_count": 21,
   "id": "0087d644",
   "metadata": {},
   "outputs": [],
   "source": [
    "monthly_users = filtered_customer_data.groupby(filtered_customer_data['Customer Created Date'].dt.to_period('M')).size()\n"
   ]
  },
  {
   "cell_type": "code",
   "execution_count": 22,
   "id": "a80d1256",
   "metadata": {},
   "outputs": [],
   "source": [
    "monthly_revenue_per_user = monthly_revenues / monthly_users\n"
   ]
  },
  {
   "cell_type": "code",
   "execution_count": 23,
   "id": "bb55e2ab",
   "metadata": {},
   "outputs": [],
   "source": [
    "analysis_data = pd.DataFrame({\n",
    "    'Month': monthly_revenues.index.strftime('%Y-%m'),\n",
    "    'Monthly Revenue (INR)': monthly_revenues.values,\n",
    "    'Monthly Users': monthly_users.values,\n",
    "    'Monthly Revenue per User (INR)': monthly_revenue_per_user.values\n",
    "})\n"
   ]
  },
  {
   "cell_type": "code",
   "execution_count": 24,
   "id": "0242e915",
   "metadata": {},
   "outputs": [],
   "source": [
    "analysis_data.to_csv('Analysis_Results.csv', index=False)\n"
   ]
  },
  {
   "cell_type": "markdown",
   "id": "c6efbf8c",
   "metadata": {},
   "source": [
    "2.\tPrepare an analysis showing how many users placed a Purchase order, while how many actually converted bifurcated by\n",
    "\n",
    "1.\tMonth\n",
    "2.\tCustomer Profession\n"
   ]
  },
  {
   "cell_type": "code",
   "execution_count": 27,
   "id": "1a0055df",
   "metadata": {},
   "outputs": [],
   "source": [
    "import pandas as pd\n",
    "\n",
    "# Read the Customer Data and Orders Data CSV files\n",
    "customer_data = pd.read_csv('Customer_Data.csv')\n",
    "orders_data = pd.read_csv('Orders_Data.csv')\n",
    "\n",
    "# Convert the date columns to proper datetime format\n",
    "customer_data['Customer Created Date'] = pd.to_datetime(customer_data['Customer Created Date'])\n",
    "orders_data['Order Date'] = pd.to_datetime(orders_data['Order Date'])\n",
    "\n",
    "# Filter the data for the specified period (1-Jan-2021 to 10-Sep-2021)\n",
    "start_date = pd.Timestamp('2021-01-01')\n",
    "end_date = pd.Timestamp('2021-09-10')\n",
    "filtered_customer_data = customer_data[(customer_data['Customer Created Date'] >= start_date) & (customer_data['Customer Created Date'] <= end_date)]\n",
    "filtered_orders_data = orders_data[(orders_data['Order Date'] >= start_date) & (orders_data['Order Date'] <= end_date)]\n",
    "\n",
    "# Count the number of users who placed a purchase order per month\n",
    "order_users = filtered_orders_data.groupby(filtered_orders_data['Order Date'].dt.to_period('M'))['Cust ID'].nunique().reset_index()\n",
    "order_users = order_users.rename(columns={'Cust ID': 'Order Users'})\n",
    "\n",
    "# Count the number of converted users per month and customer profession\n",
    "converted_users = filtered_orders_data[filtered_orders_data['Order Status'] == 'Won'].groupby(filtered_orders_data['Order Date'].dt.to_period('M'))['Cust ID'].nunique().reset_index()\n",
    "converted_users = converted_users.rename(columns={'Cust ID': 'Converted Users'})\n",
    "\n",
    "# Merge the order_users and converted_users DataFrames\n",
    "analysis_data = pd.merge(order_users, converted_users, on='Order Date', how='left').fillna(0)\n",
    "\n",
    "# Save the analysis results to a new CSV file\n",
    "analysis_data.to_csv('Conversion_Analysis.csv', index=False)\n"
   ]
  },
  {
   "cell_type": "markdown",
   "id": "9f5bffcb",
   "metadata": {},
   "source": [
    "3.\tPrepare a COHORT analysis showing the purchase pattern of users by month\n",
    "\n",
    "Cohort Analysis: Cohort analysis is a type of analysis where we understand the behavior of customers by groups over a period of time. Eg. How are the customers who joined in the month of Jan 2021 are performing in the coming months in terms of # of orders placed, # of purchases made etc\n"
   ]
  },
  {
   "cell_type": "code",
   "execution_count": 26,
   "id": "a1fb06da",
   "metadata": {},
   "outputs": [
    {
     "data": {
      "image/png": "[encoded data removed]",
      "text/plain": [
       "<Figure size 720x432 with 1 Axes>"
      ]
     },
     "metadata": {
      "needs_background": "light"
     },
     "output_type": "display_data"
    }
   ],
   "source": [
    "import pandas as pd\n",
    "import matplotlib.pyplot as plt\n",
    "import seaborn as sns\n",
    "\n",
    "orders_data = pd.read_csv('Orders_Data.csv')\n",
    "\n",
    "orders_data['Order Date'] = pd.to_datetime(orders_data['Order Date'])\n",
    "\n",
    "orders_data['Order Date'] = pd.to_datetime(orders_data['Order Date'])\n",
    "\n",
    "orders_data['Order Month'] = orders_data['Order Date'].dt.to_period('M')\n",
    "orders_data['Order Year'] = orders_data['Order Date'].dt.year\n",
    "\n",
    "cohort_data = orders_data.groupby(['Cust ID', 'Order Year', 'Order Month']).agg({'Order No': pd.Series.nunique}).reset_index()\n",
    "cohort_data = cohort_data.rename(columns={'Order No': 'Number of Orders'})\n",
    "\n",
    "cohort_table = cohort_data.pivot_table(index='Order Month', columns='Order Year', values='Number of Orders', aggfunc='sum')\n",
    "\n",
    "plt.figure(figsize=(10, 6))\n",
    "sns.heatmap(cohort_table, cmap='Blues', annot=True, fmt='.0f', cbar=False)\n",
    "plt.title('Cohort Analysis - Purchase Pattern')\n",
    "plt.xlabel('Order Year')\n",
    "plt.ylabel('Order Month')\n",
    "plt.show()\n"
   ]
  },
  {
   "cell_type": "code",
   "execution_count": null,
   "id": "9c91de1c",
   "metadata": {},
   "outputs": [],
   "source": []
  },
  {
   "cell_type": "code",
   "execution_count": null,
   "id": "ae88d156",
   "metadata": {},
   "outputs": [],
   "source": []
  }
 ],
 "metadata": {
  "kernelspec": {
   "display_name": "Python 3 (ipykernel)",
   "language": "python",
   "name": "python3"
  },
  "language_info": {
   "codemirror_mode": {
    "name": "ipython",
    "version": 3
   },
   "file_extension": ".py",
   "mimetype": "text/x-python",
   "name": "python",
   "nbconvert_exporter": "python",
   "pygments_lexer": "ipython3",
   "version": "3.9.12"
  }
 },
 "nbformat": 4,
 "nbformat_minor": 5
}
