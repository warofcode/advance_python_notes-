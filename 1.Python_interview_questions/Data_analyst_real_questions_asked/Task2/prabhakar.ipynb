{
 "cells": [
  {
   "cell_type": "code",
   "execution_count": 1,
   "id": "786bd52a",
   "metadata": {},
   "outputs": [
    {
     "name": "stdout",
     "output_type": "stream",
     "text": [
      "Error while connecting to MySQL name 'mysql' is not defined\n"
     ]
    },
    {
     "ename": "NameError",
     "evalue": "name 'connection' is not defined",
     "output_type": "error",
     "traceback": [
      "\u001b[1;31m---------------------------------------------------------------------------\u001b[0m",
      "\u001b[1;31mNameError\u001b[0m                                 Traceback (most recent call last)",
      "Input \u001b[1;32mIn [1]\u001b[0m, in \u001b[0;36m<cell line: 5>\u001b[1;34m()\u001b[0m\n\u001b[0;32m     64\u001b[0m     \u001b[38;5;28mprint\u001b[39m(\u001b[38;5;124m\"\u001b[39m\u001b[38;5;124mError while connecting to MySQL\u001b[39m\u001b[38;5;124m\"\u001b[39m, e)\n\u001b[0;32m     66\u001b[0m \u001b[38;5;28;01mfinally\u001b[39;00m:\n\u001b[1;32m---> 67\u001b[0m     \u001b[38;5;28;01mif\u001b[39;00m \u001b[43mconnection\u001b[49m\u001b[38;5;241m.\u001b[39mis_connected():\n\u001b[0;32m     68\u001b[0m         connection\u001b[38;5;241m.\u001b[39mclose()\n\u001b[0;32m     69\u001b[0m         \u001b[38;5;28mprint\u001b[39m(\u001b[38;5;124m\"\u001b[39m\u001b[38;5;124mMySQL connection closed.\u001b[39m\u001b[38;5;124m\"\u001b[39m)\n",
      "\u001b[1;31mNameError\u001b[0m: name 'connection' is not defined"
     ]
    }
   ],
   "source": [
    "import pandas as pd\n",
    "from mysql import connector\n",
    "\n",
    "\n",
    "try:\n",
    "    connection = mysql.connector.connect(\n",
    "        host='localhost',\n",
    "        user='root',\n",
    "        password='admin'\n",
    "    )\n",
    "\n",
    "    if connection.is_connected():\n",
    "        db_info = connection.get_server_info()\n",
    "        print(\"Connected to MySQL Server version\", db_info)\n",
    "\n",
    "        cursor = connection.cursor()\n",
    "\n",
    "        # Create the database\n",
    "        create_database_query = \"CREATE DATABASE bhaskar_database\"\n",
    "        cursor.execute(create_database_query)\n",
    "        print(\"Database 'bhaskar_database' created successfully.\")\n",
    "\n",
    "        # Switch to the created database\n",
    "        use_database_query = \"USE bhaskar_database\"\n",
    "        cursor.execute(use_database_query)\n",
    "\n",
    "        # Create the table\n",
    "        create_table_query = '''\n",
    "        CREATE TABLE bhaskar_table (\n",
    "            bike_name VARCHAR(255),\n",
    "            price float,\n",
    "            city VARCHAR(255),\n",
    "            kms_driven float,\n",
    "            owner VARCHAR(255),\n",
    "            age float,\n",
    "            power float,\n",
    "            brand VARCHAR(255)\n",
    "            \n",
    "        )\n",
    "        '''\n",
    "        cursor.execute(create_table_query)\n",
    "        print(\"Table 'bhaskar_table' created successfully.\")\n",
    "\n",
    "        # Read CSV file into DataFrame\n",
    "        data = pd.read_csv('task_2_used_bikes.csv')\n",
    "\n",
    "        # Insert DataFrame into the table\n",
    "        for _, row in data.iterrows():\n",
    "            insert_query = f'''\n",
    "            INSERT INTO bhaskar_table (bike_name, price, city,kms_driven,owner,age,power,brand)\n",
    "            VALUES ('{row['bike_name']}', {row['price']}, '{row['city']}',{row['kms_driven']},'{row['owner']}',{row['age']},{row['power']},'{row['brand']}')\n",
    "            '''\n",
    "            cursor.execute(insert_query)\n",
    "\n",
    "        connection.commit()\n",
    "        print(\"Data inserted into 'bhaskar_table' successfully.\")\n",
    "\n",
    "        # Create index on the column\n",
    "        create_index_query = \"ALTER TABLE bhaskar_table ADD INDEX bhaskar_index (column1)\"\n",
    "        cursor.execute(create_index_query)\n",
    "        print(\"Index created successfully.\")\n",
    "\n",
    "except Exception as e:\n",
    "    print(\"Error while connecting to MySQL\", e)\n",
    "\n",
    "finally:\n",
    "    if connection.is_connected():\n",
    "        connection.close()\n",
    "        print(\"MySQL connection closed.\")\n"
   ]
  },
  {
   "cell_type": "code",
   "execution_count": null,
   "id": "9b0c8291",
   "metadata": {},
   "outputs": [],
   "source": [
    "import mysql.connector\n",
    "\n",
    "connection = mysql.connector.connect(\n",
    "   host=\"localhost\", user=\"root\", port='3306', database=\"database_name\")"
   ]
  },
  {
   "cell_type": "code",
   "execution_count": null,
   "id": "4f8c7201",
   "metadata": {},
   "outputs": [],
   "source": [
    "import mysql.connector.connector"
   ]
  },
  {
   "cell_type": "code",
   "execution_count": null,
   "id": "4fc6b7a6",
   "metadata": {},
   "outputs": [],
   "source": [
    "pip install python-mysql.connector"
   ]
  },
  {
   "cell_type": "code",
   "execution_count": 2,
   "id": "93b24f53",
   "metadata": {},
   "outputs": [
    {
     "name": "stdout",
     "output_type": "stream",
     "text": [
      "Requirement already satisfied: mysql-connector-python in c:\\users\\rkt65\\anaconda3\\lib\\site-packages (8.0.30)\n",
      "Requirement already satisfied: protobuf<=3.20.1,>=3.11.0 in c:\\users\\rkt65\\anaconda3\\lib\\site-packages (from mysql-connector-python) (3.19.1)\n",
      "Note: you may need to restart the kernel to use updated packages.\n"
     ]
    }
   ],
   "source": [
    " pip install mysql-connector-python"
   ]
  },
  {
   "cell_type": "code",
   "execution_count": 4,
   "id": "c083213c",
   "metadata": {},
   "outputs": [
    {
     "name": "stdout",
     "output_type": "stream",
     "text": [
      "Requirement already satisfied: mysql-connector-python in c:\\users\\rkt65\\anaconda3\\lib\\site-packages (8.0.30)\n",
      "Requirement already satisfied: protobuf<=3.20.1,>=3.11.0 in c:\\users\\rkt65\\anaconda3\\lib\\site-packages (from mysql-connector-python) (3.19.1)\n",
      "Note: you may need to restart the kernel to use updated packages.\n"
     ]
    }
   ],
   "source": [
    "pip install mysql-connector-python\n"
   ]
  },
  {
   "cell_type": "code",
   "execution_count": 10,
   "id": "a4499b46",
   "metadata": {},
   "outputs": [],
   "source": [
    "import mysql.connector\n"
   ]
  },
  {
   "cell_type": "code",
   "execution_count": 12,
   "id": "b9210a36",
   "metadata": {},
   "outputs": [
    {
     "ename": "ModuleNotFoundError",
     "evalue": "No module named 'mysql.connector.connector'",
     "output_type": "error",
     "traceback": [
      "\u001b[1;31m---------------------------------------------------------------------------\u001b[0m",
      "\u001b[1;31mModuleNotFoundError\u001b[0m                       Traceback (most recent call last)",
      "Input \u001b[1;32mIn [12]\u001b[0m, in \u001b[0;36m<cell line: 1>\u001b[1;34m()\u001b[0m\n\u001b[1;32m----> 1\u001b[0m \u001b[38;5;28;01mimport\u001b[39;00m \u001b[38;5;21;01mmysql\u001b[39;00m\u001b[38;5;21;01m.\u001b[39;00m\u001b[38;5;21;01mconnector\u001b[39;00m\u001b[38;5;21;01m.\u001b[39;00m\u001b[38;5;21;01mconnector\u001b[39;00m\n",
      "\u001b[1;31mModuleNotFoundError\u001b[0m: No module named 'mysql.connector.connector'"
     ]
    }
   ],
   "source": [
    "import mysql.connector.connector"
   ]
  },
  {
   "cell_type": "code",
   "execution_count": 14,
   "id": "eb252a12",
   "metadata": {},
   "outputs": [],
   "source": [
    "from mysql import connector"
   ]
  },
  {
   "cell_type": "code",
   "execution_count": null,
   "id": "b714ff8f",
   "metadata": {},
   "outputs": [],
   "source": [
    "mysql.c"
   ]
  }
 ],
 "metadata": {
  "kernelspec": {
   "display_name": "Python 3 (ipykernel)",
   "language": "python",
   "name": "python3"
  },
  "language_info": {
   "codemirror_mode": {
    "name": "ipython",
    "version": 3
   },
   "file_extension": ".py",
   "mimetype": "text/x-python",
   "name": "python",
   "nbconvert_exporter": "python",
   "pygments_lexer": "ipython3",
   "version": "3.9.12"
  }
 },
 "nbformat": 4,
 "nbformat_minor": 5
}
