{
 "cells": [
  {
   "cell_type": "code",
   "execution_count": 20,
   "id": "d275c70b-6aa8-4777-9f4c-c058adfd7c2d",
   "metadata": {},
   "outputs": [],
   "source": [
    "def full_name_creater(function):\n",
    "    def wrapper():\n",
    "        value = function()\n",
    "        list_value = value.split(\".\")\n",
    "        first_name = list_value[0]\n",
    "        last_name = list_value [1]\n",
    "        last_name2 = last_name.split(\"@\")\n",
    "        last_name = last_name2[0]\n",
    "        \n",
    "        return f\"1.your first_name is {first_name} your last name is {last_name}\"\n",
    "    return wrapper     \n",
    "        \n",
    "        \n",
    "\n",
    "\n",
    "@full_name_creater\n",
    "def email_fucntion():\n",
    "    return \"rohit.kumar@gmail.com\""
   ]
  },
  {
   "cell_type": "code",
   "execution_count": 21,
   "id": "f0c4f3a2-b64a-45eb-80c0-0bff0bfccdd9",
   "metadata": {},
   "outputs": [
    {
     "data": {
      "text/plain": [
       "'1.your first_name is rohit your last name is kumar'"
      ]
     },
     "execution_count": 21,
     "metadata": {},
     "output_type": "execute_result"
    }
   ],
   "source": [
    "email_fucntion()"
   ]
  },
  {
   "cell_type": "code",
   "execution_count": null,
   "id": "124a7bf2-2184-4d2c-83c6-a2ed3853dc00",
   "metadata": {},
   "outputs": [],
   "source": []
  }
 ],
 "metadata": {
  "kernelspec": {
   "display_name": "Python 3 (ipykernel)",
   "language": "python",
   "name": "python3"
  },
  "language_info": {
   "codemirror_mode": {
    "name": "ipython",
    "version": 3
   },
   "file_extension": ".py",
   "mimetype": "text/x-python",
   "name": "python",
   "nbconvert_exporter": "python",
   "pygments_lexer": "ipython3",
   "version": "3.11.7"
  }
 },
 "nbformat": 4,
 "nbformat_minor": 5
}
