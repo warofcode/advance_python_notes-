{
 "cells": [
  {
   "cell_type": "code",
   "execution_count": 8,
   "id": "65e199ac-20cc-4029-bd9b-aa8e4670204c",
   "metadata": {},
   "outputs": [],
   "source": [
    "class Rectangle:\n",
    "    def __init__(self, first_name, last_name):\n",
    "        self.first_name = first_name\n",
    "        self.last_name = last_name\n",
    "        self.email = f\"{self.first_name}{self.last_name}@ducat.com\"\n",
    "    \n",
    "    def email_return(self):\n",
    "        print(\"Your email has been created: :\",self.email)\n",
    "        return self.email"
   ]
  },
  {
   "cell_type": "code",
   "execution_count": 9,
   "id": "4908ca31-e340-4d48-8008-29e0f495cd14",
   "metadata": {},
   "outputs": [],
   "source": [
    "rohit = Rectangle(\"rohit\",\"tyagi\")"
   ]
  },
  {
   "cell_type": "code",
   "execution_count": 10,
   "id": "6da3ec73-3477-4d87-ae83-f802ecf44934",
   "metadata": {},
   "outputs": [
    {
     "name": "stdout",
     "output_type": "stream",
     "text": [
      "Your email has been created: : rohittyagi@ducat.com\n"
     ]
    },
    {
     "data": {
      "text/plain": [
       "'rohittyagi@ducat.com'"
      ]
     },
     "execution_count": 10,
     "metadata": {},
     "output_type": "execute_result"
    }
   ],
   "source": [
    "rohit.email_return()"
   ]
  },
  {
   "cell_type": "markdown",
   "id": "f04c6cd9-4c86-4fe4-9ca3-8c69767b4fae",
   "metadata": {},
   "source": [
    "# decorator "
   ]
  },
  {
   "cell_type": "code",
   "execution_count": 13,
   "id": "f224ccff-13d7-47ee-b275-48af5ffeca88",
   "metadata": {},
   "outputs": [],
   "source": [
    "def name_printer():\n",
    "    return \"Rohit_Kumar\""
   ]
  },
  {
   "cell_type": "code",
   "execution_count": 12,
   "id": "010d7b2f-db67-47e3-8e3e-f5a3e6447b4b",
   "metadata": {},
   "outputs": [
    {
     "data": {
      "text/plain": [
       "'ROhit_Kumar'"
      ]
     },
     "execution_count": 12,
     "metadata": {},
     "output_type": "execute_result"
    }
   ],
   "source": [
    "name_printer()"
   ]
  },
  {
   "cell_type": "code",
   "execution_count": 14,
   "id": "98164276-a78a-4078-a97a-6dfce3daf9d8",
   "metadata": {},
   "outputs": [],
   "source": [
    "nam2 = name_printer"
   ]
  },
  {
   "cell_type": "code",
   "execution_count": 15,
   "id": "d1d82c20-d962-4fba-819e-d4349cca84be",
   "metadata": {},
   "outputs": [
    {
     "data": {
      "text/plain": [
       "'Rohit_Kumar'"
      ]
     },
     "execution_count": 15,
     "metadata": {},
     "output_type": "execute_result"
    }
   ],
   "source": [
    "nam2()"
   ]
  },
  {
   "cell_type": "code",
   "execution_count": 16,
   "id": "d491d6ed-cc50-4cc3-8f21-06f27d575ecf",
   "metadata": {},
   "outputs": [],
   "source": [
    "name3 = name_printer()"
   ]
  },
  {
   "cell_type": "code",
   "execution_count": 17,
   "id": "d457a45e-aa2c-4e9a-848a-283d5c54b0a4",
   "metadata": {},
   "outputs": [
    {
     "data": {
      "text/plain": [
       "'Rohit_Kumar'"
      ]
     },
     "execution_count": 17,
     "metadata": {},
     "output_type": "execute_result"
    }
   ],
   "source": [
    "name3"
   ]
  },
  {
   "cell_type": "code",
   "execution_count": 18,
   "id": "39265059-64ac-42e6-aea1-757ece812dfd",
   "metadata": {},
   "outputs": [],
   "source": [
    "del name_printer"
   ]
  },
  {
   "cell_type": "code",
   "execution_count": 20,
   "id": "606c7d98-2340-44da-aba3-e54b85186e16",
   "metadata": {},
   "outputs": [
    {
     "ename": "NameError",
     "evalue": "name 'name_printer' is not defined",
     "output_type": "error",
     "traceback": [
      "\u001b[1;31m---------------------------------------------------------------------------\u001b[0m",
      "\u001b[1;31mNameError\u001b[0m                                 Traceback (most recent call last)",
      "Cell \u001b[1;32mIn[20], line 1\u001b[0m\n\u001b[1;32m----> 1\u001b[0m name_printer()\n",
      "\u001b[1;31mNameError\u001b[0m: name 'name_printer' is not defined"
     ]
    }
   ],
   "source": [
    "name_printer()"
   ]
  },
  {
   "cell_type": "code",
   "execution_count": 22,
   "id": "6e7ca331-a0ae-4edd-b355-6e85acd728bb",
   "metadata": {},
   "outputs": [
    {
     "data": {
      "text/plain": [
       "'Rohit_Kumar'"
      ]
     },
     "execution_count": 22,
     "metadata": {},
     "output_type": "execute_result"
    }
   ],
   "source": [
    "name3"
   ]
  },
  {
   "cell_type": "code",
   "execution_count": 24,
   "id": "e1d4e830-6ec4-44f5-8301-4dc30868a004",
   "metadata": {},
   "outputs": [
    {
     "data": {
      "text/plain": [
       "'Rohit_Kumar'"
      ]
     },
     "execution_count": 24,
     "metadata": {},
     "output_type": "execute_result"
    }
   ],
   "source": [
    "nam2()"
   ]
  },
  {
   "cell_type": "code",
   "execution_count": 25,
   "id": "3c2e4e83-a782-4213-9b86-2194d5481c37",
   "metadata": {},
   "outputs": [],
   "source": [
    "def name_printer(funtion):\n",
    "    return \"Rohit_Kumar\""
   ]
  },
  {
   "cell_type": "code",
   "execution_count": 26,
   "id": "11c93f1e-e6b2-4b49-be4d-926cfec1b40f",
   "metadata": {},
   "outputs": [
    {
     "name": "stdout",
     "output_type": "stream",
     "text": [
      "HELLO PYTHON HOW ARE YOU ?\n"
     ]
    }
   ],
   "source": [
    "def upper_converter(string):\n",
    "    \n",
    "    return string.upper()\n",
    "\n",
    "\n",
    "def string_returner():\n",
    "    \n",
    "    return f\"hello python how are you ?\"\n",
    "\n",
    "\n",
    "\n",
    "print(upper_converter(string_returner()))"
   ]
  },
  {
   "cell_type": "code",
   "execution_count": null,
   "id": "aa0c82c3-f88f-43f5-8369-44666e56f57f",
   "metadata": {},
   "outputs": [],
   "source": []
  }
 ],
 "metadata": {
  "kernelspec": {
   "display_name": "Python 3 (ipykernel)",
   "language": "python",
   "name": "python3"
  },
  "language_info": {
   "codemirror_mode": {
    "name": "ipython",
    "version": 3
   },
   "file_extension": ".py",
   "mimetype": "text/x-python",
   "name": "python",
   "nbconvert_exporter": "python",
   "pygments_lexer": "ipython3",
   "version": "3.11.7"
  }
 },
 "nbformat": 4,
 "nbformat_minor": 5
}
