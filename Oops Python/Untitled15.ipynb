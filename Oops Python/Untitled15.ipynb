{
 "cells": [
  {
   "cell_type": "code",
   "execution_count": 1,
   "id": "ad978a59-d4e4-40b7-955e-107ea9999a01",
   "metadata": {},
   "outputs": [],
   "source": [
    "class MyClass:\n",
    "    home_variable = 87\n",
    "    def __init__(self):\n",
    "      \n",
    "        self.public_attribute = \"I am public\"\n",
    "\n",
    "    def public_method(self):\n",
    "        return \"This is a public method\"\n",
    "\n",
    "class Child_class_of_Myclass(MyClass):\n",
    "    def __init__(self,name):\n",
    "        self.name = name\n",
    "        # super().__init__()\n",
    "    def child_class_method():\n",
    "        return \"This is child class method in Child_class_of_Myclass\"\n",
    "        "
   ]
  },
  {
   "cell_type": "code",
   "execution_count": 2,
   "id": "5e52c220-5728-442e-b22f-1ddb7501634d",
   "metadata": {},
   "outputs": [],
   "source": [
    "ob_Child_class = Child_class_of_Myclass(\"rohit\")"
   ]
  },
  {
   "cell_type": "code",
   "execution_count": 3,
   "id": "d62cf449-94ca-4046-93ef-838674595445",
   "metadata": {},
   "outputs": [],
   "source": [
    "class MyClass:\n",
    "    def __init__(self):\n",
    "        self.public_variable = 90\n",
    "        self._protected_variable = 50\n",
    "        self.__private_attribute = \"I am private\"\n",
    "        \n",
    "\n",
    "    def __private_method(self):\n",
    "        return \"This is a private method\"\n",
    "\n",
    "    def access_private(self):\n",
    "        return self.__private_method()  # Accessible within the class"
   ]
  },
  {
   "cell_type": "code",
   "execution_count": 4,
   "id": "041ad77d-5e4d-49fc-8304-96aa9513e86d",
   "metadata": {},
   "outputs": [],
   "source": [
    "object = MyClass()"
   ]
  },
  {
   "cell_type": "code",
   "execution_count": 5,
   "id": "30ba0e17-8faf-4989-bee9-821e4429b463",
   "metadata": {},
   "outputs": [
    {
     "data": {
      "text/plain": [
       "90"
      ]
     },
     "execution_count": 5,
     "metadata": {},
     "output_type": "execute_result"
    }
   ],
   "source": [
    "object.public_variable"
   ]
  },
  {
   "cell_type": "code",
   "execution_count": 6,
   "id": "b3cee622-9a30-4027-ab6a-08d7798042ce",
   "metadata": {},
   "outputs": [
    {
     "data": {
      "text/plain": [
       "50"
      ]
     },
     "execution_count": 6,
     "metadata": {},
     "output_type": "execute_result"
    }
   ],
   "source": [
    "object._protected_variable"
   ]
  },
  {
   "cell_type": "code",
   "execution_count": 7,
   "id": "bbca4525-62ca-4017-b333-f35c9f03907b",
   "metadata": {},
   "outputs": [
    {
     "ename": "AttributeError",
     "evalue": "'MyClass' object has no attribute '__private_attribute'",
     "output_type": "error",
     "traceback": [
      "\u001b[1;31m---------------------------------------------------------------------------\u001b[0m",
      "\u001b[1;31mAttributeError\u001b[0m                            Traceback (most recent call last)",
      "Cell \u001b[1;32mIn[7], line 1\u001b[0m\n\u001b[1;32m----> 1\u001b[0m \u001b[38;5;28mobject\u001b[39m\u001b[38;5;241m.\u001b[39m__private_attribute\n",
      "\u001b[1;31mAttributeError\u001b[0m: 'MyClass' object has no attribute '__private_attribute'"
     ]
    }
   ],
   "source": [
    "object.__private_attribute"
   ]
  },
  {
   "cell_type": "code",
   "execution_count": null,
   "id": "f787f57d-6282-44aa-b973-e35d080ebf15",
   "metadata": {},
   "outputs": [],
   "source": [
    "object."
   ]
  },
  {
   "cell_type": "code",
   "execution_count": 11,
   "id": "dab5f498-a2a8-46ee-a205-2dc60bfb8df2",
   "metadata": {},
   "outputs": [],
   "source": [
    "class MyClass:\n",
    "    def __init__(self):\n",
    "        self.__private_number = 1\n",
    "        self.__private_number1 = 2\n",
    "        self.total = self.__private_number + self.__private_number1\n",
    "        \n",
    "\n",
    "    def __private_method(self):\n",
    "        return \"This is a private method\""
   ]
  },
  {
   "cell_type": "code",
   "execution_count": 12,
   "id": "8d1aeae2-3e86-4eee-b39d-73f51aead4fc",
   "metadata": {},
   "outputs": [],
   "source": [
    "myobj = MyClass()"
   ]
  },
  {
   "cell_type": "code",
   "execution_count": 13,
   "id": "3d7462da-c108-46cc-8345-f12701d8a93e",
   "metadata": {},
   "outputs": [
    {
     "data": {
      "text/plain": [
       "3"
      ]
     },
     "execution_count": 13,
     "metadata": {},
     "output_type": "execute_result"
    }
   ],
   "source": [
    "myobj.total"
   ]
  },
  {
   "cell_type": "code",
   "execution_count": 14,
   "id": "9bf479e5-57d8-4d4b-98f0-4c2cf6a7e388",
   "metadata": {},
   "outputs": [
    {
     "data": {
      "text/plain": [
       "{'_MyClass__private_number': 1, '_MyClass__private_number1': 2, 'total': 3}"
      ]
     },
     "execution_count": 14,
     "metadata": {},
     "output_type": "execute_result"
    }
   ],
   "source": [
    "myobj.__dict__"
   ]
  },
  {
   "cell_type": "code",
   "execution_count": 15,
   "id": "a2b5cc71-7d36-443e-8dd2-fbd9080ffdea",
   "metadata": {},
   "outputs": [
    {
     "ename": "AttributeError",
     "evalue": "'MyClass' object has no attribute '__private_number'",
     "output_type": "error",
     "traceback": [
      "\u001b[1;31m---------------------------------------------------------------------------\u001b[0m",
      "\u001b[1;31mAttributeError\u001b[0m                            Traceback (most recent call last)",
      "Cell \u001b[1;32mIn[15], line 1\u001b[0m\n\u001b[1;32m----> 1\u001b[0m myobj\u001b[38;5;241m.\u001b[39m__private_number\n",
      "\u001b[1;31mAttributeError\u001b[0m: 'MyClass' object has no attribute '__private_number'"
     ]
    }
   ],
   "source": [
    "myobj.__private_number "
   ]
  },
  {
   "cell_type": "code",
   "execution_count": 16,
   "id": "9adc8424-58f1-4f7c-9b94-8be6fd6beb68",
   "metadata": {},
   "outputs": [
    {
     "data": {
      "text/plain": [
       "1"
      ]
     },
     "execution_count": 16,
     "metadata": {},
     "output_type": "execute_result"
    }
   ],
   "source": [
    "myobj._MyClass__private_number"
   ]
  },
  {
   "cell_type": "code",
   "execution_count": null,
   "id": "7d96cd2e-7b0e-4751-95fa-c72e90fc0287",
   "metadata": {},
   "outputs": [],
   "source": []
  }
 ],
 "metadata": {
  "kernelspec": {
   "display_name": "Python 3 (ipykernel)",
   "language": "python",
   "name": "python3"
  },
  "language_info": {
   "codemirror_mode": {
    "name": "ipython",
    "version": 3
   },
   "file_extension": ".py",
   "mimetype": "text/x-python",
   "name": "python",
   "nbconvert_exporter": "python",
   "pygments_lexer": "ipython3",
   "version": "3.11.7"
  }
 },
 "nbformat": 4,
 "nbformat_minor": 5
}
