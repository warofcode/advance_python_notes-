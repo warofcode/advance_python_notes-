{
 "cells": [
  {
   "cell_type": "code",
   "execution_count": 1,
   "id": "9dade799-1e9f-4b2c-a269-ac4e68a76362",
   "metadata": {},
   "outputs": [
    {
     "name": "stdout",
     "output_type": "stream",
     "text": [
      "saturday\n",
      "saturday\n",
      "saturday\n"
     ]
    }
   ],
   "source": [
    "class REXGALAXY:\n",
    "    holidays = \"saturday\"\n",
    "    \n",
    "    def __init__(self,name,college,course):\n",
    "        self.name= name\n",
    "        self.college = college\n",
    "        self.course = course\n",
    "        \n",
    "    def student_details(self):\n",
    "        return f\" details of {self.name} is {self.course}\"\n",
    "# createing object of REXGALAXY class\n",
    "rohit= REXGALAXY(\"ROHIT TYAGI\",\"SHARDA UNIVERSITY\",[\"Python\",\"Tablue\",\"mysql\"])    \n",
    "\n",
    "sachin = REXGALAXY(\"Sachin\",\"UPTU\",\"Onlysql\")\n",
    "\n",
    "print(sachin.holidays)\n",
    "print(rohit.holidays)\n",
    "print(REXGALAXY.holidays) \n",
    "\n",
    "# now we would like to change the class variable with the help of class method"
   ]
  },
  {
   "cell_type": "code",
   "execution_count": 2,
   "id": "f1dc547e-ed95-4623-9fd4-c1268806181a",
   "metadata": {},
   "outputs": [],
   "source": [
    "sachin.holidays = \"sunday\""
   ]
  },
  {
   "cell_type": "code",
   "execution_count": 3,
   "id": "312cdcab-7c9e-4b29-bf03-7557d79c450f",
   "metadata": {},
   "outputs": [
    {
     "data": {
      "text/plain": [
       "'saturday'"
      ]
     },
     "execution_count": 3,
     "metadata": {},
     "output_type": "execute_result"
    }
   ],
   "source": [
    "REXGALAXY.holidays"
   ]
  },
  {
   "cell_type": "code",
   "execution_count": 4,
   "id": "02cb8257-d18d-49ab-b66c-bb2fc90d8727",
   "metadata": {},
   "outputs": [
    {
     "data": {
      "text/plain": [
       "'sunday'"
      ]
     },
     "execution_count": 4,
     "metadata": {},
     "output_type": "execute_result"
    }
   ],
   "source": [
    "sachin.holidays"
   ]
  },
  {
   "cell_type": "code",
   "execution_count": 5,
   "id": "d8c5f9c1-7ff2-4745-a136-bc731cad329f",
   "metadata": {},
   "outputs": [],
   "source": [
    "rohit.holidays = \"friday\""
   ]
  },
  {
   "cell_type": "code",
   "execution_count": 6,
   "id": "aa9ccbb7-4928-4412-95c6-e3993476bee7",
   "metadata": {},
   "outputs": [
    {
     "data": {
      "text/plain": [
       "'saturday'"
      ]
     },
     "execution_count": 6,
     "metadata": {},
     "output_type": "execute_result"
    }
   ],
   "source": [
    "REXGALAXY.holidays"
   ]
  },
  {
   "cell_type": "code",
   "execution_count": 7,
   "id": "9c1a983c-41e8-4aad-b9bf-b6046abb7d6f",
   "metadata": {},
   "outputs": [],
   "source": [
    "rohit.holidays= \"now\""
   ]
  },
  {
   "cell_type": "code",
   "execution_count": 8,
   "id": "93f3f8ef-e546-426c-9afc-4478de680bd5",
   "metadata": {},
   "outputs": [
    {
     "data": {
      "text/plain": [
       "'now'"
      ]
     },
     "execution_count": 8,
     "metadata": {},
     "output_type": "execute_result"
    }
   ],
   "source": [
    "rohit.holidays"
   ]
  },
  {
   "cell_type": "code",
   "execution_count": 10,
   "id": "9a7cb6d3-c4c6-4330-b6c6-bc10ee98b884",
   "metadata": {},
   "outputs": [
    {
     "data": {
      "text/plain": [
       "'saturday'"
      ]
     },
     "execution_count": 10,
     "metadata": {},
     "output_type": "execute_result"
    }
   ],
   "source": [
    "REXGALAXY.holidays"
   ]
  },
  {
   "cell_type": "code",
   "execution_count": 11,
   "id": "e6e075e8-2879-43eb-9783-0b37c5783fd0",
   "metadata": {},
   "outputs": [],
   "source": [
    "REXGALAXY.holidays = \"that\""
   ]
  },
  {
   "cell_type": "code",
   "execution_count": 12,
   "id": "ebd6da7b-cc63-4f5a-883b-41001f9ca34d",
   "metadata": {},
   "outputs": [
    {
     "data": {
      "text/plain": [
       "'now'"
      ]
     },
     "execution_count": 12,
     "metadata": {},
     "output_type": "execute_result"
    }
   ],
   "source": [
    "rohit.holidays"
   ]
  },
  {
   "cell_type": "code",
   "execution_count": null,
   "id": "20fe9c36-5cc9-4410-96ed-534593d40cb9",
   "metadata": {},
   "outputs": [],
   "source": []
  }
 ],
 "metadata": {
  "kernelspec": {
   "display_name": "Python 3 (ipykernel)",
   "language": "python",
   "name": "python3"
  },
  "language_info": {
   "codemirror_mode": {
    "name": "ipython",
    "version": 3
   },
   "file_extension": ".py",
   "mimetype": "text/x-python",
   "name": "python",
   "nbconvert_exporter": "python",
   "pygments_lexer": "ipython3",
   "version": "3.11.7"
  }
 },
 "nbformat": 4,
 "nbformat_minor": 5
}
