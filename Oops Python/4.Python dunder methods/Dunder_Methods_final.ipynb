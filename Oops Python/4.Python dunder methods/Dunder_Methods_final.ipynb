{
 "cells": [
  {
   "cell_type": "markdown",
   "id": "435488db-814d-4de3-9f43-573b1988bafe",
   "metadata": {},
   "source": [
    "                                                   what is dunder methonds ?"
   ]
  },
  {
   "cell_type": "raw",
   "id": "2ec2ca5c-49e6-4409-81e7-b9a8d2259f8e",
   "metadata": {},
   "source": [
    "Dunder or magic methods or special method in Python\n",
    "\n",
    "Dunder or magic methods in Python are the methods having two prefix and suffix underscores in the method name.\n",
    "\n",
    "Dunder here means “Double Under (Underscores)”. These are commonly used for operator overloading. Few examples for magic \n",
    "\n",
    "methods are: __init__, __add__, __len__, __repr__ etc.\n",
    "\n",
    "The __init__ method for initialization is invoked without any call, when an instance of a class is created, like constructors \n",
    "\n",
    "in certain other programming languages such as C++, Java, C#, PHP etc. These methods are the reason we can add two strings \n",
    "\n",
    "with ‘+’ operator without any explicit typecasting.\n",
    "\n"
   ]
  },
  {
   "cell_type": "code",
   "execution_count": 56,
   "id": "f635c5f4-46de-4046-8ff8-28c493a18689",
   "metadata": {},
   "outputs": [
    {
     "name": "stdout",
     "output_type": "stream",
     "text": [
      "<__main__.Ducat object at 0x000002047B70C350>\n"
     ]
    }
   ],
   "source": [
    "class Ducat:\n",
    "    minimum_pay = 20000\n",
    "    def __init__(self,first_name,last_name,pay):\n",
    "        self.first_name = first_name\n",
    "        self.last_name = last_name\n",
    "        self.pay = pay\n",
    "        self.email = f\"{self.first_name}.{self.last_name}@ducat.com\"\n",
    "\n",
    "\n",
    "Rohit_object = Ducat(\"ROhit\",\"Tyagi\",20000)\n",
    "Sachin_object = Ducat(\"Sachin\",\"Kumar\",40000)\n",
    "\n",
    "print(Rohit_object) # we dont want this represntaion this way\"\n"
   ]
  },
  {
   "cell_type": "code",
   "execution_count": 57,
   "id": "c46e5e35-bbcb-4f9e-ba64-3ce46d8be074",
   "metadata": {},
   "outputs": [
    {
     "name": "stdout",
     "output_type": "stream",
     "text": [
      "Ducat(ROhit,Tyagi,20000)\n",
      "Ducat(Sachin,Kumar,40000)\n"
     ]
    }
   ],
   "source": [
    "class Ducat:\n",
    "    minimum_pay = 20000\n",
    "    def __init__(self,first_name,last_name,pay):\n",
    "        self.first_name = first_name\n",
    "        self.last_name = last_name\n",
    "        self.pay = pay\n",
    "        self.email = f\"{self.first_name}.{self.last_name}@ducat.com\"\n",
    "\n",
    "    def __repr__(self):\n",
    "        return f\"Ducat({self.first_name},{self.last_name},{self.pay})\"\n",
    "\n",
    "\n",
    "Rohit_object = Ducat(\"ROhit\",\"Tyagi\",20000)\n",
    "Sachin_object = Ducat(\"Sachin\",\"Kumar\",40000)\n",
    "print(Rohit_object)\n",
    "print(Sachin_object)"
   ]
  },
  {
   "cell_type": "code",
   "execution_count": 69,
   "id": "a74618e7-6748-4b63-a2aa-24252b0dd3ee",
   "metadata": {},
   "outputs": [
    {
     "name": "stdout",
     "output_type": "stream",
     "text": [
      "2024-04-23 17:30:49.177032\n",
      "datetime.datetime(2024, 4, 23, 17, 30, 49, 177032)\n"
     ]
    }
   ],
   "source": [
    "import datetime\n",
    "\n",
    "now = datetime.datetime.now()\n",
    "\n",
    "# Using str()\n",
    "print(str(now))  # Output: 2024-04-23 15:30:00.000000\n",
    "\n",
    "# Using repr()\n",
    "print(repr(now))  # Output: datetime.datetime(2024, 4, 23, 15, 30)\n"
   ]
  },
  {
   "cell_type": "code",
   "execution_count": 58,
   "id": "48640c69-6376-4e6e-aab0-47de5feadd4f",
   "metadata": {},
   "outputs": [
    {
     "name": "stdout",
     "output_type": "stream",
     "text": [
      "Hi ROhit your Email is ROhit.Tyagi@ducat.com\n",
      "Hi Sachin your Email is Sachin.Kumar@ducat.com\n",
      "5\n",
      "60000\n"
     ]
    }
   ],
   "source": [
    "class Ducat:\n",
    "    minimum_pay = 20000\n",
    "    def __init__(self,first_name,last_name,pay):\n",
    "        self.first_name = first_name\n",
    "        self.last_name = last_name\n",
    "        self.pay = pay\n",
    "        self.email = f\"{self.first_name}.{self.last_name}@ducat.com\"\n",
    "\n",
    "    def __repr__(self):\n",
    "        return f\"Ducat({self.first_name},{self.last_name},{self.pay})\"\n",
    "\n",
    "    def __str__(self):\n",
    "        return f\"Hi {self.first_name} your Email is {self.email}\"\n",
    "        \n",
    "    def __len__(self):\n",
    "        return len(self.first_name)\n",
    "        \n",
    "    def __add__(self,other):\n",
    "        return self.pay + other.pay\n",
    "\n",
    "\n",
    "Rohit_object = Ducat(\"ROhit\",\"Tyagi\",20000)\n",
    "Sachin_object = Ducat(\"Sachin\",\"Kumar\",40000)\n",
    "print(Rohit_object)\n",
    "print(Sachin_object)\n",
    "print(len(Rohit_object))\n",
    "print(Rohit_object+Sachin_object)"
   ]
  },
  {
   "cell_type": "markdown",
   "id": "383ba0ea-3163-4eeb-8277-3a86d30837c8",
   "metadata": {},
   "source": [
    "In Python, str() and repr() are two built-in functions used to obtain string representations of objects, but they have some differences in their behavior:"
   ]
  },
  {
   "cell_type": "markdown",
   "id": "59f14788-b22f-4635-9480-89a86fc545ec",
   "metadata": {},
   "source": [
    " 1. str():\n",
    "\n",
    "str() returns a human-readable string representation of an object.\n",
    "\n",
    "It's intended to be easy to read for humans.\n",
    "\n",
    "The representation might not always be as precise or detailed as the one provided by repr().\n",
    "\n",
    "It's generally used for displaying information to users or for formatting output."
   ]
  },
  {
   "cell_type": "markdown",
   "id": "8854b75c-20df-4407-a2e0-e1b40162be8d",
   "metadata": {},
   "source": [
    " 2. repr():"
   ]
  },
  {
   "cell_type": "markdown",
   "id": "5e2ab10d-bb85-4b64-8997-3fd025e7fb33",
   "metadata": {},
   "source": [
    "repr() returns a string representation of an object that can be used to recreate the object.\n",
    "\n",
    "It's intended to be unambiguous and more precise, often showing the exact type and state of the object.\n",
    "\n",
    "The representation should ideally be such that passing it to eval() would recreate the object.\n",
    "\n",
    "It's useful for debugging, logging, and for generating source code representations."
   ]
  },
  {
   "cell_type": "markdown",
   "id": "bfabbc60-f71d-4a91-9820-6873994f47ef",
   "metadata": {},
   "source": [
    "Here's an example to illustrate the difference:"
   ]
  },
  {
   "cell_type": "markdown",
   "id": "c7175358-8c87-48cb-a2f5-e778040de94e",
   "metadata": {},
   "source": [
    "In this example, str(now) gives a human-readable string representing the current date and time, while repr(now) provides a string that, when evaluated, would recreate the datetime object."
   ]
  },
  {
   "cell_type": "code",
   "execution_count": 60,
   "id": "70760aca-47eb-4c87-9c5a-0c0fb4cd1f8c",
   "metadata": {},
   "outputs": [
    {
     "data": {
      "text/plain": [
       "5"
      ]
     },
     "execution_count": 60,
     "metadata": {},
     "output_type": "execute_result"
    }
   ],
   "source": [
    "\"rohit\".__len__()"
   ]
  },
  {
   "cell_type": "code",
   "execution_count": 61,
   "id": "51779eb3-dcbb-46cf-bc3e-a2eeb67237d8",
   "metadata": {},
   "outputs": [
    {
     "data": {
      "text/plain": [
       "90"
      ]
     },
     "execution_count": 61,
     "metadata": {},
     "output_type": "execute_result"
    }
   ],
   "source": [
    "number1 = 40\n",
    "number2 = 50\n",
    "number1.__add__(number2)"
   ]
  },
  {
   "cell_type": "code",
   "execution_count": 68,
   "id": "b47ee9c2-11a0-40c5-a4ab-7a54d6e50dc0",
   "metadata": {},
   "outputs": [
    {
     "data": {
      "text/plain": [
       "2000"
      ]
     },
     "execution_count": 68,
     "metadata": {},
     "output_type": "execute_result"
    }
   ],
   "source": [
    "number1 = 40\n",
    "number2 = 50\n",
    "number1.__mul__(number2)"
   ]
  },
  {
   "cell_type": "code",
   "execution_count": 62,
   "id": "6b942897-5e45-41f3-a95b-a5aae71ddfad",
   "metadata": {},
   "outputs": [
    {
     "data": {
      "text/plain": [
       "'Rohit Tyagi'"
      ]
     },
     "execution_count": 62,
     "metadata": {},
     "output_type": "execute_result"
    }
   ],
   "source": [
    "string1 = \"Rohit\"\n",
    "string2 = \" Tyagi\"\n",
    "string1.__add__(string2)"
   ]
  },
  {
   "cell_type": "code",
   "execution_count": 63,
   "id": "f19031a6-a1c1-4bb3-ae5f-6e6727470d8e",
   "metadata": {},
   "outputs": [
    {
     "name": "stdout",
     "output_type": "stream",
     "text": [
      "rohit12\n"
     ]
    }
   ],
   "source": [
    "class CustomAddition:\n",
    "    def __init__(self, firstname):\n",
    "        self.firstname = firstname\n",
    "    \n",
    "    def __add__(self, other):\n",
    "        if isinstance(other, int) and type(self.firstname) == str:\n",
    "            return f\"{self.firstname}{other}\"\n",
    "        else:\n",
    "            raise TypeError(\"Unsupported operation\")\n",
    "\n",
    "# Test\n",
    "rohit_object = CustomAddition(\"rohit\")\n",
    "print(rohit_object+12)\n"
   ]
  },
  {
   "cell_type": "code",
   "execution_count": 66,
   "id": "88530ce7-2e7a-460a-ae6e-12979e27c297",
   "metadata": {},
   "outputs": [
    {
     "name": "stdout",
     "output_type": "stream",
     "text": [
      "rohit1hello\n"
     ]
    }
   ],
   "source": [
    "class CustomAddition:\n",
    "    def __init__(self, value):\n",
    "        self.value = value\n",
    "    \n",
    "\n",
    "    \n",
    "    def __add__(self, other1, other2):\n",
    "        if isinstance(other1, int) and self.value == \"rohit\" and isinstance(other2, str):\n",
    "            return f\"{self.value}{other1}{other2}\"\n",
    "        else:\n",
    "            raise TypeError(\"Unsupported operation\")\n",
    "\n",
    "# Test\n",
    "obj = CustomAddition(\"rohit\")\n",
    "result = obj.__add__(1, \"hello\")\n",
    "print(result)  # Output will be \"rohit 1 hello\"\n"
   ]
  },
  {
   "cell_type": "markdown",
   "id": "342a2aa9-09ea-48c4-9b0d-f6343b3d1abe",
   "metadata": {},
   "source": [
    "# What is operator overloading ?"
   ]
  },
  {
   "cell_type": "markdown",
   "id": "095ef4f9-487f-4a80-954e-353625bd338c",
   "metadata": {},
   "source": [
    "Operator overloading is a feature in object-oriented programming languages, such as Python, that allows you to define how operators behave for user-defined classes. In essence, it allows you to redefine the behavior of built-in operators (like +, -, *, /, ==, <, >, etc.) when applied to objects of your custom classes.\n",
    "\n",
    "In Python, operator overloading is achieved by defining special methods with double underscores (often referred to as \"dunder\" methods) that correspond to specific operators. These methods are invoked automatically when the corresponding operator is used with instances of your class."
   ]
  },
  {
   "cell_type": "markdown",
   "id": "4beb1826-5007-4e37-b897-79952282f809",
   "metadata": {},
   "source": [
    "Here are some commonly used special methods for operator overloading in Python:"
   ]
  },
  {
   "cell_type": "raw",
   "id": "77cab42e-53c8-4908-9945-c4dba5b8c654",
   "metadata": {},
   "source": [
    "__add__: Overloads the + operator.\n",
    "__sub__: Overloads the - operator.\n",
    "__mul__: Overloads the * operator.\n",
    "__truediv__: Overloads the / operator.\n",
    "__eq__: Overloads the == operator.\n",
    "__lt__: Overloads the < operator.\n",
    "__gt__: Overloads the > operator.\n",
    "And many more..."
   ]
  },
  {
   "cell_type": "raw",
   "id": "89a29f47-deb3-44ff-9010-1a87386868f3",
   "metadata": {},
   "source": [
    "example:"
   ]
  },
  {
   "cell_type": "code",
   "execution_count": 71,
   "id": "1f00d2c3-60f6-4d90-83ba-841622d9e0bd",
   "metadata": {},
   "outputs": [
    {
     "data": {
      "text/plain": [
       "3"
      ]
     },
     "execution_count": 71,
     "metadata": {},
     "output_type": "execute_result"
    }
   ],
   "source": [
    "1+2  # able to add integers"
   ]
  },
  {
   "cell_type": "code",
   "execution_count": null,
   "id": "c5602a33-5e54-4294-8caf-76c118f5caf8",
   "metadata": {},
   "outputs": [],
   "source": [
    "\"rohit\"+\"kumar\" # also able to add strings"
   ]
  },
  {
   "cell_type": "code",
   "execution_count": 77,
   "id": "706cda20-81f3-429c-8242-5208778419ea",
   "metadata": {},
   "outputs": [
    {
     "name": "stdout",
     "output_type": "stream",
     "text": [
      "60000\n"
     ]
    }
   ],
   "source": [
    "class Ducat:\n",
    "    minimum_pay = 20000\n",
    "    def __init__(self,first_name,last_name,pay):\n",
    "        self.first_name = first_name\n",
    "        self.last_name = last_name\n",
    "        self.pay = pay\n",
    "        self.email = f\"{self.first_name}.{self.last_name}@ducat.com\"\n",
    "\n",
    "    def __add__(self,other):\n",
    "        return self.pay + other.pay\n",
    "\n",
    "Rohit_object = Ducat(\"ROhit\",\"Tyagi\",20000)\n",
    "Sachin_object = Ducat(\"Sachin\",\"Kumar\",40000)\n",
    "\n",
    "print(Rohit_object+Sachin_object)"
   ]
  },
  {
   "cell_type": "code",
   "execution_count": null,
   "id": "9b5ee59b-b0a5-4ac0-8d15-caef76a9c4af",
   "metadata": {},
   "outputs": [],
   "source": []
  }
 ],
 "metadata": {
  "kernelspec": {
   "display_name": "Python 3 (ipykernel)",
   "language": "python",
   "name": "python3"
  },
  "language_info": {
   "codemirror_mode": {
    "name": "ipython",
    "version": 3
   },
   "file_extension": ".py",
   "mimetype": "text/x-python",
   "name": "python",
   "nbconvert_exporter": "python",
   "pygments_lexer": "ipython3",
   "version": "3.11.7"
  }
 },
 "nbformat": 4,
 "nbformat_minor": 5
}
