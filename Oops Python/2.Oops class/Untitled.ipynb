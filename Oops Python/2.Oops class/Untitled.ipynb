{
 "cells": [
  {
   "cell_type": "code",
   "execution_count": 1,
   "id": "2e88b818-b525-4feb-8e9a-7cbe6b4def7a",
   "metadata": {},
   "outputs": [],
   "source": [
    "class DUCAT:\n",
    "    holiday = \"Sunday\"\n",
    "\n",
    "ishwar = DUCAT()\n",
    "ram = DUCAT()\n",
    "soman = DUCAT()"
   ]
  },
  {
   "cell_type": "code",
   "execution_count": 2,
   "id": "6ab43f97-b5cf-4b2c-acc3-041c0d91cc65",
   "metadata": {},
   "outputs": [
    {
     "name": "stdout",
     "output_type": "stream",
     "text": [
      "2419160168848\n",
      "2419160302096\n",
      "2419160302288\n"
     ]
    }
   ],
   "source": [
    "print(id(ishwar))\n",
    "print(id(ram))\n",
    "print(id(soman))"
   ]
  },
  {
   "cell_type": "code",
   "execution_count": 3,
   "id": "26adafff-36a4-4a02-a34e-c42aa968fcba",
   "metadata": {},
   "outputs": [],
   "source": [
    "ishwar.name = \"iswhar\"\n",
    "ishwar.measure = \"python\"\n",
    "ishwar.courses = [\"mysql\",\"java\",\"c++\",\"powerbi\"]"
   ]
  },
  {
   "cell_type": "code",
   "execution_count": 4,
   "id": "622bc9b9-de0f-4533-8206-6758038c750a",
   "metadata": {},
   "outputs": [],
   "source": [
    "ram.name = \"ram kumar\"\n",
    "ram.city = \"Noida\"\n",
    "ram.courses = [\"powebi\"]"
   ]
  },
  {
   "cell_type": "code",
   "execution_count": 5,
   "id": "77eec2cc-0f48-4014-b922-375c71f3633a",
   "metadata": {},
   "outputs": [],
   "source": [
    "soman.city = \"Delhi\""
   ]
  },
  {
   "cell_type": "code",
   "execution_count": 8,
   "id": "3aa0f730-dc35-4c75-ba6a-e111b20562d6",
   "metadata": {},
   "outputs": [
    {
     "name": "stdout",
     "output_type": "stream",
     "text": [
      "{'name': 'ram kumar', 'city': 'Noida', 'courses': ['powebi']}\n",
      "{'name': 'iswhar', 'measure': 'python', 'courses': ['mysql', 'java', 'c++', 'powerbi']}\n",
      "{'city': 'Delhi'}\n"
     ]
    }
   ],
   "source": [
    "print(ram.__dict__)\n",
    "print(ishwar.__dict__)\n",
    "print(soman.__dict__)"
   ]
  },
  {
   "cell_type": "code",
   "execution_count": 13,
   "id": "17b37c82-e8ea-4bc4-bef6-0938b5f47181",
   "metadata": {},
   "outputs": [
    {
     "name": "stdout",
     "output_type": "stream",
     "text": [
      "Sunday\n",
      "Sunday\n",
      "Sunday\n"
     ]
    }
   ],
   "source": [
    "print(ram.holiday)\n",
    "print(ishwar.holiday)\n",
    "print(soman.holiday)"
   ]
  },
  {
   "cell_type": "code",
   "execution_count": 15,
   "id": "8a3838de-112c-411e-b640-3e91b88ef143",
   "metadata": {},
   "outputs": [],
   "source": [
    "\n",
    "ram.holiday = \"only sunday\"\n",
    "ishwar.holiday = \"only friday\"\n",
    "soman.holiday = \"only wednesday\""
   ]
  },
  {
   "cell_type": "code",
   "execution_count": 16,
   "id": "8ee0803c-43be-44f4-94c2-a0ffd6be10e5",
   "metadata": {},
   "outputs": [
    {
     "data": {
      "text/plain": [
       "'only sunday'"
      ]
     },
     "execution_count": 16,
     "metadata": {},
     "output_type": "execute_result"
    }
   ],
   "source": [
    "ram.holiday"
   ]
  },
  {
   "cell_type": "code",
   "execution_count": 20,
   "id": "a8b3cab5-01fa-4ec4-9c57-a91d58f4604c",
   "metadata": {},
   "outputs": [
    {
     "data": {
      "text/plain": [
       "'Sunday'"
      ]
     },
     "execution_count": 20,
     "metadata": {},
     "output_type": "execute_result"
    }
   ],
   "source": [
    "DUCAT.holiday"
   ]
  },
  {
   "cell_type": "code",
   "execution_count": 21,
   "id": "958d2d71-d098-4196-b0a0-6b49705906b8",
   "metadata": {},
   "outputs": [
    {
     "name": "stdout",
     "output_type": "stream",
     "text": [
      "{'name': 'ram kumar', 'city': 'Noida', 'courses': ['powebi'], 'holiday': 'only sunday'}\n",
      "{'name': 'iswhar', 'measure': 'python', 'courses': ['mysql', 'java', 'c++', 'powerbi'], 'holiday': 'only fiday'}\n",
      "{'city': 'Delhi', 'holiday': 'only wednesday'}\n"
     ]
    }
   ],
   "source": [
    "print(ram.__dict__)\n",
    "print(ishwar.__dict__)\n",
    "print(soman.__dict__)"
   ]
  },
  {
   "cell_type": "code",
   "execution_count": 23,
   "id": "322154ef-5252-4e4b-9ff4-e0635b3a73e9",
   "metadata": {},
   "outputs": [],
   "source": [
    "DUCAT.holiday = \"all days week off\""
   ]
  },
  {
   "cell_type": "code",
   "execution_count": 25,
   "id": "41593113-b6b0-4c8a-ae90-5162fca56253",
   "metadata": {},
   "outputs": [
    {
     "data": {
      "text/plain": [
       "'all days week off'"
      ]
     },
     "execution_count": 25,
     "metadata": {},
     "output_type": "execute_result"
    }
   ],
   "source": [
    "DUCAT.holiday"
   ]
  },
  {
   "cell_type": "code",
   "execution_count": 26,
   "id": "22903b60-d85f-4246-837c-3eb511e164c9",
   "metadata": {},
   "outputs": [],
   "source": [
    "del ram.holiday"
   ]
  },
  {
   "cell_type": "code",
   "execution_count": 27,
   "id": "36fc4b0d-66f4-48ea-b569-02b5b794559e",
   "metadata": {},
   "outputs": [
    {
     "data": {
      "text/plain": [
       "'all days week off'"
      ]
     },
     "execution_count": 27,
     "metadata": {},
     "output_type": "execute_result"
    }
   ],
   "source": [
    "ram.holiday"
   ]
  },
  {
   "cell_type": "code",
   "execution_count": 28,
   "id": "6da1a182-813f-49be-96dc-0833e318a085",
   "metadata": {},
   "outputs": [
    {
     "name": "stdout",
     "output_type": "stream",
     "text": [
      "4\n"
     ]
    }
   ],
   "source": [
    "print(2+2)"
   ]
  },
  {
   "cell_type": "code",
   "execution_count": 30,
   "id": "a557eb15-3aeb-402d-a881-f7be71dd8eed",
   "metadata": {},
   "outputs": [
    {
     "data": {
      "text/plain": [
       "4"
      ]
     },
     "execution_count": 30,
     "metadata": {},
     "output_type": "execute_result"
    }
   ],
   "source": [
    "(2).__add__(2)"
   ]
  },
  {
   "cell_type": "code",
   "execution_count": 55,
   "id": "4f9ac232-1506-48a6-a42a-c9c96022d3a3",
   "metadata": {},
   "outputs": [],
   "source": [
    "class DUCAT1:\n",
    "    holiday = \"sunday\"\n",
    "    def __init__(self,name,measure,courses):\n",
    "        self.name = name\n",
    "        self.measure = measure\n",
    "        self.courses = courses\n",
    "    def detail_printer(self):\n",
    "        return f\"Hi {self.name} how are you. how may i help you\"\n",
    "        \n",
    "        \n",
    "\n"
   ]
  },
  {
   "cell_type": "code",
   "execution_count": 58,
   "id": "bc9acc10-dcc3-4f24-86e5-82787519c24b",
   "metadata": {},
   "outputs": [],
   "source": [
    "ishwar = DUCAT1(\"iswhar\",\"python\",[\"mysql\",\"java\",\"c++\",\"powerbi\"])\n",
    "rohit = DUCAT1(\"rohit\",\"java\",\"powerbi\")\n"
   ]
  },
  {
   "cell_type": "code",
   "execution_count": 57,
   "id": "31f4605a-a35e-4812-baaa-44e4c93e8540",
   "metadata": {},
   "outputs": [
    {
     "data": {
      "text/plain": [
       "'Hi iswhar how are you. how may i help you'"
      ]
     },
     "execution_count": 57,
     "metadata": {},
     "output_type": "execute_result"
    }
   ],
   "source": [
    "ishwar.detail_printer()"
   ]
  },
  {
   "cell_type": "code",
   "execution_count": 59,
   "id": "061bafce-f9ac-4c32-b52d-fcb0fcba6b41",
   "metadata": {},
   "outputs": [
    {
     "data": {
      "text/plain": [
       "'Hi rohit how are you. how may i help you'"
      ]
     },
     "execution_count": 59,
     "metadata": {},
     "output_type": "execute_result"
    }
   ],
   "source": [
    "rohit.detail_printer()"
   ]
  },
  {
   "cell_type": "code",
   "execution_count": null,
   "id": "36cdc610-fccf-4dd2-a3d9-9c3020fb9a0d",
   "metadata": {},
   "outputs": [],
   "source": []
  },
  {
   "cell_type": "code",
   "execution_count": 52,
   "id": "4b5e0d18-d370-4d75-b7be-2672a68a5a4b",
   "metadata": {},
   "outputs": [
    {
     "name": "stdout",
     "output_type": "stream",
     "text": [
      "['mysql', 'java', 'c++', 'powerbi']\n"
     ]
    }
   ],
   "source": [
    "ishwar = DUCAT1(\"iswhar\",\"python\",[\"mysql\",\"java\",\"c++\",\"powerbi\"])\n",
    "\n",
    "ishwar.__dict__\n",
    "\n",
    "print(ishwar.courses)"
   ]
  },
  {
   "cell_type": "code",
   "execution_count": 48,
   "id": "45a46f98-fe7c-4ac5-9e08-3f66f45a08ab",
   "metadata": {},
   "outputs": [],
   "source": [
    "ishwar.name = \"iswhar\"\n",
    "ishwar.measure = \"python\"\n",
    "ishwar.courses = [\"mysql\",\"java\",\"c++\",\"powerbi\"]\n",
    "\n",
    "\n",
    "rohit = DUCAT1(\"rohit\",\"python\",\"Noida\")\n",
    "\n",
    "\n"
   ]
  },
  {
   "cell_type": "code",
   "execution_count": 35,
   "id": "41a21b36-127e-4bfb-a6d3-61906a1b3052",
   "metadata": {},
   "outputs": [],
   "source": [
    "def function(value):\n",
    "    pass"
   ]
  },
  {
   "cell_type": "code",
   "execution_count": 36,
   "id": "7f89ec72-09d7-4e59-ab08-c121afec2087",
   "metadata": {},
   "outputs": [],
   "source": [
    "function(1)"
   ]
  },
  {
   "cell_type": "code",
   "execution_count": null,
   "id": "92dfa33a-864a-4571-bd10-593547510e6b",
   "metadata": {},
   "outputs": [],
   "source": []
  }
 ],
 "metadata": {
  "kernelspec": {
   "display_name": "Python 3 (ipykernel)",
   "language": "python",
   "name": "python3"
  },
  "language_info": {
   "codemirror_mode": {
    "name": "ipython",
    "version": 3
   },
   "file_extension": ".py",
   "mimetype": "text/x-python",
   "name": "python",
   "nbconvert_exporter": "python",
   "pygments_lexer": "ipython3",
   "version": "3.11.7"
  }
 },
 "nbformat": 4,
 "nbformat_minor": 5
}
