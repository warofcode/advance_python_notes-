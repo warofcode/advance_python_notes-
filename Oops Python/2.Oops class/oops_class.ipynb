{
 "cells": [
  {
   "cell_type": "markdown",
   "id": "cecbf743",
   "metadata": {},
   "source": [
    "# Object Oriented Programming (OOP)"
   ]
  },
  {
   "cell_type": "markdown",
   "id": "340cf157",
   "metadata": {},
   "source": [
    "Object Oriented Programming concepts\n",
    "Object Oriented Programming (OOP) is a programming paradigm that allows abstraction through the concept of interacting entities. This programming works contradictory to conventional model and is procedural, in which programs are organized as a sequence of commands or statements to perform.\n",
    "\n",
    "We can think an object as an entity that resides in memory, has a state and it's able to perform some actions.\n",
    "\n",
    "More formally objects are entities that represent instances of a general abstract concept called class. In Python, \"attributes\" are the variables defining an object state and the possible actions are called \"methods\".\n",
    "\n",
    "In Python, everything is an object also classes and functions.\n",
    "\n",
    "Each class represents meaningful view of the objects that are instances of this class, without going into too much detail or giving others access to the inner workings of the objects i.e. how it works internally. The class contains instance variables, also known as data members as well as some methods for some purpose also known as member functions. Object of the class can access this methods to achieve something meaningful."
   ]
  },
  {
   "cell_type": "markdown",
   "id": "8bdee77d",
   "metadata": {},
   "source": [
    "# Goals of object oriented design"
   ]
  },
  {
   "cell_type": "markdown",
   "id": "54e69ce9",
   "metadata": {},
   "source": [
    "# 1. Robustness"
   ]
  },
  {
   "cell_type": "markdown",
   "id": "d5a31759",
   "metadata": {},
   "source": [
    "1) Our program should run properly even with unexpected data\n",
    "\n",
    "2) We need to write in such a way that it handles complex programs and it can handle with unexpected data.\n",
    "\n",
    "Every developer develop application in such a way that an application will give correct output in all the scenarios. Our application will be robust, that is, it should capable enough for handling unexpected data that is not predefined. For example, if a program is expecting a string and instead it will receive negative integer, then the program should be able to recover and handle this type of error gracefully.\n",
    "\n",
    "Writing software programs is a style of programming that dealing with surprising and unforeseen activities. It expects code to deal with these types of terminations and expectations and run smmothly."
   ]
  },
  {
   "cell_type": "markdown",
   "id": "2e492707",
   "metadata": {},
   "source": [
    "# 2.Adaptability"
   ]
  },
  {
   "cell_type": "markdown",
   "id": "9f71c7aa",
   "metadata": {},
   "source": [
    "1) Software program or application will grow over a life time\n",
    "\n",
    "2) The application should build such a way that is should run with different versions, different generations, different hardware as well.\n",
    "\n",
    "Software program or application should have the option to advance after some time in light of changing conditions. Along these lines, this is significant objective of value in programming that flexibility ought to be accomplished. Program should be build in such a way that it will run with minor change on various hardware and os platforms."
   ]
  },
  {
   "cell_type": "markdown",
   "id": "ffdc7ade",
   "metadata": {},
   "source": [
    "# 3. Reusability"
   ]
  },
  {
   "cell_type": "markdown",
   "id": "29bf75ab",
   "metadata": {},
   "source": [
    "Reusability\n",
    "Building from reusable applications to avoid making entire new application just like rebuilding entire wheel.\n",
    "\n",
    "Software should be reusable, that is, the same code should be reusable as a component for different applications. Developing quality software application can be an expensive and if the software is designed in a way that makes it easily reusable in future applications, it will helpful in productivity and also can reduce cost for new application."
   ]
  },
  {
   "cell_type": "markdown",
   "id": "3cab1a33",
   "metadata": {},
   "source": [
    "# How to define classes"
   ]
  },
  {
   "cell_type": "markdown",
   "id": "fa5fe35b",
   "metadata": {},
   "source": [
    "What is class ?"
   ]
  },
  {
   "cell_type": "markdown",
   "id": "22748102",
   "metadata": {},
   "source": [
    "A class is a template for creating objects. It defines the properties (attributes) and behaviors (methods) that all objects created from it will have.\n",
    "To define a class in Python, use the class keyword followed by the class name."
   ]
  },
  {
   "cell_type": "markdown",
   "id": "08e6f055",
   "metadata": {},
   "source": [
    "Creating a class"
   ]
  },
  {
   "cell_type": "raw",
   "id": "7e55bfaf",
   "metadata": {},
   "source": [
    "The following python syntax defines a class:\n",
    "\n",
    "class ClassName(base_classes):\n",
    "    statements"
   ]
  },
  {
   "cell_type": "markdown",
   "id": "9fdda9d9",
   "metadata": {},
   "source": [
    "Class names should always be uppercase (it's a naming convention)."
   ]
  },
  {
   "cell_type": "markdown",
   "id": "17194546",
   "metadata": {},
   "source": [
    "# Lets create object of REXGALAXY class"
   ]
  },
  {
   "cell_type": "markdown",
   "id": "d8bb2464",
   "metadata": {},
   "source": [
    "What is object ?"
   ]
  },
  {
   "cell_type": "markdown",
   "id": "48430ae8",
   "metadata": {},
   "source": [
    "In Python, everything is an object. An object is a collection of data (variables) and methods (functions) that operate on the data.\n",
    "\n",
    "\n",
    "Objects are instances of classes. A class is a blueprint for creating objects."
   ]
  },
  {
   "cell_type": "code",
   "execution_count": 5,
   "id": "0409f8cc",
   "metadata": {},
   "outputs": [],
   "source": [
    "class REXGALAXY:\n",
    "    pass\n",
    "\n",
    "rohit = REXGALAXY()\n",
    "sachin = REXGALAXY()"
   ]
  },
  {
   "cell_type": "markdown",
   "id": "b5c2c9d5",
   "metadata": {},
   "source": [
    "pass is generally used where code will eventually run without any errors."
   ]
  },
  {
   "cell_type": "code",
   "execution_count": 6,
   "id": "6c9d0a42",
   "metadata": {},
   "outputs": [],
   "source": [
    "# we have created the object of REXGALAXY class or we also call it intanse\n",
    "# lets check there ids"
   ]
  },
  {
   "cell_type": "code",
   "execution_count": 3,
   "id": "f8db73a5",
   "metadata": {},
   "outputs": [
    {
     "name": "stdout",
     "output_type": "stream",
     "text": [
      "2488862579104\n",
      "2488862690416\n"
     ]
    }
   ],
   "source": [
    "print(id(rohit))\n",
    "print(id(sachin))\n",
    "# both objects are different"
   ]
  },
  {
   "cell_type": "code",
   "execution_count": 4,
   "id": "488e122e",
   "metadata": {},
   "outputs": [],
   "source": [
    "\n",
    "# we will create instanse variable\n",
    "\n",
    "rohit.last_name = \"Tyagi\"\n",
    "rohit.course = [\"Python\",\"Tablue\",\"mysql\"]\n",
    "rohit.college = \"Sharda University\"\n",
    "\n",
    "sachin.course = [\"Data science\",\"machine learning\"]"
   ]
  },
  {
   "cell_type": "code",
   "execution_count": 5,
   "id": "827cb93e",
   "metadata": {},
   "outputs": [
    {
     "name": "stdout",
     "output_type": "stream",
     "text": [
      "['Python', 'Tablue', 'mysql']\n",
      "['Data science', 'machine learning']\n"
     ]
    }
   ],
   "source": [
    "print(rohit.course)\n",
    "print(sachin.course)"
   ]
  },
  {
   "cell_type": "code",
   "execution_count": 6,
   "id": "b4456226",
   "metadata": {},
   "outputs": [
    {
     "name": "stdout",
     "output_type": "stream",
     "text": [
      "{'last_name': 'Tyagi', 'course': ['Python', 'Tablue', 'mysql'], 'college': 'Sharda University'}\n",
      "{'course': ['Data science', 'machine learning']}\n"
     ]
    }
   ],
   "source": [
    "# we can check all instance variable with the help of __dict__\n",
    "\n",
    "# (10).__add__(5) dunder methods or magic methods (__add__())\n",
    "\n",
    "print(rohit.__dict__)\n",
    "\n",
    "print(sachin.__dict__)"
   ]
  },
  {
   "cell_type": "markdown",
   "id": "0fd8a830",
   "metadata": {},
   "source": [
    "class variable"
   ]
  },
  {
   "cell_type": "code",
   "execution_count": 4,
   "id": "63b9ac1c",
   "metadata": {},
   "outputs": [],
   "source": [
    "class REXGALAXY():\n",
    "    holiday = \"only sunday\"\n",
    "\n",
    "rohit = REXGALAXY()\n",
    "sachin = REXGALAXY()\n",
    "\n",
    "\n",
    "rohit.last_name = \"Tyagi\"\n",
    "rohit.course = [\"Python\",\"Tablue\",\"mysql\"]\n",
    "rohit.college = \"Sharda University\"\n",
    "\n",
    "sachin.course = [\"Data science\",\"machine learning\"]"
   ]
  },
  {
   "cell_type": "code",
   "execution_count": 5,
   "id": "00c26661",
   "metadata": {},
   "outputs": [
    {
     "ename": "AttributeError",
     "evalue": "'REXGALAXY' object has no attribute 'last_name'",
     "output_type": "error",
     "traceback": [
      "\u001b[1;31m---------------------------------------------------------------------------\u001b[0m",
      "\u001b[1;31mAttributeError\u001b[0m                            Traceback (most recent call last)",
      "Cell \u001b[1;32mIn[5], line 4\u001b[0m\n\u001b[0;32m      1\u001b[0m \u001b[38;5;66;03m# if i run sachin.last_name it will through an error\u001b[39;00m\n\u001b[0;32m      2\u001b[0m \u001b[38;5;66;03m# because last_name is variable of rohit (not sachin)\u001b[39;00m\n\u001b[1;32m----> 4\u001b[0m \u001b[38;5;28mprint\u001b[39m(sachin\u001b[38;5;241m.\u001b[39mlast_name)\n",
      "\u001b[1;31mAttributeError\u001b[0m: 'REXGALAXY' object has no attribute 'last_name'"
     ]
    }
   ],
   "source": [
    "# if i run sachin.last_name it will through an error\n",
    "# because last_name is variable of rohit (not sachin)\n",
    "\n",
    "print(sachin.last_name)"
   ]
  },
  {
   "cell_type": "code",
   "execution_count": 7,
   "id": "2ecadfd4-57eb-45d3-b7df-47842e72e9e9",
   "metadata": {},
   "outputs": [
    {
     "name": "stdout",
     "output_type": "stream",
     "text": [
      "{'last_name': 'Tyagi', 'course': ['Python', 'Tablue', 'mysql'], 'college': 'Sharda University'}\n",
      "{'course': ['Data science', 'machine learning']}\n"
     ]
    }
   ],
   "source": [
    "print(rohit.__dict__)\n",
    "print(sachin.__dict__)"
   ]
  },
  {
   "cell_type": "code",
   "execution_count": 9,
   "id": "893dfabc",
   "metadata": {},
   "outputs": [
    {
     "name": "stdout",
     "output_type": "stream",
     "text": [
      "<class '__main__.REXGALAXY'>\n",
      "<class '__main__.REXGALAXY'>\n"
     ]
    }
   ],
   "source": [
    "# now we will check which object belong to which class\n",
    "# example print(type(\"rohit\"))\n",
    "\n",
    "print(sachin.__class__)\n",
    "print(rohit.__class__)   # what is main in below script lets see.... letsunderstand main\n"
   ]
  },
  {
   "cell_type": "markdown",
   "id": "63fe7980",
   "metadata": {},
   "source": [
    "In Python, __main__ is a special module name that represents the current script or module being executed. When you run a Python script directly from the command line or as the main module, Python sets the __name__ variable to \"__main__\" in that script/module."
   ]
  },
  {
   "cell_type": "markdown",
   "id": "24781e9e",
   "metadata": {},
   "source": [
    "For example, if you have a Python script named example.py with the following content:"
   ]
  },
  {
   "cell_type": "code",
   "execution_count": 10,
   "id": "4fac0918",
   "metadata": {},
   "outputs": [
    {
     "data": {
      "text/plain": [
       "'only sunday'"
      ]
     },
     "execution_count": 10,
     "metadata": {},
     "output_type": "execute_result"
    }
   ],
   "source": [
    "# but it can access class varible \n",
    "sachin.holiday"
   ]
  },
  {
   "cell_type": "code",
   "execution_count": 11,
   "id": "ed54421c",
   "metadata": {},
   "outputs": [
    {
     "data": {
      "text/plain": [
       "'only sunday'"
      ]
     },
     "execution_count": 11,
     "metadata": {},
     "output_type": "execute_result"
    }
   ],
   "source": [
    "# same goes with rohit\n",
    "rohit.holiday"
   ]
  },
  {
   "cell_type": "code",
   "execution_count": 12,
   "id": "4dc897c1",
   "metadata": {},
   "outputs": [
    {
     "data": {
      "text/plain": [
       "'only sunday'"
      ]
     },
     "execution_count": 12,
     "metadata": {},
     "output_type": "execute_result"
    }
   ],
   "source": [
    "# we can access class variable with the help of class name as well\n",
    "\n",
    "REXGALAXY.holiday"
   ]
  },
  {
   "cell_type": "code",
   "execution_count": 13,
   "id": "68de9a40",
   "metadata": {},
   "outputs": [],
   "source": [
    "# conlusion is because both oject has been derived from same class REXGALAXY so they can sahre the all class variabls"
   ]
  },
  {
   "cell_type": "markdown",
   "id": "1b501ecd",
   "metadata": {},
   "source": [
    "# How to change class variable value"
   ]
  },
  {
   "cell_type": "markdown",
   "id": "d36ac693",
   "metadata": {},
   "source": [
    "we can change class variable value with the help of class name.\n",
    "\n",
    "if we try to change it with the object (instance) it will not change the value of variable istead it will ceate new instase varaible"
   ]
  },
  {
   "cell_type": "code",
   "execution_count": 14,
   "id": "b412eba9",
   "metadata": {},
   "outputs": [
    {
     "name": "stdout",
     "output_type": "stream",
     "text": [
      "only sunday\n"
     ]
    }
   ],
   "source": [
    "# for example \n",
    "sachin.holiday = \"only saturday\"\n",
    "\n",
    "print(REXGALAXY.holiday) # id did not change"
   ]
  },
  {
   "cell_type": "code",
   "execution_count": 15,
   "id": "7166d5aa",
   "metadata": {},
   "outputs": [
    {
     "name": "stdout",
     "output_type": "stream",
     "text": [
      "only saturday\n"
     ]
    }
   ],
   "source": [
    "print(sachin.holiday) # insted it created a new instance variable for sachine"
   ]
  },
  {
   "cell_type": "code",
   "execution_count": 16,
   "id": "17ee3d8c",
   "metadata": {},
   "outputs": [
    {
     "name": "stdout",
     "output_type": "stream",
     "text": [
      "{'course': ['Data science', 'machine learning'], 'holiday': 'only saturday'}\n"
     ]
    }
   ],
   "source": [
    "print(sachin.__dict__)"
   ]
  },
  {
   "cell_type": "code",
   "execution_count": 17,
   "id": "1bd1d1d7",
   "metadata": {},
   "outputs": [],
   "source": [
    "# we will change the class variable with the help of class variable\n",
    "\n",
    "REXGALAXY.holiday = \"saturaday and sunday both\""
   ]
  },
  {
   "cell_type": "code",
   "execution_count": 18,
   "id": "d2582e47",
   "metadata": {},
   "outputs": [
    {
     "name": "stdout",
     "output_type": "stream",
     "text": [
      "{'__module__': '__main__', 'holiday': 'saturaday and sunday both', '__dict__': <attribute '__dict__' of 'REXGALAXY' objects>, '__weakref__': <attribute '__weakref__' of 'REXGALAXY' objects>, '__doc__': None}\n"
     ]
    }
   ],
   "source": [
    "print(REXGALAXY.__dict__)"
   ]
  },
  {
   "cell_type": "code",
   "execution_count": 19,
   "id": "a3dbca3f",
   "metadata": {},
   "outputs": [
    {
     "data": {
      "text/plain": [
       "'only saturday'"
      ]
     },
     "execution_count": 19,
     "metadata": {},
     "output_type": "execute_result"
    }
   ],
   "source": [
    "# you can see that sachin object has seprate holiday which is why we it shows its own instance varialbe\n",
    "sachin.holiday"
   ]
  },
  {
   "cell_type": "code",
   "execution_count": 20,
   "id": "d5533c6b",
   "metadata": {},
   "outputs": [
    {
     "data": {
      "text/plain": [
       "'saturaday and sunday both'"
      ]
     },
     "execution_count": 20,
     "metadata": {},
     "output_type": "execute_result"
    }
   ],
   "source": [
    "# rohit does not have instance varible holiday. which is why it access it from class variable\n",
    "rohit.holiday"
   ]
  },
  {
   "cell_type": "markdown",
   "id": "649d0df0",
   "metadata": {},
   "source": [
    "# Class 2"
   ]
  },
  {
   "cell_type": "code",
   "execution_count": 4,
   "id": "c0746e76",
   "metadata": {},
   "outputs": [
    {
     "ename": "TypeError",
     "evalue": "REXGALAXY.student_details() takes 0 positional arguments but 1 was given",
     "output_type": "error",
     "traceback": [
      "\u001b[1;31m---------------------------------------------------------------------------\u001b[0m",
      "\u001b[1;31mTypeError\u001b[0m                                 Traceback (most recent call last)",
      "Cell \u001b[1;32mIn[4], line 20\u001b[0m\n\u001b[0;32m     17\u001b[0m sachin\u001b[38;5;241m.\u001b[39mcollege \u001b[38;5;241m=\u001b[39m \u001b[38;5;124m\"\u001b[39m\u001b[38;5;124mUPTU\u001b[39m\u001b[38;5;124m\"\u001b[39m\n\u001b[0;32m     18\u001b[0m sachin\u001b[38;5;241m.\u001b[39mcourse \u001b[38;5;241m=\u001b[39m [\u001b[38;5;124m\"\u001b[39m\u001b[38;5;124mData science\u001b[39m\u001b[38;5;124m\"\u001b[39m,\u001b[38;5;124m\"\u001b[39m\u001b[38;5;124mmachine learning\u001b[39m\u001b[38;5;124m\"\u001b[39m]    \n\u001b[1;32m---> 20\u001b[0m rohit\u001b[38;5;241m.\u001b[39mstudent_details()\n",
      "\u001b[1;31mTypeError\u001b[0m: REXGALAXY.student_details() takes 0 positional arguments but 1 was given"
     ]
    }
   ],
   "source": [
    "class REXGALAXY:\n",
    "    holidays = \"saturday\"\n",
    "\n",
    "    def student_details():\n",
    "        return f\" details of {name} is {course}\"\n",
    "    \n",
    "    \n",
    "    \n",
    "rohit = REXGALAXY()\n",
    "sachin = REXGALAXY()    \n",
    "    \n",
    "rohit.name = \"ROHIT TYAGI\"\n",
    "rohit.course = [\"Python\",\"Tablue\",\"mysql\"]\n",
    "rohit.college = \"Sharda University\"\n",
    "\n",
    "sachin.name= \"SACHIN KUMAR\"\n",
    "sachin.college = \"UPTU\"\n",
    "sachin.course = [\"Data science\",\"machine learning\"]    \n",
    "    \n",
    "rohit.student_details()         # you can see here i did not pass any argument but still i m getting error that \n",
    "                                # {takes 0 positional arguments but 1 was given}"
   ]
  },
  {
   "cell_type": "markdown",
   "id": "d7655887",
   "metadata": {},
   "source": [
    "Now Question is How we handle this argument ?"
   ]
  },
  {
   "cell_type": "markdown",
   "id": "80a65692",
   "metadata": {},
   "source": [
    "we will solve this problem with the help of self "
   ]
  },
  {
   "cell_type": "code",
   "execution_count": 5,
   "id": "87bceeeb",
   "metadata": {},
   "outputs": [],
   "source": [
    "class REXGALAXY:\n",
    "    holidays = \"saturday\"\n",
    "\n",
    "    def student_details(self):       # now self will be that object this method will run\n",
    "        return f\" details of {self.name} is {self.course}\"\n",
    "    \n",
    "    \n",
    "    \n",
    "rohit = REXGALAXY()\n",
    "sachin = REXGALAXY()    \n",
    "    \n",
    "rohit.name = \"ROHIT TYAGI\"\n",
    "rohit.course = [\"Python\",\"Tablue\",\"mysql\"]\n",
    "rohit.college = \"Sharda University\"\n",
    "\n",
    "sachin.name= \"SACHIN KUMAR\"\n",
    "sachin.college = \"UPTU\"\n",
    "sachin.course = [\"Data science\",\"machine learning\"]    \n",
    "    \n"
   ]
  },
  {
   "cell_type": "code",
   "execution_count": 6,
   "id": "e4015e4e",
   "metadata": {},
   "outputs": [
    {
     "name": "stdout",
     "output_type": "stream",
     "text": [
      " details of SACHIN KUMAR is ['Data science', 'machine learning']\n"
     ]
    }
   ],
   "source": [
    "print(sachin.student_details())"
   ]
  },
  {
   "cell_type": "code",
   "execution_count": 7,
   "id": "c8e90c51",
   "metadata": {},
   "outputs": [
    {
     "name": "stdout",
     "output_type": "stream",
     "text": [
      " details of ROHIT TYAGI is ['Python', 'Tablue', 'mysql']\n"
     ]
    }
   ],
   "source": [
    "print(rohit.student_details())"
   ]
  },
  {
   "cell_type": "code",
   "execution_count": 8,
   "id": "82d939ad",
   "metadata": {},
   "outputs": [
    {
     "name": "stdout",
     "output_type": "stream",
     "text": [
      "sachin\n"
     ]
    }
   ],
   "source": [
    "# so opps here is helping us to use code reusability \n",
    "name= \"rohit\"\n",
    "name= \"sachin\"\n",
    "print(name)   # this will overwrite the data but in oops way we could reuse first_name "
   ]
  },
  {
   "cell_type": "markdown",
   "id": "9f91bac7",
   "metadata": {},
   "source": [
    "# Constructor"
   ]
  },
  {
   "cell_type": "markdown",
   "id": "7c1f83a1",
   "metadata": {},
   "source": [
    "In Python, a constructor is a special method that is called automatically when an object is created from a class. The purpose of a constructor is to initialize the object's attributes with some default values or values passed as arguments during object creation.\n",
    "\n",
    "In Python, the constructor method is defined with the name __init__. It takes self as the first parameter, which refers to the object being created, and any additional parameters that are required to initialize the object's attributes."
   ]
  },
  {
   "cell_type": "code",
   "execution_count": 13,
   "id": "620de895",
   "metadata": {},
   "outputs": [
    {
     "ename": "TypeError",
     "evalue": "DUCAT.__init__() missing 2 required positional arguments: 'first_name' and 'last_name'",
     "output_type": "error",
     "traceback": [
      "\u001b[1;31m---------------------------------------------------------------------------\u001b[0m",
      "\u001b[1;31mTypeError\u001b[0m                                 Traceback (most recent call last)",
      "Cell \u001b[1;32mIn[13], line 13\u001b[0m\n\u001b[0;32m      9\u001b[0m     \u001b[38;5;28;01mdef\u001b[39;00m \u001b[38;5;21mstudent_detail_printer\u001b[39m(\u001b[38;5;28mself\u001b[39m):\n\u001b[0;32m     11\u001b[0m         \u001b[38;5;28;01mreturn\u001b[39;00m \u001b[38;5;124mf\u001b[39m\u001b[38;5;124m\"\u001b[39m\u001b[38;5;124mHi \u001b[39m\u001b[38;5;132;01m{\u001b[39;00m\u001b[38;5;28mself\u001b[39m\u001b[38;5;241m.\u001b[39mfirst_name\u001b[38;5;132;01m}\u001b[39;00m\u001b[38;5;124m , \u001b[39m\u001b[38;5;132;01m{\u001b[39;00m\u001b[38;5;28mself\u001b[39m\u001b[38;5;241m.\u001b[39mlast_name\u001b[38;5;132;01m}\u001b[39;00m\u001b[38;5;124m\"\u001b[39m\n\u001b[1;32m---> 13\u001b[0m rohit \u001b[38;5;241m=\u001b[39m DUCAT()    \n\u001b[0;32m     14\u001b[0m sachin \u001b[38;5;241m=\u001b[39m DUCAT()\n\u001b[0;32m     16\u001b[0m \u001b[38;5;66;03m# rohit.first_name = \"ROHIT\"\u001b[39;00m\n\u001b[0;32m     17\u001b[0m \u001b[38;5;66;03m# rohit.last_name = \"Tyagi\"\u001b[39;00m\n\u001b[0;32m     18\u001b[0m \n\u001b[0;32m     19\u001b[0m \u001b[38;5;66;03m# sachin.first_name = \"Sachin\"\u001b[39;00m\n\u001b[0;32m     20\u001b[0m \u001b[38;5;66;03m# sachin.last_name = \"Tendulkar\"\u001b[39;00m\n",
      "\u001b[1;31mTypeError\u001b[0m: DUCAT.__init__() missing 2 required positional arguments: 'first_name' and 'last_name'"
     ]
    }
   ],
   "source": [
    "# while we create below class with the help of __init__.\n",
    "# will will get an error{DUCAT.__init__() missing 2 required positional arguments: 'first_name' and 'last_name'}\n",
    "# because this time we will need to provide this vaiables while we create an objet\n",
    "# why:  because init is called automatically while we create an object\n",
    "\n",
    "class DUCAT():\n",
    "    week_off = \"Sunday\"\n",
    "    \n",
    "    def __init__(self,first_name,last_name):\n",
    "        \n",
    "        self.name = name\n",
    "        self.age = age\n",
    "    \n",
    "    def student_detail_printer(self):\n",
    "        \n",
    "        return f\"Hi {self.first_name} , {self.last_name}\"\n",
    "    \n",
    "rohit = DUCAT()    \n",
    "sachin = DUCAT()\n",
    "\n",
    "# rohit.first_name = \"ROHIT\"\n",
    "# rohit.last_name = \"Tyagi\"\n",
    "\n",
    "# sachin.first_name = \"Sachin\"\n",
    "# sachin.last_name = \"Tendulkar\"\n",
    "\n",
    "\n",
    "rohit.student_detail_printer()\n",
    "\n",
    "sachin.student_detail_printer()\n",
    "        \n",
    "        "
   ]
  },
  {
   "cell_type": "code",
   "execution_count": 19,
   "id": "f1e5222b",
   "metadata": {},
   "outputs": [
    {
     "data": {
      "text/plain": [
       "'Hi Sachin , Tyagi'"
      ]
     },
     "execution_count": 19,
     "metadata": {},
     "output_type": "execute_result"
    }
   ],
   "source": [
    "# now will give arument while we create an object of DUCAT Class\n",
    "\n",
    "class DUCAT():\n",
    "    week_off = \"Sunday\"\n",
    "    \n",
    "    def __init__(self,first_name,last_name):\n",
    "        \n",
    "        self.first_name = first_name\n",
    "        self.last_name = last_name\n",
    "    \n",
    "    def student_detail_printer(self):\n",
    "        \n",
    "        return f\"Hi {self.first_name} , {self.last_name}\"\n",
    "    \n",
    "rohit = DUCAT(\"Rohit\",\"Tyagi\")    \n",
    "sachin = DUCAT(\"Sachin\",\"Tyagi\")\n",
    "\n",
    "# rohit.first_name = \"ROHIT\"\n",
    "# rohit.last_name = \"Tyagi\"\n",
    "\n",
    "# sachin.first_name = \"Sachin\"\n",
    "# sachin.last_name = \"Tendulkar\"\n",
    "\n",
    "\n",
    "rohit.student_detail_printer()\n",
    "\n",
    "sachin.student_detail_printer()\n",
    "        \n",
    "        "
   ]
  },
  {
   "cell_type": "code",
   "execution_count": null,
   "id": "79575170",
   "metadata": {},
   "outputs": [],
   "source": []
  },
  {
   "cell_type": "code",
   "execution_count": 12,
   "id": "67c662de",
   "metadata": {},
   "outputs": [],
   "source": [
    "class REXGALAXY:\n",
    "    holidays = \"saturday\"\n",
    "    \n",
    "    def __init__(self,name,college,counmv):\n",
    "        self.name= name\n",
    "        self.college = college\n",
    "        self.course = course\n",
    "        \n",
    "        \n",
    "\n",
    "    def student_details(self):\n",
    "        return f\" details of {self.name} is {self.course}\""
   ]
  },
  {
   "cell_type": "code",
   "execution_count": 11,
   "id": "ca83d2ef",
   "metadata": {},
   "outputs": [],
   "source": [
    "class REXGALAXY:\n",
    "    holidays = \"saturday\"\n",
    "    \n",
    "    def __init__(self,name,college,course):\n",
    "        self.name= name\n",
    "        self.college = college\n",
    "        self.course = course\n",
    "        \n",
    "        \n",
    "\n",
    "    def student_details(self):\n",
    "        return f\" details of {self.name} is {self.course}\""
   ]
  },
  {
   "cell_type": "code",
   "execution_count": 25,
   "id": "c69dd750",
   "metadata": {},
   "outputs": [],
   "source": [
    "# createing object or REXGALAXY class\n",
    "\n",
    "rohit= REXGALAXY(\"ROHIT TYAGI\",\"SHARDA UNIVERSITY\",[\"Python\",\"Tablue\",\"mysql\"])"
   ]
  },
  {
   "cell_type": "code",
   "execution_count": 26,
   "id": "3d26641a",
   "metadata": {},
   "outputs": [
    {
     "name": "stdout",
     "output_type": "stream",
     "text": [
      " details of ROHIT TYAGI is ['Python', 'Tablue', 'mysql']\n"
     ]
    }
   ],
   "source": [
    "print(rohit.student_details())"
   ]
  },
  {
   "cell_type": "code",
   "execution_count": 27,
   "id": "b4b3b017",
   "metadata": {},
   "outputs": [
    {
     "name": "stdout",
     "output_type": "stream",
     "text": [
      "Name is  Rohit Tyagi\n",
      "ROhit Tyagi  study  Python\n",
      "Strength of the class is  12\n"
     ]
    }
   ],
   "source": [
    "class Python:\n",
    "     def __init__(self, *args): \n",
    "\n",
    "         # Naming the teacher when a single string is passed\n",
    "        if len(args)==1 & isinstance(args[0], str):\n",
    "            self.name = args[0]\n",
    "         \n",
    "         # Naming the teacher as well as the subject    \n",
    "        elif len(args)==2:\n",
    "            self.name = args[0]\n",
    "            self.sub = args[1]\n",
    "          \n",
    "         # Storing the strength of the class in case of a single int argument\n",
    "        elif isinstance(args[0], int):\n",
    "             self.strength = args[0]\n",
    "                \n",
    "                \n",
    "object1 = Python(\"Rohit Tyagi\")\n",
    "print('Name is ', object1.name)\n",
    " \n",
    "object2 = Python(\"ROhit Tyagi\", \"Python\")\n",
    "print(object2.name, ' study ', object2.sub)\n",
    " \n",
    "object3 = Python(12)\n",
    "print(\"Strength of the class is \", object3.strength)"
   ]
  },
  {
   "cell_type": "markdown",
   "id": "fd7b1cec",
   "metadata": {},
   "source": [
    "# class method @classmethod"
   ]
  },
  {
   "cell_type": "markdown",
   "id": "2d8b8b89",
   "metadata": {},
   "source": [
    "In Python, the @classmethod decorator is used to define a class method. A class method is a method that is bound to the class and not the instance of the class. It can be called on both the class itself and its instances.\n",
    "\n",
    "To define a class method, you need to use the @classmethod decorator just above the method declaration. "
   ]
  },
  {
   "cell_type": "code",
   "execution_count": 28,
   "id": "545798a5",
   "metadata": {},
   "outputs": [
    {
     "name": "stdout",
     "output_type": "stream",
     "text": [
      "saturday\n",
      "saturday\n",
      "saturday\n"
     ]
    }
   ],
   "source": [
    "class REXGALAXY:\n",
    "    holidays = \"saturday\"\n",
    "    \n",
    "    def __init__(self,name,college,course):\n",
    "        self.name= name\n",
    "        self.college = college\n",
    "        self.course = course\n",
    "        \n",
    "    def student_details(self):\n",
    "        return f\" details of {self.name} is {self.course}\"\n",
    "# createing object of REXGALAXY class\n",
    "rohit= REXGALAXY(\"ROHIT TYAGI\",\"SHARDA UNIVERSITY\",[\"Python\",\"Tablue\",\"mysql\"])    \n",
    "\n",
    "sachin = REXGALAXY(\"Sachin\",\"UPTU\",\"Onlysql\")\n",
    "\n",
    "print(sachin.holidays)\n",
    "print(rohit.holidays)\n",
    "print(REXGALAXY.holidays) \n",
    "\n",
    "# now we would like to change the class variable with the help of class method"
   ]
  },
  {
   "cell_type": "code",
   "execution_count": 2,
   "id": "440349ad",
   "metadata": {},
   "outputs": [
    {
     "name": "stdout",
     "output_type": "stream",
     "text": [
      "saturday\n",
      "saturday\n",
      "saturday\n",
      "Holiday changed\n",
      "saturday and sunday\n",
      "saturday and sunday\n",
      "saturday and sunday\n"
     ]
    }
   ],
   "source": [
    "class REXGALAXY:\n",
    "    holidays = \"saturday\"\n",
    "    \n",
    "    def __init__(self,name,college,course):\n",
    "        self.name= name\n",
    "        self.college = college\n",
    "        self.course = course\n",
    "    def student_details(self):\n",
    "        return f\" details of {self.name} is {self.course}\"\n",
    "    \n",
    "    @classmethod\n",
    "    def change_holiday(cls,change_holidays):\n",
    "        cls.holidays= change_holidays\n",
    "        return \"Holiday changed\"\n",
    "    \n",
    "# createing object of REXGALAXY class\n",
    "\n",
    "rohit= REXGALAXY(\"ROHIT TYAGI\",\"SHARDA UNIVERSITY\",[\"Python\",\"Tablue\",\"mysql\"])    \n",
    "\n",
    "sachin = REXGALAXY(\"Sachin\",\"UPTU\",\"Onlysql\")\n",
    "\n",
    "print(sachin.holidays)\n",
    "print(rohit.holidays)\n",
    "print(REXGALAXY.holidays) \n",
    "\n",
    "print(rohit.change_holiday(\"saturday and sunday\")) # we changed the holiday with the help of objet(rohit)\n",
    "\n",
    "# now we will print the holidays for all instances and for class as well\n",
    "# you will find that now are able to modify the class variable with the help of object as well\n",
    "# initially when we tried to change the holidays with the help of object it created new instance variable insted of \n",
    "# changing class variable\n",
    "\n",
    "print(sachin.holidays)\n",
    "print(rohit.holidays)\n",
    "print(REXGALAXY.holidays)\n",
    "\n",
    "# now we would like to change the class variable with the help of class method"
   ]
  },
  {
   "cell_type": "markdown",
   "id": "7a5b48a5",
   "metadata": {},
   "source": [
    "# Class method as a alternative constructor"
   ]
  },
  {
   "cell_type": "code",
   "execution_count": 2,
   "id": "1a984ef1",
   "metadata": {},
   "outputs": [
    {
     "name": "stdout",
     "output_type": "stream",
     "text": [
      "Sharda university\n",
      "Machine Leraning\n"
     ]
    }
   ],
   "source": [
    "class REXGALAXY:\n",
    "    holidays = \"saturday\"\n",
    "    \n",
    "    def __init__(self,name,college,course):\n",
    "        self.name= name\n",
    "        self.college = college\n",
    "        self.course = course\n",
    "        \n",
    "        \n",
    "\n",
    "    def student_details(self):\n",
    "        return f\" details of {self.name} is {self.course}\"\n",
    "    \n",
    "    @classmethod\n",
    "    def change_holiday(cls,change_holidays):\n",
    "        cls.holidays= change_holidays\n",
    "        \n",
    "    @classmethod\n",
    "    \n",
    "    def object_creater(cls,string):\n",
    "        string_return = string.split(\"-\")\n",
    "        \n",
    "        return cls(string_return[0],string_return[1],string_return[2])    # cls will be that class from which object \n",
    "                                                                        #will be created\n",
    "        \n",
    "        \n",
    "        \n",
    "    \n",
    "\n",
    "\n",
    "# rohit= REXGALAXY(\"ROHIT TYAGI\",\"SHARDA UNIVERSITY\",[\"Python\",\"Tablue\",\"mysql\"]) # create\n",
    "\n",
    "# sachin = REXGALAXY(\"Sachin\",\"UPTU\",\"Onlysql\")\n",
    "\n",
    "rahul = REXGALAXY.object_creater(\"Rahul-Sharda university-Machine Leraning\") # we will create object with the help of classmethod \n",
    "                                                                     #  object_creator\n",
    "    \n",
    "print(rahul.college)    \n",
    "print(rahul.course)"
   ]
  },
  {
   "cell_type": "markdown",
   "id": "7aaa8a83",
   "metadata": {},
   "source": [
    "# Static Method @staticmethod"
   ]
  },
  {
   "cell_type": "markdown",
   "id": "efe889e7",
   "metadata": {},
   "source": [
    "In Python, the @staticmethod decorator is used to define a static method within a class. A static method is a method that belongs to the class rather than an instance of the class. It does not have access to the instance or class variables and cannot modify them.\n",
    "\n",
    "when we want simple mthod we use static method.\n",
    "\n",
    "To define a static method, you need to use the @staticmethod decorator just above the method declaration. "
   ]
  },
  {
   "cell_type": "code",
   "execution_count": 33,
   "id": "1b9cdeb2",
   "metadata": {},
   "outputs": [],
   "source": [
    "class REXGALAXY:\n",
    "    holidays = \"saturday\"\n",
    "    \n",
    "    def __init__(self,name,college,course):\n",
    "        self.name= name\n",
    "        self.college = college\n",
    "        self.course = course\n",
    "        \n",
    "        \n",
    "\n",
    "    def student_details(self):\n",
    "        return f\" details of {self.name} is {self.course}\"\n",
    "    \n",
    "    @classmethod\n",
    "    def change_holiday(cls,change_holidays):\n",
    "        cls.holidays= change_holidays\n",
    "        \n",
    "    @classmethod\n",
    "    \n",
    "    def object_creater(cls,string):\n",
    "        string_return = string.split(\"-\")\n",
    "        \n",
    "        return cls(string_return[0],string_return[1],string_return[2])\n",
    "\n",
    "    @staticmethod\n",
    "    def greeting_printer(name_sting):\n",
    "        \n",
    "        return f\"Hello good morning {name_sting} \"\n",
    "    \n",
    "\n",
    "\n",
    "\n",
    "object_rohit = REXGALAXY(\"ROhit\",\"sharda\",\"python\")"
   ]
  },
  {
   "cell_type": "code",
   "execution_count": 34,
   "id": "0824caf5",
   "metadata": {},
   "outputs": [
    {
     "data": {
      "text/plain": [
       "'Hello good morning rohit '"
      ]
     },
     "execution_count": 34,
     "metadata": {},
     "output_type": "execute_result"
    }
   ],
   "source": [
    "REXGALAXY.greeting_printer(\"rohit\")"
   ]
  },
  {
   "cell_type": "code",
   "execution_count": 35,
   "id": "116ed712",
   "metadata": {},
   "outputs": [
    {
     "data": {
      "text/plain": [
       "'Hello good morning sachin '"
      ]
     },
     "execution_count": 35,
     "metadata": {},
     "output_type": "execute_result"
    }
   ],
   "source": [
    "object_rohit.greeting_printer(\"sachin\")"
   ]
  },
  {
   "cell_type": "markdown",
   "id": "de5e1e5a",
   "metadata": {},
   "source": [
    "In the example above, my_static_method is a static method defined using @staticmethod. Unlike regular methods, static methods do not have access to the instance (self) or the class (cls). They are independent of the class state and behave like regular functions defined within the class.\n",
    "\n",
    "Static methods are commonly used when you need a method to perform some utility function related to the class, but it doesn't depend on any instance-specific or class-specific data. They are typically used for helper functions that are related to the class but do not require instance or class state.\n",
    "\n",
    "It's important to note that while you can call a static method on both the class and its instances, it's usually recommended to call static methods on the class itself since they don't interact with instance-specific data."
   ]
  },
  {
   "cell_type": "code",
   "execution_count": null,
   "id": "e1a47f8a",
   "metadata": {},
   "outputs": [],
   "source": []
  },
  {
   "cell_type": "code",
   "execution_count": null,
   "id": "6feb886a",
   "metadata": {},
   "outputs": [],
   "source": []
  }
 ],
 "metadata": {
  "kernelspec": {
   "display_name": "Python 3 (ipykernel)",
   "language": "python",
   "name": "python3"
  },
  "language_info": {
   "codemirror_mode": {
    "name": "ipython",
    "version": 3
   },
   "file_extension": ".py",
   "mimetype": "text/x-python",
   "name": "python",
   "nbconvert_exporter": "python",
   "pygments_lexer": "ipython3",
   "version": "3.11.7"
  }
 },
 "nbformat": 4,
 "nbformat_minor": 5
}
