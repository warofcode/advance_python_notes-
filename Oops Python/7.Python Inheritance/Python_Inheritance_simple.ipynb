{
 "cells": [
  {
   "cell_type": "markdown",
   "id": "fc84cdec-4836-481e-af71-20f49223285b",
   "metadata": {},
   "source": [
    "What is Inheritance in Python ?"
   ]
  },
  {
   "cell_type": "markdown",
   "id": "e1cdfe97-9acd-4b11-9d77-d6efa71222a1",
   "metadata": {},
   "source": [
    "Inheritance is a fundamental concept in object-oriented programming (OOP), including Python. It allows a class (called a child or subclass) to inherit attributes and methods from another class (called a parent or superclass or baseclass). This enables code reuse and the creation of hierarchical relationships between classes.\n",
    "\n",
    "In Python, you implement inheritance by specifying the parent classes in parentheses after the name of the child class."
   ]
  },
  {
   "cell_type": "markdown",
   "id": "778ae4d8-80b0-4dd5-9126-4465743f8ae0",
   "metadata": {},
   "source": [
    "1.Single Inheritance"
   ]
  },
  {
   "cell_type": "markdown",
   "id": "54cabd62-9d2d-4630-94d7-d956db1539eb",
   "metadata": {},
   "source": [
    "Single inheritance in Python refers to the scenario where a class inherits attributes and methods from only one parent class. This means that there is a linear hierarchy of classes, with each derived class having exactly one base class."
   ]
  },
  {
   "cell_type": "markdown",
   "id": "d0e3928a-80da-4f6a-8529-04b7acce1387",
   "metadata": {},
   "source": [
    "Here's a basic example of single inheritance:"
   ]
  },
  {
   "cell_type": "code",
   "execution_count": 3,
   "id": "a4d97725-2d9b-4e54-ac7e-9b7cbe69c97a",
   "metadata": {},
   "outputs": [],
   "source": [
    "class Parent:\n",
    "    pass\n",
    "\n",
    "class Child(Parent): #A class inherits from only one parent class.\n",
    "    pass\n"
   ]
  },
  {
   "cell_type": "markdown",
   "id": "3812fbbd-9e87-4b2a-bda4-2fc453eb66ce",
   "metadata": {},
   "source": [
    "Lets try with method implementation in python "
   ]
  },
  {
   "cell_type": "code",
   "execution_count": 13,
   "id": "b953809b-2581-4d21-9d35-0db94c76d105",
   "metadata": {},
   "outputs": [],
   "source": [
    "class Parent:\n",
    "    def parent_method(self):\n",
    "        print(\"This is a method of the parent class\")\n",
    "\n",
    "class Child(Parent):\n",
    "    def child_method(self):\n",
    "        print(\"This is a method of the child class\")\n",
    "\n",
    "    \n"
   ]
  },
  {
   "cell_type": "markdown",
   "id": "674dea4b-948d-497b-b293-408ea0dd84f7",
   "metadata": {},
   "source": [
    "In this example, Child is inheriting from Parent. Child can access all the attributes and methods of Parent, and it can also define its own attributes and methods. However, Parent cannot access attributes or methods of Child."
   ]
  },
  {
   "cell_type": "markdown",
   "id": "c3079ab4-9ecf-4cf6-8245-5cf701a0b282",
   "metadata": {},
   "source": [
    "Lets create objects and check how it works....."
   ]
  },
  {
   "cell_type": "code",
   "execution_count": 14,
   "id": "8a91ac8b-b9f7-4e91-a518-cca01551c2d3",
   "metadata": {},
   "outputs": [
    {
     "name": "stdout",
     "output_type": "stream",
     "text": [
      "This is a method of the parent class\n",
      "This is a method of the parent class\n",
      "This is a method of the child class\n",
      "This is a method of the parent class\n"
     ]
    }
   ],
   "source": [
    "parent_obj = Parent()\n",
    "parent_obj.parent_method()  # Output: This is a method of the parent class\n",
    "\n",
    "child_obj = Child()\n",
    "child_obj.parent_method()   # Output: This is a method of the parent class\n",
    "child_obj.child_method()    # Output: This is a method of the child class\n",
    "child_obj.parent_method()\n"
   ]
  },
  {
   "cell_type": "markdown",
   "id": "639e5b61-70b4-455a-822f-7bc250f8bf48",
   "metadata": {},
   "source": [
    "So, Child inherits the parent_method() from Parent, but it also has its own child_method(). This is the essence of single inheritance in Python."
   ]
  },
  {
   "cell_type": "markdown",
   "id": "2011217d-4d86-4847-b0cf-fe8508125ee4",
   "metadata": {},
   "source": [
    "Question:What if we have same method name in both classes Lets see how............"
   ]
  },
  {
   "cell_type": "code",
   "execution_count": 23,
   "id": "53767ca2-0153-4972-8f4c-ce5b43a0cd29",
   "metadata": {},
   "outputs": [],
   "source": [
    "class Parent:\n",
    "    def parent_method(self):\n",
    "        print(\"This is a method of the parent class\")\n",
    "\n",
    "class Child(Parent):\n",
    "    def child_method(self):\n",
    "        print(\"This is a method of the child class\")\n",
    "    def parent_method(self):\n",
    "        print(\"This is method of child class\")"
   ]
  },
  {
   "cell_type": "markdown",
   "id": "f2ff7e88-729d-4195-9c29-a7062031da23",
   "metadata": {},
   "source": [
    "Now we can see that...\n",
    "we have parent_method in both classes\n",
    "\n",
    "1. In Parent class\n",
    "\n",
    "2. In child class\n",
    "\n",
    "Lets try to access with both objects"
   ]
  },
  {
   "cell_type": "code",
   "execution_count": 24,
   "id": "ff33e448-2421-4eef-8895-4dd9e4853afa",
   "metadata": {},
   "outputs": [
    {
     "name": "stdout",
     "output_type": "stream",
     "text": [
      "This is a method of the parent class\n",
      "None\n",
      "This is method of child class\n",
      "None\n"
     ]
    }
   ],
   "source": [
    "parent_object = Parent()\n",
    "child_object = Child()\n",
    "print(parent_object.parent_method())\n",
    "print(child_object.parent_method())"
   ]
  },
  {
   "cell_type": "markdown",
   "id": "13876011-4132-41bd-a545-a64ea9c52de1",
   "metadata": {},
   "source": [
    "Question: What if we have same name of class variable in both classes\n",
    "\n",
    "Now we can see that...\n",
    "we have pin in both classes\n",
    "\n",
    "1. In Parent class\n",
    "\n",
    "2. In child class\n",
    "\n",
    "Lets try to access with both objects"
   ]
  },
  {
   "cell_type": "code",
   "execution_count": 30,
   "id": "b3bf0615-c0e9-44c1-9a14-c9f3708972a1",
   "metadata": {},
   "outputs": [
    {
     "name": "stdout",
     "output_type": "stream",
     "text": [
      "parent1234\n",
      "child5678\n"
     ]
    }
   ],
   "source": [
    "class Parent:\n",
    "    pin = \"parent1234\"\n",
    "    def parent_method(self):\n",
    "        print(\"This is a method of the parent class\")\n",
    "\n",
    "class Child(Parent):\n",
    "    pin = \"child5678\"\n",
    "    def child_method(self):\n",
    "        print(\"This is a method of the child class\")\n",
    "    def parent_method(self):\n",
    "        print(\"This is method of child class\")\n",
    "\n",
    "\n",
    "parent_object = Parent()\n",
    "child_object = Child()\n",
    "print(parent_object.pin)\n",
    "print(child_object.pin)\n",
    "\n",
    "#Note: if we dont have pin in child class it will look for same variable in parent class"
   ]
  },
  {
   "cell_type": "markdown",
   "id": "926beea8-c772-4527-a19d-503d46efc79d",
   "metadata": {},
   "source": [
    "2. Multiple Inheritance"
   ]
  },
  {
   "cell_type": "markdown",
   "id": "0f4c3ed5-0d98-4855-a3b6-c4ce31ce57de",
   "metadata": {},
   "source": [
    "Multiple inheritance in Python occurs when a class inherits from more than one parent class. This allows the child class to inherit attributes and methods from all of its parent classes. Multiple inheritance can be a powerful tool, but it requires careful consideration to avoid ambiguity and conflicts."
   ]
  },
  {
   "cell_type": "markdown",
   "id": "bde4d2fa-ce00-43ed-a8aa-8e3e9d20f889",
   "metadata": {},
   "source": [
    "Lets understand it with example"
   ]
  },
  {
   "cell_type": "code",
   "execution_count": 42,
   "id": "2b6dba8d-71fa-401d-97e8-125c08f4b68d",
   "metadata": {},
   "outputs": [
    {
     "name": "stdout",
     "output_type": "stream",
     "text": [
      "Method 1 from Parent1\n",
      "Method 2 from Parent2\n",
      "Method from Child class\n",
      "40\n",
      "\n"
     ]
    }
   ],
   "source": [
    "class Parent1:\n",
    "    my_var = 20\n",
    "    def method1(self):\n",
    "        print(\"Method 1 from Parent1\")\n",
    "\n",
    "class Parent2:\n",
    "    my_var =30\n",
    "    def method2(self):\n",
    "        print(\"Method 2 from Parent2\")\n",
    "\n",
    "class Child(Parent1, Parent2): # this sequence matters It will look for Parent1 first than it will check in  Parent2.\n",
    "    my_var = 40                # if my_var is not found in child class it will go for parent1 than it will go in parent2\n",
    "    def child_method(self):    # we can change sequence of a class if we want to search first in Parent 2 class\n",
    "        print(\"Method from Child class\")\n",
    "\n",
    "# Creating an instance of Child\n",
    "child_obj = Child()\n",
    "\n",
    "\n",
    "# Accessing methods from both Parent1 and Parent2\n",
    "child_obj.method1()  \n",
    "child_obj.method2()  \n",
    "child_obj.child_method()  \n",
    "\n",
    "# lets access my variable in all classes\n",
    "print(child_obj.my_var)\n",
    "print()\n",
    "\n"
   ]
  },
  {
   "cell_type": "markdown",
   "id": "e892f6ae-1f1f-4703-ae70-8e7feeffeff6",
   "metadata": {},
   "source": [
    "In this example, the Child class inherits from both Parent1 and Parent2. As a result, the Child class inherits all the methods defined in both parent classes."
   ]
  },
  {
   "cell_type": "markdown",
   "id": "73fd8431-5682-4408-bc12-69a9c77698a6",
   "metadata": {},
   "source": [
    "When calling method1() and method2() on the child_obj, it can access methods from both Parent1 and Parent2 seamlessly."
   ]
  },
  {
   "cell_type": "markdown",
   "id": "09534272-2c5d-4353-9147-05684ff05d19",
   "metadata": {},
   "source": [
    "However, multiple inheritance can lead to issues like the diamond problem, where two parent classes of a class have a common ancestor. This can result in method resolution order (MRO) ambiguity. Python uses a method resolution order (MRO) to determine the order in which to search for methods in the inheritance hierarchy. The __mro__ attribute of a class provides the method resolution order."
   ]
  },
  {
   "cell_type": "code",
   "execution_count": 43,
   "id": "f018080d-c213-499f-a4b1-9c6f415852d0",
   "metadata": {},
   "outputs": [
    {
     "name": "stdout",
     "output_type": "stream",
     "text": [
      "(<class '__main__.Child'>, <class '__main__.Parent1'>, <class '__main__.Parent2'>, <class 'object'>)\n"
     ]
    }
   ],
   "source": [
    "print(Child.__mro__)  # Output: (<class '__main__.Child'>, <class '__main__.Parent1'>, <class '__main__.Parent2'>, <class 'object'>)\n"
   ]
  },
  {
   "cell_type": "markdown",
   "id": "8f4ce23a-72b1-40b9-885a-87457b95e8dd",
   "metadata": {},
   "source": [
    "Here, the method resolution order for Child class is Child, Parent1, Parent2, and finally object."
   ]
  },
  {
   "cell_type": "markdown",
   "id": "cecaf3c2-ff25-4eff-b1fb-c7c23a1dd571",
   "metadata": {},
   "source": [
    "3.Multi_Level Inheritence    "
   ]
  },
  {
   "cell_type": "markdown",
   "id": "7c4c103c-41e6-48e1-939f-733ab5d20e7e",
   "metadata": {},
   "source": [
    "Multilevel inheritance in Python refers to a scenario where a class inherits from a parent class, and then another class inherits from that child class, forming a chain of inheritance. This creates a hierarchical relationship where each derived class inherits attributes and methods not only from its immediate parent but also from all ancestors up the inheritance chain."
   ]
  },
  {
   "cell_type": "code",
   "execution_count": 50,
   "id": "4c871322-8574-4710-bdc0-a72edcd4887c",
   "metadata": {},
   "outputs": [
    {
     "name": "stdout",
     "output_type": "stream",
     "text": [
      "50\n",
      "40\n"
     ]
    }
   ],
   "source": [
    "class Grandparent:\n",
    "    grand_parent_variable = 50\n",
    "    def greet(self):\n",
    "        print(\"Hello from Grandparent\")\n",
    "\n",
    "class Parent(Grandparent):\n",
    "    parent_variable = 40\n",
    "    def talk(self):\n",
    "        print(\"Talking from Parent\")\n",
    "\n",
    "class Child(Parent):\n",
    "    child_variable = 20\n",
    "    def play(self):\n",
    "        print(\"Playing from Child\")\n",
    "\n",
    "child_object = Child()\n",
    "print(child_object.grand_parent_variable)\n",
    "print(child_object.parent_variable)"
   ]
  },
  {
   "cell_type": "markdown",
   "id": "d1335fe2-c1e8-49d8-a5f1-3ef99d607f3e",
   "metadata": {},
   "source": [
    "4.Hierarchical inheritance"
   ]
  },
  {
   "cell_type": "markdown",
   "id": "c534d812-f41a-442a-8032-23e15ee6c1cd",
   "metadata": {},
   "source": [
    "Hierarchical inheritance in Python occurs when multiple classes inherit from a single base class, forming a hierarchical structure. In this structure, each subclass shares common characteristics and behavior inherited from the same parent class, but may also have its own unique attributes and methods."
   ]
  },
  {
   "cell_type": "markdown",
   "id": "66e486e3-05c3-49db-a01b-eb8d1852cfe0",
   "metadata": {},
   "source": [
    "Let's Understand it hierarchical inheritance with an example:"
   ]
  },
  {
   "cell_type": "code",
   "execution_count": 52,
   "id": "7935bd71-505e-4133-9f73-87fa3709dba4",
   "metadata": {},
   "outputs": [],
   "source": [
    "class Animal:\n",
    "    def speak(self):\n",
    "        print(\"Animal speaks\")\n",
    "\n",
    "class Dog(Animal):\n",
    "    def wag_tail(self):\n",
    "        print(\"Dog wags tail\")\n",
    "\n",
    "class Cat(Animal):\n",
    "    def purr(self):\n",
    "        print(\"Cat purrs\")\n"
   ]
  },
  {
   "cell_type": "markdown",
   "id": "baa16675-0a28-451e-8b2a-012365528771",
   "metadata": {},
   "source": [
    "In this example, both Dog and Cat classes inherit from the Animal class. This creates a hierarchical structure where both Dog and Cat share common behaviors defined in Animal, such as the speak() method, while also having their own unique methods, wag_tail() and purr() respectively."
   ]
  },
  {
   "cell_type": "markdown",
   "id": "d4d2e7f0-5c90-4275-ba54-77638f6dfde0",
   "metadata": {},
   "source": [
    "Now, let's create instances of Dog and Cat classes and see how they work:"
   ]
  },
  {
   "cell_type": "code",
   "execution_count": 53,
   "id": "ecd08d2a-2941-4739-81fe-408b394c2ec2",
   "metadata": {},
   "outputs": [
    {
     "name": "stdout",
     "output_type": "stream",
     "text": [
      "Animal speaks\n",
      "Dog wags tail\n",
      "Animal speaks\n",
      "Cat purrs\n"
     ]
    }
   ],
   "source": [
    "dog = Dog()\n",
    "dog.speak()     # Output: Animal speaks\n",
    "dog.wag_tail()  # Output: Dog wags tail\n",
    "\n",
    "cat = Cat()\n",
    "cat.speak()     # Output: Animal speaks\n",
    "cat.purr()      # Output: Cat purrs\n"
   ]
  },
  {
   "cell_type": "markdown",
   "id": "dc0a2a5c-a306-4473-8aa9-daf78163c753",
   "metadata": {},
   "source": [
    "As you can see, both Dog and Cat classes inherit the speak() method from the Animal class, but they also have their own specific methods. This demonstrates the hierarchical inheritance where multiple classes inherit from a single base class."
   ]
  },
  {
   "cell_type": "markdown",
   "id": "ff853c3d-1b57-49ef-85fb-94e3b0f6baca",
   "metadata": {},
   "source": [
    "Hierarchical inheritance is useful for modeling relationships where different subclasses share common characteristics or behaviors, but also have their own unique features. It promotes code reuse and organization, making the codebase more manageable and maintainable."
   ]
  },
  {
   "cell_type": "markdown",
   "id": "6b630799-b7f3-46aa-b1ec-36f51cae4b81",
   "metadata": {},
   "source": [
    "5. Hybrid inheritance"
   ]
  },
  {
   "cell_type": "markdown",
   "id": "348a9fb7-60f7-4c1f-bd9c-d7cc62fd4866",
   "metadata": {},
   "source": [
    "Hybrid inheritance in Python is a combination of two or more types of inheritance, such as single, multiple, hierarchical, or multilevel inheritance. It allows a class to inherit from multiple parent classes, forming a complex inheritance hierarchy."
   ]
  },
  {
   "cell_type": "code",
   "execution_count": 56,
   "id": "5d12296f-3789-400f-8623-f076034e1f63",
   "metadata": {},
   "outputs": [],
   "source": [
    "class A:\n",
    "    def method_a(self):\n",
    "        print(\"Method A\")\n",
    "\n",
    "class B(A):\n",
    "    def method_b(self):\n",
    "        print(\"Method B\")\n",
    "\n",
    "class C(A):\n",
    "    def method_c(self):\n",
    "        print(\"Method C\")\n",
    "\n",
    "class D(B, C):        # it will have even A class methods because B class is inheritied from A class\n",
    "    def method_d(self):\n",
    "        print(\"Method D\")\n"
   ]
  },
  {
   "cell_type": "markdown",
   "id": "eeee8566-d16b-4df5-a7fd-c50fcef7fc5e",
   "metadata": {},
   "source": [
    "In this example, we have four classes: A, B, C, and D.\n",
    "\n",
    "Class A serves as a base class with a method method_a().\n",
    "\n",
    "Class B inherits from A and adds its own method method_b().\n",
    "\n",
    "Class C also inherits from A and adds its own method method_c().\n",
    "\n",
    "Class D inherits from both B and C, thus demonstrating hybrid inheritance. It inherits methods from all its parent classes (A, B, and C) and adds its own method method_d()."
   ]
  },
  {
   "cell_type": "markdown",
   "id": "56328c03-68df-4a16-a946-b475be8caf24",
   "metadata": {},
   "source": [
    "Now, let's create an instance of D and see how it works:"
   ]
  },
  {
   "cell_type": "code",
   "execution_count": 55,
   "id": "d67c0da2-6fa7-4108-a6c5-b6fc90eafc9e",
   "metadata": {},
   "outputs": [
    {
     "name": "stdout",
     "output_type": "stream",
     "text": [
      "Method A\n",
      "Method B\n",
      "Method C\n",
      "Method D\n"
     ]
    }
   ],
   "source": [
    "obj_d = D()\n",
    "obj_d.method_a()  # Output: Method A\n",
    "obj_d.method_b()  # Output: Method B\n",
    "obj_d.method_c()  # Output: Method C\n",
    "obj_d.method_d()  # Output: Method D\n"
   ]
  },
  {
   "cell_type": "markdown",
   "id": "5f240d39-247a-425d-9b17-5534ca1c2622",
   "metadata": {},
   "source": [
    "As you can see, the D class inherits methods from all its parent classes (A, B, and C) due to hybrid inheritance. This allows for complex relationships and code reuse, but it also requires careful design to avoid ambiguity or conflicts in method resolution order."
   ]
  },
  {
   "cell_type": "code",
   "execution_count": null,
   "id": "6ecb1e0d-ef7f-4b5d-83ec-c22633c5e7f4",
   "metadata": {},
   "outputs": [],
   "source": []
  }
 ],
 "metadata": {
  "kernelspec": {
   "display_name": "Python 3 (ipykernel)",
   "language": "python",
   "name": "python3"
  },
  "language_info": {
   "codemirror_mode": {
    "name": "ipython",
    "version": 3
   },
   "file_extension": ".py",
   "mimetype": "text/x-python",
   "name": "python",
   "nbconvert_exporter": "python",
   "pygments_lexer": "ipython3",
   "version": "3.11.7"
  }
 },
 "nbformat": 4,
 "nbformat_minor": 5
}
