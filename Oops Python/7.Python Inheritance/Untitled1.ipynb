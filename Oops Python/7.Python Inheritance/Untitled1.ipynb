{
 "cells": [
  {
   "cell_type": "code",
   "execution_count": 2,
   "id": "24067bf4-c367-47ff-95c7-adbee3120d51",
   "metadata": {},
   "outputs": [],
   "source": [
    "class Parent:\n",
    "    pass\n",
    "\n",
    "class Child(Parent): #A class inherits from only one parent class.\n",
    "    pass"
   ]
  },
  {
   "cell_type": "code",
   "execution_count": 45,
   "id": "c984889b-038e-424e-ac1c-6b69d94c7d17",
   "metadata": {},
   "outputs": [],
   "source": [
    "class Parent:\n",
    "    parent_variable = 20\n",
    "    def parent_method(self):\n",
    "        print(\"This is a method of the parent class\")\n",
    "        \n",
    "class Child(Parent):\n",
    "    # parent_variable = 30\n",
    "    def child_method(self):\n",
    "        print(\"This is a method of the child class\")\n",
    "        "
   ]
  },
  {
   "cell_type": "code",
   "execution_count": 46,
   "id": "e3ebabbf-0653-4981-b38c-5ba81b4e793e",
   "metadata": {},
   "outputs": [],
   "source": [
    "parent_obj = Parent()"
   ]
  },
  {
   "cell_type": "code",
   "execution_count": 47,
   "id": "c486a1b0-d6bb-4915-9ab8-a3da794126f9",
   "metadata": {},
   "outputs": [
    {
     "name": "stdout",
     "output_type": "stream",
     "text": [
      "This is a method of the parent class\n"
     ]
    }
   ],
   "source": [
    "parent_obj.parent_method()"
   ]
  },
  {
   "cell_type": "code",
   "execution_count": 48,
   "id": "e1e98e52-368f-4f5e-8fb2-8de3e48d33c4",
   "metadata": {},
   "outputs": [],
   "source": [
    "child_object = Child()"
   ]
  },
  {
   "cell_type": "code",
   "execution_count": 49,
   "id": "01bf182d-b81d-4189-ad4b-62754d364c36",
   "metadata": {},
   "outputs": [
    {
     "name": "stdout",
     "output_type": "stream",
     "text": [
      "This is a method of the child class\n"
     ]
    }
   ],
   "source": [
    "child_object.child_method()"
   ]
  },
  {
   "cell_type": "code",
   "execution_count": 50,
   "id": "fbc8c7bf-b4d4-43d2-8a70-60cfd1de0d8f",
   "metadata": {},
   "outputs": [
    {
     "name": "stdout",
     "output_type": "stream",
     "text": [
      "This is a method of the parent class\n"
     ]
    }
   ],
   "source": [
    "child_object.parent_method()"
   ]
  },
  {
   "cell_type": "code",
   "execution_count": 51,
   "id": "e65ff623-08c0-48fe-be9e-7322494187ac",
   "metadata": {},
   "outputs": [
    {
     "data": {
      "text/plain": [
       "20"
      ]
     },
     "execution_count": 51,
     "metadata": {},
     "output_type": "execute_result"
    }
   ],
   "source": [
    "parent_obj.parent_variable"
   ]
  },
  {
   "cell_type": "code",
   "execution_count": 52,
   "id": "fce717fa-5a2a-4b45-b42d-3df02ee92db9",
   "metadata": {},
   "outputs": [
    {
     "data": {
      "text/plain": [
       "20"
      ]
     },
     "execution_count": 52,
     "metadata": {},
     "output_type": "execute_result"
    }
   ],
   "source": [
    "child_object.parent_variable"
   ]
  },
  {
   "cell_type": "code",
   "execution_count": 53,
   "id": "94758f52-8f8e-41ae-8a70-6c44fe751d35",
   "metadata": {},
   "outputs": [
    {
     "data": {
      "text/plain": [
       "20"
      ]
     },
     "execution_count": 53,
     "metadata": {},
     "output_type": "execute_result"
    }
   ],
   "source": [
    "parent_obj.parent_variable"
   ]
  },
  {
   "cell_type": "code",
   "execution_count": 61,
   "id": "ef1923a0-3bf8-4bb8-8ad0-642e2b7ca090",
   "metadata": {},
   "outputs": [],
   "source": [
    "class Parent1:\n",
    "    my_var = 20\n",
    "    def method1(self):\n",
    "        print(\"Method 1 from Parent1\")\n",
    "\n",
    "class Parent2:\n",
    "    my_var =30\n",
    "    def method2(self):\n",
    "        print(\"Method 2 from Parent2\")\n",
    "\n",
    "class Child(Parent2, Parent1): # this sequence matters It will look for Parent1 first than it will check in  Parent2.\n",
    "    my_var = 40                # if my_var is not found in child class it will go for parent1 than it will go in parent2\n",
    "    def child_method(self):    # we can change sequence of a class if we want to search first in Parent 2 class\n",
    "        print(\"Method from Child class\")"
   ]
  },
  {
   "cell_type": "code",
   "execution_count": 62,
   "id": "76d5db52-2f6c-48f3-981a-0ba0af433eb5",
   "metadata": {},
   "outputs": [],
   "source": [
    "child_object = Child()"
   ]
  },
  {
   "cell_type": "code",
   "execution_count": 63,
   "id": "ead362da-09d6-4ad7-b579-79cd2ad31a64",
   "metadata": {},
   "outputs": [
    {
     "name": "stdout",
     "output_type": "stream",
     "text": [
      "(<class '__main__.Child'>, <class '__main__.Parent2'>, <class '__main__.Parent1'>, <class 'object'>)\n"
     ]
    }
   ],
   "source": [
    "print(Child.__mro__)"
   ]
  },
  {
   "cell_type": "code",
   "execution_count": 64,
   "id": "cacbc504-753c-4380-bdcb-583702183161",
   "metadata": {},
   "outputs": [],
   "source": [
    "class Grandparent:\n",
    "    grand_parent_variable = 50\n",
    "    def greet(self):\n",
    "        print(\"Hello from Grandparent\")\n",
    "\n",
    "class Parent(Grandparent):\n",
    "    parent_variable = 40\n",
    "    def talk(self):\n",
    "        print(\"Talking from Parent\")\n",
    "\n",
    "class Child(Parent):\n",
    "    child_variable = 20\n",
    "    def play(self):\n",
    "        print(\"Playing from Child\")"
   ]
  },
  {
   "cell_type": "code",
   "execution_count": null,
   "id": "856e1136-ceb7-4ba2-b7e6-ef9ad9dbec54",
   "metadata": {},
   "outputs": [],
   "source": []
  }
 ],
 "metadata": {
  "kernelspec": {
   "display_name": "Python 3 (ipykernel)",
   "language": "python",
   "name": "python3"
  },
  "language_info": {
   "codemirror_mode": {
    "name": "ipython",
    "version": 3
   },
   "file_extension": ".py",
   "mimetype": "text/x-python",
   "name": "python",
   "nbconvert_exporter": "python",
   "pygments_lexer": "ipython3",
   "version": "3.11.7"
  }
 },
 "nbformat": 4,
 "nbformat_minor": 5
}
