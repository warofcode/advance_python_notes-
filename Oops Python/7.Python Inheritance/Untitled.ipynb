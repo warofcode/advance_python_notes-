{
 "cells": [
  {
   "cell_type": "code",
   "execution_count": 7,
   "id": "3c349d94-cd46-4687-a57e-8ec69807b793",
   "metadata": {},
   "outputs": [],
   "source": [
    "class Parent:\n",
    "    parent_variable = 56\n",
    "    def parent_method(self):\n",
    "        print(\"This is a method of the parent class\")\n",
    "\n",
    "class Child(Parent):\n",
    "    def child_method(self):\n",
    "        print(\"This is a method of the child class\")"
   ]
  },
  {
   "cell_type": "code",
   "execution_count": 8,
   "id": "dcdb0ff4-6ffb-4b6e-9b21-797d60f4e5f0",
   "metadata": {},
   "outputs": [],
   "source": [
    "parent_obj = Parent()"
   ]
  },
  {
   "cell_type": "code",
   "execution_count": 9,
   "id": "00a98053-1e9b-4bd5-97ad-4b0392729b56",
   "metadata": {},
   "outputs": [
    {
     "name": "stdout",
     "output_type": "stream",
     "text": [
      "This is a method of the parent class\n"
     ]
    }
   ],
   "source": [
    "parent_obj.parent_method()"
   ]
  },
  {
   "cell_type": "code",
   "execution_count": 10,
   "id": "e5b2da22-0082-426f-9a3c-9cc1b6c2cbaf",
   "metadata": {},
   "outputs": [],
   "source": [
    "child_obj = Child()"
   ]
  },
  {
   "cell_type": "code",
   "execution_count": 11,
   "id": "14453e43-945d-4bc1-9cf4-79b734bda547",
   "metadata": {},
   "outputs": [
    {
     "name": "stdout",
     "output_type": "stream",
     "text": [
      "This is a method of the child class\n"
     ]
    }
   ],
   "source": [
    "child_obj.child_method()"
   ]
  },
  {
   "cell_type": "code",
   "execution_count": 12,
   "id": "69347663-6137-4745-91e5-475b5eacfd39",
   "metadata": {},
   "outputs": [
    {
     "name": "stdout",
     "output_type": "stream",
     "text": [
      "This is a method of the parent class\n"
     ]
    }
   ],
   "source": [
    "child_obj.parent_method()"
   ]
  },
  {
   "cell_type": "code",
   "execution_count": 13,
   "id": "18106fd9-27ed-4845-ad02-1f22fe4d073d",
   "metadata": {},
   "outputs": [
    {
     "data": {
      "text/plain": [
       "56"
      ]
     },
     "execution_count": 13,
     "metadata": {},
     "output_type": "execute_result"
    }
   ],
   "source": [
    "child_obj.parent_variable"
   ]
  },
  {
   "cell_type": "code",
   "execution_count": 29,
   "id": "11eb5136-a3fa-4eb0-8d23-9dfa5726b427",
   "metadata": {},
   "outputs": [],
   "source": [
    "\n",
    "class Parent:\n",
    "    pin = 1234\n",
    "    def parent_method(self):\n",
    "        print(\"This is a method of the parent class\")\n",
    "\n",
    "class Child(Parent):\n",
    "    # pin=9876\n",
    "    def child_method(self):\n",
    "        print(\"This is a method of the child class\")\n",
    "    def parent_method(self):\n",
    "        print(\"This is method of child class\")"
   ]
  },
  {
   "cell_type": "code",
   "execution_count": 30,
   "id": "0588abf5-3764-4cef-acde-88453fe5d583",
   "metadata": {},
   "outputs": [],
   "source": [
    "parent_object = Parent()\n",
    "child_obj = Child()"
   ]
  },
  {
   "cell_type": "code",
   "execution_count": 31,
   "id": "1ed68782-8bb6-4865-a2f0-f2c7969c6778",
   "metadata": {},
   "outputs": [
    {
     "name": "stdout",
     "output_type": "stream",
     "text": [
      "This is method of child class\n"
     ]
    }
   ],
   "source": [
    "child_obj.parent_method()"
   ]
  },
  {
   "cell_type": "code",
   "execution_count": 32,
   "id": "017f3337-cd69-4e34-a41a-9bde346879d6",
   "metadata": {},
   "outputs": [
    {
     "data": {
      "text/plain": [
       "1234"
      ]
     },
     "execution_count": 32,
     "metadata": {},
     "output_type": "execute_result"
    }
   ],
   "source": [
    "child_obj.pin"
   ]
  },
  {
   "cell_type": "code",
   "execution_count": 38,
   "id": "91ed39f7-2b0e-4723-b934-53db4c3d75a6",
   "metadata": {},
   "outputs": [],
   "source": [
    "\n",
    "class Parent1:\n",
    "    my_var = 20\n",
    "   \n",
    "    def method1(self):\n",
    "        print(\"Method 1 from Parent1\")\n",
    "\n",
    "class Parent2:\n",
    "    my_var =30\n",
    "    def method2(self):\n",
    "        print(\"Method 2 from Parent2\")\n",
    "\n",
    "class Child(Parent1, Parent2): # this sequence matters It will look for Parent1 first than it will check in  Parent2.\n",
    "    my_var = 40                # if my_var is not found in child class it will go for parent1 than it will go in parent2\n",
    "    def child_method(self):    # we can change sequence of a class if we want to search first in Parent 2 class\n",
    "        print(\"Method from Child class\")"
   ]
  },
  {
   "cell_type": "code",
   "execution_count": 37,
   "id": "42967666-fb6b-4140-a65e-ce3c8c0810a5",
   "metadata": {},
   "outputs": [],
   "source": [
    "child_object = Child()"
   ]
  },
  {
   "cell_type": "code",
   "execution_count": null,
   "id": "2c3dea3b-d4e2-4b10-aa4f-8abbe2deb03a",
   "metadata": {},
   "outputs": [],
   "source": [
    "child_obj."
   ]
  },
  {
   "cell_type": "code",
   "execution_count": null,
   "id": "12081827-9111-4860-a5cb-1335ced296b6",
   "metadata": {},
   "outputs": [],
   "source": []
  }
 ],
 "metadata": {
  "kernelspec": {
   "display_name": "Python 3 (ipykernel)",
   "language": "python",
   "name": "python3"
  },
  "language_info": {
   "codemirror_mode": {
    "name": "ipython",
    "version": 3
   },
   "file_extension": ".py",
   "mimetype": "text/x-python",
   "name": "python",
   "nbconvert_exporter": "python",
   "pygments_lexer": "ipython3",
   "version": "3.11.7"
  }
 },
 "nbformat": 4,
 "nbformat_minor": 5
}
