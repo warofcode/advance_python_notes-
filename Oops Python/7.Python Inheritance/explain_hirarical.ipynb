{
 "cells": [
  {
   "cell_type": "code",
   "execution_count": 2,
   "id": "e45ec7f9-cf09-468b-b9ab-9ec9f2cdec83",
   "metadata": {},
   "outputs": [
    {
     "name": "stdout",
     "output_type": "stream",
     "text": [
      "This is a method of the parent class\n",
      "None\n",
      "This is method of child class\n",
      "None\n"
     ]
    }
   ],
   "source": [
    "class Parent:\n",
    "    def parent_method(self):\n",
    "        print(\"This is a method of the parent class\")\n",
    "\n",
    "class Child(Parent):\n",
    "    def child_method(self):\n",
    "        print(\"This is a method of the child class\")\n",
    "    def parent_method(self):\n",
    "        print(\"This is method of child class\")\n",
    "\n",
    "\n",
    "parent_object = Parent()\n",
    "child_object = Child()\n",
    "print(parent_object.parent_method())\n",
    "print(child_object.parent_method())"
   ]
  },
  {
   "cell_type": "code",
   "execution_count": 3,
   "id": "93e76856-a159-4298-bf0a-2e39c79aba92",
   "metadata": {},
   "outputs": [],
   "source": [
    "class Employee:\n",
    "    def __init__(self, name, emp_id):\n",
    "        self.name = name\n",
    "        self.emp_id = emp_id\n",
    "        self.emp_full_name = self.name + \"kumar\"\n",
    "        \n",
    "    def display_info(self):\n",
    "        print(f\"Employee Name: {self.name}\")\n",
    "        print(f\"Employee ID: {self.emp_id}\")\n",
    "\n",
    "class Manager(Employee):\n",
    "    def __init__(self, name, emp_id, department):\n",
    "        super().__init__(name, emp_id)\n",
    "        self.department = department\n",
    "        self.manager_fullname = self.name + \"Tyagi\"\n",
    "\n",
    "    def display_info(self):\n",
    "        super().display_info()\n",
    "        print(f\"Department: {self.department}\")\n",
    "\n",
    "class Engineer(Employee):\n",
    "    def __init__(self, name, emp_id, specialization):\n",
    "        super().__init__(name, emp_id)\n",
    "        self.specialization = specialization\n",
    "\n",
    "    def display_info(self):\n",
    "        super().display_info()\n",
    "        print(f\"Specialization: {self.specialization}\")\n"
   ]
  },
  {
   "cell_type": "markdown",
   "id": "388fa275-a5e4-4cdf-92c7-f9438cf85985",
   "metadata": {},
   "source": [
    "In this example, we have an Employee class representing basic employee information such as name and employee ID. Then, we have two subclasses: Manager and Engineer, which inherit from the Employee class.\n",
    "\n",
    "Manager class represents a manager in the company, with an additional attribute for the department they manage.\n",
    "Engineer class represents an engineer in the company, with an additional attribute for their specialization.\n",
    "Both Manager and Engineer inherit the display_info() method from the Employee class, but they also have their own unique attributes and methods.\n",
    "\n",
    "Now, let's create instances of Manager and Engineer classes and display their information:"
   ]
  },
  {
   "cell_type": "code",
   "execution_count": 4,
   "id": "62cd73dd-fe96-4089-b47b-d4391005e4d5",
   "metadata": {},
   "outputs": [
    {
     "name": "stdout",
     "output_type": "stream",
     "text": [
      "Employee Name: John Doe\n",
      "Employee ID: M001\n",
      "Department: Engineering\n",
      "Employee Name: Alice Smith\n",
      "Employee ID: E001\n",
      "Specialization: Software Development\n"
     ]
    }
   ],
   "source": [
    "manager = Manager(\"John Doe\", \"M001\", \"Engineering\")\n",
    "manager.display_info()\n",
    "\n",
    "engineer = Engineer(\"Alice Smith\", \"E001\", \"Software Development\")\n",
    "engineer.display_info()\n"
   ]
  },
  {
   "cell_type": "markdown",
   "id": "a5ddd576-4e98-4294-bafa-5ec1fdfca291",
   "metadata": {},
   "source": [
    "As you can see, both Manager and Engineer classes inherit the display_info() method from the Employee class, but they also have their own unique attributes specific to their roles. This demonstrates hierarchical inheritance where multiple subclasses inherit from a common base class.\n",
    "\n",
    "\n"
   ]
  },
  {
   "cell_type": "code",
   "execution_count": null,
   "id": "fee64796-bb8d-451b-8c96-26bda23143b7",
   "metadata": {},
   "outputs": [],
   "source": []
  }
 ],
 "metadata": {
  "kernelspec": {
   "display_name": "Python 3 (ipykernel)",
   "language": "python",
   "name": "python3"
  },
  "language_info": {
   "codemirror_mode": {
    "name": "ipython",
    "version": 3
   },
   "file_extension": ".py",
   "mimetype": "text/x-python",
   "name": "python",
   "nbconvert_exporter": "python",
   "pygments_lexer": "ipython3",
   "version": "3.11.7"
  }
 },
 "nbformat": 4,
 "nbformat_minor": 5
}
