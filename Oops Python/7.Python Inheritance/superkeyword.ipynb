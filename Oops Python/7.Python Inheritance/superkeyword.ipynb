{
 "cells": [
  {
   "cell_type": "markdown",
   "id": "6d0bf7cd",
   "metadata": {},
   "source": [
    "# Super keyword"
   ]
  },
  {
   "cell_type": "markdown",
   "id": "8679285b-f50f-4d5f-8812-29a56fcdbb8f",
   "metadata": {},
   "source": [
    "In Python, super() is a built-in function that allows you to call methods and constructors from the parent class (also known as the superclass or base class) within the child class (also known as the subclass or derived class). It provides a way to access and invoke methods and constructors of the superclass from the subclass."
   ]
  },
  {
   "cell_type": "code",
   "execution_count": 5,
   "id": "86ecff12",
   "metadata": {},
   "outputs": [
    {
     "name": "stdout",
     "output_type": "stream",
     "text": [
      "I am also home_varaible but instance variable in HOME parent class\n",
      "I am also home_varaible but instance variable in HOME parent class\n"
     ]
    }
   ],
   "source": [
    "class HOME:\n",
    "    home_variable = \"I am class home_varialbe from Home_class class variable\"\n",
    "    \n",
    "    def __init__(self)-> None:\n",
    "        self.var = \"I m var instance variable in Home class\"\n",
    "        self.home_variable = \"I am also home_varaible but instance variable in HOME parent class\"\n",
    "        \n",
    "class ROOM(HOME):\n",
    "    \n",
    "    \n",
    "    home_variable = \"I m from ROOM_Class class variable in Room child class\"\n",
    "    \n",
    "Home_object = HOME()\n",
    "Room_object = ROOM()\n",
    "    \n",
    "print(Home_object.home_variable)  # we will check all object with all variables \n",
    "print(Room_object.home_variable)"
   ]
  },
  {
   "cell_type": "code",
   "execution_count": 8,
   "id": "f02eb8ef",
   "metadata": {},
   "outputs": [
    {
     "name": "stdout",
     "output_type": "stream",
     "text": [
      "I am from Home class instance variable\n",
      "I am from Home class instance variable\n",
      "Hi how are you.....\n",
      "Hi how are you.....\n",
      "I am ROOM class instance variable \n",
      "I m var Home class instance variable\n"
     ]
    }
   ],
   "source": [
    "# now we want to call super class consutrutor\n",
    "class HOME:\n",
    "    home_variable = \"I am from Home_class class variable\"\n",
    "    \n",
    "    def __init__(self)-> None:\n",
    "        self.var = \"I m var Home class instance variable\"\n",
    "        self.home_variable = \"I am from Home class instance variable\"\n",
    "        self.greetings = \"Hi how are you.....\"\n",
    "        \n",
    "class ROOM(HOME):\n",
    "    \n",
    "    home_variable = \"I m from ROOM_Class class variable\"\n",
    "    \n",
    "    def __init__(self)-> None:\n",
    "        super().__init__()\n",
    "        self.var = \"I am ROOM class instance variable \"\n",
    "    \n",
    "Home_object = HOME()\n",
    "Room_object = ROOM()\n",
    "    \n",
    "print(Home_object.home_variable)  # we will check all object with all variables \n",
    "print(Room_object.home_variable)\n",
    "print(Home_object.greetings)\n",
    "print(Room_object.greetings)\n",
    "print(Room_object.var)\n",
    "print(Home_object.var)"
   ]
  },
  {
   "cell_type": "code",
   "execution_count": 11,
   "id": "59d2cd6e-b3b2-4bdb-8e6f-deaa6df83082",
   "metadata": {},
   "outputs": [
    {
     "name": "stdout",
     "output_type": "stream",
     "text": [
      "Name: Alice\n",
      "Age: 25\n"
     ]
    }
   ],
   "source": [
    "class Parent:\n",
    "    def __init__(self, name):\n",
    "        self.name = name\n",
    "\n",
    "    def show(self):\n",
    "        print(\"Name:\", self.name)\n",
    "\n",
    "class Child(Parent):\n",
    "    def __init__(self, name, age):\n",
    "        super().__init__(name)  # Call the constructor of the parent class\n",
    "        self.age = age\n",
    "\n",
    "    def show(self):\n",
    "        super().show()  # Call the method of the parent class\n",
    "        print(\"Age:\", self.age)\n",
    "\n",
    "# Usage\n",
    "c = Child(\"Alice\", 25)\n",
    "c.show()\n"
   ]
  },
  {
   "cell_type": "code",
   "execution_count": null,
   "id": "bf91c610-024f-47dd-b397-f6a47dce0b81",
   "metadata": {},
   "outputs": [],
   "source": []
  }
 ],
 "metadata": {
  "kernelspec": {
   "display_name": "Python 3 (ipykernel)",
   "language": "python",
   "name": "python3"
  },
  "language_info": {
   "codemirror_mode": {
    "name": "ipython",
    "version": 3
   },
   "file_extension": ".py",
   "mimetype": "text/x-python",
   "name": "python",
   "nbconvert_exporter": "python",
   "pygments_lexer": "ipython3",
   "version": "3.11.7"
  }
 },
 "nbformat": 4,
 "nbformat_minor": 5
}
