{
 "cells": [
  {
   "cell_type": "code",
   "execution_count": 7,
   "id": "23ca5094-c8e2-47c3-9a97-74e79d1ce422",
   "metadata": {},
   "outputs": [
    {
     "name": "stdout",
     "output_type": "stream",
     "text": [
      "I'm Class B instance home_variable\n"
     ]
    }
   ],
   "source": [
    "class A:\n",
    "    home_variable = \"I am class A class_home_variable\"\n",
    "    def __init__(self, first_name, last_name):\n",
    "        self.first_name = first_name\n",
    "        self.last_name = last_name\n",
    "        self.home_variable = \"I'm Class A instance home_variable\"\n",
    "\n",
    "class B(A):\n",
    "    def __init__(self, first_name, last_name, mobile):\n",
    "        \n",
    "        super().__init__(first_name, last_name)\n",
    "        self.mobile = mobile\n",
    "        self.home_variable = \"I'm Class B instance home_variable\"\n",
    "\n",
    "A_object = A(\"rohit\", \"tyagi\")\n",
    "B_object = B(\"sachin\", \"kumar\", 9718292990)\n",
    "\n",
    "print(B_object.home_variable)"
   ]
  },
  {
   "cell_type": "code",
   "execution_count": 12,
   "id": "38a20641-4839-49e6-84b3-190cccda4e61",
   "metadata": {},
   "outputs": [
    {
     "name": "stdout",
     "output_type": "stream",
     "text": [
      "I'm Class A instance home_variable\n",
      "\n",
      "\n"
     ]
    }
   ],
   "source": [
    "class A:\n",
    "    home_variable = \"I am class A class_home_variable\"\n",
    "    def __init__(self, first_name, last_name):\n",
    "        self.first_name = first_name\n",
    "        self.last_name = last_name\n",
    "        self.home_variable = \"I'm Class A instance home_variable\"\n",
    "\n",
    "class B(A):\n",
    "    def __init__(self, mobile):\n",
    "        super().__init__( _ , _)  # Pass default values for first_name and last_name\n",
    "        self.mobile = mobile\n",
    "        # self.home_variable = \"I'm Class B instance home_variable\"\n",
    "\n",
    "A_object = A(\"rohit\", \"tyagi\")\n",
    "B_object = B(9718292990)\n",
    "\n",
    "print(B_object.home_variable) \n",
    "\n",
    "print(B_object.first_name)\n",
    "print(B_object.last_name)"
   ]
  },
  {
   "cell_type": "code",
   "execution_count": 5,
   "id": "1099205d-b126-431f-ab04-0ef07947de23",
   "metadata": {},
   "outputs": [
    {
     "name": "stdout",
     "output_type": "stream",
     "text": [
      "hello\n"
     ]
    }
   ],
   "source": [
    "print(\"hello\")"
   ]
  },
  {
   "cell_type": "code",
   "execution_count": null,
   "id": "6f6794a2-5e35-4afb-8139-d583b8a13dcf",
   "metadata": {},
   "outputs": [],
   "source": []
  }
 ],
 "metadata": {
  "kernelspec": {
   "display_name": "Python 3 (ipykernel)",
   "language": "python",
   "name": "python3"
  },
  "language_info": {
   "codemirror_mode": {
    "name": "ipython",
    "version": 3
   },
   "file_extension": ".py",
   "mimetype": "text/x-python",
   "name": "python",
   "nbconvert_exporter": "python",
   "pygments_lexer": "ipython3",
   "version": "3.11.7"
  }
 },
 "nbformat": 4,
 "nbformat_minor": 5
}
