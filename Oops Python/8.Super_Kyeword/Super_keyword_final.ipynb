{
 "cells": [
  {
   "cell_type": "markdown",
   "id": "428f832f-b525-4c80-87ed-880ee84423ee",
   "metadata": {},
   "source": [
    "                                                    Super Keyword In Python"
   ]
  },
  {
   "cell_type": "markdown",
   "id": "780ce430-cc8e-4cfa-bb6f-ff1e7c6b3c6b",
   "metadata": {},
   "source": [
    "In Python, the super() function is used to call methods and access attributes from the parent class within a subclass. It's particularly useful when you're working with inheritance and want to invoke methods or access attributes of the superclass. Let me walk you through an example step by step:"
   ]
  },
  {
   "cell_type": "markdown",
   "id": "c16006da-1a2c-4141-ad90-c77a1de36f5a",
   "metadata": {},
   "source": [
    "Let's say we have a base class called Animal with a method make_sound():"
   ]
  },
  {
   "cell_type": "code",
   "execution_count": 1,
   "id": "20457c84-7e56-4484-a203-ed5b374b9f4e",
   "metadata": {},
   "outputs": [],
   "source": [
    "class Animal:\n",
    "    def make_sound(self):\n",
    "        print(\"Animal Sound\")"
   ]
  },
  {
   "cell_type": "code",
   "execution_count": 2,
   "id": "e7ff668e-0db2-43d5-a672-a308fa94e427",
   "metadata": {},
   "outputs": [],
   "source": [
    "class Dog(Animal):\n",
    "    def make_sound(self):\n",
    "        print(\"Bark\")"
   ]
  },
  {
   "cell_type": "code",
   "execution_count": 3,
   "id": "a3186046-939f-4e26-a035-cb9870e288cd",
   "metadata": {},
   "outputs": [
    {
     "name": "stdout",
     "output_type": "stream",
     "text": [
      "Bark\n",
      "Animal Sound\n"
     ]
    }
   ],
   "source": [
    "Dog_object = Dog()\n",
    "Dog_object.make_sound()\n",
    "\n",
    "Animal_object = Animal()\n",
    "\n",
    "Animal_object.make_sound()"
   ]
  },
  {
   "cell_type": "markdown",
   "id": "843173d8-a9a6-4b46-a348-8b93521cd3d8",
   "metadata": {},
   "source": [
    "In this subclass, we've overridden the make_sound() method to make the dog sound like a dog.\n",
    "\n",
    "Now, let's say we want to invoke the make_sound() method of the parent class Animal from within the Dog class. Here's where super() comes into play:"
   ]
  },
  {
   "cell_type": "markdown",
   "id": "8d05a729-4afc-4177-80fb-7c3b9d1e0307",
   "metadata": {},
   "source": [
    "Now, let's create a subclass called Dog which inherits from Animal:"
   ]
  },
  {
   "cell_type": "code",
   "execution_count": 4,
   "id": "a297c263-78c9-4b3f-92d5-1e6cf25a34f1",
   "metadata": {},
   "outputs": [
    {
     "name": "stdout",
     "output_type": "stream",
     "text": [
      "Animal Sound\n",
      "Bark\n"
     ]
    }
   ],
   "source": [
    "class Animal:\n",
    "    def make_sound(self):\n",
    "        print(\"Animal Sound\")\n",
    "class Dog(Animal):\n",
    "    def make_sound(self):\n",
    "        super().make_sound()  # Calling the make_sound method of the parent class\n",
    "        print(\"Bark\")\n",
    "dog = Dog()\n",
    "dog.make_sound()"
   ]
  },
  {
   "cell_type": "raw",
   "id": "59e7037c-6b17-4171-9297-4820b32eb795",
   "metadata": {},
   "source": [
    "Lets understant super().__init__()"
   ]
  },
  {
   "cell_type": "markdown",
   "id": "394fd7ab-b130-4a65-aa92-76b583d0c2e4",
   "metadata": {},
   "source": [
    "1. first we will create two classes with out INHERITANCE and will check flow of variables. How to access them."
   ]
  },
  {
   "cell_type": "code",
   "execution_count": 21,
   "id": "38ee2123-32a4-4a92-9400-b5d34f6585a8",
   "metadata": {},
   "outputs": [
    {
     "ename": "AttributeError",
     "evalue": "'B' object has no attribute 'home_variable'",
     "output_type": "error",
     "traceback": [
      "\u001b[1;31m---------------------------------------------------------------------------\u001b[0m",
      "\u001b[1;31mAttributeError\u001b[0m                            Traceback (most recent call last)",
      "Cell \u001b[1;32mIn[21], line 13\u001b[0m\n\u001b[0;32m     10\u001b[0m         \u001b[38;5;66;03m# self.home_variable = \"I m class B instance_home_variable\"\u001b[39;00m\n\u001b[0;32m     12\u001b[0m b_obj \u001b[38;5;241m=\u001b[39m B() \n\u001b[1;32m---> 13\u001b[0m \u001b[38;5;28mprint\u001b[39m(b_obj\u001b[38;5;241m.\u001b[39mhome_variable)\n",
      "\u001b[1;31mAttributeError\u001b[0m: 'B' object has no attribute 'home_variable'"
     ]
    }
   ],
   "source": [
    "class A:\n",
    "    home_variable = \"I am class A class_home_variable\"\n",
    "    def __init__(self):\n",
    "        self.home_variable = \"I m class A instance_home_variable\"\n",
    "class B:\n",
    "    pass\n",
    "    # home_variable = \"I m class B class_home_variable\"\n",
    "    def __init__(self):\n",
    "        pass\n",
    "        # self.home_variable = \"I m class B instance_home_variable\"\n",
    "        \n",
    "b_obj = B() \n",
    "print(b_obj.home_variable)"
   ]
  },
  {
   "cell_type": "markdown",
   "id": "4a168153-4683-4fbc-8a64-e2f06950e775",
   "metadata": {},
   "source": [
    "2. Now we will inherit the class and will check flow of variable"
   ]
  },
  {
   "cell_type": "code",
   "execution_count": 25,
   "id": "9cf4bc0c-0156-4e7d-8322-bd2d53338709",
   "metadata": {},
   "outputs": [
    {
     "name": "stdout",
     "output_type": "stream",
     "text": [
      "I am class A class_home_variable\n"
     ]
    }
   ],
   "source": [
    "class A:\n",
    "    home_variable = \"I am class A class_home_variable\"\n",
    "    def __init__(self):\n",
    "        self.home_variable = \"I m class A instance_home_variable\"\n",
    "class B(A):\n",
    "    pass\n",
    "    # home_variable = \"I m class B class_home_variable\"\n",
    "    def __init__(self):\n",
    "        pass\n",
    "        # self.home_variable = \"I m class B instance_home_variable\"\n",
    "        \n",
    "b_obj = B() \n",
    "print(b_obj.home_variable)\n",
    "\n",
    "# you will see in this code that parent class constructor has been overridden. which is why it could not find the instance variable of \n",
    "# parent class and showing you class variable of parent class\n",
    "# what if we dont have conustructor in child class. will it be able to access instance home variable of parent class\n",
    "# lets try this in below cell"
   ]
  },
  {
   "cell_type": "code",
   "execution_count": 26,
   "id": "a6bfa030-b989-42cc-8831-085b1c097dfb",
   "metadata": {},
   "outputs": [
    {
     "name": "stdout",
     "output_type": "stream",
     "text": [
      "I m class A instance_home_variable\n"
     ]
    }
   ],
   "source": [
    "class A:\n",
    "    home_variable = \"I am class A class_home_variable\"\n",
    "    def __init__(self):\n",
    "        self.home_variable = \"I m class A instance_home_variable\"\n",
    "class B(A):\n",
    "    pass\n",
    "    # home_variable = \"I m class B class_home_variable\"\n",
    "    # def __init__(self):\n",
    "        \n",
    "        # self.home_variable = \"I m class B instance_home_variable\"\n",
    "        \n",
    "b_obj = B() \n",
    "print(b_obj.home_variable)\n",
    "\n",
    "# now you can see i m able to access instance variable of parent class."
   ]
  },
  {
   "cell_type": "code",
   "execution_count": null,
   "id": "2e6a3f7a-5fae-4ef5-8310-412fd2556430",
   "metadata": {},
   "outputs": [],
   "source": [
    "Now we want to solve this problem. we dont want to override the constructor of parent class.\n",
    "how we can do it. with the help of super() function"
   ]
  },
  {
   "cell_type": "markdown",
   "id": "ce484e73-1f47-4cd4-9da9-7c004f38d8e3",
   "metadata": {},
   "source": [
    "."
   ]
  },
  {
   "cell_type": "markdown",
   "id": "34eea743-0f00-4160-9d83-eb7230268607",
   "metadata": {},
   "source": [
    "."
   ]
  },
  {
   "cell_type": "markdown",
   "id": "adfb8573-0835-4eb1-bf26-8ae5fbb9bb15",
   "metadata": {},
   "source": [
    "In below program we have home variabe four times.\n",
    "\n",
    "1. Two times in parent class\n",
    "\n",
    "3. Two times in child class\n",
    "\n",
    "Now we will access all variable one by one "
   ]
  },
  {
   "cell_type": "code",
   "execution_count": 28,
   "id": "b1ea5469-82e4-424c-96c8-6ee2f9979ccb",
   "metadata": {},
   "outputs": [
    {
     "name": "stdout",
     "output_type": "stream",
     "text": [
      "I'm Class B instance home_variable\n"
     ]
    },
    {
     "ename": "AttributeError",
     "evalue": "'B' object has no attribute 'full_name'",
     "output_type": "error",
     "traceback": [
      "\u001b[1;31m---------------------------------------------------------------------------\u001b[0m",
      "\u001b[1;31mAttributeError\u001b[0m                            Traceback (most recent call last)",
      "Cell \u001b[1;32mIn[28], line 23\u001b[0m\n\u001b[0;32m     18\u001b[0m B_object \u001b[38;5;241m=\u001b[39m B(\u001b[38;5;124m\"\u001b[39m\u001b[38;5;124msachin\u001b[39m\u001b[38;5;124m\"\u001b[39m, \u001b[38;5;124m\"\u001b[39m\u001b[38;5;124mkumar\u001b[39m\u001b[38;5;124m\"\u001b[39m, \u001b[38;5;241m9718292990\u001b[39m)\n\u001b[0;32m     22\u001b[0m \u001b[38;5;28mprint\u001b[39m(B_object\u001b[38;5;241m.\u001b[39mhome_variable)\n\u001b[1;32m---> 23\u001b[0m \u001b[38;5;28mprint\u001b[39m(B_object\u001b[38;5;241m.\u001b[39mfull_name)\n",
      "\u001b[1;31mAttributeError\u001b[0m: 'B' object has no attribute 'full_name'"
     ]
    }
   ],
   "source": [
    "class A:\n",
    "    home_variable = \"I am class A class_home_variable\"\n",
    "    def __init__(self, first_name, last_name):\n",
    "        self.first_name = first_name\n",
    "        self.last_name = last_name\n",
    "        self.home_variable = \"I'm Class A instance home_variable\"\n",
    "        self.full_name = self.first_name + \" \" + self.last_name\n",
    "\n",
    "class B(A):\n",
    "    home_variable = \"I am class B class_home_variable\"\n",
    "    def __init__(self,first_name,last_name,mobile):\n",
    "        self.first_name = first_name\n",
    "        self.last_name = last_name\n",
    "        self.mobile = mobile\n",
    "        self.home_variable = \"I'm Class B instance home_variable\"  # if we comment it will look for class variable in same class\n",
    "\n",
    "A_object = A(\"rohit\", \"tyagi\")\n",
    "B_object = B(\"sachin\", \"kumar\", 9718292990)\n",
    "\n",
    "\n",
    "\n",
    "print(B_object.home_variable)\n",
    "print(B_object.full_name) # this says 'B' object has no attribute 'full_name' but it has in parent class"
   ]
  },
  {
   "cell_type": "markdown",
   "id": "2140aa18-2c53-417d-b2f8-7778cbcabfa7",
   "metadata": {},
   "source": [
    "Lets solve this  problem"
   ]
  },
  {
   "cell_type": "code",
   "execution_count": 32,
   "id": "32ee6304-3818-49df-93fe-d340704ddcc2",
   "metadata": {},
   "outputs": [
    {
     "name": "stdout",
     "output_type": "stream",
     "text": [
      "I'm Class B instance home_variable\n",
      "sachin kumar\n"
     ]
    }
   ],
   "source": [
    "class A:\n",
    "    home_variable = \"I am class A class_home_variable\"\n",
    "    def __init__(self, first_name, last_name):\n",
    "        self.first_name = first_name\n",
    "        self.last_name = last_name\n",
    "        self.home_variable = \"I'm Class A instance home_variable\"\n",
    "        self.full_name = self.first_name + \" \" + self.last_name\n",
    "\n",
    "class B(A):\n",
    "    home_variable = \"I am class B class_home_variable\"\n",
    "    def __init__(self,first_name,last_name,mobile):\n",
    "        super().__init__(first_name,last_name)\n",
    "        # self.first_name = first_name          # we need to remove this instance variable\n",
    "        # self.last_name = last_name\n",
    "        self.mobile = mobile\n",
    "        self.home_variable = \"I'm Class B instance home_variable\"  # if we comment it will look for class variable in same class\n",
    "\n",
    "A_object = A(\"rohit\", \"tyagi\")\n",
    "B_object = B(\"sachin\", \"kumar\", 9718292990)\n",
    "\n",
    "\n",
    "\n",
    "print(B_object.home_variable)\n",
    "print(B_object.full_name)"
   ]
  },
  {
   "cell_type": "code",
   "execution_count": null,
   "id": "d1aa2d1d-0615-47e7-8da1-e983c1ca7400",
   "metadata": {},
   "outputs": [],
   "source": [
    "class A:\n",
    "    home_variable = \"I am class A class_home_variable\"\n",
    "    def __init__(self, first_name, last_name):\n",
    "        self.first_name = first_name\n",
    "        self.last_name = last_name\n",
    "        # self.home_variable = \"I'm Class A instance home_variable\"\n",
    "\n",
    "class B(A):\n",
    "    # home_variable = \"I m class B class_home_variable\"\n",
    "    def __init__(self, first_name, last_name, mobile):\n",
    "        \n",
    "        super().__init__(first_name, last_name)\n",
    "        self.mobile = mobile\n",
    "        # self.home_variable = \"I'm Class B instance home_variable\"\n",
    "\n",
    "A_object = A(\"rohit\", \"tyagi\")\n",
    "B_object = B(\"sachin\", \"kumar\", 9718292990)\n",
    "\n",
    "print(B_object.home_variable)"
   ]
  }
 ],
 "metadata": {
  "kernelspec": {
   "display_name": "Python 3 (ipykernel)",
   "language": "python",
   "name": "python3"
  },
  "language_info": {
   "codemirror_mode": {
    "name": "ipython",
    "version": 3
   },
   "file_extension": ".py",
   "mimetype": "text/x-python",
   "name": "python",
   "nbconvert_exporter": "python",
   "pygments_lexer": "ipython3",
   "version": "3.11.7"
  }
 },
 "nbformat": 4,
 "nbformat_minor": 5
}
