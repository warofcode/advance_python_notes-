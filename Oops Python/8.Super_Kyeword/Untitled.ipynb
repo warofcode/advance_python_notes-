{
 "cells": [
  {
   "cell_type": "code",
   "execution_count": 1,
   "id": "6c5fc232-3381-42e2-8933-3dd4c07e8ff4",
   "metadata": {},
   "outputs": [
    {
     "name": "stdout",
     "output_type": "stream",
     "text": [
      "I'm Class B instance home_variable\n",
      "rohit\n"
     ]
    }
   ],
   "source": [
    "class A:\n",
    "    home_variable = \"I am class A class_home_variable\"\n",
    "    def __init__(self, first_name, last_name):\n",
    "        self.first_name = first_name\n",
    "        self.last_name = last_name\n",
    "        self.home_variable = \"I'm Class A instance home_variable\"\n",
    "        self.my_name = \"rohit\"\n",
    "\n",
    "class B(A):\n",
    "    home_variable = \"I m class B class_home_variable\"\n",
    "    def __init__(self, first_name, last_name, mobile):\n",
    "        super().__init__(first_name, last_name)\n",
    "        \n",
    "        \n",
    "        self.mobile = mobile\n",
    "        self.home_variable = \"I'm Class B instance home_variable\"\n",
    "\n",
    "A_object = A(\"rohit\", \"tyagi\")\n",
    "B_object = B(\"sachin\", \"kumar\", 9718292990)\n",
    "\n",
    "print(B_object.home_variable)\n",
    "print(B_object.my_name)"
   ]
  },
  {
   "cell_type": "code",
   "execution_count": null,
   "id": "b69faeeb-4057-46dc-b3bb-7fb6e1304a4b",
   "metadata": {},
   "outputs": [],
   "source": []
  }
 ],
 "metadata": {
  "kernelspec": {
   "display_name": "Python 3 (ipykernel)",
   "language": "python",
   "name": "python3"
  },
  "language_info": {
   "codemirror_mode": {
    "name": "ipython",
    "version": 3
   },
   "file_extension": ".py",
   "mimetype": "text/x-python",
   "name": "python",
   "nbconvert_exporter": "python",
   "pygments_lexer": "ipython3",
   "version": "3.11.7"
  }
 },
 "nbformat": 4,
 "nbformat_minor": 5
}
