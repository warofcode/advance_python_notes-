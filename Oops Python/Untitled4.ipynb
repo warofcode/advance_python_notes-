{
 "cells": [
  {
   "cell_type": "code",
   "execution_count": 44,
   "id": "726f22ce-cb9e-4026-bf56-4d2c701e5fff",
   "metadata": {},
   "outputs": [],
   "source": [
    "class ducat:\n",
    "    teacher = \"Rohit\"\n",
    "    def __init__(self,student_name,pclass):\n",
    "        self.student_name = student_name\n",
    "        self.pclass = pclass\n",
    "    def student_email(self):\n",
    "        print(\"email is :\",self.student_name+'@gmail.com')\n",
    "\n",
    "    @classmethod\n",
    "    def teacher_change(cls,new_teacher):\n",
    "        cls.teacher = new_teacher\n",
    "        return \"Teacher changed successfuly\"\n",
    "    @staticmethod\n",
    "    def greeting_printer(this):\n",
    "        \n",
    "        return f\"Hello good morning {this} \"\n",
    "    \n",
    "\n",
    "\n",
    "    \n",
    "        "
   ]
  },
  {
   "cell_type": "code",
   "execution_count": 45,
   "id": "e7719ead-9030-4754-97d3-e65f647d4f83",
   "metadata": {},
   "outputs": [],
   "source": [
    "rajeev = ducat(\"Rajeev\",\"Python\")"
   ]
  },
  {
   "cell_type": "code",
   "execution_count": 46,
   "id": "fb5b6022-c646-4807-9a14-5212f3f94f6b",
   "metadata": {},
   "outputs": [
    {
     "name": "stdout",
     "output_type": "stream",
     "text": [
      "email is : Rajeev@gmail.com\n"
     ]
    }
   ],
   "source": [
    "rajeev.student_email()"
   ]
  },
  {
   "cell_type": "code",
   "execution_count": 47,
   "id": "36e263c6-0ad1-465c-9f30-2cbd7cc42559",
   "metadata": {},
   "outputs": [
    {
     "data": {
      "text/plain": [
       "'Teacher changed successfuly'"
      ]
     },
     "execution_count": 47,
     "metadata": {},
     "output_type": "execute_result"
    }
   ],
   "source": [
    "rajeev.teacher_change(\"Aditya\")"
   ]
  },
  {
   "cell_type": "code",
   "execution_count": 48,
   "id": "a9ba39c6-68f4-48c7-9fea-2d68dd2f97fc",
   "metadata": {},
   "outputs": [
    {
     "data": {
      "text/plain": [
       "'Aditya'"
      ]
     },
     "execution_count": 48,
     "metadata": {},
     "output_type": "execute_result"
    }
   ],
   "source": [
    "rajeev.teacher"
   ]
  },
  {
   "cell_type": "code",
   "execution_count": 49,
   "id": "a20dc232-98d0-4c35-a405-6aed962af7ca",
   "metadata": {},
   "outputs": [
    {
     "name": "stdout",
     "output_type": "stream",
     "text": [
      "Hello good morning musheer \n"
     ]
    }
   ],
   "source": [
    "print(rajeev.greeting_printer(\"musheer\"))"
   ]
  },
  {
   "cell_type": "code",
   "execution_count": 51,
   "id": "314fe63e-6c9d-403a-8277-65e512da4db2",
   "metadata": {},
   "outputs": [
    {
     "name": "stdout",
     "output_type": "stream",
     "text": [
      "yes\n"
     ]
    }
   ],
   "source": [
    "\n",
    "rohit = True\n",
    "if\n",
    ":\n",
    "    print(\"yes\")"
   ]
  },
  {
   "cell_type": "code",
   "execution_count": null,
   "id": "11c26f78-0274-4933-9a39-63dfb8b7a37d",
   "metadata": {},
   "outputs": [],
   "source": []
  },
  {
   "cell_type": "code",
   "execution_count": null,
   "id": "9ac6f30a-3a7f-4263-816f-4e23ae44d95c",
   "metadata": {},
   "outputs": [],
   "source": []
  },
  {
   "cell_type": "code",
   "execution_count": null,
   "id": "649b1569-f4df-4381-ac08-82e1fb3bbd4b",
   "metadata": {},
   "outputs": [],
   "source": []
  }
 ],
 "metadata": {
  "kernelspec": {
   "display_name": "Python 3 (ipykernel)",
   "language": "python",
   "name": "python3"
  },
  "language_info": {
   "codemirror_mode": {
    "name": "ipython",
    "version": 3
   },
   "file_extension": ".py",
   "mimetype": "text/x-python",
   "name": "python",
   "nbconvert_exporter": "python",
   "pygments_lexer": "ipython3",
   "version": "3.11.7"
  }
 },
 "nbformat": 4,
 "nbformat_minor": 5
}
