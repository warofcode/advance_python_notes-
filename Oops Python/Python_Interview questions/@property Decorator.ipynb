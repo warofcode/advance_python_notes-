{
 "cells": [
  {
   "cell_type": "markdown",
   "id": "e69e1cde",
   "metadata": {},
   "source": [
    "# -----------------------------@property Decorator---------------------------------"
   ]
  },
  {
   "cell_type": "markdown",
   "id": "c4193f62",
   "metadata": {},
   "source": [
    "In Python, the @property decorator is used to define properties, which are special methods that allow you to access and manipulate the attributes of a class as if they were regular attributes, while providing additional functionality, such as validation or computation, behind the scenes.\n",
    "\n",
    "When you use the @property decorator before a method, it transforms that method into a read-only property. This means that you can access the method as if it were an attribute, without explicitly calling it as a method.\n",
    "\n",
    "Here's an example to demonstrate the usage of @property:"
   ]
  },
  {
   "cell_type": "code",
   "execution_count": 4,
   "id": "805112ae",
   "metadata": {},
   "outputs": [
    {
     "name": "stdout",
     "output_type": "stream",
     "text": [
      "5\n",
      "<bound method circle.diameter of <__main__.circle object at 0x000001FD1BAEEEE0>>\n",
      "<bound method circle.diameter of <__main__.circle object at 0x000001FD1BAEEEE0>>\n"
     ]
    }
   ],
   "source": [
    "class circle:\n",
    "    def __init__(self,radius) -> None:\n",
    "        self.radius = radius\n",
    "\n",
    "\n",
    "    def diameter(self):\n",
    "\n",
    "        return self.radius *2    \n",
    "    \n",
    "    def area(self):\n",
    "\n",
    "        return 3.14*(self.radius **2)\n",
    "    \n",
    "circle_object = circle(5)  \n",
    "\n",
    "print(circle_object.radius) # we capture radius attibute with the help of class object\n",
    "\n",
    "print(circle_object.diameter) # same thing we want to get from diameter.but diameter is a function so it will ask us to call\n",
    "print(circle_object.diameter)                            # (but here is a problem it will show(<__main__.circle object at 0x00000231F9072F10>) )\n",
    "                              # so to access this without call we will use @ property magic method"
   ]
  },
  {
   "cell_type": "code",
   "execution_count": 8,
   "id": "ce4c6d65",
   "metadata": {},
   "outputs": [
    {
     "name": "stdout",
     "output_type": "stream",
     "text": [
      "5\n",
      "10\n",
      "<bound method circle.area of <__main__.circle object at 0x000001FD1D3DB190>>\n"
     ]
    }
   ],
   "source": [
    "class circle:\n",
    "    def __init__(self,radius) -> None:\n",
    "        self.radius = radius\n",
    "\n",
    "    @property\n",
    "    def diameter(self):\n",
    "\n",
    "        return self.radius *2    \n",
    "    \n",
    "    def area(self):\n",
    "\n",
    "        return 3.14*(self.radius **2)\n",
    "    \n",
    "circle_object = circle(5)  \n",
    "\n",
    "print(circle_object.radius) # we capture radius attibute with the help of class object\n",
    "\n",
    "print(circle_object.diameter)\n",
    "print(circle_object.area)"
   ]
  },
  {
   "cell_type": "code",
   "execution_count": 10,
   "id": "23583daa",
   "metadata": {},
   "outputs": [
    {
     "name": "stdout",
     "output_type": "stream",
     "text": [
      "5\n",
      "10\n",
      "78.5\n"
     ]
    }
   ],
   "source": [
    "class circle:\n",
    "    def __init__(self,radius) -> None:\n",
    "        self.radius = radius\n",
    "\n",
    "    @property\n",
    "    def diameter(self):\n",
    "\n",
    "        return self.radius *2    \n",
    "    @property\n",
    "    def area(self):\n",
    "\n",
    "        return 3.14*(self.radius **2)\n",
    "    \n",
    "circle_object = circle(5)  \n",
    "\n",
    "print(circle_object.radius) # we capture radius attibute with the help of class object\n",
    "\n",
    "print(circle_object.diameter)\n",
    "print(circle_object.area)"
   ]
  },
  {
   "cell_type": "code",
   "execution_count": 4,
   "id": "d6de8bb0",
   "metadata": {},
   "outputs": [
    {
     "name": "stdout",
     "output_type": "stream",
     "text": [
      "Created Employee: Rohit Kumar - Rohit.Kumar@rexgalaxy.com\n"
     ]
    }
   ],
   "source": [
    "class Employee:\n",
    "    \"\"\"A sample Employee class\"\"\"\n",
    "\n",
    "    def __init__(self, first_name, last_name):\n",
    "        self.first_name = first_name\n",
    "        self.last_name = last_name\n",
    "\n",
    "        print(f'Created Employee: {self.fullname} - {self.email}')\n",
    "    @property\n",
    "    def email(self):\n",
    "        return '{}.{}@rexgalaxy.com'.format(self.first_name, self.last_name)\n",
    "\n",
    "    @property\n",
    "    def fullname(self):\n",
    "        return '{} {}'.format(self.first_name, self.last_name)\n",
    "\n",
    "\n",
    "emp_1 = Employee('Rohit', 'Kumar') "
   ]
  },
  {
   "cell_type": "code",
   "execution_count": 7,
   "id": "0acdf538",
   "metadata": {},
   "outputs": [
    {
     "data": {
      "text/plain": [
       "'Rohit.Kumar@rexgalaxy.com'"
      ]
     },
     "execution_count": 7,
     "metadata": {},
     "output_type": "execute_result"
    }
   ],
   "source": [
    "emp_1.email"
   ]
  },
  {
   "cell_type": "code",
   "execution_count": null,
   "id": "4f4ea070",
   "metadata": {},
   "outputs": [],
   "source": []
  }
 ],
 "metadata": {
  "kernelspec": {
   "display_name": "Python 3 (ipykernel)",
   "language": "python",
   "name": "python3"
  },
  "language_info": {
   "codemirror_mode": {
    "name": "ipython",
    "version": 3
   },
   "file_extension": ".py",
   "mimetype": "text/x-python",
   "name": "python",
   "nbconvert_exporter": "python",
   "pygments_lexer": "ipython3",
   "version": "3.9.12"
  }
 },
 "nbformat": 4,
 "nbformat_minor": 5
}
