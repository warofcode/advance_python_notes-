{
 "cells": [
  {
   "cell_type": "code",
   "execution_count": 1,
   "id": "ee4ff133-acf3-4a8d-b08e-fd7543fe5789",
   "metadata": {},
   "outputs": [],
   "source": [
    "class REXGALAXY:\n",
    "    holidays = \"saturday\"\n",
    "    \n",
    "    def __init__(self,name,college,course):\n",
    "        self.name= name\n",
    "        self.college = college\n",
    "        self.course = course\n",
    "        \n",
    "    def student_details(self):\n",
    "        return f\"details of {self.name} is {self.course}\"\n",
    "    @classmethod\n",
    "    def change_holidays(cls,new_holidays):\n",
    "        cls.holidays = new_holidays"
   ]
  },
  {
   "cell_type": "code",
   "execution_count": 2,
   "id": "45425de5-8147-4a33-8c30-d96978a9b437",
   "metadata": {},
   "outputs": [],
   "source": [
    "ram = REXGALAXY(\"ram\",\"DElhi\",\"Java\")\n",
    "soman = REXGALAXY(\"soman\",\"noida\",\"Python\")"
   ]
  },
  {
   "cell_type": "code",
   "execution_count": 3,
   "id": "6f408eef-5211-4227-8d47-e3d195cd6907",
   "metadata": {},
   "outputs": [
    {
     "data": {
      "text/plain": [
       "'saturday'"
      ]
     },
     "execution_count": 3,
     "metadata": {},
     "output_type": "execute_result"
    }
   ],
   "source": [
    "ram.holidays"
   ]
  },
  {
   "cell_type": "code",
   "execution_count": 4,
   "id": "dffccf68-2cc1-416e-b3ae-0198f43b3f83",
   "metadata": {},
   "outputs": [
    {
     "data": {
      "text/plain": [
       "'saturday'"
      ]
     },
     "execution_count": 4,
     "metadata": {},
     "output_type": "execute_result"
    }
   ],
   "source": [
    "soman.holidays"
   ]
  },
  {
   "cell_type": "code",
   "execution_count": 5,
   "id": "e06992e7-f2cb-4026-b564-9e3ebab3956c",
   "metadata": {},
   "outputs": [
    {
     "data": {
      "text/plain": [
       "'saturday'"
      ]
     },
     "execution_count": 5,
     "metadata": {},
     "output_type": "execute_result"
    }
   ],
   "source": [
    "REXGALAXY.holidays"
   ]
  },
  {
   "cell_type": "code",
   "execution_count": 6,
   "id": "88db9a29-d5a6-496b-a847-1cb39a9b7c82",
   "metadata": {},
   "outputs": [],
   "source": [
    "ram.change_holidays(\"Tuesday\")"
   ]
  },
  {
   "cell_type": "code",
   "execution_count": 7,
   "id": "55d41ef2-a46a-48a4-b09f-ce45507dae8b",
   "metadata": {},
   "outputs": [
    {
     "data": {
      "text/plain": [
       "'Tuesday'"
      ]
     },
     "execution_count": 7,
     "metadata": {},
     "output_type": "execute_result"
    }
   ],
   "source": [
    "REXGALAXY.holidays"
   ]
  },
  {
   "cell_type": "code",
   "execution_count": 8,
   "id": "74ea0748-3211-4ba4-99d1-bf1880507b2f",
   "metadata": {},
   "outputs": [
    {
     "data": {
      "text/plain": [
       "'Tuesday'"
      ]
     },
     "execution_count": 8,
     "metadata": {},
     "output_type": "execute_result"
    }
   ],
   "source": [
    "soman.holidays"
   ]
  },
  {
   "cell_type": "code",
   "execution_count": 9,
   "id": "b8e23bf5-6710-4ec2-87bc-08ec16049495",
   "metadata": {},
   "outputs": [],
   "source": [
    "class REXGALAXY:\n",
    "    holidays = \"saturday\"\n",
    "    \n",
    "    def __init__(self,name,college,course):\n",
    "        self.name= name\n",
    "        self.college = college\n",
    "        self.course = course\n",
    "\n",
    "# @staticmethod\n",
    "    def greeting_printer(self,string):\n",
    "        return f\"Hello good morning {self.string}\""
   ]
  },
  {
   "cell_type": "code",
   "execution_count": 12,
   "id": "e86ebb48-7378-4654-b85b-ae2d83a69cf5",
   "metadata": {},
   "outputs": [],
   "source": [
    "ram = REXGALAXY(\"ram\",\"sharda\",\"java\")"
   ]
  },
  {
   "cell_type": "code",
   "execution_count": null,
   "id": "cbb9e647-07f6-4cd0-a1af-cb100601a306",
   "metadata": {},
   "outputs": [],
   "source": []
  },
  {
   "cell_type": "code",
   "execution_count": 13,
   "id": "cc5b157d-d050-4922-bea6-309a83f4486f",
   "metadata": {},
   "outputs": [
    {
     "ename": "TypeError",
     "evalue": "REXGALAXY.greeting_printer() missing 1 required positional argument: 'string'",
     "output_type": "error",
     "traceback": [
      "\u001b[1;31m---------------------------------------------------------------------------\u001b[0m",
      "\u001b[1;31mTypeError\u001b[0m                                 Traceback (most recent call last)",
      "Cell \u001b[1;32mIn[13], line 1\u001b[0m\n\u001b[1;32m----> 1\u001b[0m ram\u001b[38;5;241m.\u001b[39mgreeting_printer()\n",
      "\u001b[1;31mTypeError\u001b[0m: REXGALAXY.greeting_printer() missing 1 required positional argument: 'string'"
     ]
    }
   ],
   "source": [
    "ram.greeting_printer()"
   ]
  },
  {
   "cell_type": "code",
   "execution_count": null,
   "id": "569c1182-e147-46c8-8213-4224ddbb5f95",
   "metadata": {},
   "outputs": [],
   "source": []
  },
  {
   "cell_type": "code",
   "execution_count": null,
   "id": "1112860e-0e63-447f-bce9-9d642851703f",
   "metadata": {},
   "outputs": [],
   "source": [
    "ram = (\"ram\",\"sharda\",\"java\")"
   ]
  },
  {
   "cell_type": "code",
   "execution_count": null,
   "id": "b216983c-aa0a-46e3-aa99-941a48a73a49",
   "metadata": {},
   "outputs": [],
   "source": [
    "cls(\"ram-Sharda-java\")"
   ]
  },
  {
   "cell_type": "code",
   "execution_count": null,
   "id": "bee5176f-0cb2-49b7-8749-01f4d88f8392",
   "metadata": {},
   "outputs": [],
   "source": [
    "ram = cls.method(\"ram-Sharda-java\")"
   ]
  },
  {
   "cell_type": "code",
   "execution_count": null,
   "id": "7ced6e74-76fa-4f5f-8e3f-4985cb3c74a6",
   "metadata": {},
   "outputs": [],
   "source": []
  },
  {
   "cell_type": "code",
   "execution_count": 27,
   "id": "1b68d3d1-e1b8-4031-85e9-becd17c383f2",
   "metadata": {},
   "outputs": [],
   "source": [
    "list1  = \"ram-Sharda-java\".split(\"-\")"
   ]
  },
  {
   "cell_type": "code",
   "execution_count": 28,
   "id": "744d6c49-413f-44f4-ad36-f8764fe44ef5",
   "metadata": {},
   "outputs": [
    {
     "data": {
      "text/plain": [
       "['ram', 'Sharda', 'java']"
      ]
     },
     "execution_count": 28,
     "metadata": {},
     "output_type": "execute_result"
    }
   ],
   "source": [
    "list1"
   ]
  },
  {
   "cell_type": "code",
   "execution_count": 29,
   "id": "a02f08f4-4aeb-498e-a468-fa4abb708aa9",
   "metadata": {},
   "outputs": [
    {
     "data": {
      "text/plain": [
       "'java'"
      ]
     },
     "execution_count": 29,
     "metadata": {},
     "output_type": "execute_result"
    }
   ],
   "source": [
    "list1[-1]"
   ]
  },
  {
   "cell_type": "code",
   "execution_count": 32,
   "id": "461742c2-494a-45d4-b342-08568f343656",
   "metadata": {},
   "outputs": [
    {
     "data": {
      "text/plain": [
       "'java'"
      ]
     },
     "execution_count": 32,
     "metadata": {},
     "output_type": "execute_result"
    }
   ],
   "source": [
    "list1[2]"
   ]
  },
  {
   "cell_type": "code",
   "execution_count": 33,
   "id": "0f3c7818-1fd1-4f77-81f4-15cde633312f",
   "metadata": {},
   "outputs": [
    {
     "data": {
      "text/plain": [
       "['ram', 'Sharda', 'java']"
      ]
     },
     "execution_count": 33,
     "metadata": {},
     "output_type": "execute_result"
    }
   ],
   "source": [
    "list1"
   ]
  },
  {
   "cell_type": "code",
   "execution_count": 37,
   "id": "45bb8546-f10e-4212-9bd9-aaaf1c734aaa",
   "metadata": {},
   "outputs": [
    {
     "data": {
      "text/plain": [
       "'ram'"
      ]
     },
     "execution_count": 37,
     "metadata": {},
     "output_type": "execute_result"
    }
   ],
   "source": [
    "list1[0]"
   ]
  },
  {
   "cell_type": "code",
   "execution_count": 38,
   "id": "07004748-40ef-4c83-8a99-de9ca731ee50",
   "metadata": {},
   "outputs": [
    {
     "data": {
      "text/plain": [
       "'Sharda'"
      ]
     },
     "execution_count": 38,
     "metadata": {},
     "output_type": "execute_result"
    }
   ],
   "source": [
    "list1[1]"
   ]
  },
  {
   "cell_type": "code",
   "execution_count": 39,
   "id": "69f05964-4b2f-4ce0-9fd8-ee9ebc17a4c0",
   "metadata": {},
   "outputs": [
    {
     "data": {
      "text/plain": [
       "'java'"
      ]
     },
     "execution_count": 39,
     "metadata": {},
     "output_type": "execute_result"
    }
   ],
   "source": [
    "list1[2]"
   ]
  },
  {
   "cell_type": "code",
   "execution_count": null,
   "id": "61cb29ab-27d2-447a-a2b3-2381a606ee42",
   "metadata": {},
   "outputs": [],
   "source": []
  }
 ],
 "metadata": {
  "kernelspec": {
   "display_name": "Python 3 (ipykernel)",
   "language": "python",
   "name": "python3"
  },
  "language_info": {
   "codemirror_mode": {
    "name": "ipython",
    "version": 3
   },
   "file_extension": ".py",
   "mimetype": "text/x-python",
   "name": "python",
   "nbconvert_exporter": "python",
   "pygments_lexer": "ipython3",
   "version": "3.11.7"
  }
 },
 "nbformat": 4,
 "nbformat_minor": 5
}
