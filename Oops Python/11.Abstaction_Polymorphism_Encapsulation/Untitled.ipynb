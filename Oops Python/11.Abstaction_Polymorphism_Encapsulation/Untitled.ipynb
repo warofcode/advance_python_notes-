{
 "cells": [
  {
   "cell_type": "code",
   "execution_count": 26,
   "id": "5afa5d10",
   "metadata": {},
   "outputs": [
    {
     "name": "stdout",
     "output_type": "stream",
     "text": [
      "Task_1 has  started please wait...\n",
      "Task_2 has started please wait...\n",
      "Task_3 has started please wait...\n",
      "Task1has completed.\n",
      "Task2 completed.\n",
      "Task3 has completed.\n",
      "Total time taken :  4.019515099935234\n"
     ]
    }
   ],
   "source": [
    "import time\n",
    "import threading\n",
    "\n",
    "def task1():\n",
    "    print(f\"Task_1 has  started please wait...\")\n",
    "    time.sleep(4)  # Simulate some work\n",
    "    print(f\"Task1has completed.\")\n",
    "\n",
    "def task2():\n",
    "    print(f\"Task_2 has started please wait...\")\n",
    "    time.sleep(4)  # Simulate some work\n",
    "    print(f\"Task2 completed.\")\n",
    "\n",
    "def task3():\n",
    "    print(f\"Task_3 has started please wait...\")\n",
    "    time.sleep(4)  # Simulate some work\n",
    "    print(f\"Task3 has completed.\")\n",
    "    \n",
    "thread1 = threading.Thread(target=task1,)\n",
    "thread2 = threading.Thread(target=task2,)\n",
    "thread3 = threading.Thread(target=task3,)   \n",
    "\n",
    "start_time = time.perf_counter()\n",
    "\n",
    "thread1.start()\n",
    "thread2.start()\n",
    "thread3.start()\n",
    "\n",
    "thread1.join()\n",
    "thread2.join()\n",
    "thread3.join()\n",
    "\n",
    "\n",
    "end_time = time.perf_counter()\n",
    "\n",
    "print(\"Total time taken : \",(end_time-start_time))"
   ]
  },
  {
   "cell_type": "code",
   "execution_count": null,
   "id": "d1cb1e7a",
   "metadata": {},
   "outputs": [],
   "source": []
  },
  {
   "cell_type": "code",
   "execution_count": 23,
   "id": "49f8744e",
   "metadata": {},
   "outputs": [
    {
     "name": "stdout",
     "output_type": "stream",
     "text": [
      "Task_1 has  started please wait...\n",
      "Task1has completed.\n",
      "None\n",
      "Task_2 has started please wait...\n",
      "Task2 completed.\n",
      "None\n",
      "Task_3 has started please wait...\n",
      "Task3 has completed.\n",
      "None\n",
      "Total time taken :  12.005575000075623\n"
     ]
    }
   ],
   "source": [
    "import time\n",
    "import threading\n",
    "\n",
    "def task1():\n",
    "    print(f\"Task_1 has  started please wait...\")\n",
    "    time.sleep(4)  # Simulate some work\n",
    "    print(f\"Task1has completed.\")\n",
    "\n",
    "def task2():\n",
    "    print(f\"Task_2 has started please wait...\")\n",
    "    time.sleep(4)  # Simulate some work\n",
    "    print(f\"Task2 completed.\")\n",
    "\n",
    "def task3():\n",
    "    print(f\"Task_3 has started please wait...\")\n",
    "    time.sleep(4)  # Simulate some work\n",
    "    print(f\"Task3 has completed.\")\n",
    "\n",
    "start_time = time.perf_counter()\n",
    "print(task1())\n",
    "print(task2())\n",
    "print(task3())\n",
    "end_time = time.perf_counter()\n",
    "print(\"Total time taken : \",(end_time-start_time))\n"
   ]
  },
  {
   "cell_type": "code",
   "execution_count": 27,
   "id": "58bd3798",
   "metadata": {},
   "outputs": [
    {
     "ename": "AttributeError",
     "evalue": "'Person' object has no attribute '__private_method'",
     "output_type": "error",
     "traceback": [
      "\u001b[1;31m---------------------------------------------------------------------------\u001b[0m",
      "\u001b[1;31mAttributeError\u001b[0m                            Traceback (most recent call last)",
      "Cell \u001b[1;32mIn[27], line 10\u001b[0m\n\u001b[0;32m      7\u001b[0m         \u001b[38;5;28mprint\u001b[39m(\u001b[38;5;124m'\u001b[39m\u001b[38;5;124mThis is a private method.\u001b[39m\u001b[38;5;124m'\u001b[39m)\n\u001b[0;32m      9\u001b[0m person \u001b[38;5;241m=\u001b[39m Person(\u001b[38;5;124m'\u001b[39m\u001b[38;5;124mJohn Doe\u001b[39m\u001b[38;5;124m'\u001b[39m, \u001b[38;5;241m30\u001b[39m)\n\u001b[1;32m---> 10\u001b[0m person\u001b[38;5;241m.\u001b[39m__private_method()\n",
      "\u001b[1;31mAttributeError\u001b[0m: 'Person' object has no attribute '__private_method'"
     ]
    }
   ],
   "source": [
    "class Person:\n",
    "    def __init__(self, name, age):\n",
    "        self.name = name\n",
    "        self.age = age\n",
    "    \n",
    "    def __private_method(self):\n",
    "        print('This is a private method.')\n",
    "\n",
    "person = Person('John Doe', 30)\n",
    "person.__private_method()"
   ]
  },
  {
   "cell_type": "code",
   "execution_count": 28,
   "id": "533ed9b3",
   "metadata": {},
   "outputs": [
    {
     "name": "stdout",
     "output_type": "stream",
     "text": [
      "The name is : Sonali Kumari\n",
      "The id is : 58\n"
     ]
    }
   ],
   "source": [
    "class Student:\n",
    "    def __init__(self, name, id):\n",
    "        self.__id = id\n",
    "        self.name = name\n",
    " \n",
    "    def get_Id(self):\n",
    "        return self.__id\n",
    " \n",
    "# Setting the data of the student\n",
    "sonali = Student(\"Sonali Kumari\", 58)\n",
    " \n",
    "# Printing the name as the name is public\n",
    "print(\"The name is :\", sonali.name)\n",
    " \n",
    "# Printing the Id by getter method as the id is private\n",
    "print(\"The id is :\", sonali.get_Id())"
   ]
  },
  {
   "cell_type": "code",
   "execution_count": 32,
   "id": "1528add1",
   "metadata": {},
   "outputs": [
    {
     "data": {
      "text/plain": [
       "2"
      ]
     },
     "execution_count": 32,
     "metadata": {},
     "output_type": "execute_result"
    }
   ],
   "source": [
    "tuple1 = [1,2,3,3]\n",
    "tuple1.count()"
   ]
  },
  {
   "cell_type": "code",
   "execution_count": 34,
   "id": "43426515",
   "metadata": {},
   "outputs": [],
   "source": [
    "a=3\n",
    "b=3\n",
    "c=4\n",
    "if a==b and a==c:\n",
    "    print(\"all 3 are equal\")\n",
    "    \n",
    "for i in tuple()  \n"
   ]
  },
  {
   "cell_type": "code",
   "execution_count": null,
   "id": "9cda86ef",
   "metadata": {},
   "outputs": [],
   "source": []
  }
 ],
 "metadata": {
  "kernelspec": {
   "display_name": "Python 3 (ipykernel)",
   "language": "python",
   "name": "python3"
  },
  "language_info": {
   "codemirror_mode": {
    "name": "ipython",
    "version": 3
   },
   "file_extension": ".py",
   "mimetype": "text/x-python",
   "name": "python",
   "nbconvert_exporter": "python",
   "pygments_lexer": "ipython3",
   "version": "3.11.7"
  }
 },
 "nbformat": 4,
 "nbformat_minor": 5
}
