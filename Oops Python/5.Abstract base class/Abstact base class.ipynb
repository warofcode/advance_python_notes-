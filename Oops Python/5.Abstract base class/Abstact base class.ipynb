{
 "cells": [
  {
   "cell_type": "markdown",
   "id": "314a7346",
   "metadata": {},
   "source": [
    "# --------------------------------Abstract Base Classes (ABC)--------------------------------------"
   ]
  },
  {
   "cell_type": "markdown",
   "id": "233317ea",
   "metadata": {},
   "source": [
    "Abstract Base Classes (ABCs) in Python provide a way to define abstract classes and interfaces. They are used to establish a common structure or contract that derived classes must follow. Here are the steps involved in working with abstract base classes in Python:"
   ]
  },
  {
   "cell_type": "markdown",
   "id": "d21b1001",
   "metadata": {},
   "source": [
    "In Python, an abstract base class (ABC) is a way of defining a common interface for a group of related classes. It serves as a blueprint for other classes, providing a common structure or set of methods that subclasses must implement. However, it cannot be instantiated itself."
   ]
  },
  {
   "cell_type": "markdown",
   "id": "9bc5ba28",
   "metadata": {},
   "source": [
    "Python's abc module provides tools for working with abstract base classes. You can define an abstract base class by subclassing ABC (or ABCMeta) from the abc module and using the @abstractmethod decorator to mark methods as abstract, indicating that they must be implemented by subclasses."
   ]
  },
  {
   "cell_type": "markdown",
   "id": "2e3e0a9e",
   "metadata": {},
   "source": [
    "Step 1: Import the ABC class and abstractmethod decorator from the abc module."
   ]
  },
  {
   "cell_type": "code",
   "execution_count": 3,
   "id": "929ede37",
   "metadata": {},
   "outputs": [],
   "source": [
    "from abc import ABC, abstractmethod\n"
   ]
  },
  {
   "cell_type": "markdown",
   "id": "4312ecb9",
   "metadata": {},
   "source": [
    " Step 2: Define a class that inherits from ABC to create an abstract base class."
   ]
  },
  {
   "cell_type": "code",
   "execution_count": 2,
   "id": "da566245",
   "metadata": {},
   "outputs": [],
   "source": [
    "class MyAbstractClass(ABC):\n",
    "    pass\n"
   ]
  },
  {
   "cell_type": "markdown",
   "id": "47d137b9",
   "metadata": {},
   "source": [
    "Step 3: Declare abstract methods within the abstract base class using the @abstractmethod decorator. These methods do not have an implementation and must be overridden by any derived class."
   ]
  },
  {
   "cell_type": "code",
   "execution_count": 4,
   "id": "157298dd",
   "metadata": {},
   "outputs": [],
   "source": [
    "class MyAbstractClass(ABC):\n",
    "    @abstractmethod\n",
    "    def my_abstract_method(self):\n",
    "        pass"
   ]
  },
  {
   "cell_type": "markdown",
   "id": "fc471d65",
   "metadata": {},
   "source": [
    "Step 4: Optionally, you can define concrete methods within the abstract base class. Concrete methods have an implementation and can be used directly by derived classes."
   ]
  },
  {
   "cell_type": "markdown",
   "id": "d11c118d",
   "metadata": {},
   "source": [
    "In the context of abstract base classes (ABCs) in Python, concrete methods are regular methods that have implementations in the abstract base class itself. These methods are not marked as abstract and do not require implementation by subclasses.\n",
    "\n",
    "Concrete methods in an abstract base class can provide default behavior that subclasses inherit. However, subclasses are free to override these methods with their own implementations if needed."
   ]
  },
  {
   "cell_type": "code",
   "execution_count": 5,
   "id": "bb859c1c",
   "metadata": {},
   "outputs": [],
   "source": [
    "class MyAbstractClass(ABC):\n",
    "    @abstractmethod\n",
    "    def my_abstract_method(self):\n",
    "        pass\n",
    "\n",
    "    def my_concrete_method(self):\n",
    "        print(\"This is a concrete method.\")\n"
   ]
  },
  {
   "cell_type": "markdown",
   "id": "44c3bd6d",
   "metadata": {},
   "source": [
    "Step 5: To create a derived class that inherits from the abstract base class, implement all the abstract methods declared in the base class."
   ]
  },
  {
   "cell_type": "code",
   "execution_count": 6,
   "id": "a405035d",
   "metadata": {},
   "outputs": [],
   "source": [
    "class MyDerivedClass(MyAbstractClass):\n",
    "    def my_abstract_method(self):\n",
    "        print(\"Implementing abstract method in the derived class.\")\n"
   ]
  },
  {
   "cell_type": "markdown",
   "id": "1b483cd7",
   "metadata": {},
   "source": [
    "Step 6: You can now create objects of the derived class and use both the abstract and concrete methods defined in the base and derived classes."
   ]
  },
  {
   "cell_type": "code",
   "execution_count": 7,
   "id": "33b5d322",
   "metadata": {},
   "outputs": [
    {
     "name": "stdout",
     "output_type": "stream",
     "text": [
      "Implementing abstract method in the derived class.\n",
      "This is a concrete method.\n"
     ]
    }
   ],
   "source": [
    "obj = MyDerivedClass()\n",
    "obj.my_abstract_method()  # Output: \"Implementing abstract method in the derived class.\"\n",
    "obj.my_concrete_method()  # Output: \"This is a concrete method.\"\n"
   ]
  },
  {
   "cell_type": "markdown",
   "id": "8fd8d4c1",
   "metadata": {},
   "source": [
    "Abstract base classes allow you to define a common interface or contract for a group of related classes. Any class that derives from an abstract base class must implement all the abstract methods declared in the base class. This ensures that the derived classes adhere to a specific structure and behavior defined by the abstract base class."
   ]
  },
  {
   "cell_type": "markdown",
   "id": "fc1c76b3",
   "metadata": {},
   "source": [
    "# Example:"
   ]
  },
  {
   "cell_type": "code",
   "execution_count": 2,
   "id": "88e24cde",
   "metadata": {},
   "outputs": [],
   "source": [
    "\n",
    "from abc import ABC,abstractmethod\n",
    "\n",
    "class Artificial_inteligence(ABC):\n",
    "    @abstractmethod\n",
    "    def python_develoer(self):\n",
    "        return \"yes python deveoper is avaialable\"\n",
    "\n",
    "class Data_scientist(Artificial_inteligence):\n",
    "    def python_develoer(self):\n",
    "        return \"yes python deveoper is avaialable\"\n",
    "\n",
    "class Data_analyst(Artificial_inteligence):\n",
    "    def python_develoer(self):\n",
    "        return \"yes python deveoper is avaialable\"\n",
    "\n",
    "    \n",
    "class Data_engineer(Artificial_inteligence):\n",
    "    def python_develoer(self):\n",
    "        return \"yes python deveoper is avaialable\"\n",
    "\n",
    "    \n",
    "\n",
    "class Tablue_developer(Artificial_inteligence):\n",
    "    def tablue(self):\n",
    "        return \"i am only teblue developer\"\n",
    "    \n",
    "    def python_develoer(self):\n",
    "        return \"yes python deveoper is avaialable\"\n",
    "    \n",
    "Data_scientist_object = Data_scientist()\n",
    "Data_analyst_object = Data_analyst()\n",
    "Data_engineer_object = Data_engineer()\n",
    "Tablue_developer_object= Tablue_developer()\n",
    "    \n",
    "\n"
   ]
  },
  {
   "cell_type": "markdown",
   "id": "f73a8ecc",
   "metadata": {},
   "source": [
    "# Example1:"
   ]
  },
  {
   "cell_type": "code",
   "execution_count": 4,
   "id": "b201f947",
   "metadata": {},
   "outputs": [
    {
     "name": "stdout",
     "output_type": "stream",
     "text": [
      "i m python class of data_scientist\n"
     ]
    }
   ],
   "source": [
    "from abc import ABC,abstractmethod\n",
    "class data_analyst(ABC):\n",
    "    @abstractmethod\n",
    "    def python_lecture(self):\n",
    "        return \"i m python class of data_analyst\"\n",
    "#     @abstractmethod\n",
    "#     def tablue_lecture():\n",
    "#         return \"i m from tablue class\"\n",
    "\n",
    "    \n",
    "class data_scientist(data_analyst):\n",
    "    def python_lecture(self):\n",
    "        return \"i m python class of data_scientist\"\n",
    "    \n",
    "    def my_extra_lecture():\n",
    "        return \"i m extra lecture\"\n",
    "\n",
    "class Machine_learning(data_analyst):\n",
    "    def python_lecture(self):\n",
    "        return \"i m python class of machine_learning\" \n",
    "    \n",
    "data_scientist_object  = data_scientist()\n",
    "\n",
    "print(data_scientist_object.python_lecture())"
   ]
  },
  {
   "cell_type": "markdown",
   "id": "0d9e5ce1",
   "metadata": {},
   "source": [
    "# Example2:"
   ]
  },
  {
   "cell_type": "code",
   "execution_count": 14,
   "id": "8a78cbd7",
   "metadata": {},
   "outputs": [],
   "source": [
    "import math\n",
    "from abc import ABC,abstractmethod\n",
    "class Area_calculator(ABC):\n",
    "    @abstractmethod\n",
    "    def print_area(self):      # now we will need to define print_area method in all classes with will be derived from \n",
    "                               # AreArea_calculator class\n",
    "        pass\n",
    "\n",
    "class Circle(Area_calculator):\n",
    "    def __init__(self, **kwargs):\n",
    "        self.radius = kwargs.get('radius')\n",
    "\n",
    "    def calculate_area(self):\n",
    "        area = math.pi * (self.radius ** 2)\n",
    "        \n",
    "        return area\n",
    "\n",
    "    def print_area(self):\n",
    "        area = self.calculate_area()\n",
    "        print(f\"The area of the circle with radius {self.radius} is {area:.2f}\")\n",
    "\n",
    "\n",
    "class Square(Area_calculator):\n",
    "    def __init__(self, **kwargs):\n",
    "        self.side = kwargs.get('side')\n",
    "\n",
    "    def calculate_area(self):\n",
    "        area = (self.side ** 2)\n",
    "        \n",
    "        return area\n",
    "\n",
    "    def print_area(self):\n",
    "        area = self.calculate_area()\n",
    "        print(f\"The area of the circle with radius {self.side} is {area:.2f}\")\n",
    "\n",
    "\n",
    "class Rectangle(Area_calculator):\n",
    "    def __init__(self, **kwargs):\n",
    "        self.length = kwargs.get('length')\n",
    "        self.width = kwargs.get('width')\n",
    "\n",
    "    def calculate_area(self):\n",
    "        area = (self.length*self.width)\n",
    "        \n",
    "        return area\n",
    "\n",
    "    def print_area(self):\n",
    "        area = self.calculate_area()\n",
    "        print(f\"The area of the Rectanngle is {area:.2f}\")\n",
    "\n",
    "\n",
    "# Usage example\n",
    "# circle = Circle(radius = 15)\n",
    "# circle.calculate_area()\n",
    "\n",
    "\n",
    "my_rectangle_object = Rectangle(length=20,width = 40)\n",
    "#print(my_rectangle_object.print_area())"
   ]
  },
  {
   "cell_type": "markdown",
   "id": "165b2078",
   "metadata": {},
   "source": [
    "# Example 2"
   ]
  },
  {
   "cell_type": "code",
   "execution_count": 4,
   "id": "2857599e",
   "metadata": {},
   "outputs": [
    {
     "name": "stdout",
     "output_type": "stream",
     "text": [
      "24\n",
      "20\n",
      "28.27431\n",
      "18.849539999999998\n",
      "17.5\n",
      "15\n"
     ]
    }
   ],
   "source": [
    "from abc import ABC, abstractmethod\n",
    "\n",
    "class Shape(ABC):\n",
    "    @abstractmethod\n",
    "    def calculate_area(self):\n",
    "        pass\n",
    "\n",
    "    @abstractmethod\n",
    "    def calculate_perimeter(self):\n",
    "        pass\n",
    "\n",
    "class Rectangle(Shape):\n",
    "    def __init__(self, length, width):\n",
    "        self.length = length\n",
    "        self.width = width\n",
    "\n",
    "    def calculate_area(self):\n",
    "        return self.length * self.width\n",
    "\n",
    "    def calculate_perimeter(self):\n",
    "        return 2 * (self.length + self.width)\n",
    "\n",
    "class Circle(Shape):\n",
    "    def __init__(self, radius):\n",
    "        self.radius = radius\n",
    "\n",
    "    def calculate_area(self):\n",
    "        return 3.14159 * (self.radius ** 2)\n",
    "\n",
    "    def calculate_perimeter(self):\n",
    "        return 2 * 3.14159 * self.radius\n",
    "\n",
    "class Triangle(Shape):\n",
    "    def __init__(self, base, height):\n",
    "        self.base = base\n",
    "        self.height = height\n",
    "\n",
    "    def calculate_area(self):\n",
    "        return 0.5 * self.base * self.height\n",
    "\n",
    "    def calculate_perimeter(self):\n",
    "        # Assuming it's an equilateral triangle\n",
    "        return 3 * self.base\n",
    "\n",
    "# Usage example\n",
    "rectangle = Rectangle(4, 6)\n",
    "circle = Circle(3)\n",
    "triangle = Triangle(5, 7)\n",
    "\n",
    "print(rectangle.calculate_area())        # Output: 24\n",
    "print(rectangle.calculate_perimeter())   # Output: 20\n",
    "\n",
    "print(circle.calculate_area())           # Output: 28.27346\n",
    "print(circle.calculate_perimeter())      # Output: 18.849539999999998\n",
    "\n",
    "print(triangle.calculate_area())         # Output: 17.5\n",
    "print(triangle.calculate_perimeter())    # Output: 15\n"
   ]
  },
  {
   "cell_type": "markdown",
   "id": "845bd60f",
   "metadata": {},
   "source": [
    "The Shape class is defined as an abstract base class using the ABC module and the @abstractmethod decorator. It declares two abstract methods: calculate_area() and calculate_perimeter(), which must be implemented by any derived class.\n",
    "\n",
    "The Rectangle, Circle, and Triangle classes inherit from the Shape class and provide their own implementations for the abstract methods.\n",
    "\n",
    "Each derived class has its own initializer (__init__ method) to set the necessary attributes.\n",
    "\n",
    "The calculate_area() and calculate_perimeter() methods are implemented in each derived class according to the specific formulae for calculating the area and perimeter of the shape.\n",
    "\n",
    "An example of how to use the classes is demonstrated at the end. Instances of Rectangle, Circle, and Triangle are created with appropriate parameters, and their calculate_area() and calculate_perimeter() methods are called to calculate and print the corresponding values.\n",
    "\n",
    "By using the abstract base class, you can enforce a common structure and behavior among the derived classes, ensuring that they implement the required methods."
   ]
  },
  {
   "cell_type": "code",
   "execution_count": null,
   "id": "760804dd",
   "metadata": {},
   "outputs": [],
   "source": [
    "# can we create more than one abstract base class in python \n",
    "# yes"
   ]
  },
  {
   "cell_type": "code",
   "execution_count": null,
   "id": "644a958d",
   "metadata": {},
   "outputs": [],
   "source": [
    "from abc import ABC, abstractmethod\n",
    "\n",
    "# Define the first abstract base class\n",
    "class Shape(ABC):\n",
    "    @abstractmethod\n",
    "    def area(self):\n",
    "        pass\n",
    "\n",
    "# Define the second abstract base class\n",
    "class Drawable(ABC):\n",
    "    @abstractmethod\n",
    "    def draw(self):\n",
    "        pass\n",
    "\n",
    "# Implement a concrete class that inherits from both abstract base classes\n",
    "class Circle(Shape, Drawable):\n",
    "    def __init__(self, radius):\n",
    "        self.radius = radius\n",
    "\n",
    "    def area(self):\n",
    "        return 3.14 * self.radius * self.radius\n",
    "\n",
    "    def draw(self):\n",
    "        print(\"Drawing a circle\")\n",
    "\n",
    "# Create an instance of the Circle class\n",
    "circle = Circle(5)\n",
    "print(circle.area())\n",
    "circle.draw()\n"
   ]
  },
  {
   "cell_type": "code",
   "execution_count": 5,
   "id": "433dff37",
   "metadata": {},
   "outputs": [
    {
     "name": "stdout",
     "output_type": "stream",
     "text": [
      "Area of cirlcle is  50.24\n",
      "Area of square is  16\n",
      "Area of rectanagle is  hi i m method insie rectangle class\n"
     ]
    }
   ],
   "source": [
    "from abc import ABC,abstractmethod\n",
    "\n",
    "class Shape(ABC):\n",
    "    pass\n",
    "    @abstractmethod\n",
    "    def print_area():\n",
    "        pass\n",
    "\n",
    "class circle(Shape):\n",
    "    def __init__(self,radius) -> None:\n",
    "        self.radius = radius\n",
    "\n",
    "    def print_area(self):\n",
    "\n",
    "        return 3.14*self.radius**2\n",
    "    \n",
    "class square(Shape):\n",
    "    def __init__(self,side):\n",
    "        self.side =  side\n",
    "        \n",
    "    def print_area(self):\n",
    "        return self.side**2\n",
    "    \n",
    "class rectangle(Shape):\n",
    "    def __init__(self,side1,side2):\n",
    "        self.side1 =  side1\n",
    "        self.side2 = side2\n",
    "        \n",
    "    def print_area(self):\n",
    "        return self.side1*self.side2   \n",
    "    \n",
    "    def print_detials(self):\n",
    "        return \"hi i m method insie rectangle class\"\n",
    "    \n",
    "    \n",
    "    \n",
    "    \n",
    "circle_object = circle(4)   \n",
    "square_object = square(4)\n",
    "rectangle_object = rectangle(8,5)\n",
    "\n",
    "print(\"Area of cirlcle is \",circle_object.print_area())\n",
    "print(\"Area of square is \",square_object.print_area())\n",
    "print(\"Area of rectanagle is \",rectangle_object.print_detials())"
   ]
  },
  {
   "cell_type": "markdown",
   "id": "c376212b",
   "metadata": {},
   "source": [
    "# Can we create object of abstract base class ?"
   ]
  },
  {
   "cell_type": "markdown",
   "id": "51d23209",
   "metadata": {},
   "source": [
    "No, you cannot create an object of an abstract base class directly in Python. Abstract base classes (ABCs) are meant to serve as blueprints for other classes and are designed to be subclassed. They typically contain one or more abstract methods, which are methods without an implementation.\n",
    "\n",
    "Attempting to instantiate an object of an abstract base class directly would result in a TypeError. The purpose of an abstract base class is to define a common interface and behavior for its subclasses, rather than being instantiated itself."
   ]
  },
  {
   "cell_type": "code",
   "execution_count": null,
   "id": "ee897f92",
   "metadata": {},
   "outputs": [],
   "source": []
  }
 ],
 "metadata": {
  "kernelspec": {
   "display_name": "Python 3 (ipykernel)",
   "language": "python",
   "name": "python3"
  },
  "language_info": {
   "codemirror_mode": {
    "name": "ipython",
    "version": 3
   },
   "file_extension": ".py",
   "mimetype": "text/x-python",
   "name": "python",
   "nbconvert_exporter": "python",
   "pygments_lexer": "ipython3",
   "version": "3.11.7"
  }
 },
 "nbformat": 4,
 "nbformat_minor": 5
}
