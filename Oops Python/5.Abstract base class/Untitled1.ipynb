{
 "cells": [
  {
   "cell_type": "code",
   "execution_count": 1,
   "id": "b990402e-aff2-4a67-912a-0526eb75ec82",
   "metadata": {},
   "outputs": [],
   "source": [
    "from abc import ABC, abstractmethod"
   ]
  },
  {
   "cell_type": "code",
   "execution_count": 2,
   "id": "795e5c58-66d6-48bd-b39a-aee1e090d84f",
   "metadata": {},
   "outputs": [],
   "source": [
    "class MyAbstractClass(ABC):\n",
    "    @abstractmethod\n",
    "    def my_abstract_method(self):\n",
    "        pass"
   ]
  },
  {
   "cell_type": "code",
   "execution_count": 11,
   "id": "ef94f701-b852-4cf0-a972-a4f36395c849",
   "metadata": {},
   "outputs": [],
   "source": [
    "from abc import ABC,abstractmethod\n",
    "\n",
    "class Artificial_inteligence(ABC):\n",
    "    @abstractmethod\n",
    "    def python_develoer(self):\n",
    "        return \"yes python deveoper is avaialable\"\n",
    "    @abstractmethod\n",
    "    def c_develoer(self):\n",
    "        return \"yes python deveoper is avaialable\"\n",
    "    \n",
    "\n",
    "class Data_scientist(Artificial_inteligence):\n",
    "    def python_develoer(self):\n",
    "        return \"yes python deveoper is avaialable\"\n",
    "\n",
    "class Data_analyst(Artificial_inteligence):\n",
    "    def python_develoer(self):\n",
    "        return \"yes python deveoper is avaialable\"\n",
    "\n",
    "    \n",
    "class Data_engineer(Artificial_inteligence):\n",
    "    def python_develoer(self):\n",
    "        return \"yes python deveoper is avaialable\"\n",
    "\n",
    "    \n",
    "\n",
    "class Tablue_developer(Artificial_inteligence):\n",
    "    def tablue(self):\n",
    "        return \"i am only teblue developer\"\n",
    "    \n",
    "    # def python_develoer(self):\n",
    "    #     return \"yes python deveoper is avaialable\""
   ]
  },
  {
   "cell_type": "code",
   "execution_count": 12,
   "id": "d3d04c8f-7d50-4b80-bc50-a19881f0233d",
   "metadata": {},
   "outputs": [
    {
     "ename": "TypeError",
     "evalue": "Can't instantiate abstract class Data_scientist with abstract method c_develoer",
     "output_type": "error",
     "traceback": [
      "\u001b[1;31m---------------------------------------------------------------------------\u001b[0m",
      "\u001b[1;31mTypeError\u001b[0m                                 Traceback (most recent call last)",
      "Cell \u001b[1;32mIn[12], line 1\u001b[0m\n\u001b[1;32m----> 1\u001b[0m Data_scientist_object \u001b[38;5;241m=\u001b[39m Data_scientist()\n\u001b[0;32m      2\u001b[0m Data_analyst_object \u001b[38;5;241m=\u001b[39m Data_analyst()\n\u001b[0;32m      3\u001b[0m Data_engineer_object \u001b[38;5;241m=\u001b[39m Data_engineer()\n",
      "\u001b[1;31mTypeError\u001b[0m: Can't instantiate abstract class Data_scientist with abstract method c_develoer"
     ]
    }
   ],
   "source": [
    "Data_scientist_object = Data_scientist()\n",
    "Data_analyst_object = Data_analyst()\n",
    "Data_engineer_object = Data_engineer()\n",
    "Tablue_developer_object= Tablue_developer()"
   ]
  },
  {
   "cell_type": "code",
   "execution_count": 13,
   "id": "154f8b17-9b55-404b-96cc-a14eaeaa49b9",
   "metadata": {},
   "outputs": [
    {
     "data": {
      "text/plain": [
       "'yes python deveoper is avaialable'"
      ]
     },
     "execution_count": 13,
     "metadata": {},
     "output_type": "execute_result"
    }
   ],
   "source": [
    "Data_analyst.python_develoer(\"rohit\")"
   ]
  },
  {
   "cell_type": "code",
   "execution_count": null,
   "id": "ad624e44-7083-4180-bc75-a1be0a8241d5",
   "metadata": {},
   "outputs": [],
   "source": []
  },
  {
   "cell_type": "code",
   "execution_count": null,
   "id": "8f1166f9-ee8f-4128-99d2-d412c4f20ae5",
   "metadata": {},
   "outputs": [],
   "source": []
  }
 ],
 "metadata": {
  "kernelspec": {
   "display_name": "Python 3 (ipykernel)",
   "language": "python",
   "name": "python3"
  },
  "language_info": {
   "codemirror_mode": {
    "name": "ipython",
    "version": 3
   },
   "file_extension": ".py",
   "mimetype": "text/x-python",
   "name": "python",
   "nbconvert_exporter": "python",
   "pygments_lexer": "ipython3",
   "version": "3.11.7"
  }
 },
 "nbformat": 4,
 "nbformat_minor": 5
}
