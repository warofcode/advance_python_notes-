{
 "cells": [
  {
   "cell_type": "code",
   "execution_count": 1,
   "id": "84ca6f74-2780-4eb1-9031-4083358c43f3",
   "metadata": {},
   "outputs": [],
   "source": [
    "from abc import ABC, abstractmethod"
   ]
  },
  {
   "cell_type": "code",
   "execution_count": 2,
   "id": "9230ead1-9dd9-4e81-b304-4deb460e178e",
   "metadata": {},
   "outputs": [],
   "source": []
  },
  {
   "cell_type": "code",
   "execution_count": 3,
   "id": "bc8f0e11-815c-4e97-99bf-940ab2a65198",
   "metadata": {},
   "outputs": [],
   "source": []
  },
  {
   "cell_type": "code",
   "execution_count": 16,
   "id": "6f13e7c4-27ef-46ef-8a6e-1611088bf25f",
   "metadata": {},
   "outputs": [],
   "source": [
    "from abc import ABC,abstractmethod\n",
    "\n",
    "class Artificial_inteligence(ABC):\n",
    "    @abstractmethod\n",
    "    def python_develoer(self):\n",
    "        return \"yes python deveoper is avaialable\"\n",
    "\n",
    "class Data_scientist(Artificial_inteligence):\n",
    "    def python_develoer(self):\n",
    "        return \"yes python deveoper is avaialable\"\n",
    "\n",
    "class Data_analyst(Artificial_inteligence):\n",
    "    def python_develoer(self):\n",
    "        return \"yes python deveoper is avaialable\"\n",
    "\n",
    "    \n",
    "class Data_engineer(Artificial_inteligence):\n",
    "    def python_develoer(self):\n",
    "        return \"yes python deveoper is avaialable\"\n",
    "\n",
    "    \n",
    "\n",
    "class Tablue_developer():\n",
    "    def tablue(self):\n",
    "        return \"i am only teblue developer\"\n",
    "    \n",
    "    # def python_develoer(self):\n",
    "    #     return \"yes python deveoper is avaialable\"\n",
    "    \n",
    "# Data_scientist_object = Data_scientist()\n",
    "# Data_analyst_object = Data_analyst()\n",
    "# Data_engineer_object = Data_engineer()\n",
    "Tablue_developer_object= Tablue_developer()"
   ]
  },
  {
   "cell_type": "code",
   "execution_count": 14,
   "id": "5f191e86-eab1-4540-a5c0-4b2521a0592e",
   "metadata": {},
   "outputs": [
    {
     "ename": "TypeError",
     "evalue": "Can't instantiate abstract class Artificial_inteligence with abstract method python_develoer",
     "output_type": "error",
     "traceback": [
      "\u001b[1;31m---------------------------------------------------------------------------\u001b[0m",
      "\u001b[1;31mTypeError\u001b[0m                                 Traceback (most recent call last)",
      "Cell \u001b[1;32mIn[14], line 1\u001b[0m\n\u001b[1;32m----> 1\u001b[0m ai_object \u001b[38;5;241m=\u001b[39m Artificial_inteligence()\n",
      "\u001b[1;31mTypeError\u001b[0m: Can't instantiate abstract class Artificial_inteligence with abstract method python_develoer"
     ]
    }
   ],
   "source": [
    "ai_object = Artificial_inteligence()"
   ]
  },
  {
   "cell_type": "code",
   "execution_count": 19,
   "id": "41975c72-945f-4ac6-879e-069eeed1ff55",
   "metadata": {},
   "outputs": [
    {
     "name": "stdout",
     "output_type": "stream",
     "text": [
      "115\n",
      "35\n"
     ]
    }
   ],
   "source": [
    "class MathOperations:\n",
    "    def add(self, a, b,c=100):\n",
    "        return a+b+c\n",
    "\n",
    "# Create an instance of MathOperations\n",
    "Class_object = MathOperations()\n",
    "\n",
    "# Calling the add method with different argument counts\n",
    "print(Class_object.add(5,10))\n",
    "print(Class_object.add(5,10,20))\n"
   ]
  },
  {
   "cell_type": "code",
   "execution_count": null,
   "id": "93b61226-8f5b-4339-bbc4-67bdf1da5d7b",
   "metadata": {},
   "outputs": [],
   "source": []
  }
 ],
 "metadata": {
  "kernelspec": {
   "display_name": "Python 3 (ipykernel)",
   "language": "python",
   "name": "python3"
  },
  "language_info": {
   "codemirror_mode": {
    "name": "ipython",
    "version": 3
   },
   "file_extension": ".py",
   "mimetype": "text/x-python",
   "name": "python",
   "nbconvert_exporter": "python",
   "pygments_lexer": "ipython3",
   "version": "3.11.7"
  }
 },
 "nbformat": 4,
 "nbformat_minor": 5
}
