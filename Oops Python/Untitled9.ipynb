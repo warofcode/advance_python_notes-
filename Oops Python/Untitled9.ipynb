{
 "cells": [
  {
   "cell_type": "code",
   "execution_count": 7,
   "id": "e532b409-7c0b-4284-982c-c117b5be3ac3",
   "metadata": {},
   "outputs": [],
   "source": [
    "class REXGALAXY:\n",
    "    holidays = \"saturday\"\n",
    "    \n",
    "    def __init__(self,name,college,course):\n",
    "        self.name= name\n",
    "        self.college = college\n",
    "        self.course = course\n",
    "\n",
    "    @staticmethod\n",
    "    def greeting_printer(string):\n",
    "        return f\"Hello good morning {string}\""
   ]
  },
  {
   "cell_type": "code",
   "execution_count": 8,
   "id": "f353fedd-c68a-483f-b95c-4aa7a70d8930",
   "metadata": {},
   "outputs": [],
   "source": [
    "ram = REXGALAXY(\"ram\",\"sharda\",\"java\")"
   ]
  },
  {
   "cell_type": "code",
   "execution_count": 9,
   "id": "7ca6bc01-ae66-4607-9cd6-0476f0d935e0",
   "metadata": {},
   "outputs": [
    {
     "data": {
      "text/plain": [
       "'Hello good morning this'"
      ]
     },
     "execution_count": 9,
     "metadata": {},
     "output_type": "execute_result"
    }
   ],
   "source": [
    "ram.greeting_printer(\"this\")"
   ]
  },
  {
   "cell_type": "code",
   "execution_count": null,
   "id": "2af7bc4c-1138-4447-8eb7-768f33fe3fa6",
   "metadata": {},
   "outputs": [],
   "source": []
  }
 ],
 "metadata": {
  "kernelspec": {
   "display_name": "Python 3 (ipykernel)",
   "language": "python",
   "name": "python3"
  },
  "language_info": {
   "codemirror_mode": {
    "name": "ipython",
    "version": 3
   },
   "file_extension": ".py",
   "mimetype": "text/x-python",
   "name": "python",
   "nbconvert_exporter": "python",
   "pygments_lexer": "ipython3",
   "version": "3.11.7"
  }
 },
 "nbformat": 4,
 "nbformat_minor": 5
}
