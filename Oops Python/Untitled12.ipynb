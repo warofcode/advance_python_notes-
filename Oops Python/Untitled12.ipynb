{
 "cells": [
  {
   "cell_type": "code",
   "execution_count": 1,
   "id": "4a45c36c-2dfc-4d66-acee-e91d82a65035",
   "metadata": {},
   "outputs": [],
   "source": [
    "class A:\n",
    "    home_variable = \"i m class A class_variable\"\n",
    "    # def __init__(self):\n",
    "    #     self.home_variable = \"i m class A instance variable\"\n",
    "\n",
    "class B(A):\n",
    "    # home_variable = \"i m class b class_variable\"\n",
    "    # def __init__(self):\n",
    "    #     self.home_variable = \"i m class b instance variable\"\n",
    "    pass\n",
    "    \n",
    "    "
   ]
  },
  {
   "cell_type": "code",
   "execution_count": 2,
   "id": "1e918e9f-2a16-4b94-96bb-91e49303e340",
   "metadata": {},
   "outputs": [],
   "source": [
    "a = A()"
   ]
  },
  {
   "cell_type": "code",
   "execution_count": 3,
   "id": "db8bac32-0637-43ca-aa30-cdbc6951eea0",
   "metadata": {},
   "outputs": [],
   "source": [
    "b= B()"
   ]
  },
  {
   "cell_type": "code",
   "execution_count": 4,
   "id": "504a7437-2236-40ba-bd2e-6878fb9c587b",
   "metadata": {},
   "outputs": [
    {
     "data": {
      "text/plain": [
       "'i m class A class_variable'"
      ]
     },
     "execution_count": 4,
     "metadata": {},
     "output_type": "execute_result"
    }
   ],
   "source": [
    "b.home_variable"
   ]
  },
  {
   "cell_type": "code",
   "execution_count": 5,
   "id": "d8ff5aaa-fc7c-4a36-86f5-dde02aa6184d",
   "metadata": {},
   "outputs": [],
   "source": [
    "class Animal:\n",
    "    def make_sound(self):\n",
    "        print(\"Animal Sound\")\n",
    "class Dog(Animal):\n",
    "    def make_sound(self):\n",
    "        print(\"Bark\")        "
   ]
  },
  {
   "cell_type": "code",
   "execution_count": 6,
   "id": "c0302397-e1b6-43a5-b41c-8f50fa05b70a",
   "metadata": {},
   "outputs": [
    {
     "name": "stdout",
     "output_type": "stream",
     "text": [
      "Bark\n",
      "Animal Sound\n"
     ]
    }
   ],
   "source": [
    "Dog_object = Dog()\n",
    "Dog_object.make_sound()\n",
    "\n",
    "Animal_object = Animal()\n",
    "\n",
    "Animal_object.make_sound()"
   ]
  },
  {
   "cell_type": "code",
   "execution_count": 7,
   "id": "79e718ac-9d6c-4805-acfa-3ea177acf2b1",
   "metadata": {},
   "outputs": [
    {
     "name": "stdout",
     "output_type": "stream",
     "text": [
      "Bark\n"
     ]
    }
   ],
   "source": [
    "Dog_object.make_sound()"
   ]
  },
  {
   "cell_type": "code",
   "execution_count": 8,
   "id": "b3555267-5686-4ab9-bf1d-eae922dcb661",
   "metadata": {},
   "outputs": [],
   "source": [
    "class Animal:\n",
    "    def make_sound(self):\n",
    "        print(\"Animal Sound\")\n",
    "class Dog(Animal):\n",
    "    def make_sound(self):\n",
    "        \n",
    "        print(\"Bark\")   \n",
    "        super().make_sound()"
   ]
  },
  {
   "cell_type": "code",
   "execution_count": 9,
   "id": "730dd60b-f398-4e95-a5ef-b12edd63cb4a",
   "metadata": {},
   "outputs": [],
   "source": [
    "dog = Dog()"
   ]
  },
  {
   "cell_type": "code",
   "execution_count": 10,
   "id": "bead32ec-02f4-48b9-9a44-258ae941e06a",
   "metadata": {},
   "outputs": [
    {
     "name": "stdout",
     "output_type": "stream",
     "text": [
      "Bark\n",
      "Animal Sound\n"
     ]
    }
   ],
   "source": [
    "dog.make_sound()"
   ]
  },
  {
   "cell_type": "code",
   "execution_count": null,
   "id": "40c2155d-4b98-42b7-b2fb-392508b0c193",
   "metadata": {},
   "outputs": [],
   "source": []
  },
  {
   "cell_type": "code",
   "execution_count": 11,
   "id": "ca8759f3-5d2b-48e1-8375-3b55f89c370a",
   "metadata": {},
   "outputs": [],
   "source": [
    "class A:\n",
    "    home_variable = \"I am class A class_home_variable\"\n",
    "    def __init__(self):\n",
    "        self.home_variable = \"I m class A instance_home_variable\"\n",
    "        self.new_variable = \"i m new_variable in class A\"\n",
    "class B(A):\n",
    "    pass\n",
    "    home_variable = \"I m class B class_home_variable\"\n",
    "    def __init__(self):\n",
    "        pass\n",
    "        self.home_variable = \"I m class B instance_home_variable\"\n",
    "        \n"
   ]
  },
  {
   "cell_type": "code",
   "execution_count": 12,
   "id": "70464f9f-0971-4a97-bbb3-c08426e34fd0",
   "metadata": {},
   "outputs": [
    {
     "name": "stdout",
     "output_type": "stream",
     "text": [
      "I m class B instance_home_variable\n"
     ]
    }
   ],
   "source": [
    "b_obj = B() \n",
    "print(b_obj.home_variable)"
   ]
  },
  {
   "cell_type": "code",
   "execution_count": 13,
   "id": "2d78c984-6931-4ca2-86e0-79dc57603779",
   "metadata": {},
   "outputs": [
    {
     "ename": "AttributeError",
     "evalue": "'B' object has no attribute 'new_variable'",
     "output_type": "error",
     "traceback": [
      "\u001b[1;31m---------------------------------------------------------------------------\u001b[0m",
      "\u001b[1;31mAttributeError\u001b[0m                            Traceback (most recent call last)",
      "Cell \u001b[1;32mIn[13], line 1\u001b[0m\n\u001b[1;32m----> 1\u001b[0m b_obj\u001b[38;5;241m.\u001b[39mnew_variable\n",
      "\u001b[1;31mAttributeError\u001b[0m: 'B' object has no attribute 'new_variable'"
     ]
    }
   ],
   "source": [
    "b_obj.new_variable"
   ]
  },
  {
   "cell_type": "code",
   "execution_count": 14,
   "id": "e3a7ba7b-9c86-4994-87e1-5996534be859",
   "metadata": {},
   "outputs": [],
   "source": [
    "class A:\n",
    "    home_variable = \"i m class home_variable in class A\"\n",
    "    def __init__(self):\n",
    "        self.home_variable = \"i m class A inststance home_varialbe\"\n",
    "        self.new_variable = \"i m class A new variable\"\n",
    "class B(A):\n",
    "    home_variable = \"i m class home_variable in class B\"\n",
    "    def __init__(self):\n",
    "        super().__init__()\n",
    "        self.home_variable = \"i m  class b instance home_variable\""
   ]
  },
  {
   "cell_type": "code",
   "execution_count": 15,
   "id": "0143c60a-66fb-4c19-9bfa-b0d58bd93c28",
   "metadata": {},
   "outputs": [],
   "source": [
    "b = B()"
   ]
  },
  {
   "cell_type": "code",
   "execution_count": 16,
   "id": "e0879ffc-d6cd-4532-a6a1-5ae7a21d5de1",
   "metadata": {},
   "outputs": [
    {
     "data": {
      "text/plain": [
       "'i m class A new variable'"
      ]
     },
     "execution_count": 16,
     "metadata": {},
     "output_type": "execute_result"
    }
   ],
   "source": [
    "b.new_variable"
   ]
  },
  {
   "cell_type": "code",
   "execution_count": 17,
   "id": "0fcde9e9-4db4-4a09-bdc4-ca98eddf8c79",
   "metadata": {},
   "outputs": [
    {
     "data": {
      "text/plain": [
       "'i m  class b instance home_variable'"
      ]
     },
     "execution_count": 17,
     "metadata": {},
     "output_type": "execute_result"
    }
   ],
   "source": [
    "b.home_variable"
   ]
  },
  {
   "cell_type": "code",
   "execution_count": null,
   "id": "f8bbab7b-871c-4b87-858b-0ec8394774e6",
   "metadata": {},
   "outputs": [],
   "source": []
  }
 ],
 "metadata": {
  "kernelspec": {
   "display_name": "Python 3 (ipykernel)",
   "language": "python",
   "name": "python3"
  },
  "language_info": {
   "codemirror_mode": {
    "name": "ipython",
    "version": 3
   },
   "file_extension": ".py",
   "mimetype": "text/x-python",
   "name": "python",
   "nbconvert_exporter": "python",
   "pygments_lexer": "ipython3",
   "version": "3.11.7"
  }
 },
 "nbformat": 4,
 "nbformat_minor": 5
}
