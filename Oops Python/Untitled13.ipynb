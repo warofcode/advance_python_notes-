{
 "cells": [
  {
   "cell_type": "code",
   "execution_count": 1,
   "id": "f6b7f29f-8732-461f-8ba0-59685f2ada2b",
   "metadata": {},
   "outputs": [],
   "source": [
    "class Animal:\n",
    "    def make_sound(self):\n",
    "        print(\"Animal Sound\")\n",
    "        print(\"this is from super class\")\n",
    "class Dog(Animal):\n",
    "    def make_sound(self):\n",
    "        \n",
    "        print(\"Bark\")     \n",
    "\n",
    "        super().make_sound()"
   ]
  },
  {
   "cell_type": "code",
   "execution_count": 2,
   "id": "543a856f-33da-4506-852c-20f469746f34",
   "metadata": {},
   "outputs": [],
   "source": [
    "animal = Animal()"
   ]
  },
  {
   "cell_type": "code",
   "execution_count": 3,
   "id": "ca307655-ddae-4c1d-94c1-593949e6bc2a",
   "metadata": {},
   "outputs": [],
   "source": [
    "dog = Dog()"
   ]
  },
  {
   "cell_type": "code",
   "execution_count": 4,
   "id": "cb6ecfc6-952e-461d-8241-04ca60f9cb7a",
   "metadata": {},
   "outputs": [
    {
     "name": "stdout",
     "output_type": "stream",
     "text": [
      "Animal Sound\n",
      "this is from super class\n"
     ]
    }
   ],
   "source": [
    "animal.make_sound()"
   ]
  },
  {
   "cell_type": "code",
   "execution_count": 5,
   "id": "bb240805-b04f-4e17-ad1b-b6268200b31b",
   "metadata": {},
   "outputs": [
    {
     "name": "stdout",
     "output_type": "stream",
     "text": [
      "Bark\n",
      "Animal Sound\n",
      "this is from super class\n"
     ]
    }
   ],
   "source": [
    "dog.make_sound()"
   ]
  },
  {
   "cell_type": "code",
   "execution_count": 15,
   "id": "752c43b3-a207-421d-9dec-3479d0ca34eb",
   "metadata": {},
   "outputs": [],
   "source": [
    "class A:\n",
    "    home_variable = \"I am class A class_home_variable\"\n",
    "    def __init__(self, first_name, last_name):\n",
    "        self.first_name = first_name\n",
    "        self.last_name = last_name\n",
    "        self.home_variable = \"I'm Class A instance home_variable\"\n",
    "        self.full_name = self.first_name + \" \" + self.last_name\n",
    "\n",
    "class B(A):\n",
    "    home_variable = \"I am class B class_home_variable\"\n",
    "    def __init__(self,first_name,last_name,mobile):\n",
    "        self.first_name = first_name\n",
    "        self.last_name = last_name\n",
    "        self.mobile = mobile\n",
    "        self.home_variable = \"I'm Class B instance home_variable\"  # if we comment it will look for instance variable in parent class than \n",
    "                                                                   # class variable of its own class\n",
    "A_object = A(\"rohit\", \"tyagi\")\n",
    "B_object = B(\"sachin\", \"rohit\",9718292990)\n",
    "\n",
    "\n",
    "\n",
    "# print(B_object.home_variable)\n",
    "# print(B_object.full_name) # this says 'B' object has no attribute 'full_name' but it has in parent class"
   ]
  },
  {
   "cell_type": "code",
   "execution_count": null,
   "id": "4051fa86-88fe-4427-94ff-c8b3e8e1117f",
   "metadata": {},
   "outputs": [],
   "source": [
    "B_object.full_name"
   ]
  },
  {
   "cell_type": "code",
   "execution_count": 16,
   "id": "05913d0a-58b3-4f89-828f-e88c0b6f3985",
   "metadata": {},
   "outputs": [
    {
     "data": {
      "text/plain": [
       "\"I'm Class B instance home_variable\""
      ]
     },
     "execution_count": 16,
     "metadata": {},
     "output_type": "execute_result"
    }
   ],
   "source": [
    "B_object.home_variable"
   ]
  },
  {
   "cell_type": "code",
   "execution_count": 29,
   "id": "03d4afdc-9ce7-4308-b69a-506487345a61",
   "metadata": {},
   "outputs": [],
   "source": [
    "class A:\n",
    "    home_variable = \"I am class A class_home_variable\"\n",
    "    def __init__(self):\n",
    "        self.first_name = \"rohit\"\n",
    "        self.last_name = \"kumar\"\n",
    "        # self.home_variable = \"I'm Class A instance home_variable\"\n",
    "        self.full_name = self.first_name + \" \" + self.last_name\n",
    "\n",
    "class B(A):\n",
    "    pass\n",
    "    home_variable = \"I am class B class_home_variable\"\n",
    "    def __init__(self):\n",
    "        super().__init__()\n",
    "        self.first_name = \"ram\"\n",
    "        self.last_name = \"kumar\"\n",
    "        self.mobile = 9718292990\n",
    "        self.home_variable = \"I'm Class B instance home_variable\"  # if we comment it will look for instance variable in parent class than \n",
    "                                                                   # class variable of its own class\n",
    "A_object = A()\n",
    "B_object = B()"
   ]
  },
  {
   "cell_type": "code",
   "execution_count": 28,
   "id": "de3d1f1d-88bb-4181-9896-73f829ccb8da",
   "metadata": {},
   "outputs": [
    {
     "data": {
      "text/plain": [
       "'rohit kumar'"
      ]
     },
     "execution_count": 28,
     "metadata": {},
     "output_type": "execute_result"
    }
   ],
   "source": [
    "B_object.full_name"
   ]
  },
  {
   "cell_type": "code",
   "execution_count": null,
   "id": "936bcd34-e634-485e-80b0-420252728cd0",
   "metadata": {},
   "outputs": [],
   "source": []
  },
  {
   "cell_type": "code",
   "execution_count": null,
   "id": "05aaf540-357e-4d9e-a0b9-6c9cc314f2c5",
   "metadata": {},
   "outputs": [],
   "source": []
  }
 ],
 "metadata": {
  "kernelspec": {
   "display_name": "Python 3 (ipykernel)",
   "language": "python",
   "name": "python3"
  },
  "language_info": {
   "codemirror_mode": {
    "name": "ipython",
    "version": 3
   },
   "file_extension": ".py",
   "mimetype": "text/x-python",
   "name": "python",
   "nbconvert_exporter": "python",
   "pygments_lexer": "ipython3",
   "version": "3.11.7"
  }
 },
 "nbformat": 4,
 "nbformat_minor": 5
}
