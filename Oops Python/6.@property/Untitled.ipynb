{
 "cells": [
  {
   "cell_type": "code",
   "execution_count": 2,
   "id": "cb57d200-cf5d-4cd7-8794-f9598189c82c",
   "metadata": {},
   "outputs": [
    {
     "name": "stdout",
     "output_type": "stream",
     "text": [
      "5\n",
      "<bound method circle.diameter of <__main__.circle object at 0x00000240776C8750>>\n",
      "<bound method circle.area of <__main__.circle object at 0x00000240776C8750>>\n"
     ]
    }
   ],
   "source": [
    "class circle:\n",
    "    def __init__(self,radius) -> None:\n",
    "        self.radius = radius\n",
    "\n",
    "\n",
    "    def diameter(self):\n",
    "\n",
    "        return self.radius *2    \n",
    "    \n",
    "    def area(self):\n",
    "\n",
    "        return 3.14*(self.radius **2)\n",
    "    \n",
    "circle_object = circle(5)  \n",
    "\n",
    "print(circle_object.radius) # we capture radius attibute with the help of class object\n",
    "\n",
    "print(circle_object.diameter) # same thing we want to get from diameter.but diameter is a function so it will ask us to call\n",
    "print(circle_object.area)"
   ]
  },
  {
   "cell_type": "code",
   "execution_count": 3,
   "id": "f87ad263-7581-4fc0-8081-aea0b6164c40",
   "metadata": {},
   "outputs": [
    {
     "name": "stdout",
     "output_type": "stream",
     "text": [
      "78.5\n"
     ]
    }
   ],
   "source": [
    "print(circle_object.area())"
   ]
  },
  {
   "cell_type": "code",
   "execution_count": 4,
   "id": "24754611-a4f4-46f4-9813-8c469b650fd2",
   "metadata": {},
   "outputs": [
    {
     "name": "stdout",
     "output_type": "stream",
     "text": [
      "10\n"
     ]
    }
   ],
   "source": [
    "print(circle_object.diameter())"
   ]
  },
  {
   "cell_type": "code",
   "execution_count": 6,
   "id": "c174fd41-f2b8-4309-9ac9-da3e57ab89ac",
   "metadata": {},
   "outputs": [
    {
     "name": "stdout",
     "output_type": "stream",
     "text": [
      "5\n",
      "10\n",
      "78.5\n"
     ]
    }
   ],
   "source": [
    "class circle:\n",
    "    def __init__(self,radius) -> None:\n",
    "        self.radius = radius\n",
    "\n",
    "    @property\n",
    "    def diameter(self):\n",
    "\n",
    "        return self.radius *2    \n",
    "    @property\n",
    "    def area(self):\n",
    "\n",
    "        return 3.14*(self.radius **2)\n",
    "    \n",
    "circle_object = circle(5)  \n",
    "\n",
    "print(circle_object.radius) # we capture radius attibute with the help of class object\n",
    "\n",
    "print(circle_object.diameter) # same thing we want to get from diameter.but diameter is a function so it will ask us to call\n",
    "print(circle_object.area)"
   ]
  },
  {
   "cell_type": "code",
   "execution_count": 8,
   "id": "5af4900d-2568-46dc-a481-aa624a322fee",
   "metadata": {},
   "outputs": [
    {
     "name": "stdout",
     "output_type": "stream",
     "text": [
      "Created Employee: Rohit Kumar : Rohit.Kumar@rexgalaxy.com\n"
     ]
    }
   ],
   "source": [
    "class Employee:\n",
    "    \"\"\"A sample Employee class\"\"\"\n",
    "\n",
    "    def __init__(self, first_name, last_name):\n",
    "        self.first_name = first_name\n",
    "        self.last_name = last_name\n",
    "        # self.fullname = self.first_name + self.lastname\n",
    "        # self.email = self.first_name+self.lastname+ '@gmail.com'\n",
    "        print(f'Created Employee: {self.fullname} : {self.email}')\n",
    "    @property\n",
    "    def email(self):\n",
    "        return '{}.{}@rexgalaxy.com'.format(self.first_name, self.last_name)\n",
    "\n",
    "    @property\n",
    "    def fullname(self):\n",
    "        return '{} {}'.format(self.first_name, self.last_name)\n",
    "emp_1 = Employee('Rohit', 'Kumar') "
   ]
  },
  {
   "cell_type": "code",
   "execution_count": 9,
   "id": "a3469cd5-cdc1-4c3e-a96e-5a1b632b4f85",
   "metadata": {},
   "outputs": [
    {
     "data": {
      "text/plain": [
       "'Rohit.Kumar@rexgalaxy.com'"
      ]
     },
     "execution_count": 9,
     "metadata": {},
     "output_type": "execute_result"
    }
   ],
   "source": [
    "emp_1.email"
   ]
  },
  {
   "cell_type": "code",
   "execution_count": null,
   "id": "d661dabf-85b7-478d-b623-16c31b139f34",
   "metadata": {},
   "outputs": [],
   "source": []
  }
 ],
 "metadata": {
  "kernelspec": {
   "display_name": "Python 3 (ipykernel)",
   "language": "python",
   "name": "python3"
  },
  "language_info": {
   "codemirror_mode": {
    "name": "ipython",
    "version": 3
   },
   "file_extension": ".py",
   "mimetype": "text/x-python",
   "name": "python",
   "nbconvert_exporter": "python",
   "pygments_lexer": "ipython3",
   "version": "3.11.7"
  }
 },
 "nbformat": 4,
 "nbformat_minor": 5
}
