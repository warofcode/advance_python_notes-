{
 "cells": [
  {
   "cell_type": "code",
   "execution_count": 1,
   "id": "d6b089db-3711-4639-a26b-1cd8e3be72f6",
   "metadata": {},
   "outputs": [],
   "source": [
    "class area_calculator:\n",
    "    pi = 3.14\n",
    "    # def __init__(self,radius):\n",
    "    #     self.radius = radius\n",
    "    def circle_area(self,radius):\n",
    "        return (self.pi * radius**2)"
   ]
  },
  {
   "cell_type": "code",
   "execution_count": 2,
   "id": "337e3572-f6e7-4a21-a095-72c013dd83bf",
   "metadata": {},
   "outputs": [],
   "source": [
    "a = area_calculator()"
   ]
  },
  {
   "cell_type": "code",
   "execution_count": 3,
   "id": "5ea88fb6-7a64-4abd-ada5-c0a43790efc5",
   "metadata": {},
   "outputs": [
    {
     "data": {
      "text/plain": [
       "6358.5"
      ]
     },
     "execution_count": 3,
     "metadata": {},
     "output_type": "execute_result"
    }
   ],
   "source": [
    "a.circle_area(45)"
   ]
  },
  {
   "cell_type": "code",
   "execution_count": 4,
   "id": "09cb8633-fa94-44e5-a73c-4618b0c23a24",
   "metadata": {},
   "outputs": [],
   "source": [
    "class circle:\n",
    "    def __init__(self,radius) -> None:\n",
    "        self.radius = radius\n",
    "\n",
    "    @property\n",
    "    def diameter(self):\n",
    "\n",
    "        return self.radius *2    \n",
    "    @property\n",
    "    def area(self):\n",
    "\n",
    "        return 3.14*(self.radius **2)"
   ]
  },
  {
   "cell_type": "code",
   "execution_count": 5,
   "id": "2dff4a87-ea81-41f6-87fa-1a99d6185908",
   "metadata": {},
   "outputs": [],
   "source": [
    "a = circle(23)"
   ]
  },
  {
   "cell_type": "code",
   "execution_count": 6,
   "id": "99757c53-79aa-4353-9a6b-e88218e1420d",
   "metadata": {},
   "outputs": [
    {
     "data": {
      "text/plain": [
       "46"
      ]
     },
     "execution_count": 6,
     "metadata": {},
     "output_type": "execute_result"
    }
   ],
   "source": [
    "a.diameter"
   ]
  },
  {
   "cell_type": "code",
   "execution_count": 7,
   "id": "0496a1d9-0d9e-411a-82ff-95f104ed4643",
   "metadata": {},
   "outputs": [
    {
     "data": {
      "text/plain": [
       "23"
      ]
     },
     "execution_count": 7,
     "metadata": {},
     "output_type": "execute_result"
    }
   ],
   "source": [
    "a.radius"
   ]
  },
  {
   "cell_type": "code",
   "execution_count": 8,
   "id": "5ddba3c1-cb87-4f3b-bd50-6a5c62c38fde",
   "metadata": {},
   "outputs": [
    {
     "ename": "TypeError",
     "evalue": "'float' object is not callable",
     "output_type": "error",
     "traceback": [
      "\u001b[1;31m---------------------------------------------------------------------------\u001b[0m",
      "\u001b[1;31mTypeError\u001b[0m                                 Traceback (most recent call last)",
      "Cell \u001b[1;32mIn[8], line 1\u001b[0m\n\u001b[1;32m----> 1\u001b[0m a\u001b[38;5;241m.\u001b[39marea()\n",
      "\u001b[1;31mTypeError\u001b[0m: 'float' object is not callable"
     ]
    }
   ],
   "source": [
    "a.area()"
   ]
  },
  {
   "cell_type": "code",
   "execution_count": null,
   "id": "6c5f8e04-6c09-42f1-b58f-4e452bbc97dd",
   "metadata": {},
   "outputs": [],
   "source": [
    "a.area"
   ]
  },
  {
   "cell_type": "code",
   "execution_count": 10,
   "id": "9fa09e75-c89b-4487-91df-28d6915805ee",
   "metadata": {},
   "outputs": [],
   "source": [
    "class REXGALAXY:\n",
    "    holidays = \"saturday\"\n",
    "    \n",
    "    def __init__(self,name1,college,course):\n",
    "        self.name= name1\n",
    "        self.college = college\n",
    "        self.course = course\n",
    "        \n",
    "        \n",
    "\n",
    "    def student_details(self):\n",
    "        return f\" details of {self.name1} is {self.course}\"\n",
    "    \n",
    "     \n",
    "    def greeting_printer(sting):\n",
    "        \n",
    "        return f\"Hello good morning {sting} \"\n",
    "        "
   ]
  },
  {
   "cell_type": "code",
   "execution_count": 11,
   "id": "9ab8bace-e840-4048-a66d-98ee2da8cde8",
   "metadata": {},
   "outputs": [],
   "source": [
    "a = REXGALAXY(\"rohit\",\"now\",\"python\")"
   ]
  },
  {
   "cell_type": "code",
   "execution_count": 12,
   "id": "12e26649-7aa3-4430-94e2-83739a45c6d4",
   "metadata": {},
   "outputs": [
    {
     "data": {
      "text/plain": [
       "'Hello good morning <__main__.REXGALAXY object at 0x00000210947BAAD0> '"
      ]
     },
     "execution_count": 12,
     "metadata": {},
     "output_type": "execute_result"
    }
   ],
   "source": [
    "a.greeting_printer()"
   ]
  },
  {
   "cell_type": "code",
   "execution_count": null,
   "id": "de69572b-c416-43e4-ad72-221fc56a41a1",
   "metadata": {},
   "outputs": [],
   "source": []
  },
  {
   "cell_type": "code",
   "execution_count": null,
   "id": "e46ae369-55e8-4d59-a74e-13fd9c5e6810",
   "metadata": {},
   "outputs": [],
   "source": []
  },
  {
   "cell_type": "code",
   "execution_count": null,
   "id": "b513468e-a3ae-453b-bd20-15de9cc2e39e",
   "metadata": {},
   "outputs": [],
   "source": [
    "rohit = REXGALAXY(\"rohit\",\"this\",\"python\")"
   ]
  },
  {
   "cell_type": "code",
   "execution_count": null,
   "id": "f1a9e999-d55e-44b7-90fe-7a9a3181140f",
   "metadata": {},
   "outputs": [],
   "source": [
    "rohit.holidays"
   ]
  },
  {
   "cell_type": "code",
   "execution_count": null,
   "id": "9441bcfa-e826-4197-bd3b-9602684b89c7",
   "metadata": {},
   "outputs": [],
   "source": [
    "rohit.change_holiday(\"sunday\")"
   ]
  },
  {
   "cell_type": "code",
   "execution_count": null,
   "id": "1ff4e76f-dca4-48fe-9078-d008789666cb",
   "metadata": {},
   "outputs": [],
   "source": [
    "rohit.holidays"
   ]
  },
  {
   "cell_type": "code",
   "execution_count": null,
   "id": "d0092c69-ccc7-4fd7-b406-370ab0a0b14a",
   "metadata": {},
   "outputs": [],
   "source": [
    "REXGALAXY.holidays"
   ]
  },
  {
   "cell_type": "code",
   "execution_count": 9,
   "id": "c77cdb0a-7f9b-43dd-8cf7-dd182e5339c1",
   "metadata": {},
   "outputs": [],
   "source": [
    "class REXGALAXY:\n",
    "    holidays = \"saturday\"\n",
    "    \n",
    "    def __init__(self,name,college,course):\n",
    "        self.name= name\n",
    "        self.college = college\n",
    "        self.course = course\n",
    "        \n",
    "        \n",
    "\n",
    "    def student_details(self):\n",
    "        return f\" details of {self.name} is {self.course}\"\n",
    "    \n",
    "    @classmethod\n",
    "    def change_holiday(cls,change_holidays):\n",
    "        cls.holidays= change_holidays\n",
    "        "
   ]
  },
  {
   "cell_type": "code",
   "execution_count": null,
   "id": "7b4c9bb4-b680-42bd-a9ac-cce4b88483db",
   "metadata": {},
   "outputs": [],
   "source": []
  },
  {
   "cell_type": "code",
   "execution_count": null,
   "id": "66d7c8bc-52b9-48b4-a50b-5a4d57340484",
   "metadata": {},
   "outputs": [],
   "source": []
  }
 ],
 "metadata": {
  "kernelspec": {
   "display_name": "Python 3 (ipykernel)",
   "language": "python",
   "name": "python3"
  },
  "language_info": {
   "codemirror_mode": {
    "name": "ipython",
    "version": 3
   },
   "file_extension": ".py",
   "mimetype": "text/x-python",
   "name": "python",
   "nbconvert_exporter": "python",
   "pygments_lexer": "ipython3",
   "version": "3.11.7"
  }
 },
 "nbformat": 4,
 "nbformat_minor": 5
}
