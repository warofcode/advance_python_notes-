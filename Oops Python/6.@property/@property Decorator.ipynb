{
 "cells": [
  {
   "cell_type": "markdown",
   "id": "e69e1cde",
   "metadata": {},
   "source": [
    "# -----------------------------@property Decorator---------------------------------"
   ]
  },
  {
   "cell_type": "raw",
   "id": "60251721-41f8-44ca-81ae-725350b3b3b8",
   "metadata": {},
   "source": [
    "In Python, the @property decorator is used to define properties, which are special methods that allow you to access and manipulate the attributes of a class as if they were regular attributes, while providing additional functionality, such as validation or computation, behind the scenes.\n",
    "\n",
    "When you use the @property decorator before a method, it transforms that method into a read-only property. This means that you can access the method as if it were an attribute, without explicitly calling it as a method.\n",
    "\n",
    "Here's an example to demonstrate the usage of @property:"
   ]
  },
  {
   "cell_type": "code",
   "execution_count": 1,
   "id": "805112ae",
   "metadata": {},
   "outputs": [
    {
     "name": "stdout",
     "output_type": "stream",
     "text": [
      "5\n",
      "<bound method circle.diameter of <__main__.circle object at 0x0000024E2741ECD0>>\n",
      "<bound method circle.diameter of <__main__.circle object at 0x0000024E2741ECD0>>\n"
     ]
    }
   ],
   "source": [
    "class circle:\n",
    "    def __init__(self,radius) -> None:\n",
    "        self.radius = radius\n",
    "\n",
    "\n",
    "    def diameter(self):\n",
    "\n",
    "        return self.radius *2    \n",
    "    \n",
    "    def area(self):\n",
    "\n",
    "        return 3.14*(self.radius **2)\n",
    "    \n",
    "circle_object = circle(5)  \n",
    "\n",
    "print(circle_object.radius) # we capture radius attibute with the help of class object\n",
    "\n",
    "print(circle_object.diameter) # same thing we want to get from diameter.but diameter is a function so it will ask us to call\n",
    "print(circle_object.diameter)                            # (but here is a problem it will show(<__main__.circle object at 0x00000231F9072F10>) )\n",
    "                              # so to access this without call we will use @ property magic method"
   ]
  },
  {
   "cell_type": "code",
   "execution_count": 2,
   "id": "ce4c6d65",
   "metadata": {},
   "outputs": [
    {
     "name": "stdout",
     "output_type": "stream",
     "text": [
      "5\n",
      "10\n",
      "<bound method circle.area of <__main__.circle object at 0x0000024E273E3B90>>\n"
     ]
    }
   ],
   "source": [
    "class circle:\n",
    "    def __init__(self,radius) -> None:\n",
    "        self.radius = radius\n",
    "\n",
    "    @property\n",
    "    def diameter(self):\n",
    "\n",
    "        return self.radius *2    \n",
    "    \n",
    "    def area(self):\n",
    "\n",
    "        return 3.14*(self.radius **2)\n",
    "    \n",
    "circle_object = circle(5)  \n",
    "\n",
    "print(circle_object.radius) # we capture radius attibute with the help of class object\n",
    "\n",
    "print(circle_object.diameter)\n",
    "print(circle_object.area)"
   ]
  },
  {
   "cell_type": "code",
   "execution_count": 3,
   "id": "23583daa",
   "metadata": {},
   "outputs": [
    {
     "name": "stdout",
     "output_type": "stream",
     "text": [
      "5\n",
      "<bound method circle.diameter of <__main__.circle object at 0x000001CFD660EF10>>\n",
      "<bound method circle.area of <__main__.circle object at 0x000001CFD660EF10>>\n"
     ]
    }
   ],
   "source": [
    "class circle:\n",
    "    def __init__(self,radius) -> None:\n",
    "        self.radius = radius\n",
    "\n",
    "    @property\n",
    "    def diameter(self):\n",
    "\n",
    "        return self.radius *2    \n",
    "    @property\n",
    "    def area(self):\n",
    "\n",
    "        return 3.14*(self.radius **2)\n",
    "    \n",
    "circle_object = circle(5)  \n",
    "\n",
    "print(circle_object.radius) # we capture radius attibute with the help of class object\n",
    "\n",
    "print(circle_object.diameter)\n",
    "print(circle_object.area)"
   ]
  },
  {
   "cell_type": "code",
   "execution_count": 2,
   "id": "d6de8bb0",
   "metadata": {},
   "outputs": [
    {
     "name": "stdout",
     "output_type": "stream",
     "text": [
      "Created Employee: Rohit Kumar - Rohit.Kumar@rexgalaxy.com\n"
     ]
    }
   ],
   "source": [
    "class Employee:\n",
    "    \"\"\"A sample Employee class\"\"\"\n",
    "\n",
    "    def __init__(self, first_name, last_name):\n",
    "        self.first_name = first_name\n",
    "        self.last_name = last_name\n",
    "    \n",
    "\n",
    "        print(f'Created Employee: {self.fullname} - {self.email}')\n",
    "    @property\n",
    "    def email(self):\n",
    "        return '{}.{}@rexgalaxy.com'.format(self.first_name, self.last_name)\n",
    "\n",
    "    @property\n",
    "    def fullname(self):\n",
    "        return '{} {}'.format(self.first_name, self.last_name)\n",
    "\n",
    "\n",
    "emp_1 = Employee('Rohit', 'Kumar') "
   ]
  },
  {
   "cell_type": "code",
   "execution_count": 5,
   "id": "0acdf538",
   "metadata": {},
   "outputs": [
    {
     "data": {
      "text/plain": [
       "'Rohit.Kumar@rexgalaxy.com'"
      ]
     },
     "execution_count": 5,
     "metadata": {},
     "output_type": "execute_result"
    }
   ],
   "source": [
    "emp_1.email"
   ]
  },
  {
   "cell_type": "markdown",
   "id": "ff15db5a",
   "metadata": {},
   "source": [
    "# @property"
   ]
  },
  {
   "cell_type": "markdown",
   "id": "e1a7fb01",
   "metadata": {},
   "source": [
    "In Python, the @property decorator is used to define properties on a class. It allows you to define methods that can be accessed like attributes, providing a cleaner and more Pythonic way to work with object attributes. The @property decorator allows you to create getter, setter, and deleter methods for an attribute.\n",
    "\n",
    "Here's a brief overview of the usage of @property:\n",
    "\n",
    "Getter Method: You can define a method with the @property decorator to act as a getter for a property. This method will be called whenever the property is accessed.\n",
    "\n",
    "Setter Method: You can define a method with the same name as the getter method but decorated with @<property_name>.setter to set the value of the property. This method will be called whenever the property is assigned a new value.\n",
    "\n",
    "Deleter Method: You can define a method with the same name as the getter method but decorated with @<property_name>.deleter to delete the property. This method will be called when the del statement is used on the property.\n",
    "\n",
    "Here's an example to illustrate the usage of @property:"
   ]
  },
  {
   "cell_type": "code",
   "execution_count": 6,
   "id": "4f4ea070",
   "metadata": {},
   "outputs": [
    {
     "name": "stdout",
     "output_type": "stream",
     "text": [
      "5\n",
      "10\n"
     ]
    }
   ],
   "source": [
    "class Circle:\n",
    "    def __init__(self, radius):\n",
    "        self._radius = radius  # Private attribute\n",
    "\n",
    "    @property\n",
    "    def radius(self):\n",
    "        return self._radius\n",
    "\n",
    "    @radius.setter\n",
    "    def radius(self, value):\n",
    "        if value <= 0:\n",
    "            raise ValueError(\"Radius must be positive\")\n",
    "        self._radius = value\n",
    "\n",
    "    @radius.deleter\n",
    "    def radius(self):\n",
    "        del self._radius\n",
    "\n",
    "# Usage:\n",
    "circle_object = Circle(5)\n",
    "print(circle_object.radius)  # Output: 5\n",
    "\n",
    "circle_object.radius = 10\n",
    "print(circle_object.radius)  # Output: 10\n",
    "\n",
    "del circle_object.radius\n",
    "# Trying to access circle_object.radius now would raise an AttributeError since the attribute has been deleted\n"
   ]
  },
  {
   "cell_type": "code",
   "execution_count": 7,
   "id": "c832daad",
   "metadata": {},
   "outputs": [
    {
     "ename": "AttributeError",
     "evalue": "'Circle' object has no attribute '_radius'",
     "output_type": "error",
     "traceback": [
      "\u001b[1;31m---------------------------------------------------------------------------\u001b[0m",
      "\u001b[1;31mAttributeError\u001b[0m                            Traceback (most recent call last)",
      "Cell \u001b[1;32mIn[7], line 1\u001b[0m\n\u001b[1;32m----> 1\u001b[0m circle_object\u001b[38;5;241m.\u001b[39mradius\n",
      "Cell \u001b[1;32mIn[6], line 7\u001b[0m, in \u001b[0;36mCircle.radius\u001b[1;34m(self)\u001b[0m\n\u001b[0;32m      5\u001b[0m \u001b[38;5;129m@property\u001b[39m\n\u001b[0;32m      6\u001b[0m \u001b[38;5;28;01mdef\u001b[39;00m \u001b[38;5;21mradius\u001b[39m(\u001b[38;5;28mself\u001b[39m):\n\u001b[1;32m----> 7\u001b[0m     \u001b[38;5;28;01mreturn\u001b[39;00m \u001b[38;5;28mself\u001b[39m\u001b[38;5;241m.\u001b[39m_radius\n",
      "\u001b[1;31mAttributeError\u001b[0m: 'Circle' object has no attribute '_radius'"
     ]
    }
   ],
   "source": [
    "circle_object.radius"
   ]
  },
  {
   "cell_type": "code",
   "execution_count": null,
   "id": "4ff5d053",
   "metadata": {},
   "outputs": [],
   "source": []
  }
 ],
 "metadata": {
  "kernelspec": {
   "display_name": "Python 3 (ipykernel)",
   "language": "python",
   "name": "python3"
  },
  "language_info": {
   "codemirror_mode": {
    "name": "ipython",
    "version": 3
   },
   "file_extension": ".py",
   "mimetype": "text/x-python",
   "name": "python",
   "nbconvert_exporter": "python",
   "pygments_lexer": "ipython3",
   "version": "3.11.7"
  }
 },
 "nbformat": 4,
 "nbformat_minor": 5
}
