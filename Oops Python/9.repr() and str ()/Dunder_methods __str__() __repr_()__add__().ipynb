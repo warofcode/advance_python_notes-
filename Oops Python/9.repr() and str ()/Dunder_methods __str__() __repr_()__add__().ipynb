{
 "cells": [
  {
   "cell_type": "markdown",
   "id": "f52d2eb2",
   "metadata": {},
   "source": [
    "In Python, both repr() and str() are built-in functions used to obtain string representations of objects. However, they serve different purposes and provide different representations:"
   ]
  },
  {
   "cell_type": "markdown",
   "id": "32029dc6",
   "metadata": {},
   "source": [
    "\n",
    "In general, the __str__() string is intended for users and the __repr__() string is intended for developers."
   ]
  },
  {
   "cell_type": "markdown",
   "id": "b6308a63",
   "metadata": {},
   "source": [
    "1.str(): The str() function is used to get a human-readable string representation of an object. It is meant to produce output that is easy to understand for users. The primary purpose of str() is to provide a textual representation of an object when it is converted to a string explicitly or when it is printed.\n",
    "\n",
    "Example:"
   ]
  },
  {
   "cell_type": "code",
   "execution_count": 1,
   "id": "f9cb8764",
   "metadata": {},
   "outputs": [
    {
     "name": "stdout",
     "output_type": "stream",
     "text": [
      "rohit\n",
      "rohit\n",
      "'rohit'\n",
      "'rohit'\n"
     ]
    }
   ],
   "source": [
    "a= \"rohit\"\n",
    "b= \"rohit\"\n",
    "\n",
    "print(str(a))\n",
    "print(str(b))\n",
    "print(repr(a))\n",
    "print(repr(b))"
   ]
  },
  {
   "cell_type": "code",
   "execution_count": 3,
   "id": "f9dee764",
   "metadata": {},
   "outputs": [
    {
     "name": "stdout",
     "output_type": "stream",
     "text": [
      "2024-07-27 11:39:02.377867\n",
      "2024-07-27 11:39:02.378734\n",
      "datetime.datetime(2024, 7, 27, 11, 39, 2, 378734)\n"
     ]
    }
   ],
   "source": [
    "import datetime\n",
    "print(datetime.datetime.now())\n",
    "print(str(datetime.datetime.now())) # this is for users \n",
    "print(repr(datetime.datetime.now())) # this is for developers"
   ]
  },
  {
   "cell_type": "code",
   "execution_count": 7,
   "id": "667e7560",
   "metadata": {},
   "outputs": [
    {
     "name": "stdout",
     "output_type": "stream",
     "text": [
      "Person(name='Rohit')\n"
     ]
    }
   ],
   "source": [
    "class Person:\n",
    "    def __init__(self, name):\n",
    "        self.name = name\n",
    "\n",
    "    def __str__(self):\n",
    "        return f\"Person(name='{self.name}')\"\n",
    "\n",
    "person = Person(\"Rohit\")\n",
    "print(str(person))  # Output: Person: Rohit\n",
    "\n",
    "\n",
    "\n",
    "\n",
    "# In the above example, the __str__() method is defined within the Person class to provide a string representation of the \n",
    "# object. When str() is called on the person object or when the object is printed, it returns the specified \n",
    "# string representation."
   ]
  },
  {
   "cell_type": "markdown",
   "id": "e1145a7f",
   "metadata": {},
   "source": [
    "2.repr(): The repr() function is used to obtain an unambiguous string representation of an object. It is meant to provide a representation that is more suitable for debugging and developer purposes. The primary purpose of repr() is to return a string that can be used to recreate the object or get more detailed information about its internal state.\n",
    "\n",
    "\n",
    "how to create object from repr represention#############################################\n",
    "\n",
    "Return a string containing a printable representation of an object. For many types, this function makes an attempt to return a string that would yield an object with the same value when passed to eval(); otherwise, the representation is a string enclosed in angle brackets that contains the name of the type of the object together with additional information often including the name and address of the object. A class can control what this function returns for its instances by defining a __repr__() method. If sys.displayhook() is not accessible, this function will raise RuntimeError.\n",
    "\n",
    "Example:"
   ]
  },
  {
   "cell_type": "code",
   "execution_count": 32,
   "id": "85b0176f",
   "metadata": {},
   "outputs": [
    {
     "name": "stdout",
     "output_type": "stream",
     "text": [
      "Person(name='Rohit')\n"
     ]
    }
   ],
   "source": [
    "class Person:\n",
    "    def __init__(self, name):\n",
    "        self.name = name\n",
    "\n",
    "    def __repr__(self):\n",
    "        return f\"Person(name='{self.name}')\"\n",
    "\n",
    "person = Person(\"Rohit\")\n",
    "print(repr(person))  \n"
   ]
  },
  {
   "cell_type": "markdown",
   "id": "291f3b8c",
   "metadata": {},
   "source": [
    "# Lets understand by date time"
   ]
  },
  {
   "cell_type": "code",
   "execution_count": 29,
   "id": "baa53553",
   "metadata": {},
   "outputs": [
    {
     "name": "stdout",
     "output_type": "stream",
     "text": [
      "2023-06-15 16:32:50.358466\n",
      "datetime.datetime(2023, 6, 15, 16, 32, 50, 358466)\n"
     ]
    }
   ],
   "source": [
    "import datetime\n",
    "\n",
    "print(str(datetime.datetime.now())) # this is for users \n",
    "print(repr(datetime.datetime.now())) # this is for developers"
   ]
  },
  {
   "cell_type": "markdown",
   "id": "a1d47bdc",
   "metadata": {},
   "source": [
    "# Lets try to add two objects"
   ]
  },
  {
   "cell_type": "markdown",
   "id": "092f2bc6",
   "metadata": {},
   "source": [
    "# Before adding our own dunder add method. Lets understand how does it work...."
   ]
  },
  {
   "cell_type": "code",
   "execution_count": 6,
   "id": "99e82082",
   "metadata": {},
   "outputs": [
    {
     "name": "stdout",
     "output_type": "stream",
     "text": [
      "25\n",
      "156\n"
     ]
    }
   ],
   "source": [
    "number1 = 12\n",
    "number2 = 13\n",
    "\n",
    "# print(number1+number2) # if we do this it runds dundar add method lets see how it works\n",
    "\n",
    "addition  = number1.__add__(number2)\n",
    "multiplication= number1.__mul__(number2)\n",
    "\n",
    "print(addition)\n",
    "print(multiplication)"
   ]
  },
  {
   "cell_type": "markdown",
   "id": "4bc5e543",
   "metadata": {},
   "source": [
    "# Now we want to define our own dunder mehothod add()"
   ]
  },
  {
   "cell_type": "code",
   "execution_count": 2,
   "id": "0adf16fe",
   "metadata": {},
   "outputs": [
    {
     "ename": "TypeError",
     "evalue": "unsupported operand type(s) for +: 'Employee' and 'Employee'",
     "output_type": "error",
     "traceback": [
      "\u001b[1;31m---------------------------------------------------------------------------\u001b[0m",
      "\u001b[1;31mTypeError\u001b[0m                                 Traceback (most recent call last)",
      "Input \u001b[1;32mIn [2]\u001b[0m, in \u001b[0;36m<cell line: 10>\u001b[1;34m()\u001b[0m\n\u001b[0;32m      6\u001b[0m first_object \u001b[38;5;241m=\u001b[39m Employee(\u001b[38;5;124m\"\u001b[39m\u001b[38;5;124mROhit\u001b[39m\u001b[38;5;124m\"\u001b[39m,\u001b[38;5;241m100\u001b[39m)\n\u001b[0;32m      7\u001b[0m second_object \u001b[38;5;241m=\u001b[39m Employee(\u001b[38;5;124m\"\u001b[39m\u001b[38;5;124mSachin\u001b[39m\u001b[38;5;124m\"\u001b[39m,\u001b[38;5;241m200\u001b[39m)\n\u001b[1;32m---> 10\u001b[0m \u001b[38;5;28mprint\u001b[39m(\u001b[43mfirst_object\u001b[49m\u001b[38;5;241;43m+\u001b[39;49m\u001b[43msecond_object\u001b[49m)\n",
      "\u001b[1;31mTypeError\u001b[0m: unsupported operand type(s) for +: 'Employee' and 'Employee'"
     ]
    }
   ],
   "source": [
    "class Employee:\n",
    "    def __init__(self,firstname,salary):\n",
    "        self.firstname = firstname\n",
    "        self.salary = salary\n",
    "        \n",
    "first_object = Employee(\"ROhit\",100)\n",
    "second_object = Employee(\"Sachin\",200)\n",
    "\n",
    "\n",
    "print(first_object+second_object) # it will through an error. to avoid this error we need to define our own __add__()method"
   ]
  },
  {
   "cell_type": "code",
   "execution_count": 42,
   "id": "df43e7ac",
   "metadata": {},
   "outputs": [
    {
     "name": "stdout",
     "output_type": "stream",
     "text": [
      "100+200\n"
     ]
    }
   ],
   "source": [
    "class Employee:\n",
    "    def __init__(self,firstname,salary):\n",
    "        self.firstname = firstname\n",
    "        self.salary = salary\n",
    "        \n",
    "    def __add__(self,second):\n",
    "        \n",
    "        return f\"{self.salary}+{second.salary}\"  # this metchod will print as it is. Lets run it....\n",
    "        \n",
    "        \n",
    "first_object = Employee(\"ROhit\",100)\n",
    "second_object = Employee(\"Sachin\",200)\n",
    "third_object = Employee(\"Nisha\",400)\n",
    "\n",
    "print(first_object+second_object)"
   ]
  },
  {
   "cell_type": "code",
   "execution_count": null,
   "id": "ea379a82",
   "metadata": {},
   "outputs": [],
   "source": []
  },
  {
   "cell_type": "code",
   "execution_count": 7,
   "id": "9e538b93",
   "metadata": {},
   "outputs": [
    {
     "name": "stdout",
     "output_type": "stream",
     "text": [
      "300\n"
     ]
    }
   ],
   "source": [
    "class Employee:\n",
    "    def __init__(self,firstname,salary):\n",
    "        self.firstname = firstname\n",
    "        self.salary = salary\n",
    "        \n",
    "    def __add__(self,other):\n",
    "        \n",
    "        return self.salary+other.salary\n",
    "        \n",
    "        \n",
    "first_object = Employee(\"ROhit\",100)\n",
    "second_object = Employee(\"Sachin\",200)\n",
    "\n",
    "print(first_object+second_object)"
   ]
  },
  {
   "cell_type": "code",
   "execution_count": null,
   "id": "5d73087e",
   "metadata": {},
   "outputs": [],
   "source": [
    "# lates take three objects......"
   ]
  },
  {
   "cell_type": "code",
   "execution_count": 14,
   "id": "e9386e7a",
   "metadata": {},
   "outputs": [
    {
     "name": "stdout",
     "output_type": "stream",
     "text": [
      "600\n"
     ]
    }
   ],
   "source": [
    "class Employee:\n",
    "    def __init__(self,name ,amount):\n",
    "        self.name = name\n",
    "        self.amount = amount\n",
    "\n",
    "    def __add__(self, other):\n",
    "        total_amount = self.amount + other.amount\n",
    "        return Employee(_,total_amount)  # place holder\n",
    "\n",
    "# Creating three salary objects\n",
    "rohit_object = Employee(\"rohit\",100)\n",
    "sachin_object = Employee(\"sachin\",200)\n",
    "rahul_object = Employee(\"rahul\",300)\n",
    "\n",
    "# Adding the salaries using the '+' operator\n",
    "total_salary = rohit_object + sachin_object + rahul_object\n",
    "\n",
    "# Printing the total salary amount\n",
    "print(total_salary.amount)"
   ]
  },
  {
   "cell_type": "code",
   "execution_count": 3,
   "id": "456393a6",
   "metadata": {},
   "outputs": [
    {
     "name": "stdout",
     "output_type": "stream",
     "text": [
      "I am __str__ method : Person(name=sachin, age=24)\n",
      "I am __repr__ method : (name='sachin', age=24)\n"
     ]
    }
   ],
   "source": [
    "# it will look for str() method\n",
    "\n",
    "# if it does not find __str__() then it will look for repr\n",
    "class Person:\n",
    "    def __init__(self, name, age):\n",
    "        self.name = name\n",
    "        self.age = age\n",
    "\n",
    "    def __str__(self):\n",
    "        return f\"I am __str__ method : Person(name={self.name}, age={self.age})\"\n",
    "\n",
    "    def __repr__(self):\n",
    "        return f\"I am __repr__ method : (name='{self.name}', age={self.age})\"\n",
    "\n",
    "person = Person(\"sachin\", 24)\n",
    "\n",
    "print(person)  \n",
    "print(repr(person))  \n"
   ]
  },
  {
   "cell_type": "code",
   "execution_count": 7,
   "id": "8689739e",
   "metadata": {},
   "outputs": [
    {
     "name": "stdout",
     "output_type": "stream",
     "text": [
      "\n"
     ]
    }
   ],
   "source": [
    "class rohit:\n",
    "    def __init__(self,name,class1):\n",
    "        self.name = name\n",
    "        self.class1 = class1\n",
    "        \n",
    "rohit_object =rohit(\"rohit\",_) # place holder\n",
    "\n",
    "print(rohit_object.class1)\n"
   ]
  },
  {
   "cell_type": "code",
   "execution_count": 8,
   "id": "5548805a",
   "metadata": {},
   "outputs": [
    {
     "name": "stdout",
     "output_type": "stream",
     "text": [
      "15\n"
     ]
    }
   ],
   "source": [
    "x = 10\n",
    "result = eval('x + 5')\n",
    "print(result)  # Output: 15"
   ]
  },
  {
   "cell_type": "markdown",
   "id": "43d422b3",
   "metadata": {},
   "source": [
    "# eval() Method"
   ]
  },
  {
   "cell_type": "markdown",
   "id": "35f0f89a",
   "metadata": {},
   "source": [
    "eval() is a built-in Python function that evaluates a string as a Python expression and returns the result. It takes a string as input and executes it as if it were a Python code snippet.\n",
    "\n",
    "The general syntax of eval() is as follows:"
   ]
  },
  {
   "cell_type": "code",
   "execution_count": null,
   "id": "869d8a4a",
   "metadata": {},
   "outputs": [],
   "source": [
    "# eval(expression, globals=None, locals=None)"
   ]
  },
  {
   "cell_type": "markdown",
   "id": "f3f69342",
   "metadata": {},
   "source": [
    "expression: A string containing a Python expression or code snippet that you want to evaluate.\n",
    "    \n",
    "globals (optional): A dictionary that specifies the global namespace. If not provided, eval() uses the global namespace of the current scope.\n",
    "\n",
    "locals (optional): A dictionary that specifies the local namespace. If not provided, eval() uses the local namespace of the current scope.\n",
    "\n",
    "Here's a simple example to demonstrate the usage of eval():"
   ]
  },
  {
   "cell_type": "code",
   "execution_count": 13,
   "id": "1c1c4c25",
   "metadata": {},
   "outputs": [
    {
     "name": "stdout",
     "output_type": "stream",
     "text": [
      "35\n"
     ]
    }
   ],
   "source": [
    "x = 15\n",
    "# result = eval(\"x + 'rohit'\")\n",
    "result = eval(\"x+20\")\n",
    "\n",
    "print(result)"
   ]
  },
  {
   "cell_type": "markdown",
   "id": "9659b8ca",
   "metadata": {},
   "source": [
    "In this example, the string 'x + 5' is evaluated as a Python expression using eval(). The value of x is fetched from the current scope, and the expression x + 5 is evaluated, resulting in the value 15, which is then assigned to the variable result.\n",
    "\n",
    "Caution: It is important to use eval() with caution because it can execute arbitrary code and may pose security risks if used with untrusted or user-generated input. Improper use of eval() can lead to code injection vulnerabilities. Therefore, it is recommended to avoid using eval() with untrusted input or to sanitize and validate input properly before using it in an eval() statement."
   ]
  },
  {
   "cell_type": "markdown",
   "id": "de1242cb",
   "metadata": {},
   "source": [
    "# Recrate Object from repr()"
   ]
  },
  {
   "cell_type": "markdown",
   "id": "00287953",
   "metadata": {},
   "source": [
    "To recreate an object from its __repr__() representation, you need to parse the string representation and use it to reconstruct the object. The __repr__() method should return a string that represents the object's state in a format that can be evaluated to recreate the object.\n",
    "\n",
    "Here's an example of how to recreate an object using its __repr__() representation:"
   ]
  },
  {
   "cell_type": "code",
   "execution_count": 16,
   "id": "b028e055",
   "metadata": {},
   "outputs": [
    {
     "name": "stdout",
     "output_type": "stream",
     "text": [
      "MyClass(x=10, y=20)\n",
      "MyClass(x=10, y=20)\n",
      "False\n"
     ]
    }
   ],
   "source": [
    "class MyClass:\n",
    "    def __init__(self, x, y):\n",
    "        self.x = x\n",
    "        self.y = y\n",
    "\n",
    "    def __repr__(self):\n",
    "        return f\"MyClass(x={self.x}, y={self.y})\"\n",
    "\n",
    "    @classmethod\n",
    "    def from_repr(cls, repr_str):\n",
    "        # Parse the repr_str and extract the values\n",
    "        # Assuming the repr_str has the format MyClass(x=<value>, y=<value>)\n",
    "        values = repr_str.split('(')[1].split(')')[0].split(',')\n",
    "        x = int(values[0].split('=')[1])\n",
    "        y = int(values[1].split('=')[1])\n",
    "\n",
    "        # Create a new instance of MyClass using the extracted values\n",
    "        return cls(x, y)\n",
    "\n",
    "# Create an instance of MyClass\n",
    "obj1 = MyClass(10, 20)\n",
    "\n",
    "# Get the repr representation of the object\n",
    "\n",
    "repr_str = repr(obj1)\n",
    "\n",
    "# Recreate the object from its repr representation\n",
    "obj2 = MyClass.from_repr(repr_str)\n",
    "\n",
    "# Verify that the two objects are equivalent\n",
    "print(obj1)  # Output: MyClass(x=10, y=20)\n",
    "print(obj2)  # Output: MyClass(x=10, y=20)\n",
    "print(obj1 == obj2)  # Output: True\n"
   ]
  },
  {
   "cell_type": "code",
   "execution_count": 22,
   "id": "bea52fc8",
   "metadata": {},
   "outputs": [
    {
     "name": "stdout",
     "output_type": "stream",
     "text": [
      "reper_str: -> MyClass(x=10, y=20)\n",
      "['x=10', ' y=20']\n",
      "10\n",
      "20\n"
     ]
    }
   ],
   "source": [
    "repr_str = repr(obj1)\n",
    "print(\"reper_str: ->\",repr_str)\n",
    "\n",
    "values = repr_str.split('(')[1].split(')')[0].split(',')\n",
    "\n",
    "print(values)\n",
    "\n",
    "x = int(values[0].split('=')[1])\n",
    "print(x)\n",
    "\n",
    "\n",
    "y = int(values[1].split('=')[1])\n",
    "\n",
    "print(y)"
   ]
  },
  {
   "cell_type": "code",
   "execution_count": null,
   "id": "79eff40a",
   "metadata": {},
   "outputs": [],
   "source": []
  }
 ],
 "metadata": {
  "kernelspec": {
   "display_name": "Python 3 (ipykernel)",
   "language": "python",
   "name": "python3"
  },
  "language_info": {
   "codemirror_mode": {
    "name": "ipython",
    "version": 3
   },
   "file_extension": ".py",
   "mimetype": "text/x-python",
   "name": "python",
   "nbconvert_exporter": "python",
   "pygments_lexer": "ipython3",
   "version": "3.11.7"
  }
 },
 "nbformat": 4,
 "nbformat_minor": 5
}
