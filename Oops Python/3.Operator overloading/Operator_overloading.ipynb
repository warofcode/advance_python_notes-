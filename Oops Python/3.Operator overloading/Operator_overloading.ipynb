{
 "cells": [
  {
   "cell_type": "markdown",
   "metadata": {},
   "source": [
    "# what is dunder methonds ?"
   ]
  },
  {
   "cell_type": "code",
   "execution_count": 2,
   "metadata": {},
   "outputs": [],
   "source": [
    "# Dunder or magic methods or special method in Python\n",
    "# Dunder or magic methods in Python are the methods having two prefix and suffix underscores in the method name. \n",
    "# Dunder here means “Double Under (Underscores)”. These are commonly used for operator overloading. Few examples for magic \n",
    "# methods are: __init__, __add__, __len__, __repr__ etc.\n",
    "\n",
    "# The __init__ method for initialization is invoked without any call, when an instance of a class is created, like constructors \n",
    "# in certain other programming languages such as C++, Java, C#, PHP etc. These methods are the reason we can add two strings \n",
    "# with ‘+’ operator without any explicit typecasting.\n",
    "\n",
    "# Here’s a simple implementation :"
   ]
  },
  {
   "cell_type": "code",
   "execution_count": 3,
   "metadata": {},
   "outputs": [
    {
     "name": "stdout",
     "output_type": "stream",
     "text": [
      "<__main__.String object at 0x000001BEF7938948>\n"
     ]
    }
   ],
   "source": [
    "# declare our own string class \n",
    "class String: \n",
    "      \n",
    "    # magic method to initiate object \n",
    "    def __init__(self, string): \n",
    "        self.string = string \n",
    "          \n",
    "# Driver Code \n",
    "if __name__ == '__main__': \n",
    "      \n",
    "    # object creation \n",
    "    my_object = String('Hello') \n",
    "  \n",
    "    # print object location \n",
    "    print(my_object) "
   ]
  },
  {
   "cell_type": "code",
   "execution_count": 9,
   "metadata": {},
   "outputs": [
    {
     "name": "stdout",
     "output_type": "stream",
     "text": [
      "Object: Hello\n"
     ]
    }
   ],
   "source": [
    "# The above snippet of code prints only the memory address of the string object. Let’s add a __repr__ method to represent our \n",
    "# object.\n",
    "# declare our own string class \n",
    "class String: \n",
    "      \n",
    "    # magic method to initiate object \n",
    "    def __init__(self, string): \n",
    "        self.string = string \n",
    "          \n",
    "    # print our string object \n",
    "    def __repr__(self): \n",
    "        return 'Object: {}'.format(self.string) \n",
    "    \n",
    "# Driver Code   \n",
    "if __name__ == '__main__': \n",
    "      \n",
    "    # object creation \n",
    "    my_object = String('Hello') \n",
    "  \n",
    "    # print object location \n",
    "    print(my_object) "
   ]
  },
  {
   "cell_type": "markdown",
   "metadata": {},
   "source": [
    "# If we try to add a string to it :"
   ]
  },
  {
   "cell_type": "code",
   "execution_count": 5,
   "metadata": {},
   "outputs": [
    {
     "ename": "TypeError",
     "evalue": "unsupported operand type(s) for +: 'String' and 'str'",
     "output_type": "error",
     "traceback": [
      "\u001b[1;31m---------------------------------------------------------------------------\u001b[0m",
      "\u001b[1;31mTypeError\u001b[0m                                 Traceback (most recent call last)",
      "\u001b[1;32m<ipython-input-5-0843170b966b>\u001b[0m in \u001b[0;36m<module>\u001b[1;34m\u001b[0m\n\u001b[0;32m     17\u001b[0m \u001b[1;33m\u001b[0m\u001b[0m\n\u001b[0;32m     18\u001b[0m     \u001b[1;31m# concatenate String object and a string\u001b[0m\u001b[1;33m\u001b[0m\u001b[1;33m\u001b[0m\u001b[1;33m\u001b[0m\u001b[0m\n\u001b[1;32m---> 19\u001b[1;33m     \u001b[0mprint\u001b[0m\u001b[1;33m(\u001b[0m\u001b[0mstring1\u001b[0m \u001b[1;33m+\u001b[0m\u001b[1;34m' world'\u001b[0m\u001b[1;33m)\u001b[0m\u001b[1;33m\u001b[0m\u001b[1;33m\u001b[0m\u001b[0m\n\u001b[0m",
      "\u001b[1;31mTypeError\u001b[0m: unsupported operand type(s) for +: 'String' and 'str'"
     ]
    }
   ],
   "source": [
    "# declare our own string class \n",
    "class String: \n",
    "      \n",
    "    # magic method to initiate object \n",
    "    def __init__(self, string): \n",
    "        self.string = string \n",
    "          \n",
    "    # print our string object \n",
    "    def __repr__(self): \n",
    "        return 'Object: {}'.format(self.string) \n",
    "  \n",
    "# Driver Code \n",
    "if __name__ == '__main__': \n",
    "      \n",
    "    # object creation \n",
    "    my_object = String('Hello') \n",
    "      \n",
    "    # concatenate String object and a string \n",
    "    print(my_object +' world') "
   ]
  },
  {
   "cell_type": "code",
   "execution_count": 6,
   "metadata": {},
   "outputs": [],
   "source": [
    "# Output :\n",
    "\n",
    "# TypeError: unsupported operand type(s) for +: 'String' and 'str'\n",
    " "
   ]
  },
  {
   "cell_type": "code",
   "execution_count": 7,
   "metadata": {},
   "outputs": [
    {
     "name": "stdout",
     "output_type": "stream",
     "text": [
      "Hello Geeks\n"
     ]
    }
   ],
   "source": [
    "# Now add __add__ method to String class :\n",
    "# declare our own string class \n",
    "class String: \n",
    "      \n",
    "    # magic method to initiate object \n",
    "    def __init__(self, string): \n",
    "        self.string = string  \n",
    "          \n",
    "    # print our string object \n",
    "    def __repr__(self): \n",
    "        return 'Object: {}'.format(self.string) \n",
    "          \n",
    "    def __add__(self, other): \n",
    "        return self.string + other \n",
    "  \n",
    "# Driver Code \n",
    "if __name__ == '__main__': \n",
    "      \n",
    "    # object creation \n",
    "    my_object = String('Hello') \n",
    "      \n",
    "    # concatenate String object and a string \n",
    "    print(my_object +' Python')"
   ]
  },
  {
   "cell_type": "markdown",
   "metadata": {},
   "source": [
    "# example and practice for dunder method and operator overloading "
   ]
  },
  {
   "cell_type": "code",
   "execution_count": 10,
   "metadata": {},
   "outputs": [
    {
     "name": "stdout",
     "output_type": "stream",
     "text": [
      "<__main__.Employee object at 0x000001BEFA2E2248>\n"
     ]
    }
   ],
   "source": [
    "class Employee:\n",
    "    \n",
    "    def __init__(self,Name,Salary,Designation):\n",
    "        self.name=Name\n",
    "        self.salary=Salary\n",
    "        self.designation=Designation\n",
    "        \n",
    "    \n",
    "    \n",
    "    \n",
    "    \n",
    "Rohit=Employee(\"Rohit\",120000,\"Manager\")\n",
    "Rohan=Employee(\"Rohan\",20000,\"Sweepar\")\n",
    "\n",
    "print(Rohit)"
   ]
  },
  {
   "cell_type": "code",
   "execution_count": 11,
   "metadata": {},
   "outputs": [],
   "source": [
    "# if we print Rohit object it only returns the memory location of Rohit . To print information about it either we need to \n",
    "# create a dunder method or our own function.\n",
    "# lets try by dunder method first (__repr__)"
   ]
  },
  {
   "cell_type": "code",
   "execution_count": 12,
   "metadata": {},
   "outputs": [
    {
     "name": "stdout",
     "output_type": "stream",
     "text": [
      "Rohit,120000,Manager\n"
     ]
    }
   ],
   "source": [
    "class Employee:\n",
    "    \n",
    "    def __init__(self,Name,Salary,Designation):\n",
    "        self.name=Name\n",
    "        self.salary=Salary\n",
    "        self.designation=Designation\n",
    "        \n",
    "    def __repr__(self):\n",
    "        return f\"{self.name},{self.salary},{self.designation}\"\n",
    "    \n",
    "    \n",
    "    \n",
    "Rohit=Employee(\"Rohit\",120000,\"Manager\")\n",
    "Rohan=Employee(\"Rohan\",20000,\"Sweepar\")\n",
    "\n",
    "print(Rohit)"
   ]
  },
  {
   "cell_type": "code",
   "execution_count": 13,
   "metadata": {},
   "outputs": [],
   "source": [
    "# now lets create our ownl function to print details\n"
   ]
  },
  {
   "cell_type": "code",
   "execution_count": 15,
   "metadata": {},
   "outputs": [
    {
     "name": "stdout",
     "output_type": "stream",
     "text": [
      "<__main__.Employee object at 0x000001BEFA3A14C8>\n"
     ]
    }
   ],
   "source": [
    "class Employee:\n",
    "    \n",
    "    def __init__(self,Name,Salary,Designation):\n",
    "        self.name=Name\n",
    "        self.salary=Salary\n",
    "        self.designation=Designation\n",
    "        \n",
    "#     def __repr__(self):\n",
    "#         return f\"{self.name},{self.salary},{self.designation}\"\n",
    "    \n",
    "    def my_employee_details(self):\n",
    "        return f\"{self.name},{self.salary},{self.designation}\"\n",
    "    \n",
    "    \n",
    "Rohit=Employee(\"Rohit\",120000,\"Manager\")\n",
    "Rohan=Employee(\"Rohan\",20000,\"Sweepar\")\n",
    "\n",
    "print(Rohit)"
   ]
  },
  {
   "cell_type": "code",
   "execution_count": 16,
   "metadata": {},
   "outputs": [],
   "source": [
    "# but this time istead of calling our object we will need to call function with object. else it will give again memory location\n",
    "# as above"
   ]
  },
  {
   "cell_type": "code",
   "execution_count": 17,
   "metadata": {},
   "outputs": [
    {
     "name": "stdout",
     "output_type": "stream",
     "text": [
      "Rohit,120000,Manager\n"
     ]
    }
   ],
   "source": [
    "print(Rohit.my_employee_details())"
   ]
  },
  {
   "cell_type": "code",
   "execution_count": 19,
   "metadata": {},
   "outputs": [
    {
     "ename": "TypeError",
     "evalue": "unsupported operand type(s) for +: 'Employee' and 'Employee'",
     "output_type": "error",
     "traceback": [
      "\u001b[1;31m---------------------------------------------------------------------------\u001b[0m",
      "\u001b[1;31mTypeError\u001b[0m                                 Traceback (most recent call last)",
      "\u001b[1;32m<ipython-input-19-e837805a3a00>\u001b[0m in \u001b[0;36m<module>\u001b[1;34m\u001b[0m\n\u001b[0;32m      1\u001b[0m \u001b[1;31m# lets try to add salary of Rohit and Rohan\u001b[0m\u001b[1;33m\u001b[0m\u001b[1;33m\u001b[0m\u001b[1;33m\u001b[0m\u001b[0m\n\u001b[1;32m----> 2\u001b[1;33m \u001b[0mprint\u001b[0m\u001b[1;33m(\u001b[0m\u001b[0mRohit\u001b[0m\u001b[1;33m+\u001b[0m\u001b[0mRohan\u001b[0m\u001b[1;33m)\u001b[0m\u001b[1;33m\u001b[0m\u001b[1;33m\u001b[0m\u001b[0m\n\u001b[0m",
      "\u001b[1;31mTypeError\u001b[0m: unsupported operand type(s) for +: 'Employee' and 'Employee'"
     ]
    }
   ],
   "source": [
    "# lets try to add salary of Rohit and Rohan \n",
    "print(Rohit+Rohan)"
   ]
  },
  {
   "cell_type": "code",
   "execution_count": 20,
   "metadata": {},
   "outputs": [],
   "source": [
    "# this is giving error becuase it does not know how to add them so we are going to overload + operator by __add__ magic function"
   ]
  },
  {
   "cell_type": "code",
   "execution_count": 31,
   "metadata": {},
   "outputs": [
    {
     "name": "stdout",
     "output_type": "stream",
     "text": [
      "140000\n",
      "RohitRohan\n",
      "None\n"
     ]
    }
   ],
   "source": [
    "class Employee:\n",
    "    \n",
    "    def __init__(self,Name,Salary,Designation):\n",
    "        self.name=Name\n",
    "        self.salary=Salary\n",
    "        self.designation=Designation\n",
    "        \n",
    "    def __repr__(self):\n",
    "        return f\"{self.name},{self.salary},{self.designation}\"\n",
    "    \n",
    "    def __add__(self,other):\n",
    "        print( self.salary+other.salary)\n",
    "        print(self.name+other.name)\n",
    "        \n",
    "    \n",
    "Rohit=Employee(\"Rohit\",120000,\"Manager\")\n",
    "Rohan=Employee(\"Rohan\",20000,\"Sweepar\")\n",
    "\n",
    "print(Rohit+Rohan)"
   ]
  },
  {
   "cell_type": "code",
   "execution_count": 32,
   "metadata": {},
   "outputs": [],
   "source": [
    "# as you can see above it works fine now "
   ]
  },
  {
   "cell_type": "code",
   "execution_count": 39,
   "metadata": {},
   "outputs": [
    {
     "name": "stdout",
     "output_type": "stream",
     "text": [
      " Rohit,120000,Manager\n"
     ]
    }
   ],
   "source": [
    "# now check __str__magic method as well\n",
    "\n",
    "class Employee:\n",
    "    \n",
    "    def __init__(self,Name,Salary,Designation):\n",
    "        self.name=Name\n",
    "        self.salary=Salary\n",
    "        self.designation=Designation\n",
    "        \n",
    "    def __repr__(self):\n",
    "        return f\"'{self.name}',{self.salary},'{self.designation}'\"\n",
    "    \n",
    "    def __str__(self):\n",
    "        return f\" {self.name},{self.salary},{self.designation}\"\n",
    "    \n",
    "    def __add__(self,other):\n",
    "        print( self.salary+other.salary)\n",
    "        print(self.name+other.name)\n",
    "        \n",
    "        \n",
    "    \n",
    "Rohit=Employee(\"Rohit\",120000,\"Manager\")\n",
    "Rohan=Employee(\"Rohan\",20000,\"Sweepar\")\n",
    "print(Rohit)"
   ]
  },
  {
   "cell_type": "code",
   "execution_count": 40,
   "metadata": {},
   "outputs": [],
   "source": [
    "# it always prefer to print __str__  method first.\n",
    "# if it does not find the __str__ only then it will print the __repr__ methond\n",
    "# lets see below"
   ]
  },
  {
   "cell_type": "code",
   "execution_count": 42,
   "metadata": {},
   "outputs": [
    {
     "name": "stdout",
     "output_type": "stream",
     "text": [
      "'Rohit',120000,'Manager'\n"
     ]
    }
   ],
   "source": [
    "class Employee:\n",
    "    \n",
    "    def __init__(self,Name,Salary,Designation):\n",
    "        self.name=Name\n",
    "        self.salary=Salary\n",
    "        self.designation=Designation\n",
    "        \n",
    "    def __repr__(self):\n",
    "        return f\"'{self.name}',{self.salary},'{self.designation}'\"\n",
    "    \n",
    "#     def __str__(self):\n",
    "#         return f\" {self.name},{self.salary},{self.designation}\"\n",
    "    \n",
    "    def __add__(self,other):\n",
    "        print( self.salary+other.salary)\n",
    "        print(self.name+other.name)\n",
    "        \n",
    "        \n",
    "    \n",
    "Rohit=Employee(\"Rohit\",120000,\"Manager\")\n",
    "Rohan=Employee(\"Rohan\",20000,\"Sweepar\")\n",
    "print(Rohit)"
   ]
  },
  {
   "cell_type": "code",
   "execution_count": 43,
   "metadata": {},
   "outputs": [],
   "source": [
    "# now you can see that we have comment out the __str__ only then it has printed the repr method"
   ]
  },
  {
   "cell_type": "code",
   "execution_count": 44,
   "metadata": {},
   "outputs": [],
   "source": [
    "# # please see other other dunder method, special method or magic method\n",
    "# Binary\n",
    "# OPERATOR\tMAGIC METHOD\n",
    "# +\t__add__(self, other)\n",
    "# –\t__sub__(self, other)\n",
    "# *\t__mul__(self, other)\n",
    "# /\t__truediv__(self, other)\n",
    "# //\t__floordiv__(self, other)\n",
    "# %\t__mod__(self, other)\n",
    "# **\t__pow__(self, other)"
   ]
  },
  {
   "cell_type": "code",
   "execution_count": 48,
   "metadata": {},
   "outputs": [],
   "source": [
    "# Comparison\n",
    "# OPERATOR\tMAGIC METHOD\n",
    "# <\t__lt__(self, other)\n",
    "# >\t__gt__(self, other)\n",
    "# <=\t__le__(self, other)\n",
    "# >=\t__ge__(self, other)\n",
    "# ==\t__eq__(self, other)\n",
    "# !=\t__ne__(self, other)"
   ]
  },
  {
   "cell_type": "code",
   "execution_count": 47,
   "metadata": {},
   "outputs": [],
   "source": [
    "# Assignment \n",
    "# OPERATOR\tMAGIC METHOD\n",
    "# -=\t__isub__(self, other)\n",
    "# +=\t__iadd__(self, other)\n",
    "# *=\t__imul__(self, other)\n",
    "# /=\t__idiv__(self, other)\n",
    "# //=\t__ifloordiv__(self, other)\n",
    "# %=\t__imod__(self, other)\n",
    "# **=\t__ipow__(self, other)"
   ]
  },
  {
   "cell_type": "code",
   "execution_count": null,
   "metadata": {},
   "outputs": [],
   "source": [
    "#unary\n",
    "# OPERATOR\tMAGIC METHOD\n",
    "# –\t__neg__(self, other)\n",
    "# +\t__pos__(self, other)\n",
    "# ~\t__invert__(self, other)"
   ]
  }
 ],
 "metadata": {
  "kernelspec": {
   "display_name": "Python 3 (ipykernel)",
   "language": "python",
   "name": "python3"
  },
  "language_info": {
   "codemirror_mode": {
    "name": "ipython",
    "version": 3
   },
   "file_extension": ".py",
   "mimetype": "text/x-python",
   "name": "python",
   "nbconvert_exporter": "python",
   "pygments_lexer": "ipython3",
   "version": "3.11.7"
  }
 },
 "nbformat": 4,
 "nbformat_minor": 4
}
