{
 "cells": [
  {
   "cell_type": "markdown",
   "id": "71e213b0-ba79-4468-812e-d112c23cc9b6",
   "metadata": {},
   "source": [
    "# Access specifiers"
   ]
  },
  {
   "cell_type": "markdown",
   "id": "744c8dbd-c053-494a-b9bd-1a5f120775ac",
   "metadata": {},
   "source": [
    "In Python, the concepts of public, private, and protected are used to control access to the attributes and methods of a class. These access specifiers help in encapsulating the data, ensuring that it is only accessible where it's intended to be. Let's break down each of these:"
   ]
  },
  {
   "cell_type": "markdown",
   "id": "ddaa57d9-552f-41af-92d8-933f7cb5a7fa",
   "metadata": {},
   "source": [
    "1. Public"
   ]
  },
  {
   "cell_type": "markdown",
   "id": "4e433f23-a071-4ed9-a9f8-581feb210dec",
   "metadata": {},
   "source": [
    "2. Private"
   ]
  },
  {
   "cell_type": "markdown",
   "id": "b2c2e8d3-00a0-4470-8db2-4365b668a374",
   "metadata": {},
   "source": [
    "3. Protected"
   ]
  },
  {
   "cell_type": "markdown",
   "id": "94bfc884-4e32-4cd5-bd82-017184184075",
   "metadata": {},
   "source": [
    "# 1. Public Members"
   ]
  },
  {
   "cell_type": "markdown",
   "id": "5786829f-53fc-4ec9-b8d3-b827ae4dcc9b",
   "metadata": {},
   "source": [
    "Public members are accessible from anywhere. There are no restrictions on accessing or modifying public attributes or methods. By default, all attributes and methods in Python are public."
   ]
  },
  {
   "cell_type": "code",
   "execution_count": 8,
   "id": "46172035-0f5c-42f0-8827-4a1e33438b77",
   "metadata": {},
   "outputs": [
    {
     "name": "stdout",
     "output_type": "stream",
     "text": [
      "I am public\n",
      "This is a public method\n",
      "This is a public method\n",
      "87\n"
     ]
    }
   ],
   "source": [
    "class MyClass:\n",
    "    home_variable = 87\n",
    "    def __init__(self):\n",
    "        self.public_attribute = \"I am public\"\n",
    "\n",
    "    def public_method(self):\n",
    "        return \"This is a public method\"\n",
    "\n",
    "class Child_class_of_Myclass(MyClass):\n",
    "    def __init__(self):\n",
    "        super().__init__()\n",
    "    def child_class_method():\n",
    "        return \"This is child class method in Child_class_of_Myclass\"\n",
    "        \n",
    "\n",
    "obj_MyClass = MyClass()\n",
    "obj_Child_class_of_Myclass = Child_class_of_Myclass()\n",
    "print(obj.public_attribute)  # Accessible\n",
    "print(obj.public_method())   # Accessible\n",
    "\n",
    "print(obj_Child_class_of_Myclass.public_method())\n",
    "print(obj_Child_class_of_Myclass.home_variable)"
   ]
  },
  {
   "cell_type": "markdown",
   "id": "48525102-320b-4585-88db-a1be932461cc",
   "metadata": {},
   "source": [
    "# 2. Protected Members"
   ]
  },
  {
   "cell_type": "markdown",
   "id": "50e54182-a59f-405b-9b5f-cf47098d947e",
   "metadata": {},
   "source": [
    "Protected members are accessible within the class and its subclasses. This is indicated by a single underscore (_) prefix. While the protected members can be accessed outside the class, it is generally discouraged by convention.\n",
    "Means should be used only derived class."
   ]
  },
  {
   "cell_type": "code",
   "execution_count": 9,
   "id": "8965648a-933c-42a8-9f1f-ff508a847980",
   "metadata": {},
   "outputs": [
    {
     "name": "stdout",
     "output_type": "stream",
     "text": [
      "I am protected\n",
      "This is a protected method\n"
     ]
    }
   ],
   "source": [
    "class MyClass:\n",
    "    def __init__(self):\n",
    "        self._protected_attribute = \"I am protected\"\n",
    "\n",
    "    def _protected_method(self):\n",
    "        return \"This is a protected method\"\n",
    "\n",
    "class SubClass(MyClass):\n",
    "    def access_protected(self):\n",
    "        return self._protected_method()  # Accessible in subclass\n",
    "\n",
    "obj = MyClass()\n",
    "print(obj._protected_attribute)  # Accessible, but not recommended\n",
    "sub_obj = SubClass()\n",
    "print(sub_obj.access_protected())  # Accessible in subclass\n"
   ]
  },
  {
   "cell_type": "markdown",
   "id": "022fe506-edea-438d-893b-f1a3412c0fb7",
   "metadata": {},
   "source": [
    "# 3. Private Members"
   ]
  },
  {
   "cell_type": "markdown",
   "id": "71a6dfad-8946-4705-8dc4-8b233db2c247",
   "metadata": {},
   "source": [
    "Private members are accessible only within the class that defines them. This is indicated by a double underscore (__) prefix. Private members cannot be accessed directly from outside the class, but they can be accessed using name mangling (not recommended for regular use)."
   ]
  },
  {
   "cell_type": "code",
   "execution_count": 10,
   "id": "c20c8755-f599-4617-a6c6-3f4eea6ff074",
   "metadata": {},
   "outputs": [
    {
     "name": "stdout",
     "output_type": "stream",
     "text": [
      "This is a private method\n",
      "I am private\n"
     ]
    }
   ],
   "source": [
    "class MyClass:\n",
    "    def __init__(self):\n",
    "        self.__private_attribute = \"I am private\"\n",
    "\n",
    "    def __private_method(self):\n",
    "        return \"This is a private method\"\n",
    "\n",
    "    def access_private(self):\n",
    "        return self.__private_method()  # Accessible within the class\n",
    "\n",
    "\n",
    "\n",
    "obj = MyClass()\n",
    "# print(obj.__private_attribute)  # Raises AttributeError\n",
    "print(obj.access_private())  # Accessible within the class\n",
    "\n",
    "# Name mangling to access private attribute (not recommended)\n",
    "print(obj._MyClass__private_attribute)  # Accessible, but not recommended\n"
   ]
  },
  {
   "cell_type": "code",
   "execution_count": 1,
   "id": "b61bdd98-26e4-4c2f-81af-2a886e8b2fd0",
   "metadata": {},
   "outputs": [],
   "source": [
    "class MyClass:\n",
    "    def __init__(self):\n",
    "        self.__private_number = 1\n",
    "        self.__private_number1 = 2\n",
    "        self.total = self.__private_number + self.__private_number1\n",
    "        \n",
    "\n",
    "    def __private_method(self):\n",
    "        return \"This is a private method\""
   ]
  },
  {
   "cell_type": "code",
   "execution_count": 2,
   "id": "cbb8e92a-574b-48af-9fbf-b6c8d7d5a614",
   "metadata": {},
   "outputs": [],
   "source": [
    "myobj = MyClass()"
   ]
  },
  {
   "cell_type": "code",
   "execution_count": 3,
   "id": "53ea330a-3c9d-4e8f-a423-09afeb80d413",
   "metadata": {},
   "outputs": [
    {
     "data": {
      "text/plain": [
       "{'_MyClass__private_number': 1, '_MyClass__private_number1': 2, 'total': 3}"
      ]
     },
     "execution_count": 3,
     "metadata": {},
     "output_type": "execute_result"
    }
   ],
   "source": [
    "myobj.__dict__                                         # name mangling"
   ]
  },
  {
   "cell_type": "code",
   "execution_count": null,
   "id": "0fcc8208-4d63-42dd-9410-d9926ffb921b",
   "metadata": {},
   "outputs": [],
   "source": []
  }
 ],
 "metadata": {
  "kernelspec": {
   "display_name": "Python 3 (ipykernel)",
   "language": "python",
   "name": "python3"
  },
  "language_info": {
   "codemirror_mode": {
    "name": "ipython",
    "version": 3
   },
   "file_extension": ".py",
   "mimetype": "text/x-python",
   "name": "python",
   "nbconvert_exporter": "python",
   "pygments_lexer": "ipython3",
   "version": "3.11.7"
  }
 },
 "nbformat": 4,
 "nbformat_minor": 5
}
