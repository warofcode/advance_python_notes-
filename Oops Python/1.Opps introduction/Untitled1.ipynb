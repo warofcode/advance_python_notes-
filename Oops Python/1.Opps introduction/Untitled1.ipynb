{
 "cells": [
  {
   "cell_type": "code",
   "execution_count": 8,
   "id": "bfb2ec5c",
   "metadata": {},
   "outputs": [
    {
     "ename": "TypeError",
     "evalue": "DUCAT.student_details_printer() takes 0 positional arguments but 1 was given",
     "output_type": "error",
     "traceback": [
      "\u001b[1;31m---------------------------------------------------------------------------\u001b[0m",
      "\u001b[1;31mTypeError\u001b[0m                                 Traceback (most recent call last)",
      "Cell \u001b[1;32mIn[8], line 21\u001b[0m\n\u001b[0;32m     17\u001b[0m sachin\u001b[38;5;241m.\u001b[39mfirst_name \u001b[38;5;241m=\u001b[39m \u001b[38;5;124m\"\u001b[39m\u001b[38;5;124mSachin\u001b[39m\u001b[38;5;124m\"\u001b[39m\n\u001b[0;32m     18\u001b[0m sachin\u001b[38;5;241m.\u001b[39mlast_name \u001b[38;5;241m=\u001b[39m \u001b[38;5;124m\"\u001b[39m\u001b[38;5;124mSharma\u001b[39m\u001b[38;5;124m\"\u001b[39m\n\u001b[1;32m---> 21\u001b[0m rohit\u001b[38;5;241m.\u001b[39mstudent_details_printer()\n",
      "\u001b[1;31mTypeError\u001b[0m: DUCAT.student_details_printer() takes 0 positional arguments but 1 was given"
     ]
    }
   ],
   "source": [
    "class DUCAT():\n",
    "    week_off = \"Friday\"\n",
    "    \n",
    "    \n",
    "    def student_details_printer():\n",
    "        \n",
    "        return f\"hi {first_name} {last_name}\"\n",
    "        \n",
    "        \n",
    "rohit = DUCAT()\n",
    "sachin = DUCAT()\n",
    "\n",
    "rohit.first_name = \"ROhit\"\n",
    "rohit.last_name = \"Tyagi\"\n",
    "\n",
    "\n",
    "sachin.first_name = \"Sachin\"\n",
    "sachin.last_name = \"Sharma\"\n",
    "\n",
    "\n",
    "rohit.student_details_printer() # you can see here i did not pass any argument but still i m getting error that \n",
    "                                # {takes 0 positional arguments but 1 was given}"
   ]
  },
  {
   "cell_type": "code",
   "execution_count": 13,
   "id": "c0182ebf",
   "metadata": {},
   "outputs": [
    {
     "ename": "TypeError",
     "evalue": "DUCAT.__init__() missing 2 required positional arguments: 'first_name' and 'last_name'",
     "output_type": "error",
     "traceback": [
      "\u001b[1;31m---------------------------------------------------------------------------\u001b[0m",
      "\u001b[1;31mTypeError\u001b[0m                                 Traceback (most recent call last)",
      "Cell \u001b[1;32mIn[13], line 13\u001b[0m\n\u001b[0;32m      9\u001b[0m     \u001b[38;5;28;01mdef\u001b[39;00m \u001b[38;5;21mstudent_detail_printer\u001b[39m(\u001b[38;5;28mself\u001b[39m):\n\u001b[0;32m     11\u001b[0m         \u001b[38;5;28;01mreturn\u001b[39;00m \u001b[38;5;124mf\u001b[39m\u001b[38;5;124m\"\u001b[39m\u001b[38;5;124mHi \u001b[39m\u001b[38;5;132;01m{\u001b[39;00m\u001b[38;5;28mself\u001b[39m\u001b[38;5;241m.\u001b[39mfirst_name\u001b[38;5;132;01m}\u001b[39;00m\u001b[38;5;124m , \u001b[39m\u001b[38;5;132;01m{\u001b[39;00m\u001b[38;5;28mself\u001b[39m\u001b[38;5;241m.\u001b[39mlast_name\u001b[38;5;132;01m}\u001b[39;00m\u001b[38;5;124m\"\u001b[39m\n\u001b[1;32m---> 13\u001b[0m rohit \u001b[38;5;241m=\u001b[39m DUCAT()    \n\u001b[0;32m     14\u001b[0m sachin \u001b[38;5;241m=\u001b[39m DUCAT()\n\u001b[0;32m     16\u001b[0m \u001b[38;5;66;03m# rohit.first_name = \"ROHIT\"\u001b[39;00m\n\u001b[0;32m     17\u001b[0m \u001b[38;5;66;03m# rohit.last_name = \"Tyagi\"\u001b[39;00m\n\u001b[0;32m     18\u001b[0m \n\u001b[0;32m     19\u001b[0m \u001b[38;5;66;03m# sachin.first_name = \"Sachin\"\u001b[39;00m\n\u001b[0;32m     20\u001b[0m \u001b[38;5;66;03m# sachin.last_name = \"Tendulkar\"\u001b[39;00m\n",
      "\u001b[1;31mTypeError\u001b[0m: DUCAT.__init__() missing 2 required positional arguments: 'first_name' and 'last_name'"
     ]
    }
   ],
   "source": [
    "class DUCAT():\n",
    "    week_off = \"Sunday\"\n",
    "    \n",
    "    def __init__(self,first_name,last_name):\n",
    "        \n",
    "        self.name = name\n",
    "        self.age = age\n",
    "    \n",
    "    def student_detail_printer(self):\n",
    "        \n",
    "        return f\"Hi {self.first_name} , {self.last_name}\"\n",
    "    \n",
    "rohit = DUCAT()    \n",
    "sachin = DUCAT()\n",
    "\n",
    "# rohit.first_name = \"ROHIT\"\n",
    "# rohit.last_name = \"Tyagi\"\n",
    "\n",
    "# sachin.first_name = \"Sachin\"\n",
    "# sachin.last_name = \"Tendulkar\"\n",
    "\n",
    "\n",
    "rohit.student_detail_printer()\n",
    "\n",
    "sachin.student_detail_printer()\n",
    "        \n",
    "        "
   ]
  },
  {
   "cell_type": "code",
   "execution_count": 15,
   "id": "c871e067",
   "metadata": {},
   "outputs": [
    {
     "name": "stdout",
     "output_type": "stream",
     "text": [
      "['Hi', 'i', 'm', 'learning', 'python']\n"
     ]
    }
   ],
   "source": [
    "def string_splitter(String):\n",
    "    \n",
    "    return String.split()\n",
    "\n",
    "spitted_string = string_splitter(\"Hi i m learning python\")\n",
    "\n",
    "print(spitted_string)"
   ]
  },
  {
   "cell_type": "code",
   "execution_count": 17,
   "id": "40f0a619",
   "metadata": {},
   "outputs": [
    {
     "name": "stdout",
     "output_type": "stream",
     "text": [
      "['Hi', 'i', 'm', 'learning', 'python']\n"
     ]
    }
   ],
   "source": [
    "def string_splitter(String):\n",
    "    \n",
    "    return String.split()\n",
    "\n",
    "\n",
    "def calling_a_string():\n",
    "    \n",
    "    return \"Hi i m learning python\"\n",
    "\n",
    "print(string_splitter(calling_a_string()))\n",
    "\n"
   ]
  },
  {
   "cell_type": "code",
   "execution_count": null,
   "id": "2bccfbb2",
   "metadata": {},
   "outputs": [],
   "source": [
    "def my\n",
    "\n",
    "\n",
    "def my_func(string):\n",
    "    \n",
    "    return string.upper()\n",
    "\n",
    "\n",
    "def your_func():\n",
    "    \n",
    "    return f\"i am coming from your_func\"\n",
    "\n",
    "\n",
    "\n",
    "print(my_func(your_func()))"
   ]
  },
  {
   "cell_type": "code",
   "execution_count": 33,
   "id": "6602a76d",
   "metadata": {},
   "outputs": [
    {
     "name": "stdout",
     "output_type": "stream",
     "text": [
      "['I', 'AM', 'LEARNING', 'PYTHON']\n"
     ]
    }
   ],
   "source": [
    "def string_splitter(String):\n",
    "    \n",
    "    return String.split()\n",
    "    \n",
    "\n",
    "\n",
    "\n",
    "def upper_converter(string):\n",
    "    \n",
    "    return string.upper()\n",
    "\n",
    "\n",
    "\n",
    "\n",
    "\n",
    "\n",
    "\n",
    "def string_returner():\n",
    "    \n",
    "    return f\"i am learning python\"\n",
    "\n",
    "\n",
    "print(string_splitter(upper_converter(string_returner())))"
   ]
  },
  {
   "cell_type": "code",
   "execution_count": 26,
   "id": "31e48238",
   "metadata": {},
   "outputs": [],
   "source": [
    "def outer_function(word1):\n",
    "    def inner_function(word2):\n",
    "        \n",
    "        return word1 +\" \" + word2\n",
    "    \n",
    "    return inner_function\n",
    "        \n",
    "greetings = outer_function(\"Hello\") \n",
    "\n",
    "\n",
    "\n",
    "# print(greetings(\"Python\"))"
   ]
  },
  {
   "cell_type": "code",
   "execution_count": 43,
   "id": "6ecb21a9",
   "metadata": {},
   "outputs": [
    {
     "data": {
      "text/plain": [
       "'MY NAME IS ROHIT KUMAR'"
      ]
     },
     "execution_count": 43,
     "metadata": {},
     "output_type": "execute_result"
    }
   ],
   "source": [
    "def split_string(function):\n",
    "    def wrapper():\n",
    "        func = function()\n",
    "        splitted_string = func.split()\n",
    "        return splitted_string\n",
    "\n",
    "    return wrapper\n",
    "\n",
    "def uppercase(myfunction):\n",
    "    def wrapper():\n",
    "        func = myfunction()\n",
    "        upper_string = func.upper()\n",
    "        return upper_string\n",
    "\n",
    "    return wrapper\n",
    "\n",
    "\n",
    "\n",
    "def say_hi():\n",
    "    return 'my name is rohit kumar'\n",
    "\n",
    "say_hi = uppercase(say_hi)\n",
    "\n",
    "# say_hi = split_string(uppercase(say_hi))\n",
    "\n",
    "say_hi()"
   ]
  },
  {
   "cell_type": "code",
   "execution_count": null,
   "id": "8d3af5e0",
   "metadata": {},
   "outputs": [],
   "source": []
  }
 ],
 "metadata": {
  "kernelspec": {
   "display_name": "Python 3 (ipykernel)",
   "language": "python",
   "name": "python3"
  },
  "language_info": {
   "codemirror_mode": {
    "name": "ipython",
    "version": 3
   },
   "file_extension": ".py",
   "mimetype": "text/x-python",
   "name": "python",
   "nbconvert_exporter": "python",
   "pygments_lexer": "ipython3",
   "version": "3.11.5"
  }
 },
 "nbformat": 4,
 "nbformat_minor": 5
}
