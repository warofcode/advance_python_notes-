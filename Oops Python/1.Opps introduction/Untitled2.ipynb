{
 "cells": [
  {
   "cell_type": "code",
   "execution_count": 18,
   "id": "25a2acbd",
   "metadata": {},
   "outputs": [
    {
     "data": {
      "text/plain": [
       "' details of rohit is python'"
      ]
     },
     "execution_count": 18,
     "metadata": {},
     "output_type": "execute_result"
    }
   ],
   "source": [
    "class REXGALAXY:\n",
    "    holidays = \"saturday\"\n",
    "    \n",
    "    def __init__(self,aname,acollege,acourse):\n",
    "        self.jdhfname= aname\n",
    "        self.college = acollege\n",
    "        self.course = acourse\n",
    "        \n",
    "        \n",
    "\n",
    "    def student_details(self):\n",
    "        return f\" details of {self.jdhfname} is {self.course}\"\n",
    "    \n",
    "rohit = REXGALAXY(\"rohit\",\"ducat\",\"python\")    \n",
    "    \n",
    "    \n",
    "rohit.student_details()    "
   ]
  },
  {
   "cell_type": "code",
   "execution_count": 25,
   "id": "dc86eca4",
   "metadata": {},
   "outputs": [
    {
     "data": {
      "text/plain": [
       "'rohit'"
      ]
     },
     "execution_count": 25,
     "metadata": {},
     "output_type": "execute_result"
    }
   ],
   "source": [
    "class REXGALAXY:\n",
    "    holidays = \"saturday\"\n",
    "    \n",
    "    def __init__(self,aname,acollege,acourse):\n",
    "        self.name= aname\n",
    "        self.college = acollege\n",
    "        self.course = acourse\n",
    "        \n",
    "    def details(self):\n",
    "        \n",
    "        return f\"{self.name}\"\n",
    "        \n",
    "        \n",
    "rohit=REXGALAXY(\"rohit\",\"Sachin\",\"this\")     \n",
    "\n",
    "rohit.details()"
   ]
  },
  {
   "cell_type": "code",
   "execution_count": 32,
   "id": "0a7ad2b6",
   "metadata": {},
   "outputs": [],
   "source": [
    "def string_upper_convertor(func):\n",
    "    \n",
    "    string_value = func()\n",
    "    \n",
    "    def converter():\n",
    "        \n",
    "        converted_string_value  = string_value.upper()\n",
    "        \n",
    "        return converted_string_value\n",
    "    \n",
    "    \n",
    "    return converter\n",
    "        \n",
    "    \n",
    "    \n",
    "def spliter_(func):\n",
    "    \n",
    "    string_value = func()\n",
    "        \n",
    "    def under_spit():\n",
    "\n",
    "        spitted_string = string.split()\n",
    "\n",
    "        return spitted_string\n",
    "    \n",
    "    return under_spit\n",
    "\n",
    "\n",
    "\n",
    "\n",
    "        "
   ]
  },
  {
   "cell_type": "code",
   "execution_count": 34,
   "id": "8f978cc4",
   "metadata": {},
   "outputs": [
    {
     "ename": "TypeError",
     "evalue": "spliter_() missing 1 required positional argument: 'func'",
     "output_type": "error",
     "traceback": [
      "\u001b[1;31m---------------------------------------------------------------------------\u001b[0m",
      "\u001b[1;31mTypeError\u001b[0m                                 Traceback (most recent call last)",
      "Cell \u001b[1;32mIn[34], line 1\u001b[0m\n\u001b[1;32m----> 1\u001b[0m \u001b[38;5;28mprint\u001b[39m(string_upper_convertor(spliter_()))\n",
      "\u001b[1;31mTypeError\u001b[0m: spliter_() missing 1 required positional argument: 'func'"
     ]
    }
   ],
   "source": [
    "print(string_upper_convertor(spliter_()))"
   ]
  },
  {
   "cell_type": "code",
   "execution_count": null,
   "id": "8c0537cc",
   "metadata": {},
   "outputs": [],
   "source": [
    "def outer_function(function):\n",
    "    def inner_function():\n",
    "        \n",
    "        function_output = function()\n",
    "        \n",
    "        function_output_upper = function_output.upper()\n",
    "       \n",
    "        \n",
    "        return function_output_upper\n",
    "    \n",
    "    \n",
    "   \n",
    "    return inner_function\n",
    "    \n",
    "    \n",
    "          \n",
    "        \n",
    "def say_hi():\n",
    "    \n",
    "    return \"my name is rohit\""
   ]
  }
 ],
 "metadata": {
  "kernelspec": {
   "display_name": "Python 3 (ipykernel)",
   "language": "python",
   "name": "python3"
  },
  "language_info": {
   "codemirror_mode": {
    "name": "ipython",
    "version": 3
   },
   "file_extension": ".py",
   "mimetype": "text/x-python",
   "name": "python",
   "nbconvert_exporter": "python",
   "pygments_lexer": "ipython3",
   "version": "3.11.5"
  }
 },
 "nbformat": 4,
 "nbformat_minor": 5
}
