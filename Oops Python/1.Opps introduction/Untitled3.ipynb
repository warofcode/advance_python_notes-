{
 "cells": [
  {
   "cell_type": "code",
   "execution_count": 14,
   "id": "af6bb885",
   "metadata": {},
   "outputs": [
    {
     "name": "stdout",
     "output_type": "stream",
     "text": [
      "<function upper_converter.<locals>.wrapper at 0x0000016ED8FC3F60>\n"
     ]
    }
   ],
   "source": [
    "def upper_converter(function):\n",
    "    def wrapper():\n",
    "        function_value = function()\n",
    "        \n",
    "        upper_converted_value = function_value.upper()\n",
    "        \n",
    "        return upper_converted_value\n",
    "    \n",
    "    return wrapper\n",
    "\n",
    "\n",
    "\n",
    "def Say_hi():\n",
    "    \n",
    "    return f\"Hi good morning rohit \"\n",
    "\n",
    "        \n",
    "value = upper_converter(Say_hi())    \n",
    "print(value)"
   ]
  },
  {
   "cell_type": "code",
   "execution_count": null,
   "id": "9ba71b8d",
   "metadata": {},
   "outputs": [],
   "source": [
    "Say_hi()"
   ]
  },
  {
   "cell_type": "code",
   "execution_count": 15,
   "id": "8c768308",
   "metadata": {},
   "outputs": [],
   "source": [
    "def outer_function(function):\n",
    "    def inner_function():\n",
    "        \n",
    "        function_output = function()\n",
    "        \n",
    "        function_output_upper = function_output.upper()\n",
    "       \n",
    "        \n",
    "        return function_output_upper\n",
    "    return inner_function\n",
    "\n",
    "def say_hi():\n",
    "    \n",
    "    return \"my name is rohit\""
   ]
  },
  {
   "cell_type": "code",
   "execution_count": 16,
   "id": "10afb1e1",
   "metadata": {},
   "outputs": [
    {
     "data": {
      "text/plain": [
       "'my name is rohit kumar'"
      ]
     },
     "execution_count": 16,
     "metadata": {},
     "output_type": "execute_result"
    }
   ],
   "source": [
    "def split_string(function):\n",
    "    def wrapper():\n",
    "        func_value = function()\n",
    "        splitted_string = func_value.split()\n",
    "        return splitted_string\n",
    "\n",
    "    return wrapper\n",
    "\n",
    "\n",
    "\n",
    "def say_hi():\n",
    "    return 'my name is rohit kumar'\n",
    "\n",
    "say_hi()"
   ]
  },
  {
   "cell_type": "code",
   "execution_count": 17,
   "id": "f4a58770",
   "metadata": {},
   "outputs": [
    {
     "data": {
      "text/plain": [
       "['my', 'name', 'is', 'rohit', 'kumar']"
      ]
     },
     "execution_count": 17,
     "metadata": {},
     "output_type": "execute_result"
    }
   ],
   "source": [
    "say_hi = split_string(say_hi) \n",
    "say_hi()"
   ]
  },
  {
   "cell_type": "code",
   "execution_count": 23,
   "id": "8b10925c",
   "metadata": {},
   "outputs": [
    {
     "data": {
      "text/plain": [
       "[2, 4, 6, 8]"
      ]
     },
     "execution_count": 23,
     "metadata": {},
     "output_type": "execute_result"
    }
   ],
   "source": [
    "[i for i in range(1,10) if i%2==0]"
   ]
  },
  {
   "cell_type": "code",
   "execution_count": null,
   "id": "a5ddc89c",
   "metadata": {},
   "outputs": [],
   "source": []
  }
 ],
 "metadata": {
  "kernelspec": {
   "display_name": "Python 3 (ipykernel)",
   "language": "python",
   "name": "python3"
  },
  "language_info": {
   "codemirror_mode": {
    "name": "ipython",
    "version": 3
   },
   "file_extension": ".py",
   "mimetype": "text/x-python",
   "name": "python",
   "nbconvert_exporter": "python",
   "pygments_lexer": "ipython3",
   "version": "3.11.5"
  }
 },
 "nbformat": 4,
 "nbformat_minor": 5
}
