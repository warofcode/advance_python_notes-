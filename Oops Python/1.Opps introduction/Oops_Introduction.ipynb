{
 "cells": [
  {
   "cell_type": "code",
   "execution_count": null,
   "id": "ed56ed27",
   "metadata": {},
   "outputs": [],
   "source": [
    "#https://pypi.org/project/sketchpy/\n",
    "#pip install sketchpy\n",
    "\n",
    "from sketchpy import library as lib\n",
    "\n",
    "#object1 = lib.apj()\n",
    "object1 = lib.rdj()\n",
    "# object1 = lib.flag()\n",
    "\n",
    "\n",
    "object1.draw()\n"
   ]
  },
  {
   "cell_type": "markdown",
   "id": "65a6265a",
   "metadata": {},
   "source": [
    "# Code explanation"
   ]
  },
  {
   "cell_type": "markdown",
   "id": "ec54532a",
   "metadata": {},
   "source": [
    "# from sketchpy import library as lib"
   ]
  },
  {
   "cell_type": "markdown",
   "id": "8040e8a8",
   "metadata": {},
   "source": [
    "This line imports the library module from the sketchpy package and assigns it an alias lib. Here's what each part means:"
   ]
  },
  {
   "cell_type": "markdown",
   "id": "42043357",
   "metadata": {},
   "source": [
    "1. from sketchpy: This specifies the package from which to import."
   ]
  },
  {
   "cell_type": "markdown",
   "id": "7b450731",
   "metadata": {},
   "source": [
    "2. import library: This specifies the module within the package to import."
   ]
  },
  {
   "cell_type": "markdown",
   "id": "b5c2540f",
   "metadata": {},
   "source": [
    "3. as lib: This assigns an alias lib to the imported module library. This allows you to refer to the module using the shorter alias lib instead of its full name library."
   ]
  },
  {
   "cell_type": "markdown",
   "id": "378a3f9e",
   "metadata": {},
   "source": [
    "# object1 = lib.rdj()"
   ]
  },
  {
   "cell_type": "markdown",
   "id": "1440b789",
   "metadata": {},
   "source": [
    "This line creates an object named object1 by calling the rdj() function from the library module (imported as lib)."
   ]
  },
  {
   "cell_type": "markdown",
   "id": "0f79848b",
   "metadata": {},
   "source": [
    "1. lib: This refers to the alias assigned to the imported library module."
   ]
  },
  {
   "cell_type": "markdown",
   "id": "7051d6a2",
   "metadata": {},
   "source": [
    "2. .(dot): This is the dot operator, used to access attributes or functions within a module or object."
   ]
  },
  {
   "cell_type": "markdown",
   "id": "74789366",
   "metadata": {},
   "source": [
    "3. rdj(): This is a function call to the rdj() function within the library module. This function may perform some action or return some value."
   ]
  },
  {
   "cell_type": "markdown",
   "id": "9116ba59",
   "metadata": {},
   "source": [
    "4. object1 = : This assigns the result of calling lib.rdj() to the variable object1. The resulting object could be of any data type depending on what the rdj() function returns."
   ]
  },
  {
   "cell_type": "markdown",
   "id": "281bf743",
   "metadata": {},
   "source": [
    "In summary, the provided code imports a module named library from the sketchpy package and assigns it an alias lib. Then, it calls the rdj() function from the library module using the alias lib and assigns the result to the variable object1."
   ]
  },
  {
   "cell_type": "code",
   "execution_count": null,
   "id": "f3f69b5c",
   "metadata": {},
   "outputs": [],
   "source": [
    "# if i write the same code in proci"
   ]
  }
 ],
 "metadata": {
  "kernelspec": {
   "display_name": "Python 3 (ipykernel)",
   "language": "python",
   "name": "python3"
  },
  "language_info": {
   "codemirror_mode": {
    "name": "ipython",
    "version": 3
   },
   "file_extension": ".py",
   "mimetype": "text/x-python",
   "name": "python",
   "nbconvert_exporter": "python",
   "pygments_lexer": "ipython3",
   "version": "3.11.7"
  }
 },
 "nbformat": 4,
 "nbformat_minor": 5
}
