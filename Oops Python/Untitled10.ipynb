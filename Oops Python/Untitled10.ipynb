{
 "cells": [
  {
   "cell_type": "code",
   "execution_count": 3,
   "id": "591b2e7a-0737-4722-9b03-afe228601cc0",
   "metadata": {},
   "outputs": [],
   "source": [
    "class REXGALAXY:\n",
    "    holidays = \"saturday\"\n",
    "    \n",
    "    def __init__(self,firstname,lastname,mobile):\n",
    "        self.firstname= firstname\n",
    "        self.lastname = lastname\n",
    "        self.mobile = mobile\n",
    "    @classmethod\n",
    "    def object_creater(cls,string):\n",
    "        splitted_string = string.split(\"@\")\n",
    "        return cls(splitted_string[0],splitted_string[1],splitted_string[2])\n",
    "        \n",
    "        \n",
    "        "
   ]
  },
  {
   "cell_type": "code",
   "execution_count": 5,
   "id": "bcee1110-f808-4742-8848-f67e7fa9cb66",
   "metadata": {},
   "outputs": [],
   "source": [
    "ram = REXGALAXY.object_creater(\"ram@kumar@9718292990\")"
   ]
  },
  {
   "cell_type": "code",
   "execution_count": 6,
   "id": "18bdf33c-92bc-4068-acbc-7e8952439176",
   "metadata": {},
   "outputs": [
    {
     "data": {
      "text/plain": [
       "'ram'"
      ]
     },
     "execution_count": 6,
     "metadata": {},
     "output_type": "execute_result"
    }
   ],
   "source": [
    "ram.firstname"
   ]
  },
  {
   "cell_type": "code",
   "execution_count": 7,
   "id": "148ad158-6721-445f-82d2-fff49762fbfa",
   "metadata": {},
   "outputs": [
    {
     "data": {
      "text/plain": [
       "'kumar'"
      ]
     },
     "execution_count": 7,
     "metadata": {},
     "output_type": "execute_result"
    }
   ],
   "source": [
    "ram.lastname"
   ]
  },
  {
   "cell_type": "code",
   "execution_count": 8,
   "id": "3c860d3f-5275-4e2e-8de9-176b469de57a",
   "metadata": {},
   "outputs": [
    {
     "data": {
      "text/plain": [
       "'9718292990'"
      ]
     },
     "execution_count": 8,
     "metadata": {},
     "output_type": "execute_result"
    }
   ],
   "source": [
    "ram.mobile"
   ]
  },
  {
   "cell_type": "code",
   "execution_count": null,
   "id": "d4c0d2d2-71e6-4394-aee2-ac211badaf84",
   "metadata": {},
   "outputs": [],
   "source": []
  }
 ],
 "metadata": {
  "kernelspec": {
   "display_name": "Python 3 (ipykernel)",
   "language": "python",
   "name": "python3"
  },
  "language_info": {
   "codemirror_mode": {
    "name": "ipython",
    "version": 3
   },
   "file_extension": ".py",
   "mimetype": "text/x-python",
   "name": "python",
   "nbconvert_exporter": "python",
   "pygments_lexer": "ipython3",
   "version": "3.11.7"
  }
 },
 "nbformat": 4,
 "nbformat_minor": 5
}
