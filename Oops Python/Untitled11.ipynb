{
 "cells": [
  {
   "cell_type": "code",
   "execution_count": 2,
   "id": "7b23df2d-c168-47a0-8da4-6620c611ef20",
   "metadata": {},
   "outputs": [],
   "source": [
    "class Grandparent:\n",
    "    grand_parent_variable = 50\n",
    "    def greet(self):\n",
    "        print(\"Hello from Grandparent\")\n",
    "\n",
    "class Parent(Grandparent):\n",
    "    parent_variable = 40\n",
    "    def talk(self):\n",
    "        print(\"Talking from Parent\")\n",
    "\n",
    "class Child(Parent):\n",
    "    child_variable = 20\n",
    "    def play(self):\n",
    "        print(\"Playing from Child\")"
   ]
  },
  {
   "cell_type": "code",
   "execution_count": 3,
   "id": "c0afd107-889c-4350-a4cb-b3534c214cab",
   "metadata": {},
   "outputs": [],
   "source": [
    "Grandparent = Grandparent()"
   ]
  },
  {
   "cell_type": "code",
   "execution_count": 4,
   "id": "6457b8e9-17a8-429e-a48a-c26b4bfc5d48",
   "metadata": {},
   "outputs": [
    {
     "data": {
      "text/plain": [
       "50"
      ]
     },
     "execution_count": 4,
     "metadata": {},
     "output_type": "execute_result"
    }
   ],
   "source": [
    "Grandparent.grand_parent_variable"
   ]
  },
  {
   "cell_type": "code",
   "execution_count": 5,
   "id": "9918a1a6-18da-48c9-851e-54943f0e8104",
   "metadata": {},
   "outputs": [],
   "source": [
    "parent = Parent()"
   ]
  },
  {
   "cell_type": "code",
   "execution_count": 6,
   "id": "9f08cde5-5f11-4fc9-b60e-61686aaba285",
   "metadata": {},
   "outputs": [
    {
     "name": "stdout",
     "output_type": "stream",
     "text": [
      "Hello from Grandparent\n"
     ]
    }
   ],
   "source": [
    "parent.greet()"
   ]
  },
  {
   "cell_type": "code",
   "execution_count": 7,
   "id": "6fe5b470-96a7-4db7-8684-a0b5adae0c39",
   "metadata": {},
   "outputs": [],
   "source": [
    "child = Child()"
   ]
  },
  {
   "cell_type": "code",
   "execution_count": 8,
   "id": "2a717b04-c81e-42d7-aad4-869a4ff477ef",
   "metadata": {},
   "outputs": [
    {
     "name": "stdout",
     "output_type": "stream",
     "text": [
      "Hello from Grandparent\n"
     ]
    }
   ],
   "source": [
    "child.greet()"
   ]
  },
  {
   "cell_type": "code",
   "execution_count": null,
   "id": "f0add2bd-f3a9-4366-b87f-7776d9542516",
   "metadata": {},
   "outputs": [],
   "source": []
  }
 ],
 "metadata": {
  "kernelspec": {
   "display_name": "Python 3 (ipykernel)",
   "language": "python",
   "name": "python3"
  },
  "language_info": {
   "codemirror_mode": {
    "name": "ipython",
    "version": 3
   },
   "file_extension": ".py",
   "mimetype": "text/x-python",
   "name": "python",
   "nbconvert_exporter": "python",
   "pygments_lexer": "ipython3",
   "version": "3.11.7"
  }
 },
 "nbformat": 4,
 "nbformat_minor": 5
}
