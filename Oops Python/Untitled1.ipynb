{
 "cells": [
  {
   "cell_type": "code",
   "execution_count": 26,
   "id": "0c56edf8-11b8-420a-a1a3-b13708210e6f",
   "metadata": {},
   "outputs": [],
   "source": [
    "def string_splitter(function):\n",
    "    def wrapper():\n",
    "        value = function()\n",
    "        splitted_string = value.split(\"_\")\n",
    "        return splitted_string\n",
    "\n",
    "    return wrapper\n",
    "def string_upper_converter(function):\n",
    "    def wrapper():\n",
    "        value = function()\n",
    "        upper_string = value.upper()\n",
    "        return upper_string\n",
    "\n",
    "    return wrapper        \n",
    "        \n",
    "        \n",
    "\n",
    "# @string_splitter\n",
    "@string_upper_converter\n",
    "@string_splitter\n",
    "def name_printer():\n",
    "    return \"Rohit.kumar@gmail.com\""
   ]
  },
  {
   "cell_type": "code",
   "execution_count": 27,
   "id": "e46286cb-de9a-4ed4-aa38-7a801fa25dfa",
   "metadata": {},
   "outputs": [
    {
     "ename": "AttributeError",
     "evalue": "'list' object has no attribute 'upper'",
     "output_type": "error",
     "traceback": [
      "\u001b[1;31m---------------------------------------------------------------------------\u001b[0m",
      "\u001b[1;31mAttributeError\u001b[0m                            Traceback (most recent call last)",
      "Cell \u001b[1;32mIn[27], line 1\u001b[0m\n\u001b[1;32m----> 1\u001b[0m name_printer()\n",
      "Cell \u001b[1;32mIn[26], line 11\u001b[0m, in \u001b[0;36mstring_upper_converter.<locals>.wrapper\u001b[1;34m()\u001b[0m\n\u001b[0;32m      9\u001b[0m \u001b[38;5;28;01mdef\u001b[39;00m \u001b[38;5;21mwrapper\u001b[39m():\n\u001b[0;32m     10\u001b[0m     value \u001b[38;5;241m=\u001b[39m function()\n\u001b[1;32m---> 11\u001b[0m     upper_string \u001b[38;5;241m=\u001b[39m value\u001b[38;5;241m.\u001b[39mupper()\n\u001b[0;32m     12\u001b[0m     \u001b[38;5;28;01mreturn\u001b[39;00m upper_string\n",
      "\u001b[1;31mAttributeError\u001b[0m: 'list' object has no attribute 'upper'"
     ]
    }
   ],
   "source": [
    "name_printer()"
   ]
  },
  {
   "cell_type": "code",
   "execution_count": 6,
   "id": "d1e176ab-9084-44c5-b585-e2e75961e411",
   "metadata": {},
   "outputs": [],
   "source": [
    "name_printer = string_splitter(name_printer)"
   ]
  },
  {
   "cell_type": "code",
   "execution_count": 7,
   "id": "8499224c-8fb2-41d8-8690-04f165458741",
   "metadata": {},
   "outputs": [
    {
     "data": {
      "text/plain": [
       "['Rohit', 'Kumar']"
      ]
     },
     "execution_count": 7,
     "metadata": {},
     "output_type": "execute_result"
    }
   ],
   "source": [
    "name_printer()"
   ]
  },
  {
   "cell_type": "code",
   "execution_count": null,
   "id": "ddd68de3-b7da-43d0-90db-f6028f48a42e",
   "metadata": {},
   "outputs": [],
   "source": [
    "rohit_kumar.upper()\n",
    "ROHIT_KUMAR.split()\n",
    "['ROHIT', 'KUMAR']"
   ]
  },
  {
   "cell_type": "code",
   "execution_count": 23,
   "id": "adfbfeb1-3269-459d-8dfc-d255bcb503a3",
   "metadata": {},
   "outputs": [],
   "source": [
    "splitted = 'rohit_kumar'.split()"
   ]
  },
  {
   "cell_type": "code",
   "execution_count": 24,
   "id": "33c01280-34b2-4268-a90b-96376402f2fa",
   "metadata": {},
   "outputs": [
    {
     "data": {
      "text/plain": [
       "['rohit_kumar']"
      ]
     },
     "execution_count": 24,
     "metadata": {},
     "output_type": "execute_result"
    }
   ],
   "source": [
    "splitted"
   ]
  },
  {
   "cell_type": "code",
   "execution_count": 25,
   "id": "1eaf32c7-eac8-4467-b7ac-b1ae76fdb105",
   "metadata": {},
   "outputs": [
    {
     "ename": "AttributeError",
     "evalue": "'list' object has no attribute 'upper'",
     "output_type": "error",
     "traceback": [
      "\u001b[1;31m---------------------------------------------------------------------------\u001b[0m",
      "\u001b[1;31mAttributeError\u001b[0m                            Traceback (most recent call last)",
      "Cell \u001b[1;32mIn[25], line 1\u001b[0m\n\u001b[1;32m----> 1\u001b[0m splitted\u001b[38;5;241m.\u001b[39mupper(\u001b[38;5;124m\"\u001b[39m\u001b[38;5;124m_\u001b[39m\u001b[38;5;124m\"\u001b[39m)\n",
      "\u001b[1;31mAttributeError\u001b[0m: 'list' object has no attribute 'upper'"
     ]
    }
   ],
   "source": [
    "splitted.upper(\"_\")"
   ]
  },
  {
   "cell_type": "code",
   "execution_count": 31,
   "id": "7f2865ea-9b97-47f2-94f4-fe6c0a13ba4f",
   "metadata": {},
   "outputs": [],
   "source": [
    "name = 'ram_kumar'"
   ]
  },
  {
   "cell_type": "code",
   "execution_count": 33,
   "id": "e7f64cbe-ad72-4476-93c7-1dd148f7a807",
   "metadata": {},
   "outputs": [
    {
     "data": {
      "text/plain": [
       "['RAM', 'KUMAR']"
      ]
     },
     "execution_count": 33,
     "metadata": {},
     "output_type": "execute_result"
    }
   ],
   "source": [
    "name.upper().split(\"_\")"
   ]
  },
  {
   "cell_type": "code",
   "execution_count": 35,
   "id": "e5344d0f-2197-40f1-bf3b-30d051981791",
   "metadata": {},
   "outputs": [],
   "source": [
    "name2 = 'ram_kumar'"
   ]
  },
  {
   "cell_type": "code",
   "execution_count": 42,
   "id": "3067475d-de59-46ed-8168-72024ffeab2b",
   "metadata": {},
   "outputs": [
    {
     "name": "stdout",
     "output_type": "stream",
     "text": [
      "RAM\n",
      "KUMAR\n"
     ]
    }
   ],
   "source": [
    "print(name2.split(\"_\")[0].upper())\n",
    "print(name2.split(\"_\")[1].upper())"
   ]
  },
  {
   "cell_type": "code",
   "execution_count": 38,
   "id": "f3d007c7-5984-48f4-ae82-91d7e0ad46ec",
   "metadata": {},
   "outputs": [],
   "source": [
    "list1 = [\"rohit\"]"
   ]
  },
  {
   "cell_type": "code",
   "execution_count": 39,
   "id": "721a0125-38aa-4438-9b6c-e7f658e71ade",
   "metadata": {},
   "outputs": [
    {
     "ename": "AttributeError",
     "evalue": "'list' object has no attribute 'upper'",
     "output_type": "error",
     "traceback": [
      "\u001b[1;31m---------------------------------------------------------------------------\u001b[0m",
      "\u001b[1;31mAttributeError\u001b[0m                            Traceback (most recent call last)",
      "Cell \u001b[1;32mIn[39], line 1\u001b[0m\n\u001b[1;32m----> 1\u001b[0m list1\u001b[38;5;241m.\u001b[39mupper()\n",
      "\u001b[1;31mAttributeError\u001b[0m: 'list' object has no attribute 'upper'"
     ]
    }
   ],
   "source": [
    "list1.upper()"
   ]
  },
  {
   "cell_type": "code",
   "execution_count": 45,
   "id": "5fc1ad18-6a53-48e9-891d-5156e451de8c",
   "metadata": {},
   "outputs": [
    {
     "data": {
      "text/plain": [
       "['R', 'O', 'H', 'I', 'T']"
      ]
     },
     "execution_count": 45,
     "metadata": {},
     "output_type": "execute_result"
    }
   ],
   "source": [
    "name2 = 'rohit_kumar'\n",
    "list(name2.split(\"_\")[0].upper())"
   ]
  },
  {
   "cell_type": "code",
   "execution_count": 48,
   "id": "271700bc-b99d-4a5f-b49b-650e518d2fd9",
   "metadata": {},
   "outputs": [],
   "source": [
    "name2 = 'rohit.kumar@gmail.com'"
   ]
  },
  {
   "cell_type": "code",
   "execution_count": 56,
   "id": "6a833c46-96a9-4ffe-9d04-e6550b2f0510",
   "metadata": {},
   "outputs": [
    {
     "name": "stdout",
     "output_type": "stream",
     "text": [
      "ROHIT KUMAR\n"
     ]
    }
   ],
   "source": [
    "print(name2.split(\"@\")[0].split(\".\")[0].upper() ,name2.split(\"@\")[0].split(\".\")[1].upper() )"
   ]
  },
  {
   "cell_type": "code",
   "execution_count": null,
   "id": "0ea30033-c7ab-4cbc-92f8-bdc143ab4040",
   "metadata": {},
   "outputs": [],
   "source": []
  }
 ],
 "metadata": {
  "kernelspec": {
   "display_name": "Python 3 (ipykernel)",
   "language": "python",
   "name": "python3"
  },
  "language_info": {
   "codemirror_mode": {
    "name": "ipython",
    "version": 3
   },
   "file_extension": ".py",
   "mimetype": "text/x-python",
   "name": "python",
   "nbconvert_exporter": "python",
   "pygments_lexer": "ipython3",
   "version": "3.11.7"
  }
 },
 "nbformat": 4,
 "nbformat_minor": 5
}
