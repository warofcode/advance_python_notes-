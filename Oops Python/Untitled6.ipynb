{
 "cells": [
  {
   "cell_type": "code",
   "execution_count": 33,
   "id": "18350d7b-afbd-416d-a128-8f83a422bfe6",
   "metadata": {},
   "outputs": [],
   "source": [
    "def capitalization(function):\n",
    "    def wrapper():\n",
    "        value = function().split()\n",
    "        return value\n",
    "    return wrapper    \n",
    "\n",
    "\n",
    "# @capitalization\n",
    "def greetings():\n",
    "    return \"hi how are you ?\""
   ]
  },
  {
   "cell_type": "code",
   "execution_count": 34,
   "id": "a2d5f71d-2cd5-41be-b69e-e9a6e69b979b",
   "metadata": {},
   "outputs": [
    {
     "data": {
      "text/plain": [
       "'hi how are you ?'"
      ]
     },
     "execution_count": 34,
     "metadata": {},
     "output_type": "execute_result"
    }
   ],
   "source": [
    "greetings()"
   ]
  },
  {
   "cell_type": "code",
   "execution_count": 35,
   "id": "d6b25df5-a37d-46fd-8315-24fdbd45f525",
   "metadata": {},
   "outputs": [],
   "source": [
    "greetings = capitalization(greetings)"
   ]
  },
  {
   "cell_type": "code",
   "execution_count": 36,
   "id": "2e0a3daa-56ee-41e3-9c35-8e09e50a8a6e",
   "metadata": {},
   "outputs": [
    {
     "data": {
      "text/plain": [
       "['hi', 'how', 'are', 'you', '?']"
      ]
     },
     "execution_count": 36,
     "metadata": {},
     "output_type": "execute_result"
    }
   ],
   "source": [
    "greetings()"
   ]
  },
  {
   "cell_type": "code",
   "execution_count": 38,
   "id": "b23af8e2-7b0c-434f-a8f5-f33f5c6c9b0d",
   "metadata": {},
   "outputs": [
    {
     "name": "stdout",
     "output_type": "stream",
     "text": [
      "5\n",
      "<bound method circle.diameter of <__main__.circle object at 0x0000019665892C90>>\n",
      "<bound method circle.diameter of <__main__.circle object at 0x0000019665892C90>>\n"
     ]
    }
   ],
   "source": [
    "class circle:\n",
    "    def __init__(self,radius) -> None:\n",
    "        self.radius = radius\n",
    "\n",
    "\n",
    "    def diameter(self):\n",
    "\n",
    "        return self.radius *2    \n",
    "    \n",
    "    def area(self):\n",
    "\n",
    "        return 3.14*(self.radius **2)\n",
    "    \n",
    "circle_object = circle(5)  \n",
    "\n",
    "print(circle_object.radius) # we capture radius attibute with the help of class object\n",
    "\n",
    "print(circle_object.diameter) # same thing we want to get from diameter.but diameter is a function so it will ask us to call\n",
    "print(circle_object.diameter)  "
   ]
  },
  {
   "cell_type": "code",
   "execution_count": 39,
   "id": "33d81f77-159c-4376-8ef0-79196766ff92",
   "metadata": {},
   "outputs": [
    {
     "name": "stdout",
     "output_type": "stream",
     "text": [
      "5\n"
     ]
    }
   ],
   "source": [
    "print(circle_object.radius)"
   ]
  },
  {
   "cell_type": "code",
   "execution_count": null,
   "id": "41927729-0ba9-45d9-a28e-3d132b1fef7b",
   "metadata": {},
   "outputs": [],
   "source": []
  }
 ],
 "metadata": {
  "kernelspec": {
   "display_name": "Python 3 (ipykernel)",
   "language": "python",
   "name": "python3"
  },
  "language_info": {
   "codemirror_mode": {
    "name": "ipython",
    "version": 3
   },
   "file_extension": ".py",
   "mimetype": "text/x-python",
   "name": "python",
   "nbconvert_exporter": "python",
   "pygments_lexer": "ipython3",
   "version": "3.11.7"
  }
 },
 "nbformat": 4,
 "nbformat_minor": 5
}
