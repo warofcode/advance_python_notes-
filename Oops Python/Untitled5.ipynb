{
 "cells": [
  {
   "cell_type": "code",
   "execution_count": 12,
   "id": "98f2ba3a-b4aa-45a2-bf0c-b4a4d72dff10",
   "metadata": {},
   "outputs": [],
   "source": [
    "class REXGALAXY:\n",
    "    holidays = \"saturday\"\n",
    "    \n",
    "    def __init__(self,name1,college,course):\n",
    "        self.name= name1\n",
    "        self.college = college\n",
    "        self.course = course\n",
    "        \n",
    "        \n",
    "\n",
    "    def student_details(self):\n",
    "        return f\" details of {self.name1} is {self.course}\"\n",
    "    \n",
    "    @staticmethod \n",
    "    def greeting_printer(sting):\n",
    "        \n",
    "        return f\"Hello good morning {sting} \""
   ]
  },
  {
   "cell_type": "code",
   "execution_count": 13,
   "id": "30973e1f-1318-4fe8-9925-daccc75c7ea7",
   "metadata": {},
   "outputs": [],
   "source": [
    "a = REXGALAXY(\"now\",\"this\",\"how\")"
   ]
  },
  {
   "cell_type": "code",
   "execution_count": 14,
   "id": "29ddebb6-bd38-4b5f-a1ed-6bc08e4561e1",
   "metadata": {},
   "outputs": [
    {
     "data": {
      "text/plain": [
       "'Hello good morning rohit '"
      ]
     },
     "execution_count": 14,
     "metadata": {},
     "output_type": "execute_result"
    }
   ],
   "source": [
    "a.greeting_printer(\"rohit\")"
   ]
  },
  {
   "cell_type": "code",
   "execution_count": 18,
   "id": "5d747d96-6930-4b86-9920-4481108468fe",
   "metadata": {},
   "outputs": [
    {
     "ename": "IndentationError",
     "evalue": "expected an indented block after class definition on line 3 (1867324263.py, line 12)",
     "output_type": "error",
     "traceback": [
      "\u001b[1;36m  Cell \u001b[1;32mIn[18], line 12\u001b[1;36m\u001b[0m\n\u001b[1;33m    class Rectangle(Shape):\u001b[0m\n\u001b[1;37m    ^\u001b[0m\n\u001b[1;31mIndentationError\u001b[0m\u001b[1;31m:\u001b[0m expected an indented block after class definition on line 3\n"
     ]
    }
   ],
   "source": [
    "from abc import ABC, abstractmethod\n",
    "\n",
    "class Shape(ABC):\n",
    "    # @abstractmethod\n",
    "    # def calculate_area(self):\n",
    "    #     pass\n",
    "\n",
    "    # @abstractmethod\n",
    "    # def calculate_perimeter(self):\n",
    "    #     pass\n",
    "\n",
    "class Rectangle(Shape):\n",
    "    def __init__(self, length, width):\n",
    "        self.length = length\n",
    "        self.width = width\n",
    "\n",
    "    def calculate_area(self):\n",
    "        return self.length * self.width\n",
    "\n",
    "    def calculate_perimeter(self):\n",
    "        return 2 * (self.length + self.width)\n",
    "\n",
    "class Circle(Shape):\n",
    "    def __init__(self, radius):\n",
    "        self.radius = radius\n",
    "\n",
    "    def calculate_area(self):\n",
    "        return 3.14159 * (self.radius ** 2)\n",
    "\n",
    "    def calculate_perimeter(self):\n",
    "        return 2 * 3.14159 * self.radius\n",
    "\n",
    "class Triangle(Shape):\n",
    "    def __init__(self, base, height):\n",
    "        self.base = base\n",
    "        self.height = height\n",
    "\n",
    "    def calculate_area(self):\n",
    "        return 0.5 * self.base * self.height\n",
    "\n",
    "    # def calculate_perimeter(self):\n",
    "    #     # Assuming it's an equilateral triangle\n",
    "    #     return 3 * self.base\n",
    "\n",
    "# Usage example\n",
    "rectangle = Rectangle(4, 6)\n",
    "circle = Circle(3)\n",
    "triangle = Triangle(5, 7)\n",
    "\n",
    "print(rectangle.calculate_area())        # Output: 24\n",
    "print(rectangle.calculate_perimeter())   # Output: 20\n",
    "\n",
    "print(circle.calculate_area())           # Output: 28.27346\n",
    "print(circle.calculate_perimeter())      # Output: 18.849539999999998\n",
    "\n",
    "print(triangle.calculate_area())         # Output: 17.5\n",
    "print(triangle.calculate_perimeter())    # Output: 15\n"
   ]
  },
  {
   "cell_type": "code",
   "execution_count": null,
   "id": "c78484f6-2931-4a6a-bca8-d768f15e39d3",
   "metadata": {},
   "outputs": [],
   "source": []
  },
  {
   "cell_type": "code",
   "execution_count": null,
   "id": "e5d52f73-5ddf-4f9e-a809-730ab98dc9a6",
   "metadata": {},
   "outputs": [],
   "source": []
  },
  {
   "cell_type": "code",
   "execution_count": null,
   "id": "bcb9966b-0f90-4057-956c-7a3f28752bdd",
   "metadata": {},
   "outputs": [],
   "source": []
  },
  {
   "cell_type": "code",
   "execution_count": null,
   "id": "6f92b435-9237-486b-a6fb-4378ca235a4e",
   "metadata": {},
   "outputs": [],
   "source": []
  }
 ],
 "metadata": {
  "kernelspec": {
   "display_name": "Python 3 (ipykernel)",
   "language": "python",
   "name": "python3"
  },
  "language_info": {
   "codemirror_mode": {
    "name": "ipython",
    "version": 3
   },
   "file_extension": ".py",
   "mimetype": "text/x-python",
   "name": "python",
   "nbconvert_exporter": "python",
   "pygments_lexer": "ipython3",
   "version": "3.11.7"
  }
 },
 "nbformat": 4,
 "nbformat_minor": 5
}
