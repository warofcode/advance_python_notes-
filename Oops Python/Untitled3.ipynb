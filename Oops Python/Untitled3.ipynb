{
 "cells": [
  {
   "cell_type": "code",
   "execution_count": 1,
   "id": "da7e5a75-254a-4787-9e8c-9d1636652afd",
   "metadata": {},
   "outputs": [],
   "source": [
    "import math"
   ]
  },
  {
   "cell_type": "code",
   "execution_count": 2,
   "id": "dc065a3d-0771-4f4b-8423-ab2129b011e2",
   "metadata": {},
   "outputs": [
    {
     "data": {
      "text/plain": [
       "120"
      ]
     },
     "execution_count": 2,
     "metadata": {},
     "output_type": "execute_result"
    }
   ],
   "source": [
    "math.factorial(5)"
   ]
  },
  {
   "cell_type": "code",
   "execution_count": 3,
   "id": "c530b996-5996-4b09-8b01-39a8a55f2206",
   "metadata": {},
   "outputs": [
    {
     "data": {
      "text/plain": [
       "'Find n!.\\n\\nRaise a ValueError if x is negative or non-integral.'"
      ]
     },
     "execution_count": 3,
     "metadata": {},
     "output_type": "execute_result"
    }
   ],
   "source": [
    "math.factorial.__doc__"
   ]
  },
  {
   "cell_type": "code",
   "execution_count": 4,
   "id": "c947be42-c12c-4f5e-91a2-771194290be1",
   "metadata": {},
   "outputs": [
    {
     "data": {
      "text/plain": [
       "1.4876550949064553"
      ]
     },
     "execution_count": 4,
     "metadata": {},
     "output_type": "execute_result"
    }
   ],
   "source": [
    "math.atan(12)"
   ]
  },
  {
   "cell_type": "code",
   "execution_count": 5,
   "id": "4f855524-b251-4101-99fd-4c776b51fc31",
   "metadata": {},
   "outputs": [
    {
     "ename": "NameError",
     "evalue": "name 'factorial' is not defined",
     "output_type": "error",
     "traceback": [
      "\u001b[1;31m---------------------------------------------------------------------------\u001b[0m",
      "\u001b[1;31mNameError\u001b[0m                                 Traceback (most recent call last)",
      "Cell \u001b[1;32mIn[5], line 1\u001b[0m\n\u001b[1;32m----> 1\u001b[0m factorial()\n",
      "\u001b[1;31mNameError\u001b[0m: name 'factorial' is not defined"
     ]
    }
   ],
   "source": [
    "factorial()"
   ]
  },
  {
   "cell_type": "code",
   "execution_count": 19,
   "id": "55018280-a4a3-451a-a125-a7d64bff8a3a",
   "metadata": {},
   "outputs": [],
   "source": [
    "this = \"rohit\"\n",
    "def factorial(num):\n",
    "    \"\"\"Find n!.\\n\\nRaise a ValueError if x is negative or non-integral\"\"\"\n",
    "    fact = 1\n",
    "    \n",
    "    for i in range(1,num+1):\n",
    "        \n",
    "        fact = fact * i\n",
    "    return fact     \n",
    "    \n",
    "    \n",
    "    "
   ]
  },
  {
   "cell_type": "code",
   "execution_count": 20,
   "id": "643307e4-baa4-46a2-8745-f25b3545d13d",
   "metadata": {},
   "outputs": [
    {
     "data": {
      "text/plain": [
       "120"
      ]
     },
     "execution_count": 20,
     "metadata": {},
     "output_type": "execute_result"
    }
   ],
   "source": [
    "factorial(5)"
   ]
  },
  {
   "cell_type": "code",
   "execution_count": 21,
   "id": "ae4ce4f0-6fd7-4e01-9346-ca610329af74",
   "metadata": {},
   "outputs": [
    {
     "data": {
      "text/plain": [
       "'Find n!.\\n\\nRaise a ValueError if x is negative or non-integral'"
      ]
     },
     "execution_count": 21,
     "metadata": {},
     "output_type": "execute_result"
    }
   ],
   "source": [
    "factorial.__doc__"
   ]
  },
  {
   "cell_type": "code",
   "execution_count": null,
   "id": "9d3d231e-dbbf-486c-8d54-5428794b720e",
   "metadata": {},
   "outputs": [],
   "source": []
  },
  {
   "cell_type": "code",
   "execution_count": 22,
   "id": "913645f8-fc8e-493c-9615-ae45aaa83687",
   "metadata": {},
   "outputs": [],
   "source": [
    "class DUCAT:\n",
    "    week_off = \"sunday\"\n",
    "\n",
    "    "
   ]
  },
  {
   "cell_type": "code",
   "execution_count": 25,
   "id": "f28a6640-a0b6-4ba0-baf1-7860b02d1a3e",
   "metadata": {},
   "outputs": [],
   "source": [
    "avdesh = DUCAT()\n",
    "pratap = DUCAT()"
   ]
  },
  {
   "cell_type": "code",
   "execution_count": 26,
   "id": "e8f22115-418f-4a6f-8dd0-b332f8d45b1e",
   "metadata": {},
   "outputs": [
    {
     "data": {
      "text/plain": [
       "1849056970256"
      ]
     },
     "execution_count": 26,
     "metadata": {},
     "output_type": "execute_result"
    }
   ],
   "source": [
    "id(avdesh)"
   ]
  },
  {
   "cell_type": "code",
   "execution_count": 28,
   "id": "1e533e4c-b0b9-446e-b004-f0f26664408f",
   "metadata": {},
   "outputs": [
    {
     "data": {
      "text/plain": [
       "1849056972048"
      ]
     },
     "execution_count": 28,
     "metadata": {},
     "output_type": "execute_result"
    }
   ],
   "source": [
    "id(pratap)"
   ]
  },
  {
   "cell_type": "code",
   "execution_count": 29,
   "id": "1604a0b8-2630-46de-8dd8-5cc31ba77de3",
   "metadata": {},
   "outputs": [
    {
     "data": {
      "text/plain": [
       "'sunday'"
      ]
     },
     "execution_count": 29,
     "metadata": {},
     "output_type": "execute_result"
    }
   ],
   "source": [
    "avdesh.week_off"
   ]
  },
  {
   "cell_type": "code",
   "execution_count": 32,
   "id": "ded7dfe5-b732-4e9d-818d-5c946b4af792",
   "metadata": {},
   "outputs": [
    {
     "data": {
      "text/plain": [
       "'sunday'"
      ]
     },
     "execution_count": 32,
     "metadata": {},
     "output_type": "execute_result"
    }
   ],
   "source": [
    "pratap.week_off"
   ]
  },
  {
   "cell_type": "code",
   "execution_count": 33,
   "id": "045ad0f4-e1c4-4fe4-8966-77e2d1953405",
   "metadata": {},
   "outputs": [
    {
     "data": {
      "text/plain": [
       "'sunday'"
      ]
     },
     "execution_count": 33,
     "metadata": {},
     "output_type": "execute_result"
    }
   ],
   "source": [
    "DUCAT.week_off    "
   ]
  },
  {
   "cell_type": "code",
   "execution_count": 34,
   "id": "faf559b1-1f07-469d-91e5-22d8f0968b84",
   "metadata": {},
   "outputs": [
    {
     "data": {
      "text/plain": [
       "{}"
      ]
     },
     "execution_count": 34,
     "metadata": {},
     "output_type": "execute_result"
    }
   ],
   "source": [
    "pratap.__dict__"
   ]
  },
  {
   "cell_type": "code",
   "execution_count": 35,
   "id": "5a577f6c-9dcb-4a32-a5af-d708f72db523",
   "metadata": {},
   "outputs": [
    {
     "data": {
      "text/plain": [
       "{}"
      ]
     },
     "execution_count": 35,
     "metadata": {},
     "output_type": "execute_result"
    }
   ],
   "source": [
    "avdesh.__dict__"
   ]
  },
  {
   "cell_type": "code",
   "execution_count": 36,
   "id": "b087860f-9405-406e-a278-da9969308d53",
   "metadata": {},
   "outputs": [
    {
     "data": {
      "text/plain": [
       "mappingproxy({'__module__': '__main__',\n",
       "              'week_off': 'sunday',\n",
       "              '__dict__': <attribute '__dict__' of 'DUCAT' objects>,\n",
       "              '__weakref__': <attribute '__weakref__' of 'DUCAT' objects>,\n",
       "              '__doc__': None})"
      ]
     },
     "execution_count": 36,
     "metadata": {},
     "output_type": "execute_result"
    }
   ],
   "source": [
    "DUCAT.__dict__"
   ]
  },
  {
   "cell_type": "code",
   "execution_count": 37,
   "id": "0ae75656-e80c-4966-9702-a47350b653d2",
   "metadata": {},
   "outputs": [
    {
     "name": "stdout",
     "output_type": "stream",
     "text": [
      "__main__\n"
     ]
    }
   ],
   "source": [
    "print(__name__)"
   ]
  },
  {
   "cell_type": "code",
   "execution_count": 39,
   "id": "6f8c09e2-ff09-41bc-b390-1450d626743a",
   "metadata": {},
   "outputs": [],
   "source": [
    "avdesh.week_off = \"saturday\""
   ]
  },
  {
   "cell_type": "code",
   "execution_count": 40,
   "id": "879703e1-29d7-4a4f-a709-c3b7cf31b83d",
   "metadata": {},
   "outputs": [
    {
     "data": {
      "text/plain": [
       "{'week_off': 'saturday'}"
      ]
     },
     "execution_count": 40,
     "metadata": {},
     "output_type": "execute_result"
    }
   ],
   "source": [
    "avdesh.__dict__"
   ]
  },
  {
   "cell_type": "code",
   "execution_count": 41,
   "id": "8a54b7c8-c14a-4ce6-9ef9-080c94be05ef",
   "metadata": {},
   "outputs": [
    {
     "data": {
      "text/plain": [
       "{}"
      ]
     },
     "execution_count": 41,
     "metadata": {},
     "output_type": "execute_result"
    }
   ],
   "source": [
    "pratap.__dict__"
   ]
  },
  {
   "cell_type": "code",
   "execution_count": 42,
   "id": "b6cf992b-fd5a-45a2-9268-4da4fc14c23a",
   "metadata": {},
   "outputs": [
    {
     "data": {
      "text/plain": [
       "'sunday'"
      ]
     },
     "execution_count": 42,
     "metadata": {},
     "output_type": "execute_result"
    }
   ],
   "source": [
    "pratap.week_off"
   ]
  },
  {
   "cell_type": "code",
   "execution_count": 43,
   "id": "c14fc479-c34d-48ff-88c0-5fc31b9dd4be",
   "metadata": {},
   "outputs": [],
   "source": [
    "pratap.week_off = \"fridaY\""
   ]
  },
  {
   "cell_type": "code",
   "execution_count": 44,
   "id": "21b53a26-bb28-4bff-b6fb-58ffc1ac6770",
   "metadata": {},
   "outputs": [
    {
     "data": {
      "text/plain": [
       "{'week_off': 'fridaY'}"
      ]
     },
     "execution_count": 44,
     "metadata": {},
     "output_type": "execute_result"
    }
   ],
   "source": [
    "pratap.__dict__"
   ]
  },
  {
   "cell_type": "code",
   "execution_count": 46,
   "id": "aa3b3940-48df-43c4-8b3d-45033f590792",
   "metadata": {},
   "outputs": [
    {
     "data": {
      "text/plain": [
       "mappingproxy({'__module__': '__main__',\n",
       "              'week_off': 'sunday',\n",
       "              '__dict__': <attribute '__dict__' of 'DUCAT' objects>,\n",
       "              '__weakref__': <attribute '__weakref__' of 'DUCAT' objects>,\n",
       "              '__doc__': None})"
      ]
     },
     "execution_count": 46,
     "metadata": {},
     "output_type": "execute_result"
    }
   ],
   "source": [
    "DUCAT.__dict__"
   ]
  },
  {
   "cell_type": "code",
   "execution_count": 66,
   "id": "7eda631a-91c4-41c3-8f99-5f7e5dcb5d96",
   "metadata": {},
   "outputs": [],
   "source": [
    "class DUCAT:\n",
    "    week_off = \"sunday\"\n",
    "    def __init__(self,week_off):\n",
    "        self.week_off = week_off\n",
    "        pass"
   ]
  },
  {
   "cell_type": "code",
   "execution_count": 67,
   "id": "51b20cdc-d42e-486c-8419-68491a474f80",
   "metadata": {},
   "outputs": [],
   "source": [
    "rohit = DUCAT(\"only monday\")"
   ]
  },
  {
   "cell_type": "code",
   "execution_count": 68,
   "id": "9a43f7cb-b52f-45d6-8e5d-52659124a8a8",
   "metadata": {},
   "outputs": [
    {
     "data": {
      "text/plain": [
       "'only monday'"
      ]
     },
     "execution_count": 68,
     "metadata": {},
     "output_type": "execute_result"
    }
   ],
   "source": [
    "rohit.week_off"
   ]
  },
  {
   "cell_type": "code",
   "execution_count": null,
   "id": "4613f061-c24d-459d-99f8-a7c7cb8c7c54",
   "metadata": {},
   "outputs": [],
   "source": [
    "what is class\n",
    "what is class variable\n",
    "what is instance variable\n",
    "what is dunder methods\n",
    "what is magic methods\n",
    "what is __init__\n",
    "what is self."
   ]
  }
 ],
 "metadata": {
  "kernelspec": {
   "display_name": "Python 3 (ipykernel)",
   "language": "python",
   "name": "python3"
  },
  "language_info": {
   "codemirror_mode": {
    "name": "ipython",
    "version": 3
   },
   "file_extension": ".py",
   "mimetype": "text/x-python",
   "name": "python",
   "nbconvert_exporter": "python",
   "pygments_lexer": "ipython3",
   "version": "3.11.7"
  }
 },
 "nbformat": 4,
 "nbformat_minor": 5
}
