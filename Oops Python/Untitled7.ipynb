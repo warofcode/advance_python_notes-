{
 "cells": [
  {
   "cell_type": "code",
   "execution_count": 8,
   "id": "df38a900-72d1-4663-83be-dea8612d2a93",
   "metadata": {},
   "outputs": [
    {
     "name": "stdout",
     "output_type": "stream",
     "text": [
      "5\n",
      "10\n",
      "10\n"
     ]
    }
   ],
   "source": [
    "class circle:\n",
    "    def __init__(self,radius) -> None:\n",
    "        self.radius = radius\n",
    "\n",
    "    @property\n",
    "    def diameter(self):\n",
    "\n",
    "        return self.radius *2    \n",
    "    @property\n",
    "    def area(self):\n",
    "\n",
    "        return 3.14*(self.radius **2)\n",
    "    \n",
    "circle_object = circle(5)  \n",
    "\n",
    "print(circle_object.radius) # we capture radius attibute with the help of class object\n",
    "\n",
    "print(circle_object.diameter) # same thing we want to get from diameter.but diameter is a function so it will ask us to call\n",
    "print(circle_object.diameter) "
   ]
  },
  {
   "cell_type": "code",
   "execution_count": 7,
   "id": "f61c0d5c-ab30-4ce0-9186-ba4ef239ccd7",
   "metadata": {},
   "outputs": [
    {
     "name": "stderr",
     "output_type": "stream",
     "text": [
      "<>:1: SyntaxWarning: 'int' object is not callable; perhaps you missed a comma?\n",
      "<>:1: SyntaxWarning: 'int' object is not callable; perhaps you missed a comma?\n",
      "C:\\Users\\rkt65\\AppData\\Local\\Temp\\ipykernel_3252\\1624544280.py:1: SyntaxWarning: 'int' object is not callable; perhaps you missed a comma?\n",
      "  10()\n"
     ]
    },
    {
     "ename": "TypeError",
     "evalue": "'int' object is not callable",
     "output_type": "error",
     "traceback": [
      "\u001b[1;31m---------------------------------------------------------------------------\u001b[0m",
      "\u001b[1;31mTypeError\u001b[0m                                 Traceback (most recent call last)",
      "Cell \u001b[1;32mIn[7], line 1\u001b[0m\n\u001b[1;32m----> 1\u001b[0m \u001b[38;5;241m10\u001b[39m()\n",
      "\u001b[1;31mTypeError\u001b[0m: 'int' object is not callable"
     ]
    }
   ],
   "source": [
    "10()"
   ]
  },
  {
   "cell_type": "code",
   "execution_count": 13,
   "id": "1175a1d0-788f-45dc-bea8-b6b6139f3a45",
   "metadata": {},
   "outputs": [],
   "source": [
    "class REXGALAXY:\n",
    "    holidays = \"saturday\"\n",
    "    \n",
    "    def __init__(self,name,college,course):\n",
    "        self.name= name\n",
    "        self.college = college\n",
    "        self.course = course\n",
    "        \n",
    "    def student_details(self):\n",
    "        return f\"details of {self.name} is {self.course}\""
   ]
  },
  {
   "cell_type": "code",
   "execution_count": 14,
   "id": "cb104d8a-0807-4a4d-be78-05f42a30f115",
   "metadata": {},
   "outputs": [],
   "source": [
    "rohit = REXGALAXY(\"Rohit\",\"Sharda\",\"Python\")\n",
    "ishwar = REXGALAXY(\"Iswar\",\"Neparl\",\"Mysql\")"
   ]
  },
  {
   "cell_type": "code",
   "execution_count": 15,
   "id": "1026ca7a-54ea-4d4e-a4f5-36eddec7878a",
   "metadata": {},
   "outputs": [
    {
     "data": {
      "text/plain": [
       "'details of Rohit is Python'"
      ]
     },
     "execution_count": 15,
     "metadata": {},
     "output_type": "execute_result"
    }
   ],
   "source": [
    "rohit.student_details()"
   ]
  },
  {
   "cell_type": "code",
   "execution_count": 16,
   "id": "d7119b45-9f04-4bd8-b559-f69cabf107e2",
   "metadata": {},
   "outputs": [
    {
     "data": {
      "text/plain": [
       "'details of Iswar is Mysql'"
      ]
     },
     "execution_count": 16,
     "metadata": {},
     "output_type": "execute_result"
    }
   ],
   "source": [
    "ishwar.student_details()"
   ]
  },
  {
   "cell_type": "code",
   "execution_count": 17,
   "id": "1478e7bb-ceb0-4d46-b864-cdbb42007e72",
   "metadata": {},
   "outputs": [],
   "source": [
    "rohit.holidays = \"firday\" "
   ]
  },
  {
   "cell_type": "code",
   "execution_count": 18,
   "id": "b5c025d0-9d75-426c-a558-e85297e6418b",
   "metadata": {},
   "outputs": [
    {
     "data": {
      "text/plain": [
       "mappingproxy({'__module__': '__main__',\n",
       "              'holidays': 'saturday',\n",
       "              '__init__': <function __main__.REXGALAXY.__init__(self, name, college, course)>,\n",
       "              'student_details': <function __main__.REXGALAXY.student_details(self)>,\n",
       "              '__dict__': <attribute '__dict__' of 'REXGALAXY' objects>,\n",
       "              '__weakref__': <attribute '__weakref__' of 'REXGALAXY' objects>,\n",
       "              '__doc__': None})"
      ]
     },
     "execution_count": 18,
     "metadata": {},
     "output_type": "execute_result"
    }
   ],
   "source": [
    "REXGALAXY.__dict__"
   ]
  },
  {
   "cell_type": "code",
   "execution_count": 19,
   "id": "944ab72b-64a3-408b-ac8d-1d3238785841",
   "metadata": {},
   "outputs": [
    {
     "data": {
      "text/plain": [
       "{'name': 'Rohit',\n",
       " 'college': 'Sharda',\n",
       " 'course': 'Python',\n",
       " 'holidays': 'firday'}"
      ]
     },
     "execution_count": 19,
     "metadata": {},
     "output_type": "execute_result"
    }
   ],
   "source": [
    "rohit.__dict__"
   ]
  },
  {
   "cell_type": "code",
   "execution_count": 20,
   "id": "4811fafb-8b67-4c39-ac7c-996c782641f5",
   "metadata": {},
   "outputs": [
    {
     "data": {
      "text/plain": [
       "{'name': 'Iswar', 'college': 'Neparl', 'course': 'Mysql'}"
      ]
     },
     "execution_count": 20,
     "metadata": {},
     "output_type": "execute_result"
    }
   ],
   "source": [
    "ishwar.__dict__"
   ]
  },
  {
   "cell_type": "code",
   "execution_count": 21,
   "id": "3521b9dc-8a85-4aab-baa5-4ec78f34c01f",
   "metadata": {},
   "outputs": [
    {
     "data": {
      "text/plain": [
       "'saturday'"
      ]
     },
     "execution_count": 21,
     "metadata": {},
     "output_type": "execute_result"
    }
   ],
   "source": [
    "ishwar.holidays"
   ]
  },
  {
   "cell_type": "code",
   "execution_count": null,
   "id": "378a1009-0115-4cc0-bf74-7d28f56f6355",
   "metadata": {},
   "outputs": [],
   "source": []
  }
 ],
 "metadata": {
  "kernelspec": {
   "display_name": "Python 3 (ipykernel)",
   "language": "python",
   "name": "python3"
  },
  "language_info": {
   "codemirror_mode": {
    "name": "ipython",
    "version": 3
   },
   "file_extension": ".py",
   "mimetype": "text/x-python",
   "name": "python",
   "nbconvert_exporter": "python",
   "pygments_lexer": "ipython3",
   "version": "3.11.7"
  }
 },
 "nbformat": 4,
 "nbformat_minor": 5
}
