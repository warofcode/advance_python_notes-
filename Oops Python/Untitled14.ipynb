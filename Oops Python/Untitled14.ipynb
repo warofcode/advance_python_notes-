{
 "cells": [
  {
   "cell_type": "code",
   "execution_count": 7,
   "id": "a7e11954-aadc-4da5-9192-b60dd901158c",
   "metadata": {},
   "outputs": [],
   "source": [
    "sting = f\"MyClass(x={5},y={6})\""
   ]
  },
  {
   "cell_type": "code",
   "execution_count": 8,
   "id": "c9429ac7-5879-4397-b9e0-d1afb3d9ff6f",
   "metadata": {},
   "outputs": [
    {
     "data": {
      "text/plain": [
       "'MyClass(x=5,y=6)'"
      ]
     },
     "execution_count": 8,
     "metadata": {},
     "output_type": "execute_result"
    }
   ],
   "source": [
    "sting"
   ]
  },
  {
   "cell_type": "code",
   "execution_count": 9,
   "id": "3643d23c-6a7c-4274-80f4-13d751419d73",
   "metadata": {},
   "outputs": [],
   "source": [
    "values =sting.split('(')[1].split(')')[0].split(',')"
   ]
  },
  {
   "cell_type": "code",
   "execution_count": 10,
   "id": "32f82945-4da1-454c-8cd2-ba4f155116c5",
   "metadata": {},
   "outputs": [
    {
     "data": {
      "text/plain": [
       "['x=5', 'y=6']"
      ]
     },
     "execution_count": 10,
     "metadata": {},
     "output_type": "execute_result"
    }
   ],
   "source": [
    "values"
   ]
  },
  {
   "cell_type": "code",
   "execution_count": 11,
   "id": "4d1d3303-1720-4c18-bf8f-c110ca0f185e",
   "metadata": {},
   "outputs": [],
   "source": [
    "x = int(values[0].split('=')[1])"
   ]
  },
  {
   "cell_type": "code",
   "execution_count": 12,
   "id": "d459144d-5156-4c20-8174-c279669fe63b",
   "metadata": {},
   "outputs": [
    {
     "data": {
      "text/plain": [
       "5"
      ]
     },
     "execution_count": 12,
     "metadata": {},
     "output_type": "execute_result"
    }
   ],
   "source": [
    "x"
   ]
  },
  {
   "cell_type": "code",
   "execution_count": 13,
   "id": "1aaf3a76-48d0-4d11-9ade-e1a617d5a740",
   "metadata": {},
   "outputs": [],
   "source": [
    "y = int(values[1].split('=')[1])"
   ]
  },
  {
   "cell_type": "code",
   "execution_count": 14,
   "id": "8f792d37-2df4-4824-ba3d-cafc0a4e28ab",
   "metadata": {},
   "outputs": [
    {
     "data": {
      "text/plain": [
       "6"
      ]
     },
     "execution_count": 14,
     "metadata": {},
     "output_type": "execute_result"
    }
   ],
   "source": [
    "y"
   ]
  },
  {
   "cell_type": "code",
   "execution_count": 18,
   "id": "f5534d0e-bb72-4a0f-9f98-d9e2823f5ebf",
   "metadata": {},
   "outputs": [
    {
     "data": {
      "text/plain": [
       "5"
      ]
     },
     "execution_count": 18,
     "metadata": {},
     "output_type": "execute_result"
    }
   ],
   "source": [
    "int('x=5'.split(\"=\")[1])"
   ]
  },
  {
   "cell_type": "code",
   "execution_count": null,
   "id": "65614dda-cd6b-4622-a93c-918bec1f4344",
   "metadata": {},
   "outputs": [],
   "source": []
  }
 ],
 "metadata": {
  "kernelspec": {
   "display_name": "Python 3 (ipykernel)",
   "language": "python",
   "name": "python3"
  },
  "language_info": {
   "codemirror_mode": {
    "name": "ipython",
    "version": 3
   },
   "file_extension": ".py",
   "mimetype": "text/x-python",
   "name": "python",
   "nbconvert_exporter": "python",
   "pygments_lexer": "ipython3",
   "version": "3.11.7"
  }
 },
 "nbformat": 4,
 "nbformat_minor": 5
}
