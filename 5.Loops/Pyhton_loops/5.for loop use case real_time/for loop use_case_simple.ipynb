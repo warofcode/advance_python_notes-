{
 "cells": [
  {
   "cell_type": "code",
   "execution_count": 1,
   "id": "8149bc63-339d-4207-a2a0-53ab20ec6ade",
   "metadata": {},
   "outputs": [],
   "source": [
    "import pandas as pd\n",
    "import requests\n",
    "from datetime import datetime\n",
    "data = pd.read_csv(\"website_data.csv\")"
   ]
  },
  {
   "cell_type": "code",
   "execution_count": null,
   "id": "d5771ccc-3058-470c-a15f-235bd09c9cdf",
   "metadata": {},
   "outputs": [
    {
     "name": "stdout",
     "output_type": "stream",
     "text": [
      "2024-07-24 12:43:17:https://www.google.com is UP\n",
      "2024-07-24 12:43:18:https://www.facebook.com is UP\n",
      "2024-07-24 12:43:19:https://www.apple.com is UP\n",
      "2024-07-24 12:43:19:https://www.microsoft.com is UP\n",
      "2024-07-24 12:43:19:https://www.ibm.com is UP\n",
      "2024-07-24 12:43:20:https://www.intel.com is UP\n",
      "2024-07-24 12:43:20:https://www.hp.com is UP\n",
      "2024-07-24 12:43:22:https://www.dell.com is UP\n",
      "2024-07-24 12:43:22:https://www.oracle.com is UP\n",
      "2024-07-24 12:43:23:https://www.cisco.com is UP\n",
      "2024-07-24 12:43:23:https://www.salesforce.com is UP\n",
      "2024-07-24 12:43:24:https://www.netflix.com is UP\n",
      "2024-07-24 12:43:28:https://www.spotify.com is UP\n",
      "HTTPSConnectionPool(host='www.tesla.com', port=443): Read timed out. (read timeout=10)\n",
      "2024-07-24 12:43:40:https://www.uber.com is DOWN\n",
      "2024-07-24 12:43:41:https://www.lyft.com is DOWN\n",
      "2024-07-24 12:43:42:https://www.snapchat.com is UP\n",
      "2024-07-24 12:43:43:https://www.airbnb.com is UP\n",
      "2024-07-24 12:43:45:https://www.twitter.com is UP\n",
      "2024-07-24 12:43:49:https://www.linkedin.com is UP\n",
      "2024-07-24 12:43:50:https://www.pinterest.com is UP\n",
      "2024-07-24 12:43:51:https://www.reddit.com is UP\n",
      "2024-07-24 12:43:53:https://www.tumblr.com is UP\n",
      "2024-07-24 12:43:53:https://www.dropbox.com is UP\n",
      "2024-07-24 12:43:55:https://www.box.com is UP\n",
      "2024-07-24 12:43:55:https://www.slack.com is UP\n",
      "2024-07-24 12:43:57:https://www.zoom.us is UP\n",
      "2024-07-24 12:43:58:https://www.skype.com is UP\n",
      "2024-07-24 12:43:59:https://www.atlassian.com is UP\n",
      "2024-07-24 12:43:59:https://www.shopify.com is UP\n",
      "2024-07-24 12:44:00:https://www.alibaba.com is UP\n",
      "2024-07-24 12:44:01:https://www.ebay.com is UP\n",
      "2024-07-24 12:44:01:https://www.etsy.com is DOWN\n",
      "2024-07-24 12:44:02:https://www.walmart.com is UP\n",
      "2024-07-24 12:44:02:https://www.target.com is UP\n",
      "HTTPSConnectionPool(host='www.costco.com', port=443): Read timed out. (read timeout=10)\n",
      "2024-07-24 12:44:14:https://www.bestbuy.com is DOWN\n",
      "HTTPSConnectionPool(host='www.homedepot.com', port=443): Read timed out. (read timeout=10)\n",
      "HTTPSConnectionPool(host='www.lowes.com', port=443): Read timed out. (read timeout=10)\n",
      "2024-07-24 12:44:35:https://www.wayfair.com is DOWN\n",
      "2024-07-24 12:44:36:https://www.macys.com is DOWN\n",
      "2024-07-24 12:44:39:https://www.nordstrom.com is UP\n",
      "2024-07-24 12:44:40:https://www.kohls.com is UP\n",
      "2024-07-24 12:44:41:https://www.sears.com is UP\n",
      "HTTPSConnectionPool(host='www.jcpenney.com', port=443): Read timed out. (read timeout=10)\n",
      "2024-07-24 12:44:52:https://www.gap.com is UP\n",
      "2024-07-24 12:44:55:https://www.oldnavy.com is UP\n",
      "2024-07-24 12:44:58:https://www.bananarepublic.com is UP\n",
      "2024-07-24 12:45:03:https://www.footlocker.com is DOWN\n",
      "2024-07-24 12:45:03:https://www.zappos.com is DOWN\n",
      "2024-07-24 12:45:05:https://www.dickssportinggoods.com is UP\n",
      "2024-07-24 12:45:09:https://www.nike.com is UP\n",
      "HTTPSConnectionPool(host='www.adidas.com', port=443): Read timed out. (read timeout=10)\n",
      "2024-07-24 12:45:22:https://www.underarmour.com is UP\n",
      "2024-07-24 12:45:23:https://www.puma.com is UP\n",
      "2024-07-24 12:45:24:https://www.newbalance.com is DOWN\n",
      "2024-07-24 12:45:25:https://www.asics.com is UP\n",
      "2024-07-24 12:45:42:https://www.reebok.com is UP\n",
      "HTTPSConnectionPool(host='www.lululemon.com', port=443): Read timed out. (read timeout=10)\n",
      "2024-07-24 12:45:56:https://www.patagonia.com is UP\n",
      "2024-07-24 12:45:57:https://www.thenorthface.com is UP\n",
      "2024-07-24 12:46:00:https://www.columbia.com is UP\n",
      "2024-07-24 12:46:01:https://www.eddiebauer.com is DOWN\n",
      "2024-07-24 12:46:02:https://www.outdoorresearch.com is UP\n",
      "2024-07-24 12:46:05:https://www.backcountry.com is UP\n",
      "2024-07-24 12:46:06:https://www.rei.com is DOWN\n",
      "2024-07-24 12:46:07:https://www.climbing.com is UP\n",
      "2024-07-24 12:46:09:https://www.hokaoneone.com is DOWN\n",
      "2024-07-24 12:46:11:https://www.brooksrunning.com is UP\n"
     ]
    }
   ],
   "source": [
    "\n",
    "# timestamp = datetime.now().strftime('%Y-%m-%d %H:%M:%S')\n",
    "for website in data[\"websites\"]:\n",
    "    try:\n",
    "        timestamp = datetime.now().strftime('%Y-%m-%d %H:%M:%S')\n",
    "        response = requests.get(website,timeout=10)\n",
    "        if response.status_code == 200:\n",
    "            print(f\"{timestamp}:{website} is UP\")\n",
    "        else:\n",
    "            print(f\"{timestamp}:{website} is DOWN\")\n",
    "    except Exception as e:\n",
    "        print(e)\n",
    "        continue\n",
    "            "
   ]
  },
  {
   "cell_type": "code",
   "execution_count": null,
   "id": "7051cdbf-e324-4b04-acba-885a4c688911",
   "metadata": {},
   "outputs": [],
   "source": [
    "# for website in data[\"websites\"]:\n",
    "#     print(website)"
   ]
  },
  {
   "cell_type": "code",
   "execution_count": null,
   "id": "e6c80917-825a-4f28-82be-069238e2d574",
   "metadata": {},
   "outputs": [],
   "source": []
  }
 ],
 "metadata": {
  "kernelspec": {
   "display_name": "Python 3 (ipykernel)",
   "language": "python",
   "name": "python3"
  },
  "language_info": {
   "codemirror_mode": {
    "name": "ipython",
    "version": 3
   },
   "file_extension": ".py",
   "mimetype": "text/x-python",
   "name": "python",
   "nbconvert_exporter": "python",
   "pygments_lexer": "ipython3",
   "version": "3.11.7"
  }
 },
 "nbformat": 4,
 "nbformat_minor": 5
}
