{
 "cells": [
  {
   "cell_type": "code",
   "execution_count": 4,
   "id": "d312b488-6f29-4099-a384-3e4515d7f783",
   "metadata": {},
   "outputs": [
    {
     "name": "stderr",
     "output_type": "stream",
     "text": [
      "[*********************100%%**********************]  1 of 1 completed\n",
      "[*********************100%%**********************]  1 of 1 completed\n",
      "[*********************100%%**********************]  1 of 1 completed\n",
      "[*********************100%%**********************]  1 of 1 completed\n",
      "[*********************100%%**********************]  1 of 1 completed"
     ]
    },
    {
     "name": "stdout",
     "output_type": "stream",
     "text": [
      "The closing price of AAPL on 2024-07-23 was $223.96\n",
      "The closing price of GOOGL on 2024-07-23 was $181.67\n",
      "The closing price of MSFT on 2024-07-23 was $442.94\n",
      "The closing price of AMZN on 2024-07-23 was $182.55\n",
      "The closing price of TSLA on 2024-07-23 was $251.51\n"
     ]
    },
    {
     "name": "stderr",
     "output_type": "stream",
     "text": [
      "\n"
     ]
    }
   ],
   "source": [
    "# pip install yfinance\n",
    "\n",
    "import yfinance as yf\n",
    "from datetime import datetime\n",
    "\n",
    "# List of stock symbols\n",
    "stocks = ['AAPL', 'GOOGL', 'MSFT', 'AMZN', 'TSLA']\n",
    "\n",
    "# Dictionary to store stock prices\n",
    "stock_prices = {}\n",
    "\n",
    "# Get today's date\n",
    "today = datetime.now().strftime('%Y-%m-%d')\n",
    "\n",
    "# Loop through each stock symbol\n",
    "for stock in stocks:\n",
    "    # Fetch the stock data\n",
    "    stock_data = yf.download(stock, start=today, end=today)\n",
    "    \n",
    "    # Get the closing price\n",
    "    closing_price = stock_data['Close'].iloc[0]\n",
    "    \n",
    "    # Store the closing price in the dictionary\n",
    "    stock_prices[stock] = closing_price\n",
    "\n",
    "# Print the stock prices\n",
    "for stock, price in stock_prices.items():\n",
    "    print(f\"The closing price of {stock} on {today} was ${price:.2f}\")\n"
   ]
  },
  {
   "cell_type": "raw",
   "id": "c115e358-7459-464f-87ec-ef5ca4e7dd47",
   "metadata": {},
   "source": [
    "Use Case: Monitoring Website Availability\n",
    "Scenario:\n",
    "Imagine you are a system administrator responsible for monitoring the availability of several company websites. You need to periodically check if these websites are up and running. If a website is down, you want to be notified immediately.\n",
    "\n",
    "Example:\n",
    "Website URLs: A list of website URLs to monitor.\n",
    "Loop Through URLs: Use a loop to iterate through each URL and check its status.\n",
    "Notify: Print a message or send a notification if a website is down.\n",
    "Here's a sample code snippet:\n",
    "\n",
    "Explanation:\n",
    "Imports: The requests library is used to make HTTP requests to the websites. datetime is used to get the current timestamp.\n",
    "\n",
    "Websites List: A list of website URLs to monitor (google.com, github.com, and a placeholder for your company site\n",
    "\n",
    "Function: check_website(url) attempts to make a GET request to the URL. If the request is successful (status code 200), it returns True; otherwise, it returns False.\n",
    "\n",
    "Loop: A for loop iterates through each website URL, checks its status, and prints whether the website is up or down along with the current timestamp.\n",
    "\n",
    "\n",
    "Real-Time Application:\n",
    "This example demonstrates how Python can be used to automate the monitoring of website availability. It showcases Python's ability to handle HTTP requests and perform checks in a loop, making it an essential tool for system administrators and IT professionals."
   ]
  },
  {
   "cell_type": "code",
   "execution_count": 7,
   "id": "9153c94e-886e-4839-94e0-297690d6c16f",
   "metadata": {},
   "outputs": [
    {
     "name": "stdout",
     "output_type": "stream",
     "text": [
      "2024-07-23 19:20:27: https://www.google.com is UP\n",
      "2024-07-23 19:20:28: https://www.github.com is UP\n",
      "2024-07-23 19:20:29: https://www.yourcompanysite.com is DOWN\n",
      "2024-07-23 19:20:29: https://www.rexgalaxy.com is UP\n",
      "2024-07-23 19:20:30: https://www.codersindia.com is DOWN\n"
     ]
    }
   ],
   "source": [
    "import requests\n",
    "from datetime import datetime\n",
    "\n",
    "# List of website URLs to monitor\n",
    "websites = ['https://www.google.com', 'https://www.github.com', 'https://www.yourcompanysite.com','https://www.rexgalaxy.com','https://www.codersindia.com']\n",
    "\n",
    "# Function to check website availability\n",
    "def check_website(url):\n",
    "    try:\n",
    "        response = requests.get(url)\n",
    "        if response.status_code == 200:\n",
    "            return True\n",
    "        else:\n",
    "            return False\n",
    "    except requests.ConnectionError:\n",
    "        return False\n",
    "\n",
    "# Loop through each website and check its status\n",
    "for website in websites:\n",
    "    status = check_website(website)\n",
    "    timestamp = datetime.now().strftime('%Y-%m-%d %H:%M:%S')\n",
    "    if status:\n",
    "        print(f\"{timestamp}: {website} is UP\")\n",
    "    else:\n",
    "        print(f\"{timestamp}: {website} is DOWN\")\n",
    "\n",
    "# You can extend this to send notifications, such as emails or messages, if a site is down.\n"
   ]
  },
  {
   "cell_type": "code",
   "execution_count": null,
   "id": "5cb1e471-13b8-44fa-af66-063501faf8b4",
   "metadata": {},
   "outputs": [],
   "source": []
  },
  {
   "cell_type": "code",
   "execution_count": null,
   "id": "73aae555-788a-4a67-beec-ddaad904bf8d",
   "metadata": {},
   "outputs": [],
   "source": []
  }
 ],
 "metadata": {
  "kernelspec": {
   "display_name": "Python 3 (ipykernel)",
   "language": "python",
   "name": "python3"
  },
  "language_info": {
   "codemirror_mode": {
    "name": "ipython",
    "version": 3
   },
   "file_extension": ".py",
   "mimetype": "text/x-python",
   "name": "python",
   "nbconvert_exporter": "python",
   "pygments_lexer": "ipython3",
   "version": "3.11.7"
  }
 },
 "nbformat": 4,
 "nbformat_minor": 5
}
