{
 "cells": [
  {
   "cell_type": "markdown",
   "id": "c86c00b0",
   "metadata": {},
   "source": [
    "# Python Loops"
   ]
  },
  {
   "cell_type": "markdown",
   "id": "d8b715a3",
   "metadata": {},
   "source": [
    "What is loop in Pyhton."
   ]
  },
  {
   "cell_type": "markdown",
   "id": "237edcc9",
   "metadata": {},
   "source": [
    "In programming, a loop is a control structure that allows you to execute a block of code repeatedly based on a condition. In Python, there are two main types of loops:\n",
    "\n"
   ]
  },
  {
   "cell_type": "markdown",
   "id": "e79e3d99",
   "metadata": {},
   "source": [
    "# Why do we use loop ?"
   ]
  },
  {
   "cell_type": "markdown",
   "id": "f4fa8fdd",
   "metadata": {},
   "source": [
    "Loops are essential in programming because they allow you to automate repetitive tasks, process collections of data, and iterate over sequences. They help in making the code more concise, readable, and efficient. Without loops, you would have to write the same lines of code multiple times, which can lead to errors and inefficiencies."
   ]
  },
  {
   "cell_type": "markdown",
   "id": "a4073039",
   "metadata": {},
   "source": [
    "1.for loop"
   ]
  },
  {
   "cell_type": "markdown",
   "id": "85f6f287",
   "metadata": {},
   "source": [
    "2.While loop"
   ]
  },
  {
   "cell_type": "markdown",
   "id": "d2d26c0f",
   "metadata": {},
   "source": [
    "# for Loop "
   ]
  },
  {
   "cell_type": "markdown",
   "id": "93c214f1",
   "metadata": {},
   "source": [
    "For Loops: A for loop is used when you know the number of times you want to execute a block of code. It iterates over a sequence (such as a list, tuple, string, or range) and executes the block of code for each item in the sequence."
   ]
  },
  {
   "cell_type": "markdown",
   "id": "7447657a",
   "metadata": {},
   "source": [
    "# While Loops:"
   ]
  },
  {
   "cell_type": "markdown",
   "id": "83528034",
   "metadata": {},
   "source": [
    "A while loop is used when you want to execute a block of code as long as a condition is true. The loop continues iterating until the condition becomes false."
   ]
  },
  {
   "cell_type": "markdown",
   "id": "9a5c4915",
   "metadata": {},
   "source": [
    "# ---------------------------------------------for loop-----------------------------------------------"
   ]
  },
  {
   "cell_type": "markdown",
   "id": "4623ab47",
   "metadata": {},
   "source": [
    "Syntax:"
   ]
  },
  {
   "cell_type": "markdown",
   "id": "f0292758",
   "metadata": {},
   "source": [
    "for item in sequence:\n",
    "\n",
    "    # Code block to be executed for each item\n"
   ]
  },
  {
   "cell_type": "markdown",
   "id": "400a0037",
   "metadata": {},
   "source": [
    "Parts of a For Loop:"
   ]
  },
  {
   "cell_type": "markdown",
   "id": "bbbb4610",
   "metadata": {},
   "source": [
    "1.for: The keyword that initiates the loop."
   ]
  },
  {
   "cell_type": "markdown",
   "id": "e350a4f0",
   "metadata": {},
   "source": [
    "2.item: A variable that represents the current item in the sequence."
   ]
  },
  {
   "cell_type": "markdown",
   "id": "0ec9bb57",
   "metadata": {},
   "source": [
    "3.sequence: The collection of items over which the loop iterates."
   ]
  },
  {
   "cell_type": "markdown",
   "id": "cd38c306",
   "metadata": {},
   "source": [
    "4.**Code"
   ]
  },
  {
   "cell_type": "markdown",
   "id": "76bf0c4c",
   "metadata": {},
   "source": [
    "# Lets understand by example:"
   ]
  },
  {
   "cell_type": "code",
   "execution_count": 5,
   "id": "c85d46cc",
   "metadata": {},
   "outputs": [
    {
     "name": "stdout",
     "output_type": "stream",
     "text": [
      "Python\n",
      "Mysql\n",
      "Database\n"
     ]
    }
   ],
   "source": [
    "sequence = [\"Python\",\"Mysql\",\"Database\"]\n",
    "for item in sequence:\n",
    "    print(item)"
   ]
  },
  {
   "cell_type": "code",
   "execution_count": 6,
   "id": "f3fc1d47",
   "metadata": {},
   "outputs": [
    {
     "name": "stdout",
     "output_type": "stream",
     "text": [
      "Python\n",
      "Mysql\n",
      "Database\n"
     ]
    }
   ],
   "source": [
    "sequence = (\"Python\",\"Mysql\",\"Database\")\n",
    "for item in sequence:\n",
    "    print(item)"
   ]
  },
  {
   "cell_type": "code",
   "execution_count": 8,
   "id": "becdd000",
   "metadata": {},
   "outputs": [
    {
     "name": "stdout",
     "output_type": "stream",
     "text": [
      "name\n",
      "class\n"
     ]
    }
   ],
   "source": [
    "sequence = {\"name\":\"rohit\",\"class\":\"Python\"}\n",
    "\n",
    "for item in sequence:\n",
    "    print(item)"
   ]
  },
  {
   "cell_type": "code",
   "execution_count": 10,
   "id": "c9ccdffd",
   "metadata": {},
   "outputs": [
    {
     "name": "stdout",
     "output_type": "stream",
     "text": [
      "P\n",
      "y\n",
      "h\n",
      "t\n",
      "o\n",
      "n\n"
     ]
    }
   ],
   "source": [
    "sequence = \"Pyhton\"\n",
    "for item in sequence:\n",
    "    print(item)"
   ]
  },
  {
   "cell_type": "markdown",
   "id": "add37c7d",
   "metadata": {},
   "source": [
    "# Using Range() Function with For Loops"
   ]
  },
  {
   "cell_type": "markdown",
   "id": "89ff5655",
   "metadata": {},
   "source": [
    "\n",
    "\n",
    "The range() function generates a sequence of numbers that can be used with for loops."
   ]
  },
  {
   "cell_type": "markdown",
   "id": "a31e1900",
   "metadata": {},
   "source": [
    "Syntax:"
   ]
  },
  {
   "cell_type": "markdown",
   "id": "3740f1cb",
   "metadata": {},
   "source": [
    "range(start, stop, step)\n"
   ]
  },
  {
   "cell_type": "markdown",
   "id": "851c359a",
   "metadata": {},
   "source": [
    "Start:The starting value of the sequence (default is 0)."
   ]
  },
  {
   "cell_type": "markdown",
   "id": "3b03b632",
   "metadata": {},
   "source": [
    "Stop: The ending value of the sequence (not inclusive)"
   ]
  },
  {
   "cell_type": "markdown",
   "id": "c92ff31f",
   "metadata": {},
   "source": [
    "Step: The step size between each number (default is 1)."
   ]
  },
  {
   "cell_type": "code",
   "execution_count": 6,
   "id": "a207394c",
   "metadata": {},
   "outputs": [
    {
     "name": "stdout",
     "output_type": "stream",
     "text": [
      "1\n",
      "2\n",
      "3\n",
      "4\n"
     ]
    }
   ],
   "source": [
    "for i in range(1,5,1): # we want numbers from 1,(5-1) with step of 1.\n",
    "    print(i)"
   ]
  },
  {
   "cell_type": "code",
   "execution_count": 8,
   "id": "8585cbb0",
   "metadata": {},
   "outputs": [
    {
     "name": "stdout",
     "output_type": "stream",
     "text": [
      "1\n",
      "3\n"
     ]
    }
   ],
   "source": [
    "for i in range(1,5,2): # we want numbers from 1,(5-1) with step of 2.\n",
    "    print(i)"
   ]
  },
  {
   "cell_type": "markdown",
   "id": "074f61e3",
   "metadata": {},
   "source": [
    "Try to find every email item from list given below."
   ]
  },
  {
   "cell_type": "code",
   "execution_count": 20,
   "id": "aee3221c",
   "metadata": {},
   "outputs": [
    {
     "name": "stdout",
     "output_type": "stream",
     "text": [
      "Rkt6543@gmail.com\n",
      "Sachin@yahoo.com\n",
      "Aman@gmail.com\n",
      "chirag@rex.com\n"
     ]
    }
   ],
   "source": [
    "# as we can see below we can email is available at every second index\n",
    "# we can use range function to \n",
    "\n",
    "sequence = [\"Rohit\",\"Rkt6543@gmail.com\",\"Sachin\",\"Sachin@yahoo.com\",\"Aman\",\"Aman@gmail.com\",\"Chirag\",\"chirag@rex.com\"]\n",
    "sequence_length = len(sequence)\n",
    "\n",
    "for email in range(1,sequence_length,2): # every second element (step by 2)\n",
    "    print(sequence[email])\n",
    "    "
   ]
  },
  {
   "cell_type": "markdown",
   "id": "0778de60",
   "metadata": {},
   "source": [
    "# Nested For Loops"
   ]
  },
  {
   "cell_type": "markdown",
   "id": "8b9f7caf",
   "metadata": {},
   "source": [
    "A nested loop in Python is a loop inside another loop. This means that one loop is placed inside the body of another loop. This is often used when you need to iterate over a sequence of elements, and for each element, you need to iterate over another sequence.\n",
    "\n",
    "Here's an example to illustrate a nested loop:"
   ]
  },
  {
   "cell_type": "markdown",
   "id": "3a1db2b5",
   "metadata": {},
   "source": [
    "# What is the use of Nested loop:"
   ]
  },
  {
   "cell_type": "markdown",
   "id": "6ca42c40",
   "metadata": {},
   "source": [
    "1. Iterating through multi-dimensional data structures: Nested loops are often used to traverse and manipulate multi-dimensional lists, tuples, or arrays. For example, when working with a 2D list representing a matrix or grid, nested loops can be used to access and process each element row by row or column by column."
   ]
  },
  {
   "cell_type": "markdown",
   "id": "897c5878",
   "metadata": {},
   "source": [
    "2. Generating combinations and permutations: Nested loops are used to generate combinations and permutations of elements. For example, if you have a list of items and you want to find all possible combinations of those items, you can use nested loops to iterate through the items and generate combinations."
   ]
  },
  {
   "cell_type": "markdown",
   "id": "baddf6ea",
   "metadata": {},
   "source": [
    "3. Pattern printing: Nested loops can be used to print various patterns, such as triangles, squares, or any other shape, using characters or numbers. By controlling the number of iterations in each loop, you can achieve different patterns."
   ]
  },
  {
   "cell_type": "markdown",
   "id": "3119de34",
   "metadata": {},
   "source": [
    "4. Searching and processing data: Nested loops can be used for searching and processing data in nested structures like lists of lists or dictionaries of lists. For example, you can use nested loops to search for specific values or patterns within a nested data structure and perform operations based on the search results."
   ]
  },
  {
   "cell_type": "markdown",
   "id": "52ba184e",
   "metadata": {},
   "source": [
    "# Lets Understand by Example:"
   ]
  },
  {
   "cell_type": "code",
   "execution_count": 28,
   "id": "081e492b",
   "metadata": {},
   "outputs": [],
   "source": [
    "# below is nested list. lets find element one by one from this list\n",
    "\n",
    "indian_employees = [[\"Raj\", \"Patel\"],[\"Priya\", \"Sharma\"],[\"Amit\", \"Kumar\"],[\"Neha\", \"Singh\"]]\n"
   ]
  },
  {
   "cell_type": "code",
   "execution_count": 29,
   "id": "12420ebe",
   "metadata": {},
   "outputs": [
    {
     "name": "stdout",
     "output_type": "stream",
     "text": [
      "['Raj', 'Patel']\n",
      "['Priya', 'Sharma']\n",
      "['Amit', 'Kumar']\n",
      "['Neha', 'Singh']\n"
     ]
    }
   ],
   "source": [
    "for employee in indian_employees:\n",
    "    print(employee)    # as you see we find another list "
   ]
  },
  {
   "cell_type": "code",
   "execution_count": 33,
   "id": "32484578",
   "metadata": {},
   "outputs": [
    {
     "name": "stdout",
     "output_type": "stream",
     "text": [
      "Raj\n",
      "Patel\n",
      "Priya\n",
      "Sharma\n",
      "Amit\n",
      "Kumar\n",
      "Neha\n",
      "Singh\n"
     ]
    }
   ],
   "source": [
    "for employee in indian_employees:\n",
    "    for employee_name in employee:\n",
    "        print(employee_name)"
   ]
  },
  {
   "cell_type": "markdown",
   "id": "39e4bf52",
   "metadata": {},
   "source": [
    "# Pass, break and continue keywords"
   ]
  },
  {
   "cell_type": "markdown",
   "id": "05c99c2f",
   "metadata": {},
   "source": [
    "In Python, control flow statements allow you to alter the flow of the program's execution. Among these, pass, break, and continue are fundamental tools for managing loops and conditional statements. Understanding how and when to use these statements is essential for writing efficient and concise code."
   ]
  },
  {
   "cell_type": "markdown",
   "id": "ad27163b",
   "metadata": {},
   "source": [
    "# 1. Pass Statement"
   ]
  },
  {
   "cell_type": "markdown",
   "id": "a32e938a",
   "metadata": {},
   "source": [
    "In genral pass keyword is used to fill up the empty blocks"
   ]
  },
  {
   "cell_type": "markdown",
   "id": "51a3959c",
   "metadata": {},
   "source": [
    "The pass statement in Python is a null operation. It doesn't do anything when executed. It's used as a placeholder where syntactically required but no action is needed. It is often employed as a temporary placeholder when a statement is syntactically necessary but the program logic is not yet defined."
   ]
  },
  {
   "cell_type": "code",
   "execution_count": 3,
   "id": "f3d5a10e",
   "metadata": {},
   "outputs": [],
   "source": [
    "for i in range(5):\n",
    "    \n",
    "        pass  # Placeholder, no action needed\n",
    "   \n"
   ]
  },
  {
   "cell_type": "markdown",
   "id": "bbf28aa3",
   "metadata": {},
   "source": [
    "# 2. Break Statement"
   ]
  },
  {
   "cell_type": "markdown",
   "id": "7312527a",
   "metadata": {},
   "source": [
    "The break statement is used to exit a loop prematurely. When a break statement is encountered inside a loop, the loop is terminated immediately, and the program continues executing the code that follows the loop.\n",
    "\n",
    "Syntax:"
   ]
  },
  {
   "cell_type": "code",
   "execution_count": 5,
   "id": "4eb0267d",
   "metadata": {},
   "outputs": [
    {
     "name": "stdout",
     "output_type": "stream",
     "text": [
      "Python\n",
      "Mysql\n",
      "Database\n"
     ]
    }
   ],
   "source": [
    "sequence = (\"Python\",\"Mysql\",\"Database\",\"rohit\",\"Java\")\n",
    "\n",
    "for element in sequence:\n",
    "    if element == \"rohit\":\n",
    "        break             # will terminate the loop from here \n",
    "    print(element)  \n"
   ]
  },
  {
   "cell_type": "markdown",
   "id": "fe3e0112",
   "metadata": {},
   "source": [
    "# 3. Continue Statement"
   ]
  },
  {
   "cell_type": "markdown",
   "id": "d72ce6bd",
   "metadata": {},
   "source": [
    "The continue statement is used to skip the rest of the code inside a loop for the current iteration, without terminating the loop entirely. It moves the control to the next iteration of the loop.\n",
    "\n",
    "Syntax:"
   ]
  },
  {
   "cell_type": "code",
   "execution_count": 6,
   "id": "71ebc244",
   "metadata": {},
   "outputs": [
    {
     "name": "stdout",
     "output_type": "stream",
     "text": [
      "Python\n",
      "Mysql\n",
      "Database\n",
      "Java\n"
     ]
    }
   ],
   "source": [
    "sequence = (\"Python\",\"Mysql\",\"Database\",\"rohit\",\"Java\")\n",
    "\n",
    "for element in sequence:\n",
    "    if element == \"rohit\":\n",
    "        continue             # will move to next iteration from here (\"will not print rohit\")\n",
    "    print(element)  \n"
   ]
  },
  {
   "cell_type": "markdown",
   "id": "6260bdfe",
   "metadata": {},
   "source": [
    "# Real time Example for continue statement"
   ]
  },
  {
   "cell_type": "markdown",
   "id": "b76190e0",
   "metadata": {},
   "source": [
    "Let's say you're writing a program to analyze student grades in a class. You have a list of dictionaries, where each dictionary represents a student and contains their name, grades, and other information. You want to calculate the average grade for each student, but you want to skip any student who has missing grades."
   ]
  },
  {
   "cell_type": "code",
   "execution_count": 9,
   "id": "b9e9f9f2",
   "metadata": {},
   "outputs": [
    {
     "name": "stdout",
     "output_type": "stream",
     "text": [
      "Rohit's average grade: 87.66666666666667\n",
      "Sachin's average grade: 78.66666666666667\n",
      "Skipping Aman because of missing grades\n",
      "Dines's average grade: 91.66666666666667\n",
      "Rishabh's average grade: 81.0\n"
     ]
    }
   ],
   "source": [
    "students = [\n",
    "    {'name': 'Rohit', 'grades': [85, 90, 88]},\n",
    "    {'name': 'Sachin', 'grades': [75, 82, 79]},\n",
    "    {'name': 'Aman', 'grades': []},  # Aman has missing grades\n",
    "    {'name': 'Dines', 'grades': [92, 88, 95]},\n",
    "    {'name': 'Rishabh', 'grades': [78, 85, 80]},\n",
    "]\n",
    "\n",
    "for student in students:\n",
    "    if not student['grades']:  # If grades list is empty\n",
    "        print(f\"Skipping {student['name']} because of missing grades\")\n",
    "        continue\n",
    "    average_grade = sum(student['grades']) / len(student['grades'])\n",
    "    print(f\"{student['name']}'s average grade: {average_grade}\")\n",
    "\n",
    "    \n",
    "    \n",
    "# print(not student['grades'])    return false"
   ]
  },
  {
   "cell_type": "markdown",
   "id": "0f5eb93d",
   "metadata": {},
   "source": [
    "In this example:\n",
    "\n",
    "We iterate over each student in the students list.\n",
    "\n",
    "For each student, we check if their grades list is empty using the if not student['grades'] condition.\n",
    "\n",
    "If the grades list is empty, we print a message indicating that the student is being skipped due to missing grades using continue.\n",
    "\n",
    "If the grades list is not empty, we calculate the average grade for that student and print it.\n",
    "\n",
    "This demonstrates how the continue statement can be used to skip over certain iterations of a loop when a specific \n",
    "\n",
    "condition is met, allowing us to handle exceptional cases gracefully without affecting the overall flow of the loop.\n",
    "\n",
    "\n",
    "\n",
    "\n",
    "\n"
   ]
  },
  {
   "cell_type": "markdown",
   "id": "deabd80a",
   "metadata": {},
   "source": [
    "# else Statement with for loop"
   ]
  },
  {
   "cell_type": "code",
   "execution_count": 16,
   "id": "87cf8d88",
   "metadata": {},
   "outputs": [
    {
     "name": "stdout",
     "output_type": "stream",
     "text": [
      "0\n",
      "1\n",
      "2\n",
      "3\n",
      "4\n",
      "Loop terminated successfully\n"
     ]
    }
   ],
   "source": [
    "for i in range(5):\n",
    "    print(i)\n",
    "    \n",
    "else:\n",
    "    print(\"Loop terminated successfully\")"
   ]
  },
  {
   "cell_type": "markdown",
   "id": "796c21c5",
   "metadata": {},
   "source": [
    "for i in range(5):: This line sets up a for loop that iterates over the sequence of numbers generated by the range(5) function.\n",
    "\n",
    "The range(5) function generates a sequence of numbers starting from 0 up to (but not including) 5.\n",
    "\n",
    "So, the loop will iterate five times, with i taking on the values 0, 1, 2, 3, and 4 in each iteration."
   ]
  },
  {
   "cell_type": "markdown",
   "id": "66d394d1",
   "metadata": {},
   "source": [
    "# "
   ]
  },
  {
   "cell_type": "markdown",
   "id": "b1ffd3f4",
   "metadata": {},
   "source": [
    "else:: This block is associated with the for loop. It will be executed after the loop completes all its iterations without being interrupted by a break statement."
   ]
  },
  {
   "cell_type": "markdown",
   "id": "ca2df240",
   "metadata": {},
   "source": [
    "# "
   ]
  },
  {
   "cell_type": "code",
   "execution_count": 14,
   "id": "4eb02346",
   "metadata": {},
   "outputs": [
    {
     "name": "stdout",
     "output_type": "stream",
     "text": [
      "Milk is found in the shopping list.\n"
     ]
    }
   ],
   "source": [
    "my_shopping_list = [\"Apples\", \"Bananas\", \"Milk\", \"Eggs\", \"Bread\"]\n",
    "\n",
    "item = \"Milk\"\n",
    "\n",
    "for listed_item in my_shopping_list:\n",
    "        if listed_item == item:\n",
    "            print(f\"{item} is found in the shopping list.\")\n",
    "            break\n",
    "else:\n",
    "    print(f\"{item} is not found in the shopping list.\")"
   ]
  },
  {
   "cell_type": "markdown",
   "id": "6ebba265",
   "metadata": {},
   "source": [
    "# ------------------------------------------ while loop ----------------------------------------------------"
   ]
  },
  {
   "cell_type": "markdown",
   "id": "94c445cc",
   "metadata": {},
   "source": [
    "\n",
    "1. The while loop in Python repeatedly executes a block of code as long as a specified condition is true.\n",
    "\n",
    "2. if we do not specify any codition loop will continue infinite.\n",
    "\n"
   ]
  },
  {
   "cell_type": "code",
   "execution_count": 22,
   "id": "08fb4b83",
   "metadata": {},
   "outputs": [
    {
     "name": "stdout",
     "output_type": "stream",
     "text": [
      "1\n",
      "2\n",
      "3\n",
      "4\n",
      "5\n"
     ]
    }
   ],
   "source": [
    "i=1\n",
    "while i <6:\n",
    "    print(i)\n",
    "    \n",
    "    i=i+1  # if we do not increament value of i. it will continue forevery\n",
    "\n"
   ]
  },
  {
   "cell_type": "code",
   "execution_count": 20,
   "id": "54498b62",
   "metadata": {},
   "outputs": [
    {
     "name": "stdout",
     "output_type": "stream",
     "text": [
      "True\n"
     ]
    }
   ],
   "source": [
    "print(i <6)"
   ]
  },
  {
   "cell_type": "code",
   "execution_count": 25,
   "id": "c6772221",
   "metadata": {},
   "outputs": [
    {
     "name": "stdout",
     "output_type": "stream",
     "text": [
      "True\n"
     ]
    }
   ],
   "source": [
    "print(True)"
   ]
  },
  {
   "cell_type": "code",
   "execution_count": 23,
   "id": "9a28d862",
   "metadata": {},
   "outputs": [
    {
     "name": "stdout",
     "output_type": "stream",
     "text": [
      "True\n"
     ]
    }
   ],
   "source": [
    "print(True or False)"
   ]
  },
  {
   "cell_type": "code",
   "execution_count": 24,
   "id": "72257a7b",
   "metadata": {},
   "outputs": [
    {
     "name": "stdout",
     "output_type": "stream",
     "text": [
      "False\n"
     ]
    }
   ],
   "source": [
    "print(True and False)"
   ]
  },
  {
   "cell_type": "code",
   "execution_count": null,
   "id": "3bf83de4",
   "metadata": {},
   "outputs": [],
   "source": []
  },
  {
   "cell_type": "markdown",
   "id": "120a5d7e",
   "metadata": {},
   "source": [
    "# Real time example:\n",
    "    "
   ]
  },
  {
   "cell_type": "markdown",
   "id": "74657660",
   "metadata": {},
   "source": [
    "if we want to take input of a number from user until number is correct we can run loop infinite time."
   ]
  },
  {
   "cell_type": "markdown",
   "id": "37a9b30e",
   "metadata": {},
   "source": [
    "lets do this.............."
   ]
  },
  {
   "cell_type": "code",
   "execution_count": 27,
   "id": "07a973b3",
   "metadata": {},
   "outputs": [
    {
     "name": "stdout",
     "output_type": "stream",
     "text": [
      "Enter your password : 25\n",
      "password mismatch\n",
      "Enter your password : 255\n",
      "password mismatch\n",
      "Enter your password : 65\n",
      "password mismatch\n",
      "Enter your password : 20\n",
      "You are authorised to access internet\n"
     ]
    }
   ],
   "source": [
    "user_password = 20\n",
    "\n",
    "import webbrowser\n",
    "\n",
    "\n",
    "while True:\n",
    "    user_input = int(input(\"Enter your password : \"))\n",
    "    \n",
    "    if user_password == user_input:\n",
    "        print(\"You are authorised to access internet\")\n",
    "        \n",
    "        webbrowser.open(\"www.google.com\")\n",
    "        \n",
    "        break\n",
    "        \n",
    "    else:\n",
    "        print(\"password mismatch\")\n",
    "\n",
    "    \n",
    "        \n",
    "    \n",
    "    \n",
    "    "
   ]
  },
  {
   "cell_type": "markdown",
   "id": "97ec4294",
   "metadata": {},
   "source": [
    "# lets limit this with only three attempts "
   ]
  },
  {
   "cell_type": "code",
   "execution_count": 28,
   "id": "598d1878",
   "metadata": {},
   "outputs": [
    {
     "name": "stdout",
     "output_type": "stream",
     "text": [
      "Enter your number : 56\n",
      "password mismath\n",
      "Enter your number : 56\n",
      "password mismath\n",
      "Enter your number : 58\n",
      "password mismath\n"
     ]
    }
   ],
   "source": [
    "\n",
    "user_password = 45\n",
    "\n",
    "no_attempts = 1\n",
    "\n",
    "import webbrowser\n",
    "while no_attempts<4:\n",
    "    input_password = int(input(\"Enter your number : \"))\n",
    "    \n",
    "    if user_password==input_password:\n",
    "        \n",
    "        print(\"you are authorised to access internet\")\n",
    "        \n",
    "        webbrowser.open(\"www.google.com\")\n",
    "        \n",
    "        break\n",
    "        \n",
    "    else:\n",
    "        \n",
    "        print(\"password mismath\")\n",
    "        \n",
    "    no_attempts = no_attempts +1  "
   ]
  },
  {
   "cell_type": "markdown",
   "id": "759b7a50",
   "metadata": {},
   "source": [
    "# while Loop with else block"
   ]
  },
  {
   "cell_type": "markdown",
   "id": "1aacfb5a",
   "metadata": {},
   "source": [
    "The block of code inside the while loop is executed as long as the condition remains true. When the condition becomes false, the loop terminates, and the program continues with the next line of code after the loop.\n",
    "\n",
    "Sometimes, you might want to execute a block of code after the while loop has completed its iterations, regardless of whether the loop terminated normally or was exited prematurely. This is where the else statement associated with the while loop comes into play.\n",
    "\n",
    "The else block associated with a while loop is executed when the loop condition becomes false, indicating that the loop has naturally terminated, i.e., it was not exited prematurely using a break statement."
   ]
  },
  {
   "cell_type": "code",
   "execution_count": 6,
   "id": "545dd83d",
   "metadata": {},
   "outputs": [
    {
     "name": "stdout",
     "output_type": "stream",
     "text": [
      "0\n",
      "1\n",
      "2\n",
      "3\n",
      "4\n",
      "Loop completed successfully\n"
     ]
    }
   ],
   "source": [
    "num = 0\n",
    "while num < 5:\n",
    "    print(num)\n",
    "    num += 1\n",
    "    \n",
    "else:\n",
    "    print(\"Loop completed successfully\") # else will execute because we have not terminated the loop with break\n"
   ]
  },
  {
   "cell_type": "markdown",
   "id": "01f53c96",
   "metadata": {},
   "source": [
    "In this example, the while loop prints the numbers from 0 to 4. After the loop completes its iterations (i.e., when num becomes 5), the else block is executed, printing \"Loop completed successfully\".\n",
    "\n",
    "If the loop were exited prematurely using a break statement, the else block would not be executed.\n",
    "\n",
    "lets try this..........."
   ]
  },
  {
   "cell_type": "code",
   "execution_count": 8,
   "id": "dd64d182",
   "metadata": {},
   "outputs": [
    {
     "name": "stdout",
     "output_type": "stream",
     "text": [
      "0\n"
     ]
    }
   ],
   "source": [
    "num = 0\n",
    "while num < 5:\n",
    "    print(num)\n",
    "    num += 1\n",
    "    break\n",
    "    \n",
    "else:\n",
    "    print(\"Loop completed successfully\") # else will not execute as you have terminated loop with break statement."
   ]
  },
  {
   "cell_type": "markdown",
   "id": "484522a4",
   "metadata": {},
   "source": [
    "Lets try it with user input ..............."
   ]
  },
  {
   "cell_type": "code",
   "execution_count": 18,
   "id": "f87965d4",
   "metadata": {},
   "outputs": [
    {
     "name": "stdout",
     "output_type": "stream",
     "text": [
      "Enter your number : 1234\n",
      "password mismath\n",
      "Enter your number : 56\n",
      "password mismath\n",
      "Enter your number : 7895\n",
      "password mismath\n",
      "you lost all attempts reset your password\n"
     ]
    }
   ],
   "source": [
    "\n",
    "user_password = 45\n",
    "\n",
    "no_attempts = 1\n",
    "\n",
    "import webbrowser\n",
    "while no_attempts<4:\n",
    "    input_password = int(input(\"Enter your number : \"))\n",
    "    \n",
    "    if user_password==input_password:\n",
    "        \n",
    "        print(\"you are authorised to access internet\")\n",
    "        \n",
    "        webbrowser.open(\"www.google.com\")\n",
    "        \n",
    "        break\n",
    "        \n",
    "    else:\n",
    "        \n",
    "        print(\"password mismath\")\n",
    "        \n",
    "    no_attempts = no_attempts +1   \n",
    "    \n",
    "else:\n",
    "    print(\"you lost all attempts reset your password\")"
   ]
  },
  {
   "cell_type": "markdown",
   "id": "652f6aa3",
   "metadata": {},
   "source": [
    "lets try to make above program whith out break and if else:"
   ]
  },
  {
   "cell_type": "code",
   "execution_count": 1,
   "id": "daee9ca3",
   "metadata": {},
   "outputs": [
    {
     "name": "stdout",
     "output_type": "stream",
     "text": [
      "enter your number :  1234\n",
      "authorised \n"
     ]
    }
   ],
   "source": [
    "# with out break and if else statement \n",
    "\n",
    "user_password = 1234\n",
    "input_password = None\n",
    "while user_password!=input_password:\n",
    "    input_password =int(input(\"enter your number :  \"))\n",
    "    \n",
    "    \n",
    "else:\n",
    "    \n",
    "    print(\"authorised \")"
   ]
  },
  {
   "cell_type": "code",
   "execution_count": null,
   "id": "46ba4675",
   "metadata": {},
   "outputs": [],
   "source": []
  }
 ],
 "metadata": {
  "kernelspec": {
   "display_name": "Python 3 (ipykernel)",
   "language": "python",
   "name": "python3"
  },
  "language_info": {
   "codemirror_mode": {
    "name": "ipython",
    "version": 3
   },
   "file_extension": ".py",
   "mimetype": "text/x-python",
   "name": "python",
   "nbconvert_exporter": "python",
   "pygments_lexer": "ipython3",
   "version": "3.11.7"
  }
 },
 "nbformat": 4,
 "nbformat_minor": 5
}
