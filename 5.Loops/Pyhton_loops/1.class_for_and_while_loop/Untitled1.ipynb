{
 "cells": [
  {
   "cell_type": "code",
   "execution_count": 5,
   "id": "30f164bc-615c-4493-adbb-c65fbc8fefb1",
   "metadata": {},
   "outputs": [
    {
     "name": "stdout",
     "output_type": "stream",
     "text": [
      "P\n",
      "i m going to next element please wait\n",
      "y\n",
      "i m going to next element please wait\n",
      "t\n",
      "i m going to next element please wait\n",
      "h\n",
      "i m going to next element please wait\n",
      "o\n",
      "i m going to next element please wait\n",
      "n\n",
      "i m going to next element please wait\n"
     ]
    }
   ],
   "source": [
    "import time\n",
    "for item in \"Python\":\n",
    "    time.sleep(3)\n",
    "    \n",
    "    print(item)\n",
    "    time.sleep(3)\n",
    "    print(\"i m going to next element please wait\")"
   ]
  },
  {
   "cell_type": "code",
   "execution_count": 10,
   "id": "ec98338f-3175-4020-bb4e-f02480cd0153",
   "metadata": {},
   "outputs": [
    {
     "ename": "TypeError",
     "evalue": "'int' object is not iterable",
     "output_type": "error",
     "traceback": [
      "\u001b[1;31m---------------------------------------------------------------------------\u001b[0m",
      "\u001b[1;31mTypeError\u001b[0m                                 Traceback (most recent call last)",
      "Cell \u001b[1;32mIn[10], line 1\u001b[0m\n\u001b[1;32m----> 1\u001b[0m \u001b[38;5;28;01mfor\u001b[39;00m item \u001b[38;5;129;01min\u001b[39;00m \u001b[38;5;241m32\u001b[39m:\n\u001b[0;32m      2\u001b[0m     \u001b[38;5;28mprint\u001b[39m(item)\n",
      "\u001b[1;31mTypeError\u001b[0m: 'int' object is not iterable"
     ]
    }
   ],
   "source": [
    "for item in 32:\n",
    "    print(item)\n",
    "    "
   ]
  },
  {
   "cell_type": "code",
   "execution_count": 26,
   "id": "04c07335-5304-4e9f-9b00-b336cb0edacd",
   "metadata": {},
   "outputs": [
    {
     "name": "stdout",
     "output_type": "stream",
     "text": [
      "100000\n",
      "100001\n",
      "100002\n",
      "100003\n",
      "100004\n",
      "100005\n",
      "100006\n",
      "100007\n",
      "100008\n",
      "100009\n",
      "100010\n"
     ]
    }
   ],
   "source": [
    "import random\n",
    "\n",
    "for i in range(100000,100011,1):\n",
    "    print(i)\n",
    "    # print(random.randint(100000,999999))\n",
    "    "
   ]
  },
  {
   "cell_type": "code",
   "execution_count": 19,
   "id": "939afe30-a06f-472d-80a3-ed8c96c45c02",
   "metadata": {},
   "outputs": [
    {
     "data": {
      "text/plain": [
       "9807"
      ]
     },
     "execution_count": 19,
     "metadata": {},
     "output_type": "execute_result"
    }
   ],
   "source": [
    "import random\n",
    "random.randint(1000,9999)"
   ]
  },
  {
   "cell_type": "code",
   "execution_count": 27,
   "id": "bd705197-9827-44c2-815d-d4718989f83f",
   "metadata": {},
   "outputs": [
    {
     "name": "stdout",
     "output_type": "stream",
     "text": [
      "Python\n",
      "Mysql\n",
      "Database\n"
     ]
    }
   ],
   "source": [
    "sequence = [\"Python\",\"Mysql\",\"Database\"]\n",
    "for item in sequence:\n",
    "    print(item)"
   ]
  },
  {
   "cell_type": "code",
   "execution_count": 30,
   "id": "da67d8cf-12aa-4e3f-a36e-b56f8cc515e0",
   "metadata": {},
   "outputs": [],
   "source": [
    "sequence = [\"Rohit\",\"Rkt6543@gmail.com\",\"Sachin\",\"Sachin@yahoo.com\",\"Aman\",\"Aman@gmail.com\",\"Chirag\",\"chirag@rex.com\"]"
   ]
  },
  {
   "cell_type": "code",
   "execution_count": 32,
   "id": "333f9073-669d-4121-afca-129547f71c34",
   "metadata": {},
   "outputs": [
    {
     "name": "stdout",
     "output_type": "stream",
     "text": [
      "Rohit\n",
      "Rkt6543@gmail.com\n",
      "Sachin\n",
      "Sachin@yahoo.com\n",
      "Aman\n",
      "Aman@gmail.com\n",
      "Chirag\n",
      "chirag@rex.com\n"
     ]
    }
   ],
   "source": [
    "for item in sequence:\n",
    "    print(item)"
   ]
  },
  {
   "cell_type": "code",
   "execution_count": 33,
   "id": "28d20ee2-d508-471a-b6ca-99ef5f0f1807",
   "metadata": {},
   "outputs": [],
   "source": [
    "sequence = [\"Rohit\",\"Rkt6543@gmail.com\",\"Sachin\",\"Sachin@yahoo.com\",\"Aman\",\"Aman@gmail.com\",\"Chirag\",\"chirag@rex.com\"]"
   ]
  },
  {
   "cell_type": "code",
   "execution_count": 35,
   "id": "407aefa4-8124-480e-a1c1-b33a1888ebbc",
   "metadata": {},
   "outputs": [
    {
     "name": "stdout",
     "output_type": "stream",
     "text": [
      "8\n"
     ]
    }
   ],
   "source": [
    "length = len(sequence)\n",
    "print(length)"
   ]
  },
  {
   "cell_type": "code",
   "execution_count": 43,
   "id": "e44bdf96-70de-415f-abc4-9544b8e3d263",
   "metadata": {},
   "outputs": [
    {
     "name": "stdout",
     "output_type": "stream",
     "text": [
      "Rohit\n",
      "Sachin\n",
      "Aman\n",
      "Chirag\n"
     ]
    }
   ],
   "source": [
    "for index in range(0,len(sequence),2):\n",
    "    print(sequence[index])\n",
    "    "
   ]
  },
  {
   "cell_type": "code",
   "execution_count": 44,
   "id": "165e8f89-b34c-4a42-910e-1f1c48d29bd1",
   "metadata": {},
   "outputs": [
    {
     "name": "stdout",
     "output_type": "stream",
     "text": [
      "Rkt6543@gmail.com\n",
      "Sachin@yahoo.com\n",
      "Aman@gmail.com\n",
      "chirag@rex.com\n"
     ]
    }
   ],
   "source": [
    "for index in range(1,len(sequence),2):\n",
    "    print(sequence[index])"
   ]
  },
  {
   "cell_type": "code",
   "execution_count": 47,
   "id": "aca8a15b-2d62-458e-8244-73786b7aa729",
   "metadata": {},
   "outputs": [
    {
     "data": {
      "text/plain": [
       "['Rkt6543@gmail.com', 'Sachin@yahoo.com', 'Aman@gmail.com', 'chirag@rex.com']"
      ]
     },
     "execution_count": 47,
     "metadata": {},
     "output_type": "execute_result"
    }
   ],
   "source": [
    "sequence[1:len(sequence):2]"
   ]
  },
  {
   "cell_type": "code",
   "execution_count": 57,
   "id": "4cf199f9-1f12-4d3e-9195-28606cf65dfd",
   "metadata": {},
   "outputs": [],
   "source": [
    "indian_employees = [[\"Raj\", \"Patel\"],[\"Priya\", \"Sharma\"],[\"Amit\", \"Kumar\"],[\"Neha\", \"Singh\"]]"
   ]
  },
  {
   "cell_type": "code",
   "execution_count": 56,
   "id": "35280788-d4e2-4417-8d43-01f5ccacd991",
   "metadata": {},
   "outputs": [
    {
     "name": "stdout",
     "output_type": "stream",
     "text": [
      "['Raj', 'Patel', 'rohit']\n",
      "Raj\n",
      "Patel\n",
      "rohit\n",
      "['Priya', 'Sharma']\n",
      "Priya\n",
      "Sharma\n",
      "['Amit', 'Kumar']\n",
      "Amit\n",
      "Kumar\n",
      "['Neha', 'Singh']\n",
      "Neha\n",
      "Singh\n"
     ]
    }
   ],
   "source": [
    "for name in indian_employees:\n",
    "    print(name)\n",
    "    for sigle_name in name:\n",
    "        print(sigle_name)\n",
    "   "
   ]
  },
  {
   "cell_type": "code",
   "execution_count": 51,
   "id": "1f85cd1d-86a3-4eb0-9459-c3c58c9295f4",
   "metadata": {},
   "outputs": [
    {
     "data": {
      "text/plain": [
       "'Raj'"
      ]
     },
     "execution_count": 51,
     "metadata": {},
     "output_type": "execute_result"
    }
   ],
   "source": [
    "indian_employees[0][0]\n",
    "\n",
    "rohit.lastname@ducat.com"
   ]
  },
  {
   "cell_type": "code",
   "execution_count": 58,
   "id": "b2e67f00-b855-4993-bc31-d81af01043a3",
   "metadata": {},
   "outputs": [],
   "source": [
    "indian_employees = [[\"Raj\", \"Patel\"],[\"Priya\", \"Sharma\"],[\"Amit\", \"Kumar\"],[\"Neha\", \"Singh\"]]"
   ]
  },
  {
   "cell_type": "code",
   "execution_count": 65,
   "id": "edf577d7-b56b-4731-985d-e863aacf1227",
   "metadata": {},
   "outputs": [
    {
     "name": "stdout",
     "output_type": "stream",
     "text": [
      "Raj.Patel@ducat.com\n",
      "Priya.Sharma@ducat.com\n",
      "Amit.Kumar@ducat.com\n",
      "Neha.Singh@ducat.com\n"
     ]
    }
   ],
   "source": [
    "for email in indian_employees:\n",
    "    print(f\"{email[0]}.{email[1]}@ducat.com\")"
   ]
  },
  {
   "cell_type": "code",
   "execution_count": 66,
   "id": "c981d972-cc33-40d9-921f-3882790e8e44",
   "metadata": {},
   "outputs": [
    {
     "ename": "SyntaxError",
     "evalue": "invalid syntax (3373040846.py, line 1)",
     "output_type": "error",
     "traceback": [
      "\u001b[1;36m  Cell \u001b[1;32mIn[66], line 1\u001b[1;36m\u001b[0m\n\u001b[1;33m    input 3\u001b[0m\n\u001b[1;37m          ^\u001b[0m\n\u001b[1;31mSyntaxError\u001b[0m\u001b[1;31m:\u001b[0m invalid syntax\n"
     ]
    }
   ],
   "source": [
    "input 3 \n",
    "3 x 1 = 3"
   ]
  },
  {
   "cell_type": "code",
   "execution_count": 70,
   "id": "25ac8c8c-22c2-457f-8628-c5dc66f58fb1",
   "metadata": {},
   "outputs": [
    {
     "name": "stdin",
     "output_type": "stream",
     "text": [
      "Enter your table :  6\n"
     ]
    },
    {
     "name": "stdout",
     "output_type": "stream",
     "text": [
      "6 X 1 = 6\n",
      "6 X 2 = 12\n",
      "6 X 3 = 18\n",
      "6 X 4 = 24\n",
      "6 X 5 = 30\n",
      "6 X 6 = 36\n",
      "6 X 7 = 42\n",
      "6 X 8 = 48\n",
      "6 X 9 = 54\n",
      "6 X 10 = 60\n"
     ]
    }
   ],
   "source": [
    "table = int(input(\"Enter your table : \"))\n",
    "\n",
    "for i in range(1,11,1):\n",
    "    print(f\"{table} X {i} = {table*i}\")"
   ]
  },
  {
   "cell_type": "code",
   "execution_count": null,
   "id": "a54dab7a-ebf8-4ebb-a142-c686470cb3ec",
   "metadata": {},
   "outputs": [],
   "source": []
  }
 ],
 "metadata": {
  "kernelspec": {
   "display_name": "Python 3 (ipykernel)",
   "language": "python",
   "name": "python3"
  },
  "language_info": {
   "codemirror_mode": {
    "name": "ipython",
    "version": 3
   },
   "file_extension": ".py",
   "mimetype": "text/x-python",
   "name": "python",
   "nbconvert_exporter": "python",
   "pygments_lexer": "ipython3",
   "version": "3.11.7"
  }
 },
 "nbformat": 4,
 "nbformat_minor": 5
}
