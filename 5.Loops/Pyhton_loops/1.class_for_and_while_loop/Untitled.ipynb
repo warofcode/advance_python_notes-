{
 "cells": [
  {
   "cell_type": "code",
   "execution_count": null,
   "id": "307e3c65-6d24-43ea-95f2-5a62d2fec51c",
   "metadata": {},
   "outputs": [],
   "source": [
    "while True:\n",
    "    print(\"this\")\n",
    "    break"
   ]
  },
  {
   "cell_type": "code",
   "execution_count": 7,
   "id": "a1663ad2-bf40-4776-8f55-09b9c3ab8120",
   "metadata": {},
   "outputs": [
    {
     "name": "stdin",
     "output_type": "stream",
     "text": [
      "Enter your input :  tyagi\n",
      "Enter your input :  t\n",
      "Enter your input :  f\n"
     ]
    }
   ],
   "source": [
    "i = 1\n",
    "while i <4:\n",
    "    user_name = input(\"Enter your input : \")\n",
    "    \n",
    "    i += 1\n",
    "    "
   ]
  },
  {
   "cell_type": "code",
   "execution_count": 2,
   "id": "41105dc3-fc6f-4f50-b3da-7f30ae51ae11",
   "metadata": {},
   "outputs": [],
   "source": [
    "import pyinputplus as pyi"
   ]
  },
  {
   "cell_type": "code",
   "execution_count": 3,
   "id": "7fe532c2-5929-4428-9f23-b2d88f5af897",
   "metadata": {},
   "outputs": [
    {
     "name": "stdout",
     "output_type": "stream",
     "text": [
      "Enter your integer"
     ]
    },
    {
     "name": "stdin",
     "output_type": "stream",
     "text": [
      " dfdk\n"
     ]
    },
    {
     "name": "stdout",
     "output_type": "stream",
     "text": [
      "'dfdk' is not an integer.\n",
      "Enter your integer"
     ]
    },
    {
     "name": "stdin",
     "output_type": "stream",
     "text": [
      " fkd\n"
     ]
    },
    {
     "name": "stdout",
     "output_type": "stream",
     "text": [
      "'fkd' is not an integer.\n",
      "Enter your integer"
     ]
    },
    {
     "name": "stdin",
     "output_type": "stream",
     "text": [
      " fhdfh''\n"
     ]
    },
    {
     "name": "stdout",
     "output_type": "stream",
     "text": [
      "\"fhdfh''\" is not an integer.\n",
      "Enter your integer"
     ]
    },
    {
     "name": "stdin",
     "output_type": "stream",
     "text": [
      " dfh'\n"
     ]
    },
    {
     "name": "stdout",
     "output_type": "stream",
     "text": [
      "\"dfh'\" is not an integer.\n",
      "Enter your integer"
     ]
    },
    {
     "name": "stdin",
     "output_type": "stream",
     "text": [
      " jfkdjf\n"
     ]
    },
    {
     "name": "stdout",
     "output_type": "stream",
     "text": [
      "'jfkdjf' is not an integer.\n",
      "Enter your integer"
     ]
    },
    {
     "name": "stdin",
     "output_type": "stream",
     "text": [
      " fhdfh\n"
     ]
    },
    {
     "name": "stdout",
     "output_type": "stream",
     "text": [
      "'fhdfh' is not an integer.\n",
      "Enter your integer"
     ]
    },
    {
     "name": "stdin",
     "output_type": "stream",
     "text": [
      " hfjdhf'\n"
     ]
    },
    {
     "name": "stdout",
     "output_type": "stream",
     "text": [
      "\"hfjdhf'\" is not an integer.\n",
      "Enter your integer"
     ]
    },
    {
     "name": "stdin",
     "output_type": "stream",
     "text": [
      " 12\n"
     ]
    },
    {
     "data": {
      "text/plain": [
       "12"
      ]
     },
     "execution_count": 3,
     "metadata": {},
     "output_type": "execute_result"
    }
   ],
   "source": [
    "pyi.inputInt(\"Enter your integer\")"
   ]
  },
  {
   "cell_type": "code",
   "execution_count": 9,
   "id": "b1a0d8e9-3fd0-4aab-9fdd-8f151940caf0",
   "metadata": {},
   "outputs": [
    {
     "name": "stdin",
     "output_type": "stream",
     "text": [
      "Enter your password :  3\n"
     ]
    },
    {
     "name": "stdout",
     "output_type": "stream",
     "text": [
      "password mismatch\n"
     ]
    },
    {
     "name": "stdin",
     "output_type": "stream",
     "text": [
      "Enter your password :  3\n"
     ]
    },
    {
     "name": "stdout",
     "output_type": "stream",
     "text": [
      "password mismatch\n"
     ]
    },
    {
     "name": "stdin",
     "output_type": "stream",
     "text": [
      "Enter your password :  3\n"
     ]
    },
    {
     "name": "stdout",
     "output_type": "stream",
     "text": [
      "password mismatch\n"
     ]
    }
   ],
   "source": [
    "user_password = 20\n",
    "\n",
    "import webbrowser\n",
    "\n",
    "i=1\n",
    "while i<=3:\n",
    "    user_input = int(input(\"Enter your password : \"))\n",
    "    \n",
    "    if user_password == user_input:\n",
    "        \n",
    "        print(\"You are authorised to access internet\")\n",
    "        \n",
    "        webbrowser.open(\"www.google.com\")\n",
    "        \n",
    "        break\n",
    "        \n",
    "    else:\n",
    "        print(\"password mismatch\")\n",
    "\n",
    "    i = i+1\n"
   ]
  },
  {
   "cell_type": "code",
   "execution_count": null,
   "id": "b1b2ceb3-62c4-422d-8483-d3cee29113f0",
   "metadata": {},
   "outputs": [],
   "source": []
  }
 ],
 "metadata": {
  "kernelspec": {
   "display_name": "Python 3 (ipykernel)",
   "language": "python",
   "name": "python3"
  },
  "language_info": {
   "codemirror_mode": {
    "name": "ipython",
    "version": 3
   },
   "file_extension": ".py",
   "mimetype": "text/x-python",
   "name": "python",
   "nbconvert_exporter": "python",
   "pygments_lexer": "ipython3",
   "version": "3.11.7"
  }
 },
 "nbformat": 4,
 "nbformat_minor": 5
}
