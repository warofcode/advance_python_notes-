{
 "cells": [
  {
   "cell_type": "code",
   "execution_count": 3,
   "id": "d08c0b0e-6a87-435f-9f1d-0807fe431ba3",
   "metadata": {},
   "outputs": [],
   "source": [
    "import tkinter as tk\n",
    "\n",
    "# Function to generate the multiplication table\n",
    "def generate_table():\n",
    "    try:\n",
    "        # Get the input number\n",
    "        number = int(entry.get())\n",
    "        result_text.delete(1.0, tk.END)\n",
    "        # Generate the multiplication table\n",
    "        for i in range(1, 11):\n",
    "            result_text.insert(tk.END, f\"{number} x {i} = {number * i}\\n\")\n",
    "    except ValueError:\n",
    "        result_text.delete(1.0, tk.END)\n",
    "        result_text.insert(tk.END, \"Please enter a valid integer.\")\n",
    "\n",
    "# Create the main window\n",
    "root = tk.Tk()\n",
    "root.title(\"Multiplication Table Generator\")\n",
    "root.geometry(\"600x600\")\n",
    "\n",
    "# Create and place the input label and entry using grid\n",
    "input_label = tk.Label(root, text=\"Enter a number:\")\n",
    "input_label.grid(row=0, column=0, padx=10, pady=10)\n",
    "\n",
    "entry = tk.Entry(root)\n",
    "entry.grid(row=0, column=1, padx=10, pady=10)\n",
    "\n",
    "# Create and place the button to generate the table using grid\n",
    "generate_button = tk.Button(root, text=\"Generate Table\", command=generate_table)\n",
    "generate_button.grid(row=1, column=0, columnspan=2, pady=10)\n",
    "\n",
    "# Create and place the text widget to display the result using grid\n",
    "result_text = tk.Text(root, height=12, width=30)\n",
    "result_text.grid(row=2, column=0, columnspan=2, padx=10, pady=10)\n",
    "\n",
    "# Start the Tkinter event loop\n",
    "root.mainloop()\n"
   ]
  },
  {
   "cell_type": "code",
   "execution_count": null,
   "id": "c6a7d73f-c1c3-4f99-9cb6-41ddb010dda3",
   "metadata": {},
   "outputs": [],
   "source": []
  }
 ],
 "metadata": {
  "kernelspec": {
   "display_name": "Python 3 (ipykernel)",
   "language": "python",
   "name": "python3"
  },
  "language_info": {
   "codemirror_mode": {
    "name": "ipython",
    "version": 3
   },
   "file_extension": ".py",
   "mimetype": "text/x-python",
   "name": "python",
   "nbconvert_exporter": "python",
   "pygments_lexer": "ipython3",
   "version": "3.11.7"
  }
 },
 "nbformat": 4,
 "nbformat_minor": 5
}
