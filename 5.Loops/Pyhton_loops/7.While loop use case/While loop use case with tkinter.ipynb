{
 "cells": [
  {
   "cell_type": "code",
   "execution_count": null,
   "id": "36d59030-bbca-4e75-b22c-03f6b33366b3",
   "metadata": {},
   "outputs": [],
   "source": [
    "import tkinter\n",
    "from tkinter import messagebox\n",
    "import webbrowser\n",
    "\n",
    "# Initialize attempt counter\n",
    "attempts = 3\n",
    "\n",
    "def login():\n",
    "    global attempts\n",
    "    username = user_name_entry.get()\n",
    "    userpassword = password_entry.get()\n",
    "\n",
    "    if username == \"Rohit\" and userpassword == \"Rohit@1234\":\n",
    "        webbrowser.open(\"http://www.google.com\")\n",
    "    else:\n",
    "        attempts -= 1\n",
    "        if attempts > 0:\n",
    "            messagebox.showinfo(\"Access denied\", f\"Wrong Username or password. {attempts} attempts remaining.\")\n",
    "        else:\n",
    "            messagebox.showinfo(\"Blocked\", \"You have been blocked. No attempts remaining.\")\n",
    "            login_button.config(state=tkinter.DISABLED)\n",
    "    \n",
    "    # Clear the username and password fields\n",
    "    user_name_entry.delete(0, tkinter.END)\n",
    "    password_entry.delete(0, tkinter.END)\n",
    "\n",
    "root = tkinter.Tk()\n",
    "root.title(\"Login Program\")\n",
    "\n",
    "user_name_label = tkinter.Label(root, text=\"Username:\", font=(25))\n",
    "user_name_label.grid(row=0, column=0, padx=25, pady=25, sticky=tkinter.W)\n",
    "\n",
    "user_name_entry = tkinter.Entry(root)\n",
    "user_name_entry.grid(row=0, column=1, padx=25, pady=25)\n",
    "\n",
    "password_label = tkinter.Label(root, text=\"Userpassword:\", font=25)\n",
    "password_label.grid(row=1, column=0, padx=25, pady=25, sticky=tkinter.W)\n",
    "\n",
    "password_entry = tkinter.Entry(root, show=\"*\")\n",
    "password_entry.grid(row=1, column=1, padx=25, pady=25)\n",
    "\n",
    "login_button = tkinter.Button(root, text=\"Click to login\", background=\"powderblue\", command=login)\n",
    "login_button.grid(row=2, columnspan=2, pady=25)\n",
    "\n",
    "root.mainloop()\n"
   ]
  },
  {
   "cell_type": "code",
   "execution_count": null,
   "id": "57b058eb-b08b-42e8-b253-5e6a22863fe8",
   "metadata": {},
   "outputs": [],
   "source": []
  }
 ],
 "metadata": {
  "kernelspec": {
   "display_name": "Python 3 (ipykernel)",
   "language": "python",
   "name": "python3"
  },
  "language_info": {
   "codemirror_mode": {
    "name": "ipython",
    "version": 3
   },
   "file_extension": ".py",
   "mimetype": "text/x-python",
   "name": "python",
   "nbconvert_exporter": "python",
   "pygments_lexer": "ipython3",
   "version": "3.11.7"
  }
 },
 "nbformat": 4,
 "nbformat_minor": 5
}
