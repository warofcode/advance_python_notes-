{
 "cells": [
  {
   "cell_type": "code",
   "execution_count": 2,
   "id": "3f4c77e2-f7f9-446d-8201-0b42c1e9f2a7",
   "metadata": {},
   "outputs": [],
   "source": [
    "list1 = [\"\"]"
   ]
  },
  {
   "cell_type": "code",
   "execution_count": 25,
   "id": "105ee3e3-c275-4a93-9714-997afb837442",
   "metadata": {},
   "outputs": [
    {
     "data": {
      "text/html": [
       "<div>\n",
       "<style scoped>\n",
       "    .dataframe tbody tr th:only-of-type {\n",
       "        vertical-align: middle;\n",
       "    }\n",
       "\n",
       "    .dataframe tbody tr th {\n",
       "        vertical-align: top;\n",
       "    }\n",
       "\n",
       "    .dataframe thead th {\n",
       "        text-align: right;\n",
       "    }\n",
       "</style>\n",
       "<table border=\"1\" class=\"dataframe\">\n",
       "  <thead>\n",
       "    <tr style=\"text-align: right;\">\n",
       "      <th></th>\n",
       "      <th>actor_id</th>\n",
       "      <th>first_name</th>\n",
       "      <th>last_name</th>\n",
       "      <th>last_update</th>\n",
       "    </tr>\n",
       "  </thead>\n",
       "  <tbody>\n",
       "    <tr>\n",
       "      <th>0</th>\n",
       "      <td>1</td>\n",
       "      <td>PENELOPE</td>\n",
       "      <td>GUINESS</td>\n",
       "      <td>2006-02-15 04:34:33</td>\n",
       "    </tr>\n",
       "    <tr>\n",
       "      <th>1</th>\n",
       "      <td>2</td>\n",
       "      <td>NICK</td>\n",
       "      <td>WAHLBERG</td>\n",
       "      <td>2006-02-15 04:34:33</td>\n",
       "    </tr>\n",
       "    <tr>\n",
       "      <th>2</th>\n",
       "      <td>3</td>\n",
       "      <td>ED</td>\n",
       "      <td>CHASE</td>\n",
       "      <td>2006-02-15 04:34:33</td>\n",
       "    </tr>\n",
       "    <tr>\n",
       "      <th>3</th>\n",
       "      <td>4</td>\n",
       "      <td>JENNIFER</td>\n",
       "      <td>DAVIS</td>\n",
       "      <td>2006-02-15 04:34:33</td>\n",
       "    </tr>\n",
       "    <tr>\n",
       "      <th>4</th>\n",
       "      <td>5</td>\n",
       "      <td>JOHNNY</td>\n",
       "      <td>LOLLOBRIGIDA</td>\n",
       "      <td>2006-02-15 04:34:33</td>\n",
       "    </tr>\n",
       "  </tbody>\n",
       "</table>\n",
       "</div>"
      ],
      "text/plain": [
       "   actor_id first_name     last_name          last_update\n",
       "0         1   PENELOPE       GUINESS  2006-02-15 04:34:33\n",
       "1         2       NICK      WAHLBERG  2006-02-15 04:34:33\n",
       "2         3         ED         CHASE  2006-02-15 04:34:33\n",
       "3         4   JENNIFER         DAVIS  2006-02-15 04:34:33\n",
       "4         5     JOHNNY  LOLLOBRIGIDA  2006-02-15 04:34:33"
      ]
     },
     "execution_count": 25,
     "metadata": {},
     "output_type": "execute_result"
    }
   ],
   "source": [
    "import pandas as pd\n",
    "df  = pd.read_csv(r\"C:\\Users\\rkt65\\Desktop\\parth table.csv\")\n",
    "df.head()"
   ]
  },
  {
   "cell_type": "code",
   "execution_count": 26,
   "id": "b5aa17e9-b5e6-4f84-ac89-61644bad5e63",
   "metadata": {},
   "outputs": [
    {
     "data": {
      "text/plain": [
       "0      PENELOPE\n",
       "1          NICK\n",
       "2            ED\n",
       "3      JENNIFER\n",
       "4        JOHNNY\n",
       "         ...   \n",
       "195        BELA\n",
       "196       REESE\n",
       "197        MARY\n",
       "198       JULIA\n",
       "199       THORA\n",
       "Name: first_name, Length: 200, dtype: object"
      ]
     },
     "execution_count": 26,
     "metadata": {},
     "output_type": "execute_result"
    }
   ],
   "source": [
    "df[\"first_name\"]"
   ]
  },
  {
   "cell_type": "code",
   "execution_count": 29,
   "id": "8ae2727f-6a61-4b40-998d-4867bb067509",
   "metadata": {},
   "outputs": [],
   "source": [
    "list1 = [\"rohit\",12,56.7,None,[\"this\",\"that\"],\"rohit\"]"
   ]
  },
  {
   "cell_type": "code",
   "execution_count": 30,
   "id": "eb118d5c-cac0-4890-a5b8-63b55c970ee8",
   "metadata": {},
   "outputs": [
    {
     "data": {
      "text/plain": [
       "'rohit'"
      ]
     },
     "execution_count": 30,
     "metadata": {},
     "output_type": "execute_result"
    }
   ],
   "source": [
    "list1[-1]"
   ]
  },
  {
   "cell_type": "code",
   "execution_count": 31,
   "id": "3db76800-0a49-49cc-a132-934043e6726a",
   "metadata": {},
   "outputs": [
    {
     "ename": "AttributeError",
     "evalue": "'list' object has no attribute 'endswith'",
     "output_type": "error",
     "traceback": [
      "\u001b[1;31m---------------------------------------------------------------------------\u001b[0m",
      "\u001b[1;31mAttributeError\u001b[0m                            Traceback (most recent call last)",
      "Cell \u001b[1;32mIn[31], line 1\u001b[0m\n\u001b[1;32m----> 1\u001b[0m list1\u001b[38;5;241m.\u001b[39mendswith(\u001b[38;5;124m\"\u001b[39m\u001b[38;5;124mrohit\u001b[39m\u001b[38;5;124m\"\u001b[39m)\n",
      "\u001b[1;31mAttributeError\u001b[0m: 'list' object has no attribute 'endswith'"
     ]
    }
   ],
   "source": [
    "list1.endswith(\"rohit\")"
   ]
  },
  {
   "cell_type": "code",
   "execution_count": 32,
   "id": "b192f818-2a69-4b05-b946-d6c405058ef7",
   "metadata": {},
   "outputs": [
    {
     "data": {
      "text/plain": [
       "True"
      ]
     },
     "execution_count": 32,
     "metadata": {},
     "output_type": "execute_result"
    }
   ],
   "source": [
    "\"list\".endswith(\"t\")"
   ]
  },
  {
   "cell_type": "code",
   "execution_count": 33,
   "id": "dabe22d5-83eb-4b25-ad5c-7825dfed804a",
   "metadata": {},
   "outputs": [],
   "source": [
    "list1 = [1,2,3,4]"
   ]
  },
  {
   "cell_type": "code",
   "execution_count": 34,
   "id": "9871e7b3-5024-4b0c-bed5-b521d6a5916c",
   "metadata": {},
   "outputs": [
    {
     "data": {
      "text/plain": [
       "10"
      ]
     },
     "execution_count": 34,
     "metadata": {},
     "output_type": "execute_result"
    }
   ],
   "source": [
    "sum(list1)"
   ]
  },
  {
   "cell_type": "code",
   "execution_count": 36,
   "id": "22f13ac3-14f8-4454-90d8-09505b295761",
   "metadata": {},
   "outputs": [
    {
     "data": {
      "text/plain": [
       "7"
      ]
     },
     "execution_count": 36,
     "metadata": {},
     "output_type": "execute_result"
    }
   ],
   "source": [
    "max((1,2,7))"
   ]
  },
  {
   "cell_type": "code",
   "execution_count": 38,
   "id": "17b41a15-0e5c-49ef-806a-7647b99b71e1",
   "metadata": {},
   "outputs": [],
   "source": [
    "list1 = list((1,2,3,4))"
   ]
  },
  {
   "cell_type": "code",
   "execution_count": 40,
   "id": "8e970340-af13-484d-8078-2a220bd1e88d",
   "metadata": {},
   "outputs": [
    {
     "data": {
      "text/plain": [
       "list"
      ]
     },
     "execution_count": 40,
     "metadata": {},
     "output_type": "execute_result"
    }
   ],
   "source": [
    "list1\n",
    "type(list1)"
   ]
  },
  {
   "cell_type": "code",
   "execution_count": 41,
   "id": "47288cb8-16b0-4740-a533-532421726a61",
   "metadata": {},
   "outputs": [],
   "source": [
    "list1 = [1,2,4,5]"
   ]
  },
  {
   "cell_type": "code",
   "execution_count": 42,
   "id": "9b058d3b-b097-4348-9c44-e7baa276cc1e",
   "metadata": {},
   "outputs": [
    {
     "name": "stdout",
     "output_type": "stream",
     "text": [
      "rohit\n",
      "12\n",
      "56.7\n",
      "None\n",
      "['this', 'that']\n",
      "rohit\n"
     ]
    }
   ],
   "source": [
    "list1 = [\"rohit\",12,56.7,None,[\"this\",\"that\"],\"rohit\"]\n",
    "for item in list1:\n",
    "    print(item)"
   ]
  },
  {
   "cell_type": "code",
   "execution_count": 43,
   "id": "9d744b85-6278-4e2b-8eee-07eb39413c71",
   "metadata": {},
   "outputs": [
    {
     "data": {
      "text/plain": [
       "'rohit'"
      ]
     },
     "execution_count": 43,
     "metadata": {},
     "output_type": "execute_result"
    }
   ],
   "source": [
    "list1[0]"
   ]
  },
  {
   "cell_type": "code",
   "execution_count": 44,
   "id": "941682a7-8c63-435d-9ec6-ed3c36574792",
   "metadata": {},
   "outputs": [
    {
     "data": {
      "text/plain": [
       "['this', 'that']"
      ]
     },
     "execution_count": 44,
     "metadata": {},
     "output_type": "execute_result"
    }
   ],
   "source": [
    "type(list1[4])"
   ]
  },
  {
   "cell_type": "code",
   "execution_count": 46,
   "id": "b759c3ac-7346-41b9-931c-e8295f52a7cb",
   "metadata": {},
   "outputs": [
    {
     "data": {
      "text/plain": [
       "'that'"
      ]
     },
     "execution_count": 46,
     "metadata": {},
     "output_type": "execute_result"
    }
   ],
   "source": [
    "list1[4][1]"
   ]
  },
  {
   "cell_type": "code",
   "execution_count": 47,
   "id": "a913fc34-2e46-42c0-bf0e-8b244ea7ee54",
   "metadata": {},
   "outputs": [
    {
     "data": {
      "text/plain": [
       "[12, 56.7, None, ['this', 'that'], 'rohit']"
      ]
     },
     "execution_count": 47,
     "metadata": {},
     "output_type": "execute_result"
    }
   ],
   "source": [
    "list1[1::1]"
   ]
  },
  {
   "cell_type": "code",
   "execution_count": 48,
   "id": "6320e545-6051-4fac-b6b7-8f6601943f5a",
   "metadata": {},
   "outputs": [],
   "source": [
    "list1.append(\"now\")"
   ]
  },
  {
   "cell_type": "code",
   "execution_count": 49,
   "id": "9a65d11b-f13c-4307-bd22-d3cf01ddbb38",
   "metadata": {},
   "outputs": [
    {
     "data": {
      "text/plain": [
       "['rohit', 12, 56.7, None, ['this', 'that'], 'rohit', 'now']"
      ]
     },
     "execution_count": 49,
     "metadata": {},
     "output_type": "execute_result"
    }
   ],
   "source": [
    "list1"
   ]
  },
  {
   "cell_type": "code",
   "execution_count": 52,
   "id": "6ef0fac3-0609-404b-851a-945452e7be4b",
   "metadata": {},
   "outputs": [
    {
     "data": {
      "text/plain": [
       "140726464922472"
      ]
     },
     "execution_count": 52,
     "metadata": {},
     "output_type": "execute_result"
    }
   ],
   "source": [
    "a = 3\n",
    "id(a)"
   ]
  },
  {
   "cell_type": "code",
   "execution_count": 60,
   "id": "77f54edb-65b2-45b3-94f3-8aec73cea310",
   "metadata": {},
   "outputs": [
    {
     "name": "stdout",
     "output_type": "stream",
     "text": [
      "140726464922536\n",
      "140726464922536\n",
      "True\n"
     ]
    }
   ],
   "source": [
    "b= 5\n",
    "c = 5\n",
    "print(id(b))\n",
    "print(id(c))\n",
    "print(b is c)"
   ]
  },
  {
   "cell_type": "code",
   "execution_count": 54,
   "id": "4a158b51-6645-4db2-b9ac-b6473b50945b",
   "metadata": {},
   "outputs": [],
   "source": [
    "list1 = [1,2,3]\n",
    "list2 = [1,2,3]"
   ]
  },
  {
   "cell_type": "code",
   "execution_count": 59,
   "id": "843111b8-78ad-4a4e-8aae-2ca425290f9b",
   "metadata": {},
   "outputs": [
    {
     "name": "stdout",
     "output_type": "stream",
     "text": [
      "2399354814784\n",
      "2399354713728\n"
     ]
    }
   ],
   "source": [
    "list1 == list2\n",
    "print(id(list1))\n",
    "print(id(list2))"
   ]
  },
  {
   "cell_type": "code",
   "execution_count": 56,
   "id": "a5fde6c4-532b-47fb-9d46-de418c58b869",
   "metadata": {},
   "outputs": [
    {
     "data": {
      "text/plain": [
       "False"
      ]
     },
     "execution_count": 56,
     "metadata": {},
     "output_type": "execute_result"
    }
   ],
   "source": [
    "list1 is list2"
   ]
  },
  {
   "cell_type": "code",
   "execution_count": 61,
   "id": "9a01aa01-0fa3-4103-83be-a8b2efc2cae6",
   "metadata": {},
   "outputs": [],
   "source": [
    "list1 = list2"
   ]
  },
  {
   "cell_type": "code",
   "execution_count": 62,
   "id": "e3425719-79c1-464c-9712-528d07aaab66",
   "metadata": {},
   "outputs": [],
   "source": [
    "list3 = list2"
   ]
  },
  {
   "cell_type": "code",
   "execution_count": 63,
   "id": "4b7d3d3a-74a0-47fd-9915-98c0c16ab73c",
   "metadata": {},
   "outputs": [
    {
     "name": "stdout",
     "output_type": "stream",
     "text": [
      "[1, 2, 3]\n"
     ]
    }
   ],
   "source": [
    "print(list3)"
   ]
  },
  {
   "cell_type": "code",
   "execution_count": 64,
   "id": "f37e7f33-3324-40b4-aa2c-1f8487d30846",
   "metadata": {},
   "outputs": [],
   "source": [
    "list3.append(\"000000000\")"
   ]
  },
  {
   "cell_type": "code",
   "execution_count": 65,
   "id": "e8f3de38-b5f1-45c8-8283-94678f5420f1",
   "metadata": {},
   "outputs": [
    {
     "data": {
      "text/plain": [
       "[1, 2, 3, '000000000']"
      ]
     },
     "execution_count": 65,
     "metadata": {},
     "output_type": "execute_result"
    }
   ],
   "source": [
    "list3"
   ]
  },
  {
   "cell_type": "code",
   "execution_count": 66,
   "id": "8d880daf-782b-41ed-bed9-6b0e4ac953b9",
   "metadata": {},
   "outputs": [
    {
     "data": {
      "text/plain": [
       "[1, 2, 3, '000000000']"
      ]
     },
     "execution_count": 66,
     "metadata": {},
     "output_type": "execute_result"
    }
   ],
   "source": [
    "list2"
   ]
  },
  {
   "cell_type": "code",
   "execution_count": 67,
   "id": "3b217807-8611-49af-aba4-f7e402b4ec42",
   "metadata": {},
   "outputs": [],
   "source": [
    "list3.append(\"ram\")"
   ]
  },
  {
   "cell_type": "code",
   "execution_count": 68,
   "id": "5537bc02-4f34-4813-b324-e4f27090d546",
   "metadata": {},
   "outputs": [
    {
     "data": {
      "text/plain": [
       "[1, 2, 3, '000000000', 'ram']"
      ]
     },
     "execution_count": 68,
     "metadata": {},
     "output_type": "execute_result"
    }
   ],
   "source": [
    "list2"
   ]
  },
  {
   "cell_type": "code",
   "execution_count": 69,
   "id": "c1be78b4-e8b5-402c-8379-c6a66ab72269",
   "metadata": {},
   "outputs": [
    {
     "ename": "TypeError",
     "evalue": "list.remove() takes exactly one argument (0 given)",
     "output_type": "error",
     "traceback": [
      "\u001b[1;31m---------------------------------------------------------------------------\u001b[0m",
      "\u001b[1;31mTypeError\u001b[0m                                 Traceback (most recent call last)",
      "Cell \u001b[1;32mIn[69], line 1\u001b[0m\n\u001b[1;32m----> 1\u001b[0m list1\u001b[38;5;241m.\u001b[39mremove()\n",
      "\u001b[1;31mTypeError\u001b[0m: list.remove() takes exactly one argument (0 given)"
     ]
    }
   ],
   "source": [
    "list1.remove()"
   ]
  },
  {
   "cell_type": "code",
   "execution_count": 70,
   "id": "294e92de-9c0c-4378-b1ce-1aa0f6d16f5b",
   "metadata": {},
   "outputs": [
    {
     "data": {
      "text/plain": [
       "'ram'"
      ]
     },
     "execution_count": 70,
     "metadata": {},
     "output_type": "execute_result"
    }
   ],
   "source": [
    "list1.pop()"
   ]
  },
  {
   "cell_type": "code",
   "execution_count": 71,
   "id": "62690268-3452-457c-981b-b7b48107306f",
   "metadata": {},
   "outputs": [
    {
     "data": {
      "text/plain": [
       "[1, 2, 3, '000000000']"
      ]
     },
     "execution_count": 71,
     "metadata": {},
     "output_type": "execute_result"
    }
   ],
   "source": [
    "list1"
   ]
  },
  {
   "cell_type": "code",
   "execution_count": 78,
   "id": "689c2d28-ee2f-4b16-9448-c1a11297fa49",
   "metadata": {},
   "outputs": [
    {
     "name": "stdout",
     "output_type": "stream",
     "text": [
      "yes\n"
     ]
    }
   ],
   "source": [
    "if (1,):\n",
    "    print(\"yes\")\n",
    "\n",
    "else:\n",
    "    print(\"NO\")"
   ]
  },
  {
   "cell_type": "code",
   "execution_count": null,
   "id": "858c9874-8156-4b60-b2cc-fc1bffd3a989",
   "metadata": {},
   "outputs": [],
   "source": []
  }
 ],
 "metadata": {
  "kernelspec": {
   "display_name": "Python 3 (ipykernel)",
   "language": "python",
   "name": "python3"
  },
  "language_info": {
   "codemirror_mode": {
    "name": "ipython",
    "version": 3
   },
   "file_extension": ".py",
   "mimetype": "text/x-python",
   "name": "python",
   "nbconvert_exporter": "python",
   "pygments_lexer": "ipython3",
   "version": "3.11.7"
  }
 },
 "nbformat": 4,
 "nbformat_minor": 5
}
