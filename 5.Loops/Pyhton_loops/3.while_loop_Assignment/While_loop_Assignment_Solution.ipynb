{
 "cells": [
  {
   "cell_type": "markdown",
   "id": "7a05bf34",
   "metadata": {},
   "source": [
    "Task: Guess the Number Game\n",
    "    \n",
    "    \n",
    "Description:\n",
    "    \n",
    "Write a Python program that generates a random number between 1 and 100. The user should then repeatedly guess the number until they guess it correctly. After each guess, the program should provide feedback to the user, indicating whether their guess is too high, too low, or correct. Once the correct number is guessed, the program should print the number of attempts it took the user to guess the correct number.\n",
    "Hints:\n",
    "    \n",
    "1.Use a while loop to repeatedly prompt the user for their guess until they guess the correct number.\n",
    "\n",
    "2.Use the random module to generate a random number between 1 and 100.\n",
    "\n",
    "3.Provide feedback to the user after each guess, indicating whether their guess is too high, too low, or correct.\n",
    "\n",
    "\n",
    "4.Count the number of attempts it takes the user to guess the correct number and print this count when the correct number is guessed."
   ]
  },
  {
   "cell_type": "code",
   "execution_count": null,
   "id": "b73adf02",
   "metadata": {},
   "outputs": [],
   "source": [
    "import random\n",
    "\n",
    "# Generate a random number between 1 and 100\n",
    "secret_number = random.randint(1, 100)\n",
    "\n",
    "# Initialize the number of attempts\n",
    "attempts = 0\n",
    "\n",
    "# Start the game loop\n",
    "while True:\n",
    "    # Prompt the user to guess the number\n",
    "    guess = int(input(\"Guess the number between 1 and 100: \"))\n",
    "    \n",
    "    # Increment the number of attempts\n",
    "    attempts += 1\n",
    "    \n",
    "    # Check if the guess is correct\n",
    "    if guess == secret_number:\n",
    "        print(\"Congratulations! You guessed the correct number in\", attempts, \"attempts.\")\n",
    "        break\n",
    "    elif guess < secret_number:\n",
    "        print(\"Too low. Try again.\")\n",
    "    else:\n",
    "        print(\"Too high. Try again.\")\n"
   ]
  },
  {
   "cell_type": "markdown",
   "id": "d80c05a0",
   "metadata": {},
   "source": []
  }
 ],
 "metadata": {
  "kernelspec": {
   "display_name": "Python 3 (ipykernel)",
   "language": "python",
   "name": "python3"
  },
  "language_info": {
   "codemirror_mode": {
    "name": "ipython",
    "version": 3
   },
   "file_extension": ".py",
   "mimetype": "text/x-python",
   "name": "python",
   "nbconvert_exporter": "python",
   "pygments_lexer": "ipython3",
   "version": "3.11.7"
  }
 },
 "nbformat": 4,
 "nbformat_minor": 5
}
