{
 "cells": [
  {
   "cell_type": "code",
   "execution_count": 1,
   "id": "87a4752b-d3ea-4d3f-b14e-0724e69bbf48",
   "metadata": {},
   "outputs": [
    {
     "name": "stdout",
     "output_type": "stream",
     "text": [
      "Sum of list: 499999500000\n",
      "Time taken: 0.05563044548034668\n"
     ]
    }
   ],
   "source": [
    "import time\n",
    "\n",
    "# Create a list of numbers\n",
    "my_list = list(range(1000000))\n",
    "\n",
    "# Sum elements of the list\n",
    "start = time.time()\n",
    "sum_list = sum(my_list)\n",
    "end = time.time()\n",
    "\n",
    "print(\"Sum of list:\", sum_list)\n",
    "print(\"Time taken:\", end - start)\n"
   ]
  },
  {
   "cell_type": "code",
   "execution_count": 2,
   "id": "d19882f4-dd96-461b-acef-9e4da0a700ea",
   "metadata": {},
   "outputs": [
    {
     "name": "stdout",
     "output_type": "stream",
     "text": [
      "Sum of array: 1783293664\n",
      "Time taken: 0.0009987354278564453\n"
     ]
    }
   ],
   "source": [
    "import numpy as np\n",
    "\n",
    "# Create a NumPy array of numbers\n",
    "my_array = np.arange(1000000)\n",
    "\n",
    "# Sum elements of the array\n",
    "start = time.time()\n",
    "sum_array = np.sum(my_array)\n",
    "end = time.time()\n",
    "\n",
    "print(\"Sum of array:\", sum_array)\n",
    "print(\"Time taken:\", end - start)\n"
   ]
  },
  {
   "cell_type": "code",
   "execution_count": null,
   "id": "4ce1da3a-e471-48b5-a1b8-e252e964f6cc",
   "metadata": {},
   "outputs": [],
   "source": []
  },
  {
   "cell_type": "code",
   "execution_count": 3,
   "id": "287e10b8-a2d8-4bd7-a731-aabfe56d96d5",
   "metadata": {},
   "outputs": [
    {
     "data": {
      "text/plain": [
       "array([0, 1, 2, 3, 4, 5, 6, 7, 8, 9])"
      ]
     },
     "execution_count": 3,
     "metadata": {},
     "output_type": "execute_result"
    }
   ],
   "source": [
    "np.arange(10)"
   ]
  },
  {
   "cell_type": "code",
   "execution_count": 4,
   "id": "d790f116-c177-46f6-88cd-8316a61d67a2",
   "metadata": {},
   "outputs": [
    {
     "data": {
      "text/plain": [
       "[0, 1, 2, 3, 4, 5, 6, 7, 8, 9]"
      ]
     },
     "execution_count": 4,
     "metadata": {},
     "output_type": "execute_result"
    }
   ],
   "source": [
    "list(range(10))"
   ]
  },
  {
   "cell_type": "code",
   "execution_count": 5,
   "id": "a26b9155-a390-4713-b1a8-e0920a648556",
   "metadata": {},
   "outputs": [
    {
     "name": "stdout",
     "output_type": "stream",
     "text": [
      "Sum of list: 499999500000\n",
      "Time taken: 0.0658571720123291\n"
     ]
    }
   ],
   "source": [
    "import time\n",
    "\n",
    "# Create a list of numbers\n",
    "my_list = list(range(1000000))\n",
    "\n",
    "# Sum elements of the list\n",
    "start = time.time()\n",
    "sum_list = sum(my_list)\n",
    "end = time.time()\n",
    "\n",
    "print(\"Sum of list:\", sum_list)\n",
    "print(\"Time taken:\", end - start)\n"
   ]
  },
  {
   "cell_type": "code",
   "execution_count": 6,
   "id": "c31c50e5-d5a0-4722-9bd1-fd4823635205",
   "metadata": {},
   "outputs": [
    {
     "name": "stdout",
     "output_type": "stream",
     "text": [
      "Sum of array: 1783293664\n",
      "Time taken: 0.001287221908569336\n"
     ]
    }
   ],
   "source": [
    "import numpy as np\n",
    "import time\n",
    "\n",
    "# Create a NumPy array of numbers\n",
    "my_array = np.arange(1000000)\n",
    "\n",
    "# Sum elements of the array\n",
    "start = time.time()\n",
    "sum_array = np.sum(my_array)\n",
    "end = time.time()\n",
    "\n",
    "print(\"Sum of array:\", sum_array)\n",
    "print(\"Time taken:\", end - start)\n"
   ]
  },
  {
   "cell_type": "code",
   "execution_count": 7,
   "id": "1ccaa334-eaab-4c20-8f72-b70f262faa15",
   "metadata": {},
   "outputs": [
    {
     "name": "stdout",
     "output_type": "stream",
     "text": [
      "Sum of array: 499999500000\n",
      "Time taken: 0.0005056858062744141\n"
     ]
    }
   ],
   "source": [
    "import numpy as np\n",
    "import time\n",
    "\n",
    "# Create a NumPy array of numbers with int64 data type\n",
    "my_array = np.arange(1000000, dtype=np.int64)\n",
    "\n",
    "# Sum elements of the array\n",
    "start = time.time()\n",
    "sum_array = np.sum(my_array)\n",
    "end = time.time()\n",
    "\n",
    "print(\"Sum of array:\", sum_array)\n",
    "print(\"Time taken:\", end - start)\n"
   ]
  },
  {
   "cell_type": "code",
   "execution_count": 8,
   "id": "0a014818-0384-4f7a-b5c3-92b4f2a06d1e",
   "metadata": {},
   "outputs": [],
   "source": [
    "array1 = np.arange(110)\n",
    "array2 = np.arange(110)"
   ]
  },
  {
   "cell_type": "code",
   "execution_count": 9,
   "id": "a3dbc8e8-c991-4d0f-a8d1-6777575fb5a2",
   "metadata": {},
   "outputs": [
    {
     "data": {
      "text/plain": [
       "2152291827600"
      ]
     },
     "execution_count": 9,
     "metadata": {},
     "output_type": "execute_result"
    }
   ],
   "source": [
    "id(array1)"
   ]
  },
  {
   "cell_type": "code",
   "execution_count": 10,
   "id": "0b701821-8b20-474f-9316-ddf79ae88482",
   "metadata": {},
   "outputs": [
    {
     "data": {
      "text/plain": [
       "2152291403984"
      ]
     },
     "execution_count": 10,
     "metadata": {},
     "output_type": "execute_result"
    }
   ],
   "source": [
    "id(array2)"
   ]
  },
  {
   "cell_type": "code",
   "execution_count": null,
   "id": "8eca279c-8565-47a5-809e-3f63ec24d55d",
   "metadata": {},
   "outputs": [],
   "source": []
  }
 ],
 "metadata": {
  "kernelspec": {
   "display_name": "Python 3 (ipykernel)",
   "language": "python",
   "name": "python3"
  },
  "language_info": {
   "codemirror_mode": {
    "name": "ipython",
    "version": 3
   },
   "file_extension": ".py",
   "mimetype": "text/x-python",
   "name": "python",
   "nbconvert_exporter": "python",
   "pygments_lexer": "ipython3",
   "version": "3.11.7"
  }
 },
 "nbformat": 4,
 "nbformat_minor": 5
}
