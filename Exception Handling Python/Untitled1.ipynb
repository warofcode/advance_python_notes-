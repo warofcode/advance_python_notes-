{
 "cells": [
  {
   "cell_type": "code",
   "execution_count": 17,
   "id": "50cafc05",
   "metadata": {},
   "outputs": [
    {
     "name": "stdout",
     "output_type": "stream",
     "text": [
      "Enter you password : 45\n",
      "your input is 45 and second is 34 rohit\n",
      "45\n",
      "your input is  45\n",
      "your input is 45\n",
      "your input is 34 and second input is 45\n"
     ]
    }
   ],
   "source": [
    "user_input = int(input(\"Enter you password : \"))\n",
    "\n",
    "input2 = 34\n",
    "\n",
    "name = \"rohit\"\n",
    "\n",
    "print(f\"your input is {user_input} and second is {input2} {name}\")\n",
    "\n",
    "print(user_input)\n",
    "\n",
    "print(\"your input is \",user_input)\n",
    "\n",
    "print(\"your input is {}\".format(user_input))\n",
    "\n",
    "print(\"your input is {1} and second input is {0}\".format(user_input,input2))"
   ]
  },
  {
   "cell_type": "code",
   "execution_count": 22,
   "id": "3b4915f4",
   "metadata": {},
   "outputs": [
    {
     "data": {
      "text/plain": [
       "'Python'"
      ]
     },
     "execution_count": 22,
     "metadata": {},
     "output_type": "execute_result"
    }
   ],
   "source": [
    "username = \"pyhton\"\n",
    "\"rkt6543\"\n",
    "\n",
    "\"RkT6543\""
   ]
  },
  {
   "cell_type": "code",
   "execution_count": 23,
   "id": "26c7171d",
   "metadata": {},
   "outputs": [
    {
     "data": {
      "text/plain": [
       "False"
      ]
     },
     "execution_count": 23,
     "metadata": {},
     "output_type": "execute_result"
    }
   ],
   "source": [
    "\"python\" == \"Python\""
   ]
  },
  {
   "cell_type": "code",
   "execution_count": 24,
   "id": "ef929e00",
   "metadata": {},
   "outputs": [
    {
     "data": {
      "text/plain": [
       "'RKT6543@gmail.com'"
      ]
     },
     "execution_count": 24,
     "metadata": {},
     "output_type": "execute_result"
    }
   ],
   "source": [
    "\"rkt6543@gmail.com\"\n",
    "\"RKT6543@gmail.com\""
   ]
  },
  {
   "cell_type": "code",
   "execution_count": 32,
   "id": "98915833",
   "metadata": {},
   "outputs": [
    {
     "ename": "SyntaxError",
     "evalue": "incomplete input (2186657471.py, line 8)",
     "output_type": "error",
     "traceback": [
      "\u001b[1;36m  Cell \u001b[1;32mIn[32], line 8\u001b[1;36m\u001b[0m\n\u001b[1;33m    \u001b[0m\n\u001b[1;37m    ^\u001b[0m\n\u001b[1;31mSyntaxError\u001b[0m\u001b[1;31m:\u001b[0m incomplete input\n"
     ]
    }
   ],
   "source": [
    "try:\n",
    "    function(function())\n",
    "    \n",
    "except:\n",
    "    \n",
    "\n",
    "    \n",
    "   "
   ]
  },
  {
   "cell_type": "code",
   "execution_count": 30,
   "id": "30fe7d48",
   "metadata": {},
   "outputs": [
    {
     "ename": "NameError",
     "evalue": "name 'function' is not defined",
     "output_type": "error",
     "traceback": [
      "\u001b[1;31m---------------------------------------------------------------------------\u001b[0m",
      "\u001b[1;31mNameError\u001b[0m                                 Traceback (most recent call last)",
      "Cell \u001b[1;32mIn[30], line 1\u001b[0m\n\u001b[1;32m----> 1\u001b[0m function()\n",
      "\u001b[1;31mNameError\u001b[0m: name 'function' is not defined"
     ]
    }
   ],
   "source": [
    "function()"
   ]
  },
  {
   "cell_type": "code",
   "execution_count": null,
   "id": "31bb1504",
   "metadata": {},
   "outputs": [],
   "source": []
  },
  {
   "cell_type": "code",
   "execution_count": 29,
   "id": "2eea7f18",
   "metadata": {},
   "outputs": [
    {
     "name": "stdout",
     "output_type": "stream",
     "text": [
      "Enter your user name : RKT6543@gmail.com\"\n",
      "your username is  rkt6543@gmail.com\"\n"
     ]
    }
   ],
   "source": [
    "\n",
    "\n",
    "user_input = input(\"Enter your user name : \").lower()\n",
    "\n",
    "\n",
    "print(\"your username is \",user_input)"
   ]
  },
  {
   "cell_type": "code",
   "execution_count": null,
   "id": "82fa6911",
   "metadata": {},
   "outputs": [],
   "source": []
  },
  {
   "cell_type": "code",
   "execution_count": null,
   "id": "6388b7e9",
   "metadata": {},
   "outputs": [],
   "source": []
  },
  {
   "cell_type": "code",
   "execution_count": null,
   "id": "469a51dd",
   "metadata": {},
   "outputs": [],
   "source": []
  },
  {
   "cell_type": "code",
   "execution_count": null,
   "id": "65bfc91d",
   "metadata": {},
   "outputs": [],
   "source": []
  }
 ],
 "metadata": {
  "kernelspec": {
   "display_name": "Python 3 (ipykernel)",
   "language": "python",
   "name": "python3"
  },
  "language_info": {
   "codemirror_mode": {
    "name": "ipython",
    "version": 3
   },
   "file_extension": ".py",
   "mimetype": "text/x-python",
   "name": "python",
   "nbconvert_exporter": "python",
   "pygments_lexer": "ipython3",
   "version": "3.11.5"
  }
 },
 "nbformat": 4,
 "nbformat_minor": 5
}
