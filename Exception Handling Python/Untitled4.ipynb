{
 "cells": [
  {
   "cell_type": "code",
   "execution_count": 15,
   "id": "e9abb8c6-e4d7-47e6-8abf-db419f397323",
   "metadata": {},
   "outputs": [
    {
     "name": "stdin",
     "output_type": "stream",
     "text": [
      "First Number 45\n",
      "Second Number 0\n"
     ]
    },
    {
     "name": "stdout",
     "output_type": "stream",
     "text": [
      "only number are allowed\n",
      "all files closed\n"
     ]
    }
   ],
   "source": [
    "try:\n",
    "    num1 = int(input(\"First Number\"))\n",
    "    num2 = int(input(\"Second Number\"))\n",
    "    result = num1/num2\n",
    "    print(\"Result is \",result)\n",
    "except Exception as e:\n",
    "    print(\"only number are allowed\")\n",
    "\n",
    "else:\n",
    "    print(\"Program done successfully\")\n",
    "\n",
    "finally:\n",
    "    print(\"all files closed\")\n"
   ]
  },
  {
   "cell_type": "code",
   "execution_count": 20,
   "id": "89243339-d4cf-4a6e-a652-2176a5038023",
   "metadata": {},
   "outputs": [],
   "source": [
    "def divide(a, b):\n",
    "    if b == 0:\n",
    "        raise ValueError(\"manoj error\")\n",
    "    return a / b\n"
   ]
  },
  {
   "cell_type": "code",
   "execution_count": 21,
   "id": "956c3748-8ddc-47cc-888f-4d3b435ef44a",
   "metadata": {},
   "outputs": [
    {
     "ename": "ValueError",
     "evalue": "manoj error",
     "output_type": "error",
     "traceback": [
      "\u001b[1;31m---------------------------------------------------------------------------\u001b[0m",
      "\u001b[1;31mValueError\u001b[0m                                Traceback (most recent call last)",
      "Cell \u001b[1;32mIn[21], line 1\u001b[0m\n\u001b[1;32m----> 1\u001b[0m divide(\u001b[38;5;241m1\u001b[39m,\u001b[38;5;241m0\u001b[39m)\n",
      "Cell \u001b[1;32mIn[20], line 3\u001b[0m, in \u001b[0;36mdivide\u001b[1;34m(a, b)\u001b[0m\n\u001b[0;32m      1\u001b[0m \u001b[38;5;28;01mdef\u001b[39;00m \u001b[38;5;21mdivide\u001b[39m(a, b):\n\u001b[0;32m      2\u001b[0m     \u001b[38;5;28;01mif\u001b[39;00m b \u001b[38;5;241m==\u001b[39m \u001b[38;5;241m0\u001b[39m:\n\u001b[1;32m----> 3\u001b[0m         \u001b[38;5;28;01mraise\u001b[39;00m \u001b[38;5;167;01mValueError\u001b[39;00m(\u001b[38;5;124m\"\u001b[39m\u001b[38;5;124mmanoj error\u001b[39m\u001b[38;5;124m\"\u001b[39m)\n\u001b[0;32m      4\u001b[0m     \u001b[38;5;28;01mreturn\u001b[39;00m a \u001b[38;5;241m/\u001b[39m b\n",
      "\u001b[1;31mValueError\u001b[0m: manoj error"
     ]
    }
   ],
   "source": [
    "divide(1,0)"
   ]
  },
  {
   "cell_type": "code",
   "execution_count": 25,
   "id": "aa9ed28e-bf5b-4c51-aa99-bbf1768d4af8",
   "metadata": {},
   "outputs": [
    {
     "name": "stdin",
     "output_type": "stream",
     "text": [
      "Please Enter your 4 digit numeric password :  jdsfhj\n"
     ]
    }
   ],
   "source": [
    "password=input(\"Please Enter your 4 digit numeric password : \")\n",
    "\n",
    "\n",
    "\n",
    "if password.isdigit() and len(password) == 4:\n",
    "\n",
    "    print(\"Wecome to login page\")\n",
    "\n",
    "# else:\n",
    "#     raise TypeError (\"only 4 digit is valid for password\")"
   ]
  },
  {
   "cell_type": "code",
   "execution_count": null,
   "id": "1a98b393-2f55-46d3-80c0-208677789ac1",
   "metadata": {},
   "outputs": [],
   "source": []
  }
 ],
 "metadata": {
  "kernelspec": {
   "display_name": "Python 3 (ipykernel)",
   "language": "python",
   "name": "python3"
  },
  "language_info": {
   "codemirror_mode": {
    "name": "ipython",
    "version": 3
   },
   "file_extension": ".py",
   "mimetype": "text/x-python",
   "name": "python",
   "nbconvert_exporter": "python",
   "pygments_lexer": "ipython3",
   "version": "3.11.7"
  }
 },
 "nbformat": 4,
 "nbformat_minor": 5
}
