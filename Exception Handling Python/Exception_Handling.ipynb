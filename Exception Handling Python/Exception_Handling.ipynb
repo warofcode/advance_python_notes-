{
 "cells": [
  {
   "cell_type": "markdown",
   "id": "8937b92c",
   "metadata": {},
   "source": [
    "# ---------------------------- Exception Handling----------------------------------"
   ]
  },
  {
   "cell_type": "markdown",
   "id": "d0d55904",
   "metadata": {},
   "source": [
    "Exception handling in Python is a mechanism that allows programmers to handle errors or exceptions that occur during the execution of a program. Exceptions are raised when an error occurs during the execution of a program, such as a division by zero, an invalid input, or a file not found, which can cause the program to terminate abruptly(suddenly and unexpectedly).\n",
    "\n",
    "Exception handling allows programmers to gracefully handle such errors and provide a way to recover from them, rather than allowing the program to crash. It helps in writing more robust and reliable code by anticipating potential errors and providing appropriate responses.\n",
    "\n",
    "In Python, exception handling is done using a combination of try, except, and finally blocks. The basic structure of exception handling in Python is as follows:"
   ]
  },
  {
   "cell_type": "code",
   "execution_count": null,
   "id": "b55012d2",
   "metadata": {},
   "outputs": [],
   "source": [
    "There are two types of errors in python\n",
    "\n",
    "1.Syntax Error:\n",
    "   Syntax Errors are problems in a program due to which the program will stop the execution.\n",
    "    \n",
    "    \n",
    "2.Exceptions :\n",
    "    \n",
    "   exceptions are raised when some internal events occur which change the normal flow of the program.   \n",
    "    "
   ]
  },
  {
   "cell_type": "markdown",
   "id": "fd9ea9ab",
   "metadata": {},
   "source": [
    "# Difference between Syntax error and Exception..."
   ]
  },
  {
   "cell_type": "markdown",
   "id": "6d02995c",
   "metadata": {},
   "source": [
    "# Syntax Error"
   ]
  },
  {
   "cell_type": "markdown",
   "id": "af7c0e35",
   "metadata": {},
   "source": [
    "1.Syntax errors occur during the parsing of code, before the execution of the program begins.\n"
   ]
  },
  {
   "cell_type": "markdown",
   "id": "c7c57bf3",
   "metadata": {},
   "source": [
    "2.These errors arise when Python encounters code that violates the language syntax rules. For example, missing colons,    mismatched parentheses, or using an invalid token."
   ]
  },
  {
   "cell_type": "markdown",
   "id": "b47a7706",
   "metadata": {},
   "source": [
    "3.Syntax errors prevent the program from running at all. Python will display an error message and terminate the program immediately."
   ]
  },
  {
   "cell_type": "markdown",
   "id": "19077ca3",
   "metadata": {},
   "source": [
    "4.Syntax errors are typically caught during the initial compilation or interpretation phase of the code."
   ]
  },
  {
   "cell_type": "markdown",
   "id": "2a489f07",
   "metadata": {},
   "source": [
    "# Exception:"
   ]
  },
  {
   "cell_type": "markdown",
   "id": "cf49b135",
   "metadata": {},
   "source": [
    "1. Exceptions occur during the execution of a program, after the code has been successfully parsed and is running."
   ]
  },
  {
   "cell_type": "markdown",
   "id": "7a9cb8ba",
   "metadata": {},
   "source": [
    "2. Exceptions arise when unexpected conditions occur during the execution of the program. This could be due to user input, file I/O errors, network issues, or other runtime conditions."
   ]
  },
  {
   "cell_type": "markdown",
   "id": "3b83543f",
   "metadata": {},
   "source": [
    "3. Exceptions do not necessarily halt the program immediately. They can be caught and handled using try and except blocks to gracefully handle errors and continue program execution or perform cleanup operations."
   ]
  },
  {
   "cell_type": "markdown",
   "id": "b7cfb02a",
   "metadata": {},
   "source": [
    "4. Exceptions are instances of Python's built-in Exception class or its subclasses, and they can be raised intentionally using the raise statement or raised automatically by Python when an error occurs."
   ]
  },
  {
   "cell_type": "markdown",
   "id": "4b8767c4",
   "metadata": {},
   "source": [
    "# Summary:"
   ]
  },
  {
   "cell_type": "markdown",
   "id": "5f4d0d3b",
   "metadata": {},
   "source": [
    "In summary, syntax errors occur during the parsing phase due to violations of language syntax rules and prevent the program from running, while exceptions occur during program execution due to unexpected conditions and can be caught and handled to gracefully handle errors and continue program execution."
   ]
  },
  {
   "cell_type": "code",
   "execution_count": 1,
   "id": "6ddcd304",
   "metadata": {},
   "outputs": [
    {
     "ename": "SyntaxError",
     "evalue": "EOL while scanning string literal (1337015172.py, line 1)",
     "output_type": "error",
     "traceback": [
      "\u001b[1;36m  Input \u001b[1;32mIn [1]\u001b[1;36m\u001b[0m\n\u001b[1;33m    print(\"heell)\u001b[0m\n\u001b[1;37m                 ^\u001b[0m\n\u001b[1;31mSyntaxError\u001b[0m\u001b[1;31m:\u001b[0m EOL while scanning string literal\n"
     ]
    }
   ],
   "source": [
    "print(\"heell)"
   ]
  },
  {
   "cell_type": "markdown",
   "id": "3d7e71c1",
   "metadata": {},
   "source": [
    "# Different type of exceptions error in python    "
   ]
  },
  {
   "cell_type": "markdown",
   "id": "efadfd55",
   "metadata": {},
   "source": [
    "In Python, there are several built-in exception types that represent different categories of errors. Some of the commonly used built-in exception types in Python include:\n",
    "\n",
    "\n",
    "\n",
    "Exception: This is the base class for all built-in exceptions in Python. It can be used to catch any type of exception.\n",
    "\n",
    "\n",
    "AttributeError: Raised when an object does not have a specific attribute or method.\n",
    "\n",
    "\n",
    "ValueError: Raised when a function receives an argument of the correct type but an inappropriate value.\n",
    "\n",
    "\n",
    "TypeError: Raised when an operation is performed on an object of an inappropriate data type.\n",
    "\n",
    "\n",
    "IndexError: Raised when trying to access a list, tuple, or string using an invalid index.\n",
    "\n",
    "\n",
    "KeyError: Raised when trying to access a dictionary using a key that does not exist in the dictionary.\n",
    "\n",
    "\n",
    "ZeroDivisionError: Raised when dividing a number by zero.\n",
    "\n",
    "\n",
    "FileNotFoundError: Raised when trying to access a file that does not exist.\n",
    "\n",
    "\n",
    "ImportError: Raised when importing a module that does not exist or has not been installed.\n",
    "\n",
    "\n",
    "SyntaxError: Raised when there is a mistake in the syntax of the Python code.\n",
    "\n",
    "\n",
    "NameError: Raised when a variable or name is referenced before it is defined or assigned a value.\n",
    "\n",
    "\n",
    "OverflowError: Raised when the result of an arithmetic operation is too large to be expressed within the limits of the \n",
    "integer or floating-point type.\n",
    "\n",
    "\n",
    "AssertionError: Raised when an assertion fails, which is a statement that checks if a condition is true and raises an exception if it is not.\n",
    "\n",
    "\n",
    "KeyboardInterrupt: Raised when the user interrupts the program execution, typically by pressing Ctrl+C.\n",
    "\n",
    "\n",
    "IOError: Raised when there is an input/output error, such as when reading from or writing to a file.\n",
    "\n",
    "\n",
    "These are just some of the many built-in exception types in Python. Additionally, Python allows for defining custom exception types using the raise statement, which allows programmers to create their own exception classes to handle specific errors in their code. Properly handling exceptions is an important practice in Python programming to ensure robustness and reliability in code.\n",
    "\n",
    "\n",
    "\n",
    "\n",
    "\n"
   ]
  },
  {
   "cell_type": "code",
   "execution_count": 2,
   "id": "ec9ed369",
   "metadata": {},
   "outputs": [
    {
     "ename": "ZeroDivisionError",
     "evalue": "division by zero",
     "output_type": "error",
     "traceback": [
      "\u001b[1;31m---------------------------------------------------------------------------\u001b[0m",
      "\u001b[1;31mZeroDivisionError\u001b[0m                         Traceback (most recent call last)",
      "Input \u001b[1;32mIn [2]\u001b[0m, in \u001b[0;36m<cell line: 1>\u001b[1;34m()\u001b[0m\n\u001b[1;32m----> 1\u001b[0m \u001b[38;5;241;43m56\u001b[39;49m\u001b[38;5;241;43m/\u001b[39;49m\u001b[38;5;241;43m0\u001b[39;49m\n",
      "\u001b[1;31mZeroDivisionError\u001b[0m: division by zero"
     ]
    }
   ],
   "source": [
    "56/0"
   ]
  },
  {
   "cell_type": "code",
   "execution_count": 3,
   "id": "6b8afebb",
   "metadata": {},
   "outputs": [
    {
     "ename": "ModuleNotFoundError",
     "evalue": "No module named 'rohit'",
     "output_type": "error",
     "traceback": [
      "\u001b[1;31m---------------------------------------------------------------------------\u001b[0m",
      "\u001b[1;31mModuleNotFoundError\u001b[0m                       Traceback (most recent call last)",
      "Input \u001b[1;32mIn [3]\u001b[0m, in \u001b[0;36m<cell line: 1>\u001b[1;34m()\u001b[0m\n\u001b[1;32m----> 1\u001b[0m \u001b[38;5;28;01mimport\u001b[39;00m \u001b[38;5;21;01mrohit\u001b[39;00m\n",
      "\u001b[1;31mModuleNotFoundError\u001b[0m: No module named 'rohit'"
     ]
    }
   ],
   "source": [
    "import rohit # your mehtod of writing is ok but module is not available"
   ]
  },
  {
   "cell_type": "code",
   "execution_count": 4,
   "id": "834e950d",
   "metadata": {},
   "outputs": [
    {
     "ename": "TypeError",
     "evalue": "'int' object is not iterable",
     "output_type": "error",
     "traceback": [
      "\u001b[1;31m---------------------------------------------------------------------------\u001b[0m",
      "\u001b[1;31mTypeError\u001b[0m                                 Traceback (most recent call last)",
      "Input \u001b[1;32mIn [4]\u001b[0m, in \u001b[0;36m<cell line: 1>\u001b[1;34m()\u001b[0m\n\u001b[1;32m----> 1\u001b[0m \u001b[38;5;28;01mfor\u001b[39;00m i \u001b[38;5;129;01min\u001b[39;00m \u001b[38;5;241m3\u001b[39m:\n\u001b[0;32m      2\u001b[0m     \u001b[38;5;28mprint\u001b[39m(i)\n",
      "\u001b[1;31mTypeError\u001b[0m: 'int' object is not iterable"
     ]
    }
   ],
   "source": [
    "for i in 3:\n",
    "    print(i)"
   ]
  },
  {
   "cell_type": "code",
   "execution_count": 5,
   "id": "3ac9e483",
   "metadata": {},
   "outputs": [
    {
     "ename": "AttributeError",
     "evalue": "module 'math' has no attribute 'rohi'",
     "output_type": "error",
     "traceback": [
      "\u001b[1;31m---------------------------------------------------------------------------\u001b[0m",
      "\u001b[1;31mAttributeError\u001b[0m                            Traceback (most recent call last)",
      "Input \u001b[1;32mIn [5]\u001b[0m, in \u001b[0;36m<cell line: 3>\u001b[1;34m()\u001b[0m\n\u001b[0;32m      1\u001b[0m \u001b[38;5;28;01mimport\u001b[39;00m \u001b[38;5;21;01mmath\u001b[39;00m\n\u001b[1;32m----> 3\u001b[0m \u001b[43mmath\u001b[49m\u001b[38;5;241;43m.\u001b[39;49m\u001b[43mrohi\u001b[49m\n",
      "\u001b[1;31mAttributeError\u001b[0m: module 'math' has no attribute 'rohi'"
     ]
    }
   ],
   "source": [
    "import math\n",
    "\n",
    "math.rohi"
   ]
  },
  {
   "cell_type": "markdown",
   "id": "3f4c6bab",
   "metadata": {},
   "source": [
    "# Flow of exception handling"
   ]
  },
  {
   "cell_type": "code",
   "execution_count": 74,
   "id": "88b2886e",
   "metadata": {},
   "outputs": [
    {
     "ename": "IndentationError",
     "evalue": "expected an indented block (847285539.py, line 4)",
     "output_type": "error",
     "traceback": [
      "\u001b[1;36m  Input \u001b[1;32mIn [74]\u001b[1;36m\u001b[0m\n\u001b[1;33m    except:\u001b[0m\n\u001b[1;37m    ^\u001b[0m\n\u001b[1;31mIndentationError\u001b[0m\u001b[1;31m:\u001b[0m expected an indented block\n"
     ]
    }
   ],
   "source": [
    "try:\n",
    "    # Some Code.... \n",
    "\n",
    "except:\n",
    "    # optional block\n",
    "    # Handling of exception (if required)\n",
    "\n",
    "else:\n",
    "    # execute if no exception\n",
    "    # if no error in try, then else and try both will execute\n",
    "    \n",
    "\n",
    "finally:\n",
    "    # Some code .....(always executed)\n",
    "    # used for closing the files\n",
    "    # myql"
   ]
  },
  {
   "cell_type": "code",
   "execution_count": 93,
   "id": "b4af0a35",
   "metadata": {},
   "outputs": [
    {
     "name": "stdout",
     "output_type": "stream",
     "text": [
      "Error: Failed to read the file!\n"
     ]
    },
    {
     "ename": "NameError",
     "evalue": "name 'file' is not defined",
     "output_type": "error",
     "traceback": [
      "\u001b[1;31m---------------------------------------------------------------------------\u001b[0m",
      "\u001b[1;31mNameError\u001b[0m                                 Traceback (most recent call last)",
      "Input \u001b[1;32mIn [93]\u001b[0m, in \u001b[0;36m<cell line: 1>\u001b[1;34m()\u001b[0m\n\u001b[0;32m      8\u001b[0m     \u001b[38;5;28mprint\u001b[39m(\u001b[38;5;124m\"\u001b[39m\u001b[38;5;124mError: Failed to read the file!\u001b[39m\u001b[38;5;124m\"\u001b[39m)\n\u001b[0;32m     12\u001b[0m \u001b[38;5;28;01mfinally\u001b[39;00m:\n\u001b[0;32m     13\u001b[0m     \u001b[38;5;66;03m# Code to always execute, whether an exception is raised or not\u001b[39;00m\n\u001b[1;32m---> 14\u001b[0m     \u001b[43mfile\u001b[49m\u001b[38;5;241m.\u001b[39mclose()\n",
      "\u001b[1;31mNameError\u001b[0m: name 'file' is not defined"
     ]
    }
   ],
   "source": [
    "try:\n",
    "    # Code that may raise an exception\n",
    "    \n",
    "    file = open(\"example.txt\", \"r\")\n",
    "    data = file.read()\n",
    "    # ... process the data ...\n",
    "    \n",
    "    \n",
    "except IOError:\n",
    "    # Code to handle IOError\n",
    "    print(\"Error: Failed to read the file!\")\n",
    "    \n",
    "\n",
    "    \n",
    "finally:\n",
    "    # Code to always execute, whether an exception is raised or not\n",
    "    file.close()\n"
   ]
  },
  {
   "cell_type": "markdown",
   "id": "b1acde3c",
   "metadata": {},
   "source": [
    "# Try and Except Statement – Catching Exceptions"
   ]
  },
  {
   "cell_type": "markdown",
   "id": "a3bef6aa",
   "metadata": {},
   "source": [
    "Try and except statements are used to catch and handle exceptions in Python. Statements that can raise exceptions are kept inside the try clause and the statements that handle the exception are written inside except clause."
   ]
  },
  {
   "cell_type": "code",
   "execution_count": 14,
   "id": "df2381ce",
   "metadata": {},
   "outputs": [
    {
     "name": "stdout",
     "output_type": "stream",
     "text": [
      "Enter your number : 45\n",
      "your number is :  45\n"
     ]
    }
   ],
   "source": [
    "try:\n",
    "    \n",
    "    number = int(input(\"Enter your number : \"))\n",
    "    print(\"your number is : \",number)\n",
    "    \n",
    "except:\n",
    "    \n",
    "    print(\"\"\" 'Oh ' you have invalid input \"\"\")"
   ]
  },
  {
   "cell_type": "code",
   "execution_count": 18,
   "id": "37cc6ea8",
   "metadata": {},
   "outputs": [
    {
     "name": "stdout",
     "output_type": "stream",
     "text": [
      "Enter your number : jk\n",
      "'Oh ' you have invalid input hint: Expected only numbers \n"
     ]
    }
   ],
   "source": [
    "try:\n",
    "    \n",
    "    number = int(input(\"Enter your number : \"))\n",
    "    print(\"your number is : \",number)\n",
    "    \n",
    "except:\n",
    "    \n",
    "    print(\"\"\"'Oh ' you have invalid input hint: Expected only numbers \"\"\")"
   ]
  },
  {
   "cell_type": "code",
   "execution_count": 19,
   "id": "461c9f9b",
   "metadata": {},
   "outputs": [
    {
     "name": "stdout",
     "output_type": "stream",
     "text": [
      "Enter your number : fkdjf\n",
      "invalid literal for int() with base 10: 'fkdjf'\n"
     ]
    }
   ],
   "source": [
    "try:\n",
    "    \n",
    "    number = int(input(\"Enter your number : \"))\n",
    "    print(\"your number is : \",number)\n",
    "    \n",
    "except Exception as e:\n",
    "    print(e)\n",
    "    \n",
    "    "
   ]
  },
  {
   "cell_type": "markdown",
   "id": "53893bda",
   "metadata": {},
   "source": [
    "# raise Keyword"
   ]
  },
  {
   "cell_type": "markdown",
   "id": "d253e9d6",
   "metadata": {},
   "source": [
    "In Python, the raise keyword is used to explicitly raise an exception during the execution of a program. It allows programmers to raise a specific exception when a certain condition is met or when an error needs to be propagated.\n",
    "\n",
    "The syntax for raising an exception using the raise keyword is as follows:"
   ]
  },
  {
   "cell_type": "markdown",
   "id": "3df1ddae",
   "metadata": {},
   "source": [
    "raise ExceptionType (\"Error message\")"
   ]
  },
  {
   "cell_type": "markdown",
   "id": "5958414e",
   "metadata": {},
   "source": [
    "Here, ExceptionType is the type of exception that you want to raise, and \"Error message\" is an optional string that can provide additional information about the error.\n",
    "\n",
    "For example, let's say you are writing a function to divide two numbers, and you want to raise a ValueError exception if the divisor is zero. You can use the raise keyword as follows:"
   ]
  },
  {
   "cell_type": "code",
   "execution_count": 35,
   "id": "8ea970e4",
   "metadata": {},
   "outputs": [
    {
     "ename": "ValueError",
     "evalue": "Cannot divide by zero",
     "output_type": "error",
     "traceback": [
      "\u001b[1;31m---------------------------------------------------------------------------\u001b[0m",
      "\u001b[1;31mValueError\u001b[0m                                Traceback (most recent call last)",
      "Input \u001b[1;32mIn [35]\u001b[0m, in \u001b[0;36m<cell line: 5>\u001b[1;34m()\u001b[0m\n\u001b[0;32m      3\u001b[0m         \u001b[38;5;28;01mraise\u001b[39;00m \u001b[38;5;167;01mValueError\u001b[39;00m(\u001b[38;5;124m\"\u001b[39m\u001b[38;5;124mCannot divide by zero\u001b[39m\u001b[38;5;124m\"\u001b[39m)\n\u001b[0;32m      4\u001b[0m     \u001b[38;5;28;01mreturn\u001b[39;00m a \u001b[38;5;241m/\u001b[39m b\n\u001b[1;32m----> 5\u001b[0m \u001b[43mdivide\u001b[49m\u001b[43m(\u001b[49m\u001b[38;5;241;43m1\u001b[39;49m\u001b[43m,\u001b[49m\u001b[38;5;241;43m0\u001b[39;49m\u001b[43m)\u001b[49m\n",
      "Input \u001b[1;32mIn [35]\u001b[0m, in \u001b[0;36mdivide\u001b[1;34m(a, b)\u001b[0m\n\u001b[0;32m      1\u001b[0m \u001b[38;5;28;01mdef\u001b[39;00m \u001b[38;5;21mdivide\u001b[39m(a, b):\n\u001b[0;32m      2\u001b[0m     \u001b[38;5;28;01mif\u001b[39;00m b \u001b[38;5;241m==\u001b[39m \u001b[38;5;241m0\u001b[39m:\n\u001b[1;32m----> 3\u001b[0m         \u001b[38;5;28;01mraise\u001b[39;00m \u001b[38;5;167;01mValueError\u001b[39;00m(\u001b[38;5;124m\"\u001b[39m\u001b[38;5;124mCannot divide by zero\u001b[39m\u001b[38;5;124m\"\u001b[39m)\n\u001b[0;32m      4\u001b[0m     \u001b[38;5;28;01mreturn\u001b[39;00m a \u001b[38;5;241m/\u001b[39m b\n",
      "\u001b[1;31mValueError\u001b[0m: Cannot divide by zero"
     ]
    }
   ],
   "source": [
    "def divide(a, b):\n",
    "    if b == 0:\n",
    "        raise ValueError(\"Cannot divide by zero\")\n",
    "    return a / b\n",
    "divide(1,0)"
   ]
  },
  {
   "cell_type": "markdown",
   "id": "42cf0a1e",
   "metadata": {},
   "source": [
    "In this example, if the value of b is 0, the ValueError exception will be raised with the error message \"Cannot divide by zero\"."
   ]
  },
  {
   "cell_type": "markdown",
   "id": "dbeae62b",
   "metadata": {},
   "source": [
    "You can also raise exceptions without specifying an error message, like this:"
   ]
  },
  {
   "cell_type": "code",
   "execution_count": 58,
   "id": "bfc233d1",
   "metadata": {},
   "outputs": [
    {
     "name": "stdout",
     "output_type": "stream",
     "text": [
      "Please Enter your 4 digit numeric password : jfdhjfh\n"
     ]
    },
    {
     "ename": "TypeError",
     "evalue": "only 4 digit is valid for password",
     "output_type": "error",
     "traceback": [
      "\u001b[1;31m---------------------------------------------------------------------------\u001b[0m",
      "\u001b[1;31mTypeError\u001b[0m                                 Traceback (most recent call last)",
      "Input \u001b[1;32mIn [58]\u001b[0m, in \u001b[0;36m<cell line: 5>\u001b[1;34m()\u001b[0m\n\u001b[0;32m      7\u001b[0m     \u001b[38;5;28mprint\u001b[39m(\u001b[38;5;124m\"\u001b[39m\u001b[38;5;124mWecome to login page\u001b[39m\u001b[38;5;124m\"\u001b[39m)\n\u001b[0;32m     11\u001b[0m \u001b[38;5;28;01melse\u001b[39;00m:\n\u001b[1;32m---> 12\u001b[0m     \u001b[38;5;28;01mraise\u001b[39;00m \u001b[38;5;167;01mTypeError\u001b[39;00m (\u001b[38;5;124m\"\u001b[39m\u001b[38;5;124monly 4 digit is valid for password\u001b[39m\u001b[38;5;124m\"\u001b[39m)\n",
      "\u001b[1;31mTypeError\u001b[0m: only 4 digit is valid for password"
     ]
    }
   ],
   "source": [
    "password=input(\"Please Enter your 4 digit numeric password : \")\n",
    "\n",
    "\n",
    "\n",
    "if password.isdigit() and len(password) == 4:\n",
    "\n",
    "    print(\"Wecome to login page\")\n",
    "\n",
    "else:\n",
    "    raise TypeError (\"only 4 digit is valid for password\")"
   ]
  },
  {
   "cell_type": "code",
   "execution_count": 94,
   "id": "fe8af5df",
   "metadata": {},
   "outputs": [
    {
     "name": "stdout",
     "output_type": "stream",
     "text": [
      "An exception occurred\n"
     ]
    }
   ],
   "source": [
    "try:\n",
    "    print(d)\n",
    "except:\n",
    "    print(\"An exception occurred\")\n"
   ]
  },
  {
   "cell_type": "markdown",
   "id": "fc085f6f",
   "metadata": {},
   "source": [
    "# else block"
   ]
  },
  {
   "cell_type": "markdown",
   "id": "92814a41",
   "metadata": {},
   "source": [
    "The \"else\" block in a \"try-except\" statement in Python is used to specify a block of code that should be executed only if no exceptions are raised within the \"try\" block. It provides a way to handle the case when the \"try\" block completes successfully without encountering any exceptions. Here's an example:"
   ]
  },
  {
   "cell_type": "code",
   "execution_count": 62,
   "id": "6da50ff2",
   "metadata": {},
   "outputs": [
    {
     "name": "stdout",
     "output_type": "stream",
     "text": [
      "Hello\n",
      "finished succesfully with try block there was no error in try block\n"
     ]
    }
   ],
   "source": [
    "# if no error in try, then else and try both will execute\n",
    "try:\n",
    "    print(\"Hello\")\n",
    "    \n",
    "except NameError:\n",
    "    print(\"Something went wrong\")\n",
    "    \n",
    "else:\n",
    "    print(\"finished succesfully with try block there was no error in try block\")"
   ]
  },
  {
   "cell_type": "markdown",
   "id": "7fb96949",
   "metadata": {},
   "source": [
    "# finally block"
   ]
  },
  {
   "cell_type": "markdown",
   "id": "2343ee53",
   "metadata": {},
   "source": [
    "It is typically used to perform cleanup operations or release resources, such as closing files or network connections, that were acquired within the \"try\" block. Here's an example:"
   ]
  },
  {
   "cell_type": "code",
   "execution_count": 65,
   "id": "3ff9bb0e",
   "metadata": {},
   "outputs": [
    {
     "name": "stdout",
     "output_type": "stream",
     "text": [
      "Something went wrong\n",
      "The 'try except' is finished\n"
     ]
    }
   ],
   "source": [
    "# finally execute no matter whether try works or not\n",
    "# if try does not work it will print with except part\n",
    "\n",
    "try:\n",
    "    print(ghy)\n",
    "    \n",
    "except NameError:\n",
    "    print(\"Something went wrong\")\n",
    "    \n",
    "finally:\n",
    "    print(\"The 'try except' is finished\")"
   ]
  },
  {
   "cell_type": "code",
   "execution_count": 66,
   "id": "e4e4eeda",
   "metadata": {},
   "outputs": [
    {
     "name": "stdout",
     "output_type": "stream",
     "text": [
      "Error: Failed to read the file!\n"
     ]
    },
    {
     "ename": "NameError",
     "evalue": "name 'file' is not defined",
     "output_type": "error",
     "traceback": [
      "\u001b[1;31m---------------------------------------------------------------------------\u001b[0m",
      "\u001b[1;31mNameError\u001b[0m                                 Traceback (most recent call last)",
      "Input \u001b[1;32mIn [66]\u001b[0m, in \u001b[0;36m<cell line: 1>\u001b[1;34m()\u001b[0m\n\u001b[0;32m      8\u001b[0m     \u001b[38;5;28mprint\u001b[39m(\u001b[38;5;124m\"\u001b[39m\u001b[38;5;124mError: Failed to read the file!\u001b[39m\u001b[38;5;124m\"\u001b[39m)\n\u001b[0;32m      9\u001b[0m \u001b[38;5;28;01mfinally\u001b[39;00m:\n\u001b[0;32m     10\u001b[0m     \u001b[38;5;66;03m# Code to always execute, whether an exception is raised or not\u001b[39;00m\n\u001b[1;32m---> 11\u001b[0m     \u001b[43mfile\u001b[49m\u001b[38;5;241m.\u001b[39mclose()\n",
      "\u001b[1;31mNameError\u001b[0m: name 'file' is not defined"
     ]
    }
   ],
   "source": [
    "try:\n",
    "    # Code that may raise an exception\n",
    "    file = open(\"example.txt\", \"r\")\n",
    "    data = file.read()\n",
    "    # ... process the data ...\n",
    "except IOError:\n",
    "    # Code to handle IOError\n",
    "    print(\"Error: Failed to read the file!\")\n",
    "finally:\n",
    "    # Code to always execute, whether an exception is raised or not\n",
    "    file.close()\n"
   ]
  },
  {
   "cell_type": "code",
   "execution_count": null,
   "id": "ec1fe5dc",
   "metadata": {},
   "outputs": [],
   "source": []
  },
  {
   "cell_type": "markdown",
   "id": "93004c5a",
   "metadata": {},
   "source": [
    "# Advantages of Exception Handling:"
   ]
  },
  {
   "cell_type": "markdown",
   "id": "cd41824f",
   "metadata": {},
   "source": [
    "Improved program reliability:\n",
    "\n",
    "\n",
    "By handling exceptions properly, you can prevent your program from crashing or producing incorrect results due to unexpected errors or input.\n",
    "\n",
    "\n",
    "Simplified error handling:\n",
    "\n",
    "\n",
    "Exception handling allows you to separate error handling code from the main program logic, making it easier to read and maintain your code.\n",
    "\n",
    "\n",
    "Cleaner code:\n",
    "\n",
    "With exception handling, you can avoid using complex conditional statements to check for errors, leading to cleaner and more readable code.\n",
    "\n",
    "\n",
    "Easier debugging:\n",
    "\n",
    "\n",
    "\n",
    "When an exception is raised, the Python interpreter prints a traceback that shows the exact location where the exception occurred, making it easier to debug your code."
   ]
  },
  {
   "cell_type": "markdown",
   "id": "ecd5fb52",
   "metadata": {},
   "source": [
    "# Disadvantages of Exception Handling:"
   ]
  },
  {
   "cell_type": "markdown",
   "id": "3f0d163d",
   "metadata": {},
   "source": [
    "Performance overhead: \n",
    "\n",
    "Exception handling can be slower than using conditional statements to check for errors, as the interpreter has to perform additional work to catch and handle the exception.\n",
    "\n",
    "Increased code complexity: \n",
    "\n",
    "Exception handling can make your code more complex, especially if you have to handle multiple types of exceptions or implement complex error handling logic.\n",
    "\n",
    "Possible security risks: \n",
    "\n",
    "Improperly handled exceptions can potentially reveal sensitive information or create security vulnerabilities in your code, so it’s important to handle exceptions carefully and avoid exposing too much information about your program.\n",
    "\n",
    "\n",
    "Overall, the benefits of exception handling in Python outweigh the drawbacks, but it’s important to use it judiciously and carefully in order to maintain code quality and program reliability."
   ]
  },
  {
   "cell_type": "code",
   "execution_count": 89,
   "id": "4a85b95d",
   "metadata": {},
   "outputs": [
    {
     "name": "stdout",
     "output_type": "stream",
     "text": [
      "Enter 4 digit number and passowerd : 5643\n",
      " X only digits are allowed\n"
     ]
    }
   ],
   "source": [
    "try:\n",
    "    password = int(input(\"Enter 4 digit number and passowerd : \"))\n",
    "\n",
    "    if password.isdigit() and len(password) == 4:\n",
    "\n",
    "        print(\"Wecome to login page\")\n",
    "        \n",
    "except :\n",
    "    \n",
    "    print(\" X only digits are allowed\")\n",
    "    \n",
    "    \n",
    "\n"
   ]
  },
  {
   "cell_type": "code",
   "execution_count": 97,
   "id": "e0972e10",
   "metadata": {},
   "outputs": [],
   "source": [
    "def rohit_function():\n",
    "    \n",
    "    return f\"I am rohit_function\""
   ]
  },
  {
   "cell_type": "code",
   "execution_count": 98,
   "id": "ece66880",
   "metadata": {},
   "outputs": [
    {
     "data": {
      "text/plain": [
       "'I am rohit_function'"
      ]
     },
     "execution_count": 98,
     "metadata": {},
     "output_type": "execute_result"
    }
   ],
   "source": [
    "rohit_function()"
   ]
  },
  {
   "cell_type": "code",
   "execution_count": 99,
   "id": "74e72e54",
   "metadata": {},
   "outputs": [
    {
     "ename": "NameError",
     "evalue": "name 'factorial' is not defined",
     "output_type": "error",
     "traceback": [
      "\u001b[1;31m---------------------------------------------------------------------------\u001b[0m",
      "\u001b[1;31mNameError\u001b[0m                                 Traceback (most recent call last)",
      "Input \u001b[1;32mIn [99]\u001b[0m, in \u001b[0;36m<cell line: 1>\u001b[1;34m()\u001b[0m\n\u001b[1;32m----> 1\u001b[0m \u001b[43mfactorial\u001b[49m()\n",
      "\u001b[1;31mNameError\u001b[0m: name 'factorial' is not defined"
     ]
    }
   ],
   "source": [
    "factorial()"
   ]
  },
  {
   "cell_type": "code",
   "execution_count": 100,
   "id": "dcdb6637",
   "metadata": {},
   "outputs": [
    {
     "data": {
      "text/plain": [
       "120"
      ]
     },
     "execution_count": 100,
     "metadata": {},
     "output_type": "execute_result"
    }
   ],
   "source": [
    "import math\n",
    "\n",
    "math.factorial(5)"
   ]
  },
  {
   "cell_type": "code",
   "execution_count": 101,
   "id": "a73ff164",
   "metadata": {},
   "outputs": [
    {
     "ename": "NameError",
     "evalue": "name 'factorial' is not defined",
     "output_type": "error",
     "traceback": [
      "\u001b[1;31m---------------------------------------------------------------------------\u001b[0m",
      "\u001b[1;31mNameError\u001b[0m                                 Traceback (most recent call last)",
      "Input \u001b[1;32mIn [101]\u001b[0m, in \u001b[0;36m<cell line: 1>\u001b[1;34m()\u001b[0m\n\u001b[1;32m----> 1\u001b[0m \u001b[43mfactorial\u001b[49m(\u001b[38;5;241m5\u001b[39m)\n",
      "\u001b[1;31mNameError\u001b[0m: name 'factorial' is not defined"
     ]
    }
   ],
   "source": [
    "factorial(5)"
   ]
  },
  {
   "cell_type": "code",
   "execution_count": null,
   "id": "7a81da40",
   "metadata": {},
   "outputs": [],
   "source": []
  },
  {
   "cell_type": "code",
   "execution_count": 4,
   "id": "72888f2e",
   "metadata": {},
   "outputs": [],
   "source": [
    "from win32com.client import Dispatch\n",
    "\n",
    "speak = Dispatch(\"SAPI.SpVoice\")\n",
    "speak.Voice = speak.GetVoices(\"gender=female\").Item(0)\n",
    "speak.Speak(\"hi rohit good evening how may i help you today\")\n",
    "\n",
    "\n",
    "def taking_input():\n",
    "    speak.Speak(\"Please enter your first number : \")\n",
    "    input_number = int(input(\"Your number : \"))\n",
    "    \n",
    "    speak.Speak(\"Please enter your second number : \")\n",
    "    \n",
    "    input_second = int(input(\"your second number : \"))\n",
    "    \n",
    "    print(f\"total is {input_number+input_second}\")\n",
    "    \n",
    "    return speak.Speak(f\"your total is {input_number+input_second}\")\n"
   ]
  },
  {
   "cell_type": "code",
   "execution_count": null,
   "id": "171e767f",
   "metadata": {},
   "outputs": [],
   "source": []
  }
 ],
 "metadata": {
  "kernelspec": {
   "display_name": "Python 3 (ipykernel)",
   "language": "python",
   "name": "python3"
  },
  "language_info": {
   "codemirror_mode": {
    "name": "ipython",
    "version": 3
   },
   "file_extension": ".py",
   "mimetype": "text/x-python",
   "name": "python",
   "nbconvert_exporter": "python",
   "pygments_lexer": "ipython3",
   "version": "3.11.7"
  }
 },
 "nbformat": 4,
 "nbformat_minor": 5
}
