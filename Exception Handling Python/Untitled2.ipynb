{
 "cells": [
  {
   "cell_type": "code",
   "execution_count": null,
   "id": "f9f753c3",
   "metadata": {},
   "outputs": [],
   "source": [
    "exception\n",
    "syntax error"
   ]
  },
  {
   "cell_type": "code",
   "execution_count": 4,
   "id": "a0fd339d",
   "metadata": {},
   "outputs": [
    {
     "ename": "SyntaxError",
     "evalue": "unterminated string literal (detected at line 1) (2771999186.py, line 1)",
     "output_type": "error",
     "traceback": [
      "\u001b[1;36m  Cell \u001b[1;32mIn[4], line 1\u001b[1;36m\u001b[0m\n\u001b[1;33m    print(\"hi)\u001b[0m\n\u001b[1;37m          ^\u001b[0m\n\u001b[1;31mSyntaxError\u001b[0m\u001b[1;31m:\u001b[0m unterminated string literal (detected at line 1)\n"
     ]
    }
   ],
   "source": [
    "print(\"hi)"
   ]
  },
  {
   "cell_type": "code",
   "execution_count": 18,
   "id": "e3c9da37",
   "metadata": {},
   "outputs": [
    {
     "name": "stdout",
     "output_type": "stream",
     "text": [
      "enter your number : jdfhjd\n"
     ]
    },
    {
     "ename": "ValueError",
     "evalue": "invalid literal for int() with base 10: 'jdfhjd'",
     "output_type": "error",
     "traceback": [
      "\u001b[1;31m---------------------------------------------------------------------------\u001b[0m",
      "\u001b[1;31mValueError\u001b[0m                                Traceback (most recent call last)",
      "Cell \u001b[1;32mIn[18], line 1\u001b[0m\n\u001b[1;32m----> 1\u001b[0m user_input \u001b[38;5;241m=\u001b[39m \u001b[38;5;28mint\u001b[39m(\u001b[38;5;28minput\u001b[39m(\u001b[38;5;124m\"\u001b[39m\u001b[38;5;124menter your number : \u001b[39m\u001b[38;5;124m\"\u001b[39m))\n\u001b[0;32m      3\u001b[0m \u001b[38;5;28mprint\u001b[39m(\u001b[38;5;28mtype\u001b[39m(user_input))\n\u001b[0;32m      6\u001b[0m \u001b[38;5;28mprint\u001b[39m(\u001b[38;5;124m\"\u001b[39m\u001b[38;5;124mi m print function and i m working fine\u001b[39m\u001b[38;5;124m\"\u001b[39m)\n",
      "\u001b[1;31mValueError\u001b[0m: invalid literal for int() with base 10: 'jdfhjd'"
     ]
    }
   ],
   "source": [
    "user_input = int(input(\"enter your number : \"))\n",
    "\n",
    "print(type(user_input))\n",
    "\n",
    "\n",
    "print(\"i m print function and i m working fine\")"
   ]
  },
  {
   "cell_type": "code",
   "execution_count": 19,
   "id": "b96209eb",
   "metadata": {},
   "outputs": [
    {
     "name": "stdout",
     "output_type": "stream",
     "text": [
      "enter your number : djfhdjfh\n",
      "invalid literal for int() with base 10: 'djfhdjfh'\n",
      "<class 'int'>\n",
      "i m print function and i m working fine\n"
     ]
    }
   ],
   "source": [
    "try:\n",
    "\n",
    "    user_input = int(input(\"enter your number : \"))\n",
    "    \n",
    "except Exception as e:\n",
    "    \n",
    "    print(e)\n",
    "    \n",
    "    \n",
    "    \n",
    "print(type(user_input))\n",
    "\n",
    "\n",
    "print(\"i m print function and i m working fine\")    "
   ]
  },
  {
   "cell_type": "code",
   "execution_count": 36,
   "id": "0bc91a45",
   "metadata": {},
   "outputs": [
    {
     "ename": "SyntaxError",
     "evalue": "invalid syntax (75097598.py, line 3)",
     "output_type": "error",
     "traceback": [
      "\u001b[1;36m  Cell \u001b[1;32mIn[36], line 3\u001b[1;36m\u001b[0m\n\u001b[1;33m    user_input = int(input(\"enter your pin : \")).\u001b[0m\n\u001b[1;37m                                                 ^\u001b[0m\n\u001b[1;31mSyntaxError\u001b[0m\u001b[1;31m:\u001b[0m invalid syntax\n"
     ]
    }
   ],
   "source": [
    "try:\n",
    "\n",
    "    user_input = int(input(\"enter your pin : \")).\n",
    "    \n",
    "    webbrowser.\n",
    "    \n",
    "except \n",
    "    \n",
    "    print(\"entry only 4 digit numeric pin\")\n",
    "    \n",
    "    \n",
    "    \n",
    "print(type(user_input))\n",
    "\n",
    "\n",
    "print(\"i m print function and i m working fine\")  "
   ]
  },
  {
   "cell_type": "code",
   "execution_count": 25,
   "id": "acdfab08",
   "metadata": {},
   "outputs": [],
   "source": [
    "\n",
    "def divide(number1,number2):\n",
    "    \n",
    "    return number1/number2"
   ]
  },
  {
   "cell_type": "code",
   "execution_count": 26,
   "id": "df037b65",
   "metadata": {},
   "outputs": [
    {
     "data": {
      "text/plain": [
       "1.0"
      ]
     },
     "execution_count": 26,
     "metadata": {},
     "output_type": "execute_result"
    }
   ],
   "source": [
    "divide(23,23)"
   ]
  },
  {
   "cell_type": "code",
   "execution_count": 27,
   "id": "3b23b029",
   "metadata": {},
   "outputs": [
    {
     "ename": "ZeroDivisionError",
     "evalue": "division by zero",
     "output_type": "error",
     "traceback": [
      "\u001b[1;31m---------------------------------------------------------------------------\u001b[0m",
      "\u001b[1;31mZeroDivisionError\u001b[0m                         Traceback (most recent call last)",
      "Cell \u001b[1;32mIn[27], line 1\u001b[0m\n\u001b[1;32m----> 1\u001b[0m divide(\u001b[38;5;241m23\u001b[39m\u001b[38;5;241m/\u001b[39m\u001b[38;5;241m0\u001b[39m)\n",
      "\u001b[1;31mZeroDivisionError\u001b[0m: division by zero"
     ]
    }
   ],
   "source": [
    "divide(23/0)"
   ]
  },
  {
   "cell_type": "code",
   "execution_count": 30,
   "id": "790fc0d3",
   "metadata": {},
   "outputs": [
    {
     "name": "stdout",
     "output_type": "stream",
     "text": [
      "r\n",
      "o\n",
      "h\n",
      "i\n",
      "t\n"
     ]
    }
   ],
   "source": [
    "for i in \"rohit\":\n",
    "    print(i)"
   ]
  },
  {
   "cell_type": "code",
   "execution_count": 35,
   "id": "b907a769",
   "metadata": {},
   "outputs": [
    {
     "ename": "IndexError",
     "evalue": "tuple index out of range",
     "output_type": "error",
     "traceback": [
      "\u001b[1;31m---------------------------------------------------------------------------\u001b[0m",
      "\u001b[1;31mIndexError\u001b[0m                                Traceback (most recent call last)",
      "Cell \u001b[1;32mIn[35], line 1\u001b[0m\n\u001b[1;32m----> 1\u001b[0m (\u001b[38;5;241m1\u001b[39m,\u001b[38;5;241m2\u001b[39m,\u001b[38;5;241m3\u001b[39m)[\u001b[38;5;241m3\u001b[39m]\n",
      "\u001b[1;31mIndexError\u001b[0m: tuple index out of range"
     ]
    }
   ],
   "source": [
    "(1,2,3)[3]"
   ]
  },
  {
   "cell_type": "code",
   "execution_count": 40,
   "id": "c798cc37",
   "metadata": {},
   "outputs": [
    {
     "name": "stdout",
     "output_type": "stream",
     "text": [
      "your number : jh\n"
     ]
    },
    {
     "ename": "ValueError",
     "evalue": "invalid literal for int() with base 10: 'jh'",
     "output_type": "error",
     "traceback": [
      "\u001b[1;31m---------------------------------------------------------------------------\u001b[0m",
      "\u001b[1;31mValueError\u001b[0m                                Traceback (most recent call last)",
      "Cell \u001b[1;32mIn[40], line 1\u001b[0m\n\u001b[1;32m----> 1\u001b[0m \u001b[38;5;28mint\u001b[39m(\u001b[38;5;28minput\u001b[39m(\u001b[38;5;124m\"\u001b[39m\u001b[38;5;124myour number : \u001b[39m\u001b[38;5;124m\"\u001b[39m))\n",
      "\u001b[1;31mValueError\u001b[0m: invalid literal for int() with base 10: 'jh'"
     ]
    }
   ],
   "source": [
    "int(input(\"your number : \"))\n"
   ]
  },
  {
   "cell_type": "code",
   "execution_count": 42,
   "id": "3f0cf151",
   "metadata": {},
   "outputs": [
    {
     "name": "stdout",
     "output_type": "stream",
     "text": [
      "your number : 45\n",
      "try blocked worked properly\n",
      "i always work\n"
     ]
    }
   ],
   "source": [
    "try:\n",
    "    \n",
    "    int(input(\"your number : \"))\n",
    "    \n",
    "except:\n",
    "    \n",
    "    print(\"somthing went wrong\")\n",
    "    \n",
    "else:\n",
    "    \n",
    "    print(\"try blocked worked properly\")\n",
    "    \n",
    "finally:  \n",
    "    \n",
    "    print(\"i always work\")"
   ]
  },
  {
   "cell_type": "code",
   "execution_count": 45,
   "id": "5b284b18",
   "metadata": {},
   "outputs": [
    {
     "name": "stdout",
     "output_type": "stream",
     "text": [
      "0\n",
      "1\n",
      "2\n",
      "3\n",
      "4\n",
      "loop sucessfully done\n"
     ]
    }
   ],
   "source": [
    "for i in range(5):\n",
    "    print(i)\n",
    "    \n",
    "    \n",
    "else:\n",
    "    print(\"loop sucessfully done\")\n",
    "    "
   ]
  },
  {
   "cell_type": "code",
   "execution_count": null,
   "id": "983f2840",
   "metadata": {},
   "outputs": [],
   "source": []
  }
 ],
 "metadata": {
  "kernelspec": {
   "display_name": "Python 3 (ipykernel)",
   "language": "python",
   "name": "python3"
  },
  "language_info": {
   "codemirror_mode": {
    "name": "ipython",
    "version": 3
   },
   "file_extension": ".py",
   "mimetype": "text/x-python",
   "name": "python",
   "nbconvert_exporter": "python",
   "pygments_lexer": "ipython3",
   "version": "3.11.5"
  }
 },
 "nbformat": 4,
 "nbformat_minor": 5
}
