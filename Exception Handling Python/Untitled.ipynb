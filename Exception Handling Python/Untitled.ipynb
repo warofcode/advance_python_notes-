{
 "cells": [
  {
   "cell_type": "code",
   "execution_count": 20,
   "id": "c8105163",
   "metadata": {},
   "outputs": [
    {
     "name": "stdout",
     "output_type": "stream",
     "text": [
      "inter your number : hjhj\n"
     ]
    },
    {
     "ename": "ValueError",
     "evalue": "invalid literal for int() with base 10: 'hjhj'",
     "output_type": "error",
     "traceback": [
      "\u001b[1;31m---------------------------------------------------------------------------\u001b[0m",
      "\u001b[1;31mValueError\u001b[0m                                Traceback (most recent call last)",
      "Cell \u001b[1;32mIn[20], line 1\u001b[0m\n\u001b[1;32m----> 1\u001b[0m my_input \u001b[38;5;241m=\u001b[39m\u001b[38;5;28mint\u001b[39m(\u001b[38;5;28minput\u001b[39m(\u001b[38;5;124m\"\u001b[39m\u001b[38;5;124minter your number : \u001b[39m\u001b[38;5;124m\"\u001b[39m))\n\u001b[0;32m      4\u001b[0m \u001b[38;5;28mprint\u001b[39m(\u001b[38;5;124m\"\u001b[39m\u001b[38;5;124mThanks for using our program\u001b[39m\u001b[38;5;124m\"\u001b[39m)\n",
      "\u001b[1;31mValueError\u001b[0m: invalid literal for int() with base 10: 'hjhj'"
     ]
    }
   ],
   "source": [
    "my_input =int(input(\"inter your number : \"))\n",
    "\n",
    "\n",
    "print(\"Thanks for using our program\")\n"
   ]
  },
  {
   "cell_type": "code",
   "execution_count": 21,
   "id": "80f711d1",
   "metadata": {},
   "outputs": [
    {
     "name": "stdout",
     "output_type": "stream",
     "text": [
      "inter your number : hkdfk\n",
      "only numbers are allowed\n",
      "Thanks for using our program\n"
     ]
    }
   ],
   "source": [
    "try:\n",
    "    my_input =int(input(\"inter your number : \"))\n",
    "    \n",
    "except:\n",
    "    \n",
    "    print(\"only numbers are allowed\")\n",
    "    \n",
    "    \n",
    "print(\"Thanks for using our program\")    "
   ]
  },
  {
   "cell_type": "code",
   "execution_count": 1,
   "id": "4ce6cb2f",
   "metadata": {},
   "outputs": [],
   "source": [
    "def division(number1,number2):\n",
    "    \n",
    "    devision = number1/number2\n",
    "    \n",
    "    return devision\n",
    "\n",
    "\n",
    "def multiplication(number1,number2):\n",
    "    \n",
    "    multi = number1 * number2\n",
    "    \n",
    "    return multi\n",
    "\n",
    "\n"
   ]
  },
  {
   "cell_type": "code",
   "execution_count": 3,
   "id": "12346383",
   "metadata": {},
   "outputs": [
    {
     "name": "stdout",
     "output_type": "stream",
     "text": [
      "3.0\n",
      "800\n"
     ]
    }
   ],
   "source": [
    "print(division(30,10))\n",
    "\n",
    "print(multiplication(20,40))"
   ]
  },
  {
   "cell_type": "code",
   "execution_count": 4,
   "id": "48a9b854",
   "metadata": {},
   "outputs": [
    {
     "ename": "ZeroDivisionError",
     "evalue": "division by zero",
     "output_type": "error",
     "traceback": [
      "\u001b[1;31m---------------------------------------------------------------------------\u001b[0m",
      "\u001b[1;31mZeroDivisionError\u001b[0m                         Traceback (most recent call last)",
      "Cell \u001b[1;32mIn[4], line 1\u001b[0m\n\u001b[1;32m----> 1\u001b[0m \u001b[38;5;28mprint\u001b[39m(division(\u001b[38;5;241m30\u001b[39m,\u001b[38;5;241m0\u001b[39m))\n\u001b[0;32m      3\u001b[0m \u001b[38;5;28mprint\u001b[39m(multiplication(\u001b[38;5;241m20\u001b[39m,\u001b[38;5;241m40\u001b[39m))\n",
      "Cell \u001b[1;32mIn[1], line 3\u001b[0m, in \u001b[0;36mdivision\u001b[1;34m(number1, number2)\u001b[0m\n\u001b[0;32m      1\u001b[0m \u001b[38;5;28;01mdef\u001b[39;00m \u001b[38;5;21mdivision\u001b[39m(number1,number2):\n\u001b[1;32m----> 3\u001b[0m     devision \u001b[38;5;241m=\u001b[39m number1\u001b[38;5;241m/\u001b[39mnumber2\n\u001b[0;32m      5\u001b[0m     \u001b[38;5;28;01mreturn\u001b[39;00m devision\n",
      "\u001b[1;31mZeroDivisionError\u001b[0m: division by zero"
     ]
    }
   ],
   "source": [
    "print(division(30,0))\n",
    "\n",
    "print(multiplication(20,40))"
   ]
  },
  {
   "cell_type": "code",
   "execution_count": 11,
   "id": "c8cb94bf",
   "metadata": {},
   "outputs": [],
   "source": [
    "def division(number1,number2):\n",
    "    \n",
    "    try:\n",
    "    \n",
    "        devision = number1/number2\n",
    "    \n",
    "        return devision\n",
    "    \n",
    "    except Exception as e:\n",
    "        \n",
    "        return \"number can not be devided by 0\"\n",
    "\n",
    "\n",
    "def multiplication(number1,number2):\n",
    "    \n",
    "    multi = number1 * number2\n",
    "    \n",
    "    return multi\n"
   ]
  },
  {
   "cell_type": "code",
   "execution_count": 12,
   "id": "c23b2096",
   "metadata": {},
   "outputs": [
    {
     "name": "stdout",
     "output_type": "stream",
     "text": [
      "number can not be devided by 0\n",
      "800\n"
     ]
    }
   ],
   "source": [
    "print(division(30,0))\n",
    "\n",
    "print(multiplication(20,40))"
   ]
  },
  {
   "cell_type": "code",
   "execution_count": 15,
   "id": "b8c5aa10",
   "metadata": {},
   "outputs": [
    {
     "name": "stdout",
     "output_type": "stream",
     "text": [
      "inter your number : kdfkfjk\n",
      "only numbers are allowed\n"
     ]
    }
   ],
   "source": [
    "\n",
    "try:\n",
    "    my_input =int(input(\"inter your number : \"))\n",
    "    \n",
    "except:\n",
    "    \n",
    "    print(\"only numbers are allowed\")"
   ]
  },
  {
   "cell_type": "code",
   "execution_count": 23,
   "id": "8237ed17",
   "metadata": {},
   "outputs": [
    {
     "name": "stdout",
     "output_type": "stream",
     "text": [
      "ji\n"
     ]
    }
   ],
   "source": [
    "try:\n",
    "    prinddhf\n",
    "    \n",
    "except:\n",
    "    print(\"ji\")"
   ]
  },
  {
   "cell_type": "code",
   "execution_count": 25,
   "id": "2707337c",
   "metadata": {},
   "outputs": [
    {
     "data": {
      "text/plain": [
       "True"
      ]
     },
     "execution_count": 25,
     "metadata": {},
     "output_type": "execute_result"
    }
   ],
   "source": [
    "import webbrowser\n",
    "\n",
    "webbrowser.open(\"www.google.com\")"
   ]
  },
  {
   "cell_type": "code",
   "execution_count": 39,
   "id": "170c0439",
   "metadata": {},
   "outputs": [
    {
     "name": "stdout",
     "output_type": "stream",
     "text": [
      "Enter your name : 789\n"
     ]
    }
   ],
   "source": [
    "try:\n",
    "    input_ = input(\"Enter your name : \")\n",
    "    \n",
    "    if input_==\"rohit\":\n",
    "        \n",
    "        raise ValueError(\"rohit username is already taken\")\n",
    "        \n",
    "except ValueError as e:\n",
    "    print(e)\n"
   ]
  },
  {
   "cell_type": "code",
   "execution_count": 45,
   "id": "e19e9df4",
   "metadata": {},
   "outputs": [],
   "source": [
    "from win32com.client import Dispatch"
   ]
  },
  {
   "cell_type": "markdown",
   "id": "bb40b173",
   "metadata": {},
   "source": [
    "This line imports the Dispatch class from the win32com.client module. Dispatch is used to create objects representing COM (Component Object Model) objects in Windows.\n"
   ]
  },
  {
   "cell_type": "code",
   "execution_count": 47,
   "id": "8b99968f",
   "metadata": {},
   "outputs": [
    {
     "name": "stdout",
     "output_type": "stream",
     "text": [
      "<class 'function'>\n"
     ]
    }
   ],
   "source": [
    "speak = Dispatch(\"SAPI.SpVoice\")"
   ]
  },
  {
   "cell_type": "code",
   "execution_count": null,
   "id": "4664fc60",
   "metadata": {},
   "outputs": [],
   "source": []
  }
 ],
 "metadata": {
  "kernelspec": {
   "display_name": "Python 3 (ipykernel)",
   "language": "python",
   "name": "python3"
  },
  "language_info": {
   "codemirror_mode": {
    "name": "ipython",
    "version": 3
   },
   "file_extension": ".py",
   "mimetype": "text/x-python",
   "name": "python",
   "nbconvert_exporter": "python",
   "pygments_lexer": "ipython3",
   "version": "3.11.5"
  }
 },
 "nbformat": 4,
 "nbformat_minor": 5
}
