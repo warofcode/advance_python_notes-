{
 "cells": [
  {
   "cell_type": "code",
   "execution_count": 2,
   "id": "e5673505-2a8f-4399-975f-cc6655a76e6f",
   "metadata": {},
   "outputs": [
    {
     "data": {
      "text/plain": [
       "1"
      ]
     },
     "execution_count": 2,
     "metadata": {},
     "output_type": "execute_result"
    }
   ],
   "source": [
    "from win32com.client import Dispatch\n",
    "\n",
    "speak = Dispatch(\"SAPI.SpVoice\")\n",
    "speak.Voice = speak.GetVoices().Item(0)\n",
    "speak.Speak(\"Wecome to HDFC bank how may i help you today\")\n"
   ]
  },
  {
   "cell_type": "code",
   "execution_count": null,
   "id": "c4291f20-05fb-4f9f-ad94-ecb72623068e",
   "metadata": {
    "scrolled": true
   },
   "outputs": [
    {
     "name": "stdout",
     "output_type": "stream",
     "text": [
      "Enter a name: \n"
     ]
    },
    {
     "name": "stdin",
     "output_type": "stream",
     "text": [
      " rohit1111\n"
     ]
    },
    {
     "name": "stdout",
     "output_type": "stream",
     "text": [
      "I do not have birthday information for rohit1111\n",
      "What is their birthday?\n"
     ]
    }
   ],
   "source": [
    "birthdays = {'Alice': 'Apr 1','Bob': 'Dec 12','Carol': 'Mar4'}\n",
    "\n",
    "while True:\n",
    "    speak.Speak(\"Please enter your friend name\")\n",
    "    print(\"Enter a name: \")\n",
    "    name = input()\n",
    "    if name == '':\n",
    "        break\n",
    "\n",
    "    if name in birthdays:\n",
    "        print(birthdays[name] + ' is the birthday of ' +name)\n",
    "    else:\n",
    "        speak.Speak(\"I do not have birthday information for \")\n",
    "        print(\"I do not have birthday information for \" +name)\n",
    "        print(\"What is their birthday?\")\n",
    "        bday = input()\n",
    "        birthdays[name] = bday\n",
    "        print(\"Birthday database updated\")"
   ]
  },
  {
   "cell_type": "code",
   "execution_count": 4,
   "id": "b605afce-013d-4c07-bd18-31b527f91f52",
   "metadata": {
    "scrolled": true
   },
   "outputs": [
    {
     "name": "stdout",
     "output_type": "stream",
     "text": [
      "red\n",
      "42\n",
      "color\n",
      "age\n",
      "('color', 'red')\n",
      "('age', '42')\n"
     ]
    }
   ],
   "source": [
    "spam = {'color': 'red','age': '42'}\n",
    "for v in spam.values():\n",
    "    print(v)\n",
    "\n",
    "for k in spam.keys():\n",
    "    print(k)\n",
    "\n",
    "for i in spam.items():\n",
    "    print(i)"
   ]
  },
  {
   "cell_type": "code",
   "execution_count": null,
   "id": "da9cd1b1-6fa7-4059-afb8-18d18594d9da",
   "metadata": {},
   "outputs": [],
   "source": []
  }
 ],
 "metadata": {
  "kernelspec": {
   "display_name": "Python 3 (ipykernel)",
   "language": "python",
   "name": "python3"
  },
  "language_info": {
   "codemirror_mode": {
    "name": "ipython",
    "version": 3
   },
   "file_extension": ".py",
   "mimetype": "text/x-python",
   "name": "python",
   "nbconvert_exporter": "python",
   "pygments_lexer": "ipython3",
   "version": "3.11.7"
  }
 },
 "nbformat": 4,
 "nbformat_minor": 5
}
