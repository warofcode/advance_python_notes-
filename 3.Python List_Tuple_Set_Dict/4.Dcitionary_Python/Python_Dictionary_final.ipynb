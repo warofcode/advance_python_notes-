{
 "cells": [
  {
   "cell_type": "markdown",
   "id": "bebef5b4-52b3-4bd9-ade6-9a61d8149f44",
   "metadata": {},
   "source": [
    "# Python Dictionary"
   ]
  },
  {
   "cell_type": "markdown",
   "id": "e8784979-e2d3-4213-952d-8b7aa12fee1c",
   "metadata": {},
   "source": [
    "Python dictionaries are a versatile and powerful data structure with several important characteristics. Here are the key characteristics of Python dictionaries:"
   ]
  },
  {
   "cell_type": "markdown",
   "id": "1263edc6-2a41-46ad-87db-8e0e1ab0bb7a",
   "metadata": {},
   "source": [
    "# 1. Unordered or unordered Collection ?"
   ]
  },
  {
   "cell_type": "markdown",
   "id": "116cc2d2-a6ca-437a-b8be-321059fc9ee1",
   "metadata": {},
   "source": [
    "Unordered:\n",
    "\n",
    "In Python 3.6 and earlier, dictionaries are unordered collections. This means that the items do not have a defined order, and you cannot expect the items to be in the same order every time you iterate over them.\n",
    "\n",
    "\n",
    "Ordered (Python 3.7+): \n",
    "\n",
    "Starting from Python 3.7, dictionaries maintain the insertion order of keys. This means that when you iterate over a dictionary, the items are returned in the order they were added."
   ]
  },
  {
   "cell_type": "markdown",
   "id": "7e7b4785-feff-4c5c-ba3f-f3b14dfcfcc5",
   "metadata": {},
   "source": [
    "# 2. Mutable"
   ]
  },
  {
   "cell_type": "markdown",
   "id": "c02e6bd5-9ef6-4f0c-a478-ddb43348358f",
   "metadata": {},
   "source": [
    "Mutable: \n",
    "\n",
    "Dictionaries are mutable, meaning you can change them after they are created. You can add, remove, and update key-value pairs."
   ]
  },
  {
   "cell_type": "markdown",
   "id": "e983b8c4-48a8-4039-a989-a7bc487ba253",
   "metadata": {},
   "source": [
    "# 3. Key-Value Pairs"
   ]
  },
  {
   "cell_type": "markdown",
   "id": "485f3252-65a0-4eb7-acf1-5095dbb9293f",
   "metadata": {},
   "source": [
    "Key-Value Pairs:\n",
    "\n",
    "Dictionaries store data as key-value pairs. Each key is unique, and it maps to a specific value. Keys must be immutable types (like strings, numbers, or tuples), while values can be of any type."
   ]
  },
  {
   "cell_type": "markdown",
   "id": "0692e053-a504-4b7b-a63b-92fe7a3bae3e",
   "metadata": {},
   "source": [
    "# 4. Dynamic Size"
   ]
  },
  {
   "cell_type": "markdown",
   "id": "e34a0e4e-ee5b-4b80-860e-9b0279e3d711",
   "metadata": {},
   "source": [
    "Dynamic Size: \n",
    "\n",
    "Dictionaries are dynamic in size, meaning they can grow and shrink as needed. You can add and remove items without having to specify the size of the dictionary initially."
   ]
  },
  {
   "cell_type": "markdown",
   "id": "a3822730-418f-427a-9b3a-b94c67cb59dc",
   "metadata": {},
   "source": [
    "# 5. Keys Must Be Immutable"
   ]
  },
  {
   "cell_type": "markdown",
   "id": "4622fff4-0205-4671-acfb-470eaced84af",
   "metadata": {},
   "source": [
    "Immutable Keys: The keys in a dictionary must be immutable. \n",
    "\n",
    "This means you can use strings, numbers, or tuples as dictionary keys, but you cannot use lists or other dictionaries as keys."
   ]
  },
  {
   "cell_type": "markdown",
   "id": "25f22618-3019-4d81-ae9a-32170843c788",
   "metadata": {},
   "source": [
    "# 6. Keys Must Be Unique"
   ]
  },
  {
   "cell_type": "markdown",
   "id": "61061f87-0cd6-4d75-a515-4dab69f8455b",
   "metadata": {},
   "source": [
    "Unique Keys:\n",
    "\n",
    "Each key in a dictionary must be unique. If you try to insert a duplicate key, the old value associated with the key will be overwritten by the new value."
   ]
  },
  {
   "cell_type": "markdown",
   "id": "d70ee649-19b8-4d9e-b7dd-81cd1d4e1dbc",
   "metadata": {},
   "source": [
    "# 7. Nestable"
   ]
  },
  {
   "cell_type": "markdown",
   "id": "b183e87f-d2bb-45be-b5d5-644912ea88ab",
   "metadata": {},
   "source": [
    "Nestable: \n",
    "\n",
    "Dictionaries can contain other dictionaries as values, allowing for the creation of nested or hierarchical data structures."
   ]
  },
  {
   "cell_type": "markdown",
   "id": "f21ee86b-c4ee-4446-82e2-67f5754277ff",
   "metadata": {},
   "source": [
    "# 8. Dictionary Comprehensions"
   ]
  },
  {
   "cell_type": "markdown",
   "id": "860afb8a-675e-49a4-b579-e2cc01e6dbcd",
   "metadata": {},
   "source": [
    "Dictionary Comprehensions: \n",
    "\n",
    "Python supports dictionary comprehensions, which provide a concise way to create dictionaries."
   ]
  },
  {
   "cell_type": "markdown",
   "id": "88ecde12-3c92-47df-9d12-e344f28281e0",
   "metadata": {},
   "source": [
    "# 9. Fast Lookups"
   ]
  },
  {
   "cell_type": "markdown",
   "id": "22834af9-63d3-41b4-a7b7-f113fef58d31",
   "metadata": {},
   "source": [
    "Fast Lookups:\n",
    "\n",
    "Dictionaries provide average-time complexity of O(1) for lookups, insertions, and deletions. This is because dictionaries are implemented as hash tables, which allow for fast access to values when you know the key.\n"
   ]
  },
  {
   "cell_type": "markdown",
   "id": "2c1ed72d-2bb5-4066-8c43-09e9a8868fbc",
   "metadata": {},
   "source": [
    "Note: O(1) complexity, also known as constant time complexity, refers to an operation that takes a fixed amount of time to complete, regardless of the size of the input data set. This is considered the most efficient time complexity, as the execution time remains constant and does not grow with the size of the input."
   ]
  },
  {
   "cell_type": "markdown",
   "id": "20c9064b-e68d-484c-a918-569f2032c4d7",
   "metadata": {},
   "source": [
    "Understanding O(1) Complexity:\n",
    "\n",
    "When an algorithm or operation has O(1) complexity, it means:\n",
    "\n",
    "The time to complete the operation does not depend on the number of elements in the data structure.\n",
    "\n",
    "It performs a single, fixed number of steps (or a small, fixed number of steps), which do not change with the size of the input."
   ]
  },
  {
   "cell_type": "markdown",
   "id": "8954488c-a7b1-4bb5-a993-9318393b2da8",
   "metadata": {},
   "source": [
    "# Creating a dictionary "
   ]
  },
  {
   "cell_type": "code",
   "execution_count": 1,
   "id": "79342aab-ce68-4db5-a0fb-5efc031a80d4",
   "metadata": {},
   "outputs": [],
   "source": [
    "# blank dict\n",
    "my_dict = {}"
   ]
  },
  {
   "cell_type": "code",
   "execution_count": 2,
   "id": "a82974e9-2800-4ced-abb4-9fbfe2ec8930",
   "metadata": {},
   "outputs": [
    {
     "name": "stdout",
     "output_type": "stream",
     "text": [
      "{None: 'no value',\n",
      " b'hello': 'bytes',\n",
      " frozenset({1, 2, 3}): 'frozenset',\n",
      " 1: [1, 2, 3],\n",
      " 3.14: 'pi',\n",
      " 'courses': ['Math', 'Science'],\n",
      " 'info': {'age': 30},\n",
      " 'is_student': True,\n",
      " 'name': 'rohit',\n",
      " (1, 2, 3): [143]}\n"
     ]
    }
   ],
   "source": [
    "# dict with elements\n",
    "#pprint.pp(object, *args, sort_dicts=False, **kwargs)\n",
    "# we can keep only immutable data tyes as a key\n",
    "my_dict2 = {\n",
    "    \"name\": \"rohit\",             # String\n",
    "    1: [1, 2, 3],                # Integer\n",
    "    (1, 2, 3): [143],            # Tuple\n",
    "    \"info\": {\"age\": 30},         # Dictionary\n",
    "    \"is_student\": True,          # Boolean\n",
    "    3.14: \"pi\",                  # Float\n",
    "    \"courses\": [\"Math\", \"Science\"],  # List\n",
    "    None: \"no value\",            # NoneType\n",
    "    b'hello': \"bytes\",           # Bytes\n",
    "    frozenset({1, 2, 3}): \"frozenset\"  # Frozenset\n",
    "}\n",
    "\n",
    "\n",
    "import pprint\n",
    "pprint.pprint(my_dict2)\n"
   ]
  },
  {
   "cell_type": "code",
   "execution_count": 3,
   "id": "022f70e8-0456-480b-bbd5-5475404757f7",
   "metadata": {},
   "outputs": [
    {
     "data": {
      "text/plain": [
       "'frozenset'"
      ]
     },
     "execution_count": 3,
     "metadata": {},
     "output_type": "execute_result"
    }
   ],
   "source": [
    "# accessing element form dict\n",
    "my_dict2[frozenset({1, 2, 3})]"
   ]
  },
  {
   "cell_type": "code",
   "execution_count": 4,
   "id": "6c7a0598-7491-40db-9846-1b70c4612a6b",
   "metadata": {},
   "outputs": [
    {
     "data": {
      "text/plain": [
       "{'age': 30}"
      ]
     },
     "execution_count": 4,
     "metadata": {},
     "output_type": "execute_result"
    }
   ],
   "source": [
    "# accessing element from dict\n",
    "my_dict2[\"info\"]"
   ]
  },
  {
   "cell_type": "code",
   "execution_count": 5,
   "id": "e24ff93f-40c2-42f5-a248-0543765e8e9d",
   "metadata": {},
   "outputs": [
    {
     "name": "stdout",
     "output_type": "stream",
     "text": [
      "{'name': 'Paarth', 'class': 'Python', 'city': 'Noida', 1: 'this', (1, 2, 3): 'mylist', 'list1': [1, 2, [3, 34]]}\n"
     ]
    }
   ],
   "source": [
    "# accessing element from nested dict\n",
    "\n",
    "my_dict = {'name': 'Paarth', 'class': 'Python', 'city': 'Noida', 1: 'this', (1, 2, 3): 'mylist', 'list1': [1, 2, [3, 34]]}\n",
    "print(my_dict)"
   ]
  },
  {
   "cell_type": "code",
   "execution_count": 6,
   "id": "d3c602d3-ff55-4994-b8d4-f6c934b41815",
   "metadata": {},
   "outputs": [
    {
     "data": {
      "text/plain": [
       "34"
      ]
     },
     "execution_count": 6,
     "metadata": {},
     "output_type": "execute_result"
    }
   ],
   "source": [
    "# accessing element from nested dict\n",
    "my_dict[\"list1\"][2][1]"
   ]
  },
  {
   "cell_type": "code",
   "execution_count": 7,
   "id": "5f01c639-51e3-4270-8826-e176ee6815b6",
   "metadata": {},
   "outputs": [],
   "source": [
    "# creating a dictionay with dict constructor method\n",
    "my_dict = dict(name = \"paarth\",class1 = \"Python\") # just pass variables as key dont use as string"
   ]
  },
  {
   "cell_type": "code",
   "execution_count": 8,
   "id": "c8196e1c-0f99-4779-9c39-dc6770fca9e0",
   "metadata": {},
   "outputs": [
    {
     "data": {
      "text/plain": [
       "{'name': 'paarth', 'class1': 'Python'}"
      ]
     },
     "execution_count": 8,
     "metadata": {},
     "output_type": "execute_result"
    }
   ],
   "source": [
    "my_dict"
   ]
  },
  {
   "cell_type": "code",
   "execution_count": 9,
   "id": "c918f43e-13b4-4e09-9d9f-7fb919c78277",
   "metadata": {},
   "outputs": [
    {
     "name": "stdout",
     "output_type": "stream",
     "text": [
      "name paarth\n",
      "class1 Python\n"
     ]
    }
   ],
   "source": [
    "# access element with for loop\n",
    "for key,value in my_dict.items():\n",
    "    print(key,value)"
   ]
  },
  {
   "cell_type": "code",
   "execution_count": 29,
   "id": "91c15754-dd7a-40f1-9993-8a2c7247825d",
   "metadata": {},
   "outputs": [],
   "source": [
    "# access element with get method\n",
    "my_dict.get('name')"
   ]
  },
  {
   "cell_type": "markdown",
   "id": "10cfeaed-507e-44dd-83af-b9ef9d0e579e",
   "metadata": {},
   "source": [
    "# Adding Elements to dictionary"
   ]
  },
  {
   "cell_type": "markdown",
   "id": "6505b1af-acbd-4308-862f-42f7f0a514f1",
   "metadata": {},
   "source": [
    "1.Direct Assignment\n",
    "\n"
   ]
  },
  {
   "cell_type": "code",
   "execution_count": 30,
   "id": "ddf61635-801f-43fd-921c-f22e4fa6dd1f",
   "metadata": {},
   "outputs": [],
   "source": [
    "my_dict1 = dict(name = \"paarth\",class1 = \"Python\")\n",
    "\n",
    "my_dict1['email'] = \"Paarth@gmail.com\" # adding email to dict"
   ]
  },
  {
   "cell_type": "code",
   "execution_count": 31,
   "id": "e6262a88-e0ad-4b01-9566-e50bbf5cf129",
   "metadata": {},
   "outputs": [
    {
     "data": {
      "text/plain": [
       "{'name': 'paarth', 'class1': 'Python', 'email': 'Paarth@gmail.com'}"
      ]
     },
     "execution_count": 31,
     "metadata": {},
     "output_type": "execute_result"
    }
   ],
   "source": [
    "my_dict1"
   ]
  },
  {
   "cell_type": "markdown",
   "id": "be96015a-5639-41e7-9d4c-c910edcb3dbd",
   "metadata": {},
   "source": [
    "2.update() Method"
   ]
  },
  {
   "cell_type": "markdown",
   "id": "dee47745-c330-4924-b565-3cae2c13d70f",
   "metadata": {},
   "source": [
    "The update() method can be used to add multiple key-value pairs from another dictionary:"
   ]
  },
  {
   "cell_type": "code",
   "execution_count": 32,
   "id": "e441d1c2-35c5-4f55-9ccf-7514a1d20306",
   "metadata": {},
   "outputs": [
    {
     "name": "stdout",
     "output_type": "stream",
     "text": [
      "{'key1': 'value1', 'key2': 'value2', 'key3': 'value3'}\n"
     ]
    }
   ],
   "source": [
    "my_dict = {'key1': 'value1'}\n",
    "new_items = {'key2': 'value2', 'key3': 'value3'}\n",
    "my_dict.update(new_items)  # Adding multiple key-value pairs\n",
    "print(my_dict)"
   ]
  },
  {
   "cell_type": "markdown",
   "id": "6b5b2c00-1421-4288-bd39-88a2adf1331e",
   "metadata": {},
   "source": [
    "3. setdefault() Method"
   ]
  },
  {
   "cell_type": "markdown",
   "id": "e6e704ae-5d9a-4a94-8aac-4f8a362f9d05",
   "metadata": {},
   "source": [
    "The setdefault() method adds a new key-value pair to the dictionary if the key does not exist. If the key already exists, it returns the value associated with the key:"
   ]
  },
  {
   "cell_type": "raw",
   "id": "2d40a8b1-67ba-432b-95c4-e20aff8b48b6",
   "metadata": {},
   "source": [
    "Syntax\n",
    "\n",
    "dictionary.setdefault(key, value)"
   ]
  },
  {
   "cell_type": "code",
   "execution_count": 33,
   "id": "491e6abd-3208-41c5-bd57-73ef02f7c4da",
   "metadata": {},
   "outputs": [
    {
     "name": "stdout",
     "output_type": "stream",
     "text": [
      "{'key1': 'value1', 'key2': 'this', 'key3': 'changed'}\n"
     ]
    }
   ],
   "source": [
    "my_dict = {'key1': 'value1','key2':'this'}\n",
    "my_dict.setdefault('key2', 'rohit') # it will not add because this already exist in original dict\n",
    "my_dict.setdefault('key3',\"changed\")# Adding a new key-value pair as it doest not exist in my_dict\n",
    "print(my_dict)"
   ]
  },
  {
   "cell_type": "markdown",
   "id": "bc1c2b8d-9e85-405b-8fb9-da783e41f6eb",
   "metadata": {},
   "source": [
    "4. fromkeys() Method"
   ]
  },
  {
   "cell_type": "code",
   "execution_count": 34,
   "id": "34016d16-5ae7-4007-b053-5384559cb48d",
   "metadata": {},
   "outputs": [
    {
     "name": "stdout",
     "output_type": "stream",
     "text": [
      "{'key1': 'python', 'key2': 'python', 'key3': 'python'}\n"
     ]
    }
   ],
   "source": [
    "keys = ['key1', 'key2', 'key3']\n",
    "default_value = 'python'\n",
    "my_dict = dict.fromkeys(keys, default_value)  # Adding keys with default values\n",
    "print(my_dict)"
   ]
  },
  {
   "cell_type": "markdown",
   "id": "eb205259-d147-4557-8e68-6533e36bf899",
   "metadata": {},
   "source": [
    "5.Dictionary Comprehension"
   ]
  },
  {
   "cell_type": "markdown",
   "id": "405d99d3-0445-410d-995f-870da71a6e93",
   "metadata": {},
   "source": [
    "You can create a dictionary using dictionary comprehension:"
   ]
  },
  {
   "cell_type": "code",
   "execution_count": 45,
   "id": "fbb8c70c-5ff5-49bf-85f0-93295204b623",
   "metadata": {},
   "outputs": [
    {
     "data": {
      "text/plain": [
       "{'name': 'rohit', 'class': 'python'}"
      ]
     },
     "execution_count": 45,
     "metadata": {},
     "output_type": "execute_result"
    }
   ],
   "source": [
    "keys = ['name', 'class']\n",
    "values = ['rohit', 'python']\n",
    "my_dict = {key:value for key, value in zip(keys, values)}  # Adding key-value pairs using comprehension\n",
    "\n",
    "my_dict"
   ]
  },
  {
   "cell_type": "markdown",
   "id": "56e1d278-6868-4f69-bee8-658f07ff757a",
   "metadata": {},
   "source": [
    "# Deleting Element from a dictionary"
   ]
  },
  {
   "cell_type": "code",
   "execution_count": 35,
   "id": "b0a186a4-0314-4b6d-a5e0-29493f52095d",
   "metadata": {},
   "outputs": [],
   "source": [
    "del my_dict"
   ]
  },
  {
   "cell_type": "code",
   "execution_count": 36,
   "id": "345751fd-e173-435b-bbb9-ab4d7e297e8d",
   "metadata": {},
   "outputs": [
    {
     "ename": "NameError",
     "evalue": "name 'my_dict' is not defined",
     "output_type": "error",
     "traceback": [
      "\u001b[1;31m---------------------------------------------------------------------------\u001b[0m",
      "\u001b[1;31mNameError\u001b[0m                                 Traceback (most recent call last)",
      "Cell \u001b[1;32mIn[36], line 1\u001b[0m\n\u001b[1;32m----> 1\u001b[0m my_dict[\u001b[38;5;124m'\u001b[39m\u001b[38;5;124mname\u001b[39m\u001b[38;5;124m'\u001b[39m]\n",
      "\u001b[1;31mNameError\u001b[0m: name 'my_dict' is not defined"
     ]
    }
   ],
   "source": [
    "my_dict['name']"
   ]
  },
  {
   "cell_type": "code",
   "execution_count": 37,
   "id": "e9942440-8549-4bee-b38b-d690e31cba1b",
   "metadata": {},
   "outputs": [],
   "source": [
    "my_dict = {'name': 'paarth', 'class1': 'Python', 'email': 'Paarth@gmail.com'}"
   ]
  },
  {
   "cell_type": "code",
   "execution_count": 38,
   "id": "7095f9bd-916f-48a0-9b3e-1e8a32febb12",
   "metadata": {},
   "outputs": [],
   "source": [
    "# deleting dict completely\n",
    "del my_dict"
   ]
  },
  {
   "cell_type": "code",
   "execution_count": 39,
   "id": "a9f7c2f0-ca0e-419c-aa3a-283c0b354453",
   "metadata": {},
   "outputs": [
    {
     "name": "stdout",
     "output_type": "stream",
     "text": [
      "{'name': 'paarth', 'class1': 'Python'}\n"
     ]
    }
   ],
   "source": [
    "# removing element from dict using del method\n",
    "my_dict = {'name': 'paarth', 'class1': 'Python', 'email': 'Paarth@gmail.com'}\n",
    "del my_dict['email']\n",
    "print(my_dict)\n"
   ]
  },
  {
   "cell_type": "code",
   "execution_count": 40,
   "id": "d9af8c5a-dd04-4d64-9a27-837d179df104",
   "metadata": {},
   "outputs": [
    {
     "name": "stdout",
     "output_type": "stream",
     "text": [
      "{'class1': 'Python', 'email': 'Paarth@gmail.com'}\n"
     ]
    }
   ],
   "source": [
    "# removing element from dict using pop method\n",
    "my_dict = {'name': 'paarth', 'class1': 'Python', 'email': 'Paarth@gmail.com'}\n",
    "my_dict.pop('name')\n",
    "\n",
    "print(my_dict)"
   ]
  },
  {
   "cell_type": "markdown",
   "id": "04900b62-8069-4867-afbf-3bebca054cb7",
   "metadata": {},
   "source": [
    "# Copy a dictionary\n"
   ]
  },
  {
   "cell_type": "code",
   "execution_count": 69,
   "id": "64f6ff37-d792-44da-a4ad-667af33999e0",
   "metadata": {},
   "outputs": [
    {
     "data": {
      "text/plain": [
       "{'name': 'Sachin', 'class1': 'Python', 'email': ['Paarth@gmail.com']}"
      ]
     },
     "execution_count": 69,
     "metadata": {},
     "output_type": "execute_result"
    }
   ],
   "source": [
    "my_dict = my_dict = {'name': 'Sachin', 'class1': 'Python', 'email': ['Paarth@gmail.com']}\n",
    "\n",
    "my_copied_dict = my_dict.copy() # The statement my_copied_dict = my_dict.copy() creates a shallow copy of the dictionary my_dict.\n",
    "\n",
    "my_copied_dict"
   ]
  },
  {
   "cell_type": "raw",
   "id": "f976997f-44be-4dd7-9071-e055e4b8fb77",
   "metadata": {},
   "source": [
    "if you modify original dictionary it will modify both dictionary"
   ]
  },
  {
   "cell_type": "code",
   "execution_count": 70,
   "id": "b6a4e359-58c0-46b5-a237-5ebfae321975",
   "metadata": {},
   "outputs": [],
   "source": [
    "# Modifying a value in the copied dictionary\n",
    "\n",
    "\n",
    "# Modifying a list in the copied dictionary\n",
    "my_copied_dict['email'].append('another@example.com')\n",
    "\n",
    "\n"
   ]
  },
  {
   "cell_type": "code",
   "execution_count": 71,
   "id": "6801a1d5-7b82-4956-a63b-8aed93d55536",
   "metadata": {},
   "outputs": [],
   "source": [
    "# now we will check in both  (conclusion it will change both)"
   ]
  },
  {
   "cell_type": "code",
   "execution_count": 72,
   "id": "c40d2ee0-81b2-4fe0-a823-580e1c1b284f",
   "metadata": {},
   "outputs": [
    {
     "name": "stdout",
     "output_type": "stream",
     "text": [
      "{'name': 'Sachin', 'class1': 'Python', 'email': ['Paarth@gmail.com', 'another@example.com']}\n",
      "{'name': 'Sachin', 'class1': 'Python', 'email': ['Paarth@gmail.com', 'another@example.com']}\n"
     ]
    }
   ],
   "source": [
    "print(my_copied_dict) # This is copied \n",
    "print(my_dict) # this was our original dict"
   ]
  },
  {
   "cell_type": "code",
   "execution_count": null,
   "id": "69ccec24-8789-42b3-8916-590b505eb63d",
   "metadata": {},
   "outputs": [],
   "source": []
  },
  {
   "cell_type": "code",
   "execution_count": 1,
   "id": "cd8fe62d-a56e-4ba4-8cff-bbe6cf4b521d",
   "metadata": {},
   "outputs": [
    {
     "data": {
      "text/plain": [
       "'Hollo Werld'"
      ]
     },
     "execution_count": 1,
     "metadata": {},
     "output_type": "execute_result"
    }
   ],
   "source": [
    "\"Hello World\"\n",
    "\n",
    "\"Hollo Werld\""
   ]
  },
  {
   "cell_type": "code",
   "execution_count": 13,
   "id": "a3de2a59-a84a-4d22-bdfc-f4a62f7f5464",
   "metadata": {},
   "outputs": [
    {
     "data": {
      "text/plain": [
       "['Hello', 'World']"
      ]
     },
     "execution_count": 13,
     "metadata": {},
     "output_type": "execute_result"
    }
   ],
   "source": [
    "string = \"Hello World\"\n",
    "new_string = string.split()\n",
    "new_string"
   ]
  },
  {
   "cell_type": "code",
   "execution_count": 15,
   "id": "faf6de98-c6e2-43aa-86a8-0242a243173d",
   "metadata": {},
   "outputs": [
    {
     "data": {
      "text/plain": [
       "'Hollo'"
      ]
     },
     "execution_count": 15,
     "metadata": {},
     "output_type": "execute_result"
    }
   ],
   "source": [
    "first_string = new_string[0].replace(\"e\",\"o\")\n",
    "first_string "
   ]
  },
  {
   "cell_type": "code",
   "execution_count": 17,
   "id": "94124320-8be7-4898-8a3b-8730fad4ce45",
   "metadata": {},
   "outputs": [
    {
     "data": {
      "text/plain": [
       "'Werld'"
      ]
     },
     "execution_count": 17,
     "metadata": {},
     "output_type": "execute_result"
    }
   ],
   "source": [
    "second_string = new_string[1].replace(\"o\",\"e\")\n",
    "second_string"
   ]
  },
  {
   "cell_type": "code",
   "execution_count": 20,
   "id": "63e74530-53ab-4500-8733-34ecb9b602a9",
   "metadata": {},
   "outputs": [
    {
     "data": {
      "text/plain": [
       "'Hollo Werld'"
      ]
     },
     "execution_count": 20,
     "metadata": {},
     "output_type": "execute_result"
    }
   ],
   "source": [
    "final_string = first_string + \" \" +second_string\n",
    "final_string"
   ]
  },
  {
   "cell_type": "code",
   "execution_count": 21,
   "id": "0104d065-465d-4b06-b292-e233a0c06585",
   "metadata": {},
   "outputs": [
    {
     "data": {
      "text/plain": [
       "'tihoR'"
      ]
     },
     "execution_count": 21,
     "metadata": {},
     "output_type": "execute_result"
    }
   ],
   "source": [
    "string = \"Rohit\"\n",
    "reversed_string = \"\"\n",
    "for char in string:\n",
    "\n",
    "    reversed_string = char + reversed_string\n",
    "\n",
    "reversed_string\n",
    "    "
   ]
  },
  {
   "cell_type": "code",
   "execution_count": 26,
   "id": "8fb9d095-f502-471b-a47c-16cae0c9904a",
   "metadata": {},
   "outputs": [
    {
     "name": "stdout",
     "output_type": "stream",
     "text": [
      "t\n",
      "i\n",
      "h\n",
      "O\n"
     ]
    }
   ],
   "source": [
    "string = \"ROhit\"\n",
    "for char in range(1,5):\n",
    "    print(string[-(char)])"
   ]
  },
  {
   "cell_type": "code",
   "execution_count": null,
   "id": "b9964a15-859f-47ee-a6c7-e518974cb2a8",
   "metadata": {},
   "outputs": [],
   "source": [
    "\n",
    "\n"
   ]
  }
 ],
 "metadata": {
  "kernelspec": {
   "display_name": "Python 3 (ipykernel)",
   "language": "python",
   "name": "python3"
  },
  "language_info": {
   "codemirror_mode": {
    "name": "ipython",
    "version": 3
   },
   "file_extension": ".py",
   "mimetype": "text/x-python",
   "name": "python",
   "nbconvert_exporter": "python",
   "pygments_lexer": "ipython3",
   "version": "3.11.7"
  }
 },
 "nbformat": 4,
 "nbformat_minor": 5
}
