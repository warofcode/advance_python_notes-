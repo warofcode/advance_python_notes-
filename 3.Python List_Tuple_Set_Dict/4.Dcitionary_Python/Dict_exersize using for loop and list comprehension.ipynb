{
 "cells": [
  {
   "cell_type": "code",
   "execution_count": 2,
   "id": "8206bd84-3206-4897-9af4-01904b0c7bd1",
   "metadata": {},
   "outputs": [],
   "source": []
  },
  {
   "cell_type": "code",
   "execution_count": 7,
   "id": "91cc5636-9902-4ad8-8c7d-32609c4fafb4",
   "metadata": {},
   "outputs": [
    {
     "name": "stdin",
     "output_type": "stream",
     "text": [
      "enter your friend name for information : devansh\n"
     ]
    },
    {
     "name": "stdout",
     "output_type": "stream",
     "text": [
      "this name is not in your database\n"
     ]
    },
    {
     "name": "stdin",
     "output_type": "stream",
     "text": [
      "enter your date of birth :  9sep\n"
     ]
    },
    {
     "name": "stdout",
     "output_type": "stream",
     "text": [
      "{'rohit': 'jul13', 'rajeev': '14sept', 'subham': 'oct12', 'devansh': '9sep'}\n"
     ]
    },
    {
     "name": "stdin",
     "output_type": "stream",
     "text": [
      "enter your friend name for information : \n"
     ]
    }
   ],
   "source": [
    "dict1 = {\"rohit\":\"jul13\",\"rajeev\":\"14sept\",\"subham\":\"oct12\"}\n",
    "\n",
    "while True:\n",
    "    input_name = input(\"enter your friend name for information :\")\n",
    "    if input_name == \"\":\n",
    "        break\n",
    "    \n",
    "    #value = dict1.get(input_name)\n",
    "    \n",
    "    \n",
    "    if input_name in dict1:\n",
    "        print(dict1[input_name])\n",
    "    \n",
    "    else :\n",
    "        print(\"this name is not in your database\")\n",
    "        DOB = input(\"enter your date of birth : \")\n",
    "        dict1[input_name] = DOB\n",
    "        print(dict1)\n"
   ]
  },
  {
   "cell_type": "code",
   "execution_count": 26,
   "id": "f7db11ca-c4d5-4fb7-8f3f-177cfaad230a",
   "metadata": {},
   "outputs": [
    {
     "name": "stdin",
     "output_type": "stream",
     "text": [
      "Enter your user name: rajeev\n"
     ]
    },
    {
     "name": "stdout",
     "output_type": "stream",
     "text": [
      "17jan\n"
     ]
    }
   ],
   "source": [
    "dict1 = {\"rajeev\":\"17jan\",\"musheer\":\"12jan\",\"shubham\":\"4june\"}\n",
    "enter_your_name = input(\"Enter your user name:\")\n",
    "list1 = [dict1[key] for key in dict1 if key == enter_your_name][0]\n",
    "print(list1)\n",
    "# for key in dict1:\n",
    "    \n",
    "#     if key == enter_your_name:\n",
    "#         print(dict1[key])\n",
    "#         break\n",
    "#else:\n",
    "    #birthday = input(\"Give me the birthday date\")\n",
    "   # dict1[enter_your_name] = birthday\n",
    "    \n",
    "    "
   ]
  },
  {
   "cell_type": "code",
   "execution_count": null,
   "id": "083dd89c-0f68-4e8c-a9c3-11de8286c2e3",
   "metadata": {},
   "outputs": [],
   "source": [
    "list1 = [dict1[key] for key in dict1 if key == enter_your_name]"
   ]
  }
 ],
 "metadata": {
  "kernelspec": {
   "display_name": "Python 3 (ipykernel)",
   "language": "python",
   "name": "python3"
  },
  "language_info": {
   "codemirror_mode": {
    "name": "ipython",
    "version": 3
   },
   "file_extension": ".py",
   "mimetype": "text/x-python",
   "name": "python",
   "nbconvert_exporter": "python",
   "pygments_lexer": "ipython3",
   "version": "3.11.7"
  }
 },
 "nbformat": 4,
 "nbformat_minor": 5
}
