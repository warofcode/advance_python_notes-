{
 "cells": [
  {
   "cell_type": "raw",
   "id": "c539b252-4fe4-4896-b038-f1b19baab292",
   "metadata": {},
   "source": [
    "------------------------------------------------------    SET                              ------------------------------------------------"
   ]
  },
  {
   "cell_type": "markdown",
   "id": "0f9df4f8-0855-45d2-968b-1cd33aee0e8a",
   "metadata": {},
   "source": [
    "In Python, a set is a built-in data structure that is used to store an unordered collection of unique elements. This means that each element in a set is unique and cannot appear more than once."
   ]
  },
  {
   "cell_type": "markdown",
   "id": "f2f87a09-7bf5-4ca8-90af-9773f8b2bfd6",
   "metadata": {},
   "source": [
    "# Key Characteristics of Sets in Python"
   ]
  },
  {
   "cell_type": "raw",
   "id": "76b5ade5-3dfe-45e5-b2e8-7d923f0a97ec",
   "metadata": {},
   "source": [
    "Unordered: \n",
    "The elements in a set do not have a specific order. This means that when you iterate over a set, the elements may appear in a different order than you added them.\n",
    "\n",
    "Unique Elements: \n",
    "Sets automatically ensure that all elements are unique. If you try to add a duplicate element, it will not be included in the set.\n",
    "\n",
    "Mutable: \n",
    "Sets can be modified after creation. You can add or remove elements from a set.\n",
    "\n",
    "No Indexing: \n",
    "Since sets are unordered, they do not support indexing, slicing, or other sequence-like behavior."
   ]
  },
  {
   "cell_type": "markdown",
   "id": "c6a4dc49-c4a5-49b8-bc24-1073ac731230",
   "metadata": {},
   "source": [
    "# Creating a Set"
   ]
  },
  {
   "cell_type": "raw",
   "id": "a659914b-67c4-464e-b153-a3cdc9b40b11",
   "metadata": {},
   "source": [
    "You can create a set by using curly braces {} or by using the set() function. Here are examples of both methods:"
   ]
  },
  {
   "cell_type": "code",
   "execution_count": 113,
   "id": "538643d2-894d-4a14-b500-0c4fde4fc6ea",
   "metadata": {},
   "outputs": [
    {
     "name": "stdout",
     "output_type": "stream",
     "text": [
      "{1, 2, 3, 4, 5}\n",
      "{1, 2, 3, 4, 5}\n"
     ]
    }
   ],
   "source": [
    "# Using curly braces\n",
    "my_set = {1, 2, 3, 4, 5}\n",
    "print(my_set)  # Output: {1, 2, 3, 4, 5}\n",
    "\n",
    "# Using the set() function\n",
    "another_set = set([1, 2, 3, 4, 5])\n",
    "print(another_set)  # Output: {1, 2, 3, 4, 5}\n"
   ]
  },
  {
   "cell_type": "markdown",
   "id": "34557d24-a5b1-4429-925b-52adcb0cb304",
   "metadata": {},
   "source": [
    "# Set Operations\n",
    "\n"
   ]
  },
  {
   "cell_type": "raw",
   "id": "710954d4-c4a1-4232-a448-8f73f1de5a3a",
   "metadata": {},
   "source": [
    "Sets support various operations that are useful for mathematical set theory. These include union, intersection, difference, and symmetric difference."
   ]
  },
  {
   "cell_type": "markdown",
   "id": "528b56ab-15ba-4711-800c-9cff22606b21",
   "metadata": {},
   "source": [
    "#  difference"
   ]
  },
  {
   "cell_type": "code",
   "execution_count": 1,
   "id": "ec1f7abf-0807-4926-ac08-24fb51bd695c",
   "metadata": {},
   "outputs": [
    {
     "name": "stdout",
     "output_type": "stream",
     "text": [
      "{44, 5, 343}\n"
     ]
    }
   ],
   "source": [
    "my_set1={1,343,44,5}\n",
    "my_set2={1,2,3}\n",
    "my_set3=my_set1.difference(my_set2)\n",
    "print(my_set3)"
   ]
  },
  {
   "cell_type": "code",
   "execution_count": 30,
   "id": "79703093-a6e4-476a-8c4e-7880b19e1055",
   "metadata": {},
   "outputs": [
    {
     "data": {
      "text/plain": [
       "{1, 2, 3}"
      ]
     },
     "execution_count": 30,
     "metadata": {},
     "output_type": "execute_result"
    }
   ],
   "source": [
    "my_set.difference()"
   ]
  },
  {
   "cell_type": "markdown",
   "id": "7bbb788d-a5f3-4879-8ef4-ad3ba899dd84",
   "metadata": {},
   "source": [
    " # difference_update"
   ]
  },
  {
   "cell_type": "code",
   "execution_count": 46,
   "id": "130cc01e-2b8e-48b7-a1f7-d60da3118b5b",
   "metadata": {},
   "outputs": [
    {
     "name": "stdout",
     "output_type": "stream",
     "text": [
      "{44, 5, 343}\n"
     ]
    }
   ],
   "source": [
    "my_set1={1,343,44,5}\n",
    "my_set2={1,2,3}\n",
    "my_set1.difference_update(my_set2)\n",
    "print(my_set1)"
   ]
  },
  {
   "cell_type": "code",
   "execution_count": 47,
   "id": "829ce53c-cb01-46a9-9916-9f64c1a1c434",
   "metadata": {},
   "outputs": [
    {
     "name": "stdout",
     "output_type": "stream",
     "text": [
      "{2, 3}\n"
     ]
    }
   ],
   "source": [
    "my_set1={1,343,44,5}\n",
    "my_set2={1,2,3}\n",
    "my_set2.difference_update(my_set1)\n",
    "print(my_set2)"
   ]
  },
  {
   "cell_type": "markdown",
   "id": "1a9c5618-4325-41df-9051-ec8de9a8750d",
   "metadata": {},
   "source": [
    "# Discard()"
   ]
  },
  {
   "cell_type": "code",
   "execution_count": 58,
   "id": "11dd39f8-5d38-4394-b987-c6c45f352e0f",
   "metadata": {},
   "outputs": [
    {
     "name": "stdout",
     "output_type": "stream",
     "text": [
      "{1, 44, 343, 55}\n"
     ]
    }
   ],
   "source": [
    "my_set1={1,343,44,55}   #if item not found does not throw error\n",
    "my_set1.discard(565)\n",
    "print(my_set1)           "
   ]
  },
  {
   "cell_type": "markdown",
   "id": "57899bed-65a3-4679-89a0-c16f8421b8e8",
   "metadata": {},
   "source": [
    "#  remove() "
   ]
  },
  {
   "cell_type": "code",
   "execution_count": 60,
   "id": "3e1a191e-fd08-45af-9cef-f6e4d771bae4",
   "metadata": {},
   "outputs": [
    {
     "name": "stdout",
     "output_type": "stream",
     "text": [
      "{1, 44, 343}\n"
     ]
    }
   ],
   "source": [
    "my_set1={1,343,44,55}\n",
    "my_set1.remove(55)     # if item not found throws  error\n",
    "print(my_set1)"
   ]
  },
  {
   "cell_type": "markdown",
   "id": "3e7f3b9c-9484-4e6e-b040-9161d8bc5ebf",
   "metadata": {},
   "source": [
    "  #  intersection()"
   ]
  },
  {
   "cell_type": "code",
   "execution_count": 64,
   "id": "443348d5-8349-42eb-ab53-6f530fbe9f71",
   "metadata": {},
   "outputs": [
    {
     "data": {
      "text/plain": [
       "{1}"
      ]
     },
     "execution_count": 64,
     "metadata": {},
     "output_type": "execute_result"
    }
   ],
   "source": [
    "my_set1={1,343,44,55}  # return  intersection \n",
    "my_set2={1,2,3}\n",
    "my_set1.intersection(my_set2)"
   ]
  },
  {
   "cell_type": "markdown",
   "id": "afb056a5-33f1-4e35-bf8c-3964f8e0e703",
   "metadata": {},
   "source": [
    "#  intersection_update"
   ]
  },
  {
   "cell_type": "code",
   "execution_count": 67,
   "id": "abba664b-d1c6-4ded-a23d-84a22820fb0f",
   "metadata": {},
   "outputs": [
    {
     "name": "stdout",
     "output_type": "stream",
     "text": [
      "{1}\n"
     ]
    }
   ],
   "source": [
    "my_set1={1,343,44,55} \n",
    "my_set2={1,2,3}\n",
    "my_set1.intersection_update(my_set2)\n",
    "print(my_set1)"
   ]
  },
  {
   "cell_type": "code",
   "execution_count": 68,
   "id": "bc37a90d-2ced-44dc-9616-89f3036e5458",
   "metadata": {},
   "outputs": [
    {
     "name": "stdout",
     "output_type": "stream",
     "text": [
      "{1}\n"
     ]
    }
   ],
   "source": [
    "my_set1={1,343,44,55} \n",
    "my_set2={1,2,3}\n",
    "my_set2.intersection_update(my_set1)\n",
    "print(my_set2)"
   ]
  },
  {
   "cell_type": "markdown",
   "id": "68caae6e-548b-4f10-83d4-bc85ec3ea593",
   "metadata": {},
   "source": [
    "#  isdisjoint()"
   ]
  },
  {
   "cell_type": "code",
   "execution_count": 69,
   "id": "785c0717-dfe4-4b2c-97f7-d90956603848",
   "metadata": {},
   "outputs": [
    {
     "data": {
      "text/plain": [
       "False"
      ]
     },
     "execution_count": 69,
     "metadata": {},
     "output_type": "execute_result"
    }
   ],
   "source": [
    "my_set1={1,343,44,55}   #   Return True if two sets have a null intersection.\n",
    "my_set2={1,2,3}\n",
    "my_set1.isdisjoint(my_set2)"
   ]
  },
  {
   "cell_type": "code",
   "execution_count": 76,
   "id": "3aae33a0-9284-4a24-a6fb-ebdfe99e744f",
   "metadata": {},
   "outputs": [
    {
     "data": {
      "text/plain": [
       "True"
      ]
     },
     "execution_count": 76,
     "metadata": {},
     "output_type": "execute_result"
    }
   ],
   "source": [
    "my_set1={1,2,3}   # Return True if two sets have a null intersection.\n",
    "my_set2={4,5,6}\n",
    "my_set1.isdisjoint(my_set2)"
   ]
  },
  {
   "cell_type": "markdown",
   "id": "b2a7589e-21ca-4579-8c3d-2fea6127356e",
   "metadata": {},
   "source": [
    "# issubset"
   ]
  },
  {
   "cell_type": "code",
   "execution_count": 81,
   "id": "448d89d8-25fc-45c4-a17c-6a17a8dcc795",
   "metadata": {},
   "outputs": [
    {
     "data": {
      "text/plain": [
       "False"
      ]
     },
     "execution_count": 81,
     "metadata": {},
     "output_type": "execute_result"
    }
   ],
   "source": [
    "my_set1={1,343,44,55}     #Report whether another set contains this set.\n",
    "my_set2={1,2,3}\n",
    "my_set1.issubset(my_set2)"
   ]
  },
  {
   "cell_type": "code",
   "execution_count": 84,
   "id": "066fa483-5680-4e0b-84b8-ec17501427dc",
   "metadata": {},
   "outputs": [
    {
     "data": {
      "text/plain": [
       "True"
      ]
     },
     "execution_count": 84,
     "metadata": {},
     "output_type": "execute_result"
    }
   ],
   "source": [
    "my_set1={1,343,44,55,2,3}     \n",
    "my_set2={1,2,3}\n",
    "my_set2.issubset(my_set1)"
   ]
  },
  {
   "cell_type": "markdown",
   "id": "b49ff759-f504-4c77-b3d3-b1485c196ee8",
   "metadata": {},
   "source": [
    "#  issuperset"
   ]
  },
  {
   "cell_type": "code",
   "execution_count": 86,
   "id": "34f30773-0c18-41fc-88aa-8f095904d9ec",
   "metadata": {},
   "outputs": [
    {
     "data": {
      "text/plain": [
       "False"
      ]
     },
     "execution_count": 86,
     "metadata": {},
     "output_type": "execute_result"
    }
   ],
   "source": [
    "my_set1={1,343,44,55,2,3}     \n",
    "my_set2={1,2,3}\n",
    "my_set2.issuperset(my_set1)"
   ]
  },
  {
   "cell_type": "code",
   "execution_count": 87,
   "id": "817c343c-3f9b-479b-a438-7e63760ff438",
   "metadata": {},
   "outputs": [
    {
     "data": {
      "text/plain": [
       "True"
      ]
     },
     "execution_count": 87,
     "metadata": {},
     "output_type": "execute_result"
    }
   ],
   "source": [
    "my_set1={1,343,44,55,2,3}     \n",
    "my_set2={1,2,3}\n",
    "my_set1.issuperset(my_set2)"
   ]
  },
  {
   "cell_type": "markdown",
   "id": "c1dfb5a1-cc6b-44f9-9aaa-e1478b4ee718",
   "metadata": {},
   "source": [
    "# pop"
   ]
  },
  {
   "cell_type": "code",
   "execution_count": 96,
   "id": "99189217-c4e8-4d55-97d9-2d63506bf0e4",
   "metadata": {},
   "outputs": [
    {
     "name": "stdout",
     "output_type": "stream",
     "text": [
      "{2, 3, 55, 44, 343}\n"
     ]
    }
   ],
   "source": [
    "# Python set pop() removes any random element from the set and returns the removed element. In this article,\n",
    "# we will see about the Python set pop() method.\n",
    "my_set1={1,343,44,55,2,3}      \n",
    "# my_set2={1,2,3}\n",
    "my_set1.pop()\n",
    "print(my_set1)"
   ]
  },
  {
   "cell_type": "markdown",
   "id": "66f2364d-b2ab-47c4-9ea0-cd4b51eb43e2",
   "metadata": {},
   "source": [
    "# symmetric_difference"
   ]
  },
  {
   "cell_type": "code",
   "execution_count": 99,
   "id": "a17af2a9-5dbe-4500-8c36-64524d96b5d6",
   "metadata": {},
   "outputs": [
    {
     "data": {
      "text/plain": [
       "{44, 55, 99, 343}"
      ]
     },
     "execution_count": 99,
     "metadata": {},
     "output_type": "execute_result"
    }
   ],
   "source": [
    "# Return everything from both set except intersecction \n",
    "my_set1={1,343,44,55,2,3}       \n",
    "my_set2={1,2,3,99}\n",
    "my_set1.symmetric_difference(my_set2)"
   ]
  },
  {
   "cell_type": "markdown",
   "id": "ddf666a9-bd85-4814-8c58-cd99920acf73",
   "metadata": {},
   "source": [
    "#  symmetric_difference_update"
   ]
  },
  {
   "cell_type": "code",
   "execution_count": 102,
   "id": "2bb3d8df-57c8-4199-8dcb-865bb38dfd64",
   "metadata": {},
   "outputs": [
    {
     "name": "stdout",
     "output_type": "stream",
     "text": [
      "{99, 55, 44, 343}\n"
     ]
    }
   ],
   "source": [
    "my_set1={1,343,44,55,2,3}       \n",
    "my_set2={1,2,3,99}\n",
    "my_set1.symmetric_difference_update(my_set2)\n",
    "print(my_set1)"
   ]
  },
  {
   "cell_type": "markdown",
   "id": "bcc97220-6394-4804-af83-44b56f9336a9",
   "metadata": {},
   "source": [
    "# union"
   ]
  },
  {
   "cell_type": "code",
   "execution_count": 103,
   "id": "bb9fd7a0-c358-4c0c-941c-78c37b4d7f0d",
   "metadata": {},
   "outputs": [
    {
     "data": {
      "text/plain": [
       "{1, 2, 3, 44, 55, 99, 343}"
      ]
     },
     "execution_count": 103,
     "metadata": {},
     "output_type": "execute_result"
    }
   ],
   "source": [
    "# All values from both set one time\n",
    "my_set1={1,343,44,55,2,3}       \n",
    "my_set2={1,2,3,99}\n",
    "my_set1.union(my_set2)"
   ]
  },
  {
   "cell_type": "markdown",
   "id": "c4b47ba7-3cac-448d-a767-9c328d7cf495",
   "metadata": {},
   "source": [
    "# update"
   ]
  },
  {
   "cell_type": "code",
   "execution_count": 119,
   "id": "d1ca69c0-494a-4001-886e-0f734d737002",
   "metadata": {},
   "outputs": [
    {
     "name": "stdout",
     "output_type": "stream",
     "text": [
      "{1, 2, 3, 5}\n"
     ]
    }
   ],
   "source": [
    "my_set1={1,2,3,5}       # Update a set with the union of itself and others.\n",
    "my_set2={1,2,3,4}\n",
    "my_set2.update(my_set1)  # set1 will be updated in set2 # all element \n",
    "print(my_set1)"
   ]
  },
  {
   "cell_type": "code",
   "execution_count": null,
   "id": "f332a0cc-d796-4683-8ad3-dcdced3d2428",
   "metadata": {},
   "outputs": [],
   "source": []
  }
 ],
 "metadata": {
  "kernelspec": {
   "display_name": "Python 3 (ipykernel)",
   "language": "python",
   "name": "python3"
  },
  "language_info": {
   "codemirror_mode": {
    "name": "ipython",
    "version": 3
   },
   "file_extension": ".py",
   "mimetype": "text/x-python",
   "name": "python",
   "nbconvert_exporter": "python",
   "pygments_lexer": "ipython3",
   "version": "3.11.7"
  }
 },
 "nbformat": 4,
 "nbformat_minor": 5
}
