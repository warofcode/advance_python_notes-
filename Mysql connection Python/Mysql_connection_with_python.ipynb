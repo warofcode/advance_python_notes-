{
 "cells": [
  {
   "cell_type": "code",
   "execution_count": 8,
   "id": "2d17932e",
   "metadata": {},
   "outputs": [
    {
     "name": "stdout",
     "output_type": "stream",
     "text": [
      "Connected to MySQL Server version  8.0.37\n",
      "You're connected to database:  (None,)\n",
      "MySQL connection is closed\n"
     ]
    }
   ],
   "source": [
    "pip install mysql-connector-python\n",
    "import mysql.connector\n",
    "from mysql.connector import Error\n",
    "\n",
    "try:\n",
    "    connection = mysql.connector.connect(host='localhost',\n",
    "                                         user='root',\n",
    "                                         password='admin')\n",
    "    if connection.is_connected():\n",
    "        db_Info = connection.get_server_info()\n",
    "        print(\"Connected to MySQL Server version \", db_Info)\n",
    "        cursor = connection.cursor()\n",
    "        cursor.execute(\"select database();\")\n",
    "        record = cursor.fetchone()\n",
    "        print(\"You're connected to database: \", record)\n",
    "\n",
    "except Error as e:\n",
    "    print(\"Error while connecting to MySQL\", e)\n",
    "finally:\n",
    "    if connection.is_connected():\n",
    "        cursor.close()\n",
    "        connection.close()\n",
    "        print(\"MySQL connection is closed\")"
   ]
  },
  {
   "cell_type": "code",
   "execution_count": 14,
   "id": "5d1e28f2-b110-423f-822a-463f51e50fa9",
   "metadata": {},
   "outputs": [
    {
     "name": "stdout",
     "output_type": "stream",
     "text": [
      "Connected to MySQL Server version  8.0.37\n",
      "You're connected to database:  ('rohit_database',)\n",
      "MySQL connection is closed\n"
     ]
    }
   ],
   "source": [
    "# connecting to specific database in our case we are connecting to rohit_database\n",
    "import mysql.connector\n",
    "from mysql.connector import Error\n",
    "\n",
    "try:\n",
    "    connection = mysql.connector.connect(host='localhost', user='root', password='admin',\n",
    "                                     port='3306', database='rohit_database')\n",
    "    if connection.is_connected():\n",
    "        db_Info = connection.get_server_info()\n",
    "        print(\"Connected to MySQL Server version \", db_Info)\n",
    "        cursor = connection.cursor()\n",
    "        cursor.execute(\"select database();\")\n",
    "        record = cursor.fetchone()\n",
    "        print(\"You're connected to database: \", record)\n",
    "\n",
    "except Error as e:\n",
    "    print(\"Error while connecting to MySQL\", e)\n",
    "finally:\n",
    "    if connection.is_connected():\n",
    "        cursor.close()\n",
    "        connection.close()\n",
    "        print(\"MySQL connection is closed\")"
   ]
  },
  {
   "cell_type": "code",
   "execution_count": 2,
   "id": "1e946b66",
   "metadata": {},
   "outputs": [],
   "source": [
    "import tkinter as tk\n",
    "from tkinter import *\n",
    "from tkinter import ttk\n",
    "import mysql.connector\n",
    "\n",
    "root = Tk()\n",
    "root.geometry(\"380x600\")\n",
    "root.title(\"Rohit Application\")\n",
    "root.minsize(380,400)\n",
    "\n",
    "connection = mysql.connector.connect(host='localhost', user='root', password='admin',\n",
    "                                     port='3306', database='rohit_database',auth_plugin='mysql_native_password')\n",
    "c = connection.cursor()\n",
    "\n",
    "bkg = \"red\"\n",
    "\n",
    "\n",
    "frame = tk.Frame(root, bg=bkg)\n",
    "\n",
    "label_firstname = tk.Label(frame, text=\"Your First Name: \", font=('verdana',12), bg=bkg)\n",
    "entry_firstname = tk.Entry(frame, font=('verdana',12))\n",
    "\n",
    "label_lastname = tk.Label(frame, text=\"Your Last Name: \", font=('verdana',12), bg=bkg)\n",
    "entry_lastname = tk.Entry(frame, font=('verdana',12))\n",
    "\n",
    "label_email = tk.Label(frame, text=\"Your Email: \", font=('verdana',12), bg=bkg)\n",
    "entry_email = tk.Entry(frame, font=('verdana',12))\n",
    "\n",
    "label_age = tk.Label(frame, text=\"your Age: \", font=('verdana',12), bg=bkg)\n",
    "entry_age = tk.Entry(frame, font=('verdana',12))\n",
    "\n",
    "\n",
    "def insertData():\n",
    "    firstname = entry_firstname.get()\n",
    "    lastname = entry_lastname.get()\n",
    "    email = entry_email.get()\n",
    "    age = entry_age.get()\n",
    "\n",
    "    insert_query = \"INSERT INTO rohit_database_table (firstname, lastname, email, age) VALUES (%s,%s,%s,%s)\"\n",
    "    vals = (firstname,lastname,email,age)\n",
    "    c.execute(insert_query,vals)\n",
    "    connection.commit()\n",
    "\n",
    "\n",
    "button_insert = tk.Button(frame, text=\"Insert\", font=('verdana',14), bg='#7FFF00',\n",
    "                          command = insertData)\n",
    "\n",
    "label_firstname.grid(row=0, column=0)\n",
    "entry_firstname.grid(row=0, column=1, pady=10, padx=10)\n",
    "\n",
    "label_lastname.grid(row=1, column=0)\n",
    "entry_lastname.grid(row=1, column=1, pady=10, padx=10)\n",
    "\n",
    "label_email.grid(row=2, column=0, sticky='e')\n",
    "entry_email.grid(row=2, column=1, pady=10, padx=10)\n",
    "\n",
    "label_age.grid(row=3, column=0, sticky='e')\n",
    "entry_age.grid(row=3, column=1, pady=10, padx=10)\n",
    "\n",
    "button_insert.grid(row=4,column=0, columnspan=2, pady=250, padx=100, sticky='nsew')\n",
    "\n",
    "frame.grid(row=0, column=0)\n",
    "\n",
    "\n",
    "root.mainloop()\n"
   ]
  },
  {
   "cell_type": "code",
   "execution_count": null,
   "id": "329318e7",
   "metadata": {},
   "outputs": [],
   "source": [
    "# to execute above query you need to choose create a database rohit_database\n",
    "# and a table rohit_database_table\n",
    "# with firstname lastname email age\n",
    "\n"
   ]
  },
  {
   "cell_type": "raw",
   "id": "1084f0fc-2bb6-4f03-ae30-172d14345fd1",
   "metadata": {},
   "source": [
    "create database rohit_database;\n",
    "use rohit_database;\n",
    "\n",
    "create TABLE rohit_database_table(\n",
    "firstname varchar(40),\n",
    "lastname varchar(40),\n",
    "email varchar(65),\n",
    "age int );"
   ]
  },
  {
   "cell_type": "code",
   "execution_count": 2,
   "id": "abce4737-87c4-48d9-bc5c-701b03a80016",
   "metadata": {},
   "outputs": [
    {
     "name": "stdout",
     "output_type": "stream",
     "text": [
      "Collecting mysql-connector-python\n",
      "  Using cached mysql_connector_python-8.4.0-cp311-cp311-win_amd64.whl.metadata (2.0 kB)\n",
      "Using cached mysql_connector_python-8.4.0-cp311-cp311-win_amd64.whl (14.5 MB)\n",
      "Installing collected packages: mysql-connector-python\n",
      "Successfully installed mysql-connector-python-8.4.0\n",
      "Note: you may need to restart the kernel to use updated packages.\n"
     ]
    }
   ],
   "source": [
    "pip install mysql-connector-python"
   ]
  },
  {
   "cell_type": "code",
   "execution_count": null,
   "id": "41e01d7c-dd68-4ff2-865e-eb1e7c37d8f5",
   "metadata": {},
   "outputs": [],
   "source": []
  }
 ],
 "metadata": {
  "kernelspec": {
   "display_name": "Python 3 (ipykernel)",
   "language": "python",
   "name": "python3"
  },
  "language_info": {
   "codemirror_mode": {
    "name": "ipython",
    "version": 3
   },
   "file_extension": ".py",
   "mimetype": "text/x-python",
   "name": "python",
   "nbconvert_exporter": "python",
   "pygments_lexer": "ipython3",
   "version": "3.11.7"
  }
 },
 "nbformat": 4,
 "nbformat_minor": 5
}
