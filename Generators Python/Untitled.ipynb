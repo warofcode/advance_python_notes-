{
 "cells": [
  {
   "cell_type": "code",
   "execution_count": 12,
   "id": "7d3a0ff4-22c4-4828-8be0-70e513c62209",
   "metadata": {},
   "outputs": [],
   "source": [
    "def function():\n",
    "    list1 = [1,2,3,4]\n",
    "    for i in list1:\n",
    "        list1.append(\"rohit\")\n",
    "        return list1\n",
    "        \n",
    "        "
   ]
  },
  {
   "cell_type": "code",
   "execution_count": 14,
   "id": "c717ec0f-996c-44c5-88a0-3a5f23c797a1",
   "metadata": {},
   "outputs": [],
   "source": [
    "function_result = function()"
   ]
  },
  {
   "cell_type": "code",
   "execution_count": 15,
   "id": "5e175940-ba72-465e-a742-e203f20c8b7e",
   "metadata": {},
   "outputs": [
    {
     "data": {
      "text/plain": [
       "[1, 2, 3, 4, 'rohit']"
      ]
     },
     "execution_count": 15,
     "metadata": {},
     "output_type": "execute_result"
    }
   ],
   "source": [
    "function_result"
   ]
  },
  {
   "cell_type": "code",
   "execution_count": 16,
   "id": "f16b4bd8-9988-4774-bf4a-5c0ec611fdea",
   "metadata": {},
   "outputs": [],
   "source": [
    "def genrator_function():\n",
    "    \n",
    "    for i in range(100):\n",
    "        \n",
    "        yield i\n",
    "        \n"
   ]
  },
  {
   "cell_type": "code",
   "execution_count": 17,
   "id": "59b0335d-f508-4912-b0c6-9fb404364f7f",
   "metadata": {},
   "outputs": [],
   "source": [
    "result = genrator_function()"
   ]
  },
  {
   "cell_type": "code",
   "execution_count": 18,
   "id": "dbd6ce50-5698-45d3-956e-092fd5a2c523",
   "metadata": {},
   "outputs": [
    {
     "data": {
      "text/plain": [
       "generator"
      ]
     },
     "execution_count": 18,
     "metadata": {},
     "output_type": "execute_result"
    }
   ],
   "source": [
    "type(result)"
   ]
  },
  {
   "cell_type": "code",
   "execution_count": null,
   "id": "f4312a50-c393-4600-9971-f4214c1752ec",
   "metadata": {},
   "outputs": [],
   "source": []
  }
 ],
 "metadata": {
  "kernelspec": {
   "display_name": "Python 3 (ipykernel)",
   "language": "python",
   "name": "python3"
  },
  "language_info": {
   "codemirror_mode": {
    "name": "ipython",
    "version": 3
   },
   "file_extension": ".py",
   "mimetype": "text/x-python",
   "name": "python",
   "nbconvert_exporter": "python",
   "pygments_lexer": "ipython3",
   "version": "3.11.7"
  }
 },
 "nbformat": 4,
 "nbformat_minor": 5
}
