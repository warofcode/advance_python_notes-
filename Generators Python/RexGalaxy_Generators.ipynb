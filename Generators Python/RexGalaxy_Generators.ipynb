{
 "cells": [
  {
   "cell_type": "markdown",
   "id": "67dd8fca",
   "metadata": {},
   "source": [
    "# -----------------------------------Pyhton Generators---------------------------------------------"
   ]
  },
  {
   "cell_type": "markdown",
   "id": "9d4ba3f1",
   "metadata": {},
   "source": [
    "In Python, a generator is a function that returns an iterator that produces a sequence of values when iterated over.\n",
    "\n",
    "Generators are useful when we want to produce a large sequence of values, but we don't want to store all of them in memory at once.. While lists and tuples store all their elements in memory, generators generate values on-the-fly as you iterate over them, which can be more memory-efficient for large data sets or infinite sequences.\n",
    "\n",
    "Generators are defined using a special kind of function called a generator function. Instead of using the return keyword to provide a result, generator functions use the yield keyword to yield values one at a time.\n",
    "\n",
    "Here's an example of a simple generator function that generates a sequence of numbers from 1 to 5:"
   ]
  },
  {
   "cell_type": "markdown",
   "id": "02a939d0",
   "metadata": {},
   "source": [
    "# Generators provide several benefits:"
   ]
  },
  {
   "cell_type": "markdown",
   "id": "dfbc5721",
   "metadata": {},
   "source": [
    "1.Memory efficiency: They generate values on-the-fly instead of storing them all in memory.\n",
    "    \n",
    "    \n",
    "2.Laziness: Values are generated only when needed, which allows for processing infinite sequences or very large data sets.\n",
    "    \n",
    "    \n",
    "3.Iteration support: Generators are iterable and can be used in for loops or other iteration constructs."
   ]
  },
  {
   "cell_type": "code",
   "execution_count": 1,
   "id": "900f74b6",
   "metadata": {},
   "outputs": [
    {
     "name": "stdout",
     "output_type": "stream",
     "text": [
      "<class 'list'>\n",
      "[4, 25, 36, 49, 81]\n"
     ]
    }
   ],
   "source": [
    "List = [2,5,6,7,9]\n",
    "\n",
    "def square_list(List):\n",
    "    result_list = []\n",
    "    \n",
    "    for i in List:\n",
    "        result_list.append(i*i)\n",
    "        \n",
    "    return result_list   \n",
    "\n",
    "\n",
    "my_square_method = square_list(List) \n",
    "\n",
    "\n",
    "print(type(my_square_method))\n",
    "\n",
    "print(square_list(List)) "
   ]
  },
  {
   "cell_type": "code",
   "execution_count": 9,
   "id": "3e7776ee",
   "metadata": {},
   "outputs": [
    {
     "name": "stdout",
     "output_type": "stream",
     "text": [
      "<class 'generator'>\n"
     ]
    }
   ],
   "source": [
    "List = [2,5,6,7,9]\n",
    "def square_list2(List):\n",
    "    for i in List:\n",
    "        yield (i*i)\n",
    "        \n",
    "my_square_method2 = square_list2 (List) # why we are not getting result as above. because generators do not hold the       \n",
    "                                        # entire result at memory intested it yield one result at a time.\n",
    "print(type(my_square_method2))      \n",
    "\n"
   ]
  },
  {
   "cell_type": "code",
   "execution_count": 10,
   "id": "7f7158e3",
   "metadata": {},
   "outputs": [
    {
     "name": "stdout",
     "output_type": "stream",
     "text": [
      "4\n"
     ]
    }
   ],
   "source": [
    "# lets find out how to get those results\n",
    "\n",
    "print(next(my_square_method2))\n",
    "\n"
   ]
  },
  {
   "cell_type": "code",
   "execution_count": 11,
   "id": "c2365d9b",
   "metadata": {},
   "outputs": [
    {
     "name": "stdout",
     "output_type": "stream",
     "text": [
      "25\n"
     ]
    }
   ],
   "source": [
    "print(next(my_square_method2))"
   ]
  },
  {
   "cell_type": "code",
   "execution_count": 12,
   "id": "8ad55cd7",
   "metadata": {},
   "outputs": [
    {
     "name": "stdout",
     "output_type": "stream",
     "text": [
      "36\n"
     ]
    }
   ],
   "source": [
    "print(next(my_square_method2))"
   ]
  },
  {
   "cell_type": "code",
   "execution_count": 13,
   "id": "8336e37b",
   "metadata": {},
   "outputs": [
    {
     "name": "stdout",
     "output_type": "stream",
     "text": [
      "49\n"
     ]
    }
   ],
   "source": [
    "print(next(my_square_method2))"
   ]
  },
  {
   "cell_type": "code",
   "execution_count": 14,
   "id": "194a0059",
   "metadata": {},
   "outputs": [
    {
     "name": "stdout",
     "output_type": "stream",
     "text": [
      "81\n"
     ]
    }
   ],
   "source": [
    "print(next(my_square_method2))"
   ]
  },
  {
   "cell_type": "code",
   "execution_count": 15,
   "id": "02e89d89",
   "metadata": {},
   "outputs": [
    {
     "ename": "StopIteration",
     "evalue": "",
     "output_type": "error",
     "traceback": [
      "\u001b[1;31m---------------------------------------------------------------------------\u001b[0m",
      "\u001b[1;31mStopIteration\u001b[0m                             Traceback (most recent call last)",
      "Input \u001b[1;32mIn [15]\u001b[0m, in \u001b[0;36m<cell line: 1>\u001b[1;34m()\u001b[0m\n\u001b[1;32m----> 1\u001b[0m \u001b[38;5;28mprint\u001b[39m(\u001b[38;5;28;43mnext\u001b[39;49m\u001b[43m(\u001b[49m\u001b[43mmy_square_method2\u001b[49m\u001b[43m)\u001b[49m)\n",
      "\u001b[1;31mStopIteration\u001b[0m: "
     ]
    }
   ],
   "source": [
    "print(next(my_square_method2)) # Stop Itreation will be thrown because it has no more elements left"
   ]
  },
  {
   "cell_type": "markdown",
   "id": "2c798cd9",
   "metadata": {},
   "source": [
    "we can create generators and use them whe we want. lets see how."
   ]
  },
  {
   "cell_type": "markdown",
   "id": "4e3069dc",
   "metadata": {},
   "source": [
    "For example we want to generate 100 numbers but we want to gentrate only 10 numbers using for loop."
   ]
  },
  {
   "cell_type": "code",
   "execution_count": 2,
   "id": "84aacbd6",
   "metadata": {},
   "outputs": [
    {
     "name": "stdout",
     "output_type": "stream",
     "text": [
      "<class 'generator'>\n"
     ]
    }
   ],
   "source": [
    "def genrator_function():\n",
    "    \n",
    "    for i in range(100):\n",
    "        \n",
    "        yield i\n",
    "        \n",
    "my_gen = genrator_function()\n",
    "print(type(my_gen))"
   ]
  },
  {
   "cell_type": "markdown",
   "id": "af39419e",
   "metadata": {},
   "source": [
    "Now we will access 10 elements at at time."
   ]
  },
  {
   "cell_type": "code",
   "execution_count": 3,
   "id": "45ca0cb1",
   "metadata": {},
   "outputs": [
    {
     "name": "stdout",
     "output_type": "stream",
     "text": [
      "0\n",
      "1\n",
      "2\n",
      "3\n",
      "4\n",
      "5\n",
      "6\n",
      "7\n",
      "8\n",
      "9\n"
     ]
    }
   ],
   "source": [
    "for i in range(10):         # it will genrate first 10 numbers \n",
    "    print(next(my_gen))"
   ]
  },
  {
   "cell_type": "code",
   "execution_count": 4,
   "id": "2cbc9209",
   "metadata": {},
   "outputs": [
    {
     "name": "stdout",
     "output_type": "stream",
     "text": [
      "10\n",
      "11\n",
      "12\n",
      "13\n",
      "14\n",
      "15\n",
      "16\n",
      "17\n",
      "18\n",
      "19\n"
     ]
    }
   ],
   "source": [
    "for i in range(10):        # when we run it again it will gerenrate next 10 element\n",
    "    print(next(my_gen))"
   ]
  },
  {
   "cell_type": "code",
   "execution_count": null,
   "id": "472ed3a8",
   "metadata": {},
   "outputs": [],
   "source": []
  },
  {
   "cell_type": "code",
   "execution_count": 16,
   "id": "93d028e9",
   "metadata": {},
   "outputs": [
    {
     "name": "stdout",
     "output_type": "stream",
     "text": [
      "<class 'list_iterator'>\n",
      "1\n",
      "2\n",
      "3\n"
     ]
    }
   ],
   "source": [
    "my_list = [1, 2, 3, 4, 5]\n",
    "my_iterator = iter(my_list)\n",
    "\n",
    "print(type(my_iterator))\n",
    "\n",
    "print(next(my_iterator))  # Output: 1\n",
    "print(next(my_iterator))  # Output: 2\n",
    "print(next(my_iterator))  # Output: 3"
   ]
  },
  {
   "cell_type": "code",
   "execution_count": 1,
   "id": "4753fb89-9e90-4dc3-993e-6d05f05fd4eb",
   "metadata": {},
   "outputs": [
    {
     "name": "stdout",
     "output_type": "stream",
     "text": [
      "<class 'tuple_iterator'>\n",
      "1\n",
      "2\n",
      "3\n"
     ]
    }
   ],
   "source": [
    "my_tuple = (1, 2, 3, 4, 5)\n",
    "my_iterator = iter(my_list)\n",
    "\n",
    "print(type(my_iterator))\n",
    "\n",
    "print(next(my_iterator))  # Output: 1\n",
    "print(next(my_iterator))  # Output: 2\n",
    "print(next(my_iterator))  # Output: 3"
   ]
  },
  {
   "cell_type": "code",
   "execution_count": 1,
   "id": "e77565ac",
   "metadata": {},
   "outputs": [],
   "source": [
    "# for example if we want to gentrate infinate even numbers\n",
    "\n",
    "def all_even():\n",
    "    n = 0\n",
    "    while True:\n",
    "        yield n\n",
    "        n += 2"
   ]
  },
  {
   "cell_type": "code",
   "execution_count": 2,
   "id": "b9383307",
   "metadata": {},
   "outputs": [
    {
     "name": "stdout",
     "output_type": "stream",
     "text": [
      "<generator object all_even at 0x000001698FE83280>\n"
     ]
    }
   ],
   "source": [
    "print(all_even())"
   ]
  },
  {
   "cell_type": "code",
   "execution_count": 3,
   "id": "46175b2b",
   "metadata": {},
   "outputs": [
    {
     "name": "stdout",
     "output_type": "stream",
     "text": [
      "0\n"
     ]
    }
   ],
   "source": [
    "# printing numbers one by one\n",
    "\n",
    "my_genrator = all_even()\n",
    "print(next(my_genrator))"
   ]
  },
  {
   "cell_type": "code",
   "execution_count": 4,
   "id": "e68b4147",
   "metadata": {},
   "outputs": [
    {
     "name": "stdout",
     "output_type": "stream",
     "text": [
      "2\n"
     ]
    }
   ],
   "source": [
    "print(next(my_genrator))\n"
   ]
  },
  {
   "cell_type": "code",
   "execution_count": 5,
   "id": "c9280189",
   "metadata": {},
   "outputs": [
    {
     "name": "stdout",
     "output_type": "stream",
     "text": [
      "4\n"
     ]
    }
   ],
   "source": [
    "print(next(my_genrator))"
   ]
  },
  {
   "cell_type": "code",
   "execution_count": 6,
   "id": "ba5850e2",
   "metadata": {},
   "outputs": [
    {
     "name": "stdout",
     "output_type": "stream",
     "text": [
      "Memory before program run [72.4296875]\n"
     ]
    },
    {
     "name": "stderr",
     "output_type": "stream",
     "text": [
      "IOPub data rate exceeded.\n",
      "The notebook server will temporarily stop sending output\n",
      "to the client in order to avoid crashing it.\n",
      "To change this limit, set the config variable\n",
      "`--NotebookApp.iopub_data_rate_limit`.\n",
      "\n",
      "Current values:\n",
      "NotebookApp.iopub_data_rate_limit=1000000.0 (bytes/sec)\n",
      "NotebookApp.rate_limit_window=3.0 (secs)\n",
      "\n"
     ]
    }
   ],
   "source": [
    "#pip install memory_profiler\n",
    "import memory_profiler as meme_profiler\n",
    "import time\n",
    "import random\n",
    "\n",
    "name_list = [\"Richa\",\"Rohit\",\"Chetan\"]\n",
    "subject_list = [\"Math\",\"Science\",\"English\"]\n",
    "\n",
    "\n",
    "print(f\"Memory before program run {meme_profiler.memory_usage()}\")   \n",
    "\n",
    "def  profile_creatre_function(how_many_people):\n",
    "    \n",
    "    result = []\n",
    "    \n",
    "    for i in range(how_many_people):\n",
    "        person ={\"id\":i,\n",
    "                \"name\":random.choice(name_list),\n",
    "                \"subject\":random.choice(subject_list)}\n",
    "        \n",
    "        \n",
    "        result.append(person)\n",
    "            \n",
    "    return result       \n",
    "\n",
    "\n",
    "def  profile_creatre_Genrator(how_many_people):\n",
    "    \n",
    "    \n",
    "    \n",
    "    for i in range(how_many_people):\n",
    "        \n",
    "        person ={\"id\":i,\n",
    "                \"name\":random.choice(name_list),\n",
    "                \"subject\":random.choice(subject_list)}\n",
    "        \n",
    "        yield person\n",
    "        \n",
    "satart_time= time.time()\n",
    "\n",
    "profiles_result = profile_creatre_function(1000000)\n",
    "end_time = time.time()\n",
    "\n",
    "\n",
    "# satart_time= time.time()\n",
    "\n",
    "# profiles_result = profile_creatre_Genrator(100000000)\n",
    "# end_time = time.time()\n",
    "\n",
    "\n",
    "print(profiles_result)\n",
    "\n",
    "print(f\"time take {end_time-satart_time}\")\n",
    "print(f\"Memory after program run {meme_profiler.memory_usage()}\")      \n",
    "       \n",
    "            "
   ]
  },
  {
   "cell_type": "code",
   "execution_count": null,
   "id": "159f7563",
   "metadata": {},
   "outputs": [],
   "source": [
    "for i in range(10):      # even after create 100000000 records we are not getting ioerror\n",
    "    print(next(profiles_result))"
   ]
  },
  {
   "cell_type": "code",
   "execution_count": 8,
   "id": "9fd6e977",
   "metadata": {},
   "outputs": [
    {
     "name": "stdout",
     "output_type": "stream",
     "text": [
      "[30.4140625]\n",
      "[30.4140625]\n"
     ]
    }
   ],
   "source": [
    "# import memory_profiler as meme_profiler\n",
    "# print(meme_profiler.memory_usage())\n",
    "# result =[]\n",
    "\n",
    "# def rohit():\n",
    "#     while True:\n",
    "\n",
    "#         for i in range(1000000000000000):\n",
    "#             result.append(i)\n",
    "\n",
    "#         return result\n",
    "        \n",
    "        \n",
    "# result2 = rohit()      \n",
    "# print(result)\n",
    "# print(meme_profiler.memory_usage())\n",
    "# print(result)  "
   ]
  },
  {
   "cell_type": "code",
   "execution_count": 9,
   "id": "167460b6",
   "metadata": {},
   "outputs": [
    {
     "name": "stdout",
     "output_type": "stream",
     "text": [
      "10\n"
     ]
    }
   ],
   "source": [
    "# how to make itretor\n",
    "\n",
    "my_list = [10,2,3,45,67,12]\n",
    "\n",
    "my_iterator = iter(my_list)\n",
    "\n",
    "print(next(my_iterator))"
   ]
  },
  {
   "cell_type": "code",
   "execution_count": 10,
   "id": "ed387413",
   "metadata": {},
   "outputs": [
    {
     "name": "stdout",
     "output_type": "stream",
     "text": [
      "2\n"
     ]
    }
   ],
   "source": [
    "print(next(my_iterator))"
   ]
  },
  {
   "cell_type": "code",
   "execution_count": 11,
   "id": "8967f4e8",
   "metadata": {},
   "outputs": [
    {
     "name": "stdout",
     "output_type": "stream",
     "text": [
      "3\n"
     ]
    }
   ],
   "source": [
    "print(next(my_iterator))"
   ]
  },
  {
   "cell_type": "code",
   "execution_count": null,
   "id": "a165e6d5",
   "metadata": {},
   "outputs": [],
   "source": []
  }
 ],
 "metadata": {
  "kernelspec": {
   "display_name": "Python 3 (ipykernel)",
   "language": "python",
   "name": "python3"
  },
  "language_info": {
   "codemirror_mode": {
    "name": "ipython",
    "version": 3
   },
   "file_extension": ".py",
   "mimetype": "text/x-python",
   "name": "python",
   "nbconvert_exporter": "python",
   "pygments_lexer": "ipython3",
   "version": "3.11.7"
  }
 },
 "nbformat": 4,
 "nbformat_minor": 5
}
