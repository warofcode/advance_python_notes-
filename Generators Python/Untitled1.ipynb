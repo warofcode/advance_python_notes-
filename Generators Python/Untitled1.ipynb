{
 "cells": [
  {
   "cell_type": "code",
   "execution_count": 1,
   "id": "31074dcf-195a-447c-a4b2-ca6b396125d2",
   "metadata": {},
   "outputs": [
    {
     "data": {
      "text/plain": [
       "10"
      ]
     },
     "execution_count": 1,
     "metadata": {},
     "output_type": "execute_result"
    }
   ],
   "source": [
    "5+5"
   ]
  },
  {
   "cell_type": "code",
   "execution_count": 3,
   "id": "18c41dfc-f9e0-49b5-9cac-5f5ba2a19f93",
   "metadata": {},
   "outputs": [
    {
     "data": {
      "text/plain": [
       "10"
      ]
     },
     "execution_count": 3,
     "metadata": {},
     "output_type": "execute_result"
    }
   ],
   "source": [
    "(5).__add__(5)"
   ]
  },
  {
   "cell_type": "code",
   "execution_count": 4,
   "id": "aa857d2b-e84d-4695-9e6c-d631a469c5fb",
   "metadata": {},
   "outputs": [
    {
     "data": {
      "text/plain": [
       "50"
      ]
     },
     "execution_count": 4,
     "metadata": {},
     "output_type": "execute_result"
    }
   ],
   "source": [
    "(10).__mul__(5)"
   ]
  },
  {
   "cell_type": "code",
   "execution_count": 25,
   "id": "6360a0c0-307c-40f8-a3b2-a14194c103d0",
   "metadata": {},
   "outputs": [],
   "source": [
    "my_list = (1, 2, 3, 4, 5)"
   ]
  },
  {
   "cell_type": "code",
   "execution_count": 26,
   "id": "7eaf0ead-e194-4fe5-b866-4f3f09608bcf",
   "metadata": {},
   "outputs": [],
   "source": [
    "my_iterator = iter(my_list)"
   ]
  },
  {
   "cell_type": "code",
   "execution_count": 27,
   "id": "ba44a0e4-eb0c-4e49-a845-6fe298412138",
   "metadata": {},
   "outputs": [
    {
     "data": {
      "text/plain": [
       "tuple_iterator"
      ]
     },
     "execution_count": 27,
     "metadata": {},
     "output_type": "execute_result"
    }
   ],
   "source": [
    "type(my_iterator)"
   ]
  },
  {
   "cell_type": "code",
   "execution_count": 28,
   "id": "e2834d48-b722-4771-92e7-62158f70d198",
   "metadata": {},
   "outputs": [
    {
     "data": {
      "text/plain": [
       "<tuple_iterator at 0x1e17aec0ac0>"
      ]
     },
     "execution_count": 28,
     "metadata": {},
     "output_type": "execute_result"
    }
   ],
   "source": [
    "my_iterator"
   ]
  },
  {
   "cell_type": "code",
   "execution_count": 24,
   "id": "0bac6add-b5c7-4d4e-b204-107a6238e1dc",
   "metadata": {},
   "outputs": [
    {
     "name": "stdout",
     "output_type": "stream",
     "text": [
      "1\n"
     ]
    }
   ],
   "source": [
    "for i in range(1,2):\n",
    "    print(next(my_iterator))"
   ]
  },
  {
   "cell_type": "code",
   "execution_count": 19,
   "id": "ff694a6b-a22c-4855-b9b7-4e0ab275f452",
   "metadata": {},
   "outputs": [
    {
     "data": {
      "text/plain": [
       "1"
      ]
     },
     "execution_count": 19,
     "metadata": {},
     "output_type": "execute_result"
    }
   ],
   "source": [
    "next(my_iterator)"
   ]
  },
  {
   "cell_type": "code",
   "execution_count": 10,
   "id": "3c83a006-60dc-40fa-a477-3d2c58934189",
   "metadata": {},
   "outputs": [
    {
     "data": {
      "text/plain": [
       "2"
      ]
     },
     "execution_count": 10,
     "metadata": {},
     "output_type": "execute_result"
    }
   ],
   "source": [
    "next(my_iterator)"
   ]
  },
  {
   "cell_type": "code",
   "execution_count": 11,
   "id": "a23c688e-b809-4f7c-bd9b-0962e742e28c",
   "metadata": {},
   "outputs": [
    {
     "data": {
      "text/plain": [
       "3"
      ]
     },
     "execution_count": 11,
     "metadata": {},
     "output_type": "execute_result"
    }
   ],
   "source": [
    "next(my_iterator)"
   ]
  },
  {
   "cell_type": "code",
   "execution_count": 12,
   "id": "03574972-e67d-484e-9218-59fdf668f715",
   "metadata": {},
   "outputs": [
    {
     "data": {
      "text/plain": [
       "4"
      ]
     },
     "execution_count": 12,
     "metadata": {},
     "output_type": "execute_result"
    }
   ],
   "source": [
    "next(my_iterator)"
   ]
  },
  {
   "cell_type": "code",
   "execution_count": 13,
   "id": "8045b5e4-7e50-4573-bea5-1ce327817707",
   "metadata": {},
   "outputs": [
    {
     "data": {
      "text/plain": [
       "5"
      ]
     },
     "execution_count": 13,
     "metadata": {},
     "output_type": "execute_result"
    }
   ],
   "source": [
    "next(my_iterator)"
   ]
  },
  {
   "cell_type": "code",
   "execution_count": 14,
   "id": "479e3f4e-6b6b-4bff-a5ea-2af3a396a032",
   "metadata": {},
   "outputs": [
    {
     "ename": "StopIteration",
     "evalue": "",
     "output_type": "error",
     "traceback": [
      "\u001b[1;31m---------------------------------------------------------------------------\u001b[0m",
      "\u001b[1;31mStopIteration\u001b[0m                             Traceback (most recent call last)",
      "Cell \u001b[1;32mIn[14], line 1\u001b[0m\n\u001b[1;32m----> 1\u001b[0m \u001b[38;5;28mnext\u001b[39m(my_iterator)\n",
      "\u001b[1;31mStopIteration\u001b[0m: "
     ]
    }
   ],
   "source": [
    "next(my_iterator)"
   ]
  },
  {
   "cell_type": "code",
   "execution_count": 30,
   "id": "d3b167c4-9deb-4baa-89ad-69361d87aa31",
   "metadata": {},
   "outputs": [
    {
     "name": "stdout",
     "output_type": "stream",
     "text": [
      "<class 'list'>\n",
      "[4, 25, 36, 49, 81]\n"
     ]
    }
   ],
   "source": [
    "List = [2,5,6,7,9]\n",
    "\n",
    "def square_list(List):\n",
    "    result_list = []\n",
    "    \n",
    "    for i in List:\n",
    "        result_list.append(i*i)\n",
    "        \n",
    "    return result_list   \n",
    "\n",
    "\n",
    "my_square_method = square_list(List) \n",
    "\n",
    "\n",
    "print(type(my_square_method))\n",
    "\n",
    "print(square_list(List)) "
   ]
  },
  {
   "cell_type": "code",
   "execution_count": 38,
   "id": "12e1c096-f6ae-4ac1-b0f0-50d87c3c55e0",
   "metadata": {},
   "outputs": [
    {
     "name": "stdout",
     "output_type": "stream",
     "text": [
      "<class 'generator'>\n"
     ]
    }
   ],
   "source": [
    "List = [2,5,6,7,9]\n",
    "def square_list2(List):\n",
    "    for i in List:\n",
    "        yield (i*i)\n",
    "        \n",
    "my_square_method2 = square_list2 (List) # why we are not getting result as above. because generators do not hold the       \n",
    "                                        # entire result at memory intested it yield one result at a time.\n",
    "print(type(my_square_method2))  "
   ]
  },
  {
   "cell_type": "code",
   "execution_count": 37,
   "id": "1ab4e2fa-0e3b-447f-82f3-5d7ed18cbb4a",
   "metadata": {},
   "outputs": [
    {
     "name": "stdout",
     "output_type": "stream",
     "text": [
      "4\n"
     ]
    }
   ],
   "source": [
    "print(next(my_square_method2))"
   ]
  },
  {
   "cell_type": "code",
   "execution_count": 34,
   "id": "fe51c05f-7494-438d-ad62-390d96c15c99",
   "metadata": {},
   "outputs": [
    {
     "name": "stdout",
     "output_type": "stream",
     "text": [
      "<class 'int'>\n"
     ]
    }
   ],
   "source": [
    "List = [2,5,6,7,9]\n",
    "def square_list2(List):\n",
    "    for i in List:\n",
    "        return (i*i)\n",
    "my_square_method2 = square_list2 (List) \n",
    "print(type(my_square_method2)) "
   ]
  },
  {
   "cell_type": "code",
   "execution_count": 39,
   "id": "64080132-3413-4c03-a981-a67b917dacae",
   "metadata": {},
   "outputs": [
    {
     "name": "stdout",
     "output_type": "stream",
     "text": [
      "4\n",
      "25\n",
      "36\n",
      "49\n",
      "81\n"
     ]
    }
   ],
   "source": [
    "for i in range(1,6):\n",
    "    print(next(my_square_method2))"
   ]
  },
  {
   "cell_type": "code",
   "execution_count": 40,
   "id": "dd844b9b-923a-484c-8261-99cbb831b493",
   "metadata": {},
   "outputs": [
    {
     "data": {
      "text/plain": [
       "True"
      ]
     },
     "execution_count": 40,
     "metadata": {},
     "output_type": "execute_result"
    }
   ],
   "source": [
    "True"
   ]
  },
  {
   "cell_type": "code",
   "execution_count": 48,
   "id": "828704ec-f36c-4703-8b51-d7189367ae92",
   "metadata": {},
   "outputs": [],
   "source": [
    "def all_even():\n",
    "    n = 0\n",
    "    while True:\n",
    "        yield n\n",
    "        n += 2"
   ]
  },
  {
   "cell_type": "code",
   "execution_count": 49,
   "id": "64502a54-0072-4486-adb5-fa34602651a8",
   "metadata": {},
   "outputs": [],
   "source": [
    "generator = all_even()\n"
   ]
  },
  {
   "cell_type": "code",
   "execution_count": 51,
   "id": "ee6d0d37-45d8-41cb-9da5-d7c66afce945",
   "metadata": {},
   "outputs": [
    {
     "data": {
      "text/plain": [
       "generator"
      ]
     },
     "execution_count": 51,
     "metadata": {},
     "output_type": "execute_result"
    }
   ],
   "source": [
    "type(generator)"
   ]
  },
  {
   "cell_type": "code",
   "execution_count": 52,
   "id": "3414b01f-f333-4d1c-8d22-9545e8adb105",
   "metadata": {},
   "outputs": [
    {
     "data": {
      "text/plain": [
       "0"
      ]
     },
     "execution_count": 52,
     "metadata": {},
     "output_type": "execute_result"
    }
   ],
   "source": [
    "next(generator)"
   ]
  },
  {
   "cell_type": "code",
   "execution_count": 53,
   "id": "fa311160-2459-4ad9-9d0a-c881face7b90",
   "metadata": {},
   "outputs": [
    {
     "data": {
      "text/plain": [
       "2"
      ]
     },
     "execution_count": 53,
     "metadata": {},
     "output_type": "execute_result"
    }
   ],
   "source": [
    "next(generator)"
   ]
  },
  {
   "cell_type": "code",
   "execution_count": 54,
   "id": "23daeeb5-6f84-4e00-8432-7cab2f8c2aec",
   "metadata": {},
   "outputs": [
    {
     "name": "stdout",
     "output_type": "stream",
     "text": [
      "4\n",
      "6\n",
      "8\n",
      "10\n",
      "12\n",
      "14\n",
      "16\n",
      "18\n",
      "20\n",
      "22\n",
      "24\n",
      "26\n",
      "28\n",
      "30\n",
      "32\n",
      "34\n",
      "36\n",
      "38\n",
      "40\n",
      "42\n",
      "44\n",
      "46\n",
      "48\n",
      "50\n",
      "52\n",
      "54\n",
      "56\n",
      "58\n",
      "60\n",
      "62\n",
      "64\n",
      "66\n",
      "68\n",
      "70\n",
      "72\n",
      "74\n",
      "76\n",
      "78\n",
      "80\n",
      "82\n",
      "84\n",
      "86\n",
      "88\n",
      "90\n",
      "92\n",
      "94\n",
      "96\n",
      "98\n",
      "100\n",
      "102\n",
      "104\n",
      "106\n",
      "108\n",
      "110\n",
      "112\n",
      "114\n",
      "116\n",
      "118\n",
      "120\n",
      "122\n",
      "124\n",
      "126\n",
      "128\n",
      "130\n",
      "132\n",
      "134\n",
      "136\n",
      "138\n",
      "140\n",
      "142\n",
      "144\n",
      "146\n",
      "148\n",
      "150\n",
      "152\n",
      "154\n",
      "156\n",
      "158\n",
      "160\n",
      "162\n",
      "164\n",
      "166\n",
      "168\n",
      "170\n",
      "172\n",
      "174\n",
      "176\n",
      "178\n",
      "180\n",
      "182\n",
      "184\n",
      "186\n",
      "188\n",
      "190\n",
      "192\n",
      "194\n",
      "196\n",
      "198\n",
      "200\n",
      "202\n"
     ]
    }
   ],
   "source": [
    "for i in range(100):\n",
    "    print(next(generator))\n",
    "\n"
   ]
  },
  {
   "cell_type": "code",
   "execution_count": null,
   "id": "8943e882-bee4-416f-8c50-9bbaf3c27064",
   "metadata": {},
   "outputs": [],
   "source": []
  }
 ],
 "metadata": {
  "kernelspec": {
   "display_name": "Python 3 (ipykernel)",
   "language": "python",
   "name": "python3"
  },
  "language_info": {
   "codemirror_mode": {
    "name": "ipython",
    "version": 3
   },
   "file_extension": ".py",
   "mimetype": "text/x-python",
   "name": "python",
   "nbconvert_exporter": "python",
   "pygments_lexer": "ipython3",
   "version": "3.11.7"
  }
 },
 "nbformat": 4,
 "nbformat_minor": 5
}
