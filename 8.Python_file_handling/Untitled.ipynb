{
 "cells": [
  {
   "cell_type": "code",
   "execution_count": 5,
   "id": "4a2ce25a-7161-4715-89a6-fc407448d793",
   "metadata": {},
   "outputs": [
    {
     "name": "stdout",
     "output_type": "stream",
     "text": [
      "1. To replace the character 'i' in a string up to the 10th index only.\n",
      "hint- you have to replace i only till 10th index\n",
      "\n",
      "string = \"I am learning Python in different way\"\n",
      "\n",
      "\n",
      "2. Reverse the string using for loop.\n",
      "string: Python\n",
      "expected output: nohtyP\n",
      "\n"
     ]
    }
   ],
   "source": [
    "file = open(r\"C:\\Users\\rkt65\\Desktop\\Python_string_2.txt\",\"r\")\n",
    "content  = file.read()\n",
    "print(content)\n",
    "file.close()"
   ]
  },
  {
   "cell_type": "code",
   "execution_count": 6,
   "id": "3256527d-292f-41d3-8b68-2d83fd35e9c6",
   "metadata": {},
   "outputs": [
    {
     "ename": "ValueError",
     "evalue": "I/O operation on closed file.",
     "output_type": "error",
     "traceback": [
      "\u001b[1;31m---------------------------------------------------------------------------\u001b[0m",
      "\u001b[1;31mValueError\u001b[0m                                Traceback (most recent call last)",
      "Cell \u001b[1;32mIn[6], line 1\u001b[0m\n\u001b[1;32m----> 1\u001b[0m file\u001b[38;5;241m.\u001b[39mread()\n",
      "\u001b[1;31mValueError\u001b[0m: I/O operation on closed file."
     ]
    }
   ],
   "source": [
    "file.read()"
   ]
  },
  {
   "cell_type": "code",
   "execution_count": 12,
   "id": "2973d59b-340e-4676-bbbc-a9a12e8cbfd1",
   "metadata": {},
   "outputs": [
    {
     "name": "stdout",
     "output_type": "stream",
     "text": [
      "i m rohit in my_file.\n"
     ]
    }
   ],
   "source": [
    "with open(r\"C:\\Users\\rkt65\\Desktop\\now\\my_file.txt\") as file:\n",
    "    content = file.read()\n",
    "    print(content)"
   ]
  },
  {
   "cell_type": "code",
   "execution_count": 8,
   "id": "718ea110-bb5a-4f71-9687-981e80238f71",
   "metadata": {},
   "outputs": [
    {
     "ename": "ValueError",
     "evalue": "I/O operation on closed file.",
     "output_type": "error",
     "traceback": [
      "\u001b[1;31m---------------------------------------------------------------------------\u001b[0m",
      "\u001b[1;31mValueError\u001b[0m                                Traceback (most recent call last)",
      "Cell \u001b[1;32mIn[8], line 1\u001b[0m\n\u001b[1;32m----> 1\u001b[0m file\u001b[38;5;241m.\u001b[39mread()\n",
      "\u001b[1;31mValueError\u001b[0m: I/O operation on closed file."
     ]
    }
   ],
   "source": [
    "file.read()"
   ]
  },
  {
   "cell_type": "code",
   "execution_count": 10,
   "id": "c0fd5108-bea9-46cf-bd39-cae7a1842ab6",
   "metadata": {},
   "outputs": [
    {
     "data": {
      "text/plain": [
       "'C:\\\\Users\\\\rkt65\\\\Desktop\\\\1Python_RexGalaxy_Clasess\\\\8.Python_file_handling'"
      ]
     },
     "execution_count": 10,
     "metadata": {},
     "output_type": "execute_result"
    }
   ],
   "source": [
    "pwd"
   ]
  },
  {
   "cell_type": "code",
   "execution_count": 11,
   "id": "9d8007c2-4d4e-4fb2-bc54-616cd3572447",
   "metadata": {},
   "outputs": [
    {
     "ename": "SyntaxError",
     "evalue": "(unicode error) 'unicodeescape' codec can't decode bytes in position 2-3: truncated \\UXXXXXXXX escape (3361201896.py, line 1)",
     "output_type": "error",
     "traceback": [
      "\u001b[1;36m  Cell \u001b[1;32mIn[11], line 1\u001b[1;36m\u001b[0m\n\u001b[1;33m    \"C:\\Users\\rkt65\\Desktop\\now\\my_file.txt\"\u001b[0m\n\u001b[1;37m                                            ^\u001b[0m\n\u001b[1;31mSyntaxError\u001b[0m\u001b[1;31m:\u001b[0m (unicode error) 'unicodeescape' codec can't decode bytes in position 2-3: truncated \\UXXXXXXXX escape\n"
     ]
    }
   ],
   "source": [
    "\"C:\\Users\\rkt65\\Desktop\\now\\my_file.txt\""
   ]
  },
  {
   "cell_type": "code",
   "execution_count": 16,
   "id": "963ea1a8-9d13-43d3-9a52-e36ddee3eaa2",
   "metadata": {},
   "outputs": [],
   "source": [
    "import os \n",
    "os.remove(r\"C:\\Users\\rkt65\\Desktop\\now\\username_file.txt\")"
   ]
  },
  {
   "cell_type": "code",
   "execution_count": 23,
   "id": "bc82f1d3-3442-4c3d-8abe-be3ea60e8e1a",
   "metadata": {},
   "outputs": [
    {
     "name": "stdout",
     "output_type": "stream",
     "text": [
      "file already exist you can not create this file\n"
     ]
    }
   ],
   "source": [
    "import os \n",
    "if os.path.exists(r\"C:\\Users\\rkt65\\Desktop\\now\\my_file.txt\"):\n",
    "    print(\"file already exist you can not create this file\")\n",
    "\n",
    "else:\n",
    "    print(\"username is free to create you can create your file\")"
   ]
  },
  {
   "cell_type": "code",
   "execution_count": 21,
   "id": "e7d8b482-41d6-4b51-a783-91963b12b5f0",
   "metadata": {},
   "outputs": [
    {
     "data": {
      "text/plain": [
       "'C:\\\\Users\\\\rkt65\\\\Desktop\\\\1Python_RexGalaxy_Clasess\\\\8.Python_file_handling'"
      ]
     },
     "execution_count": 21,
     "metadata": {},
     "output_type": "execute_result"
    }
   ],
   "source": [
    "pwd"
   ]
  },
  {
   "cell_type": "code",
   "execution_count": 24,
   "id": "1b840eb4-05f9-49cd-b888-7019a8f6bccd",
   "metadata": {},
   "outputs": [
    {
     "data": {
      "text/plain": [
       "'C:\\\\Users\\\\rkt65\\\\Desktop\\\\1Python_RexGalaxy_Clasess\\\\8.Python_file_handling'"
      ]
     },
     "execution_count": 24,
     "metadata": {},
     "output_type": "execute_result"
    }
   ],
   "source": [
    "import os\n",
    "os.getcwd()"
   ]
  },
  {
   "cell_type": "code",
   "execution_count": 25,
   "id": "a7d18be1-8875-49fc-b9b2-52c05dcbe626",
   "metadata": {},
   "outputs": [
    {
     "data": {
      "text/plain": [
       "'C:\\\\Users\\\\rkt65\\\\Desktop\\\\1Python_RexGalaxy_Clasess\\\\8.Python_file_handling'"
      ]
     },
     "execution_count": 25,
     "metadata": {},
     "output_type": "execute_result"
    }
   ],
   "source": [
    "pwd"
   ]
  },
  {
   "cell_type": "code",
   "execution_count": 26,
   "id": "97899a6b-68cd-4c57-9f18-7626094c8167",
   "metadata": {},
   "outputs": [
    {
     "data": {
      "text/plain": [
       "['.ipynb_checkpoints',\n",
       " '1.Text_file_handling',\n",
       " '2.Json_file_handling',\n",
       " '3.Csv_file_handling',\n",
       " 'deletefile2.txt',\n",
       " 'Untitled.ipynb']"
      ]
     },
     "execution_count": 26,
     "metadata": {},
     "output_type": "execute_result"
    }
   ],
   "source": [
    "os.listdir()"
   ]
  },
  {
   "cell_type": "code",
   "execution_count": 31,
   "id": "d161e528-33cb-46e2-b036-5dc67a9e7f6c",
   "metadata": {},
   "outputs": [],
   "source": [
    "os.mkdir(\"ram_folder\")"
   ]
  },
  {
   "cell_type": "code",
   "execution_count": 33,
   "id": "048b9d5c-755b-4dd5-95f0-a1edf7dc1511",
   "metadata": {},
   "outputs": [
    {
     "name": "stdout",
     "output_type": "stream",
     "text": [
      "no folder found\n"
     ]
    }
   ],
   "source": [
    "try:\n",
    "    os.rmdir(\"ram_folder\")\n",
    "\n",
    "except:\n",
    "    print(\"no folder found\")\n",
    "\n",
    "else:\n",
    "    print(\"folder deleted successfully\")"
   ]
  },
  {
   "cell_type": "code",
   "execution_count": null,
   "id": "a80c3de8-2c1a-4d59-a3c4-20aa5bcf1bb7",
   "metadata": {},
   "outputs": [],
   "source": []
  }
 ],
 "metadata": {
  "kernelspec": {
   "display_name": "Python 3 (ipykernel)",
   "language": "python",
   "name": "python3"
  },
  "language_info": {
   "codemirror_mode": {
    "name": "ipython",
    "version": 3
   },
   "file_extension": ".py",
   "mimetype": "text/x-python",
   "name": "python",
   "nbconvert_exporter": "python",
   "pygments_lexer": "ipython3",
   "version": "3.11.7"
  }
 },
 "nbformat": 4,
 "nbformat_minor": 5
}
