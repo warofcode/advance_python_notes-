{
 "cells": [
  {
   "cell_type": "code",
   "execution_count": 11,
   "id": "e61d6fe1",
   "metadata": {},
   "outputs": [],
   "source": [
    "import json\n",
    "import logging\n",
    "logging.basicConfig(filename='atm_looger.log',level=logging.DEBUG, \n",
    "                    format='%(asctime)s %(message)s')\n",
    "\n",
    "with open(\"rohit.json\") as file:\n",
    "    content = json.load(file)\n",
    "    \n",
    "    logging.info(\"Json file opend in read mode\")\n",
    "    \n",
    "    \n"
   ]
  },
  {
   "cell_type": "code",
   "execution_count": 12,
   "id": "614b763d",
   "metadata": {},
   "outputs": [],
   "source": [
    "\n",
    "    \n",
    "account_number = content['accountnumber']\n",
    "atm_pin = content['atmpin']\n",
    "account_type = content['account']\n",
    "mobile_number = content['phoneNumbers'][0]['number']\n",
    "balance = int(content['account_balance'])\n",
    "    \n",
    "logging.info(\"Information collected from json file\")\n",
    "\n",
    "\n",
    "def input_credentials_byuser():\n",
    "    \n",
    "    try:\n",
    "    \n",
    "        global remaining_balane\n",
    "\n",
    "        input_account = int(input(\"Enter your account number : \"))\n",
    "\n",
    "        if input_account ==account_number:\n",
    "\n",
    "\n",
    "\n",
    "            input_Atm_pin = int(input(\"Enter your atm pin : \"))\n",
    "\n",
    "\n",
    "\n",
    "            if input_Atm_pin == atm_pin:\n",
    "\n",
    "                input_account_type = input(\"Enter account type : \")\n",
    "\n",
    "\n",
    "\n",
    "                if input_account_type == account_type:\n",
    "\n",
    "\n",
    "\n",
    "\n",
    "                    input_mobile_number = input(\"Enter mobile number : \")\n",
    "\n",
    "\n",
    "\n",
    "\n",
    "\n",
    "\n",
    "                    if input_mobile_number == mobile_number:\n",
    "\n",
    "\n",
    "                        input_withdrawl_amount = int(input(\"Enter withdrawal amount : \"))\n",
    "\n",
    "\n",
    "\n",
    "\n",
    "                        if balance<input_withdrawl_amount:\n",
    "                            print(\"you have insufficint balance\")\n",
    "\n",
    "                        else:\n",
    "\n",
    "                            remaining_balane = balance-input_withdrawl_amount\n",
    "                            print(\"remaining balance is \",remaining_balane)\n",
    "\n",
    "\n",
    "                else:\n",
    "\n",
    "                    print(\"wrong mobile number you have been terminated \")          \n",
    "\n",
    "            else:\n",
    "                print(\"wrong account type number you have been terminated \")               \n",
    "\n",
    "        else:\n",
    "\n",
    "            print(\"wrong account number you have been terminated \")\n",
    "            \n",
    "            \n",
    "        return remaining_balane\n",
    "            \n",
    "    except Exception as e:\n",
    "        \n",
    "        logging.warning(\"This is warning somthing went wrong\")\n",
    "        \n",
    "        print(\"invalid input\")\n",
    "\n",
    "                "
   ]
  },
  {
   "cell_type": "code",
   "execution_count": 13,
   "id": "d3129e70",
   "metadata": {},
   "outputs": [
    {
     "name": "stdout",
     "output_type": "stream",
     "text": [
      "Enter your account number : 1111\n",
      "Enter your atm pin : 1111\n",
      "Enter account type : saving\n",
      "Enter mobile number : 9718292990\n",
      "Enter withdrawal amount : 1000\n",
      "remaining balance is  198600\n"
     ]
    },
    {
     "data": {
      "text/plain": [
       "198600"
      ]
     },
     "execution_count": 13,
     "metadata": {},
     "output_type": "execute_result"
    }
   ],
   "source": [
    "input_credentials_byuser()"
   ]
  },
  {
   "cell_type": "code",
   "execution_count": 14,
   "id": "3ddaf3a2",
   "metadata": {},
   "outputs": [],
   "source": [
    "\n",
    "\n",
    "def updating_information_tojson():\n",
    "    \n",
    "    content['account_balance'] = remaining_balane\n",
    "    \n",
    "    \n",
    "    \n",
    "    \n",
    "\n",
    "    with open(\"rohit.json\",\"w\") as file:\n",
    "        json.dump(content,file)\n",
    "        \n",
    "        logging.info(\"Json file opend in read mode\")\n",
    "        \n",
    "        \n"
   ]
  },
  {
   "cell_type": "code",
   "execution_count": 15,
   "id": "63a9a6f5",
   "metadata": {},
   "outputs": [],
   "source": [
    "updating_information_tojson()"
   ]
  },
  {
   "cell_type": "code",
   "execution_count": null,
   "id": "623f093f",
   "metadata": {},
   "outputs": [],
   "source": []
  }
 ],
 "metadata": {
  "kernelspec": {
   "display_name": "Python 3 (ipykernel)",
   "language": "python",
   "name": "python3"
  },
  "language_info": {
   "codemirror_mode": {
    "name": "ipython",
    "version": 3
   },
   "file_extension": ".py",
   "mimetype": "text/x-python",
   "name": "python",
   "nbconvert_exporter": "python",
   "pygments_lexer": "ipython3",
   "version": "3.9.12"
  }
 },
 "nbformat": 4,
 "nbformat_minor": 5
}
