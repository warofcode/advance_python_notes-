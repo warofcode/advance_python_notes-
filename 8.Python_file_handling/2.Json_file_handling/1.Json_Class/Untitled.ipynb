{
 "cells": [
  {
   "cell_type": "code",
   "execution_count": 5,
   "id": "2810f1a8-481e-412c-a5eb-121358e521c5",
   "metadata": {},
   "outputs": [],
   "source": [
    "import json\n",
    "\n",
    "with open(\"sample1.json\",\"r\") as file:\n",
    "    content=json.load(file)"
   ]
  },
  {
   "cell_type": "code",
   "execution_count": 9,
   "id": "ad56c62d-5bdd-4021-8021-d311c26906ec",
   "metadata": {},
   "outputs": [
    {
     "name": "stdout",
     "output_type": "stream",
     "text": [
      "<class 'dict'>\n"
     ]
    }
   ],
   "source": [
    "print(type(content))"
   ]
  },
  {
   "cell_type": "code",
   "execution_count": 16,
   "id": "8b4b5591-5c9a-4301-8963-cea3d70f635e",
   "metadata": {},
   "outputs": [
    {
     "data": {
      "text/plain": [
       "{'fruit': 'Apple', 'size': 'Large', 'color': 'Red'}"
      ]
     },
     "execution_count": 16,
     "metadata": {},
     "output_type": "execute_result"
    }
   ],
   "source": [
    "content"
   ]
  },
  {
   "cell_type": "code",
   "execution_count": 15,
   "id": "20208d27-9bf0-4082-85bf-3e99f7472217",
   "metadata": {},
   "outputs": [
    {
     "name": "stdout",
     "output_type": "stream",
     "text": [
      "Apple\n",
      "Large\n",
      "Red\n"
     ]
    }
   ],
   "source": [
    "for key,value in content.items():\n",
    "    print(value)\n"
   ]
  },
  {
   "cell_type": "code",
   "execution_count": 18,
   "id": "d4f44acd-281b-4c28-81b8-488972bd1530",
   "metadata": {},
   "outputs": [],
   "source": [
    "del content[\"fruit\"]"
   ]
  },
  {
   "cell_type": "code",
   "execution_count": 19,
   "id": "cab65635-0a00-406f-ba7d-4992675d8eb2",
   "metadata": {},
   "outputs": [
    {
     "data": {
      "text/plain": [
       "{'size': 'Large', 'color': 'Red'}"
      ]
     },
     "execution_count": 19,
     "metadata": {},
     "output_type": "execute_result"
    }
   ],
   "source": [
    "content"
   ]
  },
  {
   "cell_type": "code",
   "execution_count": 20,
   "id": "c8547013-1f4f-48c2-9b6f-8ca7f0cd0ee7",
   "metadata": {},
   "outputs": [],
   "source": [
    "import json\n",
    "\n",
    "with open(\"ram.json\",\"x\") as file:\n",
    "    json.dump(content,file)"
   ]
  },
  {
   "cell_type": "code",
   "execution_count": 21,
   "id": "6ba46646-66aa-42f8-8d72-f383e3dba9b4",
   "metadata": {},
   "outputs": [
    {
     "data": {
      "text/plain": [
       "'C:\\\\Users\\\\rkt65\\\\Desktop\\\\1Python_RexGalaxy_Clasess\\\\8.Python_file_handling\\\\2.Json_file_handling\\\\1.Json_Class'"
      ]
     },
     "execution_count": 21,
     "metadata": {},
     "output_type": "execute_result"
    }
   ],
   "source": [
    "pwd"
   ]
  },
  {
   "cell_type": "code",
   "execution_count": 23,
   "id": "025dc8ca-7974-4370-8f36-f68ccb3b72dd",
   "metadata": {},
   "outputs": [
    {
     "name": "stdout",
     "output_type": "stream",
     "text": [
      "Value of HOME environment variable: None\n"
     ]
    }
   ],
   "source": [
    "import os\n",
    "print(\"Value of HOME environment variable:\", os.environ.get(\"HOME\"))\n"
   ]
  },
  {
   "cell_type": "code",
   "execution_count": null,
   "id": "e30cfa9a-6dfb-43e3-b143-50518265b559",
   "metadata": {},
   "outputs": [],
   "source": []
  }
 ],
 "metadata": {
  "kernelspec": {
   "display_name": "Python 3 (ipykernel)",
   "language": "python",
   "name": "python3"
  },
  "language_info": {
   "codemirror_mode": {
    "name": "ipython",
    "version": 3
   },
   "file_extension": ".py",
   "mimetype": "text/x-python",
   "name": "python",
   "nbconvert_exporter": "python",
   "pygments_lexer": "ipython3",
   "version": "3.11.7"
  }
 },
 "nbformat": 4,
 "nbformat_minor": 5
}
