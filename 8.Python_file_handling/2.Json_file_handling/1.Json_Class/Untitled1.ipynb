{
 "cells": [
  {
   "cell_type": "markdown",
   "id": "7b887410-9bdf-4640-bdb1-70305e5eafe2",
   "metadata": {},
   "source": [
    "# -------------------------------JSON file Parse in Python----------------------------------------"
   ]
  },
  {
   "cell_type": "markdown",
   "id": "1b8f3d78-22d3-443d-a26d-df1985ffd94d",
   "metadata": {},
   "source": [
    "In Python, a JSON (JavaScript Object Notation) file is a text file that stores data in a structured format. JSON is a popular data interchange format that is widely used for transmitting and storing data between different systems."
   ]
  },
  {
   "cell_type": "markdown",
   "id": "b0e622c5-1626-4edc-8bf5-8931ab1906a4",
   "metadata": {},
   "source": [
    "JSON files consist of key-value pairs, where the keys are strings and the values can be of various types, including \n",
    "strings, numbers, booleans, arrays, or even nested JSON objects."
   ]
  },
  {
   "cell_type": "markdown",
   "id": "fab5d690-93b7-4fc9-9863-05c3fb0d40fe",
   "metadata": {},
   "source": [
    "Python provides a built-in module called json that allows you to work with JSON data. This module provides functions \n",
    "for reading JSON from a file, converting JSON to Python objects, and vice versa. Here's a basic example of reading a \n",
    "JSON file in Python:"
   ]
  },
  {
   "cell_type": "markdown",
   "id": "58955a7f-8168-422e-8b34-9ce49e4d9946",
   "metadata": {},
   "source": [
    "Before jump into Josn file we would like to check the data type stored in Json file.lets do that"
   ]
  },
  {
   "cell_type": "code",
   "execution_count": 1,
   "id": "76fe43c7-286e-47d5-9817-8edd3025845e",
   "metadata": {},
   "outputs": [],
   "source": [
    "import json\n",
    "\n",
    "with open(\"sample1.json\",mode=\"r\") as file:\n",
    "    content = json.load(file)\n",
    "    "
   ]
  },
  {
   "cell_type": "code",
   "execution_count": 2,
   "id": "2843f325-5e7a-4f2d-8a30-804914532f19",
   "metadata": {},
   "outputs": [
    {
     "data": {
      "text/plain": [
       "dict"
      ]
     },
     "execution_count": 2,
     "metadata": {},
     "output_type": "execute_result"
    }
   ],
   "source": [
    "type(content)"
   ]
  },
  {
   "cell_type": "code",
   "execution_count": 3,
   "id": "663059a3-ae04-47a7-af4a-3689ce65b32b",
   "metadata": {},
   "outputs": [
    {
     "name": "stdout",
     "output_type": "stream",
     "text": [
      "{'fruit': 'Apple', 'size': 'Large', 'color': 'Red'}\n"
     ]
    }
   ],
   "source": [
    "print(content)"
   ]
  },
  {
   "cell_type": "code",
   "execution_count": 4,
   "id": "18585627-f321-416b-8f52-31cfbf5bba2e",
   "metadata": {},
   "outputs": [
    {
     "name": "stdout",
     "output_type": "stream",
     "text": [
      "fruit Apple\n",
      "size Large\n",
      "color Red\n"
     ]
    }
   ],
   "source": [
    "for key,value in content.items():\n",
    "    \n",
    "    print(key,value)"
   ]
  },
  {
   "cell_type": "code",
   "execution_count": 5,
   "id": "c8ddee28-f20a-47b0-adc4-59889d4606e8",
   "metadata": {},
   "outputs": [],
   "source": [
    "import json\n",
    "\n",
    "with open(\"sample2.json\",mode=\"r\") as file:\n",
    "    content = json.load(file)"
   ]
  },
  {
   "cell_type": "code",
   "execution_count": 6,
   "id": "e6558e14-34a0-4fe3-8d69-95cdaa6001fa",
   "metadata": {},
   "outputs": [
    {
     "name": "stdout",
     "output_type": "stream",
     "text": [
      "('firstName', 'Joe')  :  Red\n",
      "('lastName', 'Jackson')  :  Red\n",
      "('gender', 'male')  :  Red\n",
      "('age', 28)  :  Red\n",
      "('address', {'streetAddress': '101', 'city': 'San Diego', 'state': 'CA'})  :  Red\n",
      "('phoneNumbers', [{'type': 'home', 'number': '7349282382'}])  :  Red\n"
     ]
    }
   ],
   "source": [
    "for key in content.items():\n",
    "    print(key,\" : \",value)"
   ]
  },
  {
   "cell_type": "code",
   "execution_count": 7,
   "id": "02783b4b-8e01-47bc-93f3-9a8708e23c71",
   "metadata": {},
   "outputs": [],
   "source": [
    "# for example we have to find out the number so lets do it how."
   ]
  },
  {
   "cell_type": "code",
   "execution_count": 8,
   "id": "99be959d-20e0-4bee-a3ca-5b9e6fb54cfd",
   "metadata": {},
   "outputs": [
    {
     "data": {
      "text/plain": [
       "[{'type': 'home', 'number': '7349282382'}]"
      ]
     },
     "execution_count": 8,
     "metadata": {},
     "output_type": "execute_result"
    }
   ],
   "source": [
    "content[\"phoneNumbers\"]"
   ]
  },
  {
   "cell_type": "code",
   "execution_count": 9,
   "id": "593c941e-718b-46fd-a21a-e7c312bb7e4a",
   "metadata": {},
   "outputs": [
    {
     "data": {
      "text/plain": [
       "list"
      ]
     },
     "execution_count": 9,
     "metadata": {},
     "output_type": "execute_result"
    }
   ],
   "source": [
    "type(content[\"phoneNumbers\"])"
   ]
  },
  {
   "cell_type": "code",
   "execution_count": 10,
   "id": "9911da58-1e13-47eb-8955-8c3e3bd8fe95",
   "metadata": {},
   "outputs": [
    {
     "data": {
      "text/plain": [
       "dict"
      ]
     },
     "execution_count": 10,
     "metadata": {},
     "output_type": "execute_result"
    }
   ],
   "source": [
    "type(content[\"phoneNumbers\"][0])"
   ]
  },
  {
   "cell_type": "code",
   "execution_count": 11,
   "id": "711b2333-9187-471a-85e9-328b18e331f8",
   "metadata": {},
   "outputs": [
    {
     "data": {
      "text/plain": [
       "'7349282382'"
      ]
     },
     "execution_count": 11,
     "metadata": {},
     "output_type": "execute_result"
    }
   ],
   "source": [
    "content[\"phoneNumbers\"][0][\"number\"]"
   ]
  },
  {
   "cell_type": "markdown",
   "id": "9ad7a606-d506-43e1-8507-c61b2eda71f5",
   "metadata": {},
   "source": [
    "# Convert Python Dictionary to Json file"
   ]
  },
  {
   "cell_type": "code",
   "execution_count": 12,
   "id": "e495a769-f062-45f4-b8a2-8980932cd87c",
   "metadata": {},
   "outputs": [],
   "source": [
    "dictionary_data = {\"Name\":\"ROhit\",\"Subject\":\"Python\",\"Number\":\"9718292990\"}\n",
    "\n",
    "import json \n",
    "\n",
    "with open(\"creating_json.json\",mode=\"w\") as file:\n",
    "    json.dump(dictionary_data,file)"
   ]
  },
  {
   "cell_type": "code",
   "execution_count": 13,
   "id": "988cc60c-2749-4747-b8f7-30eaf95df02c",
   "metadata": {},
   "outputs": [
    {
     "data": {
      "text/plain": [
       "'{\"Name\": \"ROhit\", \"Subject\": \"Python\", \"Number\": \"9718292990\"}'"
      ]
     },
     "execution_count": 13,
     "metadata": {},
     "output_type": "execute_result"
    }
   ],
   "source": [
    "with open(\"creating_json.Json\",\"r\") as file:\n",
    "    content = file.read()\n",
    "    \n",
    "content  "
   ]
  },
  {
   "cell_type": "code",
   "execution_count": 14,
   "id": "5f6b8fe0-9baa-411c-9cc3-babac3e34f03",
   "metadata": {},
   "outputs": [
    {
     "data": {
      "text/plain": [
       "str"
      ]
     },
     "execution_count": 14,
     "metadata": {},
     "output_type": "execute_result"
    }
   ],
   "source": [
    "type(content)"
   ]
  }
 ],
 "metadata": {
  "kernelspec": {
   "display_name": "Python 3 (ipykernel)",
   "language": "python",
   "name": "python3"
  },
  "language_info": {
   "codemirror_mode": {
    "name": "ipython",
    "version": 3
   },
   "file_extension": ".py",
   "mimetype": "text/x-python",
   "name": "python",
   "nbconvert_exporter": "python",
   "pygments_lexer": "ipython3",
   "version": "3.11.7"
  }
 },
 "nbformat": 4,
 "nbformat_minor": 5
}
