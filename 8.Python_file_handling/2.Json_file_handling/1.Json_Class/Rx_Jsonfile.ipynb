{
 "cells": [
  {
   "cell_type": "markdown",
   "id": "5222ac70",
   "metadata": {},
   "source": [
    "# -------------------------------JSON file Parse in Python----------------------------------------"
   ]
  },
  {
   "cell_type": "markdown",
   "id": "6460322d-1ddd-4ecc-9d54-91523b46ca0f",
   "metadata": {},
   "source": [
    "In Python, a JSON (JavaScript Object Notation) file is a text file that stores data in a structured format. JSON is a popular data interchange format that is widely used for transmitting and storing data between different systems."
   ]
  },
  {
   "cell_type": "markdown",
   "id": "d0172dba",
   "metadata": {},
   "source": [
    "JSON files consist of key-value pairs, where the keys are strings and the values can be of various types, including strings, numbers, booleans, arrays, or even nested JSON objects."
   ]
  },
  {
   "cell_type": "markdown",
   "id": "f8c4f358",
   "metadata": {},
   "source": [
    "Python provides a built-in module called json that allows you to work with JSON data. This module provides functions for reading JSON from a file, converting JSON to Python objects, and vice versa. Here's a basic example of reading a JSON file in Python:"
   ]
  },
  {
   "cell_type": "markdown",
   "id": "23d1f636",
   "metadata": {},
   "source": [
    "Before jump into Josn file we would like to check the data type stored in Json file.lets do that"
   ]
  },
  {
   "cell_type": "code",
   "execution_count": 1,
   "id": "f654c8c8",
   "metadata": {},
   "outputs": [],
   "source": [
    "import json\n",
    "\n",
    "with open(\"sample1.json\",mode=\"r\") as file:\n",
    "    content = json.load(file)\n",
    "    "
   ]
  },
  {
   "cell_type": "code",
   "execution_count": 2,
   "id": "327943b3",
   "metadata": {},
   "outputs": [
    {
     "data": {
      "text/plain": [
       "dict"
      ]
     },
     "execution_count": 2,
     "metadata": {},
     "output_type": "execute_result"
    }
   ],
   "source": [
    "type(content)"
   ]
  },
  {
   "cell_type": "code",
   "execution_count": 3,
   "id": "3e2a5b90",
   "metadata": {},
   "outputs": [
    {
     "name": "stdout",
     "output_type": "stream",
     "text": [
      "{'fruit': 'Apple', 'size': 'Large', 'color': 'Red'}\n"
     ]
    }
   ],
   "source": [
    "print(content)"
   ]
  },
  {
   "cell_type": "code",
   "execution_count": 4,
   "id": "b6781a3f",
   "metadata": {},
   "outputs": [
    {
     "name": "stdout",
     "output_type": "stream",
     "text": [
      "fruit Apple\n",
      "size Large\n",
      "color Red\n"
     ]
    }
   ],
   "source": [
    "for key,value in content.items():\n",
    "    \n",
    "    print(key,value)"
   ]
  },
  {
   "cell_type": "code",
   "execution_count": 5,
   "id": "c2f3dd6f",
   "metadata": {},
   "outputs": [],
   "source": [
    "import json\n",
    "\n",
    "with open(\"sample2.json\",mode=\"r\") as file:\n",
    "    content = json.load(file)"
   ]
  },
  {
   "cell_type": "code",
   "execution_count": 6,
   "id": "bbd1ef26",
   "metadata": {
    "scrolled": true
   },
   "outputs": [
    {
     "name": "stdout",
     "output_type": "stream",
     "text": [
      "firstName  :  Joe\n",
      "lastName  :  Jackson\n",
      "gender  :  male\n",
      "age  :  28\n",
      "address  :  {'streetAddress': '101', 'city': 'San Diego', 'state': 'CA'}\n",
      "phoneNumbers  :  [{'type': 'home', 'number': '7349282382'}]\n"
     ]
    }
   ],
   "source": [
    "for key,value in content.items():\n",
    "    print(key,\" : \",value)"
   ]
  },
  {
   "cell_type": "code",
   "execution_count": 7,
   "id": "20acf37b",
   "metadata": {},
   "outputs": [],
   "source": [
    "# for example we have to find out the number so lets do it how."
   ]
  },
  {
   "cell_type": "code",
   "execution_count": 8,
   "id": "d431db66",
   "metadata": {},
   "outputs": [
    {
     "data": {
      "text/plain": [
       "[{'type': 'home', 'number': '7349282382'}]"
      ]
     },
     "execution_count": 8,
     "metadata": {},
     "output_type": "execute_result"
    }
   ],
   "source": [
    "content[\"phoneNumbers\"]"
   ]
  },
  {
   "cell_type": "code",
   "execution_count": 9,
   "id": "19815dca",
   "metadata": {},
   "outputs": [
    {
     "data": {
      "text/plain": [
       "list"
      ]
     },
     "execution_count": 9,
     "metadata": {},
     "output_type": "execute_result"
    }
   ],
   "source": [
    "type(content[\"phoneNumbers\"])"
   ]
  },
  {
   "cell_type": "code",
   "execution_count": 10,
   "id": "46af149f",
   "metadata": {},
   "outputs": [
    {
     "data": {
      "text/plain": [
       "dict"
      ]
     },
     "execution_count": 10,
     "metadata": {},
     "output_type": "execute_result"
    }
   ],
   "source": [
    "type(content[\"phoneNumbers\"][0])"
   ]
  },
  {
   "cell_type": "code",
   "execution_count": 11,
   "id": "cb03fe53",
   "metadata": {},
   "outputs": [
    {
     "data": {
      "text/plain": [
       "'7349282382'"
      ]
     },
     "execution_count": 11,
     "metadata": {},
     "output_type": "execute_result"
    }
   ],
   "source": [
    "content[\"phoneNumbers\"][0][\"number\"]"
   ]
  },
  {
   "cell_type": "markdown",
   "id": "b9007960",
   "metadata": {},
   "source": [
    "# Convert Python Dictionary to Json file"
   ]
  },
  {
   "cell_type": "code",
   "execution_count": 12,
   "id": "24df3629",
   "metadata": {},
   "outputs": [],
   "source": [
    "dictionary_data = {\"Name\":\"ROhit\",\"Subject\":\"Python\",\"Number\":\"9718292990\"}\n",
    "\n",
    "import json \n",
    "\n",
    "with open(\"creating_json.file\",mode=\"x\") as file:\n",
    "    json.dump(dictionary_data,file)"
   ]
  },
  {
   "cell_type": "code",
   "execution_count": 13,
   "id": "19a4a42c",
   "metadata": {},
   "outputs": [
    {
     "data": {
      "text/plain": [
       "'{\"Name\": \"ROhit\", \"Subject\": \"Python\", \"Number\": \"9718292990\"}'"
      ]
     },
     "execution_count": 13,
     "metadata": {},
     "output_type": "execute_result"
    }
   ],
   "source": [
    "with open(\"creating_json.Json\",\"r\") as file:\n",
    "    content = file.read()\n",
    "    \n",
    "content  "
   ]
  },
  {
   "cell_type": "code",
   "execution_count": 14,
   "id": "ee19bf11",
   "metadata": {},
   "outputs": [
    {
     "data": {
      "text/plain": [
       "str"
      ]
     },
     "execution_count": 14,
     "metadata": {},
     "output_type": "execute_result"
    }
   ],
   "source": [
    "type(content)"
   ]
  }
 ],
 "metadata": {
  "kernelspec": {
   "display_name": "Python 3 (ipykernel)",
   "language": "python",
   "name": "python3"
  },
  "language_info": {
   "codemirror_mode": {
    "name": "ipython",
    "version": 3
   },
   "file_extension": ".py",
   "mimetype": "text/x-python",
   "name": "python",
   "nbconvert_exporter": "python",
   "pygments_lexer": "ipython3",
   "version": "3.11.7"
  }
 },
 "nbformat": 4,
 "nbformat_minor": 5
}
