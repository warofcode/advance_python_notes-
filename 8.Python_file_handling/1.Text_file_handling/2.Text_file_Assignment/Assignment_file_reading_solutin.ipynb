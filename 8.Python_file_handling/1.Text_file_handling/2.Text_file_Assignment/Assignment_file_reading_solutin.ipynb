{
 "cells": [
  {
   "cell_type": "markdown",
   "id": "46f40c3d",
   "metadata": {},
   "source": [
    "# --------------------------Assignment--------------------------------------------"
   ]
  },
  {
   "cell_type": "markdown",
   "id": "f6619c4c",
   "metadata": {},
   "source": [
    "# Task 1"
   ]
  },
  {
   "cell_type": "markdown",
   "id": "7fdcc0ed",
   "metadata": {},
   "source": [
    "Read the file and capture the password from file.\n",
    "\n",
    "Ask user to input password.\n",
    "\n",
    "If password is correct than open goolge chrome for user to access internet."
   ]
  },
  {
   "cell_type": "code",
   "execution_count": 47,
   "id": "f3ab5044",
   "metadata": {},
   "outputs": [],
   "source": [
    "import webbrowser\n",
    "def read_password():\n",
    "\n",
    "    try:\n",
    "        file=open(\"password_file.txt\",\"r\")\n",
    "\n",
    "        password = file.read()\n",
    "        \n",
    "        user_password=input(\"Please Enter your password : \")\n",
    "\n",
    "\n",
    "\n",
    "        if password == user_password:\n",
    "\n",
    "            \n",
    "\n",
    "            print(\"you are welcome enjoy your internet\")\n",
    "            \n",
    "            webbrowser.open_new_tab(\"www.google.com\")\n",
    "\n",
    "        \n",
    "\n",
    "        else:\n",
    "\n",
    "            print(\"Password does not match permision denied\")\n",
    "        \n",
    "\n",
    "    except:\n",
    "\n",
    "        print(\"something went wrong\")\n",
    "\n",
    "    else:\n",
    "        print(\"password prosess completed program has been closed....\")\n",
    "\n",
    "    finally:\n",
    "\n",
    "        file.close()\n",
    "        \n",
    "        \n",
    " \n",
    "        \n",
    "       \n",
    "\n",
    "    \n",
    "\n",
    "        "
   ]
  },
  {
   "cell_type": "code",
   "execution_count": 48,
   "id": "d1a93022",
   "metadata": {},
   "outputs": [
    {
     "name": "stdout",
     "output_type": "stream",
     "text": [
      "Please Enter your password : 4532155\n",
      "Password does not match permision denied\n",
      "password prosess completed program has been closed....\n"
     ]
    }
   ],
   "source": [
    "read_password()\n",
    "\n"
   ]
  },
  {
   "cell_type": "markdown",
   "id": "0d2d425b",
   "metadata": {},
   "source": [
    "# Task 2:"
   ]
  },
  {
   "cell_type": "markdown",
   "id": "1c0f7cf3",
   "metadata": {},
   "source": [
    "create 2 files:\n",
    "\n",
    "username_file : where user will input his username\n",
    "    \n",
    "userpassword_file : Where user will input his passowrd    \n",
    "    \n",
    "    \n",
    "now user will login through the username and password:\n",
    "    \n",
    "you will read both files   username_file and userpassword_file\n",
    "\n",
    "you will check both the input correct you will open google.com else print message permission denied"
   ]
  },
  {
   "cell_type": "code",
   "execution_count": 67,
   "id": "fa546228",
   "metadata": {},
   "outputs": [],
   "source": [
    "import webbrowser\n",
    "\n",
    "def input_method():\n",
    "    \n",
    "    try:\n",
    "        \n",
    "        user_name = input(\"Create user name : \")\n",
    "        user_password = input(\"Create your password : \")\n",
    "\n",
    "        with open(\"username_file.txt\",\"w\") as file:\n",
    "            file.write(user_name)\n",
    "\n",
    "        with open(\"userpassword_file.txt\",\"w\") as file:\n",
    "            file.write(user_password)\n",
    "\n",
    "\n",
    "\n",
    "        print(\"user name and password has been created successfully...\")\n",
    "\n",
    "        user_input = input(\"Enter your username :  \")\n",
    "        user_password_input = input(\"Enter your password : \")\n",
    "        \n",
    "        \n",
    "\n",
    "\n",
    "        with open(\"username_file.txt\",\"r\") as file:\n",
    "            username_content = file.read()\n",
    "\n",
    "        with open(\"userpassword_file.txt\",\"r\") as file:\n",
    "            userpass_content = file.read()\n",
    "\n",
    "\n",
    "        if user_input  == username_content and user_password_input == userpass_content:\n",
    "\n",
    "            print(\"user name and password match you are allowed to access internet\")\n",
    "            \n",
    "            webbrowser.open_new_tab(\"www.google.com\")\n",
    "\n",
    "        else:\n",
    "\n",
    "            print(\"wrong password or username permission denied\")\n",
    "            \n",
    "\n",
    "    except Exception as e:\n",
    "\n",
    "        print(\"somthing went wrong\")\n",
    "\n",
    "\n",
    "\n",
    "    \n",
    "    \n"
   ]
  },
  {
   "cell_type": "code",
   "execution_count": 68,
   "id": "fba8b8af",
   "metadata": {},
   "outputs": [
    {
     "name": "stdout",
     "output_type": "stream",
     "text": [
      "Create user name : 11\n",
      "Create your password : 11\n",
      "user name and password has been created successfully...\n",
      "Enter your username :  11\n",
      "Enter your password : 11\n",
      "user name and password match you are allowed to access internet\n"
     ]
    }
   ],
   "source": [
    "input_method()"
   ]
  },
  {
   "cell_type": "code",
   "execution_count": null,
   "id": "934b6461",
   "metadata": {},
   "outputs": [],
   "source": []
  }
 ],
 "metadata": {
  "kernelspec": {
   "display_name": "Python 3 (ipykernel)",
   "language": "python",
   "name": "python3"
  },
  "language_info": {
   "codemirror_mode": {
    "name": "ipython",
    "version": 3
   },
   "file_extension": ".py",
   "mimetype": "text/x-python",
   "name": "python",
   "nbconvert_exporter": "python",
   "pygments_lexer": "ipython3",
   "version": "3.11.7"
  }
 },
 "nbformat": 4,
 "nbformat_minor": 5
}
