{
 "cells": [
  {
   "cell_type": "code",
   "execution_count": 13,
   "id": "507077a2-4c64-4cf5-90b3-c321c3c8d99d",
   "metadata": {},
   "outputs": [
    {
     "data": {
      "text/plain": [
       "'THIS IS ANOTHER TEXT TO BE ADDED.MY NAME IS ROHIT.'"
      ]
     },
     "execution_count": 13,
     "metadata": {},
     "output_type": "execute_result"
    }
   ],
   "source": [
    "file = open(\"example.txt\",mode=\"r\")\n",
    "content = file.read()\n",
    "\n",
    "content.upper()"
   ]
  },
  {
   "cell_type": "code",
   "execution_count": 15,
   "id": "b2ef2e85-667c-4c4a-8427-352a9ca8ed1e",
   "metadata": {},
   "outputs": [
    {
     "data": {
      "text/plain": [
       "'This'"
      ]
     },
     "execution_count": 15,
     "metadata": {},
     "output_type": "execute_result"
    }
   ],
   "source": [
    "content[0:4]"
   ]
  },
  {
   "cell_type": "code",
   "execution_count": 16,
   "id": "929dcaaf-37c9-4846-8211-20b4f77d14be",
   "metadata": {},
   "outputs": [],
   "source": [
    "file = open(\"password_file.txt\")"
   ]
  },
  {
   "cell_type": "code",
   "execution_count": 26,
   "id": "01ae8706-9bf7-403b-88f9-4deecc208852",
   "metadata": {},
   "outputs": [
    {
     "name": "stdout",
     "output_type": "stream",
     "text": [
      "your file password is : 9876                          \n",
      "\n",
      "\n"
     ]
    },
    {
     "name": "stdin",
     "output_type": "stream",
     "text": [
      "Enter your password : 9876\n"
     ]
    },
    {
     "name": "stdout",
     "output_type": "stream",
     "text": [
      "incorrect password\n"
     ]
    }
   ],
   "source": [
    "file = open(\"password_file.txt\")\n",
    "\n",
    "file_password = file.read()\n",
    "print(\"your file password is :\",file_password)\n",
    "\n",
    "user_input = input(\"Enter your password :\")\n",
    "\n",
    "if file_password == user_input:\n",
    "    print(\"your password is correct\")\n",
    "\n",
    "else:\n",
    "    print(\"incorrect password\")\n",
    "\n",
    "file.close()"
   ]
  },
  {
   "cell_type": "code",
   "execution_count": 25,
   "id": "7cb4ae0c-21b5-44fb-9a07-d7210c0efca1",
   "metadata": {},
   "outputs": [
    {
     "ename": "ValueError",
     "evalue": "I/O operation on closed file.",
     "output_type": "error",
     "traceback": [
      "\u001b[1;31m---------------------------------------------------------------------------\u001b[0m",
      "\u001b[1;31mValueError\u001b[0m                                Traceback (most recent call last)",
      "Cell \u001b[1;32mIn[25], line 1\u001b[0m\n\u001b[1;32m----> 1\u001b[0m file\u001b[38;5;241m.\u001b[39mread()\n",
      "\u001b[1;31mValueError\u001b[0m: I/O operation on closed file."
     ]
    }
   ],
   "source": [
    "file.read()"
   ]
  },
  {
   "cell_type": "code",
   "execution_count": 50,
   "id": "ee2de3a4-3862-4a9f-a3ae-506e9d152c79",
   "metadata": {},
   "outputs": [
    {
     "name": "stdout",
     "output_type": "stream",
     "text": [
      "your file username is : Rohit@1234\n",
      "Your file userPassword is : 9876\n"
     ]
    },
    {
     "name": "stdin",
     "output_type": "stream",
     "text": [
      "Enter your username:  Rohit@1234\n",
      "Enter your userpassword :  9876\n"
     ]
    },
    {
     "name": "stdout",
     "output_type": "stream",
     "text": [
      "your password is correct\n"
     ]
    }
   ],
   "source": [
    "file = open(\"password_file.txt\")\n",
    "\n",
    "file_username = file.readline()[9:19]\n",
    "file_password = file.readline()[13:17]\n",
    "# file_username = file_username[9:]\n",
    "# file_password = file_password[13:]\n",
    "\n",
    "print(\"your file username is :\",file_username)\n",
    "print(\"Your file userPassword is :\",file_password )\n",
    "\n",
    "username_input = input(\"Enter your username: \")\n",
    "userpassword_input = input(\"Enter your userpassword : \")\n",
    "\n",
    "\n",
    "if file_username == username_input and file_password==userpassword_input:\n",
    "    print(\"your password is correct\")\n",
    "\n",
    "else:\n",
    "    print(\"incorrect password\")\n",
    "\n",
    "file.close()"
   ]
  },
  {
   "cell_type": "code",
   "execution_count": 58,
   "id": "1f732451-fd0a-4eda-8100-f8c83233c37b",
   "metadata": {},
   "outputs": [
    {
     "name": "stdout",
     "output_type": "stream",
     "text": [
      "['username:Rohit@1234\\n', 'userpassword:9876']\n"
     ]
    }
   ],
   "source": [
    "file = open(\"password_file.txt\")\n",
    "print(file.readlines())\n",
    "file.close()"
   ]
  },
  {
   "cell_type": "code",
   "execution_count": 56,
   "id": "542d5ea5-54a8-47a5-98be-411eeda042c2",
   "metadata": {},
   "outputs": [
    {
     "name": "stdout",
     "output_type": "stream",
     "text": [
      "username:Rohit@1234\n",
      "\n",
      "userpassword:9876\n"
     ]
    }
   ],
   "source": [
    "file = open(\"password_file.txt\")\n",
    "for i in range(2):\n",
    "    print(file.readline())\n",
    "\n",
    "file.close()"
   ]
  },
  {
   "cell_type": "code",
   "execution_count": null,
   "id": "e2aa898e-6be3-4014-a7c3-1dfab17343a0",
   "metadata": {},
   "outputs": [],
   "source": [
    "p"
   ]
  }
 ],
 "metadata": {
  "kernelspec": {
   "display_name": "Python 3 (ipykernel)",
   "language": "python",
   "name": "python3"
  },
  "language_info": {
   "codemirror_mode": {
    "name": "ipython",
    "version": 3
   },
   "file_extension": ".py",
   "mimetype": "text/x-python",
   "name": "python",
   "nbconvert_exporter": "python",
   "pygments_lexer": "ipython3",
   "version": "3.11.7"
  }
 },
 "nbformat": 4,
 "nbformat_minor": 5
}
