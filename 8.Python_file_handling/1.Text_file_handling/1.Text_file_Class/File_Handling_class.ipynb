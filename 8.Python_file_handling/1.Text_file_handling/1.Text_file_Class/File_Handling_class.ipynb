{
 "cells": [
  {
   "cell_type": "markdown",
   "id": "b2b9a3ff",
   "metadata": {},
   "source": [
    "# ----------------------------------------File Handling------------------------------------------------"
   ]
  },
  {
   "cell_type": "markdown",
   "id": "f81ff4bd",
   "metadata": {},
   "source": [
    "# What is file handling in python ?"
   ]
  },
  {
   "cell_type": "markdown",
   "id": "fd277f5f",
   "metadata": {},
   "source": [
    "File handling in Python refers to the process of working with files, including reading from files, writing to files, and manipulating files in various ways. Python provides built-in functions and methods for performing file operations, which makes it easy to work with files in a program.\n",
    "\n",
    "To perform file handling in Python, you need to open a file first, then read or write to it, and finally close the file. The open() function is used to open a file and it takes two arguments: the file path and the mode in which the file will be opened.\n",
    "\n",
    "The open() function takes two parameters; filename, and mode.\n",
    "\n",
    "Here's an example of how to open a file in Python:"
   ]
  },
  {
   "cell_type": "code",
   "execution_count": 9,
   "id": "39f90c21",
   "metadata": {},
   "outputs": [],
   "source": [
    "file = open(\"example.txt\", \"r\")"
   ]
  },
  {
   "cell_type": "markdown",
   "id": "e520db63",
   "metadata": {},
   "source": [
    "\n",
    "In this example, example.txt is the file we want to open, and \"r\" is the mode we want to open it in. \"r\" stands for \"read\", which means we can only read from the file, not write to it.\n",
    "\n",
    "After opening the file, we can read from it using the read() method or write to it using the write() method. Finally, we should close the file using the close() method.\n",
    "\n",
    "Here's an example of how to read from a file in Python:"
   ]
  },
  {
   "cell_type": "code",
   "execution_count": 10,
   "id": "dfac9f15",
   "metadata": {},
   "outputs": [
    {
     "name": "stdout",
     "output_type": "stream",
     "text": [
      "This is another text to be added.\n"
     ]
    }
   ],
   "source": [
    "file = open(\"example.txt\", \"r\")\n",
    "content = file.read()\n",
    "print(content)\n",
    "file.close()\n"
   ]
  },
  {
   "cell_type": "markdown",
   "id": "64b79c8f",
   "metadata": {},
   "source": [
    "In this example, read() method is used to read the content of the file and store it in the content variable. Then the print() function is used to display the content of the file in the console.\n",
    "\n",
    "Similarly, to write to a file, we can use the write() method. Here's an example of how to write to a file in Python:"
   ]
  },
  {
   "cell_type": "code",
   "execution_count": 2,
   "id": "ef8d3e54",
   "metadata": {},
   "outputs": [],
   "source": [
    "file = open(\"example1.txt\", \"w\")\n",
    "file.write(\"This is another text to be added.\")\n",
    "file.close()\n"
   ]
  },
  {
   "cell_type": "markdown",
   "id": "8e09cb7a",
   "metadata": {},
   "source": [
    "# Supported mode of file in Python:"
   ]
  },
  {
   "cell_type": "raw",
   "id": "275c1367-5f0f-403c-81f6-cd2e1426341f",
   "metadata": {},
   "source": [
    "\n",
    "\"r\"= Open file for reading (default).error if the file does not exist\n",
    "\n",
    "\"w\"= Open file for writing (be carefull it will overwrite all the data ).creates the file if it does not exist\n",
    "\n",
    "\"x\"= Create file if not exists(if the file with same name is there it will raise an error)\n",
    "\n",
    "\n",
    "\"a\"= Append more content to file( it will append in the last of the file )\n",
    "\n",
    "\"r+\"= will open a file for reading and writing. It will fail if the file does not exist. fseek can be used to read and write anywhere in the file.\n",
    "\n",
    "\"w+\" = will open a file for reading and writing. It will create the file if the file does not exist, and destroy and recreate the file if the file does exist. fseek can be used to read anywhere in the file.\n",
    "\n",
    "\"a+\" = will open a file for reading and writing. It will create the file if the file does not exist. fseek can be used to read anywhere in the file, but writes will always append to the end of the file regardless of any calls to fseek.\n",
    "\n",
    "\"text\" = text mode (default )\n",
    "\n",
    "\"b\"= binary mode\n",
    "\n",
    "read Only (‘r’), \n",
    "\n",
    "read and write (‘r+’), \n",
    "\n",
    "write Only (‘w’), \n",
    "\n",
    "write and read (‘w+’), \n",
    "\n",
    "append Only (‘a’), \n",
    "\n",
    "append and read (‘a+’)."
   ]
  },
  {
   "cell_type": "code",
   "execution_count": 13,
   "id": "65a9b187",
   "metadata": {},
   "outputs": [],
   "source": [
    "file = open(\"news.txt\") # or (\"rt\") is default value\n",
    "file = open(\"news.txt\",\"rt\") # this code same as file = open(\"news.txt\")"
   ]
  },
  {
   "cell_type": "markdown",
   "id": "d8faf930",
   "metadata": {},
   "source": [
    "If the file is located in a different location, you will have to specify the file path, like this:"
   ]
  },
  {
   "cell_type": "code",
   "execution_count": 17,
   "id": "9c317aff",
   "metadata": {},
   "outputs": [
    {
     "name": "stdout",
     "output_type": "stream",
     "text": [
      "this file is availabe at desktop\n"
     ]
    }
   ],
   "source": [
    "file = open(r\"C:\\Users\\rkt65\\OneDrive\\Desktop\\desktop_file.txt\")\n",
    "\n",
    "content = file.read()\n",
    "\n",
    "print(content)"
   ]
  },
  {
   "cell_type": "markdown",
   "id": "ca1c548e",
   "metadata": {},
   "source": [
    "# Lets work on read mode()"
   ]
  },
  {
   "cell_type": "markdown",
   "id": "04bf06ff",
   "metadata": {},
   "source": [
    " If you need to extract a string that contains all characters in the file then we can use file.read(). The full code would work like this: "
   ]
  },
  {
   "cell_type": "code",
   "execution_count": 26,
   "id": "79904faf",
   "metadata": {},
   "outputs": [],
   "source": [
    "file = open(\"news.txt\",\"r\")\n",
    "content = file.read()\n"
   ]
  },
  {
   "cell_type": "code",
   "execution_count": 27,
   "id": "57fd72c3",
   "metadata": {},
   "outputs": [
    {
     "name": "stdout",
     "output_type": "stream",
     "text": [
      "One of Sudan's duelling generals, who leads the paramilitary force fighting the country's army, has told the BBC he will not negotiate until fighting ends.\n",
      "\n",
      "But Gen Mohamed Hamdan Dagalo, better known as Hemedti, said his fighters were being \"relentlessly\" bombed since a three-day truce had been extended.\n",
      "\n",
      "\"We don't want to destroy Sudan,\" he said, blaming army chief Gen Abdel Fattah al-Burhan for the violence.\n",
      "\n",
      "Gen Burhan has tentatively agreed to face-to-face talks in South Sudan.\n",
      "\n",
      "Thursday night's extension of an uneasy ceasefire followed intensive diplomatic efforts by neighbouring countries, as well as the US, UK and UN.\n",
      "\n",
      "Speaking to the BBC by phone, Hemedti said he was open to talks but the condition was that the ceasefire should hold: \"Cease hostilities. After that we can have negotiations.\"\n",
      "\n",
      "He said he had no personal problem with Gen Burhan, but regarded him as a traitor for bringing into government those loyal to former President Omar al-Bashir, who was ousted by the army and RSF together in 2019 after mass street protests.\n"
     ]
    }
   ],
   "source": [
    "print(content)\n",
    "file.close()"
   ]
  },
  {
   "cell_type": "markdown",
   "id": "2ec0943f",
   "metadata": {},
   "source": [
    "# if we want to access certain number of characters:"
   ]
  },
  {
   "cell_type": "code",
   "execution_count": 28,
   "id": "d748bbdc",
   "metadata": {},
   "outputs": [],
   "source": [
    "file = open(\"news.txt\",\"r\")\n",
    "content = file.read(25)"
   ]
  },
  {
   "cell_type": "code",
   "execution_count": 29,
   "id": "e639351a",
   "metadata": {},
   "outputs": [
    {
     "name": "stdout",
     "output_type": "stream",
     "text": [
      "One of Sudan's duelling g\n"
     ]
    }
   ],
   "source": [
    "print(content) # it will return 25 charachters only including space"
   ]
  },
  {
   "cell_type": "markdown",
   "id": "4f059d2f",
   "metadata": {},
   "source": [
    "# Read Line Method"
   ]
  },
  {
   "cell_type": "markdown",
   "id": "e29e5bc3",
   "metadata": {},
   "source": [
    "we can use readline method to retrun only one line. lets try this......."
   ]
  },
  {
   "cell_type": "code",
   "execution_count": 67,
   "id": "7f8c11d5",
   "metadata": {},
   "outputs": [],
   "source": [
    "file = open(\"news.txt\",\"r\")\n",
    "content= file.readline()"
   ]
  },
  {
   "cell_type": "code",
   "execution_count": 68,
   "id": "b2a80257",
   "metadata": {},
   "outputs": [
    {
     "name": "stdout",
     "output_type": "stream",
     "text": [
      "One of Sudan's duelling generals, who leads the paramilitary force fighting the country's army, has told the BBC he will not negotiate until fighting ends.But Gen Mohamed Hamdan Dagalo, better known as Hemedti, said his fighters were being \"relentlessly\" bombed since a three-day truce had been extended.\"We don't want to destroy Sudan,\" he said, blaming army chief Gen Abdel Fattah al-Burhan for the violence.Gen Burhan has tentatively agreed to face-to-face talks in South Sudan.Thursday night's extension of an uneasy ceasefire followed intensive diplomatic efforts by neighbouring countries, as well as the US, UK and UN.Speaking to the BBC by phone, Hemedti said he was open to talks but the condition was that the ceasefire should hold: \"Cease hostilities. After that we can have negotiations.\"He said he had no personal problem with Gen Burhan, but regarded him as a traitor for bringing into government those loyal to former President Omar al-Bashir, who was ousted by the army and RSF together in 2019 after mass street protests.\n"
     ]
    }
   ],
   "source": [
    "print(content) # it will return first line\n",
    "file.close()"
   ]
  },
  {
   "cell_type": "markdown",
   "id": "e2d90006",
   "metadata": {},
   "source": [
    "we can call read line method more then one time so that we can get more than one line...."
   ]
  },
  {
   "cell_type": "code",
   "execution_count": 74,
   "id": "5d017950",
   "metadata": {},
   "outputs": [],
   "source": [
    "file = open(\"news.txt\",\"r\")\n"
   ]
  },
  {
   "cell_type": "code",
   "execution_count": 75,
   "id": "4c2db7fd",
   "metadata": {},
   "outputs": [
    {
     "data": {
      "text/plain": [
       "\"One of Sudan's duelling generals, who leads the paramilitary force fighting the country's army, has told the BBC he will not negotiate until fighting ends.\\n\""
      ]
     },
     "execution_count": 75,
     "metadata": {},
     "output_type": "execute_result"
    }
   ],
   "source": [
    "file.readline()\n"
   ]
  },
  {
   "cell_type": "code",
   "execution_count": 76,
   "id": "49d919b1",
   "metadata": {},
   "outputs": [
    {
     "data": {
      "text/plain": [
       "'But Gen Mohamed Hamdan Dagalo, better known as Hemedti, said his fighters were being \"relentlessly\" bombed since a three-day truce had been extended.\\n'"
      ]
     },
     "execution_count": 76,
     "metadata": {},
     "output_type": "execute_result"
    }
   ],
   "source": [
    "file.readline()\n"
   ]
  },
  {
   "cell_type": "code",
   "execution_count": 77,
   "id": "98b2441e",
   "metadata": {},
   "outputs": [
    {
     "data": {
      "text/plain": [
       "'\"We don\\'t want to destroy Sudan,\" he said, blaming army chief Gen Abdel Fattah al-Burhan for the violence.\\n'"
      ]
     },
     "execution_count": 77,
     "metadata": {},
     "output_type": "execute_result"
    }
   ],
   "source": [
    "file.readline()"
   ]
  },
  {
   "cell_type": "markdown",
   "id": "6ff1c057",
   "metadata": {},
   "source": [
    "# Read lines methond"
   ]
  },
  {
   "cell_type": "code",
   "execution_count": 81,
   "id": "8104f342",
   "metadata": {},
   "outputs": [],
   "source": [
    "file = open(\"news.txt\",\"r\")\n",
    "content= file.readlines()"
   ]
  },
  {
   "cell_type": "code",
   "execution_count": 82,
   "id": "71353e87",
   "metadata": {},
   "outputs": [
    {
     "name": "stdout",
     "output_type": "stream",
     "text": [
      "[\"One of Sudan's duelling generals, who leads the paramilitary force fighting the country's army, has told the BBC he will not negotiate until fighting ends.\\n\", 'But Gen Mohamed Hamdan Dagalo, better known as Hemedti, said his fighters were being \"relentlessly\" bombed since a three-day truce had been extended.\\n', '\"We don\\'t want to destroy Sudan,\" he said, blaming army chief Gen Abdel Fattah al-Burhan for the violence.\\n', 'Gen Burhan has tentatively agreed to face-to-face talks in South Sudan.\\n', 'Thursday night\\'s extension of an uneasy ceasefire followed intensive diplomatic efforts by neighbouring countries, as well as the US, UK and UN.Speaking to the BBC by phone, Hemedti said he was open to talks but the condition was that the ceasefire should hold: \"Cease hostilities.\\n', 'After that we can have negotiations.\"He said he had no personal problem with Gen Burhan, but regarded him as a traitor for bringing into government those loyal to former President Omar al-Bashir, who was ousted by the army and RSF together in 2019 after mass street protests.']\n"
     ]
    }
   ],
   "source": [
    "print(content) "
   ]
  },
  {
   "cell_type": "code",
   "execution_count": 83,
   "id": "692cd6e5",
   "metadata": {},
   "outputs": [
    {
     "data": {
      "text/plain": [
       "list"
      ]
     },
     "execution_count": 83,
     "metadata": {},
     "output_type": "execute_result"
    }
   ],
   "source": [
    "type(content)"
   ]
  },
  {
   "cell_type": "code",
   "execution_count": 84,
   "id": "0c76ee32",
   "metadata": {},
   "outputs": [
    {
     "data": {
      "text/plain": [
       "\"One of Sudan's duelling generals, who leads the paramilitary force fighting the country's army, has told the BBC he will not negotiate until fighting ends.\\n\""
      ]
     },
     "execution_count": 84,
     "metadata": {},
     "output_type": "execute_result"
    }
   ],
   "source": [
    "content[0]"
   ]
  },
  {
   "cell_type": "code",
   "execution_count": 85,
   "id": "ec913302",
   "metadata": {},
   "outputs": [
    {
     "data": {
      "text/plain": [
       "'But Gen Mohamed Hamdan Dagalo, better known as Hemedti, said his fighters were being \"relentlessly\" bombed since a three-day truce had been extended.\\n'"
      ]
     },
     "execution_count": 85,
     "metadata": {},
     "output_type": "execute_result"
    }
   ],
   "source": [
    "content[1]"
   ]
  },
  {
   "cell_type": "code",
   "execution_count": 86,
   "id": "674b87da",
   "metadata": {},
   "outputs": [
    {
     "data": {
      "text/plain": [
       "'\"We don\\'t want to destroy Sudan,\" he said, blaming army chief Gen Abdel Fattah al-Burhan for the violence.\\n'"
      ]
     },
     "execution_count": 86,
     "metadata": {},
     "output_type": "execute_result"
    }
   ],
   "source": [
    "content[2]"
   ]
  },
  {
   "cell_type": "code",
   "execution_count": 87,
   "id": "a390f5d5",
   "metadata": {},
   "outputs": [
    {
     "data": {
      "text/plain": [
       "'Gen Burhan has tentatively agreed to face-to-face talks in South Sudan.\\n'"
      ]
     },
     "execution_count": 87,
     "metadata": {},
     "output_type": "execute_result"
    }
   ],
   "source": [
    "content[3]"
   ]
  },
  {
   "cell_type": "code",
   "execution_count": 56,
   "id": "4b34106f",
   "metadata": {},
   "outputs": [],
   "source": [
    "file.close()"
   ]
  },
  {
   "cell_type": "markdown",
   "id": "45d13abe",
   "metadata": {},
   "source": [
    "# file.close() Method"
   ]
  },
  {
   "cell_type": "markdown",
   "id": "5026cb0e",
   "metadata": {},
   "source": [
    "In Python, the file.close() method is used to close an opened file. When you are done working with a file, it is important to close it to release the resources associated with the file. Failing to close a file properly can lead to errors or cause data to be lost or corrupted.\n",
    "\n",
    "The close() method releases any system resources and locks associated with the file, so that other programs or processes can access it. The close() method has no parameters and is simply called on the file object that you want to close.\n",
    "\n",
    "Here's an example of how to use the close() method to properly close a file after reading from it:"
   ]
  },
  {
   "cell_type": "code",
   "execution_count": 88,
   "id": "bbd49176",
   "metadata": {},
   "outputs": [],
   "source": [
    "file = open(\"news.txt\",\"r\")\n",
    "content= file.readlines()\n",
    "file.close()"
   ]
  },
  {
   "cell_type": "markdown",
   "id": "8687eeb3",
   "metadata": {},
   "source": [
    "# with open statement "
   ]
  },
  {
   "cell_type": "markdown",
   "id": "33599411",
   "metadata": {},
   "source": [
    "It's good practice to always close files after you're done working with them, even if your program finishes execution or crashes unexpectedly. To make sure the file is always closed, you can use a with statement instead of manually opening and closing the file. The with statement automatically closes the file for you when the block of code is exited:"
   ]
  },
  {
   "cell_type": "code",
   "execution_count": 89,
   "id": "ebe4af00",
   "metadata": {},
   "outputs": [
    {
     "name": "stdout",
     "output_type": "stream",
     "text": [
      "One of Sudan's duelling generals, who leads the paramilitary force fighting the country's army, has told the BBC he will not negotiate until fighting ends.\n",
      "But Gen Mohamed Hamdan Dagalo, better known as Hemedti, said his fighters were being \"relentlessly\" bombed since a three-day truce had been extended.\n",
      "\"We don't want to destroy Sudan,\" he said, blaming army chief Gen Abdel Fattah al-Burhan for the violence.\n",
      "Gen Burhan has tentatively agreed to face-to-face talks in South Sudan.\n",
      "Thursday night's extension of an uneasy ceasefire followed intensive diplomatic efforts by neighbouring countries, as well as the US, UK and UN.Speaking to the BBC by phone, Hemedti said he was open to talks but the condition was that the ceasefire should hold: \"Cease hostilities.\n",
      "After that we can have negotiations.\"He said he had no personal problem with Gen Burhan, but regarded him as a traitor for bringing into government those loyal to former President Omar al-Bashir, who was ousted by the army and RSF together in 2019 after mass street protests.\n"
     ]
    }
   ],
   "source": [
    "with open(\"news.txt\",\"r\") as file:\n",
    "    content=file.read()\n",
    "    \n",
    "print(content)    "
   ]
  },
  {
   "cell_type": "code",
   "execution_count": 90,
   "id": "cbe67754",
   "metadata": {},
   "outputs": [],
   "source": [
    "# now if you want to read the content again it wont work because the file has been closed due to with open block"
   ]
  },
  {
   "cell_type": "code",
   "execution_count": 92,
   "id": "f153fc88",
   "metadata": {},
   "outputs": [
    {
     "ename": "ValueError",
     "evalue": "I/O operation on closed file.",
     "output_type": "error",
     "traceback": [
      "\u001b[1;31m---------------------------------------------------------------------------\u001b[0m",
      "\u001b[1;31mValueError\u001b[0m                                Traceback (most recent call last)",
      "Input \u001b[1;32mIn [92]\u001b[0m, in \u001b[0;36m<cell line: 1>\u001b[1;34m()\u001b[0m\n\u001b[1;32m----> 1\u001b[0m \u001b[43mfile\u001b[49m\u001b[38;5;241;43m.\u001b[39;49m\u001b[43mread\u001b[49m\u001b[43m(\u001b[49m\u001b[43m)\u001b[49m\n",
      "\u001b[1;31mValueError\u001b[0m: I/O operation on closed file."
     ]
    }
   ],
   "source": [
    "file.read()"
   ]
  },
  {
   "cell_type": "markdown",
   "id": "001e77ef",
   "metadata": {},
   "source": [
    "# File write in Python"
   ]
  },
  {
   "cell_type": "markdown",
   "id": "decfe4fe",
   "metadata": {},
   "source": [
    "Write to an Existing File"
   ]
  },
  {
   "cell_type": "markdown",
   "id": "ef84c144",
   "metadata": {},
   "source": [
    "To write to an existing file we have two methods:\n",
    "    \n",
    "1. \"a\" (Append): it will append your content to the last of your file\n",
    "    \n",
    "2. \"w\" (Write) : will overwrite all your existing content   "
   ]
  },
  {
   "cell_type": "code",
   "execution_count": 94,
   "id": "c8ad7a89",
   "metadata": {},
   "outputs": [
    {
     "ename": "UnsupportedOperation",
     "evalue": "not readable",
     "output_type": "error",
     "traceback": [
      "\u001b[1;31m---------------------------------------------------------------------------\u001b[0m",
      "\u001b[1;31mUnsupportedOperation\u001b[0m                      Traceback (most recent call last)",
      "Input \u001b[1;32mIn [94]\u001b[0m, in \u001b[0;36m<cell line: 2>\u001b[1;34m()\u001b[0m\n\u001b[0;32m      1\u001b[0m file \u001b[38;5;241m=\u001b[39m \u001b[38;5;28mopen\u001b[39m(\u001b[38;5;124m\"\u001b[39m\u001b[38;5;124mwritefile.txt\u001b[39m\u001b[38;5;124m\"\u001b[39m,\u001b[38;5;124m\"\u001b[39m\u001b[38;5;124ma\u001b[39m\u001b[38;5;124m\"\u001b[39m)\n\u001b[1;32m----> 2\u001b[0m content \u001b[38;5;241m=\u001b[39m \u001b[43mfile\u001b[49m\u001b[38;5;241;43m.\u001b[39;49m\u001b[43mread\u001b[49m\u001b[43m(\u001b[49m\u001b[43m)\u001b[49m\n",
      "\u001b[1;31mUnsupportedOperation\u001b[0m: not readable"
     ]
    }
   ],
   "source": [
    "file = open(\"writefile.txt\",\"a\") # as you can see read is not working because file is only in append mode\n",
    "content = file.read()"
   ]
  },
  {
   "cell_type": "code",
   "execution_count": 95,
   "id": "fcfec3ce",
   "metadata": {},
   "outputs": [],
   "source": [
    "file = open(\"writefile.txt\",\"a+\") # as you can see read will work here\n",
    "content = file.read()"
   ]
  },
  {
   "cell_type": "code",
   "execution_count": 96,
   "id": "c57d204d",
   "metadata": {},
   "outputs": [
    {
     "data": {
      "text/plain": [
       "35"
      ]
     },
     "execution_count": 96,
     "metadata": {},
     "output_type": "execute_result"
    }
   ],
   "source": [
    "file = open(\"writefile.txt\",\"a\")\n",
    "\n",
    "file.write(\"hi this text will be added in last.\") #Returns the number of characters written (which is always equal to\n",
    "\n",
    "#the length of the string).\n",
    "\n"
   ]
  },
  {
   "cell_type": "code",
   "execution_count": 97,
   "id": "30a1798d",
   "metadata": {},
   "outputs": [],
   "source": [
    "file.close()"
   ]
  },
  {
   "cell_type": "markdown",
   "id": "337b2662",
   "metadata": {},
   "source": [
    "# \"w\" method to write a file this method will overwrite the entire file."
   ]
  },
  {
   "cell_type": "code",
   "execution_count": 98,
   "id": "fe68f779",
   "metadata": {},
   "outputs": [],
   "source": [
    "file = open(\"writefile.txt\",\"w\")\n",
    "file.write(\"be careful i will overwrite everything\")\n",
    "\n",
    "file.close()"
   ]
  },
  {
   "cell_type": "markdown",
   "id": "c3ec6a52",
   "metadata": {},
   "source": [
    "# \"X\" method to create a file if not exists..."
   ]
  },
  {
   "cell_type": "code",
   "execution_count": 104,
   "id": "e7e63b43",
   "metadata": {},
   "outputs": [
    {
     "data": {
      "text/plain": [
       "6"
      ]
     },
     "execution_count": 104,
     "metadata": {},
     "output_type": "execute_result"
    }
   ],
   "source": [
    "file = open(\"createfile1.txt\",\"x\")\n",
    "\n",
    "file.write(\"123456\") # it will create a new file with the name of createfile1 and will write 123456 in file.\n"
   ]
  },
  {
   "cell_type": "code",
   "execution_count": 105,
   "id": "d1fe9266",
   "metadata": {},
   "outputs": [],
   "source": [
    "file.close()"
   ]
  },
  {
   "cell_type": "markdown",
   "id": "20261ddc",
   "metadata": {},
   "source": [
    "# Delete File in Python"
   ]
  },
  {
   "cell_type": "markdown",
   "id": "7a980d6e",
   "metadata": {},
   "source": [
    "sometimes we need to delete the files . To delete the files we need to import os module. lets try this......."
   ]
  },
  {
   "cell_type": "code",
   "execution_count": 99,
   "id": "891028cc",
   "metadata": {},
   "outputs": [],
   "source": [
    "import os\n",
    "os.remove(\"deletefile1.txt\")"
   ]
  },
  {
   "cell_type": "markdown",
   "id": "a3dc1480",
   "metadata": {},
   "source": [
    "Check if File exist:"
   ]
  },
  {
   "cell_type": "code",
   "execution_count": 101,
   "id": "50f39f4b",
   "metadata": {},
   "outputs": [
    {
     "data": {
      "text/plain": [
       "True"
      ]
     },
     "execution_count": 101,
     "metadata": {},
     "output_type": "execute_result"
    }
   ],
   "source": [
    "import os \n",
    "os.path.exists(\"deletefile2.txt\") # yes file exist with the name of deletefile2.txt"
   ]
  },
  {
   "cell_type": "markdown",
   "id": "62dee38a",
   "metadata": {},
   "source": [
    "# Create folder "
   ]
  },
  {
   "cell_type": "code",
   "execution_count": 126,
   "id": "e526a9d3",
   "metadata": {},
   "outputs": [],
   "source": [
    "import os\n",
    "os.mkdir(\"New_folder6\")"
   ]
  },
  {
   "cell_type": "markdown",
   "id": "78fdf176",
   "metadata": {},
   "source": [
    "# Delete folder"
   ]
  },
  {
   "cell_type": "code",
   "execution_count": 133,
   "id": "035315b3",
   "metadata": {},
   "outputs": [],
   "source": [
    "import os\n",
    "os.rmdir(\"New_folder4\")"
   ]
  },
  {
   "cell_type": "code",
   "execution_count": 136,
   "id": "455bad51",
   "metadata": {},
   "outputs": [
    {
     "name": "stdout",
     "output_type": "stream",
     "text": [
      "folder deleted successfuly\n"
     ]
    }
   ],
   "source": [
    "import os\n",
    "\n",
    "try:\n",
    "    \n",
    "    os.rmdir(\"New_folder3\")\n",
    "    \n",
    "except Exception as e:\n",
    "    print(e)\n",
    "\n",
    "else:\n",
    "    \n",
    "    print(\"folder deleted successfuly\")\n",
    "    \n",
    "finally:\n",
    "    \n",
    "    file.close()\n"
   ]
  },
  {
   "cell_type": "code",
   "execution_count": null,
   "id": "4e30731f",
   "metadata": {},
   "outputs": [],
   "source": []
  }
 ],
 "metadata": {
  "kernelspec": {
   "display_name": "Python 3 (ipykernel)",
   "language": "python",
   "name": "python3"
  },
  "language_info": {
   "codemirror_mode": {
    "name": "ipython",
    "version": 3
   },
   "file_extension": ".py",
   "mimetype": "text/x-python",
   "name": "python",
   "nbconvert_exporter": "python",
   "pygments_lexer": "ipython3",
   "version": "3.11.7"
  }
 },
 "nbformat": 4,
 "nbformat_minor": 5
}
