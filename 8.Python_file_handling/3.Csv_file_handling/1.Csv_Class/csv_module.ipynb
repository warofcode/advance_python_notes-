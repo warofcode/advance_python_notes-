{
 "cells": [
  {
   "cell_type": "markdown",
   "id": "39105fcc",
   "metadata": {},
   "source": [
    "# -----------------------------------CSV MODULE----------------------------------------------------"
   ]
  },
  {
   "cell_type": "markdown",
   "id": "8b8f1d1a",
   "metadata": {},
   "source": [
    "The csv module in Python is a built-in module that provides functionality for reading and writing CSV (Comma-Separated Values) files. It offers convenient methods and classes for working with CSV data.\n",
    "\n",
    "The csv module allows you to:"
   ]
  },
  {
   "cell_type": "markdown",
   "id": "bb3d6d10",
   "metadata": {},
   "source": [
    "1. Read data from CSV files: You can use the csv.reader() function to read the contents of a CSV file and iterate over the rows."
   ]
  },
  {
   "cell_type": "markdown",
   "id": "9703dbbd",
   "metadata": {},
   "source": [
    "2. Write data to CSV files: The csv.writer() function enables you to write data to a CSV file by specifying the rows and values to be written."
   ]
  },
  {
   "cell_type": "markdown",
   "id": "827c9ce8",
   "metadata": {},
   "source": [
    "The csv module provides various options for customizing the delimiter character, handling quotes, and dealing with special cases in CSV files."
   ]
  },
  {
   "cell_type": "code",
   "execution_count": 43,
   "id": "5caca245",
   "metadata": {},
   "outputs": [
    {
     "name": "stdout",
     "output_type": "stream",
     "text": [
      "['first_name', 'last_name', 'email']\n",
      "['John', 'Doe', 'john-doe@bogusemail.com']\n",
      "['Mary', 'Smith-Robinson', 'maryjacobs@bogusemail.com']\n",
      "['Dave', 'Smith', 'davesmith@bogusemail.com']\n",
      "['Jane', 'Stuart', 'janestuart@bogusemail.com']\n",
      "['Tom', 'Wright', 'tomwright@bogusemail.com']\n",
      "['Steve', 'Robinson', 'steverobinson@bogusemail.com']\n",
      "['Nicole', 'Jacobs', 'nicolejacobs@bogusemail.com']\n",
      "['Jane', 'Wright', 'janewright@bogusemail.com']\n",
      "['']\n"
     ]
    }
   ],
   "source": [
    "# Reading csv file as we used to do in text files.Lets try this first.......\n",
    "\n",
    "with open(\"names.csv\",\"r\") as file:\n",
    "    content = file.read()\n",
    "# print(content)    \n",
    "# print(type(content))\n",
    "\n",
    "\n",
    "content2 = content.split(\"\\n\")#[:-1] if i want to remove last line\n",
    "\n",
    "#print(content2)\n",
    "\n",
    "for line in content2:\n",
    "    line = line.split(\",\")\n",
    "    print(line)\n",
    "#     print(type(line))\n",
    "\n"
   ]
  },
  {
   "cell_type": "code",
   "execution_count": 27,
   "id": "79f968e5",
   "metadata": {},
   "outputs": [
    {
     "name": "stdout",
     "output_type": "stream",
     "text": [
      "['first_name', 'last_name', 'email']\n",
      "['John', 'Doe', 'john-doe@bogusemail.com']\n",
      "['Mary', 'Smith-Robinson', 'maryjacobs@bogusemail.com']\n",
      "['Dave', 'Smith', 'davesmith@bogusemail.com']\n",
      "['Jane', 'Stuart', 'janestuart@bogusemail.com']\n",
      "['Tom', 'Wright', 'tomwright@bogusemail.com']\n",
      "['Steve', 'Robinson', 'steverobinson@bogusemail.com']\n",
      "['Nicole', 'Jacobs', 'nicolejacobs@bogusemail.com']\n",
      "['Jane', 'Wright', 'janewright@bogusemail.com']\n"
     ]
    }
   ],
   "source": [
    "# now we will read same data with the help of csv module\n",
    "import csv\n",
    "with open(\"names.csv\",\"r\") as csv_file:\n",
    "    csv_reader = csv.reader(csv_file)\n",
    "    \n",
    "    for line in csv_reader:\n",
    "        print(line)"
   ]
  },
  {
   "cell_type": "code",
   "execution_count": null,
   "id": "cfb81a60",
   "metadata": {},
   "outputs": [],
   "source": [
    "# now we will read and write both we will write email in new csv file"
   ]
  },
  {
   "cell_type": "code",
   "execution_count": 3,
   "id": "2b743246",
   "metadata": {},
   "outputs": [
    {
     "name": "stdout",
     "output_type": "stream",
     "text": [
      "['email', 'john-doe@bogusemail.com', 'maryjacobs@bogusemail.com', 'davesmith@bogusemail.com', 'janestuart@bogusemail.com', 'tomwright@bogusemail.com', 'steverobinson@bogusemail.com', 'nicolejacobs@bogusemail.com', 'janewright@bogusemail.com']\n"
     ]
    }
   ],
   "source": [
    "import csv\n",
    "email_list =[]\n",
    "with open(\"names.csv\",\"r\") as csv_file:\n",
    "    csv_reader = csv.reader(csv_file)\n",
    "    \n",
    "    for line in csv_reader:\n",
    "        \n",
    "       \n",
    "        \n",
    "        email_list.append(line[2])\n",
    "        \n",
    "print(email_list)         \n",
    "        \n",
    "with open(\"output.csv\",\"w\",newline=\"\") as csv_file:\n",
    "    csv_writer = csv.writer(csv_file)\n",
    "    for line in email_list:\n",
    "        \n",
    "        csv_writer.writerow([line])\n",
    "    \n",
    "       "
   ]
  },
  {
   "cell_type": "code",
   "execution_count": 4,
   "id": "6fde1623",
   "metadata": {},
   "outputs": [
    {
     "name": "stdout",
     "output_type": "stream",
     "text": [
      "email\n",
      "john-doe@bogusemail.com\n",
      "maryjacobs@bogusemail.com\n",
      "davesmith@bogusemail.com\n",
      "janestuart@bogusemail.com\n",
      "tomwright@bogusemail.com\n",
      "steverobinson@bogusemail.com\n",
      "nicolejacobs@bogusemail.com\n",
      "janewright@bogusemail.com\n"
     ]
    }
   ],
   "source": [
    "import csv \n",
    "with open(\"names.csv\",\"r\") as csv_file:\n",
    "    csv_reader = csv.reader(csv_file)\n",
    "    \n",
    "    with open(\"output1.csv\",\"w\",newline=\"\") as file:\n",
    "        csv_writer = csv.writer(file)\n",
    "        \n",
    "        for line in csv_reader:\n",
    "            print(line[2])\n",
    "            csv_writer.writerow([line[2]])"
   ]
  },
  {
   "cell_type": "code",
   "execution_count": null,
   "id": "112929c7",
   "metadata": {},
   "outputs": [],
   "source": [
    "# lets understand DictReader "
   ]
  },
  {
   "cell_type": "code",
   "execution_count": 44,
   "id": "a18ea84d",
   "metadata": {},
   "outputs": [
    {
     "name": "stdout",
     "output_type": "stream",
     "text": [
      "{'first_name': 'John', 'last_name': 'Doe', 'email': 'john-doe@bogusemail.com'}\n",
      "{'first_name': 'Mary', 'last_name': 'Smith-Robinson', 'email': 'maryjacobs@bogusemail.com'}\n",
      "{'first_name': 'Dave', 'last_name': 'Smith', 'email': 'davesmith@bogusemail.com'}\n",
      "{'first_name': 'Jane', 'last_name': 'Stuart', 'email': 'janestuart@bogusemail.com'}\n",
      "{'first_name': 'Tom', 'last_name': 'Wright', 'email': 'tomwright@bogusemail.com'}\n",
      "{'first_name': 'Steve', 'last_name': 'Robinson', 'email': 'steverobinson@bogusemail.com'}\n",
      "{'first_name': 'Nicole', 'last_name': 'Jacobs', 'email': 'nicolejacobs@bogusemail.com'}\n",
      "{'first_name': 'Jane', 'last_name': 'Wright', 'email': 'janewright@bogusemail.com'}\n"
     ]
    }
   ],
   "source": [
    "import csv\n",
    "with open(\"names.csv\",\"r\") as csv_file:\n",
    "    csv_dict_reader = csv.DictReader(csv_file)\n",
    "    \n",
    "    for line in csv_dict_reader:\n",
    "        print(line)"
   ]
  },
  {
   "cell_type": "code",
   "execution_count": 56,
   "id": "4f874eec",
   "metadata": {},
   "outputs": [
    {
     "name": "stdout",
     "output_type": "stream",
     "text": [
      "john-doe@bogusemail.com\n",
      "maryjacobs@bogusemail.com\n",
      "davesmith@bogusemail.com\n",
      "janestuart@bogusemail.com\n",
      "tomwright@bogusemail.com\n",
      "steverobinson@bogusemail.com\n",
      "nicolejacobs@bogusemail.com\n",
      "janewright@bogusemail.com\n"
     ]
    }
   ],
   "source": [
    "# now we can print particular coulumn with the help of DictReader.lets see how.......\n",
    "\n",
    "import csv\n",
    "with open(\"names.csv\",\"r\") as csv_file:\n",
    "    csv_dict_reader = csv.DictReader(csv_file)\n",
    "    for line in csv_dict_reader:\n",
    "#         print(type(line))\n",
    "        print(line[\"email\"])"
   ]
  },
  {
   "cell_type": "code",
   "execution_count": 62,
   "id": "7c82d004",
   "metadata": {},
   "outputs": [],
   "source": [
    "# now we will write the data to new csv_file.Lets see how.....\n",
    "\n",
    "import csv\n",
    "with open(\"names.csv\",\"r\") as csv_file:\n",
    "    csv_dict_reader = csv.DictReader(csv_file)\n",
    "    \n",
    "    with open(\"dict_csv.csv\",\"w\") as csv_file:\n",
    "        csv_dict_writer = csv.DictWriter(csv_file,fieldnames=[\"first_name\",\"last_name\",\"email\"])\n",
    "        for line in csv_dict_reader:\n",
    "    \n",
    "            csv_dict_writer.writerow(line)\n"
   ]
  },
  {
   "cell_type": "code",
   "execution_count": 68,
   "id": "e6db3119",
   "metadata": {},
   "outputs": [],
   "source": [
    "# if you want to print only limeted columns \n",
    "import csv\n",
    "with open(\"names.csv\",\"r\") as csv_file:\n",
    "    csv_dict_reader = csv.DictReader(csv_file)\n",
    "    \n",
    "    with open(\"dict_csv2.csv\",\"w\") as csv_file:\n",
    "        csv_dict_writer = csv.DictWriter(csv_file,fieldnames=[\"last_name\",\"email\"])\n",
    "        for line in csv_dict_reader:\n",
    "            del line[\"first_name\"]\n",
    "            csv_dict_writer.writerow(line)\n"
   ]
  },
  {
   "cell_type": "code",
   "execution_count": null,
   "id": "072a6ed1",
   "metadata": {},
   "outputs": [],
   "source": []
  }
 ],
 "metadata": {
  "kernelspec": {
   "display_name": "Python 3 (ipykernel)",
   "language": "python",
   "name": "python3"
  },
  "language_info": {
   "codemirror_mode": {
    "name": "ipython",
    "version": 3
   },
   "file_extension": ".py",
   "mimetype": "text/x-python",
   "name": "python",
   "nbconvert_exporter": "python",
   "pygments_lexer": "ipython3",
   "version": "3.9.12"
  }
 },
 "nbformat": 4,
 "nbformat_minor": 5
}
