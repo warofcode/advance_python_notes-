{
 "cells": [
  {
   "cell_type": "markdown",
   "id": "0af42504",
   "metadata": {},
   "source": [
    "# Name space in python"
   ]
  },
  {
   "cell_type": "markdown",
   "id": "082840f3",
   "metadata": {},
   "source": [
    "In Python, a namespace is a container that holds a set of identifiers, such as variable names, function names, and class names, that are defined within a particular scope.\n",
    "\n",
    "Namespaces help to avoid naming conflicts by keeping identifiers with the same name separate in different scopes. For example, if you define a variable named \"x\" inside a function, it will have a different namespace than a variable named \"x\" defined outside of the function.\n",
    "\n",
    "Python has several types of namespaces, including:\n",
    "\n",
    "Local Namespace: The namespace created when a function is called, which includes all the variables and arguments defined within the function.\n",
    "\n",
    "Global Namespace: The namespace that contains all the variables and functions defined at the module level.\n",
    "\n",
    "Built-in Namespace: The namespace that contains all the built-in functions and modules provided by Python.\n",
    "\n",
    "You can access and manipulate namespaces in Python using various functions and operators, such as globals(), locals(), and the dot (.) operator.\n",
    "\n",
    "\n",
    "\n",
    "\n",
    "\n",
    "\n",
    "Regenerate response"
   ]
  },
  {
   "cell_type": "markdown",
   "id": "15e37d9b",
   "metadata": {},
   "source": [
    "The namespace helps the Python interpreter to understand what exact method or variable is trying to point out in the code. So its name gives more information - Name (which means name, a unique identifier) + Space (related to scope)."
   ]
  },
  {
   "cell_type": "markdown",
   "id": "0807a72a",
   "metadata": {},
   "source": [
    "Local: If you refer to x inside a function, then the interpreter first searches for it in the innermost scope that’s local to that function.\n",
    "Enclosing: If x isn’t in the local scope but appears in a function that resides inside another function, then the interpreter searches in the enclosing function’s scope.\n",
    "Global: If neither of the above searches is fruitful, then the interpreter looks in the global scope next.\n",
    "Built-in: If it can’t find x anywhere else, then the interpreter tries the built-in scope.\n",
    "This is the LEGB rule as it’s commonly called in Python literature (although the term doesn’t actually appear in the Python documentation). The interpreter searches for a name from the inside out, looking in the local, enclosing, global, and finally the built-in scope:\n",
    "\n",
    "Diagram of Local, Enclosed, Global, and Built-in Scopes"
   ]
  },
  {
   "cell_type": "code",
   "execution_count": null,
   "id": "78dde5c4",
   "metadata": {},
   "outputs": [],
   "source": []
  },
  {
   "cell_type": "markdown",
   "id": "22206e9a",
   "metadata": {},
   "source": [
    "# The Built-in Namespace"
   ]
  },
  {
   "cell_type": "markdown",
   "id": "77176800",
   "metadata": {},
   "source": [
    "As its name suggests, it contains pre-defined names of all of Python's built-in objects already available in Python. Let's list these names with the following command.\n",
    "\n",
    "Open the Python terminal and type the following command."
   ]
  },
  {
   "cell_type": "markdown",
   "id": "33bf16fe",
   "metadata": {},
   "source": [
    "The built-in namespace contains the names of all of Python’s built-in objects. These are available at all times when Python is running. You can list the objects in the built-in namespace with the following command:"
   ]
  },
  {
   "cell_type": "code",
   "execution_count": 88,
   "id": "41149092",
   "metadata": {},
   "outputs": [
    {
     "data": {
      "text/plain": [
       "['ArithmeticError',\n",
       " 'AssertionError',\n",
       " 'AttributeError',\n",
       " 'BaseException',\n",
       " 'BlockingIOError',\n",
       " 'BrokenPipeError',\n",
       " 'BufferError',\n",
       " 'BytesWarning',\n",
       " 'ChildProcessError',\n",
       " 'ConnectionAbortedError',\n",
       " 'ConnectionError',\n",
       " 'ConnectionRefusedError',\n",
       " 'ConnectionResetError',\n",
       " 'DeprecationWarning',\n",
       " 'EOFError',\n",
       " 'Ellipsis',\n",
       " 'EnvironmentError',\n",
       " 'Exception',\n",
       " 'False',\n",
       " 'FileExistsError',\n",
       " 'FileNotFoundError',\n",
       " 'FloatingPointError',\n",
       " 'FutureWarning',\n",
       " 'GeneratorExit',\n",
       " 'IOError',\n",
       " 'ImportError',\n",
       " 'ImportWarning',\n",
       " 'IndentationError',\n",
       " 'IndexError',\n",
       " 'InterruptedError',\n",
       " 'IsADirectoryError',\n",
       " 'KeyError',\n",
       " 'KeyboardInterrupt',\n",
       " 'LookupError',\n",
       " 'MemoryError',\n",
       " 'ModuleNotFoundError',\n",
       " 'NameError',\n",
       " 'None',\n",
       " 'NotADirectoryError',\n",
       " 'NotImplemented',\n",
       " 'NotImplementedError',\n",
       " 'OSError',\n",
       " 'OverflowError',\n",
       " 'PendingDeprecationWarning',\n",
       " 'PermissionError',\n",
       " 'ProcessLookupError',\n",
       " 'RecursionError',\n",
       " 'ReferenceError',\n",
       " 'ResourceWarning',\n",
       " 'RuntimeError',\n",
       " 'RuntimeWarning',\n",
       " 'StopAsyncIteration',\n",
       " 'StopIteration',\n",
       " 'SyntaxError',\n",
       " 'SyntaxWarning',\n",
       " 'SystemError',\n",
       " 'SystemExit',\n",
       " 'TabError',\n",
       " 'TimeoutError',\n",
       " 'True',\n",
       " 'TypeError',\n",
       " 'UnboundLocalError',\n",
       " 'UnicodeDecodeError',\n",
       " 'UnicodeEncodeError',\n",
       " 'UnicodeError',\n",
       " 'UnicodeTranslateError',\n",
       " 'UnicodeWarning',\n",
       " 'UserWarning',\n",
       " 'ValueError',\n",
       " 'Warning',\n",
       " 'WindowsError',\n",
       " 'ZeroDivisionError',\n",
       " '__IPYTHON__',\n",
       " '__build_class__',\n",
       " '__debug__',\n",
       " '__doc__',\n",
       " '__import__',\n",
       " '__loader__',\n",
       " '__name__',\n",
       " '__package__',\n",
       " '__spec__',\n",
       " 'abs',\n",
       " 'all',\n",
       " 'any',\n",
       " 'ascii',\n",
       " 'bin',\n",
       " 'bool',\n",
       " 'breakpoint',\n",
       " 'bytearray',\n",
       " 'bytes',\n",
       " 'callable',\n",
       " 'chr',\n",
       " 'classmethod',\n",
       " 'compile',\n",
       " 'complex',\n",
       " 'copyright',\n",
       " 'credits',\n",
       " 'delattr',\n",
       " 'dict',\n",
       " 'dir',\n",
       " 'display',\n",
       " 'divmod',\n",
       " 'enumerate',\n",
       " 'eval',\n",
       " 'exec',\n",
       " 'execfile',\n",
       " 'filter',\n",
       " 'float',\n",
       " 'format',\n",
       " 'frozenset',\n",
       " 'get_ipython',\n",
       " 'getattr',\n",
       " 'globals',\n",
       " 'hasattr',\n",
       " 'hash',\n",
       " 'help',\n",
       " 'hex',\n",
       " 'id',\n",
       " 'input',\n",
       " 'int',\n",
       " 'isinstance',\n",
       " 'issubclass',\n",
       " 'iter',\n",
       " 'len',\n",
       " 'license',\n",
       " 'list',\n",
       " 'locals',\n",
       " 'map',\n",
       " 'max',\n",
       " 'memoryview',\n",
       " 'min',\n",
       " 'next',\n",
       " 'object',\n",
       " 'oct',\n",
       " 'open',\n",
       " 'ord',\n",
       " 'pow',\n",
       " 'print',\n",
       " 'property',\n",
       " 'range',\n",
       " 'repr',\n",
       " 'reversed',\n",
       " 'round',\n",
       " 'runfile',\n",
       " 'set',\n",
       " 'setattr',\n",
       " 'slice',\n",
       " 'sorted',\n",
       " 'staticmethod',\n",
       " 'str',\n",
       " 'sum',\n",
       " 'super',\n",
       " 'tuple',\n",
       " 'type',\n",
       " 'vars',\n",
       " 'zip']"
      ]
     },
     "execution_count": 88,
     "metadata": {},
     "output_type": "execute_result"
    }
   ],
   "source": [
    "dir(__builtins__)  "
   ]
  },
  {
   "cell_type": "markdown",
   "id": "214aa73c",
   "metadata": {},
   "source": [
    "# The Global Namespace"
   ]
  },
  {
   "cell_type": "markdown",
   "id": "8ef4f24d",
   "metadata": {},
   "source": [
    "The global namespace consists of any names in Python at any level of the main program. It is created when the main body executes and remains in existence until the interpreter terminates."
   ]
  },
  {
   "cell_type": "code",
   "execution_count": 106,
   "id": "69d08490",
   "metadata": {},
   "outputs": [],
   "source": [
    "my_class = \"complete course\"\n",
    "\n",
    "def outer_function():\n",
    "    my_class=\"python\"\n",
    "    \n",
    "    print(f\"my_class is ={my_class} \")\n",
    "    \n",
    "    def inner_function():\n",
    "        \n",
    "        my_class = \"python_tkinter\"\n",
    "        print(f\"my class is = {my_class}\")\n",
    "        \n",
    "        \n",
    "     \n",
    "        \n",
    "        \n",
    "        "
   ]
  },
  {
   "cell_type": "code",
   "execution_count": 107,
   "id": "d107cd64",
   "metadata": {},
   "outputs": [
    {
     "name": "stdout",
     "output_type": "stream",
     "text": [
      "my_class is =python \n",
      "None\n"
     ]
    }
   ],
   "source": [
    "print(outer_function())"
   ]
  },
  {
   "cell_type": "code",
   "execution_count": 141,
   "id": "f25f1fca",
   "metadata": {},
   "outputs": [],
   "source": [
    "my_class = \"complete course\" # global scope \n",
    "\n",
    "def outer_function():\n",
    "    my_class=\"python\"\n",
    "    \n",
    "    print(f\"my_class is ={my_class} \") # local scope \n",
    "    \n",
    "    def inner_function():\n",
    "        \n",
    "        my_class = \"python_tkinter\"\n",
    "        \n",
    "        print(f\"my class is = {my_class}\") # inclosed\n",
    "        \n",
    "        return \n",
    "        \n",
    "        \n",
    "        \n",
    "        \n",
    "    return inner_function()\n",
    "        "
   ]
  },
  {
   "cell_type": "code",
   "execution_count": 142,
   "id": "113a23e5",
   "metadata": {},
   "outputs": [
    {
     "name": "stdout",
     "output_type": "stream",
     "text": [
      "my_class is =python \n",
      "my class is = python_tkinter\n",
      "None\n"
     ]
    }
   ],
   "source": [
    "print(outer_function())"
   ]
  },
  {
   "cell_type": "code",
   "execution_count": null,
   "id": "e621ed81",
   "metadata": {},
   "outputs": [],
   "source": []
  },
  {
   "cell_type": "code",
   "execution_count": null,
   "id": "9dfe9aac",
   "metadata": {},
   "outputs": [],
   "source": []
  },
  {
   "cell_type": "code",
   "execution_count": null,
   "id": "9c94ee8f",
   "metadata": {},
   "outputs": [],
   "source": []
  },
  {
   "cell_type": "code",
   "execution_count": null,
   "id": "1bf9ab39",
   "metadata": {},
   "outputs": [],
   "source": []
  },
  {
   "cell_type": "code",
   "execution_count": null,
   "id": "7fe85297",
   "metadata": {},
   "outputs": [],
   "source": []
  },
  {
   "cell_type": "code",
   "execution_count": null,
   "id": "1e6854af",
   "metadata": {},
   "outputs": [],
   "source": []
  },
  {
   "cell_type": "code",
   "execution_count": null,
   "id": "005325db",
   "metadata": {},
   "outputs": [],
   "source": []
  },
  {
   "cell_type": "code",
   "execution_count": null,
   "id": "f65132a0",
   "metadata": {},
   "outputs": [],
   "source": []
  },
  {
   "cell_type": "code",
   "execution_count": null,
   "id": "b395afc5",
   "metadata": {},
   "outputs": [],
   "source": []
  },
  {
   "cell_type": "code",
   "execution_count": null,
   "id": "1a761c8c",
   "metadata": {},
   "outputs": [],
   "source": []
  },
  {
   "cell_type": "code",
   "execution_count": 171,
   "id": "f1c7789a",
   "metadata": {},
   "outputs": [],
   "source": [
    "text = \"we are learning python.Now we are learning regular expression.my email address9 is rkt6543@gmail.com. \\\n",
    "my phone number is 9718292990 my alternate number is 8448072035. alternate email is rohittyagi1234@gmail.com.\" "
   ]
  },
  {
   "cell_type": "code",
   "execution_count": 172,
   "id": "8af58510",
   "metadata": {},
   "outputs": [
    {
     "name": "stdout",
     "output_type": "stream",
     "text": [
      "we are learning python.Now we are learning regular expression.my email address9 is rkt6543@gmail.com. my phone number is 9718292990 my alternate number is 8448072035. alternate email is rohittyagi1234@gmail.com.\n"
     ]
    }
   ],
   "source": [
    "print(text)"
   ]
  },
  {
   "cell_type": "code",
   "execution_count": 173,
   "id": "d40f8468",
   "metadata": {},
   "outputs": [],
   "source": [
    "import regex as re\n",
    "pattern = re.search(\"^py\",text) # string starting with py"
   ]
  },
  {
   "cell_type": "code",
   "execution_count": 174,
   "id": "b63aae51",
   "metadata": {},
   "outputs": [
    {
     "name": "stdout",
     "output_type": "stream",
     "text": [
      "No match found\n"
     ]
    }
   ],
   "source": [
    "if (pattern):\n",
    "    print(\"yes find match\")\n",
    "else:\n",
    "    print(\"No match found\")\n",
    "        \n",
    "        "
   ]
  },
  {
   "cell_type": "code",
   "execution_count": 175,
   "id": "044c0786",
   "metadata": {},
   "outputs": [
    {
     "name": "stdout",
     "output_type": "stream",
     "text": [
      "yes find match\n"
     ]
    }
   ],
   "source": [
    "pattern = re.search(\"^we\",text) # string starting with we\n",
    "if (pattern):\n",
    "    print(\"yes find match\")\n",
    "else:\n",
    "    print(\"No match found\")"
   ]
  },
  {
   "cell_type": "code",
   "execution_count": 176,
   "id": "9e8f8223",
   "metadata": {},
   "outputs": [
    {
     "name": "stdout",
     "output_type": "stream",
     "text": [
      "No match found\n"
     ]
    }
   ],
   "source": [
    "pattern = re.search(\"90$\",text) # string ends with 90\n",
    "\n",
    "if (pattern):\n",
    "    print(\"yes find match\")\n",
    "else:\n",
    "    print(\"No match found\")\n"
   ]
  },
  {
   "cell_type": "code",
   "execution_count": 177,
   "id": "93f4f812",
   "metadata": {},
   "outputs": [],
   "source": [
    "pattern = re.findall(\"we\",text) # how many times word is present"
   ]
  },
  {
   "cell_type": "code",
   "execution_count": 178,
   "id": "7d112100",
   "metadata": {},
   "outputs": [
    {
     "name": "stdout",
     "output_type": "stream",
     "text": [
      "['we', 'we']\n"
     ]
    }
   ],
   "source": [
    "print(pattern)"
   ]
  },
  {
   "cell_type": "code",
   "execution_count": 179,
   "id": "4bd94935",
   "metadata": {},
   "outputs": [
    {
     "name": "stdout",
     "output_type": "stream",
     "text": [
      "[' ', ' ', ' ', ' ', ' ', ' ', ' ', ' ', ' ', ' ', ' ', ' ', ' ', ' ', ' ', ' ', ' ', ' ', ' ', ' ', ' ', ' ', ' ', ' ', ' ', ' ']\n"
     ]
    }
   ],
   "source": [
    "pattern = re.findall(\"\\s\",text) # white space\n",
    "print(pattern)"
   ]
  },
  {
   "cell_type": "code",
   "execution_count": 180,
   "id": "af50a97d",
   "metadata": {},
   "outputs": [
    {
     "name": "stdout",
     "output_type": "stream",
     "text": [
      "['9718292990', '8448072035']\n"
     ]
    }
   ],
   "source": [
    "# find 10 digit phone number\n",
    "pattern = re.findall(\"\\d{10}\",text) \n",
    "print(pattern)"
   ]
  },
  {
   "cell_type": "code",
   "execution_count": 181,
   "id": "2b38ffb1",
   "metadata": {},
   "outputs": [
    {
     "name": "stdout",
     "output_type": "stream",
     "text": [
      "we-are-learning-python.Now-we-are-learning-regular-expression.my-email-address9-is-rkt6543@gmail.com.-my-phone-number-is-9718292990-my-alternate-number-is-8448072035.-alternate-email-is-rohittyagi1234@gmail.com.\n"
     ]
    }
   ],
   "source": [
    "# The sub() function replaces the matches with the text of your choice:\n",
    "\n",
    "pattern = re.sub(\"\\s\",\"-\",text) # white space will be replaced by -\n",
    "print(pattern)"
   ]
  },
  {
   "cell_type": "code",
   "execution_count": 182,
   "id": "0679969a",
   "metadata": {},
   "outputs": [
    {
     "name": "stdout",
     "output_type": "stream",
     "text": [
      "['rkt6543@gmail.com', 'rohittyagi1234@gmail.com']\n"
     ]
    }
   ],
   "source": [
    "# find email address\n",
    "\n",
    "\n",
    "pattern = re.findall(\"[a-zA-Z0-9._%+-]+@[a-zA-Z0-9.-]+\\.[a-zA-Z]{2,}\",text)\n",
    "print(pattern)"
   ]
  },
  {
   "cell_type": "code",
   "execution_count": 198,
   "id": "d0d9b25f",
   "metadata": {},
   "outputs": [
    {
     "name": "stdout",
     "output_type": "stream",
     "text": [
      "['@', '@']\n"
     ]
    }
   ],
   "source": [
    "pattern = re.findall(\"[@]\",text)  # [a-zA-Z0-9]+ ([a-zA-Z0-9] anythin between a to g or A to Z or o to 9)\n",
    "print(pattern)                                # + means (no matter how many characters)"
   ]
  },
  {
   "cell_type": "code",
   "execution_count": 200,
   "id": "94f4d9ee",
   "metadata": {},
   "outputs": [
    {
     "name": "stdout",
     "output_type": "stream",
     "text": [
      "['3@', '4@']\n"
     ]
    }
   ],
   "source": [
    "#[a-zA-Z0-9]\n",
    "pattern = re.findall(\"[a-zA-Z0-9][@]\",text)  # [a-zA-Z0-9]+ ([a-zA-Z0-9] anythin between a to g or A to Z or o to 9)\n",
    "print(pattern) "
   ]
  },
  {
   "cell_type": "code",
   "execution_count": 202,
   "id": "af43db8a",
   "metadata": {},
   "outputs": [
    {
     "name": "stdout",
     "output_type": "stream",
     "text": [
      "['rkt6543@', 'rohittyagi1234@']\n"
     ]
    }
   ],
   "source": [
    "#[a-zA-Z0-9] + character\n",
    "\n",
    "pattern = re.findall(\"[a-zA-Z0-9]+[@]\",text)  # [a-zA-Z0-9]+ ([a-zA-Z0-9] anythin between a to g or A to Z or o to 9)\n",
    "print(pattern) "
   ]
  },
  {
   "cell_type": "code",
   "execution_count": 207,
   "id": "4d017e7f",
   "metadata": {},
   "outputs": [
    {
     "name": "stdout",
     "output_type": "stream",
     "text": [
      "['rkt6543@gmail.com', 'rohittyagi1234@gmail.com']\n"
     ]
    }
   ],
   "source": [
    "pattern = re.findall(\"[a-zA-Z0-9]+[@][a-zA-Z0-9]+.[a-zA-Z]+\",text)  # [a-zA-Z0-9]+ ([a-zA-Z0-9] anythin between a to g or A to Z or o to 9)\n",
    "print(pattern) "
   ]
  },
  {
   "cell_type": "code",
   "execution_count": null,
   "id": "eae97854",
   "metadata": {},
   "outputs": [],
   "source": []
  }
 ],
 "metadata": {
  "kernelspec": {
   "display_name": "Python 3 (ipykernel)",
   "language": "python",
   "name": "python3"
  },
  "language_info": {
   "codemirror_mode": {
    "name": "ipython",
    "version": 3
   },
   "file_extension": ".py",
   "mimetype": "text/x-python",
   "name": "python",
   "nbconvert_exporter": "python",
   "pygments_lexer": "ipython3",
   "version": "3.9.12"
  }
 },
 "nbformat": 4,
 "nbformat_minor": 5
}
