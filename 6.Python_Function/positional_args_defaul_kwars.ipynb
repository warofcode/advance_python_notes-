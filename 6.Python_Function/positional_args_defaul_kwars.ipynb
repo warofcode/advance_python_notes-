{
 "cells": [
  {
   "cell_type": "code",
   "execution_count": 1,
   "id": "a5878a36-76ee-456c-a5cc-941eba4b12d8",
   "metadata": {},
   "outputs": [],
   "source": [
    "def my_function(first_name,*args,institute_location=\"Noida-sector16\",**kwargs):\n",
    "\n",
    "    print(f\"Hi {first_name} we are allocating your location...\")\n",
    "    print(f\"Hi your preffered location will be : {institute_location}\")\n",
    "    print(f\"Hi your last name is {args[0]}\")\n",
    "    print(f\"hi your mobile numbe is {args[1]}\")\n",
    "\n",
    "    for key,value in kwargs.items():\n",
    "        print(key,value)"
   ]
  },
  {
   "cell_type": "code",
   "execution_count": 2,
   "id": "46ff66e6-92d6-4267-8b67-245313631fd2",
   "metadata": {},
   "outputs": [
    {
     "name": "stdout",
     "output_type": "stream",
     "text": [
      "Hi Anant we are allocating your location...\n",
      "Hi your preffered location will be : Delhi_pitampura\n",
      "Hi your last name is kuchal\n",
      "hi your mobile numbe is 9718292990\n",
      "course ['Pyhton', 'Mysql', 'Mongodb']\n"
     ]
    }
   ],
   "source": [
    "my_function(\"Anant\",\"kuchal\",9718292990,institute_location=\"Delhi_pitampura\",course =[\"Pyhton\",\"Mysql\",\"Mongodb\"])"
   ]
  },
  {
   "cell_type": "code",
   "execution_count": 3,
   "id": "febfb6ad-dbb8-43d1-86f0-3707aca4c771",
   "metadata": {},
   "outputs": [
    {
     "name": "stdout",
     "output_type": "stream",
     "text": [
      "Hi Anant we are allocating your location...\n",
      "Hi your preffered location will be : Noida-sector16\n",
      "Hi your last name is kuchal\n",
      "hi your mobile numbe is 9718292990\n",
      "course ['Pyhton', 'Mysql', 'Mongodb']\n"
     ]
    }
   ],
   "source": [
    "# it will recognise that institute location is a defualt paramerter\n",
    "my_function(\"Anant\",\"kuchal\",9718292990,course =[\"Pyhton\",\"Mysql\",\"Mongodb\"])"
   ]
  },
  {
   "cell_type": "code",
   "execution_count": 4,
   "id": "42622bb9-63c0-4765-80ae-c48bd06c67e9",
   "metadata": {},
   "outputs": [
    {
     "name": "stdout",
     "output_type": "stream",
     "text": [
      "Hi Rohit we are locating your location\n",
      "Your email will be RohitTyagi@rexgalaxy.com\n",
      "Your location will be Delhi\n",
      "course ['Data_science', 'Mysql']\n"
     ]
    }
   ],
   "source": [
    "def my_function(first_name,*args,location = \"Noida\",**kwargs):\n",
    "    print(f\"Hi {first_name} we are locating your location\")\n",
    "    print(f\"Your email will be {first_name}{args[0]}@rexgalaxy.com\")\n",
    "    print(f\"Your location will be {location}\")\n",
    "    for key,value in kwargs.items():\n",
    "        print(key,value)\n",
    "my_function(\"Rohit\",\"Tyagi\",location=\"Delhi\",course=[\"Data_science\",\"Mysql\"])  "
   ]
  }
 ],
 "metadata": {
  "kernelspec": {
   "display_name": "Python 3 (ipykernel)",
   "language": "python",
   "name": "python3"
  },
  "language_info": {
   "codemirror_mode": {
    "name": "ipython",
    "version": 3
   },
   "file_extension": ".py",
   "mimetype": "text/x-python",
   "name": "python",
   "nbconvert_exporter": "python",
   "pygments_lexer": "ipython3",
   "version": "3.11.7"
  }
 },
 "nbformat": 4,
 "nbformat_minor": 5
}
