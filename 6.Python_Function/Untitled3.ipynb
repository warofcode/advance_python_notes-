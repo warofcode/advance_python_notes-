{
 "cells": [
  {
   "cell_type": "code",
   "execution_count": 5,
   "id": "b6a235dd-2d71-4978-90dc-774db2a10dad",
   "metadata": {},
   "outputs": [
    {
     "name": "stdout",
     "output_type": "stream",
     "text": [
      "you name is ROhit\n"
     ]
    }
   ],
   "source": [
    "def my_function(**kwargs):\n",
    "    # print(f\"you name is {kwargs.get(\"name3\")}\")\n",
    "    \n",
    "    # for key,value in kwargs.items():\n",
    "    #     print(key,value)\n",
    "\n",
    "    \n",
    "    print(f\"you name is {kwargs['name']}\")\n",
    "\n",
    "    return \n",
    "\n",
    "my_function(name = \"ROhit\",name2=\"Rishi\",name3 = \"Rajeev\")"
   ]
  },
  {
   "cell_type": "code",
   "execution_count": null,
   "id": "fba12caf-8197-4018-867f-552c0bb0f7ba",
   "metadata": {},
   "outputs": [],
   "source": []
  }
 ],
 "metadata": {
  "kernelspec": {
   "display_name": "Python 3 (ipykernel)",
   "language": "python",
   "name": "python3"
  },
  "language_info": {
   "codemirror_mode": {
    "name": "ipython",
    "version": 3
   },
   "file_extension": ".py",
   "mimetype": "text/x-python",
   "name": "python",
   "nbconvert_exporter": "python",
   "pygments_lexer": "ipython3",
   "version": "3.11.7"
  }
 },
 "nbformat": 4,
 "nbformat_minor": 5
}
