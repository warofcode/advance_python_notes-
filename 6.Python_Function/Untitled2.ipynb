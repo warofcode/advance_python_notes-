{
 "cells": [
  {
   "cell_type": "code",
   "execution_count": 1,
   "id": "bda7ea13-306b-40f0-bd27-736782cef184",
   "metadata": {},
   "outputs": [
    {
     "ename": "NameError",
     "evalue": "name 'my_function' is not defined",
     "output_type": "error",
     "traceback": [
      "\u001b[1;31m---------------------------------------------------------------------------\u001b[0m",
      "\u001b[1;31mNameError\u001b[0m                                 Traceback (most recent call last)",
      "Cell \u001b[1;32mIn[1], line 1\u001b[0m\n\u001b[1;32m----> 1\u001b[0m my_function (first_name,last_name,\u001b[38;5;241m1213\u001b[39m,\u001b[38;5;241m14\u001b[39m,\u001b[38;5;241m13\u001b[39m)\n",
      "\u001b[1;31mNameError\u001b[0m: name 'my_function' is not defined"
     ]
    }
   ],
   "source": [
    "my_function (first_name,last_name,1213,14,13)\n"
   ]
  },
  {
   "cell_type": "code",
   "execution_count": null,
   "id": "aa7755e4-ebf8-43ba-be28-758229ea67fa",
   "metadata": {},
   "outputs": [],
   "source": [
    "my_function(\"Rohit\",\"Tyagi\",12,13,14,15)"
   ]
  },
  {
   "cell_type": "code",
   "execution_count": null,
   "id": "55f387d3-10eb-4f4b-af8b-2453772a61c9",
   "metadata": {},
   "outputs": [],
   "source": [
    "print(\"Hi Rohit Tyagi total of your number is 625\")"
   ]
  },
  {
   "cell_type": "code",
   "execution_count": null,
   "id": "da58d3e6-c81f-483c-add4-9b4e4395ce3f",
   "metadata": {},
   "outputs": [],
   "source": [
    "def person_name( firstname , lastname ,*args):\n",
    "    total = \"hlo\" + \" \"+ (firstname + \" \" + lastname)\n",
    "    sum = 0 \n",
    "    for i in args:\n",
    "        sum += i \n",
    "        \n",
    "    return (f\"{total} your sum is {sum}\")\n",
    "    \n"
   ]
  },
  {
   "cell_type": "code",
   "execution_count": null,
   "id": "06e5b57b-944d-41ee-9635-a75798e99c05",
   "metadata": {},
   "outputs": [],
   "source": [
    "person_name(\"devannsh\" ,\"saini\",12,34)"
   ]
  },
  {
   "cell_type": "code",
   "execution_count": null,
   "id": "d0ca41df-6450-4c2b-b458-053180238de0",
   "metadata": {},
   "outputs": [],
   "source": [
    "print(\"rohit\",\"rahul\")\n"
   ]
  },
  {
   "cell_type": "code",
   "execution_count": null,
   "id": "4bfaec99-8da7-4df5-8c35-116a984e543c",
   "metadata": {},
   "outputs": [],
   "source": [
    "def my_function(city = \"Noida\"):\n",
    "    return f\"Hi your location will be {city}\"\n",
    "    "
   ]
  },
  {
   "cell_type": "code",
   "execution_count": null,
   "id": "71ffda64-bb33-4657-b840-7324b036fa2e",
   "metadata": {},
   "outputs": [],
   "source": [
    "my_function(city = \"Delhi\")"
   ]
  },
  {
   "cell_type": "code",
   "execution_count": null,
   "id": "36950bf4-0f7f-4b0c-ac43-b3bc83cffb6a",
   "metadata": {},
   "outputs": [],
   "source": [
    "def my_function(first_name,city = \"Noida\"):\n",
    "    return f\"Hi {first_name} location will be {city}\"\n",
    "    "
   ]
  },
  {
   "cell_type": "code",
   "execution_count": null,
   "id": "ee28bf1e-cdea-483e-8a6c-9c62c2f85324",
   "metadata": {},
   "outputs": [],
   "source": [
    "my_function(\"rohit\",city = \"Delhi\")"
   ]
  },
  {
   "cell_type": "code",
   "execution_count": null,
   "id": "ac19689c-d5a3-4549-a6a8-514f2a006b43",
   "metadata": {},
   "outputs": [],
   "source": [
    "def my_function(*args,first_name,city = \"noida\"):\n",
    "    print(f\"Hi your first name is {first_name}\")\n",
    "    print(f\"total of your numbers is {sum(args)}\")\n",
    "    print(f\"your city is {city}\")\n",
    "   \n",
    "    return None\n",
    "    "
   ]
  },
  {
   "cell_type": "code",
   "execution_count": null,
   "id": "4faf3e54-c58b-42f3-8036-895c96406364",
   "metadata": {},
   "outputs": [],
   "source": [
    "my_function(\"ROHIT\",1,2,3,3,4,5,2,city = \"Delhi\")"
   ]
  },
  {
   "cell_type": "code",
   "execution_count": null,
   "id": "a3a323ce-36dd-49bd-b0b4-01293d761c7c",
   "metadata": {},
   "outputs": [],
   "source": [
    "**kwargs"
   ]
  },
  {
   "cell_type": "code",
   "execution_count": null,
   "id": "342cefbc-a8ed-4990-9771-219d29e07824",
   "metadata": {},
   "outputs": [],
   "source": [
    "def my_function(**kwargs):\n",
    "    # print(f\"you name is {kwargs.get(\"name3\")}\")\n",
    "    \n",
    "    # for key,value in kwargs.items():\n",
    "    #     print(key,value)\n",
    "\n",
    "    \n",
    "    \n",
    "\n",
    "    return f\"you name is {kwargs.get(\"name3\")}\"\n",
    "\n",
    "my_function(name = \"ROhit\",name2=\"Rishi\",name3 = \"Rajeev\")"
   ]
  },
  {
   "cell_type": "code",
   "execution_count": null,
   "id": "9c6966d3-300d-4178-9fa6-54960f7b67d1",
   "metadata": {},
   "outputs": [],
   "source": [
    "kwargs = {'name': 'ROhit', 'name2': 'Rishi', 'name3': 'Rajeev'}"
   ]
  },
  {
   "cell_type": "code",
   "execution_count": null,
   "id": "9aeab9b2-6351-488a-ada4-838cca3568f1",
   "metadata": {},
   "outputs": [],
   "source": [
    "kwargs.get(\"name3\")"
   ]
  },
  {
   "cell_type": "code",
   "execution_count": null,
   "id": "a375aa73-ac12-4f33-bd3f-38e2dad0d5c5",
   "metadata": {},
   "outputs": [],
   "source": [
    "kwargs[\"name3\"]"
   ]
  },
  {
   "cell_type": "code",
   "execution_count": null,
   "id": "eea8e4e7-562b-42e4-a187-6d1f64a1824b",
   "metadata": {},
   "outputs": [],
   "source": [
    "for value in kwargs.values():\n",
    "    print(value)"
   ]
  },
  {
   "cell_type": "code",
   "execution_count": null,
   "id": "64c8685f-8648-4b8b-b6b8-5ecc6db112c1",
   "metadata": {},
   "outputs": [],
   "source": [
    "list(kwargs.values())[2]"
   ]
  },
  {
   "cell_type": "code",
   "execution_count": null,
   "id": "68c7a7f4-a596-484b-b5ad-32d08a3b3921",
   "metadata": {},
   "outputs": [],
   "source": []
  }
 ],
 "metadata": {
  "kernelspec": {
   "display_name": "Python 3 (ipykernel)",
   "language": "python",
   "name": "python3"
  },
  "language_info": {
   "codemirror_mode": {
    "name": "ipython",
    "version": 3
   },
   "file_extension": ".py",
   "mimetype": "text/x-python",
   "name": "python",
   "nbconvert_exporter": "python",
   "pygments_lexer": "ipython3",
   "version": "3.11.7"
  }
 },
 "nbformat": 4,
 "nbformat_minor": 5
}
