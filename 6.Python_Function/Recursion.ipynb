{
 "cells": [
  {
   "cell_type": "markdown",
   "id": "e52cbb83",
   "metadata": {},
   "source": [
    "# Recursion"
   ]
  },
  {
   "cell_type": "markdown",
   "id": "fe67dcfb",
   "metadata": {},
   "source": [
    "Recursion in Python refers to a programming technique where a function calls itself in order to solve a problem. "
   ]
  },
  {
   "cell_type": "markdown",
   "id": "ee4ef32a",
   "metadata": {},
   "source": [
    "Here are the key aspects of recursion in Python:"
   ]
  },
  {
   "cell_type": "markdown",
   "id": "b7cab127",
   "metadata": {},
   "source": [
    "1. first will try to find the factorial of a given number with inbuilt method:"
   ]
  },
  {
   "cell_type": "code",
   "execution_count": 2,
   "id": "6f42a7e6",
   "metadata": {},
   "outputs": [
    {
     "data": {
      "text/plain": [
       "120"
      ]
     },
     "execution_count": 2,
     "metadata": {},
     "output_type": "execute_result"
    }
   ],
   "source": [
    "import math\n",
    "math.factorial(5)"
   ]
  },
  {
   "cell_type": "markdown",
   "id": "06c0c54d",
   "metadata": {},
   "source": [
    "2.Second we will create our own function "
   ]
  },
  {
   "cell_type": "code",
   "execution_count": 9,
   "id": "76d361a3",
   "metadata": {
    "scrolled": true
   },
   "outputs": [
    {
     "data": {
      "text/plain": [
       "120"
      ]
     },
     "execution_count": 9,
     "metadata": {},
     "output_type": "execute_result"
    }
   ],
   "source": [
    "def my_factorial(n):\n",
    "    factorial = 1\n",
    "    if n==0 or n==1:\n",
    "        return 1\n",
    "    \n",
    "    else:\n",
    "        for i in range(1,n+1):\n",
    "            factorial = factorial*i\n",
    "        \n",
    "    return factorial\n",
    "        \n",
    "        \n",
    "my_factorial(5) "
   ]
  },
  {
   "cell_type": "markdown",
   "id": "7bbac9d3",
   "metadata": {},
   "source": [
    "3. Lets try to do this with recursion"
   ]
  },
  {
   "cell_type": "code",
   "execution_count": 1,
   "id": "a4be0d1f",
   "metadata": {},
   "outputs": [
    {
     "data": {
      "text/plain": [
       "120"
      ]
     },
     "execution_count": 1,
     "metadata": {},
     "output_type": "execute_result"
    }
   ],
   "source": [
    "def factorail(n):\n",
    "    if n==0 or n==1:\n",
    "        return 1\n",
    "    else:\n",
    "        return n*factorail(n-1)\n",
    "    \n",
    "factorail(5)    "
   ]
  },
  {
   "cell_type": "code",
   "execution_count": null,
   "id": "7f33b63f",
   "metadata": {},
   "outputs": [],
   "source": []
  },
  {
   "cell_type": "code",
   "execution_count": null,
   "id": "e3128e08",
   "metadata": {},
   "outputs": [],
   "source": []
  }
 ],
 "metadata": {
  "kernelspec": {
   "display_name": "Python 3 (ipykernel)",
   "language": "python",
   "name": "python3"
  },
  "language_info": {
   "codemirror_mode": {
    "name": "ipython",
    "version": 3
   },
   "file_extension": ".py",
   "mimetype": "text/x-python",
   "name": "python",
   "nbconvert_exporter": "python",
   "pygments_lexer": "ipython3",
   "version": "3.11.5"
  }
 },
 "nbformat": 4,
 "nbformat_minor": 5
}
