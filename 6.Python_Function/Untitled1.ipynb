{
 "cells": [
  {
   "cell_type": "code",
   "execution_count": 10,
   "id": "93e4c05b-8c53-4c21-bb54-86cea09fded7",
   "metadata": {},
   "outputs": [
    {
     "name": "stdout",
     "output_type": "stream",
     "text": [
      "rohit rohit\n",
      "rohit\n"
     ]
    }
   ],
   "source": [
    "print(\"rohit\",end=' ')\n",
    "print(\"rohit\")\n",
    "print(\"rohit\")"
   ]
  },
  {
   "cell_type": "code",
   "execution_count": 15,
   "id": "932a3025-e4b3-42a1-a3e4-d69403958208",
   "metadata": {},
   "outputs": [
    {
     "data": {
      "text/plain": [
       "120"
      ]
     },
     "execution_count": 15,
     "metadata": {},
     "output_type": "execute_result"
    }
   ],
   "source": [
    "import math\n",
    "math.factorial(5)"
   ]
  },
  {
   "cell_type": "code",
   "execution_count": 16,
   "id": "b6deda94-adaf-44ad-bd52-c7600b4558a7",
   "metadata": {},
   "outputs": [
    {
     "ename": "NameError",
     "evalue": "name 'factorial' is not defined",
     "output_type": "error",
     "traceback": [
      "\u001b[1;31m---------------------------------------------------------------------------\u001b[0m",
      "\u001b[1;31mNameError\u001b[0m                                 Traceback (most recent call last)",
      "Cell \u001b[1;32mIn[16], line 1\u001b[0m\n\u001b[1;32m----> 1\u001b[0m factorial(\u001b[38;5;241m5\u001b[39m)\n",
      "\u001b[1;31mNameError\u001b[0m: name 'factorial' is not defined"
     ]
    }
   ],
   "source": [
    "factorial(5)"
   ]
  },
  {
   "cell_type": "code",
   "execution_count": 27,
   "id": "a0d6fd28-ec36-4d76-9451-14f156b5048c",
   "metadata": {},
   "outputs": [],
   "source": [
    "def rohit_function():\n",
    "    a= 2+2\n",
    "    print(a)\n",
    "    print(4+5)\n",
    "    print(f\"hi your total is {2+5}\")"
   ]
  },
  {
   "cell_type": "code",
   "execution_count": 28,
   "id": "428868c8-1d3d-45e1-a961-3bbddc903157",
   "metadata": {},
   "outputs": [
    {
     "name": "stdout",
     "output_type": "stream",
     "text": [
      "4\n",
      "9\n",
      "hi your total is 7\n",
      "None\n"
     ]
    }
   ],
   "source": [
    "print(rohit_function())"
   ]
  },
  {
   "cell_type": "code",
   "execution_count": 30,
   "id": "f8272aca-83e6-420b-a951-522aea070dca",
   "metadata": {},
   "outputs": [
    {
     "name": "stdout",
     "output_type": "stream",
     "text": [
      "4\n",
      "9\n",
      "hi your total is 7\n",
      "None\n"
     ]
    }
   ],
   "source": [
    "print(rohit_function())"
   ]
  },
  {
   "cell_type": "code",
   "execution_count": 35,
   "id": "9a634192-9882-4049-bc81-756c2df255cc",
   "metadata": {},
   "outputs": [
    {
     "data": {
      "text/plain": [
       "'Prints the values to a stream, or to sys.stdout by default.\\n\\n  sep\\n    string inserted between values, default a space.\\n  end\\n    string appended after the last value, default a newline.\\n  file\\n    a file-like object (stream); defaults to the current sys.stdout.\\n  flush\\n    whether to forcibly flush the stream.'"
      ]
     },
     "execution_count": 35,
     "metadata": {},
     "output_type": "execute_result"
    }
   ],
   "source": [
    "print.__doc__"
   ]
  },
  {
   "cell_type": "code",
   "execution_count": 46,
   "id": "7abcb343-aa27-40c2-82a9-89405b6cf6db",
   "metadata": {},
   "outputs": [
    {
     "ename": "TypeError",
     "evalue": "'str' object cannot be interpreted as an integer",
     "output_type": "error",
     "traceback": [
      "\u001b[1;31m---------------------------------------------------------------------------\u001b[0m",
      "\u001b[1;31mTypeError\u001b[0m                                 Traceback (most recent call last)",
      "Cell \u001b[1;32mIn[46], line 2\u001b[0m\n\u001b[0;32m      1\u001b[0m \u001b[38;5;28;01mimport\u001b[39;00m \u001b[38;5;21;01mmath\u001b[39;00m\n\u001b[1;32m----> 2\u001b[0m math\u001b[38;5;241m.\u001b[39mfactorial(\u001b[38;5;124m\"\u001b[39m\u001b[38;5;124m12\u001b[39m\u001b[38;5;124m\"\u001b[39m)\n",
      "\u001b[1;31mTypeError\u001b[0m: 'str' object cannot be interpreted as an integer"
     ]
    }
   ],
   "source": [
    "import math\n",
    "math.factorial(\"12\")"
   ]
  },
  {
   "cell_type": "code",
   "execution_count": 41,
   "id": "4e62afa3-670e-4c88-a7ff-cc220a92d719",
   "metadata": {},
   "outputs": [],
   "source": [
    "def my_add_function():\n",
    "    \"\"\"This function add two numbers\"\"\"\n",
    "    print(2+2)"
   ]
  },
  {
   "cell_type": "code",
   "execution_count": 42,
   "id": "c5858145-a4af-4b84-a519-ec326069c34b",
   "metadata": {},
   "outputs": [
    {
     "data": {
      "text/plain": [
       "'This function add two numbers'"
      ]
     },
     "execution_count": 42,
     "metadata": {},
     "output_type": "execute_result"
    }
   ],
   "source": [
    "my_add_function.__doc__"
   ]
  },
  {
   "cell_type": "code",
   "execution_count": 63,
   "id": "7f8b0fe4-f55a-4e21-b513-73537a32ae5d",
   "metadata": {},
   "outputs": [],
   "source": [
    "def my_mymultiplication(first_number,second_number):\n",
    "    total = first_number+second_number\n",
    "    print(total)\n",
    "    "
   ]
  },
  {
   "cell_type": "code",
   "execution_count": 64,
   "id": "88a66a31-0d79-42dc-866f-fc91894d0c85",
   "metadata": {},
   "outputs": [
    {
     "name": "stdout",
     "output_type": "stream",
     "text": [
      "25\n"
     ]
    }
   ],
   "source": [
    "my_mymultiplication(12,13) "
   ]
  },
  {
   "cell_type": "code",
   "execution_count": 65,
   "id": "d2036bfc-fb89-4707-8db9-f8ffe33565be",
   "metadata": {},
   "outputs": [
    {
     "name": "stdout",
     "output_type": "stream",
     "text": [
      "25\n"
     ]
    },
    {
     "ename": "TypeError",
     "evalue": "unsupported operand type(s) for +: 'NoneType' and 'int'",
     "output_type": "error",
     "traceback": [
      "\u001b[1;31m---------------------------------------------------------------------------\u001b[0m",
      "\u001b[1;31mTypeError\u001b[0m                                 Traceback (most recent call last)",
      "Cell \u001b[1;32mIn[65], line 1\u001b[0m\n\u001b[1;32m----> 1\u001b[0m my_mymultiplication(\u001b[38;5;241m12\u001b[39m,\u001b[38;5;241m13\u001b[39m) \u001b[38;5;241m+\u001b[39m\u001b[38;5;241m13\u001b[39m\n",
      "\u001b[1;31mTypeError\u001b[0m: unsupported operand type(s) for +: 'NoneType' and 'int'"
     ]
    }
   ],
   "source": [
    "my_mymultiplication(12,13) +13"
   ]
  },
  {
   "cell_type": "code",
   "execution_count": 66,
   "id": "af60671f-31b7-4d0a-be7f-4d3cbfba30e3",
   "metadata": {},
   "outputs": [
    {
     "name": "stdout",
     "output_type": "stream",
     "text": [
      "hello\n",
      "None\n"
     ]
    }
   ],
   "source": [
    "print(print(\"hello\"))"
   ]
  },
  {
   "cell_type": "code",
   "execution_count": 92,
   "id": "baccab9b-98a1-4677-b4ea-af4e0c21065d",
   "metadata": {},
   "outputs": [],
   "source": [
    "def this_function(*args):\n",
    "    print(sum(args))\n",
    "    for i in args:\n",
    "        print(i)\n",
    "    return None"
   ]
  },
  {
   "cell_type": "code",
   "execution_count": 93,
   "id": "5e42b2ce-bc01-4567-a461-9b0bab436db6",
   "metadata": {},
   "outputs": [
    {
     "name": "stdout",
     "output_type": "stream",
     "text": [
      "68\n",
      "12\n",
      "13\n",
      "13\n",
      "15\n",
      "15\n"
     ]
    }
   ],
   "source": [
    "this_function(12,13,13,15,15)"
   ]
  },
  {
   "cell_type": "code",
   "execution_count": 69,
   "id": "5bd5fde2-de4e-47dd-b568-3186507b4572",
   "metadata": {},
   "outputs": [
    {
     "name": "stdout",
     "output_type": "stream",
     "text": [
      "\n"
     ]
    }
   ],
   "source": [
    "print()"
   ]
  },
  {
   "cell_type": "code",
   "execution_count": 107,
   "id": "c80c2b44-4d69-4cab-93cb-b97fbdf02f32",
   "metadata": {},
   "outputs": [],
   "source": [
    "def my_function(first_name, last_name,*number):\n",
    "    print(first_name,last_name + \"hello\")"
   ]
  }
 ],
 "metadata": {
  "kernelspec": {
   "display_name": "Python 3 (ipykernel)",
   "language": "python",
   "name": "python3"
  },
  "language_info": {
   "codemirror_mode": {
    "name": "ipython",
    "version": 3
   },
   "file_extension": ".py",
   "mimetype": "text/x-python",
   "name": "python",
   "nbconvert_exporter": "python",
   "pygments_lexer": "ipython3",
   "version": "3.11.7"
  }
 },
 "nbformat": 4,
 "nbformat_minor": 5
}
