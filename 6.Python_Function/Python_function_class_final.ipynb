{
 "cells": [
  {
   "cell_type": "markdown",
   "id": "ea75bff5",
   "metadata": {},
   "source": [
    "# Python Function"
   ]
  },
  {
   "cell_type": "markdown",
   "id": "da5c8daa",
   "metadata": {},
   "source": [
    "In Python, a function is a block of reusable code that performs a specific task. Functions are a fundamental concept in programming that help organize code, promote reusability, and make programs more modular."
   ]
  },
  {
   "cell_type": "markdown",
   "id": "ee09bd15",
   "metadata": {},
   "source": [
    "# Dry concept"
   ]
  },
  {
   "cell_type": "markdown",
   "id": "9b41ec69",
   "metadata": {},
   "source": [
    "DO NOT REPEAT YOURSELF"
   ]
  },
  {
   "cell_type": "markdown",
   "id": "86cef393",
   "metadata": {},
   "source": [
    "# Why do we need function ?"
   ]
  },
  {
   "cell_type": "markdown",
   "id": "c70c3794",
   "metadata": {},
   "source": [
    "Modularity: Functions allow you to break down your code into smaller, manageable chunks. Each function can perform a specific task or operation, making the code easier to understand, maintain, and debug. This concept is known as modularity, which promotes code reuse and organization.\n",
    "\n",
    "Code Reusability: Once you define a function, you can call it multiple times from different parts of your program. This promotes code reusability, as you don't need to rewrite the same logic multiple times. Instead, you can call the function wherever you need to perform that particular task.\n",
    "\n",
    "Abstraction: Functions allow you to abstract away complex operations or algorithms behind a simple interface. This means that you can use a function without needing to understand how it is implemented internally. This abstraction level helps to manage the complexity of large programs.\n",
    "\n",
    "Encapsulation: Functions encapsulate a block of code and its associated data into a single unit. This encapsulation helps to organize and manage the complexity of programs by hiding implementation details and providing a clear interface to interact with the code.\n",
    "\n",
    "Testing and Debugging: Functions make it easier to test and debug your code. Since functions isolate specific pieces of functionality, you can test each function independently, making it easier to identify and fix errors. Additionally, modular code is generally easier to debug because you can focus on smaller units of code at a time.\n",
    "\n",
    "Improved Readability: Well-named functions can serve as documentation for your code, providing descriptive names for the operations they perform. This improves the readability and maintainability of your code, as it becomes easier for other developers (and yourself) to understand the purpose of each function and how they interact.\n",
    "\n",
    "Overall, functions play a crucial role in Python programming by promoting modularity, code reusability, abstraction, encapsulation, testing, debugging, and readability. They help to organize code effectively and make it easier to develop and maintain complex software systems."
   ]
  },
  {
   "cell_type": "markdown",
   "id": "c44ac372",
   "metadata": {},
   "source": [
    "# Lets take an example..."
   ]
  },
  {
   "cell_type": "code",
   "execution_count": 1,
   "id": "e9076e45",
   "metadata": {},
   "outputs": [
    {
     "name": "stdout",
     "output_type": "stream",
     "text": [
      "This is ROhit detail\n",
      "This is Sachin detail\n",
      "This is Shiv detail\n"
     ]
    }
   ],
   "source": [
    "name = \"ROhit\"\n",
    "print(f\"This is {name} detail\")\n",
    "\n",
    "name2 = \"Sachin\"\n",
    "print(f\"This is {name2} detail\")\n",
    "\n",
    "name3 = \"Shiv\"\n",
    "print(f\"This is {name3} detail\")"
   ]
  },
  {
   "cell_type": "markdown",
   "id": "a20aff04",
   "metadata": {},
   "source": [
    "in above program if we want only shiv details only but we are getting all details together. \n",
    "\n",
    "so whats the solution for this...\n",
    "\n",
    "with the help of function we can solve it\n",
    "\n",
    "lets see how"
   ]
  },
  {
   "cell_type": "code",
   "execution_count": 2,
   "id": "ae3e44b2",
   "metadata": {},
   "outputs": [],
   "source": [
    "def rohit_deatils():\n",
    "    name = \"ROhit\"\n",
    "    print(f\"This is {name} details\")\n",
    "    \n",
    "def sachin_details():\n",
    "    name2 = \"Sachin\"\n",
    "    print(f\"This is {name2} details\")\n",
    "    \n",
    "def shiv_details():\n",
    "    name3 = \"Shiv\"\n",
    "    print(f\"This is {name3} details\")\n",
    "    \n",
    "    \n",
    "    \n",
    "    "
   ]
  },
  {
   "cell_type": "markdown",
   "id": "f42e9a07",
   "metadata": {},
   "source": [
    "Now i we want the details for shiv only so we can call shiv_detials function..."
   ]
  },
  {
   "cell_type": "code",
   "execution_count": 3,
   "id": "e9372b7e",
   "metadata": {},
   "outputs": [
    {
     "name": "stdout",
     "output_type": "stream",
     "text": [
      "This is Shiv details\n",
      "None\n"
     ]
    }
   ],
   "source": [
    "print(shiv_details())"
   ]
  },
  {
   "cell_type": "markdown",
   "id": "be341326",
   "metadata": {},
   "source": [
    "# Note : So, when you call print(shiv_details()), you're printing the return value of the function, which is None."
   ]
  },
  {
   "cell_type": "code",
   "execution_count": null,
   "id": "97087504",
   "metadata": {},
   "outputs": [],
   "source": []
  },
  {
   "cell_type": "markdown",
   "id": "695ce7c3",
   "metadata": {},
   "source": [
    "The reason you're getting None in the output is because the shiv_details() function itself doesn't explicitly return anything. In Python, when a function doesn't have a return statement, it implicitly returns None."
   ]
  },
  {
   "cell_type": "code",
   "execution_count": 4,
   "id": "7b326420",
   "metadata": {},
   "outputs": [
    {
     "name": "stdout",
     "output_type": "stream",
     "text": [
      "This is Shiv details\n"
     ]
    }
   ],
   "source": [
    "def shiv_details():\n",
    "    name3 = \"Shiv\"\n",
    "    return f\"This is {name3} details\"\n",
    "\n",
    "print(shiv_details())"
   ]
  },
  {
   "cell_type": "markdown",
   "id": "61e44e2a",
   "metadata": {},
   "source": [
    "When you call shiv_details(), it executes the code inside the function, which is to print the details. However, the function doesn't explicitly return any value. Therefore, it implicitly returns None.\n",
    "\n",
    "So, when you call print(shiv_details()), you're printing the return value of the function, which is None.\n",
    "\n",
    "If you want the function to return something that you can print, you need to use a return statement inside the function. For example:"
   ]
  },
  {
   "cell_type": "markdown",
   "id": "8ffa0a39",
   "metadata": {},
   "source": [
    "# Introduction to Python Functions"
   ]
  },
  {
   "cell_type": "markdown",
   "id": "383fdad2",
   "metadata": {},
   "source": [
    "You can define a function in Python using the def keyword followed by the function name and parentheses ( ), which may contain parameters. The basic syntax looks like this:"
   ]
  },
  {
   "cell_type": "code",
   "execution_count": 1,
   "id": "43f1c852",
   "metadata": {},
   "outputs": [],
   "source": [
    "def function_name(parameters):\n",
    "    \"\"\"Optional docstring\"\"\"\n",
    "    # Function body\n",
    "    # Perform tasks here\n",
    "    return [expression] # Optional return statement\n"
   ]
  },
  {
   "cell_type": "markdown",
   "id": "6d4b39c6",
   "metadata": {},
   "source": [
    "function_name: This is the name of the function. It should be descriptive and follow Python's identifier naming rules.\n",
    "\n",
    "\n",
    "\n",
    "\n",
    "parameters: These are optional inputs that the function can accept. They are placeholders for the values that will be passed to the function when it is called.\n",
    "\n",
    "\n",
    "\n",
    "docstring: This is an optional string that describes what the function does. It is enclosed in triple quotes and serves as documentation for the function.\n",
    "\n",
    "\n",
    "\n",
    "Function body: This is the block of code inside the function that performs the desired tasks.\n",
    "\n",
    "\n",
    "\n",
    "return statement: This is optional and is used to return a value from the function. If omitted, the function returns None by default."
   ]
  },
  {
   "cell_type": "markdown",
   "id": "5f3767cc",
   "metadata": {},
   "source": [
    "# pass key word"
   ]
  },
  {
   "cell_type": "markdown",
   "id": "ac5c268f",
   "metadata": {},
   "source": [
    "TO fill up the empty blocks we use pass keyword"
   ]
  },
  {
   "cell_type": "markdown",
   "id": "78016470",
   "metadata": {},
   "source": [
    "For example we have defined a function but we have not done with implementation part. Than we can use pass keyword to avoid error"
   ]
  },
  {
   "cell_type": "code",
   "execution_count": 2,
   "id": "eddef3ee",
   "metadata": {},
   "outputs": [],
   "source": [
    "def my_funtion(first_name,last_name):\n",
    "    \n",
    "    \n",
    "\n",
    "    \n",
    "    pass\n",
    "\n",
    "\n",
    "\n",
    "#The pass Statement\n",
    "# function definitions cannot be empty, but if, for some reason you have a function definition with no content,\n",
    "# put the pass statement to avoid getting an error.\n",
    "#Example\n"
   ]
  },
  {
   "cell_type": "markdown",
   "id": "aa34a3ce",
   "metadata": {},
   "source": [
    "# Parameters or Arguments?"
   ]
  },
  {
   "cell_type": "markdown",
   "id": "31d75167",
   "metadata": {},
   "source": [
    "From a function's perspective:\n",
    "\n",
    "A parameter is the variable listed inside the parentheses in the function definition.\n",
    "\n",
    "\n",
    "\n",
    "An argument is the value that are sent to the function when it is called."
   ]
  },
  {
   "cell_type": "markdown",
   "id": "8d13ae43",
   "metadata": {},
   "source": [
    "# Calling a Function"
   ]
  },
  {
   "cell_type": "code",
   "execution_count": 9,
   "id": "3dfed367",
   "metadata": {},
   "outputs": [],
   "source": [
    "def my_function(first_name,last_name):\n",
    "    \n",
    "    return f\"Hi {first_name} {last_name}\"\n",
    "\n"
   ]
  },
  {
   "cell_type": "code",
   "execution_count": 10,
   "id": "4d909a2e",
   "metadata": {},
   "outputs": [
    {
     "name": "stdout",
     "output_type": "stream",
     "text": [
      "Hi ROhit Tyagi\n"
     ]
    }
   ],
   "source": [
    "print(my_function(\"ROhit\",\"Tyagi\"))"
   ]
  },
  {
   "cell_type": "markdown",
   "id": "5945a188",
   "metadata": {},
   "source": [
    "# Difference Between Method and function"
   ]
  },
  {
   "cell_type": "markdown",
   "id": "39ff8bfa",
   "metadata": {},
   "source": [
    "Function:::::::::::::::::"
   ]
  },
  {
   "cell_type": "markdown",
   "id": "3db5886e",
   "metadata": {},
   "source": [
    "# "
   ]
  },
  {
   "cell_type": "markdown",
   "id": "a2c07761",
   "metadata": {},
   "source": [
    "Functions and methods are both blocks of code that can be called to perform a specific task, but they have different contexts and characteristics:"
   ]
  },
  {
   "cell_type": "markdown",
   "id": "e9d846db",
   "metadata": {},
   "source": [
    "Functions are standalone blocks of code that can be defined and called independently of any particular object or class.\n",
    "They are defined using the def keyword and can accept arguments.\n",
    "\n",
    "\n",
    "Functions can be called by their names, followed by parentheses containing any necessary arguments.\n",
    "\n",
    "\n",
    "\n",
    "\n",
    "Example:"
   ]
  },
  {
   "cell_type": "code",
   "execution_count": 11,
   "id": "5b6a9dd9",
   "metadata": {},
   "outputs": [
    {
     "name": "stdout",
     "output_type": "stream",
     "text": [
      "Hello, Rohit!\n"
     ]
    }
   ],
   "source": [
    "def greet(name):\n",
    "    print(\"Hello, \" + name + \"!\")\n",
    "\n",
    "greet(\"Rohit\")\n"
   ]
  },
  {
   "cell_type": "markdown",
   "id": "ee402f4b",
   "metadata": {},
   "source": [
    "Method::::::::::::"
   ]
  },
  {
   "cell_type": "markdown",
   "id": "fc4c4702",
   "metadata": {},
   "source": [
    "# "
   ]
  },
  {
   "cell_type": "markdown",
   "id": "5b4119b0",
   "metadata": {},
   "source": [
    "Methods are functions that are associated with objects or classes.\n",
    "\n",
    "\n",
    "They are defined within a class and are called on instances of that class (object) or on the class itself.\n",
    "\n",
    "\n",
    "Methods are accessed using dot notation, with an instance of the class or the class itself followed by a dot (.) and the method name, optionally followed by parentheses containing any necessary arguments.\n",
    "\n",
    "\n",
    "Example:"
   ]
  },
  {
   "cell_type": "code",
   "execution_count": 12,
   "id": "2e6d3c79",
   "metadata": {},
   "outputs": [
    {
     "name": "stdout",
     "output_type": "stream",
     "text": [
      "Woof!\n"
     ]
    }
   ],
   "source": [
    "class Dog:\n",
    "    def bark(self):\n",
    "        print(\"Woof!\")\n",
    "\n",
    "my_dog = Dog()\n",
    "my_dog.bark()\n"
   ]
  },
  {
   "cell_type": "markdown",
   "id": "c16d0398",
   "metadata": {},
   "source": [
    "# Default Parameter Value"
   ]
  },
  {
   "cell_type": "code",
   "execution_count": 18,
   "id": "327ac6fc",
   "metadata": {},
   "outputs": [
    {
     "data": {
      "text/plain": [
       "'Hi ROhit Kumar. you will be joining Noida'"
      ]
     },
     "execution_count": 18,
     "metadata": {},
     "output_type": "execute_result"
    }
   ],
   "source": [
    "# somtimes we want to use default parameter values if not provided. lets see how....\n",
    "\n",
    "def my_function(first_name,last_name,city=\"Noida\"): # this function will ask all three value \n",
    "    return f\"Hi {first_name} {last_name}. you will be joining {city}\"\n",
    "\n",
    "my_function(\"ROhit\",\"Kumar\",)"
   ]
  },
  {
   "cell_type": "markdown",
   "id": "bb69d69e",
   "metadata": {},
   "source": [
    "# Introduction to *args and **kwargs    "
   ]
  },
  {
   "cell_type": "markdown",
   "id": "f75a8fb5",
   "metadata": {},
   "source": [
    "In Python, *args and **kwargs are special syntax used in function definitions to handle variable numbers of arguments."
   ]
  },
  {
   "cell_type": "markdown",
   "id": "373b4642",
   "metadata": {},
   "source": [
    "# *args:"
   ]
  },
  {
   "cell_type": "markdown",
   "id": "7127876a",
   "metadata": {},
   "source": [
    "1.*args allows a function to accept an arbitrary number of positional arguments."
   ]
  },
  {
   "cell_type": "markdown",
   "id": "723f052f",
   "metadata": {},
   "source": [
    "2.The *args parameter collects all the positional arguments passed to the function into a tuple."
   ]
  },
  {
   "cell_type": "markdown",
   "id": "1f7df1a9",
   "metadata": {},
   "source": [
    "3.You can name *args anything you want, but it's a convention to use *args to make your code more readable."
   ]
  },
  {
   "cell_type": "markdown",
   "id": "ce6c09ad",
   "metadata": {},
   "source": [
    "4.You can use *args along with other named parameters, but *args must come last in the parameter list."
   ]
  },
  {
   "cell_type": "markdown",
   "id": "43b1d9b5",
   "metadata": {},
   "source": [
    "Example :"
   ]
  },
  {
   "cell_type": "code",
   "execution_count": 23,
   "id": "e5797f49",
   "metadata": {},
   "outputs": [
    {
     "name": "stdout",
     "output_type": "stream",
     "text": [
      "<class 'tuple'>\n",
      "This is:  1\n",
      "This is:  2\n",
      "This is:  3\n",
      "This is:  4\n",
      "This is:  5\n"
     ]
    }
   ],
   "source": [
    "def my_function(*args):\n",
    "    print(type(args))\n",
    "    for arg in args:\n",
    "        print(\"This is: \",arg)\n",
    "\n",
    "my_function(1, 2, 3, 4, 5)  \n"
   ]
  },
  {
   "cell_type": "code",
   "execution_count": 38,
   "id": "2900fd6f",
   "metadata": {},
   "outputs": [],
   "source": [
    "# args wtih one parameter\n",
    "\n",
    "def my_function(first_name,*args):\n",
    "    print(f\"Hi {first_name} your numbers are {args}\")\n",
    "        \n",
    "\n"
   ]
  },
  {
   "cell_type": "code",
   "execution_count": 41,
   "id": "2363e91a",
   "metadata": {},
   "outputs": [
    {
     "ename": "TypeError",
     "evalue": "my_function() missing 1 required positional argument: 'first_name'",
     "output_type": "error",
     "traceback": [
      "\u001b[1;31m---------------------------------------------------------------------------\u001b[0m",
      "\u001b[1;31mTypeError\u001b[0m                                 Traceback (most recent call last)",
      "Cell \u001b[1;32mIn[41], line 1\u001b[0m\n\u001b[1;32m----> 1\u001b[0m my_function()\n",
      "\u001b[1;31mTypeError\u001b[0m: my_function() missing 1 required positional argument: 'first_name'"
     ]
    }
   ],
   "source": [
    "my_function()  # this will thow an error because you need to pass atleast one parameter"
   ]
  },
  {
   "cell_type": "code",
   "execution_count": 42,
   "id": "a8487e5f",
   "metadata": {},
   "outputs": [
    {
     "name": "stdout",
     "output_type": "stream",
     "text": [
      "Hi Rohit your numbers are (12, 34, 45)\n"
     ]
    }
   ],
   "source": [
    "my_function(\"Rohit\",12,34,45) "
   ]
  },
  {
   "cell_type": "markdown",
   "id": "679ebe34",
   "metadata": {},
   "source": [
    "# **kwargs:"
   ]
  },
  {
   "cell_type": "markdown",
   "id": "f8038c5b",
   "metadata": {},
   "source": [
    "1.**kwargs allows a function to accept an arbitrary number of keyword arguments (i.e., arguments passed with names)."
   ]
  },
  {
   "cell_type": "markdown",
   "id": "dd5cd28a",
   "metadata": {},
   "source": [
    "2.The **kwargs parameter collects all the keyword arguments passed to the function into a dictionary where the keys are the argument names and the values are the argument values."
   ]
  },
  {
   "cell_type": "markdown",
   "id": "d22ea93f",
   "metadata": {},
   "source": [
    "3.You can name **kwargs anything you want, but it's a convention to use **kwargs to make your code more readable."
   ]
  },
  {
   "cell_type": "markdown",
   "id": "e797e508",
   "metadata": {},
   "source": [
    "4.Like *args, you can use **kwargs along with other named parameters, but **kwargs must come last in the parameter list."
   ]
  },
  {
   "cell_type": "code",
   "execution_count": 44,
   "id": "1917e1e7",
   "metadata": {},
   "outputs": [],
   "source": [
    "def my_function(**kwargs):\n",
    "    for key,value in kwargs.items():\n",
    "        print(key,value)\n",
    "        \n",
    "my_function()        "
   ]
  },
  {
   "cell_type": "code",
   "execution_count": 46,
   "id": "f03ac131",
   "metadata": {},
   "outputs": [
    {
     "name": "stdout",
     "output_type": "stream",
     "text": [
      "Name Rohit\n",
      "Class Python\n",
      "City Noida\n"
     ]
    }
   ],
   "source": [
    "my_function(Name=\"Rohit\",Class=\"Python\",City=\"Noida\")"
   ]
  },
  {
   "cell_type": "markdown",
   "id": "9c42a959",
   "metadata": {},
   "source": [
    "# Using *args and **kwargs together:"
   ]
  },
  {
   "cell_type": "markdown",
   "id": "df3d1122",
   "metadata": {},
   "source": [
    "You can use *args and **kwargs together in the same function definition to accept any combination of positional and keyword arguments."
   ]
  },
  {
   "cell_type": "code",
   "execution_count": 49,
   "id": "02005169",
   "metadata": {},
   "outputs": [
    {
     "name": "stdout",
     "output_type": "stream",
     "text": [
      "1\n",
      "2\n",
      "3\n",
      "name Rohit\n",
      "Class Python\n"
     ]
    }
   ],
   "source": [
    "def my_function(*args, **kwargs):\n",
    "    for arg in args:\n",
    "        print(arg)\n",
    "    for key, value in kwargs.items():\n",
    "        print(key, value)\n",
    "\n",
    "my_function(1, 2, 3, name=\"Rohit\", Class=\"Python\")  \n"
   ]
  },
  {
   "cell_type": "markdown",
   "id": "d9c7b08c",
   "metadata": {},
   "source": [
    "# global keyword"
   ]
  },
  {
   "cell_type": "code",
   "execution_count": 58,
   "id": "68aca587",
   "metadata": {},
   "outputs": [
    {
     "name": "stdout",
     "output_type": "stream",
     "text": [
      "My name is rohit\n"
     ]
    },
    {
     "ename": "NameError",
     "evalue": "name 'name' is not defined",
     "output_type": "error",
     "traceback": [
      "\u001b[1;31m---------------------------------------------------------------------------\u001b[0m",
      "\u001b[1;31mNameError\u001b[0m                                 Traceback (most recent call last)",
      "Cell \u001b[1;32mIn[58], line 12\u001b[0m\n\u001b[0;32m      7\u001b[0m     \u001b[38;5;28;01mreturn\u001b[39;00m \u001b[38;5;124mf\u001b[39m\u001b[38;5;124m\"\u001b[39m\u001b[38;5;124mMy name is \u001b[39m\u001b[38;5;132;01m{\u001b[39;00mname\u001b[38;5;132;01m}\u001b[39;00m\u001b[38;5;124m\"\u001b[39m\n\u001b[0;32m     10\u001b[0m \u001b[38;5;28mprint\u001b[39m(my_function())   \n\u001b[1;32m---> 12\u001b[0m \u001b[38;5;28mprint\u001b[39m(name)\n",
      "\u001b[1;31mNameError\u001b[0m: name 'name' is not defined"
     ]
    }
   ],
   "source": [
    "\n",
    "def my_function():\n",
    "    \n",
    "    name = \"rohit\"\n",
    "    \n",
    "#     print(f\"My name is {name}\")\n",
    "    \n",
    "    return f\"My name is {name}\"\n",
    "    \n",
    "    \n",
    "print(my_function())   \n",
    "\n",
    "print(name) # will throw an error because it is local varaible "
   ]
  },
  {
   "cell_type": "markdown",
   "id": "0a333856",
   "metadata": {},
   "source": [
    "To access this varaibe outsite of the class you need to make it global"
   ]
  },
  {
   "cell_type": "code",
   "execution_count": 61,
   "id": "bc75550e",
   "metadata": {},
   "outputs": [
    {
     "name": "stdout",
     "output_type": "stream",
     "text": [
      "My name is rohit\n",
      "rohit\n"
     ]
    }
   ],
   "source": [
    "def my_function():\n",
    "    global name\n",
    "    \n",
    "    name = \"rohit\"\n",
    "    \n",
    "#     print(f\"My name is {name}\")\n",
    "    \n",
    "    return f\"My name is {name}\"\n",
    "    \n",
    "    \n",
    "print(my_function())   \n",
    "\n",
    "print(name) # will throw an error because it is local varaible "
   ]
  },
  {
   "cell_type": "markdown",
   "id": "1aadfc7f",
   "metadata": {},
   "source": [
    "# Nested function"
   ]
  },
  {
   "cell_type": "code",
   "execution_count": 66,
   "id": "dfcf27e2",
   "metadata": {},
   "outputs": [
    {
     "name": "stdout",
     "output_type": "stream",
     "text": [
      "Outer function\n",
      "Inner function\n"
     ]
    }
   ],
   "source": [
    "def outer_function():\n",
    "    print(\"Outer function\")\n",
    "\n",
    "    def inner_function():\n",
    "        print(\"Inner function\")\n",
    "\n",
    "    inner_function()\n",
    "\n",
    "outer_function()\n",
    "\n"
   ]
  },
  {
   "cell_type": "code",
   "execution_count": 1,
   "id": "ec3c2255",
   "metadata": {},
   "outputs": [
    {
     "name": "stdout",
     "output_type": "stream",
     "text": [
      "Score in Digital_Image_Processing = 78\n",
      "Score in Microprocessor = 79\n",
      "Score in Signals_and_systems = 83\n",
      "\n",
      "total marks obtained 240\n"
     ]
    }
   ],
   "source": [
    "def marks_in_subjects_of_semester(**kwargs):\n",
    "    def total_marks(marks_list):\n",
    "        return sum(marks_list)\n",
    "    \n",
    "    marks_list = list()\n",
    "    for subject, marks in kwargs.items():\n",
    "        marks_list.append(marks)\n",
    "        print(f\"Score in {subject} = {marks}\")\n",
    "    \n",
    "    return total_marks(marks_list)\n",
    "\n",
    "results = marks_in_subjects_of_semester(Digital_Image_Processing = 78, Microprocessor= 79, Signals_and_systems=83)\n",
    "\n",
    "print(f\"\\ntotal marks obtained {results}\")"
   ]
  },
  {
   "cell_type": "markdown",
   "id": "9fb479dc-7b53-422f-8fff-fb76f84818c1",
   "metadata": {},
   "source": [
    "# Using all parameters today."
   ]
  },
  {
   "cell_type": "code",
   "execution_count": 2,
   "id": "8a8e9c80-f306-47aa-a754-6484d7e20da4",
   "metadata": {},
   "outputs": [
    {
     "name": "stdout",
     "output_type": "stream",
     "text": [
      "Hi Rohit we welcome you in Ducat\n",
      "Your email is Rohit.Tyagi@ducat.com\n",
      "Your location for training will be Delhi\n",
      "Your course is :  course ['Mysql', 'Python', 'Java']\n"
     ]
    }
   ],
   "source": [
    "\n",
    "def my_function(name,*args,location = \"Noida-16\",**kwargs):\n",
    "    print(f\"Hi {name} we welcome you in Ducat\")\n",
    "    print(f\"Your email is {name}.{args[0]}@ducat.com\")\n",
    "    print(f\"Your location for training will be {location}\")\n",
    "    for key,value in kwargs.items():\n",
    "        print(\"Your course is : \",key,value)\n",
    "my_function(\"Rohit\",\"Tyagi\",location=\"Delhi\",course = [\"Mysql\",\"Python\",\"Java\"])    "
   ]
  },
  {
   "cell_type": "code",
   "execution_count": null,
   "id": "17d6f5c4-08ae-4002-8ef0-782184c10be6",
   "metadata": {},
   "outputs": [],
   "source": []
  }
 ],
 "metadata": {
  "kernelspec": {
   "display_name": "Python 3 (ipykernel)",
   "language": "python",
   "name": "python3"
  },
  "language_info": {
   "codemirror_mode": {
    "name": "ipython",
    "version": 3
   },
   "file_extension": ".py",
   "mimetype": "text/x-python",
   "name": "python",
   "nbconvert_exporter": "python",
   "pygments_lexer": "ipython3",
   "version": "3.11.7"
  }
 },
 "nbformat": 4,
 "nbformat_minor": 5
}
