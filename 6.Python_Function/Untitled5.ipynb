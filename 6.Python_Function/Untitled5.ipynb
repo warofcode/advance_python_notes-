{
 "cells": [
  {
   "cell_type": "code",
   "execution_count": 1,
   "id": "04d90697-ab39-48e8-a57f-63db062fc59f",
   "metadata": {},
   "outputs": [
    {
     "ename": "TypeError",
     "evalue": "len() takes exactly one argument (0 given)",
     "output_type": "error",
     "traceback": [
      "\u001b[1;31m---------------------------------------------------------------------------\u001b[0m",
      "\u001b[1;31mTypeError\u001b[0m                                 Traceback (most recent call last)",
      "Cell \u001b[1;32mIn[1], line 1\u001b[0m\n\u001b[1;32m----> 1\u001b[0m \u001b[38;5;28mlen\u001b[39m()\n\u001b[0;32m      2\u001b[0m \u001b[38;5;28mprint\u001b[39m()\n\u001b[0;32m      3\u001b[0m strip()\n",
      "\u001b[1;31mTypeError\u001b[0m: len() takes exactly one argument (0 given)"
     ]
    }
   ],
   "source": [
    "len()\n",
    "print()\n",
    "strip()"
   ]
  },
  {
   "cell_type": "code",
   "execution_count": null,
   "id": "fee20fb0-b8e2-4cf2-8a48-e90d51c60fcf",
   "metadata": {},
   "outputs": [],
   "source": [
    "name = \"ROhit\"\n",
    "print(f\"This is {name} detail\")\n",
    "\n",
    "name2 = \"Sachin\"\n",
    "print(f\"This is {name2} detail\")\n",
    "\n",
    "name3 = \"Shiv\"\n",
    "print(f\"This is {name3} detail\")"
   ]
  },
  {
   "cell_type": "code",
   "execution_count": null,
   "id": "f8f19c48-3ffe-407d-9c1a-16724fea3797",
   "metadata": {},
   "outputs": [],
   "source": [
    "name = \"ROhit\"\n",
    "print(f\"This is {name} detail\")\n",
    "\n",
    "name2 = \"Sachin\"\n",
    "print(f\"This is {name2} detail\")\n",
    "\n",
    "name3 = \"Shiv\"\n",
    "print(f\"This is {name3} detail\")"
   ]
  },
  {
   "cell_type": "code",
   "execution_count": null,
   "id": "d915c79c-0063-449b-8f2f-c6c3c07c522c",
   "metadata": {},
   "outputs": [],
   "source": [
    "def rohit_function():\n",
    "    \"\"\"This function has been created to print value for Sachin rohit and shiv\"\"\"\n",
    "    name = \"ROhit\"\n",
    "    print(f\"This is {name} detail\")\n",
    "\n",
    "    name2 = \"Sachin\"\n",
    "    print(f\"This is {name2} detail\")\n",
    "    \n",
    "    name3 = \"Shiv\"\n",
    "    print(f\"This is {name3} detail\")\n",
    "    \n",
    "\n"
   ]
  },
  {
   "cell_type": "code",
   "execution_count": null,
   "id": "60a94382-941e-40c5-b27e-c8b15af1df34",
   "metadata": {},
   "outputs": [],
   "source": [
    "rohit_function()"
   ]
  },
  {
   "cell_type": "code",
   "execution_count": null,
   "id": "5c3ed994-004b-4986-b6c3-56d747726681",
   "metadata": {},
   "outputs": [],
   "source": [
    "rohit_function()"
   ]
  },
  {
   "cell_type": "code",
   "execution_count": null,
   "id": "81b6df51-3e37-48e8-beb8-427a244f610a",
   "metadata": {},
   "outputs": [],
   "source": [
    "rohit_function()"
   ]
  },
  {
   "cell_type": "code",
   "execution_count": null,
   "id": "a858cd58-e942-4f5a-b3a7-4c8869c731e9",
   "metadata": {},
   "outputs": [],
   "source": [
    "import math"
   ]
  },
  {
   "cell_type": "code",
   "execution_count": null,
   "id": "0ceea4f1-bbf5-41f2-b6ec-5949c2933297",
   "metadata": {},
   "outputs": [],
   "source": [
    "math.__doc__"
   ]
  },
  {
   "cell_type": "code",
   "execution_count": null,
   "id": "63322792-5426-475c-8536-9cac0ef1992e",
   "metadata": {},
   "outputs": [],
   "source": [
    "math.factorial.__doc__"
   ]
  },
  {
   "cell_type": "code",
   "execution_count": null,
   "id": "d8961070-5be8-4537-b953-67e3f86cb2aa",
   "metadata": {},
   "outputs": [],
   "source": [
    "rohit_function.__doc__"
   ]
  },
  {
   "cell_type": "code",
   "execution_count": 5,
   "id": "108f8d40-0d55-4dbc-a4c6-939d8a634e05",
   "metadata": {},
   "outputs": [],
   "source": [
    "def my_function():\n",
    "    number1 = 6\n",
    "    number2 = 6\n",
    "    total = number1+number2\n",
    "    print(total)\n",
    "    return total"
   ]
  },
  {
   "cell_type": "code",
   "execution_count": null,
   "id": "ba7b44f7-1780-4012-8e3b-9f558c14083f",
   "metadata": {},
   "outputs": [],
   "source": [
    "my_function()"
   ]
  },
  {
   "cell_type": "code",
   "execution_count": null,
   "id": "8dad3b44-da02-4e11-9908-aa383ee6e22e",
   "metadata": {},
   "outputs": [],
   "source": [
    "result = my_function() +13 "
   ]
  },
  {
   "cell_type": "code",
   "execution_count": null,
   "id": "7b14ac38-527a-48c0-9306-c589cb561db3",
   "metadata": {},
   "outputs": [],
   "source": [
    "print(result)"
   ]
  },
  {
   "cell_type": "code",
   "execution_count": 4,
   "id": "7d435409-cd2b-447f-a49e-24786aad3ed7",
   "metadata": {},
   "outputs": [
    {
     "name": "stdout",
     "output_type": "stream",
     "text": [
      "12\n",
      "None\n",
      "None\n"
     ]
    }
   ],
   "source": [
    "print(print(my_function()))"
   ]
  },
  {
   "cell_type": "code",
   "execution_count": 8,
   "id": "c2a54136-b673-4017-8782-b873ee22caf5",
   "metadata": {},
   "outputs": [
    {
     "name": "stdout",
     "output_type": "stream",
     "text": [
      "this\n"
     ]
    }
   ],
   "source": [
    "print(\"this\")"
   ]
  },
  {
   "cell_type": "code",
   "execution_count": 10,
   "id": "3ce9e8b3-e885-4916-b918-31ab1b41d6ae",
   "metadata": {},
   "outputs": [
    {
     "data": {
      "text/plain": [
       "5"
      ]
     },
     "execution_count": 10,
     "metadata": {},
     "output_type": "execute_result"
    }
   ],
   "source": [
    "len(\"rohit\")"
   ]
  },
  {
   "cell_type": "code",
   "execution_count": 12,
   "id": "0c93500d-0fc1-415a-baf5-87d1fd52691e",
   "metadata": {},
   "outputs": [
    {
     "ename": "TypeError",
     "evalue": "len() takes exactly one argument (0 given)",
     "output_type": "error",
     "traceback": [
      "\u001b[1;31m---------------------------------------------------------------------------\u001b[0m",
      "\u001b[1;31mTypeError\u001b[0m                                 Traceback (most recent call last)",
      "Cell \u001b[1;32mIn[12], line 1\u001b[0m\n\u001b[1;32m----> 1\u001b[0m \u001b[38;5;28mlen\u001b[39m()\n",
      "\u001b[1;31mTypeError\u001b[0m: len() takes exactly one argument (0 given)"
     ]
    }
   ],
   "source": [
    "len()"
   ]
  },
  {
   "cell_type": "code",
   "execution_count": 11,
   "id": "4709e5af-4909-4455-9177-27635a1555d8",
   "metadata": {},
   "outputs": [],
   "source": [
    "def name_take(firstname):\n",
    "    print(f\"hi {firstname} how may i help you\")"
   ]
  },
  {
   "cell_type": "code",
   "execution_count": 15,
   "id": "e0e12488-15bd-4b21-b721-996323663098",
   "metadata": {},
   "outputs": [
    {
     "name": "stdout",
     "output_type": "stream",
     "text": [
      "hi Python how may i help you\n"
     ]
    }
   ],
   "source": [
    "name_take(\"Python\")"
   ]
  },
  {
   "cell_type": "code",
   "execution_count": 20,
   "id": "d8dd6e4e-ddd3-4306-81e2-ef6ca3c782a3",
   "metadata": {},
   "outputs": [],
   "source": [
    "def name_take(firstname):\n",
    "    data = f\"Dear {firstname} We are pleased to offer you the position of Data Science Intern at Rexgalaxy Technology.\"\n",
    "   \n",
    "    with open(\"rohit.txt\",\"w\") as file:\n",
    "        file.write(data)"
   ]
  },
  {
   "cell_type": "code",
   "execution_count": 21,
   "id": "5575d8b3-a94c-4ada-9b32-1e9ee208c1f9",
   "metadata": {},
   "outputs": [],
   "source": [
    "name_take(\"rohit\")"
   ]
  },
  {
   "cell_type": "code",
   "execution_count": 22,
   "id": "1e5a0a4a-28cd-4815-9cf1-af0769acc683",
   "metadata": {},
   "outputs": [
    {
     "data": {
      "text/plain": [
       "'C:\\\\Users\\\\rkt65\\\\Desktop\\\\1Python_RexGalaxy_Clasess\\\\6.Python_Function'"
      ]
     },
     "execution_count": 22,
     "metadata": {},
     "output_type": "execute_result"
    }
   ],
   "source": [
    "pwd"
   ]
  },
  {
   "cell_type": "code",
   "execution_count": null,
   "id": "26268cbe-b689-4821-aa1f-bbcab261967d",
   "metadata": {},
   "outputs": [],
   "source": [
    "positiona argument  mand............\n",
    "arbitrary argument\n",
    "default argument\n",
    "keyword argument"
   ]
  },
  {
   "cell_type": "code",
   "execution_count": 23,
   "id": "6798c9ec-5856-4425-b9ea-df219aa47475",
   "metadata": {},
   "outputs": [
    {
     "ename": "TypeError",
     "evalue": "len() takes exactly one argument (0 given)",
     "output_type": "error",
     "traceback": [
      "\u001b[1;31m---------------------------------------------------------------------------\u001b[0m",
      "\u001b[1;31mTypeError\u001b[0m                                 Traceback (most recent call last)",
      "Cell \u001b[1;32mIn[23], line 1\u001b[0m\n\u001b[1;32m----> 1\u001b[0m \u001b[38;5;28mlen\u001b[39m()\n",
      "\u001b[1;31mTypeError\u001b[0m: len() takes exactly one argument (0 given)"
     ]
    }
   ],
   "source": [
    "len()"
   ]
  },
  {
   "cell_type": "code",
   "execution_count": 24,
   "id": "6735502c-d7bb-4e1c-b92e-b4d66fa9c138",
   "metadata": {},
   "outputs": [
    {
     "name": "stdout",
     "output_type": "stream",
     "text": [
      "\n"
     ]
    }
   ],
   "source": [
    "print()"
   ]
  },
  {
   "cell_type": "code",
   "execution_count": 30,
   "id": "ca3b3462-6ce4-4485-9a46-db0a91d0a190",
   "metadata": {},
   "outputs": [],
   "source": [
    "def name_taker(first_name):\n",
    "    print(\"hello %s\"%(first_name))\n",
    "    print(\"hello {}\".format(first_name))\n",
    "    print(\"hello {0}\".format(first_name))\n",
    "    print(f\"hello {first_name}\")"
   ]
  },
  {
   "cell_type": "code",
   "execution_count": 31,
   "id": "f0a2e309-9827-4679-91e4-22aa13989b5b",
   "metadata": {},
   "outputs": [
    {
     "name": "stdout",
     "output_type": "stream",
     "text": [
      "hello Kartike\n",
      "hello Kartike\n",
      "hello Kartike\n",
      "hello Kartike\n"
     ]
    }
   ],
   "source": [
    "name_taker(\"Kartike\")"
   ]
  },
  {
   "cell_type": "code",
   "execution_count": 40,
   "id": "9a5c4d0f-c8e0-4892-b89b-2e2cdfd88b84",
   "metadata": {},
   "outputs": [],
   "source": [
    "def name_taker(first_name,last_name):\n",
    "    result = first_name + \"_\"+last_name + \"@ducat.com\"\n",
    "    print(result)\n",
    "    "
   ]
  },
  {
   "cell_type": "code",
   "execution_count": 41,
   "id": "9f49f86f-1c0c-43d5-b4ac-f0bb2b6c60e4",
   "metadata": {},
   "outputs": [
    {
     "name": "stdout",
     "output_type": "stream",
     "text": [
      "Karikey_Kumar@ducat.com\n"
     ]
    }
   ],
   "source": [
    "name_taker(\"Karikey\",\"Kumar\")"
   ]
  },
  {
   "cell_type": "code",
   "execution_count": 42,
   "id": "2d288f2a-b190-4ec3-adef-efe5b6751275",
   "metadata": {},
   "outputs": [],
   "source": [
    "def addition(*number):\n",
    "    return None"
   ]
  },
  {
   "cell_type": "code",
   "execution_count": 46,
   "id": "86915b5e-b8f7-4d2e-a796-33335d05ef34",
   "metadata": {},
   "outputs": [
    {
     "ename": "TypeError",
     "evalue": "addition() takes 2 positional arguments but 3 were given",
     "output_type": "error",
     "traceback": [
      "\u001b[1;31m---------------------------------------------------------------------------\u001b[0m",
      "\u001b[1;31mTypeError\u001b[0m                                 Traceback (most recent call last)",
      "Cell \u001b[1;32mIn[46], line 1\u001b[0m\n\u001b[1;32m----> 1\u001b[0m addition(\u001b[38;5;241m12\u001b[39m,\u001b[38;5;241m12\u001b[39m,\u001b[38;5;241m12\u001b[39m)\n",
      "\u001b[1;31mTypeError\u001b[0m: addition() takes 2 positional arguments but 3 were given"
     ]
    }
   ],
   "source": [
    "addition(12,12,12)"
   ]
  },
  {
   "cell_type": "code",
   "execution_count": 60,
   "id": "dd7c8a87-e560-451c-ac60-de7ebdf6e1c4",
   "metadata": {},
   "outputs": [],
   "source": [
    "def addition(*number):\n",
    "    total = sum(number)\n",
    "    return f\"Total of your numbers is {total}\""
   ]
  },
  {
   "cell_type": "code",
   "execution_count": null,
   "id": "bd23d80e-d9ec-4ead-b05d-afd954223ec8",
   "metadata": {},
   "outputs": [],
   "source": []
  },
  {
   "cell_type": "code",
   "execution_count": 62,
   "id": "4e0eb7a9-a48a-48ca-8fdc-2a2d15159503",
   "metadata": {},
   "outputs": [
    {
     "data": {
      "text/plain": [
       "'Total of your numbers is 120'"
      ]
     },
     "execution_count": 62,
     "metadata": {},
     "output_type": "execute_result"
    }
   ],
   "source": [
    "addition(12,12,12,12,3,4,54,5,6)"
   ]
  },
  {
   "cell_type": "code",
   "execution_count": null,
   "id": "eb226d24-1c07-4b94-8053-7bdef7cfd5f8",
   "metadata": {},
   "outputs": [],
   "source": [
    "print()"
   ]
  },
  {
   "cell_type": "code",
   "execution_count": null,
   "id": "88fd8a65-fc6d-448b-b886-1a0ffe9a0ef6",
   "metadata": {},
   "outputs": [],
   "source": [
    "print(\"Total of your numbers is \",total)"
   ]
  },
  {
   "cell_type": "code",
   "execution_count": 56,
   "id": "3c79e23c-b1a4-4982-8bc2-e2cc4a490ea2",
   "metadata": {},
   "outputs": [],
   "source": [
    "tuple1 = (12,12,12)"
   ]
  },
  {
   "cell_type": "code",
   "execution_count": 57,
   "id": "51e43f15-5a72-4886-a12d-4742323610c8",
   "metadata": {},
   "outputs": [
    {
     "data": {
      "text/plain": [
       "36"
      ]
     },
     "execution_count": 57,
     "metadata": {},
     "output_type": "execute_result"
    }
   ],
   "source": [
    "sum(tuple1)"
   ]
  },
  {
   "cell_type": "code",
   "execution_count": 59,
   "id": "89c63f6e-e761-4b90-9df6-bee6a91b945c",
   "metadata": {},
   "outputs": [
    {
     "name": "stdout",
     "output_type": "stream",
     "text": [
      "36\n"
     ]
    }
   ],
   "source": [
    "total = 0\n",
    "for i in tuple1:\n",
    "    total = total +i\n",
    "print(total)    "
   ]
  },
  {
   "cell_type": "code",
   "execution_count": 71,
   "id": "7ae224c4-84d0-435a-bb2d-6854525e3e76",
   "metadata": {},
   "outputs": [
    {
     "name": "stdout",
     "output_type": "stream",
     "text": [
      "rohit tyagi\n",
      "Now\n"
     ]
    }
   ],
   "source": [
    "print(\"rohit\",\"tyagi\")\n",
    "print(\"Now\")"
   ]
  },
  {
   "cell_type": "code",
   "execution_count": 80,
   "id": "22fa072a-b361-4ed8-aa96-87ada7a750a4",
   "metadata": {},
   "outputs": [],
   "source": [
    "def exam_locator(city = \"a\"):\n",
    "    print(f\"Your location will be {city}\")"
   ]
  },
  {
   "cell_type": "code",
   "execution_count": 81,
   "id": "53f78028-e025-4437-81e8-7e6e4a8b2070",
   "metadata": {},
   "outputs": [
    {
     "name": "stdout",
     "output_type": "stream",
     "text": [
      "Your location will be a\n"
     ]
    }
   ],
   "source": [
    "exam_locator()"
   ]
  },
  {
   "cell_type": "code",
   "execution_count": null,
   "id": "8df35ed5-b33c-4fbd-8749-5560e8d8a2b8",
   "metadata": {},
   "outputs": [],
   "source": [
    "**kwargs "
   ]
  },
  {
   "cell_type": "code",
   "execution_count": 84,
   "id": "f79675b4-9ca3-4eba-b204-048bbd399217",
   "metadata": {},
   "outputs": [
    {
     "name": "stdout",
     "output_type": "stream",
     "text": [
      "<class 'dict'>\n",
      "name ROhit\n",
      "class1 Python\n",
      "city Noida\n"
     ]
    }
   ],
   "source": [
    "def my_function(**kwargs):\n",
    "    print(type(kwargs))\n",
    "    for key,value in kwargs.items():\n",
    "        print(key,value)\n",
    "        \n",
    "my_function(name = \"ROhit\",class1 = \"Python\",city = \"Noida\")  "
   ]
  },
  {
   "cell_type": "code",
   "execution_count": 90,
   "id": "de3d54ba-a97f-4ac2-9e6d-3e6e1fd6becb",
   "metadata": {},
   "outputs": [
    {
     "name": "stdout",
     "output_type": "stream",
     "text": [
      "your first_name 1\n",
      "2\n",
      "3\n",
      "name Rohit\n",
      "Class Python\n"
     ]
    }
   ],
   "source": [
    "def my_function(first_name,*args, **kwargs):\n",
    "    print(\"your first_name\",first_name)\n",
    "    for arg in args:\n",
    "        print(arg)\n",
    "    for key, value in kwargs.items():\n",
    "        print(key, value)\n",
    "\n",
    "my_function(1, 2, 3, name=\"Rohit\", Class=\"Python\")  \n"
   ]
  },
  {
   "cell_type": "code",
   "execution_count": 91,
   "id": "27c88cd0-09d5-4360-805d-f882b35910a7",
   "metadata": {},
   "outputs": [
    {
     "name": "stdout",
     "output_type": "stream",
     "text": [
      "your first_name rohit\n",
      "2\n",
      "3\n",
      "name Rohit\n",
      "Class Python\n"
     ]
    }
   ],
   "source": [
    "my_function(\"rohit\", 2, 3, name=\"Rohit\", Class=\"Python\")  "
   ]
  },
  {
   "cell_type": "code",
   "execution_count": 105,
   "id": "74a2be78-50f9-42fb-8543-ccba4ede5c41",
   "metadata": {},
   "outputs": [],
   "source": [
    "def my_function(name,*args,location = \"Noida-16\",**kwargs):\n",
    "    print(f\"Hi {name} we welcome you in Ducat\")\n",
    "    print(args)\n",
    "    print(f\"Your location for training will be {location}\")\n",
    "    for key,value in kwargs.items():\n",
    "        print(\"Your course is : \",key,value)"
   ]
  },
  {
   "cell_type": "code",
   "execution_count": 107,
   "id": "4ca399c0-b21a-4f15-958e-112c2f3cf0dd",
   "metadata": {},
   "outputs": [
    {
     "name": "stdout",
     "output_type": "stream",
     "text": [
      "Hi ROHIT we welcome you in Ducat\n",
      "('Tyagi',)\n",
      "Your location for training will be Noida-16\n"
     ]
    }
   ],
   "source": [
    "my_function(\"ROHIT\",\"Tyagi\")"
   ]
  },
  {
   "cell_type": "code",
   "execution_count": null,
   "id": "3679c68e-e939-4fa6-9965-b86376aa153a",
   "metadata": {},
   "outputs": [],
   "source": []
  },
  {
   "cell_type": "code",
   "execution_count": null,
   "id": "210aebf2-9d15-4d44-ac75-a70771812161",
   "metadata": {},
   "outputs": [],
   "source": []
  },
  {
   "cell_type": "code",
   "execution_count": null,
   "id": "2be46431-2850-4db2-a898-0cc3db416b82",
   "metadata": {},
   "outputs": [],
   "source": [
    "my_function(\"Rohit\",\"Tyagi\",location=\"Delhi\",course = [\"Mysql\",\"Python\",\"Java\"])  "
   ]
  },
  {
   "cell_type": "code",
   "execution_count": null,
   "id": "152d184f-1974-4686-a2f6-3b839dc0e479",
   "metadata": {},
   "outputs": [],
   "source": [
    "def my_function(name,*args,location = \"Noida-16\",**kwargs):\n",
    "    print()\n",
    "\n",
    "    "
   ]
  },
  {
   "cell_type": "code",
   "execution_count": 95,
   "id": "846d14e4-3114-449b-b38f-d98aebaed54a",
   "metadata": {},
   "outputs": [
    {
     "name": "stdout",
     "output_type": "stream",
     "text": [
      "your first_name ROhit\n",
      "tyagi\n",
      "city Delhi\n"
     ]
    }
   ],
   "source": [
    "my_function(\"ROhit\",\"tyagi\",city = \"Delhi\")"
   ]
  },
  {
   "cell_type": "code",
   "execution_count": null,
   "id": "b4c04f36-58e0-4b30-b3de-a149ffa5ea46",
   "metadata": {},
   "outputs": [],
   "source": []
  },
  {
   "cell_type": "code",
   "execution_count": null,
   "id": "0a9a5af1-f90f-420e-858e-a61f5bdd9027",
   "metadata": {},
   "outputs": [],
   "source": []
  }
 ],
 "metadata": {
  "kernelspec": {
   "display_name": "Python 3 (ipykernel)",
   "language": "python",
   "name": "python3"
  },
  "language_info": {
   "codemirror_mode": {
    "name": "ipython",
    "version": 3
   },
   "file_extension": ".py",
   "mimetype": "text/x-python",
   "name": "python",
   "nbconvert_exporter": "python",
   "pygments_lexer": "ipython3",
   "version": "3.11.7"
  }
 },
 "nbformat": 4,
 "nbformat_minor": 5
}
