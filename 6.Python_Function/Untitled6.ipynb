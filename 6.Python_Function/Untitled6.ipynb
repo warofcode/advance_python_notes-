{
 "cells": [
  {
   "cell_type": "code",
   "execution_count": 25,
   "id": "4ff65ecd-e008-4f6f-b6c3-30fac29945f1",
   "metadata": {},
   "outputs": [],
   "source": [
    "def input_taker(first_name,*args,location = \"Noida-16\",**kwargs):\n",
    "    print(\"Your first name is \",first_name)\n",
    "    print(\"your number is \",args[0])\n",
    "    print(\"your email is \",args[1])\n",
    "    print(\"your lastname is \",args[2])\n",
    "    print(\"your city is \",location)\n",
    "    for key,value in kwargs.items():\n",
    "        print(key,value)\n",
    "        \n",
    "    \n",
    "    "
   ]
  },
  {
   "cell_type": "code",
   "execution_count": 26,
   "id": "469300d5-dd65-4860-9b50-0bf6a58cfd78",
   "metadata": {},
   "outputs": [
    {
     "name": "stdout",
     "output_type": "stream",
     "text": [
      "Your first name is  Rohit\n",
      "your number is  7845728968\n",
      "your email is  rohit.kumar@gmail.com\n",
      "your lastname is  kumar\n",
      "your city is  Delhi\n",
      "course ['python', 'Mysql']\n"
     ]
    }
   ],
   "source": [
    "input_taker(\"Rohit\",7845728968,\"rohit.kumar@gmail.com\",\"kumar\",location=\"Delhi\",course = [\"python\",\"Mysql\"])"
   ]
  },
  {
   "cell_type": "code",
   "execution_count": 27,
   "id": "73161f63-e678-4eb3-86e2-4f3f200399f6",
   "metadata": {},
   "outputs": [],
   "source": [
    "import math"
   ]
  },
  {
   "cell_type": "code",
   "execution_count": 28,
   "id": "1e633dd8-32d4-49f5-ae41-e86dde39800a",
   "metadata": {},
   "outputs": [
    {
     "data": {
      "text/plain": [
       "120"
      ]
     },
     "execution_count": 28,
     "metadata": {},
     "output_type": "execute_result"
    }
   ],
   "source": [
    "math.factorial(5)\n",
    "5*4*3*2*1"
   ]
  },
  {
   "cell_type": "code",
   "execution_count": 29,
   "id": "822173bf-d2e8-4b64-a3e5-d74dcf67047e",
   "metadata": {},
   "outputs": [],
   "source": [
    "def my_factorial(number):\n",
    "    fact =1\n",
    "    for i in range(1,number+1):\n",
    "        fact = fact * i\n",
    "    return fact    \n"
   ]
  },
  {
   "cell_type": "code",
   "execution_count": 30,
   "id": "1156c5bd-f4a3-4f69-b9f0-3c391c20f50a",
   "metadata": {},
   "outputs": [
    {
     "data": {
      "text/plain": [
       "120"
      ]
     },
     "execution_count": 30,
     "metadata": {},
     "output_type": "execute_result"
    }
   ],
   "source": [
    "my_factorial(5)"
   ]
  },
  {
   "cell_type": "code",
   "execution_count": null,
   "id": "a65f3d0e-9aec-4b07-a74e-6d1d6c1d7a2c",
   "metadata": {},
   "outputs": [],
   "source": [
    "1/2 b h"
   ]
  },
  {
   "cell_type": "code",
   "execution_count": 33,
   "id": "72fa84e4-46e1-4727-a470-23f206f77819",
   "metadata": {},
   "outputs": [],
   "source": [
    "def area_of_triangle(base,height):\n",
    "    area = 1/2*(base*height)\n",
    "    print(\"Area of triangle is : \")\n",
    "    return area"
   ]
  },
  {
   "cell_type": "code",
   "execution_count": 34,
   "id": "847a27c6-0ea4-4a53-a88d-c4ef55d51a56",
   "metadata": {},
   "outputs": [
    {
     "name": "stdout",
     "output_type": "stream",
     "text": [
      "Area of triangle is : \n"
     ]
    },
    {
     "data": {
      "text/plain": [
       "472.5"
      ]
     },
     "execution_count": 34,
     "metadata": {},
     "output_type": "execute_result"
    }
   ],
   "source": [
    "area_of_triangle(21,45)"
   ]
  },
  {
   "cell_type": "code",
   "execution_count": 35,
   "id": "3d4d1085-e2e9-4bf1-996b-60c08af1e1f9",
   "metadata": {},
   "outputs": [],
   "source": [
    "def addition(*args):\n",
    "    total = 0\n",
    "    for num in args:\n",
    "        total = total + num\n",
    "\n",
    "    return total"
   ]
  },
  {
   "cell_type": "code",
   "execution_count": 40,
   "id": "2e583426-8f19-4c40-ab48-d923cdd17379",
   "metadata": {},
   "outputs": [
    {
     "data": {
      "text/plain": [
       "45692"
      ]
     },
     "execution_count": 40,
     "metadata": {},
     "output_type": "execute_result"
    }
   ],
   "source": [
    "addition(1,2,23,45666)"
   ]
  },
  {
   "cell_type": "code",
   "execution_count": 48,
   "id": "14ac61a5-651e-4e54-abb4-0cd926f4ab32",
   "metadata": {},
   "outputs": [],
   "source": [
    "def city_locator(city = \"Noida\",country = \"India\"):\n",
    "    print(\"Your location will be\",city)\n",
    "    print(\"your country is :\",country)\n",
    "    "
   ]
  },
  {
   "cell_type": "code",
   "execution_count": 50,
   "id": "1e5428f2-5e07-4e8e-b80e-eb188f6ec5e7",
   "metadata": {},
   "outputs": [
    {
     "name": "stdout",
     "output_type": "stream",
     "text": [
      "Your location will be Taxas\n",
      "your country is : USA\n"
     ]
    }
   ],
   "source": [
    "city_locator(city = \"Taxas\",country = \"USA\")"
   ]
  },
  {
   "cell_type": "code",
   "execution_count": 59,
   "id": "0b0d2305-5ef0-4446-8778-61c599938089",
   "metadata": {},
   "outputs": [],
   "source": [
    "def keword_argument(**kwargs):\n",
    "    for key,value in kwargs.items():\n",
    "        print(key,value)"
   ]
  },
  {
   "cell_type": "code",
   "execution_count": 60,
   "id": "a0b6294f-4686-472e-a1ec-77cf819addcd",
   "metadata": {},
   "outputs": [
    {
     "name": "stdout",
     "output_type": "stream",
     "text": [
      "ciyt noida\n",
      "mail rk@gmail.com\n",
      "country India\n"
     ]
    }
   ],
   "source": [
    "keword_argument(ciyt = \"noida\",mail = \"rk@gmail.com\",country  = \"India\")"
   ]
  },
  {
   "cell_type": "code",
   "execution_count": null,
   "id": "8a860a6e-9dd1-48fd-8228-dadcfbb1750b",
   "metadata": {},
   "outputs": [],
   "source": [
    "\n",
    "\n",
    "\n",
    "\n",
    "\n",
    "\n",
    "\n",
    "\n"
   ]
  },
  {
   "cell_type": "code",
   "execution_count": 67,
   "id": "a0fe3c76-4f4e-4576-a4e9-631bb09f67d4",
   "metadata": {},
   "outputs": [],
   "source": [
    "x=20\n",
    "def function():\n",
    "    # x = 10\n",
    "    print(x)"
   ]
  },
  {
   "cell_type": "code",
   "execution_count": 68,
   "id": "f7502391-e78e-4239-9aad-faef94a310da",
   "metadata": {},
   "outputs": [
    {
     "name": "stdout",
     "output_type": "stream",
     "text": [
      "20\n"
     ]
    }
   ],
   "source": [
    "function()"
   ]
  },
  {
   "cell_type": "code",
   "execution_count": 66,
   "id": "40ac50da-400f-4a32-a389-03a6e276cf0b",
   "metadata": {},
   "outputs": [
    {
     "data": {
      "text/plain": [
       "20"
      ]
     },
     "execution_count": 66,
     "metadata": {},
     "output_type": "execute_result"
    }
   ],
   "source": [
    "x"
   ]
  },
  {
   "cell_type": "code",
   "execution_count": 69,
   "id": "b12ed2cc-d891-4866-b4d1-59d9b1fd8adf",
   "metadata": {},
   "outputs": [
    {
     "data": {
      "text/plain": [
       "list"
      ]
     },
     "execution_count": 69,
     "metadata": {},
     "output_type": "execute_result"
    }
   ],
   "source": [
    "list"
   ]
  },
  {
   "cell_type": "code",
   "execution_count": null,
   "id": "3f6a2f4d-250c-4ff4-aac7-e16cfec5a887",
   "metadata": {},
   "outputs": [],
   "source": []
  },
  {
   "cell_type": "code",
   "execution_count": 71,
   "id": "874466e2-477e-4145-bec3-79e0856b43a1",
   "metadata": {},
   "outputs": [
    {
     "name": "stdout",
     "output_type": "stream",
     "text": [
      "40\n"
     ]
    }
   ],
   "source": [
    "print(list)"
   ]
  },
  {
   "cell_type": "code",
   "execution_count": 72,
   "id": "55c671b6-5b87-4324-962f-b78d840aeb1a",
   "metadata": {},
   "outputs": [
    {
     "ename": "TypeError",
     "evalue": "'int' object is not callable",
     "output_type": "error",
     "traceback": [
      "\u001b[1;31m---------------------------------------------------------------------------\u001b[0m",
      "\u001b[1;31mTypeError\u001b[0m                                 Traceback (most recent call last)",
      "Cell \u001b[1;32mIn[72], line 2\u001b[0m\n\u001b[0;32m      1\u001b[0m tuple1 \u001b[38;5;241m=\u001b[39m (\u001b[38;5;241m1\u001b[39m,\u001b[38;5;241m2\u001b[39m,\u001b[38;5;241m3\u001b[39m)\n\u001b[1;32m----> 2\u001b[0m \u001b[38;5;28mlist\u001b[39m(tuple1)\n",
      "\u001b[1;31mTypeError\u001b[0m: 'int' object is not callable"
     ]
    }
   ],
   "source": [
    "tuple1 = (1,2,3)\n",
    "list(tuple1)"
   ]
  },
  {
   "cell_type": "code",
   "execution_count": 73,
   "id": "49b530c3-339b-4881-937e-6e0007907ba4",
   "metadata": {},
   "outputs": [
    {
     "data": {
      "text/plain": [
       "()"
      ]
     },
     "execution_count": 73,
     "metadata": {},
     "output_type": "execute_result"
    }
   ],
   "source": [
    "tuple()"
   ]
  },
  {
   "cell_type": "code",
   "execution_count": null,
   "id": "8b1d8c81-833c-4884-b8b6-5d527752a5a9",
   "metadata": {},
   "outputs": [],
   "source": [
    "side  = 12\n",
    "\n",
    "def area_rect(sid2)\n",
    "    area = side *side2\n",
    "\n",
    "def squre():\n",
    "    area = side *side"
   ]
  },
  {
   "cell_type": "code",
   "execution_count": 81,
   "id": "3511fb14-856f-401a-92d1-0a4c673fbbdb",
   "metadata": {},
   "outputs": [
    {
     "name": "stdout",
     "output_type": "stream",
     "text": [
      "My name is rohit\n",
      "rohit\n"
     ]
    }
   ],
   "source": [
    "def my_function():\n",
    "    # global name\n",
    "    \n",
    "    name = \"rohit\"\n",
    "    \n",
    "#     print(f\"My name is {name}\")\n",
    "    \n",
    "    return f\"My name is {name}\"\n",
    "    \n",
    "    \n",
    "print(my_function())   \n",
    "\n",
    "print(name)"
   ]
  },
  {
   "cell_type": "code",
   "execution_count": 75,
   "id": "357052e8-2210-4e40-b3ec-00d020f0ad03",
   "metadata": {},
   "outputs": [],
   "source": [
    "import keyword"
   ]
  },
  {
   "cell_type": "code",
   "execution_count": 76,
   "id": "1b13fe0a-eaa8-4898-a35a-c47824df6579",
   "metadata": {},
   "outputs": [
    {
     "data": {
      "text/plain": [
       "['False',\n",
       " 'None',\n",
       " 'True',\n",
       " 'and',\n",
       " 'as',\n",
       " 'assert',\n",
       " 'async',\n",
       " 'await',\n",
       " 'break',\n",
       " 'class',\n",
       " 'continue',\n",
       " 'def',\n",
       " 'del',\n",
       " 'elif',\n",
       " 'else',\n",
       " 'except',\n",
       " 'finally',\n",
       " 'for',\n",
       " 'from',\n",
       " 'global',\n",
       " 'if',\n",
       " 'import',\n",
       " 'in',\n",
       " 'is',\n",
       " 'lambda',\n",
       " 'nonlocal',\n",
       " 'not',\n",
       " 'or',\n",
       " 'pass',\n",
       " 'raise',\n",
       " 'return',\n",
       " 'try',\n",
       " 'while',\n",
       " 'with',\n",
       " 'yield']"
      ]
     },
     "execution_count": 76,
     "metadata": {},
     "output_type": "execute_result"
    }
   ],
   "source": [
    "keyword.kwlist"
   ]
  },
  {
   "cell_type": "code",
   "execution_count": 78,
   "id": "52c13103-cb05-480d-8b8d-8e681b397618",
   "metadata": {},
   "outputs": [],
   "source": [
    "list=2"
   ]
  },
  {
   "cell_type": "code",
   "execution_count": 79,
   "id": "c1924603-7e42-45e8-a077-dc0ffb55db14",
   "metadata": {},
   "outputs": [
    {
     "ename": "TypeError",
     "evalue": "'int' object is not callable",
     "output_type": "error",
     "traceback": [
      "\u001b[1;31m---------------------------------------------------------------------------\u001b[0m",
      "\u001b[1;31mTypeError\u001b[0m                                 Traceback (most recent call last)",
      "Cell \u001b[1;32mIn[79], line 1\u001b[0m\n\u001b[1;32m----> 1\u001b[0m \u001b[38;5;28mlist\u001b[39m([\u001b[38;5;241m1\u001b[39m,\u001b[38;5;241m2\u001b[39m,\u001b[38;5;241m3\u001b[39m])\n",
      "\u001b[1;31mTypeError\u001b[0m: 'int' object is not callable"
     ]
    }
   ],
   "source": [
    "list([1,2,3])"
   ]
  },
  {
   "cell_type": "code",
   "execution_count": null,
   "id": "6f39b779-d8b7-41bd-bc1c-fe119d609753",
   "metadata": {},
   "outputs": [],
   "source": [
    "2()"
   ]
  }
 ],
 "metadata": {
  "kernelspec": {
   "display_name": "Python 3 (ipykernel)",
   "language": "python",
   "name": "python3"
  },
  "language_info": {
   "codemirror_mode": {
    "name": "ipython",
    "version": 3
   },
   "file_extension": ".py",
   "mimetype": "text/x-python",
   "name": "python",
   "nbconvert_exporter": "python",
   "pygments_lexer": "ipython3",
   "version": "3.11.7"
  }
 },
 "nbformat": 4,
 "nbformat_minor": 5
}
