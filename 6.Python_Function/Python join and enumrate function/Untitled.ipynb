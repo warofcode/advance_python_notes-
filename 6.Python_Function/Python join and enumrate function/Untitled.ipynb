{
 "cells": [
  {
   "cell_type": "code",
   "execution_count": 1,
   "id": "478e72d5",
   "metadata": {},
   "outputs": [],
   "source": [
    "def i_do_square(n):\n",
    "    \n",
    "    return n**2"
   ]
  },
  {
   "cell_type": "code",
   "execution_count": 2,
   "id": "049f58aa",
   "metadata": {},
   "outputs": [
    {
     "data": {
      "text/plain": [
       "100"
      ]
     },
     "execution_count": 2,
     "metadata": {},
     "output_type": "execute_result"
    }
   ],
   "source": [
    "i_do_square(10)"
   ]
  },
  {
   "cell_type": "code",
   "execution_count": 3,
   "id": "9c1765a6",
   "metadata": {},
   "outputs": [],
   "source": [
    "square = lambda n:n**2"
   ]
  },
  {
   "cell_type": "code",
   "execution_count": 5,
   "id": "b6d0de56",
   "metadata": {},
   "outputs": [
    {
     "data": {
      "text/plain": [
       "121"
      ]
     },
     "execution_count": 5,
     "metadata": {},
     "output_type": "execute_result"
    }
   ],
   "source": [
    "square(11)"
   ]
  },
  {
   "cell_type": "code",
   "execution_count": 6,
   "id": "4dfc156e",
   "metadata": {},
   "outputs": [],
   "source": [
    "my_list = [\"rohit\",\"tyagi\",\"@\",\"gmail.com\"]"
   ]
  },
  {
   "cell_type": "code",
   "execution_count": 10,
   "id": "d291927b",
   "metadata": {},
   "outputs": [
    {
     "data": {
      "text/plain": [
       "'rohit-tyagi-@-gmail.com'"
      ]
     },
     "execution_count": 10,
     "metadata": {},
     "output_type": "execute_result"
    }
   ],
   "source": [
    "(\"-\").join(my_list)"
   ]
  },
  {
   "cell_type": "code",
   "execution_count": 12,
   "id": "b15adbb4",
   "metadata": {},
   "outputs": [
    {
     "name": "stdout",
     "output_type": "stream",
     "text": [
      "0 rohit\n",
      "1 tyagi\n",
      "2 @\n",
      "3 gmail.com\n"
     ]
    }
   ],
   "source": [
    "for i,j in enumerate(my_list):\n",
    "    print(i,j)\n",
    "    "
   ]
  },
  {
   "cell_type": "code",
   "execution_count": 11,
   "id": "d0550c3c",
   "metadata": {},
   "outputs": [
    {
     "name": "stdout",
     "output_type": "stream",
     "text": [
      "<enumerate object at 0x0000014A8B968A40>\n"
     ]
    }
   ],
   "source": [
    "print(enumerate(my_list))"
   ]
  },
  {
   "cell_type": "code",
   "execution_count": 14,
   "id": "d767c6e2",
   "metadata": {},
   "outputs": [
    {
     "name": "stdout",
     "output_type": "stream",
     "text": [
      "1 tyagi\n",
      "3 gmail.com\n"
     ]
    }
   ],
   "source": [
    "for i,j in enumerate(my_list):\n",
    "    \n",
    "    if i%2 !=0:\n",
    "        print(i,j)"
   ]
  },
  {
   "cell_type": "code",
   "execution_count": null,
   "id": "acf1af95",
   "metadata": {},
   "outputs": [],
   "source": []
  }
 ],
 "metadata": {
  "kernelspec": {
   "display_name": "Python 3 (ipykernel)",
   "language": "python",
   "name": "python3"
  },
  "language_info": {
   "codemirror_mode": {
    "name": "ipython",
    "version": 3
   },
   "file_extension": ".py",
   "mimetype": "text/x-python",
   "name": "python",
   "nbconvert_exporter": "python",
   "pygments_lexer": "ipython3",
   "version": "3.11.5"
  }
 },
 "nbformat": 4,
 "nbformat_minor": 5
}
