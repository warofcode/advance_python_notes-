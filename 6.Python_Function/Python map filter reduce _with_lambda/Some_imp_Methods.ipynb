{
 "cells": [
  {
   "cell_type": "markdown",
   "id": "19d6d257",
   "metadata": {},
   "source": [
    "# Enumerate () function"
   ]
  },
  {
   "cell_type": "code",
   "execution_count": 5,
   "id": "d679d7bb",
   "metadata": {},
   "outputs": [
    {
     "name": "stdout",
     "output_type": "stream",
     "text": [
      "0 : Rohit\n",
      "1 : Rahul\n",
      "2 : Amit\n",
      "3 : Ajay\n",
      "Rahul\n",
      "Ajay\n"
     ]
    }
   ],
   "source": [
    "# we can use enumerate function, Which returns index and item both\n",
    "list3=[\"Rohit\",\"Rahul\",\"Amit\",\"Ajay\"]\n",
    "for index,item in enumerate(list3):\n",
    "    print(f\"{index} : {item}\")\n",
    "for index,item in enumerate(list3):\n",
    "    if index %2!=0:\n",
    "        print(item)"
   ]
  },
  {
   "cell_type": "markdown",
   "id": "a247e6b4",
   "metadata": {},
   "source": [
    "# join () function"
   ]
  },
  {
   "cell_type": "markdown",
   "id": "ea327050",
   "metadata": {},
   "source": [
    "The join() function is a built-in method in Python that is used to join a sequence of strings into a single string. It is a string method that takes an iterable (such as a list, tuple, or set) of strings as its argument and concatenates them with a separator string. The separator is specified as a string, and it is inserted between each pair of adjacent elements in the sequence."
   ]
  },
  {
   "cell_type": "markdown",
   "id": "4d3921f1",
   "metadata": {},
   "source": [
    "The syntax for using join() function is:\n",
    "\n",
    "separator_string.join(iterable)\n"
   ]
  },
  {
   "cell_type": "markdown",
   "id": "2fc4c177",
   "metadata": {},
   "source": [
    "Here, separator_string is the string that will be inserted between each pair of adjacent elements in the iterable. iterable is the sequence of strings that we want to join.\n",
    "\n",
    "For example, let's say we have a list of strings and we want to join them together with a comma separator:"
   ]
  },
  {
   "cell_type": "code",
   "execution_count": 8,
   "id": "1016c13d",
   "metadata": {},
   "outputs": [
    {
     "name": "stdout",
     "output_type": "stream",
     "text": [
      "Maruti,Ford,Toyota\n"
     ]
    }
   ],
   "source": [
    "cars = [\"Maruti\",\"Ford\",\"Toyota\"]\n",
    "\n",
    "separator = \",\"\n",
    "\n",
    "after_joining = separator.join(cars)\n",
    "\n",
    "print(after_joining)"
   ]
  },
  {
   "cell_type": "code",
   "execution_count": 19,
   "id": "4720943b",
   "metadata": {},
   "outputs": [
    {
     "name": "stdout",
     "output_type": "stream",
     "text": [
      "rohitTyagi@rexgalaxy.com\n",
      "AmitSharma@rexgalaxy.com\n",
      "RanganSinha@rexgalaxy.com\n"
     ]
    }
   ],
   "source": [
    "first_name = [\"rohit\",\"Amit\",\"Rangan\"]\n",
    "\n",
    "last_name = [\"Tyagi\",\"Sharma\",\"Sinha\"]\n",
    "\n",
    "Separator = \"\"\n",
    "\n",
    "for i in range(len(first_name)):\n",
    "    \n",
    "    print(first_name[i]+last_name[i]+\"@rexgalaxy.com\")\n",
    "    "
   ]
  },
  {
   "cell_type": "markdown",
   "id": "07a25f82",
   "metadata": {},
   "source": [
    "# map() function "
   ]
  },
  {
   "cell_type": "code",
   "execution_count": 2,
   "id": "c3f15991",
   "metadata": {},
   "outputs": [
    {
     "name": "stdout",
     "output_type": "stream",
     "text": [
      "1020\n"
     ]
    }
   ],
   "source": [
    "# question :  We have to addition of  first and second item of list\n",
    "list1 = [\"10\",\"20\",\"30\"]\n",
    "\n",
    "print(list1[0] + list1[1])\n",
    "\n",
    "# but here is a problem because both are string item but have to add these as a integer"
   ]
  },
  {
   "cell_type": "code",
   "execution_count": 3,
   "id": "a33b2671",
   "metadata": {},
   "outputs": [],
   "source": [
    "list2 = []\n",
    "for i in range(len(list1)):\n",
    "    list2.append(int(list1[i]))\n",
    "    "
   ]
  },
  {
   "cell_type": "code",
   "execution_count": 31,
   "id": "305b5976",
   "metadata": {},
   "outputs": [
    {
     "name": "stdout",
     "output_type": "stream",
     "text": [
      "[10, 20, 30]\n"
     ]
    }
   ],
   "source": [
    "print(list2)"
   ]
  },
  {
   "cell_type": "code",
   "execution_count": 32,
   "id": "48e235ad",
   "metadata": {},
   "outputs": [
    {
     "name": "stdout",
     "output_type": "stream",
     "text": [
      "30\n"
     ]
    }
   ],
   "source": [
    "print(list2[0]+list2[1])\n",
    "# our poblem is solved but with a long code \n",
    "# this problem we are going to solve with the help of map () function"
   ]
  },
  {
   "cell_type": "code",
   "execution_count": 37,
   "id": "3769d214",
   "metadata": {},
   "outputs": [
    {
     "name": "stdout",
     "output_type": "stream",
     "text": [
      "[10, 20, 30]\n"
     ]
    }
   ],
   "source": [
    "list1 = [\"10\",\"20\",\"30\"]\n",
    "list1 = map(int,list1) # it will return only map object so we need list method to make it list\n",
    "\n",
    "list1= list(map(int,list1))\n",
    "\n",
    "\n",
    "print(list1)"
   ]
  },
  {
   "cell_type": "markdown",
   "id": "fd91afc7",
   "metadata": {},
   "source": [
    "# map () function with the help of user defined function"
   ]
  },
  {
   "cell_type": "code",
   "execution_count": 39,
   "id": "7dd943d9",
   "metadata": {},
   "outputs": [
    {
     "name": "stdout",
     "output_type": "stream",
     "text": [
      "[100, 400, 900]\n"
     ]
    }
   ],
   "source": [
    "# another use of map function is we can apply any user defined function using map function\n",
    "new_list12=[10, 20, 30]\n",
    "\n",
    "\n",
    "def do_square(a):\n",
    "    return a*a\n",
    "\n",
    "\n",
    "\n",
    "square_list=list(map(do_square,new_list12))\n",
    "\n",
    "\n",
    "print(square_list) # so it has retuned you new square list"
   ]
  },
  {
   "cell_type": "markdown",
   "id": "55498ca4",
   "metadata": {},
   "source": [
    "# filter () method "
   ]
  },
  {
   "cell_type": "code",
   "execution_count": 44,
   "id": "310da9e4",
   "metadata": {},
   "outputs": [
    {
     "name": "stdout",
     "output_type": "stream",
     "text": [
      "[6, 7, 8, 9, 10]\n"
     ]
    }
   ],
   "source": [
    "# we use filter function to filter somthing. it works same way as map\n",
    "# syntax list(filter(function, itrable))\n",
    "# you can use any kind of function to get desired out put.--------- like numbers greater than 2 or anything\n",
    "list19=[1,2,3,4,5,6,7,8,9,10]\n",
    "def greater_5(a):\n",
    "    return a>5\n",
    "list20=list(filter(greater_5,list19))\n",
    "print(list20)"
   ]
  },
  {
   "cell_type": "markdown",
   "id": "82027c4d",
   "metadata": {},
   "source": [
    "# reduce funtion() in python"
   ]
  },
  {
   "cell_type": "markdown",
   "id": "f2b5bf59",
   "metadata": {},
   "source": [
    "The reduce(fun,seq) function is used to apply a particular function passed in its argument to all of the list elements mentioned in the sequence passed along.This function is defined in “functools” module.\n",
    "\n",
    "Working :  \n",
    "\n",
    "At first step, first two elements of sequence are picked and the result is obtained.\n",
    "\n",
    "Next step is to apply the same function to the previously attained result and the number just succeeding the second element and the result is again stored.\n",
    "\n",
    "This process continues till no more elements are left in the container.\n",
    "\n",
    "The final returned result is returned and printed on console."
   ]
  },
  {
   "cell_type": "code",
   "execution_count": 45,
   "id": "5b534b0d",
   "metadata": {},
   "outputs": [
    {
     "name": "stdout",
     "output_type": "stream",
     "text": [
      "10\n",
      "24\n",
      "-8\n"
     ]
    }
   ],
   "source": [
    "# syntax reduce(function,sequence)\n",
    "# reduce functin do not return list becuase it retruns only single value\n",
    "# instead of list , it returns a single output\n",
    "# first of all you need to import the reduce funtion from functools\n",
    "# by reduce function you can add ,multipy,subtract or many more\n",
    "# if you use reduce function and use lambda in function it will take two arguments\n",
    "\n",
    "from functools import reduce\n",
    "\n",
    "list1=[1,2,3,4,]\n",
    "\n",
    "Addition=reduce(lambda x,y:x+y , list1) # [1+2+3+4]=10\n",
    "\n",
    "Multiplication=reduce(lambda x,y:x*y , list1) # [1*2*3*4]=24\n",
    "\n",
    "Subtract=reduce(lambda x,y:x-y , list1) #[1-2-3-4]=-8\n",
    "\n",
    "print(Addition)\n",
    "print(Multiplication)\n",
    "print(Subtract)"
   ]
  },
  {
   "cell_type": "code",
   "execution_count": null,
   "id": "270046f9",
   "metadata": {},
   "outputs": [],
   "source": [
    "def additon(a,b):\n",
    "    a+b\n",
    "    "
   ]
  }
 ],
 "metadata": {
  "kernelspec": {
   "display_name": "Python 3 (ipykernel)",
   "language": "python",
   "name": "python3"
  },
  "language_info": {
   "codemirror_mode": {
    "name": "ipython",
    "version": 3
   },
   "file_extension": ".py",
   "mimetype": "text/x-python",
   "name": "python",
   "nbconvert_exporter": "python",
   "pygments_lexer": "ipython3",
   "version": "3.11.7"
  }
 },
 "nbformat": 4,
 "nbformat_minor": 5
}
