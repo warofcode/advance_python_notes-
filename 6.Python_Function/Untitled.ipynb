{
 "cells": [
  {
   "cell_type": "code",
   "execution_count": 1,
   "id": "cc8d1119-09fb-4ad4-a3a3-6dce7809a6cf",
   "metadata": {},
   "outputs": [],
   "source": [
    "this = \"this\"\n",
    "that = \"that\"\n",
    "def my_function(name,*args,location = \"Noida-16\",**kwargs):\n",
    "    print(f\"Hi {name} we welcome you in Ducat\")\n",
    "    print(f\"Your email is {name}.{args[0]}@ducat.com\")\n",
    "    print(f\"Your location for training will be {location}\")\n",
    "    for key,value in kwargs.items():\n",
    "        print(\"Your course is : \",key,value)"
   ]
  },
  {
   "cell_type": "code",
   "execution_count": 2,
   "id": "42433b61-de54-43e2-9a85-84d3c16e1ea2",
   "metadata": {},
   "outputs": [
    {
     "name": "stdout",
     "output_type": "stream",
     "text": [
      "Hi Rohit we welcome you in Ducat\n",
      "Your email is Rohit.Tyagi@ducat.com\n",
      "Your location for training will be Delhi\n",
      "Your course is :  course ['Mysql', 'Python', 'Java']\n"
     ]
    }
   ],
   "source": [
    "my_function(\"Rohit\",\"Tyagi\",location=\"Delhi\",course = [\"Mysql\",\"Python\",\"Java\"])"
   ]
  },
  {
   "cell_type": "code",
   "execution_count": 3,
   "id": "4328dccf-43a7-46e7-b389-3b2239ae89f4",
   "metadata": {},
   "outputs": [
    {
     "ename": "NameError",
     "evalue": "name 'variable' is not defined",
     "output_type": "error",
     "traceback": [
      "\u001b[1;31m---------------------------------------------------------------------------\u001b[0m",
      "\u001b[1;31mNameError\u001b[0m                                 Traceback (most recent call last)",
      "Cell \u001b[1;32mIn[3], line 9\u001b[0m\n\u001b[0;32m      4\u001b[0m     \u001b[38;5;28mprint\u001b[39m(variable)\n\u001b[0;32m      6\u001b[0m     \u001b[38;5;28;01mreturn\u001b[39;00m \u001b[38;5;28;01mNone\u001b[39;00m\n\u001b[1;32m----> 9\u001b[0m \u001b[38;5;28mprint\u001b[39m(variable)\n",
      "\u001b[1;31mNameError\u001b[0m: name 'variable' is not defined"
     ]
    }
   ],
   "source": [
    "\n",
    "def my_function():\n",
    "    # global variable\n",
    "    variable = 15\n",
    "    print(variable)\n",
    "    \n",
    "    return None\n",
    "    \n",
    "\n",
    "print(variable)"
   ]
  },
  {
   "cell_type": "code",
   "execution_count": null,
   "id": "7df98867-f0b3-4542-9e8e-14fb99512ed3",
   "metadata": {},
   "outputs": [],
   "source": [
    "my_function()"
   ]
  },
  {
   "cell_type": "code",
   "execution_count": null,
   "id": "f41275ef-5d5b-45d5-a280-a972c5270788",
   "metadata": {},
   "outputs": [],
   "source": []
  },
  {
   "cell_type": "code",
   "execution_count": 4,
   "id": "9f2b84f9-35ba-4ec8-b20b-8546ae3b7022",
   "metadata": {},
   "outputs": [],
   "source": [
    "import math\n",
    "import math"
   ]
  },
  {
   "cell_type": "code",
   "execution_count": 6,
   "id": "c9755e7b-9513-4cdc-9892-44f8f4944239",
   "metadata": {},
   "outputs": [
    {
     "data": {
      "text/plain": [
       "'3.11.7 | packaged by Anaconda, Inc. | (main, Dec 15 2023, 18:05:47) [MSC v.1916 64 bit (AMD64)]'"
      ]
     },
     "execution_count": 6,
     "metadata": {},
     "output_type": "execute_result"
    }
   ],
   "source": [
    "import sys\n",
    "sys.version"
   ]
  },
  {
   "cell_type": "code",
   "execution_count": null,
   "id": "d9b9131d-4cc5-4076-914b-02772ec864aa",
   "metadata": {},
   "outputs": [],
   "source": []
  }
 ],
 "metadata": {
  "kernelspec": {
   "display_name": "Python 3 (ipykernel)",
   "language": "python",
   "name": "python3"
  },
  "language_info": {
   "codemirror_mode": {
    "name": "ipython",
    "version": 3
   },
   "file_extension": ".py",
   "mimetype": "text/x-python",
   "name": "python",
   "nbconvert_exporter": "python",
   "pygments_lexer": "ipython3",
   "version": "3.11.7"
  }
 },
 "nbformat": 4,
 "nbformat_minor": 5
}
