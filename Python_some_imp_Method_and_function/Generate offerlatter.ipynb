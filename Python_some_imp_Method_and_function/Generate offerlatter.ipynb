{
 "cells": [
  {
   "cell_type": "code",
   "execution_count": 5,
   "id": "2ab3de84",
   "metadata": {},
   "outputs": [
    {
     "name": "stdout",
     "output_type": "stream",
     "text": [
      "ranjan\n",
      "Dear Ranjan,\n",
      "\n",
      "We are pleased to offer you the position of Software Engineer at XYZ Corporation. We believe that your skills and experience will make a valuable contribution to our organization.\n",
      "\n",
      "Your start date will be June 1, 2023. Your starting salary will be $100,000 per year.\n",
      "\n",
      "Please let us know by May 5, 2023 if you accept this offer. If you have any questions, please don't hesitate to contact us.\n",
      "\n",
      "We look forward to welcoming you to our team!\n",
      "\n",
      "Sincerely,\n",
      "\n",
      "ROHIT TYAGI\n",
      "HR Manager\n",
      "\n"
     ]
    }
   ],
   "source": [
    "# Define the offer details\n",
    "position = \"Software Engineer\"\n",
    "company_name = \"XYZ Corporation\"\n",
    "start_date = \"June 1, 2023\"\n",
    "salary = \"$100,000\"\n",
    "\n",
    "Your_Name = \"ROHIT TYAGI\"\n",
    "Your_designation = \"HR Manager\"\n",
    "\n",
    "# Create the offer letter template\n",
    "offer_template = f\"\"\"Dear [Candidate Name],\n",
    "\n",
    "We are pleased to offer you the position of {position} at {company_name}. We believe that your skills and experience will make a valuable contribution to our organization.\n",
    "\n",
    "Your start date will be {start_date}. Your starting salary will be {salary} per year.\n",
    "\n",
    "Please let us know by [Date] if you accept this offer. If you have any questions, please don't hesitate to contact us.\n",
    "\n",
    "We look forward to welcoming you to our team!\n",
    "\n",
    "Sincerely,\n",
    "\n",
    "{Your_Name}\n",
    "{Your_designation}\n",
    "\"\"\"\n",
    "\n",
    "# Replace [Candidate Name] and [Date] with actual values\n",
    "candidate_name = input().capitalize()\n",
    "offer_date = \"May 5, 2023\"\n",
    "offer_letter = offer_template.replace(\"[Candidate Name]\", candidate_name).replace(\"[Date]\", offer_date)\n",
    "\n",
    "# Print the offer letter\n",
    "print(offer_letter)\n"
   ]
  },
  {
   "cell_type": "code",
   "execution_count": 6,
   "id": "415bfe84",
   "metadata": {},
   "outputs": [
    {
     "data": {
      "text/plain": [
       "'C:\\\\Users\\\\rkt65\\\\OneDrive\\\\Desktop\\\\MY_Complete_folder\\\\RexGalaxy Python Class\\\\Python_some_imp_Method_and_function'"
      ]
     },
     "execution_count": 6,
     "metadata": {},
     "output_type": "execute_result"
    }
   ],
   "source": [
    "pwd"
   ]
  },
  {
   "cell_type": "code",
   "execution_count": null,
   "id": "16e28b23",
   "metadata": {},
   "outputs": [],
   "source": []
  }
 ],
 "metadata": {
  "kernelspec": {
   "display_name": "Python 3 (ipykernel)",
   "language": "python",
   "name": "python3"
  },
  "language_info": {
   "codemirror_mode": {
    "name": "ipython",
    "version": 3
   },
   "file_extension": ".py",
   "mimetype": "text/x-python",
   "name": "python",
   "nbconvert_exporter": "python",
   "pygments_lexer": "ipython3",
   "version": "3.9.12"
  }
 },
 "nbformat": 4,
 "nbformat_minor": 5
}
