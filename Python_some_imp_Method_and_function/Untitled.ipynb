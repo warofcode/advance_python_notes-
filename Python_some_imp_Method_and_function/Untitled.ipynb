{
 "cells": [
  {
   "cell_type": "code",
   "execution_count": 1,
   "id": "3666fe02",
   "metadata": {},
   "outputs": [
    {
     "name": "stdout",
     "output_type": "stream",
     "text": [
      "Enter elements seprated by coma : Rexgalaxy,Python\n",
      "User list =  ['Rexgalaxy', 'Python']\n"
     ]
    }
   ],
   "source": [
    "user_input = input(\"Enter elements seprated by coma : \")\n",
    "\n",
    "user_list = user_input.split(\",\")\n",
    "\n",
    "print(\"User list = \",user_list)\n"
   ]
  },
  {
   "cell_type": "code",
   "execution_count": null,
   "id": "dee16f43",
   "metadata": {},
   "outputs": [],
   "source": []
  },
  {
   "cell_type": "code",
   "execution_count": null,
   "id": "9b789a98",
   "metadata": {},
   "outputs": [],
   "source": []
  },
  {
   "cell_type": "code",
   "execution_count": null,
   "id": "709ab996",
   "metadata": {},
   "outputs": [],
   "source": []
  }
 ],
 "metadata": {
  "kernelspec": {
   "display_name": "Python 3 (ipykernel)",
   "language": "python",
   "name": "python3"
  },
  "language_info": {
   "codemirror_mode": {
    "name": "ipython",
    "version": 3
   },
   "file_extension": ".py",
   "mimetype": "text/x-python",
   "name": "python",
   "nbconvert_exporter": "python",
   "pygments_lexer": "ipython3",
   "version": "3.9.12"
  }
 },
 "nbformat": 4,
 "nbformat_minor": 5
}
