{
 "cells": [
  {
   "cell_type": "markdown",
   "metadata": {},
   "source": [
    "### GUI Programming-VI\n",
    "\n",
    "DialogBox\n"
   ]
  },
  {
   "cell_type": "code",
   "execution_count": null,
   "metadata": {},
   "outputs": [],
   "source": [
    "DialogBoxes are small popup windows that appear at the runtime of our application and are of following 5 types:\n",
    "\n",
    "Message Box\n",
    "\n",
    "Confirmation Box\n",
    "\n",
    "Input Box\n",
    "\n",
    "File Chooser Box\n",
    "\n",
    "Color Chooser Box\n"
   ]
  },
  {
   "cell_type": "code",
   "execution_count": null,
   "metadata": {},
   "outputs": [],
   "source": [
    "A message box can display some text to the user. \n",
    "\n",
    "There are three functions to produce a message box and they differ on the type of message we want to display: \n",
    "\n",
    "showinfo(param1,param2)\n",
    "\n",
    "showerror(param1, param2)\n",
    "\n",
    "showwarning(param1, param2)\n"
   ]
  },
  {
   "cell_type": "code",
   "execution_count": null,
   "metadata": {},
   "outputs": [],
   "source": [
    "These functions belong to the module messagebox which itself is in the module tkinter\n",
    "\n",
    "\n",
    "\n",
    "The first parameter gives a title for the dialog box which is displayed in the window’s header. \n",
    "\n",
    "\n",
    "The second parameter is the message to be displayed"
   ]
  },
  {
   "cell_type": "code",
   "execution_count": null,
   "metadata": {},
   "outputs": [],
   "source": [
    "Modify the Number Division App so that the result is shown in Entry widget but  error messages are shown in the message box instead of the Entry widget.\n"
   ]
  },
  {
   "cell_type": "code",
   "execution_count": null,
   "metadata": {},
   "outputs": [],
   "source": [
    "Since now the Entry widget e3 will only display the result of division and not the error messages, so we can set it’s foreground color to green while creating it:\n",
    "\n",
    "e3=Entry(root,fg=\"green\")\n",
    "\n",
    "Also we must modify the body of the function divide() as shown on the next slide\n"
   ]
  },
  {
   "cell_type": "code",
   "execution_count": null,
   "metadata": {},
   "outputs": [],
   "source": [
    "from tkinter import *\n",
    "from tkinter import messagebox\n",
    "\n",
    "def divide():\n",
    "    try:\n",
    "        e3.delete(0, END)\n",
    "    a=int(e1.get())\n",
    "        b=int(e2.get())\n",
    "        c=a/b\n",
    "        e3.insert(0,str(c))\n",
    "    except ZeroDivisionError:\n",
    "        messagebox.showerror(\"Arithmetic Error!\",\"Denominator should not be positive!\")\n",
    "    except ValueError:\n",
    "        messagebox.showerror(\"Conversion Error!\", \"Only digits allowed!\")\n"
   ]
  },
  {
   "cell_type": "code",
   "execution_count": null,
   "metadata": {},
   "outputs": [],
   "source": [
    "The tkinter messagebox module also provides us functions that allow us to ask the user a simple yes/no type questions and varies the button names based on the type of question. \n",
    "\n",
    "These functions are:\n",
    "\n",
    "answer = messagebox.askokcancel(\"Question\",\"Do you want to open this file?\") \n",
    "\n",
    "answer = messagebox.askretrycancel(\"Question\", \"Do you want to try that again?\") \n",
    "\n",
    "answer = messagebox.askyesno(\"Question\",\"Do you like Python?\") \n",
    "\n",
    "answer = messagebox.askyesnocancel(\"Question\", \"Continue playing?\")\n"
   ]
  },
  {
   "cell_type": "code",
   "execution_count": null,
   "metadata": {},
   "outputs": [],
   "source": [
    "The return value is of type Boolean which is the answer to the question.\n",
    "\n",
    "\n",
    "If “cancel” is third option and the user selects it then None is returned.\n",
    " "
   ]
  },
  {
   "cell_type": "code",
   "execution_count": null,
   "metadata": {},
   "outputs": [],
   "source": [
    "Modify the Number Division App so that before quitting it asks for confirmation from the user"
   ]
  },
  {
   "cell_type": "code",
   "execution_count": null,
   "metadata": {},
   "outputs": [],
   "source": [
    "from tkinter import *\n",
    "from tkinter import messagebox\n",
    "\n",
    "def finish():\n",
    "    answer = messagebox.askyesno(\"Quitting!\", \"Are you sure you want to quit?\")\n",
    "    if answer==True:\n",
    "        root.destroy()\n"
   ]
  },
  {
   "cell_type": "code",
   "execution_count": null,
   "metadata": {},
   "outputs": [],
   "source": [
    "If we want to ask the user for a single data value, either a string, integer, or floating point value, we can use the tkinter.simpledialog module. \n",
    "\n",
    "\n",
    "The user can enter the requested value and hit “OK”, which will return the entered value. If the user hits “Cancel,” then None is returned.\n"
   ]
  },
  {
   "cell_type": "code",
   "execution_count": null,
   "metadata": {},
   "outputs": [],
   "source": [
    "To produce an input dialog we can call either of the following three functions present in the tkinter.simpledialog module.\n",
    "\n",
    "These are :\n",
    "askstring()\n",
    "\n",
    "askinteger()\n",
    "\n",
    "askfloat()\n"
   ]
  },
  {
   "cell_type": "code",
   "execution_count": null,
   "metadata": {},
   "outputs": [],
   "source": [
    "The function askstring( ) accepts 2 positional arguments and 2 optional arguments:\n",
    "Syntax:\n",
    "simpledialog.askstring(title, prompt [,options])\n",
    "\n",
    "title: The title of the dialog box\n",
    "\n",
    "prompt: The message to be displayed\n",
    "\n",
    "initialvalue: Initial value, if any. Default is an empty string.\n",
    "\n",
    "parent: Which window to place the dialog on top of. \n"
   ]
  },
  {
   "cell_type": "code",
   "execution_count": null,
   "metadata": {},
   "outputs": [],
   "source": [
    "Modify the Number Division App so that if the user chooses to quit then before terminating the app , your code prompts the user to input his name and shows a Greeting before termination. Also make sure that if the user doesn’t input his name or clicks on Cancel then your code assumes the name to be UserJee\n"
   ]
  },
  {
   "cell_type": "code",
   "execution_count": null,
   "metadata": {},
   "outputs": [],
   "source": [
    "from tkinter import *\n",
    "from tkinter import messagebox\n",
    "def finish():\n",
    "    answer = messagebox.askyesno(\"Quitting!\", \"Are you sure you want to quit?\")\n",
    "    if answer==True:\n",
    "        name=simpledialog.askstring(\"Input\",\"What is your name?\")\n",
    "        if name is None or name==\"\":\n",
    "            name=\" UserJee!\"\n",
    "        messagebox.showinfo(\"Thank you\",\"Have a good day \"+name)\n",
    "        root.destroy()\n"
   ]
  },
  {
   "cell_type": "code",
   "execution_count": null,
   "metadata": {},
   "outputs": [],
   "source": []
  },
  {
   "cell_type": "code",
   "execution_count": null,
   "metadata": {},
   "outputs": [],
   "source": []
  },
  {
   "cell_type": "code",
   "execution_count": null,
   "metadata": {},
   "outputs": [],
   "source": []
  },
  {
   "cell_type": "code",
   "execution_count": null,
   "metadata": {},
   "outputs": [],
   "source": []
  }
 ],
 "metadata": {
  "kernelspec": {
   "display_name": "Python 3",
   "language": "python",
   "name": "python3"
  },
  "language_info": {
   "codemirror_mode": {
    "name": "ipython",
    "version": 3
   },
   "file_extension": ".py",
   "mimetype": "text/x-python",
   "name": "python",
   "nbconvert_exporter": "python",
   "pygments_lexer": "ipython3",
   "version": "3.8.3"
  }
 },
 "nbformat": 4,
 "nbformat_minor": 4
}
