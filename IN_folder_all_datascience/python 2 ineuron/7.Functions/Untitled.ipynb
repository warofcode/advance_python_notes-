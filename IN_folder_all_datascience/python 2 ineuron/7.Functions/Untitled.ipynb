{
 "cells": [
  {
   "cell_type": "code",
   "execution_count": null,
   "metadata": {},
   "outputs": [],
   "source": [
    "import numpy as np\n",
    "import matplotlib.pyplot as plt\n",
    "import pandas as pd"
   ]
  },
  {
   "cell_type": "code",
   "execution_count": null,
   "metadata": {},
   "outputs": [],
   "source": [
    "#variables to store mean and standard deviation for each feature\n",
    "mu = []\n",
    "std = []"
   ]
  },
  {
   "cell_type": "code",
   "execution_count": null,
   "metadata": {},
   "outputs": [],
   "source": [
    "def load_data(filename):\n",
    "\tdf = pd.read_csv(filename, sep=\",\", index_col=False)\n",
    "\tdf.columns = [\"housesize\", \"rooms\", \"price\"]\n",
    "\tdata = np.array(df, dtype=float)\n",
    "\tplot_data(data[:,:2], data[:, -1])\n",
    "\tnormalize(data)\n",
    "\treturn data[:,:2], data[:, -1]\n",
    "\n",
    "def plot_data(x, y):\n",
    "\tplt.xlabel('house size')\n",
    "\tplt.ylabel('price')\n",
    "\tplt.plot(x[:,0], y, 'bo')\n",
    "\tplt.show()\n",
    "\n",
    "def normalize(data):\n",
    "\tfor i in range(0,data.shape[1]-1):\n",
    "\t\tdata[:,i] = ((data[:,i] - np.mean(data[:,i]))/np.std(data[:, i]))\n",
    "\t\tmu.append(np.mean(data[:,i]))\n",
    "\t\tstd.append(np.std(data[:, i]))\n",
    "\n",
    "\n",
    "def h(x,theta):\n",
    "\treturn np.matmul(x, theta)\n",
    "\n",
    "def cost_function(x, y, theta):\n",
    "\treturn ((h(x, theta)-y).T@(h(x, theta)-y))/(2*y.shape[0])\n",
    "\n",
    "def gradient_descent(x, y, theta, learning_rate=0.1, num_epochs=10):\n",
    "\tm = x.shape[0]\n",
    "\tJ_all = []\n",
    "\t\n",
    "\tfor _ in range(num_epochs):\n",
    "\t\th_x = h(x, theta)\n",
    "\t\tcost_ = (1/m)*(x.T@(h_x - y))\n",
    "\t\ttheta = theta - (learning_rate)*cost_\n",
    "\t\tJ_all.append(cost_function(x, y, theta))\n",
    "\n",
    "\treturn theta, J_all \n",
    "\n",
    "def plot_cost(J_all, num_epochs):\n",
    "\tplt.xlabel('Epochs')\n",
    "\tplt.ylabel('Cost')\n",
    "\tplt.plot(num_epochs, J_all, 'm', linewidth = \"5\")\n",
    "\tplt.show()\n",
    "\n",
    "def test(theta, x):\n",
    "\tx[0] = (x[0] - mu[0])/std[0]\n",
    "\tx[1] = (x[1] - mu[1])/std[1]\n",
    "\n",
    "\ty = theta[0] + theta[1]*x[0] + theta[2]*x[1]\n",
    "\tprint(\"Price of house: \", y)"
   ]
  },
  {
   "cell_type": "code",
   "execution_count": null,
   "metadata": {},
   "outputs": [],
   "source": [
    "x,y = load_data(\"house_price_data.txt\")\n",
    "y = np.reshape(y, (46,1))\n",
    "x = np.hstack((np.ones((x.shape[0],1)), x))\n",
    "theta = np.zeros((x.shape[1], 1))\n",
    "learning_rate = 0.1\n",
    "num_epochs = 50\n",
    "theta, J_all = gradient_descent(x, y, theta, learning_rate, num_epochs)\n",
    "J = cost_function(x, y, theta)\n",
    "print(\"Cost: \", J)\n",
    "print(\"Parameters: \", theta)"
   ]
  },
  {
   "cell_type": "code",
   "execution_count": null,
   "metadata": {},
   "outputs": [],
   "source": [
    "\n",
    "\n",
    "\n",
    "\n",
    "\n",
    "\n",
    "\n",
    "\n",
    "#for testing and plotting cost \n",
    "n_epochs = []\n",
    "jplot = []\n",
    "count = 0\n",
    "for i in J_all:\n",
    "\tjplot.append(i[0][0])\n",
    "\tn_epochs.append(count)\n",
    "\tcount += 1\n",
    "jplot = np.array(jplot)\n",
    "n_epochs = np.array(n_epochs)\n",
    "plot_cost(jplot, n_epochs)\n",
    "\n",
    "test(theta, [1600, 3])"
   ]
  }
 ],
 "metadata": {
  "kernelspec": {
   "display_name": "Python 3",
   "language": "python",
   "name": "python3"
  },
  "language_info": {
   "codemirror_mode": {
    "name": "ipython",
    "version": 3
   },
   "file_extension": ".py",
   "mimetype": "text/x-python",
   "name": "python",
   "nbconvert_exporter": "python",
   "pygments_lexer": "ipython3",
   "version": "3.8.3"
  }
 },
 "nbformat": 4,
 "nbformat_minor": 4
}
