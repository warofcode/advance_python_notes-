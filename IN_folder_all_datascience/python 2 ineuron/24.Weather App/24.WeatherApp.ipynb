{
 "cells": [
  {
   "cell_type": "markdown",
   "metadata": {},
   "source": [
    "<img src=\"https://d24cdstip7q8pz.cloudfront.net/t/ineuron1/content/common/images/final%20logo.png\" height=50 alt-text=\"iNeuron.ai logo\">"
   ]
  },
  {
   "cell_type": "markdown",
   "metadata": {},
   "source": [
    "# 24 Weather Application\n",
    "## Contents\n",
    "- **Preface**\n",
    "- **Introduction**\n",
    "  - **What is the Weather Forcasting?**\n",
    "  - **Specialist Forecasting?**\n",
    "- **Prerequisites**\n",
    "- **Application Architecture**\n",
    "- **Python Implementation**\n",
    "  - **Project structure**\n",
    "  - **Code Explanation**\n",
    "  - **Output**\n"
   ]
  },
  {
   "cell_type": "markdown",
   "metadata": {},
   "source": [
    "## 24.1 Preface\n",
    "This document is intended towards helping all the data scientists out there. It is a step by step guide for creating a `Weather App`. In this case, a weather application right from scratch and can be deployed in any cloud platform. This document takes a simple example of a weather application process from scratch and shows recent 5 city search of weather. \n"
   ]
  },
  {
   "cell_type": "markdown",
   "metadata": {},
   "source": [
    "## 24.2 Introduction\n",
    "### What is the Weather Forecasting?\n",
    "`Weather forecasting` is the application of science and technology to predict the conditions of the atmosphere for a given `location` and `time`. People have attempted to predict the weather informally for millennia and formally since the 19th century. Weather forecasts are made by collecting quantitative data about the current state of the atmosphere at a given place and using meteorology to project how the atmosphere will change.\n",
    "\n",
    "### Specialist Forecasting\n",
    "- Air traffic\n",
    "- Marine\n",
    "- Agriculture\n",
    "- Forestry\n",
    "- Military \n"
   ]
  },
  {
   "cell_type": "markdown",
   "metadata": {},
   "source": [
    "## 24.3 Prerequisites\n",
    "**The things needed before we start building a python based Weather App are:**\n",
    "- Python installed. \n",
    "- A Python IDE (Integrated Development Environment): like PyCharm, Spyder, or any other IDE of choice (Installation Process is provided in installation section) \n",
    "- Django installation using a simple command: \n",
    "```cmd\n",
    "pip install django\n",
    "```\n",
    "- Basic understanding of Python and HTML. \n",
    "- Basic understanding of Git (download Git CLI from https://gitforwindows.org/)\n"
   ]
  },
  {
   "cell_type": "markdown",
   "metadata": {},
   "source": [
    "## 24.4 Application Architecture\n",
    "\n",
    "<img src=\"imgs/architecture.png\" width=\"500\"/>"
   ]
  },
  {
   "cell_type": "markdown",
   "metadata": {},
   "source": [
    "## 24.5 Python Implementation\n"
   ]
  },
  {
   "cell_type": "markdown",
   "metadata": {},
   "source": [
    "### 24.5.1 Project structure\n",
    "\n",
    "**Note:** VSCode has been used as an IDE for this documentation\n",
    "\n",
    "1.\tLet’s create a folder called ‘templates’ on our local machines inside the weather app.\n",
    "2.\tInside that folder, let’s create one more file called ‘index.html’ to hold the code for the UI of our application.\n",
    "3.\tThe index.html file will display the information entered by user in tabular format and is going to be updated when user enters a new item.\n",
    "\n",
    "<img src=\"imgs/folder_structure.png\" width=\"300\"/> "
   ]
  },
  {
   "cell_type": "markdown",
   "metadata": {},
   "source": [
    "## 24.5.2 Code Explanation\n",
    "**a)** Import the necessary libraries:\n",
    "\n",
    " <img src=\"imgs/libraries.png\" width=\"500\"/> \n",
    "\n",
    "**b)** Form class to get and store input by user in database.\n",
    "\n",
    "<img src=\"imgs/form_class.png\" width=\"500\"/> \n",
    " \n",
    "**c)** Now let’s understand the functions. \n",
    "\n",
    "   - If the HTTP request method is POST, then the city name will be stored in database and user will able to see result in same page.\n",
    " \n",
    " <img src=\"imgs/result1.png\" width=\"500\"/> \n",
    " \n",
    " <img src=\"imgs/result2.png\" width=\"500\"/> \n",
    " \n",
    "\n",
    "\n"
   ]
  },
  {
   "cell_type": "markdown",
   "metadata": {},
   "source": [
    "\n",
    "## 24.5.3 Output\n",
    "\n",
    " <img src=\"imgs/output1.png\" width=\"600\"/> \n",
    "\n",
    " <img src=\"imgs/output2.png\" width=\"600\"/> \n"
   ]
  },
  {
   "cell_type": "code",
   "execution_count": null,
   "metadata": {},
   "outputs": [],
   "source": []
  },
  {
   "cell_type": "code",
   "execution_count": null,
   "metadata": {},
   "outputs": [],
   "source": []
  },
  {
   "cell_type": "code",
   "execution_count": null,
   "metadata": {},
   "outputs": [],
   "source": []
  },
  {
   "cell_type": "code",
   "execution_count": null,
   "metadata": {},
   "outputs": [],
   "source": []
  }
 ],
 "metadata": {
  "kernelspec": {
   "display_name": "Python 3",
   "language": "python",
   "name": "python3"
  },
  "language_info": {
   "codemirror_mode": {
    "name": "ipython",
    "version": 3
   },
   "file_extension": ".py",
   "mimetype": "text/x-python",
   "name": "python",
   "nbconvert_exporter": "python",
   "pygments_lexer": "ipython3",
   "version": "3.6.5"
  }
 },
 "nbformat": 4,
 "nbformat_minor": 2
}
