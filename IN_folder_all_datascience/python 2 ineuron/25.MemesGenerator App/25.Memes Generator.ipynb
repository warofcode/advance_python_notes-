{
 "cells": [
  {
   "cell_type": "markdown",
   "metadata": {},
   "source": [
    "<img src=\"https://d24cdstip7q8pz.cloudfront.net/t/ineuron1/content/common/images/final%20logo.png\" height=50 alt-text=\"iNeuron.ai logo\">"
   ]
  },
  {
   "cell_type": "markdown",
   "metadata": {},
   "source": [
    "# 25 Memes Generator\n",
    "## Contents\n",
    "- **Preface**\n",
    "- **Introduction**\n",
    "  - **What is the Meme Generator?**\n",
    "- **Prerequisites**\n",
    "- **Application Architecture**\n",
    "- **Python Implementation**\n",
    "  - **Project structure**\n",
    "  - **Code Explanation**\n",
    "  - **Output**\n",
    "    - **Home Page:**\n",
    "    - **Text Input Page:**\n",
    "    - **Output Page:**\n"
   ]
  },
  {
   "cell_type": "markdown",
   "metadata": {},
   "source": [
    "## 25.1 Preface\n",
    "This document is intended towards helping all the data scientists out there. It is a step by step guide for creating a memes generator. In this case, a memes generator right from scratch and can be deployed in any cloud platform. This document takes a simple example of a memes generating process from scratch and then its deployment to a cloud environment. \n"
   ]
  },
  {
   "cell_type": "markdown",
   "metadata": {},
   "source": [
    "## 25.2 Introduction\n",
    "### What is the Memes Generator?\n",
    "It's a free online image maker that allows you to add custom resizable text to images. It operates in HTML5 canvas, so your images are created instantly on your own device. Most commonly, people use the generator to add text captions to established `memes`, so technically it's more of a meme `\"captioner\"` than a meme maker. However, you can also upload your own images as templates.\n"
   ]
  },
  {
   "cell_type": "markdown",
   "metadata": {},
   "source": [
    "## 25.3 Prerequisites\n",
    "**The things needed before we start building a python based memes generator are:**\n",
    "- Python installed. \n",
    "- A Python IDE (Integrated Development Environment): like PyCharm, Spyder, or any other IDE of choice (Installation Process is provided in **`installation module`**) \n",
    "- Flask Installed using a  simple command: \n",
    "   ```cmd\n",
    "   pip install flask\n",
    "   ``` \n",
    "- Basic understanding of Python and HTML. \n",
    "- Basic understanding of Git (download Git CLI from https://gitforwindows.org/ )\n"
   ]
  },
  {
   "cell_type": "markdown",
   "metadata": {},
   "source": [
    "## 25.4 Application Architecture\n",
    "\n",
    "<img src=\"imgs/architecture.png\" width=\"500\"/>\n"
   ]
  },
  {
   "cell_type": "markdown",
   "metadata": {},
   "source": [
    "## 25.5 Python Implementation\n"
   ]
  },
  {
   "cell_type": "markdown",
   "metadata": {},
   "source": [
    "### 25.5.1 Project structure\n",
    "\n",
    "**Note:** VSCode has been used as an IDE for this documentation\n",
    "\n",
    "1. Let’s create a folder called ‘memegenerator’ on our local machines.\n",
    "2. Inside that folder, let’s create two more folders called ‘static’ and ‘templates’ to hold\n",
    "3. the code for the UI of our application. Inside ‘static’, let’s create a folder called ‘css’\n",
    "4. for keeping the stylesheets for our UI.\n",
    "5. Let’s create a file called ‘memegen.py’ inside the ‘memegenerator’ folder.\n",
    "6. Inside the folder ‘templates’, create three HTML files called: ‘base.html’,’index.html’, and ‘results.html’. The files are attached here for reference.\n",
    "\n",
    "    - image_upload.html→Takes image as input.\n",
    "    - make_meme.html→ Takes the sentenceas input which are to be shown in meme.\n",
    "    - grid.html→ Page to show the meme for image and input sentences.\n",
    "    \n",
    "<img src=\"imgs/folder_structure.png\" width=\"400\"/>    \n"
   ]
  },
  {
   "cell_type": "markdown",
   "metadata": {},
   "source": [
    "## 25.5.2 Code Explanation\n",
    "\n",
    "**a)** Import the necessary libraries:\n",
    " \n",
    " <img src=\"imgs/libraries.png\" width=\"500\"/> \n",
    " \n",
    "**b)** Initialize the flask app\n",
    " \n",
    " <img src=\"imgs/init_flask.png\" width=\"500\"/> \n",
    " \n",
    "**c)** Creating the routes to redirect the control inside the application itself. Based on the route path, the control gets transferred inside the application.\n",
    " \n",
    " <img src=\"imgs/route.png\" width=\"500\"/> \n",
    " \n",
    "**d)** Now let’s understand the functions. \n",
    "   - If the HTTP request method is POST (which is defined in image_upload.html at form submit action), then the image will be stored in database and user will be directed to.\n",
    "   \n",
    "<img src=\"imgs/image_upload.png\" width=\"500\"/> \n",
    "   - In the make_meme.html the user is asked to input the meme text for bottom and top of the meme.\n",
    " \n",
    " <img src=\"imgs/input_texts.png\" width=\"500\"/> \n",
    "\n",
    "   - The meme is generated using the memegenerator.py file and the output meme is shown to user.\n",
    "\n",
    " <img src=\"imgs/memegenerate.png\" width=\"500\"/> \n",
    "\n"
   ]
  },
  {
   "cell_type": "markdown",
   "metadata": {},
   "source": [
    "## 25.5.3 Output\n"
   ]
  },
  {
   "cell_type": "markdown",
   "metadata": {},
   "source": [
    "### 25.5.3.1 Home Page:\n",
    "<img src=\"imgs/home.png\" width=\"700\"/>  "
   ]
  },
  {
   "cell_type": "markdown",
   "metadata": {},
   "source": [
    "### 25.5.3.2 Text Input Page:\n",
    "<img src=\"imgs/text_input.png\" width=\"400\"/>  "
   ]
  },
  {
   "cell_type": "markdown",
   "metadata": {},
   "source": [
    "### 25.5.3.3 Output Page:\n",
    "<img src=\"imgs/output.png\" width=\"600\"/>  "
   ]
  },
  {
   "cell_type": "code",
   "execution_count": null,
   "metadata": {},
   "outputs": [],
   "source": []
  },
  {
   "cell_type": "code",
   "execution_count": null,
   "metadata": {},
   "outputs": [],
   "source": []
  },
  {
   "cell_type": "code",
   "execution_count": null,
   "metadata": {},
   "outputs": [],
   "source": []
  },
  {
   "cell_type": "code",
   "execution_count": null,
   "metadata": {},
   "outputs": [],
   "source": []
  }
 ],
 "metadata": {
  "kernelspec": {
   "display_name": "Python 3",
   "language": "python",
   "name": "python3"
  },
  "language_info": {
   "codemirror_mode": {
    "name": "ipython",
    "version": 3
   },
   "file_extension": ".py",
   "mimetype": "text/x-python",
   "name": "python",
   "nbconvert_exporter": "python",
   "pygments_lexer": "ipython3",
   "version": "3.6.5"
  }
 },
 "nbformat": 4,
 "nbformat_minor": 2
}
