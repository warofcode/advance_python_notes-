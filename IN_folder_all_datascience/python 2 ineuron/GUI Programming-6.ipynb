{
 "cells": [
  {
   "cell_type": "markdown",
   "metadata": {},
   "source": [
    "### GUI Programming-VIII\n",
    "\n",
    "Object Oriented GUI\n"
   ]
  },
  {
   "cell_type": "code",
   "execution_count": null,
   "metadata": {},
   "outputs": [],
   "source": [
    "Till now all the codes of GUI we have developed were procedure oriented.\n",
    "\n",
    "But professionally we always prefer to write our GUI app based on OOP concepts.\n",
    "\n",
    "This is because GUI programming readily lends itself to an object-oriented style, since a GUI is made up entirely of objects -- Labels, Buttons, Entry,Listbox etc. \n",
    "\n",
    "Since we're already using objects, organizing our code into larger objects makes sense\n"
   ]
  },
  {
   "cell_type": "code",
   "execution_count": null,
   "metadata": {},
   "outputs": [],
   "source": [
    "The conversion of procedure oriented GUI to object oriented is very simple.\n",
    "\n",
    "We just have to remember three steps:\n",
    "\n",
    "Create root object and pass it to the constructor of your class\n",
    "\n",
    "Design all the UI elements and their layouting in the constructor\n",
    "\n",
    "Handle all the events inside instance methods of the class\n"
   ]
  },
  {
   "cell_type": "code",
   "execution_count": 1,
   "metadata": {},
   "outputs": [],
   "source": [
    "from tkinter import *\n",
    "class MyFirstGUI:\n",
    "    def __init__(self, root):\n",
    "        self.root = root\n",
    "        self.root.title(\"An OOP GUI\")\n",
    "        self.root.geometry('200x200')\n",
    "        self.label = Label(self.root, text=\"Click the button\")\n",
    "        self.label.pack()\n",
    "\n",
    "        self.greet_button = Button(self.root, text=\"Greet\", command=self.greet)\n",
    "        self.greet_button.pack()\n",
    "\n",
    "        self.close_button = Button(self.root, text=\"Close\", command=self.root.destroy)\n",
    "        self.close_button.pack()\n",
    "\n",
    "    def greet(self):\n",
    "        self.label.configure(text=\"Welcome to Python\")\n",
    "\n",
    "root = Tk()\n",
    "my_gui = MyFirstGUI(root)\n",
    "root.mainloop()\n"
   ]
  },
  {
   "cell_type": "code",
   "execution_count": null,
   "metadata": {},
   "outputs": [],
   "source": [
    "from tkinter import *\n",
    "class MyGUI:\n",
    "    def __init__(self,root):\n",
    "        self.root=root\n",
    "        self.count=0\n",
    "        self.root.geometry('200x200')\n",
    "        self.b1 = Button(root, text=\"Click Me\", command=self.incrementcount)\n",
    "        self.l1 = Label(root, text=\"0\")\n",
    "        self.b1.pack()\n",
    "        self.l1.pack()\n",
    "\n",
    "    def incrementcount(self):\n",
    "        self.count+=1\n",
    "        self.l1.configure(text=str(self.count))\n",
    "root = Tk()\n",
    "obj=MyGUI(root)\n",
    "root.mainloop()"
   ]
  },
  {
   "cell_type": "code",
   "execution_count": 3,
   "metadata": {},
   "outputs": [],
   "source": [
    "from tkinter import *\n",
    "from tkinter import messagebox,simpledialog\n",
    "class MyGUI:\n",
    "    def __init__(self,root):\n",
    "        self.root=root\n",
    "        self.root.geometry('400x200+100+200')\n",
    "        self.l1 = Label(root, text=\"Number Division Program\", font=\"Arial 18 bold\")\n",
    "        self.l2 = Label(root, text=\"First No:\")\n",
    "        self.l3 = Label(root, text=\"Second No:\")\n",
    "        self.l4 = Label(root, text=\"Result:\")\n",
    "        self.e1 = Entry(root)\n",
    "        self.e2 = Entry(root)\n",
    "        self.e3 = Entry(root)\n",
    "        self.b1 = Button(root, text=\"Divide\", command=self.divide)\n",
    "        self.b2 = Button(root, text=\"Clear\", command=self.clear)\n",
    "        self.b3 = Button(root, text=\"Quit\", command=self.finish)\n",
    "        self.l1.grid(row=0, column=0, columnspan=4)\n",
    "        self.l2.grid(row=1, column=0, sticky=E)\n",
    "        self.e1.grid(row=1, column=1)\n",
    "        self.l3.grid(row=2, column=0, sticky=E)\n",
    "        self.e2.grid(row=2, column=1)\n",
    "        self.l4.grid(row=3, column=0, sticky=E)\n",
    "        self.e3.grid(row=3, column=1)\n",
    "        self.b1.grid(row=4, column=0, pady=5, padx=5, sticky=E + W)\n",
    "        self.b2.grid(row=4, column=1, pady=5, padx=5, sticky=E + W)\n",
    "        self.b3.grid(row=4, column=2, pady=5, padx=5, sticky=E + W)"
   ]
  },
  {
   "cell_type": "code",
   "execution_count": 6,
   "metadata": {},
   "outputs": [],
   "source": [
    "def divide(self):\n",
    "        try:\n",
    "            self.e3.delete(0, END)\n",
    "            self.e3.config(fg=\"red\")\n",
    "            a=int(self.e1.get())\n",
    "            b=int(self.e2.get())\n",
    "            c=a/b\n",
    "            self.e3.insert(0,str(c))\n",
    "            self.e3.config(fg=\"green\")\n",
    "        except ZeroDivisionError:\n",
    "            messagebox.showerror(\"Arithmetic Error!\",\"Denominator should not be 0!\")\n",
    "        except ValueError:\n",
    "            messagebox.showerror(\"Conversion Error!\", \"Only digits allowed!\")\n",
    "        \n",
    "            \n",
    "\n",
    "def clear(self):\n",
    "        self.e1.delete(0, END)\n",
    "        self.e2.delete(0, END)\n",
    "        self.e3.delete(0, END)\n",
    "        self.e1.focus()\n"
   ]
  },
  {
   "cell_type": "code",
   "execution_count": 7,
   "metadata": {},
   "outputs": [
    {
     "ename": "AttributeError",
     "evalue": "'MyGUI' object has no attribute 'divide'",
     "output_type": "error",
     "traceback": [
      "\u001b[1;31m---------------------------------------------------------------------------\u001b[0m",
      "\u001b[1;31mAttributeError\u001b[0m                            Traceback (most recent call last)",
      "\u001b[1;32m<ipython-input-7-0378335118ab>\u001b[0m in \u001b[0;36m<module>\u001b[1;34m\u001b[0m\n\u001b[0;32m      9\u001b[0m \u001b[1;33m\u001b[0m\u001b[0m\n\u001b[0;32m     10\u001b[0m \u001b[0mroot\u001b[0m \u001b[1;33m=\u001b[0m \u001b[0mTk\u001b[0m\u001b[1;33m(\u001b[0m\u001b[1;33m)\u001b[0m\u001b[1;33m\u001b[0m\u001b[1;33m\u001b[0m\u001b[0m\n\u001b[1;32m---> 11\u001b[1;33m \u001b[0mobj\u001b[0m\u001b[1;33m=\u001b[0m\u001b[0mMyGUI\u001b[0m\u001b[1;33m(\u001b[0m\u001b[0mroot\u001b[0m\u001b[1;33m)\u001b[0m\u001b[1;33m\u001b[0m\u001b[1;33m\u001b[0m\u001b[0m\n\u001b[0m\u001b[0;32m     12\u001b[0m \u001b[0mroot\u001b[0m\u001b[1;33m.\u001b[0m\u001b[0mmainloop\u001b[0m\u001b[1;33m(\u001b[0m\u001b[1;33m)\u001b[0m\u001b[1;33m\u001b[0m\u001b[1;33m\u001b[0m\u001b[0m\n",
      "\u001b[1;32m<ipython-input-3-ec00acfd4f3c>\u001b[0m in \u001b[0;36m__init__\u001b[1;34m(self, root)\u001b[0m\n\u001b[0;32m     12\u001b[0m         \u001b[0mself\u001b[0m\u001b[1;33m.\u001b[0m\u001b[0me2\u001b[0m \u001b[1;33m=\u001b[0m \u001b[0mEntry\u001b[0m\u001b[1;33m(\u001b[0m\u001b[0mroot\u001b[0m\u001b[1;33m)\u001b[0m\u001b[1;33m\u001b[0m\u001b[1;33m\u001b[0m\u001b[0m\n\u001b[0;32m     13\u001b[0m         \u001b[0mself\u001b[0m\u001b[1;33m.\u001b[0m\u001b[0me3\u001b[0m \u001b[1;33m=\u001b[0m \u001b[0mEntry\u001b[0m\u001b[1;33m(\u001b[0m\u001b[0mroot\u001b[0m\u001b[1;33m)\u001b[0m\u001b[1;33m\u001b[0m\u001b[1;33m\u001b[0m\u001b[0m\n\u001b[1;32m---> 14\u001b[1;33m         \u001b[0mself\u001b[0m\u001b[1;33m.\u001b[0m\u001b[0mb1\u001b[0m \u001b[1;33m=\u001b[0m \u001b[0mButton\u001b[0m\u001b[1;33m(\u001b[0m\u001b[0mroot\u001b[0m\u001b[1;33m,\u001b[0m \u001b[0mtext\u001b[0m\u001b[1;33m=\u001b[0m\u001b[1;34m\"Divide\"\u001b[0m\u001b[1;33m,\u001b[0m \u001b[0mcommand\u001b[0m\u001b[1;33m=\u001b[0m\u001b[0mself\u001b[0m\u001b[1;33m.\u001b[0m\u001b[0mdivide\u001b[0m\u001b[1;33m)\u001b[0m\u001b[1;33m\u001b[0m\u001b[1;33m\u001b[0m\u001b[0m\n\u001b[0m\u001b[0;32m     15\u001b[0m         \u001b[0mself\u001b[0m\u001b[1;33m.\u001b[0m\u001b[0mb2\u001b[0m \u001b[1;33m=\u001b[0m \u001b[0mButton\u001b[0m\u001b[1;33m(\u001b[0m\u001b[0mroot\u001b[0m\u001b[1;33m,\u001b[0m \u001b[0mtext\u001b[0m\u001b[1;33m=\u001b[0m\u001b[1;34m\"Clear\"\u001b[0m\u001b[1;33m,\u001b[0m \u001b[0mcommand\u001b[0m\u001b[1;33m=\u001b[0m\u001b[0mself\u001b[0m\u001b[1;33m.\u001b[0m\u001b[0mclear\u001b[0m\u001b[1;33m)\u001b[0m\u001b[1;33m\u001b[0m\u001b[1;33m\u001b[0m\u001b[0m\n\u001b[0;32m     16\u001b[0m         \u001b[0mself\u001b[0m\u001b[1;33m.\u001b[0m\u001b[0mb3\u001b[0m \u001b[1;33m=\u001b[0m \u001b[0mButton\u001b[0m\u001b[1;33m(\u001b[0m\u001b[0mroot\u001b[0m\u001b[1;33m,\u001b[0m \u001b[0mtext\u001b[0m\u001b[1;33m=\u001b[0m\u001b[1;34m\"Quit\"\u001b[0m\u001b[1;33m,\u001b[0m \u001b[0mcommand\u001b[0m\u001b[1;33m=\u001b[0m\u001b[0mself\u001b[0m\u001b[1;33m.\u001b[0m\u001b[0mfinish\u001b[0m\u001b[1;33m)\u001b[0m\u001b[1;33m\u001b[0m\u001b[1;33m\u001b[0m\u001b[0m\n",
      "\u001b[1;31mAttributeError\u001b[0m: 'MyGUI' object has no attribute 'divide'"
     ]
    }
   ],
   "source": [
    "def finish(self):\n",
    "        answer = messagebox.askyesno(\"Quitting!\", \"Are you sure you want to quit?\")\n",
    "        if answer==True:\n",
    "            name=simpledialog.askstring(\"Input\",\"What is your name?\")\n",
    "        if name is None or name==\"\":\n",
    "            name=\" UserJee!\"\n",
    "        messagebox.showinfo(\"Thank you\",\"Have a good day \"+name)\n",
    "        self.root.destroy()\n",
    "\n",
    "root = Tk()\n",
    "obj=MyGUI(root)\n",
    "root.mainloop()\n"
   ]
  },
  {
   "cell_type": "code",
   "execution_count": null,
   "metadata": {},
   "outputs": [],
   "source": [
    "geometry what is that '400x200+100+200' means\n"
   ]
  },
  {
   "cell_type": "code",
   "execution_count": null,
   "metadata": {},
   "outputs": [],
   "source": []
  },
  {
   "cell_type": "code",
   "execution_count": null,
   "metadata": {},
   "outputs": [],
   "source": []
  },
  {
   "cell_type": "code",
   "execution_count": null,
   "metadata": {},
   "outputs": [],
   "source": []
  }
 ],
 "metadata": {
  "kernelspec": {
   "display_name": "Python 3",
   "language": "python",
   "name": "python3"
  },
  "language_info": {
   "codemirror_mode": {
    "name": "ipython",
    "version": 3
   },
   "file_extension": ".py",
   "mimetype": "text/x-python",
   "name": "python",
   "nbconvert_exporter": "python",
   "pygments_lexer": "ipython3",
   "version": "3.8.3"
  }
 },
 "nbformat": 4,
 "nbformat_minor": 4
}
