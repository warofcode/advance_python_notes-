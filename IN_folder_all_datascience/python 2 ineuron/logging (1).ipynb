{
 "cells": [
  {
   "cell_type": "code",
   "execution_count": 1,
   "metadata": {},
   "outputs": [
    {
     "name": "stdout",
     "output_type": "stream",
     "text": [
      "fsfassadfsaf\n"
     ]
    }
   ],
   "source": [
    "print(\"fsfassadfsaf\")"
   ]
  },
  {
   "cell_type": "code",
   "execution_count": 1,
   "metadata": {},
   "outputs": [],
   "source": [
    "import logging"
   ]
  },
  {
   "cell_type": "code",
   "execution_count": 2,
   "metadata": {},
   "outputs": [],
   "source": [
    "logging.basicConfig(filename = \"test.log\" ,level = logging.INFO)"
   ]
  },
  {
   "cell_type": "code",
   "execution_count": 3,
   "metadata": {},
   "outputs": [],
   "source": [
    "logging.info(\"this is my info log \")\n",
    "logging.warning(\"this is my warning log \")\n",
    "logging.error(\"this is my error log\")"
   ]
  },
  {
   "cell_type": "code",
   "execution_count": 4,
   "metadata": {},
   "outputs": [],
   "source": [
    "logging.shutdown()"
   ]
  },
  {
   "cell_type": "code",
   "execution_count": 4,
   "metadata": {},
   "outputs": [
    {
     "data": {
      "text/plain": [
       "'C:\\\\Users\\\\win10\\\\jupyter\\\\Complete Python Module-20210227T092441Z-001\\\\Complete Python Module\\\\11.1 Logging'"
      ]
     },
     "execution_count": 4,
     "metadata": {},
     "output_type": "execute_result"
    }
   ],
   "source": [
    "pwd()"
   ]
  },
  {
   "cell_type": "code",
   "execution_count": null,
   "metadata": {},
   "outputs": [],
   "source": [
    "DEBUG \n",
    "INFO\n",
    "WARNING\n",
    "ERROR\n",
    "CRITICAL\n"
   ]
  },
  {
   "cell_type": "code",
   "execution_count": 1,
   "metadata": {},
   "outputs": [],
   "source": [
    "import logging\n",
    "logging.basicConfig(filename = \"test2.log\" , level = logging.DEBUG , format ='%(asctime)s %(levelname)s %(message)s' )"
   ]
  },
  {
   "cell_type": "code",
   "execution_count": 2,
   "metadata": {},
   "outputs": [],
   "source": [
    "logging.info(\"this is my info log\")\n",
    "logging.warning(\"this is my warniing log \")\n",
    "logging.debug(\"this is my debug log \")\n",
    "logging.error(\"this is my error log\")"
   ]
  },
  {
   "cell_type": "code",
   "execution_count": null,
   "metadata": {},
   "outputs": [],
   "source": [
    "ERROR\n",
    "WARNING\n",
    "INFO\n",
    "DEBUG\n"
   ]
  },
  {
   "cell_type": "code",
   "execution_count": 1,
   "metadata": {},
   "outputs": [],
   "source": [
    "import logging\n",
    "logging.basicConfig(filename = \"test3.log\" , level = logging.DEBUG , format ='%(asctime)s %(levelname)s %(message)s' )"
   ]
  },
  {
   "cell_type": "code",
   "execution_count": 2,
   "metadata": {},
   "outputs": [],
   "source": [
    "def divbyzero(a,b) :\n",
    "    logging.info(\"this is a start of my code and i am try to enter %s and %s\" , a,b)\n",
    "    try:\n",
    "        div = a/b\n",
    "        logging.info(\"executed succ\")\n",
    "    except Exception as e :4\n",
    "        logging.error(\"Errog has happend \")\n",
    "        logging.exception(\"Exception occured \" + str(e))"
   ]
  },
  {
   "cell_type": "code",
   "execution_count": 4,
   "metadata": {},
   "outputs": [],
   "source": [
    "divbyzero(4,5)"
   ]
  },
  {
   "cell_type": "code",
   "execution_count": 9,
   "metadata": {},
   "outputs": [],
   "source": [
    "divbyzero(4,0)"
   ]
  },
  {
   "cell_type": "code",
   "execution_count": 2,
   "metadata": {},
   "outputs": [
    {
     "name": "stderr",
     "output_type": "stream",
     "text": [
      "WARNING:root:Watch out!\n"
     ]
    }
   ],
   "source": [
    "import logging\n",
    "logging.info('I told you so')  # will not print anything\n",
    "logging.warning('Watch out!')  # will print a message to the console\n"
   ]
  },
  {
   "cell_type": "code",
   "execution_count": 1,
   "metadata": {},
   "outputs": [
    {
     "ename": "ValueError",
     "evalue": "Unrecognised argument(s): encoding",
     "output_type": "error",
     "traceback": [
      "\u001b[1;31m---------------------------------------------------------------------------\u001b[0m",
      "\u001b[1;31mValueError\u001b[0m                                Traceback (most recent call last)",
      "\u001b[1;32m<ipython-input-1-6dcf6f80900f>\u001b[0m in \u001b[0;36m<module>\u001b[1;34m\u001b[0m\n\u001b[0;32m      1\u001b[0m \u001b[1;32mimport\u001b[0m \u001b[0mlogging\u001b[0m\u001b[1;33m\u001b[0m\u001b[1;33m\u001b[0m\u001b[0m\n\u001b[1;32m----> 2\u001b[1;33m \u001b[0mlogging\u001b[0m\u001b[1;33m.\u001b[0m\u001b[0mbasicConfig\u001b[0m\u001b[1;33m(\u001b[0m\u001b[0mfilename\u001b[0m\u001b[1;33m=\u001b[0m\u001b[1;34m'example2.log'\u001b[0m\u001b[1;33m,\u001b[0m\u001b[0mencoding\u001b[0m\u001b[1;33m=\u001b[0m\u001b[1;34m'utf-8'\u001b[0m\u001b[1;33m,\u001b[0m\u001b[0mlevel\u001b[0m\u001b[1;33m=\u001b[0m\u001b[0mlogging\u001b[0m\u001b[1;33m.\u001b[0m\u001b[0mDEBUG\u001b[0m\u001b[1;33m)\u001b[0m\u001b[1;33m\u001b[0m\u001b[1;33m\u001b[0m\u001b[0m\n\u001b[0m",
      "\u001b[1;32mC:\\ProgramData\\Anaconda3\\lib\\logging\\__init__.py\u001b[0m in \u001b[0;36mbasicConfig\u001b[1;34m(**kwargs)\u001b[0m\n\u001b[0;32m   1995\u001b[0m             \u001b[1;32mif\u001b[0m \u001b[0mkwargs\u001b[0m\u001b[1;33m:\u001b[0m\u001b[1;33m\u001b[0m\u001b[1;33m\u001b[0m\u001b[0m\n\u001b[0;32m   1996\u001b[0m                 \u001b[0mkeys\u001b[0m \u001b[1;33m=\u001b[0m \u001b[1;34m', '\u001b[0m\u001b[1;33m.\u001b[0m\u001b[0mjoin\u001b[0m\u001b[1;33m(\u001b[0m\u001b[0mkwargs\u001b[0m\u001b[1;33m.\u001b[0m\u001b[0mkeys\u001b[0m\u001b[1;33m(\u001b[0m\u001b[1;33m)\u001b[0m\u001b[1;33m)\u001b[0m\u001b[1;33m\u001b[0m\u001b[1;33m\u001b[0m\u001b[0m\n\u001b[1;32m-> 1997\u001b[1;33m                 \u001b[1;32mraise\u001b[0m \u001b[0mValueError\u001b[0m\u001b[1;33m(\u001b[0m\u001b[1;34m'Unrecognised argument(s): %s'\u001b[0m \u001b[1;33m%\u001b[0m \u001b[0mkeys\u001b[0m\u001b[1;33m)\u001b[0m\u001b[1;33m\u001b[0m\u001b[1;33m\u001b[0m\u001b[0m\n\u001b[0m\u001b[0;32m   1998\u001b[0m     \u001b[1;32mfinally\u001b[0m\u001b[1;33m:\u001b[0m\u001b[1;33m\u001b[0m\u001b[1;33m\u001b[0m\u001b[0m\n\u001b[0;32m   1999\u001b[0m         \u001b[0m_releaseLock\u001b[0m\u001b[1;33m(\u001b[0m\u001b[1;33m)\u001b[0m\u001b[1;33m\u001b[0m\u001b[1;33m\u001b[0m\u001b[0m\n",
      "\u001b[1;31mValueError\u001b[0m: Unrecognised argument(s): encoding"
     ]
    }
   ],
   "source": [
    "import logging\n",
    "logging.basicConfig(filename='example2.log',encoding='utf-8',level=logging.DEBUG)"
   ]
  },
  {
   "cell_type": "code",
   "execution_count": 8,
   "metadata": {},
   "outputs": [
    {
     "data": {
      "text/plain": [
       "'F:\\\\kiet python\\\\python 2'"
      ]
     },
     "execution_count": 8,
     "metadata": {},
     "output_type": "execute_result"
    }
   ],
   "source": [
    "pwd()"
   ]
  },
  {
   "cell_type": "code",
   "execution_count": 9,
   "metadata": {},
   "outputs": [
    {
     "data": {
      "text/plain": [
       "'F:\\\\kiet python\\\\python 2'"
      ]
     },
     "execution_count": 9,
     "metadata": {},
     "output_type": "execute_result"
    }
   ],
   "source": [
    "import os\n",
    "os.getcwd()"
   ]
  },
  {
   "cell_type": "code",
   "execution_count": 10,
   "metadata": {},
   "outputs": [
    {
     "name": "stdout",
     "output_type": "stream",
     "text": [
      " Volume in drive F is New Volume\n",
      " Volume Serial Number is 3642-9080\n",
      "\n",
      " Directory of F:\\kiet python\\python 2\n",
      "\n",
      "07-02-2022  22:13    <DIR>          .\n",
      "03-01-2022  11:46    <DIR>          ..\n",
      "07-02-2022  19:54    <DIR>          .ipynb_checkpoints\n",
      "12-12-2021  18:27    <DIR>          1.Python Overview\n",
      "12-12-2021  18:15    <DIR>          10.OS and Shutil\n",
      "12-12-2021  18:15    <DIR>          11.1 Logging\n",
      "12-12-2021  18:15    <DIR>          11.2 Debugger\n",
      "12-12-2021  18:15    <DIR>          12. Module and import\n",
      "12-12-2021  18:15    <DIR>          13. OOPS\n",
      "12-12-2021  18:15    <DIR>          14. Exception\n",
      "12-12-2021  18:16    <DIR>          15.1 Merge multiple jupyter notebooks Project\n",
      "12-12-2021  18:15    <DIR>          15.2 Send Email Project\n",
      "12-12-2021  18:15    <DIR>          15.3.Image Resize Project\n",
      "12-12-2021  18:15    <DIR>          16-17. Pandas-Numpy\n",
      "12-12-2021  18:15    <DIR>          18.1 MATPLOTLIB\n",
      "12-12-2021  18:15    <DIR>          18.2 SEABORN\n",
      "12-12-2021  18:15    <DIR>          18.3.Plotly\n",
      "12-12-2021  18:15    <DIR>          18.4.Cufflinks\n",
      "12-12-2021  18:15    <DIR>          19.1.SqLite\n",
      "12-12-2021  18:16    <DIR>          19.2.MySQL\n",
      "12-12-2021  18:15    <DIR>          19.3 MongoDB\n",
      "12-12-2021  18:15    <DIR>          19.4.Cassandra\n",
      "12-12-2021  18:19    <DIR>          2.Installation\n",
      "12-12-2021  18:15    <DIR>          20.Memory Management\n",
      "12-12-2021  18:16    <DIR>          21.Flask\n",
      "12-12-2021  18:16    <DIR>          22.Food App\n",
      "12-12-2021  18:16    <DIR>          23. Django\n",
      "12-12-2021  18:16    <DIR>          24.Weather App\n",
      "12-12-2021  18:16    <DIR>          25.MemesGenerator App\n",
      "12-12-2021  18:16    <DIR>          26. Django-blog app\n",
      "13-12-2021  15:44    <DIR>          3. Basic variables\n",
      "19-01-2022  22:50    <DIR>          4.Control Flow\n",
      "12-12-2021  18:15    <DIR>          4.Expressions Operators and Precedence\n",
      "12-12-2021  18:15    <DIR>          6. Variable-containers\n",
      "02-02-2022  23:22    <DIR>          7.Functions\n",
      "15-12-2021  12:22    <DIR>          8.Iterators Generators\n",
      "12-12-2021  18:15    <DIR>          9.File I-O\n",
      "12-12-2021  18:01       351,223,556 drive-download-20211212T122230Z-001.zip\n",
      "07-02-2022  22:12               498 example1.log\n",
      "07-02-2022  22:13             8,901 logging (1).ipynb\n",
      "07-02-2022  19:56             8,157 Logging_And_Exception_Handling.ipynb\n",
      "18-08-2020  03:50             6,095 Python Table of Content.xlsx\n",
      "12-12-2021  18:16    <DIR>          QnA\n",
      "07-02-2022  22:03               100 test.log\n",
      "               6 File(s)    351,247,307 bytes\n",
      "              38 Dir(s)  271,711,600,640 bytes free\n"
     ]
    }
   ],
   "source": [
    "!dir"
   ]
  },
  {
   "cell_type": "code",
   "execution_count": 11,
   "metadata": {},
   "outputs": [],
   "source": [
    "logging.debug('This message should go to the log file')\n",
    "logging.info('So should this')\n",
    "logging.warning('And this, too')\n",
    "logging.error('And non-ASCII stuff, too, like Øresund and Malmö')"
   ]
  },
  {
   "cell_type": "code",
   "execution_count": null,
   "metadata": {},
   "outputs": [],
   "source": []
  }
 ],
 "metadata": {
  "kernelspec": {
   "display_name": "Python 3",
   "language": "python",
   "name": "python3"
  },
  "language_info": {
   "codemirror_mode": {
    "name": "ipython",
    "version": 3
   },
   "file_extension": ".py",
   "mimetype": "text/x-python",
   "name": "python",
   "nbconvert_exporter": "python",
   "pygments_lexer": "ipython3",
   "version": "3.8.3"
  }
 },
 "nbformat": 4,
 "nbformat_minor": 4
}
