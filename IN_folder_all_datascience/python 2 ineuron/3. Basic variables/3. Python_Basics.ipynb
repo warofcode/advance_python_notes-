{
 "cells": [
  {
   "cell_type": "markdown",
   "metadata": {
    "colab_type": "text",
    "id": "emIqoquCSUlM"
   },
   "source": [
    "<img src=\"https://d24cdstip7q8pz.cloudfront.net/t/ineuron1/content/common/images/final%20logo.png\" height=60 alt-text=\"iNeuron.ai logo\">"
   ]
  },
  {
   "cell_type": "markdown",
   "metadata": {
    "colab_type": "text",
    "id": "fEf0kwLeSUlO"
   },
   "source": [
    "## 3.1 Basics of Python\n",
    "\n",
    "Python is a high-level, dynamically typed multiparadigm programming language. Python code is often said to be almost like pseudocode, since it allows you to express very powerful ideas in very few lines of code while being very readable.\n",
    "\n",
    "Before going for variables in python, Let's have a look at simple hello world program in python.\n",
    "> **Note:** All below examples are using python 3 version. There is syntactically difference in python different versions(python 2 and python 3)"
   ]
  },
  {
   "cell_type": "code",
   "execution_count": null,
   "metadata": {
    "colab": {},
    "colab_type": "code",
    "id": "uOGl0GnNSUlT",
    "outputId": "0b673f8a-1b37-495e-eb89-fc6b47383b61"
   },
   "outputs": [
    {
     "name": "stdout",
     "output_type": "stream",
     "text": [
      "Hello, world\n"
     ]
    }
   ],
   "source": [
    "# Python 3\n",
    "print(\"Hello, world\")"
   ]
  },
  {
   "cell_type": "code",
   "execution_count": null,
   "metadata": {
    "colab": {},
    "colab_type": "code",
    "id": "TebC2v5eSUle",
    "outputId": "0fc389ec-ba48-410d-9d35-05b7a184105e"
   },
   "outputs": [
    {
     "ename": "SyntaxError",
     "evalue": "Missing parentheses in call to 'print'. Did you mean print(\"hello, world\")? (<ipython-input-3-0df62ad6f325>, line 2)",
     "output_type": "error",
     "traceback": [
      "\u001b[1;36m  File \u001b[1;32m\"<ipython-input-3-0df62ad6f325>\"\u001b[1;36m, line \u001b[1;32m2\u001b[0m\n\u001b[1;33m    print \"hello, world\"\u001b[0m\n\u001b[1;37m                       ^\u001b[0m\n\u001b[1;31mSyntaxError\u001b[0m\u001b[1;31m:\u001b[0m Missing parentheses in call to 'print'. Did you mean print(\"hello, world\")?\n"
     ]
    }
   ],
   "source": [
    "# python 2\n",
    "print \"hello, world\""
   ]
  },
  {
   "cell_type": "markdown",
   "metadata": {
    "colab_type": "text",
    "id": "oZwj3znXSUlj"
   },
   "source": [
    "Above python 2 statement gives error as this code is for python 3 & If you are using python 2 then syntax will be different"
   ]
  },
  {
   "cell_type": "markdown",
   "metadata": {
    "colab_type": "text",
    "id": "nMyD-MRwSUll"
   },
   "source": [
    "Let's have few more examples:-"
   ]
  },
  {
   "cell_type": "code",
   "execution_count": null,
   "metadata": {
    "colab": {},
    "colab_type": "code",
    "id": "I1znGvHvSUlo",
    "outputId": "dfa1f05a-3b1c-402c-8b63-e77335929ca8"
   },
   "outputs": [
    {
     "name": "stdout",
     "output_type": "stream",
     "text": [
      "Greetings from ineuron!\n",
      "Good morning!\n",
      "Keep doing hard work to achieve your goals in your life\n",
      "All our dreams can come true, if we have the courage to pursue them. – Walt Disney\n"
     ]
    }
   ],
   "source": [
    "print(\"Greetings from ineuron!\")\n",
    "print(\"Good morning!\")\n",
    "print(\"Keep doing hard work to achieve your goals in your life\")\n",
    "print(\"All our dreams can come true, if we have the courage to pursue them. – Walt Disney\")"
   ]
  },
  {
   "cell_type": "code",
   "execution_count": 8,
   "metadata": {},
   "outputs": [],
   "source": [
    "a=10 #this is a integer value\n",
    "b=10.5 # this is a float value\n",
    "c=\"sunny\" #this is a string value\n"
   ]
  },
  {
   "cell_type": "code",
   "execution_count": null,
   "metadata": {},
   "outputs": [],
   "source": [
    "int()\n",
    "float()\n",
    "str()\n"
   ]
  },
  {
   "cell_type": "markdown",
   "metadata": {
    "colab_type": "text",
    "id": "tEkrflxoSUlx"
   },
   "source": [
    "## 3.2 Comments in python\n",
    "\n",
    "Comments in python is responsible for not executing that piece of code. You can add comment by using ctrl `+` `/` or by using `#`"
   ]
  },
  {
   "cell_type": "code",
   "execution_count": null,
   "metadata": {
    "colab": {},
    "colab_type": "code",
    "id": "cOF67xleSUlz",
    "outputId": "cc2279c4-5f5f-4e4e-95b5-f480a548349e"
   },
   "outputs": [
    {
     "name": "stdout",
     "output_type": "stream",
     "text": [
      "As this is not commented, this print statement will execute\n"
     ]
    }
   ],
   "source": [
    "# This piece of code will not execute\n",
    "# print(\"As this is commented, this print statement will not execute\")\n",
    "\n",
    "# This piece if code will execute\n",
    "print(\"As this is not commented, this print statement will execute\")"
   ]
  },
  {
   "cell_type": "code",
   "execution_count": 9,
   "metadata": {},
   "outputs": [
    {
     "name": "stdout",
     "output_type": "stream",
     "text": [
      "30\n"
     ]
    }
   ],
   "source": [
    "'''ghfhgfhjhj\n",
    "cghhccjh\n",
    "vhjhjj'''\n",
    "a=10\n",
    "b=20\n",
    "print(a+b)"
   ]
  },
  {
   "cell_type": "code",
   "execution_count": null,
   "metadata": {
    "colab": {},
    "colab_type": "code",
    "id": "eoSvMePUSUl8"
   },
   "outputs": [],
   "source": [
    "# print(\"hii\")\n",
    "# print(\"ineuron\")\n",
    "# print(\"welcome to Data science course\")*/"
   ]
  },
  {
   "cell_type": "markdown",
   "metadata": {
    "colab_type": "text",
    "id": "LI3_RywUSUmB"
   },
   "source": [
    "Unlike other programming languages Python doesn't support multi-line comment blocks out of the box.\n",
    "For multiple line comment, we need to insert # single-line comments in evry line. "
   ]
  },
  {
   "cell_type": "markdown",
   "metadata": {
    "colab_type": "text",
    "id": "hsh6vAffSUmD"
   },
   "source": [
    "For multiple line, we can use `\"\"\"` or `'''` (triple quotes) which we can use if our string doesn't fit into single line.See example below."
   ]
  },
  {
   "cell_type": "code",
   "execution_count": null,
   "metadata": {
    "colab": {},
    "colab_type": "code",
    "id": "g7vjFNG2SUmE",
    "outputId": "c8bd7960-a25b-41d2-9b19-8662bef39507"
   },
   "outputs": [
    {
     "data": {
      "text/plain": [
       "' Multi-line comment used \\nprint(\"Python Comments\") '"
      ]
     },
     "execution_count": 59,
     "metadata": {
      "tags": []
     },
     "output_type": "execute_result"
    }
   ],
   "source": [
    "\"\"\" Multi-line comment used \n",
    "print(\"Python Comments\") \"\"\""
   ]
  },
  {
   "cell_type": "markdown",
   "metadata": {
    "colab_type": "text",
    "id": "5STi9KR-SUmL"
   },
   "source": [
    "## 3.3 Variables in python\n",
    "\n",
    "In any programming language, variable is nothing but just a name for identity. Like we all have our name and from our name people will recognize oneself and identify oneself.So Developers will use variables/ variable names to make the code more user-friendly , just like an english language so that no one will lost in the code.If any third person will see the code, they will be able to understand the code and the meaning behind it easily just by seeing useful variable names.\n",
    "\n",
    "In a more technical term,we can say that variables in python are the values that will vary.A variable is used to store a value. According to the requirement, this value of variable may change in future.\n",
    "\n",
    "In python, there is no need of declaring variable as soon as you assign something to a variable variable is called declared. explicitely we don't need any declaration."
   ]
  },
  {
   "cell_type": "markdown",
   "metadata": {
    "colab_type": "text",
    "id": "3arqVnU0SUmQ"
   },
   "source": [
    "### 3.1 Definining\n",
    "\n",
    "A variable in Python is defined through assignment. There is no concept of declaring a variable outside of that assignment."
   ]
  },
  {
   "cell_type": "code",
   "execution_count": null,
   "metadata": {
    "colab": {
     "base_uri": "https://localhost:8080/",
     "height": 34
    },
    "colab_type": "code",
    "executionInfo": {
     "elapsed": 2001,
     "status": "ok",
     "timestamp": 1597652355919,
     "user": {
      "displayName": "khushali shah",
      "photoUrl": "https://lh3.googleusercontent.com/a-/AOh14Gin-WGUtjrJSNaMWLlI-Wr_VJF7QMxCHLiP64LO=s64",
      "userId": "00155816219623022725"
     },
     "user_tz": -330
    },
    "id": "UlMfXiH6SUmT",
    "outputId": "717134f3-b6d6-4f30-dcac-cafb133711b1"
   },
   "outputs": [
    {
     "data": {
      "text/plain": [
       "10"
      ]
     },
     "execution_count": 9,
     "metadata": {
      "tags": []
     },
     "output_type": "execute_result"
    }
   ],
   "source": [
    "# Assigning value to variable and printing the variable\n",
    "tenth = 10\n",
    "tenth"
   ]
  },
  {
   "cell_type": "code",
   "execution_count": null,
   "metadata": {
    "colab": {
     "base_uri": "https://localhost:8080/",
     "height": 34
    },
    "colab_type": "code",
    "executionInfo": {
     "elapsed": 1373,
     "status": "ok",
     "timestamp": 1597649648353,
     "user": {
      "displayName": "khushali shah",
      "photoUrl": "https://lh3.googleusercontent.com/a-/AOh14Gin-WGUtjrJSNaMWLlI-Wr_VJF7QMxCHLiP64LO=s64",
      "userId": "00155816219623022725"
     },
     "user_tz": -330
    },
    "id": "U0FgqCIaSUmZ",
    "outputId": "7ae4bd24-06ca-462a-8234-99ecc7449ba2"
   },
   "outputs": [
    {
     "name": "stdout",
     "output_type": "stream",
     "text": [
      "5 10\n"
     ]
    }
   ],
   "source": [
    "X=5\n",
    "y = 10\n",
    "\n",
    "print(X,y)"
   ]
  },
  {
   "cell_type": "code",
   "execution_count": null,
   "metadata": {
    "colab": {},
    "colab_type": "code",
    "id": "j-EvqKzkSUme"
   },
   "outputs": [],
   "source": [
    "''' \n",
    "Here name is variable and assigning name ineuron to variable name then we dont need to declare and assign , \n",
    "we can directly assign hence it is declared. For example,\n",
    "'''\n",
    "\n",
    "# Correct variable assignment\n",
    "name = \"ineuron\"\n",
    "\n",
    "# Dont need below one\n",
    "name = \"\"\n",
    "name = \"ineuron\""
   ]
  },
  {
   "cell_type": "markdown",
   "metadata": {
    "colab_type": "text",
    "id": "o5oStywYSUmi"
   },
   "source": [
    "For variable-names, there are certain rules which we should follow as a best practice:-"
   ]
  },
  {
   "cell_type": "markdown",
   "metadata": {
    "colab_type": "text",
    "id": "LntXeVPPSUmj"
   },
   "source": [
    "**1)**  Variable name can't start with number"
   ]
  },
  {
   "cell_type": "code",
   "execution_count": null,
   "metadata": {
    "colab": {
     "base_uri": "https://localhost:8080/",
     "height": 129
    },
    "colab_type": "code",
    "executionInfo": {
     "elapsed": 1358,
     "status": "error",
     "timestamp": 1597649648370,
     "user": {
      "displayName": "khushali shah",
      "photoUrl": "https://lh3.googleusercontent.com/a-/AOh14Gin-WGUtjrJSNaMWLlI-Wr_VJF7QMxCHLiP64LO=s64",
      "userId": "00155816219623022725"
     },
     "user_tz": -330
    },
    "id": "BCrwNOJFSUmk",
    "outputId": "d0d58377-0e32-4c00-b8ca-75aa2309dff1"
   },
   "outputs": [
    {
     "ename": "SyntaxError",
     "evalue": "ignored",
     "output_type": "error",
     "traceback": [
      "\u001b[0;36m  File \u001b[0;32m\"<ipython-input-5-80fa2c45b22b>\"\u001b[0;36m, line \u001b[0;32m2\u001b[0m\n\u001b[0;31m    1a = \"ineuron\"\u001b[0m\n\u001b[0m     ^\u001b[0m\n\u001b[0;31mSyntaxError\u001b[0m\u001b[0;31m:\u001b[0m invalid syntax\n"
     ]
    }
   ],
   "source": [
    "# Wrong coding practice\n",
    "1a = \"ineuron\"\n",
    "1name = \"ineuron\""
   ]
  },
  {
   "cell_type": "code",
   "execution_count": null,
   "metadata": {
    "colab": {},
    "colab_type": "code",
    "id": "pVNOwcjjSUmp"
   },
   "outputs": [],
   "source": [
    "# correct one\n",
    "name1 = \"ineuron\""
   ]
  },
  {
   "cell_type": "markdown",
   "metadata": {
    "colab_type": "text",
    "id": "NMsGOHmHSUmu"
   },
   "source": [
    "**2)**  Variable name are case-sensitive."
   ]
  },
  {
   "cell_type": "code",
   "execution_count": null,
   "metadata": {
    "colab": {},
    "colab_type": "code",
    "id": "tTTQu1EXSUmv"
   },
   "outputs": [],
   "source": [
    "# here name and Name are two different variable, so they are case sensitive\n",
    "name = \"ineuron\"\n",
    "Name = \"ineuron_company\"\n",
    "\n",
    "print(name)\n",
    "print(Name)"
   ]
  },
  {
   "cell_type": "markdown",
   "metadata": {
    "colab_type": "text",
    "id": "YTWVXeATSUm0"
   },
   "source": [
    "**3)**  Don't use python in built function/ data-type as a variable name"
   ]
  },
  {
   "cell_type": "code",
   "execution_count": null,
   "metadata": {
    "colab": {},
    "colab_type": "code",
    "id": "PVCY432YSUm0"
   },
   "outputs": [],
   "source": [
    "# Wrong practice\n",
    "int = 1\n",
    "\n",
    "# correct practice\n",
    "number_1 = 1"
   ]
  },
  {
   "cell_type": "code",
   "execution_count": null,
   "metadata": {
    "colab": {},
    "colab_type": "code",
    "id": "gbJ9I-aQSUm6"
   },
   "outputs": [],
   "source": [
    "number_1"
   ]
  },
  {
   "cell_type": "markdown",
   "metadata": {
    "colab_type": "text",
    "id": "20KWxTQ7SUnA"
   },
   "source": [
    "**4)**  Variable name can only contain alpha-numeric characters and underscores (A-z, 0-9, and _ ). No other special characters are allowed."
   ]
  },
  {
   "cell_type": "code",
   "execution_count": null,
   "metadata": {
    "colab": {},
    "colab_type": "code",
    "id": "gRbqs3DgSUnB"
   },
   "outputs": [],
   "source": [
    "# wrong one\n",
    "name& = \"hi\""
   ]
  },
  {
   "cell_type": "code",
   "execution_count": null,
   "metadata": {
    "colab": {},
    "colab_type": "code",
    "id": "Zr7gJ9f4SUnF"
   },
   "outputs": [],
   "source": [
    "# correct one\n",
    "name_a = \"ineuron\""
   ]
  },
  {
   "cell_type": "code",
   "execution_count": null,
   "metadata": {
    "colab": {},
    "colab_type": "code",
    "id": "My5Udj0FSUnL"
   },
   "outputs": [],
   "source": [
    "# Basic understanding of variables through below image"
   ]
  },
  {
   "cell_type": "markdown",
   "metadata": {
    "colab_type": "text",
    "id": "j7Fome4pSUnO"
   },
   "source": [
    "<img src=\"img/pythonVar.png\">"
   ]
  },
  {
   "cell_type": "markdown",
   "metadata": {
    "colab_type": "text",
    "id": "sAP0b0-NSUnP"
   },
   "source": [
    "Now, we know how can we assign into variable. Let's check basic datatypes exist in python"
   ]
  },
  {
   "cell_type": "markdown",
   "metadata": {
    "colab_type": "text",
    "id": "XtUruOw2SUnQ"
   },
   "source": [
    "## 3.4 Fundamental data-types in python"
   ]
  },
  {
   "cell_type": "markdown",
   "metadata": {
    "colab_type": "text",
    "id": "Of5iiesjSUnS"
   },
   "source": [
    "### 3.4.1 Integers\n",
    "\n",
    "Integer literals are created by any number without a decimal or complex component. They can be represented as a whole number."
   ]
  },
  {
   "cell_type": "code",
   "execution_count": null,
   "metadata": {
    "colab": {},
    "colab_type": "code",
    "id": "_d4PU3NqSUnT",
    "outputId": "c153f4fd-df2f-454a-e92e-9659096e5118"
   },
   "outputs": [
    {
     "name": "stdout",
     "output_type": "stream",
     "text": [
      "7\n",
      "<class 'int'>\n"
     ]
    }
   ],
   "source": [
    "# integers\n",
    "a = 7\n",
    "print(a)\n",
    "\n",
    "# How to check type of variable\n",
    "print(type(a))"
   ]
  },
  {
   "cell_type": "markdown",
   "metadata": {
    "colab_type": "text",
    "id": "P3dCzTVYSUnX"
   },
   "source": [
    "### 3.4.2 Floats\n",
    "\n",
    "Float literals can be created by adding a decimal component to a number. When we need to display decimal points to a number, then we will use float number."
   ]
  },
  {
   "cell_type": "code",
   "execution_count": null,
   "metadata": {
    "colab": {},
    "colab_type": "code",
    "id": "N5e_A8hvSUnZ",
    "outputId": "c83112a0-abb9-4db4-ea9d-bafdb1c52c99"
   },
   "outputs": [
    {
     "name": "stdout",
     "output_type": "stream",
     "text": [
      "1.5\n",
      "<class 'float'>\n"
     ]
    }
   ],
   "source": [
    "# float\n",
    "x = 1.5\n",
    "print(x)\n",
    "\n",
    "# How to check type of variable\n",
    "print(type(x))"
   ]
  },
  {
   "cell_type": "markdown",
   "metadata": {
    "colab_type": "text",
    "id": "2-uBVQIkSUnd"
   },
   "source": [
    "But, if you write same number without decimal it will consider as integer number"
   ]
  },
  {
   "cell_type": "code",
   "execution_count": null,
   "metadata": {
    "colab": {},
    "colab_type": "code",
    "id": "rOxKLtvDSUnf",
    "outputId": "18591758-f38c-428e-cbb3-1be91f392336"
   },
   "outputs": [
    {
     "name": "stdout",
     "output_type": "stream",
     "text": [
      "1\n",
      "<class 'int'>\n"
     ]
    }
   ],
   "source": [
    "x= 1\n",
    "print(x)\n",
    "print(type(x))"
   ]
  },
  {
   "cell_type": "markdown",
   "metadata": {
    "colab_type": "text",
    "id": "UozQHKNESUnj"
   },
   "source": [
    "### 3.4.3 Boolean\n",
    "\n",
    "Boolean can be defined by typing True/False without quotes"
   ]
  },
  {
   "cell_type": "code",
   "execution_count": null,
   "metadata": {
    "colab": {},
    "colab_type": "code",
    "id": "doKU213OSUnl",
    "outputId": "fae7844c-5f3b-4e3e-b3de-ae9ca5f10177"
   },
   "outputs": [
    {
     "data": {
      "text/plain": [
       "bool"
      ]
     },
     "execution_count": 1,
     "metadata": {
      "tags": []
     },
     "output_type": "execute_result"
    }
   ],
   "source": [
    "# boolean\n",
    "b1 = True\n",
    "b2 = False\n",
    "\n",
    "type(b1)"
   ]
  },
  {
   "cell_type": "markdown",
   "metadata": {
    "colab_type": "text",
    "id": "fF-Ywe9MSUnr"
   },
   "source": [
    "### 3.4.4 Strings\n",
    "\n",
    "String literals can be defined with any of single quotes `'`, double quotes `\"` or triple quotes `'''` or `\"\"\"`. All give the same result with two important differences.\n",
    "\n",
    "If you quote with single quotes, you do not have to escape double quotes and vice-versa. If you quote with triple quotes, your string can span multiple lines."
   ]
  },
  {
   "cell_type": "code",
   "execution_count": null,
   "metadata": {
    "colab": {},
    "colab_type": "code",
    "id": "Jcccj-V9SUnt",
    "outputId": "24dbab80-883e-48aa-b069-c9f7aea5d843"
   },
   "outputs": [
    {
     "data": {
      "text/plain": [
       "'your name vvgafdasfasfasfa'"
      ]
     },
     "execution_count": 28,
     "metadata": {
      "tags": []
     },
     "output_type": "execute_result"
    }
   ],
   "source": [
    "# string with single quote\n",
    "name1 = 'your name vvgafdasfasfasfa'\n",
    "type(name1)\n",
    "name1"
   ]
  },
  {
   "cell_type": "code",
   "execution_count": null,
   "metadata": {
    "colab": {},
    "colab_type": "code",
    "id": "rralIm8kSUnw",
    "outputId": "85a6f8cc-9d8a-4f81-9471-4edb771af503"
   },
   "outputs": [
    {
     "data": {
      "text/plain": [
       "'your name vvgafdasfasfasfa'"
      ]
     },
     "execution_count": 29,
     "metadata": {
      "tags": []
     },
     "output_type": "execute_result"
    }
   ],
   "source": [
    "# string with double quote\n",
    "name1 = \"your name vvgafdasfasfasfa\"\n",
    "type(name1)\n",
    "name1"
   ]
  },
  {
   "cell_type": "code",
   "execution_count": null,
   "metadata": {
    "colab": {},
    "colab_type": "code",
    "id": "pIonMw5uSUn0",
    "outputId": "5afdbd04-8e73-40f3-927e-b25d5f050713"
   },
   "outputs": [
    {
     "data": {
      "text/plain": [
       "'\\nyour name vvgafdasfasfasfa.\\nyour name vvgafdasfasfasfa\\nyour name vvgafdasfasfasfa\\n'"
      ]
     },
     "execution_count": 31,
     "metadata": {
      "tags": []
     },
     "output_type": "execute_result"
    }
   ],
   "source": [
    "# string with triple quote\n",
    "name1 = '''\n",
    "your name vvgafdasfasfasfa.\n",
    "your name vvgafdasfasfasfa\n",
    "your name vvgafdasfasfasfa\n",
    "'''\n",
    "type(name1)\n",
    "name1"
   ]
  },
  {
   "cell_type": "markdown",
   "metadata": {
    "colab_type": "text",
    "id": "XxhglI3sSUn5"
   },
   "source": [
    "### 3.4.5 Complex"
   ]
  },
  {
   "cell_type": "markdown",
   "metadata": {
    "colab_type": "text",
    "id": "E0bTdbvpSUn6"
   },
   "source": [
    "Complex literals can be created by using the notation x + yj where x is the real component and y is the imaginary component."
   ]
  },
  {
   "cell_type": "code",
   "execution_count": null,
   "metadata": {
    "colab": {},
    "colab_type": "code",
    "id": "A1UsKqlfSUn7",
    "outputId": "7003c5f3-1762-4aa4-b855-c5b43a7d2e9e"
   },
   "outputs": [
    {
     "data": {
      "text/plain": [
       "(1-2j)"
      ]
     },
     "execution_count": 32,
     "metadata": {
      "tags": []
     },
     "output_type": "execute_result"
    }
   ],
   "source": [
    "#complex numbers: note the use of `j` to specify the imaginary part\n",
    "\n",
    "\n",
    "j = 1.0 - 2.0j\n",
    "\n",
    "j"
   ]
  },
  {
   "cell_type": "code",
   "execution_count": null,
   "metadata": {
    "colab": {},
    "colab_type": "code",
    "id": "MwQ_iTV8SUoA",
    "outputId": "b6594fcc-93ce-426e-948f-7fe59ea30da3"
   },
   "outputs": [
    {
     "data": {
      "text/plain": [
       "(1-2j)"
      ]
     },
     "execution_count": 34,
     "metadata": {
      "tags": []
     },
     "output_type": "execute_result"
    }
   ],
   "source": [
    "j"
   ]
  },
  {
   "cell_type": "code",
   "execution_count": null,
   "metadata": {
    "colab": {},
    "colab_type": "code",
    "id": "jCMttve8SUoF",
    "outputId": "339f3b18-f7dc-49b9-9dbd-539b33807af6"
   },
   "outputs": [
    {
     "name": "stdout",
     "output_type": "stream",
     "text": [
      "1.0 -2.0\n"
     ]
    }
   ],
   "source": [
    "print(j.real, j.imag)"
   ]
  },
  {
   "cell_type": "markdown",
   "metadata": {
    "colab_type": "text",
    "id": "BME8m_cZg5Mn"
   },
   "source": [
    "For more details about complex numbers, refer https://en.wikipedia.org/wiki/Complex_number"
   ]
  },
  {
   "cell_type": "markdown",
   "metadata": {
    "colab_type": "text",
    "id": "5ZGkG2n3SUoI"
   },
   "source": [
    "## 3.5 Dynamic Typing\n",
    "\n",
    "In Python, while the value that a variable points to has a type, the variable itself has no strict type in its definition. You can re-use the same variable to point to an object of a different type. It may be helpful to think of variables as \"labels\" associated with objects."
   ]
  },
  {
   "cell_type": "code",
   "execution_count": null,
   "metadata": {
    "colab": {},
    "colab_type": "code",
    "id": "J0IfQzZCSUoK",
    "outputId": "d899ac9e-23e8-40b1-9ab6-109f1654f99e"
   },
   "outputs": [
    {
     "data": {
      "text/plain": [
       "10"
      ]
     },
     "execution_count": 36,
     "metadata": {
      "tags": []
     },
     "output_type": "execute_result"
    }
   ],
   "source": [
    "ten = 10\n",
    "ten"
   ]
  },
  {
   "cell_type": "code",
   "execution_count": null,
   "metadata": {
    "colab": {},
    "colab_type": "code",
    "id": "ej7d5YsDSUoP",
    "outputId": "c339fb59-2e66-4706-d5a1-750c58423f53"
   },
   "outputs": [
    {
     "data": {
      "text/plain": [
       "'ten'"
      ]
     },
     "execution_count": 37,
     "metadata": {
      "tags": []
     },
     "output_type": "execute_result"
    }
   ],
   "source": [
    "ten = 'ten'\n",
    "ten"
   ]
  },
  {
   "cell_type": "markdown",
   "metadata": {
    "colab_type": "text",
    "id": "T2tD0tjwSUoT"
   },
   "source": [
    "## 3.6 Strong Typing\n",
    "\n",
    "While Python allows you to be very flexible with your types, you must still be aware of what those types are. Certain operations will require certain types as arguments."
   ]
  },
  {
   "cell_type": "code",
   "execution_count": null,
   "metadata": {
    "colab": {},
    "colab_type": "code",
    "id": "Ccs6VOTkSUoU",
    "outputId": "cf69adeb-5971-485c-ac12-9f0f5766b3c8"
   },
   "outputs": [
    {
     "data": {
      "text/plain": [
       "'Day 1'"
      ]
     },
     "execution_count": 41,
     "metadata": {
      "tags": []
     },
     "output_type": "execute_result"
    }
   ],
   "source": [
    "# Need to convert int to string for concatenate with string\n",
    "'Day ' +str(1)"
   ]
  },
  {
   "cell_type": "code",
   "execution_count": null,
   "metadata": {
    "colab": {},
    "colab_type": "code",
    "id": "ewgw9KLtSUoZ",
    "outputId": "9e4ab66a-7aa2-4b3f-dac4-3a6cba7f80fc"
   },
   "outputs": [
    {
     "ename": "TypeError",
     "evalue": "can only concatenate str (not \"int\") to str",
     "output_type": "error",
     "traceback": [
      "\u001b[1;31m---------------------------------------------------------------------------\u001b[0m",
      "\u001b[1;31mTypeError\u001b[0m                                 Traceback (most recent call last)",
      "\u001b[1;32m<ipython-input-40-cbc44c0774a4>\u001b[0m in \u001b[0;36m<module>\u001b[1;34m\u001b[0m\n\u001b[0;32m      1\u001b[0m \u001b[1;31m# can't concatenate string with integer however we will see concatenation and string comprehention in a later stage\u001b[0m\u001b[1;33m\u001b[0m\u001b[1;33m\u001b[0m\u001b[1;33m\u001b[0m\u001b[0m\n\u001b[1;32m----> 2\u001b[1;33m \u001b[1;34m'Day '\u001b[0m \u001b[1;33m+\u001b[0m \u001b[1;36m1\u001b[0m\u001b[1;33m\u001b[0m\u001b[1;33m\u001b[0m\u001b[0m\n\u001b[0m",
      "\u001b[1;31mTypeError\u001b[0m: can only concatenate str (not \"int\") to str"
     ]
    }
   ],
   "source": [
    "# can't concatenate string with integer however we will see concatenation and string comprehention in a later stage\n",
    "'Day ' + 1"
   ]
  },
  {
   "cell_type": "markdown",
   "metadata": {
    "colab_type": "text",
    "id": "nF_UlRwySUog"
   },
   "source": [
    "This behavior is different from some other loosely-typed languages. If you were to do the same thing in JavaScript, you would get a different result.\n",
    "\n",
    "In Python, however, it is possible to change the type of an object through builtin functions."
   ]
  },
  {
   "cell_type": "code",
   "execution_count": null,
   "metadata": {
    "colab": {},
    "colab_type": "code",
    "id": "dNebwid4SUog"
   },
   "outputs": [],
   "source": [
    "# Let's look for more use of variables"
   ]
  },
  {
   "cell_type": "code",
   "execution_count": null,
   "metadata": {
    "colab": {},
    "colab_type": "code",
    "id": "vAsR_8s-SUoj",
    "outputId": "26c06527-1225-407c-add9-b18d82221dcd"
   },
   "outputs": [
    {
     "name": "stdout",
     "output_type": "stream",
     "text": [
      "iNeuron has  100000  no. of students\n"
     ]
    }
   ],
   "source": [
    "students = 100000\n",
    "\n",
    "print(\"iNeuron has \", students , \" no. of students\")\n"
   ]
  },
  {
   "cell_type": "code",
   "execution_count": null,
   "metadata": {
    "colab": {},
    "colab_type": "code",
    "id": "F14BOUGTSUoo",
    "outputId": "ed0c408a-3cb8-45de-c448-9d280b9e3a66"
   },
   "outputs": [
    {
     "name": "stdout",
     "output_type": "stream",
     "text": [
      "iNeuron has 100000 no. of students\n"
     ]
    }
   ],
   "source": [
    "# If we want to print similar above example with concatenation , we need to convert int to string.\n",
    "print(\"iNeuron has \" + str(students) + \" no. of students\")"
   ]
  },
  {
   "cell_type": "code",
   "execution_count": null,
   "metadata": {
    "colab": {},
    "colab_type": "code",
    "id": "gMFgj0U7SUot",
    "outputId": "aff56e9a-737e-4c11-d466-faa3f68ca61b"
   },
   "outputs": [
    {
     "name": "stdout",
     "output_type": "stream",
     "text": [
      "Today Gold rate crosses  52000\n"
     ]
    }
   ],
   "source": [
    "gold_rate = 52000\n",
    "print(\"Today Gold rate crosses \" , gold_rate)"
   ]
  },
  {
   "cell_type": "code",
   "execution_count": null,
   "metadata": {
    "colab": {},
    "colab_type": "code",
    "id": "UDNgMmlHSUoy",
    "outputId": "bca09b9e-61ac-4a9f-cbae-e6fbfa033dc5"
   },
   "outputs": [
    {
     "name": "stdout",
     "output_type": "stream",
     "text": [
      "There are 10 cars available but only 5 drivers available to drive cars\n"
     ]
    }
   ],
   "source": [
    "no_of_cars = 10\n",
    "no_of_drivers = 5\n",
    "print(\"There are\", no_of_cars , \"cars available but only\", no_of_drivers, \"drivers available to drive cars\")"
   ]
  },
  {
   "cell_type": "code",
   "execution_count": null,
   "metadata": {
    "colab": {},
    "colab_type": "code",
    "id": "x8DdQgKHSUo2",
    "outputId": "bfea0691-67e1-4ef9-d63c-5babac239f0e"
   },
   "outputs": [
    {
     "name": "stdout",
     "output_type": "stream",
     "text": [
      "My weight is 55.6 kg\n"
     ]
    }
   ],
   "source": [
    "my_weight = 55.6\n",
    "print(\"My weight is\", my_weight,\"kg\")"
   ]
  },
  {
   "cell_type": "markdown",
   "metadata": {
    "colab_type": "text",
    "id": "3dzUGuytSUo_"
   },
   "source": [
    "## 3.7 String formatting"
   ]
  },
  {
   "cell_type": "code",
   "execution_count": 10,
   "metadata": {},
   "outputs": [],
   "source": [
    "a=\"suuny savita\""
   ]
  },
  {
   "cell_type": "code",
   "execution_count": 13,
   "metadata": {},
   "outputs": [
    {
     "name": "stdout",
     "output_type": "stream",
     "text": [
      "my name is sunny suuny savita\n"
     ]
    }
   ],
   "source": [
    "print(\"my name is sunny\",a)"
   ]
  },
  {
   "cell_type": "code",
   "execution_count": 14,
   "metadata": {},
   "outputs": [
    {
     "name": "stdout",
     "output_type": "stream",
     "text": [
      "my name is suuny savita\n"
     ]
    }
   ],
   "source": [
    "print(\"my name is {}\".format(a))"
   ]
  },
  {
   "cell_type": "code",
   "execution_count": null,
   "metadata": {
    "colab": {},
    "colab_type": "code",
    "id": "n7e6i82OSUpA",
    "outputId": "5e698c5f-1e6d-417d-85b7-fa66ec894e26"
   },
   "outputs": [
    {
     "name": "stdout",
     "output_type": "stream",
     "text": [
      "Greetings from ineuron! Have a good day\n"
     ]
    }
   ],
   "source": [
    "# For string formatting we can use as below. Generally this is widely used method. however alternatives are available:-\n",
    "print(\"Greetings from {}! Have a {} day\".format(\"ineuron\",\"good\"))"
   ]
  },
  {
   "cell_type": "code",
   "execution_count": null,
   "metadata": {
    "colab": {
     "base_uri": "https://localhost:8080/",
     "height": 34
    },
    "colab_type": "code",
    "executionInfo": {
     "elapsed": 1143,
     "status": "ok",
     "timestamp": 1597650850721,
     "user": {
      "displayName": "khushali shah",
      "photoUrl": "https://lh3.googleusercontent.com/a-/AOh14Gin-WGUtjrJSNaMWLlI-Wr_VJF7QMxCHLiP64LO=s64",
      "userId": "00155816219623022725"
     },
     "user_tz": -330
    },
    "id": "vdKohLnUZ8ew",
    "outputId": "bd08222b-4ade-499e-b5c5-9535a450787e"
   },
   "outputs": [
    {
     "name": "stdout",
     "output_type": "stream",
     "text": [
      "Greetings from ineuron! Have a good day\n"
     ]
    }
   ],
   "source": [
    "#Another way of doing formating using f string\n",
    "a = \"ineuron\"\n",
    "b = \"good\"\n",
    "print(f\"Greetings from {a}! Have a {b} day\")"
   ]
  },
  {
   "cell_type": "code",
   "execution_count": null,
   "metadata": {
    "colab": {},
    "colab_type": "code",
    "id": "zENuJqZ0SUpF",
    "outputId": "3d7640cd-c354-43eb-c4ed-0fd8df2f5c12"
   },
   "outputs": [
    {
     "data": {
      "text/plain": [
       "'Greetings, from, iNeuron'"
      ]
     },
     "execution_count": 4,
     "metadata": {
      "tags": []
     },
     "output_type": "execute_result"
    }
   ],
   "source": [
    "#Another way of doing formating using format\n",
    "'{0}, {1}, {2}'.format('Greetings', 'from', 'iNeuron')"
   ]
  },
  {
   "cell_type": "code",
   "execution_count": null,
   "metadata": {
    "colab": {},
    "colab_type": "code",
    "id": "OsolFaQOSUpM",
    "outputId": "82b0b947-38fa-46b8-fc13-dfa7e04128af"
   },
   "outputs": [
    {
     "data": {
      "text/plain": [
       "'Greetings, from, iNeuron'"
      ]
     },
     "execution_count": 5,
     "metadata": {
      "tags": []
     },
     "output_type": "execute_result"
    }
   ],
   "source": [
    "#Another way of doing formating using format\n",
    "'{2}, {1}, {0}'.format('iNeuron', 'from', 'Greetings')"
   ]
  },
  {
   "cell_type": "code",
   "execution_count": null,
   "metadata": {
    "colab": {},
    "colab_type": "code",
    "id": "r1nC9xqsSUpS",
    "outputId": "0cdd0dd9-3ba8-48fc-8a7b-7990e4cb3427"
   },
   "outputs": [
    {
     "name": "stdout",
     "output_type": "stream",
     "text": [
      "Greetings from ineuron! Have a good day\n"
     ]
    }
   ],
   "source": [
    "# There is another way of string formatting as below. For string we can use %s and for integer we can use %d\n",
    "print(\"Greetings from %s! Have a %s day\" % (\"ineuron\",\"good\"))"
   ]
  },
  {
   "cell_type": "code",
   "execution_count": null,
   "metadata": {
    "colab": {},
    "colab_type": "code",
    "id": "XXPOZeXnSUpW",
    "outputId": "5c5c0a31-5715-4a0f-e1d3-0fb4b084cc3f"
   },
   "outputs": [
    {
     "name": "stdout",
     "output_type": "stream",
     "text": [
      "Hey, i am 40 years old\n"
     ]
    }
   ],
   "source": [
    "print(\"Hey, i am %d years old\" % (40))"
   ]
  },
  {
   "cell_type": "code",
   "execution_count": null,
   "metadata": {
    "colab": {},
    "colab_type": "code",
    "id": "P1IlYiWqSUpd",
    "outputId": "6a7e3146-b0e3-4340-fbc9-318a815725c7"
   },
   "outputs": [
    {
     "name": "stdout",
     "output_type": "stream",
     "text": [
      "Hey,My weight is 55.500000 kg\n"
     ]
    }
   ],
   "source": [
    "# For float we can use %f\n",
    "print(\"Hey,My weight is %f kg\" % (55.5))"
   ]
  },
  {
   "cell_type": "markdown",
   "metadata": {
    "colab_type": "text",
    "id": "MAI8vxQ8SUpi"
   },
   "source": [
    "For more details about string formatting, refer below documents:-\n",
    "    \n",
    "https://docs.python.org/3.8/library/string.html"
   ]
  },
  {
   "cell_type": "markdown",
   "metadata": {
    "colab_type": "text",
    "id": "xGC466t3SUpj"
   },
   "source": [
    "## 3.8 Input from user"
   ]
  },
  {
   "cell_type": "markdown",
   "metadata": {
    "colab_type": "text",
    "id": "fmio4fauSUpj"
   },
   "source": [
    "If we want to ask something to user or want input from the user we can use input() function."
   ]
  },
  {
   "cell_type": "code",
   "execution_count": null,
   "metadata": {
    "colab": {},
    "colab_type": "code",
    "id": "aMrYv6AESUpk",
    "outputId": "c05c75f3-b4e2-45e8-aef4-ecdf787721ff"
   },
   "outputs": [
    {
     "name": "stdout",
     "output_type": "stream",
     "text": [
      "Enter your name:- iNeuron\n",
      "Your name is  iNeuron\n"
     ]
    }
   ],
   "source": [
    "# Lets say if we are asking user their name:-\n",
    "name = input(\"Enter your name:- \")\n",
    "print(\"Your name is \" ,name)"
   ]
  },
  {
   "cell_type": "code",
   "execution_count": 17,
   "metadata": {},
   "outputs": [
    {
     "name": "stdout",
     "output_type": "stream",
     "text": [
      "please enter your namesunny\n",
      "enter your age24\n",
      "please enter your email idsunny.savita@ineuron.ai\n",
      "please enter your phone number8878585458\n"
     ]
    }
   ],
   "source": [
    "name=input(\"please enter your name\")\n",
    "age=int(input(\"enter your age\"))\n",
    "email=input(\"please enter your email id\")\n",
    "phone_number=int(input(\"please enter your phone number\"))"
   ]
  },
  {
   "cell_type": "code",
   "execution_count": 18,
   "metadata": {},
   "outputs": [
    {
     "data": {
      "text/plain": [
       "str"
      ]
     },
     "execution_count": 18,
     "metadata": {},
     "output_type": "execute_result"
    }
   ],
   "source": [
    "type(name)"
   ]
  },
  {
   "cell_type": "code",
   "execution_count": 20,
   "metadata": {},
   "outputs": [
    {
     "name": "stdout",
     "output_type": "stream",
     "text": [
      "sunny sunny.savita@ineuron.ai 24 8878585458\n"
     ]
    }
   ],
   "source": [
    "print(name,email,age,phone_number)"
   ]
  },
  {
   "cell_type": "markdown",
   "metadata": {
    "colab_type": "text",
    "id": "Mg40uOgHSUpq"
   },
   "source": [
    ">**Note:-** `input()` will always return as a string, if we want to use it as a int/float we need to convert into respective data-type.\n",
    "Let's check below example:-"
   ]
  },
  {
   "cell_type": "code",
   "execution_count": null,
   "metadata": {
    "colab": {},
    "colab_type": "code",
    "id": "YrCNVUgJSUpr",
    "outputId": "aaf44b89-2503-4c99-c97a-a1a873d77bcb"
   },
   "outputs": [
    {
     "name": "stdout",
     "output_type": "stream",
     "text": [
      "Enter your age:- 50\n",
      "50\n",
      "<class 'str'>\n"
     ]
    }
   ],
   "source": [
    "a = input(\"Enter your age:- \")\n",
    "print(a)\n",
    "print(type(a))"
   ]
  },
  {
   "cell_type": "code",
   "execution_count": null,
   "metadata": {
    "colab": {},
    "colab_type": "code",
    "id": "QqWrKOzASUp4",
    "outputId": "9c96b6c2-10c4-48f0-f7e7-cd18376fa65e"
   },
   "outputs": [
    {
     "name": "stdout",
     "output_type": "stream",
     "text": [
      "50\n",
      "<class 'int'>\n"
     ]
    }
   ],
   "source": [
    "# If we want to take it as an integer, we should convert to int before using it.\n",
    "a = int(a)\n",
    "print(a)\n",
    "print(type(a))"
   ]
  },
  {
   "cell_type": "markdown",
   "metadata": {
    "colab": {},
    "colab_type": "code",
    "id": "DMFBuJKGUpXg"
   },
   "source": [
    "### The Two Versions Of Python\n",
    "\n",
    "• As you can observe from the previous slide , there are 2 major versions of Python , called Python 2 and Python 3\n",
    "• Python 3 came in 2008 and it is not backward compatible with Python 2\n",
    "• This means that a project which uses Python 2 will not run on Python 3.\n",
    "• This means that we have to rewrite the entire project to migrate it from Python 2 to Python 3\n",
    "\n",
    "Some Important Differences\n",
    "• In Python 2 \n",
    "print “Hello Bhopal”\n",
    "\n",
    "• In Python 3\n",
    "print(“Hello Bhopal”)\n",
    "\n",
    "• In Python 2\n",
    "5/2 2 5/2.02.5\n",
    "\n",
    "• In Python 3\n",
    "5/22.5\n",
    "\n",
    "• The way of accepting input has also changed and like this there are many changes.\n",
    "\n",
    "The Two Versions Of Python\n",
    "\n",
    "• So to prevent this overhead of programmers , PSF decided to support Python 2 also.\n",
    "• But this support will only be till Jan-1-2020\n",
    "• You can visit https://pythonclock.org/ to see exactly how much time is left before Python 2 retires\n"
   ]
  },
  {
   "cell_type": "markdown",
   "metadata": {},
   "source": [
    "### Which Version Should I Use?\n",
    "\n",
    "• For beginners , it is a point of confusion as to which Python version they should learn ?\n",
    " \n",
    "• The obvious answer is Python 3\n",
    "\n",
    "Why Python 3 ?\n",
    "\n",
    "• We should go with Python 3 as it brings lot of new features and new tricks compared to Python 2\n",
    "\n",
    "• Moreover as per PSF, Python 2.x is legacy, Python 3.x is the present and future of the language\n",
    "\n",
    "• All major future upgrades will be to Python 3 and , Python 2.7 will never move ahead to even Python 2.8\n",
    " \n",
    "\n",
    "\n"
   ]
  },
  {
   "cell_type": "markdown",
   "metadata": {},
   "source": [
    "### About print() , Error, Identifiers, Reserved Words\n",
    "\n",
    "Types Of Predefined Function Provided By Python\n",
    "\n",
    "•\tPython has a very rich set of  predefined functions and they are broadly categorized to be of 2 types\n",
    "•\tBuilt In Functions\n",
    "•\tFunctions Defined In Modules\n",
    " \n",
    "Built In Functions\n",
    "•\tBuilt in functions are those functions which are always available for use .\n",
    "•\tFor example , print() is a built-in function which prints the given object to the standard output device (screen)\n",
    "•\tAs of version 3.6 ,  Python has 68 built-in function and their list can be obtained on the following url : https://docs.python.org/3/library/functions.html"
   ]
  },
  {
   "cell_type": "markdown",
   "metadata": {},
   "source": [
    "### What Is print( ) And How It Is Made Available To Our Program ? \n",
    "\n",
    "the function print() automatically appends a newline character after the message it is printing.\n",
    "\n",
    "If we do not want this then we can use the  print() function as shown below:\n",
    "\n",
    "print(“Hello User”,end=“”) print(“Python Rocks”) \n",
    "\n",
    "- The word end is called keyword argument in Python and it’s default value is “\\n”.\n",
    "- But we have changed it to empty string(“”) to tell Python not to produce any newline.\n",
    "- Similarly we can set it to “\\t” to generate tab or “\\b” to erase the previous character\n",
    " \n",
    "### Some Examples\t \n",
    "\n",
    "1.\n",
    "print(\"Hello User\",end=\"\\t\") print(\"Python Rocks\")\n",
    " \n",
    "2.\n",
    "print(\"Hello User\",end=\"\\b\") print(\"Python Rocks\")\n",
    " \n",
    " \n"
   ]
  },
  {
   "cell_type": "markdown",
   "metadata": {},
   "source": [
    "### Types Of Errors In Python\n",
    "\n",
    "Just like any other programming language , Python also has 2 kinds of errors:\n",
    "\n",
    "• Syntax Error\n",
    "\n",
    "• Runtime Error\n",
    "\n",
    "\n",
    "Syntax Error\n",
    "\n",
    "• Syntaxes are RULES OF A LANGUAGE and when we break these rules , the error which occurs is called Syntax Error.\n",
    "• Examples of Syntax Errors are:\n",
    "• Misspelled keywords.\n",
    "• Incorrect use of an operator.\n",
    "• Omitting parentheses in a function call.\n",
    "\n",
    "Examples Of Syntax Error\n",
    "\n",
    "RunTime Errors (Exceptions)\n",
    "• As the name says, Runtime Errors are errors which occur while the program is running. \n",
    "• As soon as Python interpreter encounters them it halts the execution of the program and displays a message about the probable cause of the problem.\n",
    "RunTime Errors (Exceptions)\n",
    "• They usually occurs when interpreter counters a operation that is impossible to carry out and one such operation is dividing a number by 0. \n",
    "• Since dividing a number by 0 is undefined , so ,when the interpreter encounters this operation it raises ZeroDivisionError as follows:\n",
    "Example Of RunTime Error"
   ]
  },
  {
   "cell_type": "markdown",
   "metadata": {},
   "source": []
  },
  {
   "cell_type": "markdown",
   "metadata": {},
   "source": [
    "### Identifier in python\n",
    "\n",
    "• What is an identifier ?\n",
    "• Identifier is the name given to entities like class, functions, variables , modules and any other object in Python.\n",
    "• Rules for identifiers:\n",
    "• Identifiers can be a combination of letters in lowercase (a to z) or uppercase (A to Z) or digits (0 to 9) or an underscore (_)\n",
    "• No special character except underscore is allowed in the name of a variable\n",
    "• It must compulsorily begin with a underscore ( _ ) or a letter and not with a digit . Although after the first letter we can have as many digits as we want. So 1a is invalid , while a1 or _a or _1 is a valid name for an identifier.\n",
    " \n",
    "• Identifiers are case sensitive , so pi and Pi are two different identifiers.\n",
    " \n",
    "• Keywords cannot be used as identifiers\n",
    "• Identifier can be of any length.\n",
    " \n",
    "Rules For Reserved Words\n",
    "• What is a Reserved Word?\n",
    "• A word in a programming language which has a fixed meaning and cannot be redefined by the programmer or used as identifiers\n",
    "• How many reserved words are there in Python ?\n",
    "• Python contains 33 reserved words or keywords\n",
    "• The list is mentioned on the next slide\n",
    "• We can get this list by using help() in Python Shell\n",
    "Rules For Reserved Words"
   ]
  },
  {
   "cell_type": "markdown",
   "metadata": {},
   "source": [
    "### Keywords in Python\n",
    "\n",
    "These 33 keywords are:\n",
    "\n",
    "False , True , None ,def, del ,import ,return , and , or , not ,if, else , elif ,for , while , break ,continue,is , as , in , global , nonlocal ,yield , try ,except , finally, raise, lambda ,with ,assert , class ,from , pass\n",
    "\n",
    "Some Important Observations:\n",
    "1. Except False , True and None all  the other keywords are in lowercase\n",
    "2. We don’t have else if in Python , rather it is elif\n",
    "3. There are no switch and do-while statements in Python\n"
   ]
  },
  {
   "cell_type": "markdown",
   "metadata": {},
   "source": []
  },
  {
   "cell_type": "markdown",
   "metadata": {},
   "source": [
    "### Module in Python\n",
    "\n",
    "A Module in Python is collection of functions and statements which provide some extra functionality as compared to built in functions.\n",
    "We can assume it just like a header file of C/C++ language.\n",
    "Python has 100s of built in Modules like math , sys , platform etc which prove to be very useful for a programmer\n",
    " \n",
    "For example , the module math contains a function called factorial( ) which can calculate and return the factorial of any number.\n",
    "But to use a module we must first import it in our code using the syntax :\n",
    "\n",
    "#import <name of the module> For example:\n",
    "\n",
    "import math\n",
    "\n",
    "#Then we can call any function of this module by prefixing it with the module nameFor example:\n",
    "math.factorial(5)\n",
    " "
   ]
  },
  {
   "cell_type": "markdown",
   "metadata": {},
   "source": [
    "### DataTypes in Python"
   ]
  },
  {
   "cell_type": "markdown",
   "metadata": {},
   "source": [
    "Overall Python has 14 data types and these are classified into 6 categories.\n",
    " \n",
    "• These categories are:\n",
    "• Numeric Types\n",
    "• Boolean Type\n",
    "• Sequence Types\n",
    "• Set Types\n",
    "• Mapping Type\n",
    "• None Type\n",
    "• Given on the next slide are the names of actual data types belonging to the above mentioned categories\n",
    " \n",
    "• Before we explore more about these data types , let us understand following important points regarding Python’s data types:\n",
    "\n",
    "1. DATA TYPES IN PYTHON ARE DYNAMIC\n",
    "2. SIZE OF THE DATA TYPE IS ALSO DYNAMICALLY MANAGED\n",
    "3. DATA TYPES ARE UNBOUNDED\n",
    " \n",
    "1. DATA TYPES IN PYTHON ARE DYNAMIC\n",
    "\n",
    "• The term dynamic means that we can assign different values to the same variable at different points of time.\n",
    "• Python will dynamically change the type of variable as per the value given.\n",
    " \n",
    "\n",
    "2. SIZE OF THE DATA TYPE IS ALSO DYNAMICALLY MANAGED\n",
    "\n",
    "• In Python the size of  data types is dynamically managed\n",
    "• Like C/C++/Java language , variables in Python are not of fixed size.\n",
    "• Python makes them as big as required on demand\n",
    "• There is no question of how much memory a variable uses in Python because this memory increases as per the value being assigned\n",
    "• Python starts with initial size for a variable and then increases its size as needed up to the RAM limit\n",
    "• This initial size for int is 24 bytes and then increases as the value is increased\n",
    "• If we want to check the size of a variable , then Python provides us a function called getsizeof() .\n",
    "• This function is available in a module called sys\n",
    " \n",
    "3. DATA TYPES ARE UNBOUNDED\n",
    "\n",
    "• Third important rule to remember is that  , in Python data types like integers don’t have any range i.e. they are unbounded\n",
    "• Like C /C++ /Java they don’t have max or min value\n",
    "• So an int variable can store as many digits as we want. \n",
    " \n"
   ]
  },
  {
   "cell_type": "markdown",
   "metadata": {},
   "source": [
    "As previously mentioned , Python supports 3 numeric types:\n",
    "\n",
    "**int**: Used for storing integer numbers without any fractional part\n",
    "\n",
    "**float**: Used for storing fractional numbers\n",
    "\n",
    "**complex**: Used for storing complex numbers\n",
    "\n"
   ]
  },
  {
   "cell_type": "code",
   "execution_count": 2,
   "metadata": {},
   "outputs": [
    {
     "name": "stdout",
     "output_type": "stream",
     "text": [
      "10\n",
      "256\n",
      "-4\n"
     ]
    }
   ],
   "source": [
    "#EXAMPLES OF int TYPE:\n",
    "a=10 \n",
    "b=256 \n",
    "c=-4 \n",
    "print(a) \n",
    "print(b) \n",
    "print(c) \n"
   ]
  },
  {
   "cell_type": "markdown",
   "metadata": {},
   "source": [
    "### The float Data Type\n",
    "\n",
    "• Python also supports floating-point real values. \n",
    "• Float values are specified with a decimal point \n",
    "• So 2.5 , 3.14 , 6.9 etc are all examples of float data type\n",
    "• float in Python has a precision of 16 digits\n",
    " \n",
    "Some Examples\n",
    " \n",
    "Some Important Points About float\n",
    "• For float , we can only assign values in decimal number system and not in binary , octal or hexadecimal number system.\n",
    " \n",
    "Some Important Points About float\n",
    "• Float values can also be represented as exponential values \n",
    "• Exponential notation is a scientific notation which is represented using e or E followed by an integer and it means to the power of 10\n",
    " "
   ]
  },
  {
   "cell_type": "code",
   "execution_count": null,
   "metadata": {},
   "outputs": [],
   "source": [
    "complex Data Type\n",
    "• Complex numbers are written in the form, x + yj, where x is the real part and y is the imaginary part.\n",
    "• For example: 4+3j , 12+1j etc\n",
    "• The letter j is called unit imaginary number.\n",
    "• It denotes the value of √-1 , i.e j² denotes -1 \n",
    "An Example\n",
    "\n",
    "• For representing the unit imaginary number we are only allowed to use the letter j (both upper and lower case are allowed).\n",
    "• Any other letter if used will generate error\n",
    " \n",
    "• The letter j , should only appear in suffix , not in prefix\n",
    " \n",
    "• The real and imaginary parts are allowed to be integers as well as floats\n",
    " \n",
    "• The real part can be specified in any int form i.e. decimal , binary , octal or hexadecimal but the imaginary part should only be in decimal form\n",
    " \n",
    "• We can display real and imaginary part separately by using the attributes of complex types called “real” and “imag”.\n",
    " \n",
    "• Don’t think real and imag are functions , rather they are attributes/properties of complex data type\n",
    " "
   ]
  },
  {
   "cell_type": "markdown",
   "metadata": {},
   "source": [
    "The bool Data Type\n",
    "• In Python , to represent boolean values we have bool data type.\n",
    "• The bool data type can be one of two values, either True or False. \n",
    "• We use Booleans in programming to make comparisons and to control the flow of the program.\n",
    "Some Examples\n",
    " \n",
    " \n",
    "• True and False are keywords , so case sensitivity must be remembered while assigning them otherwise Python will give error\n",
    " \n",
    " \n",
    "• All test conditions in Python return the result as bool which could be either True or False\n",
    " \n",
    " \n",
    "• To understand the next point , try to guess the output of the following:\n",
    "a=True b=False c=a+b\n",
    "print(c) Output:\ta=True b=True c=a+b\n",
    "print(c) Output: 2\ta=False b=False c=a+b\n",
    "print(c) Output: 0"
   ]
  },
  {
   "cell_type": "markdown",
   "metadata": {},
   "source": [
    "The above outputs make it clear that internally Python stores True and False as integers with the value 1 and 0 respectively\n",
    "The str Data Type\n",
    "• Just like any other language , in Python also a String is sequence of characters. \n",
    "• Python does not have a char data type, unlike C/C++ or Java\n",
    "• We can use single quotes or double quotes to represent strings.\n",
    "• However Python recommends to use single quotes\n",
    " \n",
    "Some Examples\n",
    " "
   ]
  },
  {
   "cell_type": "code",
   "execution_count": null,
   "metadata": {},
   "outputs": [],
   "source": [
    "The data type used by Python internally for storing Strings is     str\n",
    " \n",
    "• Unlike C language , Python does not uses ASCII number system for characters . It uses UNICODE number system \n",
    "• UNICODE is a number system which supports much wider range of characters compared to ASCII\n",
    "• As far as Python is concerned , it uses UNICODE to support 65536 characters with their numeric values ranging from 0 to 65535 which covers almost every spoken language in the world like English , Greek ,\n",
    "Spanish , Chinese , Japanese etc\n",
    " \n",
    "• Whenever we display a string value directly on Python’s shell i.e. without using the function print(), Python’s shell automatically encloses it in single quotes\n",
    " \n",
    "• However this does not happen when we use print() function to print a string value\n",
    " \n",
    "•\tIf a string starts with double quotes , it must end with double quotes only . \n",
    "•\tSimilarly if it starts with single quotes , it must end with single quotes only.\n",
    "•\tOtherwise Python will generate error\n",
    " \n",
    "•\tIf the string contains single quotes in between then it must be enclosed in double quotes and vice versa.\n",
    "•\tFor example:\n",
    "•\tTo print Sachin's Python Classes , we would write: • msg= \" Sachin's Python Classes \"\n",
    "•\tSimilarly to print Capital of \"MP\" is \"Bhopal\" ,we would write:\n",
    "•\tmsg='Capital of \"MP\" is \"Bhopal\" '\n",
    " \n",
    " \n",
    "•\tHow will you print Let's learn \"Python\" ?\n",
    "A.\t\"Let's learn \"Python\" \"\n",
    "B.\t'Let's learn \"Python\" '\n",
    "NONE! \n",
    "Both will give error.\n",
    "Correct way is to use either triple single quotes or triple double quotes or  escape sequence character \\ msg=' ' 'Let's learn \"Python\" ' ' ' \n",
    "OR\n",
    "msg='Let\\'s learn \"Python\" '\n",
    " \n",
    " \n",
    " \n",
    " \n",
    "•\tAnother important use of triple single quotes or triple double quotes is that if our string extends up \n",
    "to more than 1 line then we need to enclose it in triple single quotes or triple double quotes\n",
    " \n",
    " \n",
    "•\tWe also can do the same thing by using \\n , so using triple quotes or triple double quotes is just for improving readability\n",
    " \n",
    " \n",
    "\tIn Python, Strings are stored as individual characters in a contiguous memory location.\n",
    "\tEach character in this memory location is assigned an index which begins from 0 and goes up to  length -1\n",
    "\tFor example, suppose we write word=“Python”\n",
    "\tThen the internal representation of this will be \n",
    " \n",
    "\tNow to access individual character we can provide this index number to the subscript operator [ ].\n",
    " \n",
    "\tHowever if we try to provide an index number beyond the given limit then IndexError exception will arise\n",
    " \n",
    "\tNot only this , Python even allows negative indexing which begins from the end of the string.\n",
    "\tSo -1 is the index of last character , -2 is the index of second last character and so on.\n",
    " \n",
    " \n"
   ]
  },
  {
   "cell_type": "code",
   "execution_count": null,
   "metadata": {},
   "outputs": [],
   "source": [
    "### String Concatenation\n",
    "• Concatenation means joining two or more strings together \n",
    "• To concatenate strings, we use the + operator. \n",
    "• Keep in mind that when we work with numbers, + will be an operator for addition, but when used with strings it is a joining operator.\n",
    " "
   ]
  },
  {
   "cell_type": "code",
   "execution_count": null,
   "metadata": {},
   "outputs": [],
   "source": [
    "String Concatenation\n",
    "s1=“Good”\n",
    "s1=“Good”\n",
    "s2=“Morning”\n",
    "s2=“Morning” s3=s1+” “+s2 s3=s1+s2\tprint(s3)\n",
    "print(s3)"
   ]
  },
  {
   "cell_type": "markdown",
   "metadata": {},
   "source": [
    "### Slicing"
   ]
  },
  {
   "cell_type": "markdown",
   "metadata": {},
   "source": [
    "• Slicing means pulling out a sequence of characters from a string .\n",
    "• For example , if we have a string “Industry” and we want to extract the word “dust” from it , then in Python this is done using slicing.\n",
    "• To slice a string , we use the operator[ ] as follows:\n",
    "• Syntax: s[x:y]\n",
    "• x denotes the start index of slicing and y denotes the end index . But Python ends slicing at y-1 index.\n",
    "\n"
   ]
  },
  {
   "cell_type": "code",
   "execution_count": null,
   "metadata": {},
   "outputs": [],
   "source": [
    "#Example:\n",
    "s=“Industry” print(s[2:6])\n",
    "Output: dust\t•\n",
    "•\tExample:\n",
    "s=“Welcome” print(s[3:6])\n",
    "Output: com\n",
    "\n",
    "•Example:\n",
    "s=“Mumbai” print(s[0:3])\n",
    "Output:\n",
    "Mum\t•\n",
    "\n",
    "•Example:\n",
    "s=“Mumbai”\n",
    "print(s[0:10])\n",
    "Output:\n",
    "Mumbai\n",
    "\n",
    "•Example:\n",
    "s=“Python” print(s[2:2])\n",
    "Output:\t•\n",
    "    \n",
    "•\tExample:\n",
    "s=“Python” print(s[6:10])\n",
    "Output:\n",
    "\n",
    "•\n",
    "•Example:\n",
    "s=“welcome” print(s[1:])\n",
    "Output: elcome\t•\n",
    "    \n",
    "•Example:\n",
    "s=“welcome” print(s[:3])\n",
    "Output:\n",
    "wel\n",
    "\n",
    "•\n",
    "•Example:\n",
    "s=“welcome” print(s[:])\n",
    "Output: welcome\t•\n",
    "    \n",
    "•Example:\n",
    "s=“welcome” print(s[])\n",
    "Output:\n",
    "Syntax Error\n",
    "•\n",
    "•Example:\n",
    "s=“welcome”\n",
    "print(s[-4:-1])\n",
    "\n",
    "    \n",
    "•Example:\n",
    "s=“welcome”\n",
    "print(s[-1:-4])\n"
   ]
  },
  {
   "cell_type": "code",
   "execution_count": null,
   "metadata": {},
   "outputs": [],
   "source": [
    "### Using Step Value\n",
    "• String slicing can accept a third parameter also after the two index numbers. \n",
    "• The third parameter is called step value.\n",
    "• So the complete syntax of slicing operator is:\n",
    "s[begin:end:step]\n",
    "• Step value indicates how many characters to move forward after the first character is retrieved from the string and it’s default value is 1 , but can be changed as per our choice.\n",
    "The Slicing Operator\n",
    "\n",
    "• For Example:\n",
    "s=“Industry” print(s[2:6])\n",
    "\n",
    "s=“Industry” print(s[2:6:2])\n",
    "\n",
    "\n",
    "•Can also be written as :\n",
    "s=“Industry” print(s[2:6:1])"
   ]
  },
  {
   "cell_type": "markdown",
   "metadata": {},
   "source": [
    "### Type Conversion"
   ]
  },
  {
   "cell_type": "markdown",
   "metadata": {},
   "source": [
    "The process of converting the value of one data type (integer, string, float, etc.) to another data type is called \n",
    "Type Conversion. \n",
    "\n",
    "Python has two types of type conversion.\n",
    "\n",
    "Implicit Type Conversion\n",
    "\n",
    "Explicit Type Conversion"
   ]
  },
  {
   "cell_type": "code",
   "execution_count": null,
   "metadata": {},
   "outputs": [],
   "source": [
    "#Implicit Conversion\n",
    "In Implicit Type Conversion, Python automatically converts one data type to another data type. \n",
    "This process doesn't need any programmer involvement.\n",
    "Let's see an example where Python promotes conversion of int to float .\n",
    "Example Of Implicit Conversion\n",
    " \n",
    "•If we observe the above operations , we will find that Python has automatically assigned the data type of c to be float .\n",
    "•This is because Python always converts smaller data type to larger data type to avoid the loss of data.\n",
    "Another Example \n",
    " \n",
    "•Here also Python is automatically upgrading bool to type int so as to make the result sensible\n",
    "Explicit Type Conversion\n",
    "•There are some cases , where Python will not perform type conversion automatically and we will have to explicitly convert one type to another.\n",
    "•Such Type Conversions are called Explicit Type Conversion\n",
    "•Let's see an example of this\n",
    "Explicit Type Conversion\n",
    "Guess the output ? a=10 Why did the code fail?\n",
    "b=“6”\n",
    "print(type(a)) print(type(b)) c=a+b\n",
    "print( c ) print(type( c ))\tThe code failed because\n",
    "Python does not automatically convert String to int.\n",
    "To handle such cases we need to \n",
    "perform Explicit Type Conversion \n"
   ]
  },
  {
   "cell_type": "code",
   "execution_count": null,
   "metadata": {},
   "outputs": [],
   "source": [
    "Explicit Type Conversion Functions In Python\n",
    "• Python provides us 5 predefined functions for performing Explicit Type Conversion for fundamental data types.\n",
    "• These functions are :\n",
    "1. int()\n",
    "2. float()\n",
    "3. complex()\n",
    "4. bool()\n",
    "5. str()"
   ]
  },
  {
   "cell_type": "code",
   "execution_count": null,
   "metadata": {},
   "outputs": [],
   "source": [
    "The int( ) Function\n",
    "• Syntax: int(value)\n",
    "• This function converts value of any data type to integer , with some special cases \n",
    "• It returns an integer object converted from the given value\n",
    "int( ) Examples\n",
    "int(2.3)\n",
    "Output: 2\n",
    "int(False) Output:\n",
    "0\n",
    "int(True) Output: 1\t int(3+4j) Output:\n",
    "TypeError: Can’t convert complex to int\n",
    "int( ) Examples\n",
    "int(“25”) Output: 25\n",
    "int(“2.5”)\t Output:\n",
    "ValueError: Invalid literal for int() int(“1010”) Output: 1010 int(“0b1010”)\t Output:\n",
    "ValueError: Invalid literal for int()\n",
    "Solution To The Previous Problem\n",
    "Can you solve this error now ? a=10\n",
    "b=“6” c=a+b\n",
    "print( c ) Output:\n",
    "TypeError Solution: a=10 b=“6” c=a+int(b) print( c ) Output:\n",
    "16\n"
   ]
  },
  {
   "cell_type": "code",
   "execution_count": null,
   "metadata": {},
   "outputs": [],
   "source": [
    "The float( ) Function\n",
    "• Syntax: float(value)\n",
    "• This function converts value of any data type to float , with some special cases\n",
    "• It returns an float object converted from the given value\n",
    "float( ) Examples\n",
    "float(25) Output: 25.0 float(False) Output: 0.0 float(True) Output: 1.0\t float(3+4j) Output:\n",
    "TypeError: Can’t convert complex to float\n",
    "float( ) Examples\n",
    "float(“25”) Output: 25.0 float(“2.5”)\tfloat(“twenty”) Output:\n",
    "ValueError:Could not convert \n",
    "string to float\n",
    "Output: 2.5 float(“1010”) Output: 1010.0 float (“0b1010”)  Output:\n",
    "ValueError:Could not convert string to float"
   ]
  },
  {
   "cell_type": "code",
   "execution_count": null,
   "metadata": {},
   "outputs": [],
   "source": [
    "The complex( ) Function\n",
    "• Syntax: complex(value)\n",
    "• This function converts value of any data type to complex , with some special cases\n",
    "• It returns an complex object converted from the given value\n",
    "complex ( ) Examples\n",
    "complex(25) Output: (25+0j) complex(2.5) Output: (2.5+0j) complex(True) Output: (1+0j) complex(False) Output:\n",
    "0j\n",
    "complex( ) Examples\n",
    "complex(“25”)\n",
    "Output: (25+0j) complex(“2.5”)\tcomplex(“twenty”) Output:\n",
    "ValueError: complex() arg is a malformed string\n",
    "Output: (2.5+0j) complex(“1010”) Output: (1010+0j) complex (“0b1010”) Output:\n",
    "ValueError: complex() arg is a malformed string\n"
   ]
  },
  {
   "cell_type": "code",
   "execution_count": null,
   "metadata": {},
   "outputs": [],
   "source": [
    "The bool ( ) Function\n",
    "• Syntax: bool(value)\n",
    "• This function converts value of any data type to bool , using the standard truth testing procedure.\n",
    "• It returns an bool object converted from the given value\n",
    "The bool ( ) Function\n",
    "• What values are considered to be false and what values are true ?\n",
    "• The following values are considered false in Python:\n",
    "None\n",
    "False\n",
    "Zero of any numeric type. For example, 0, 0.0, 0+0j Empty sequence. For example: (), [], ''.\n",
    "Empty mapping. For example: {}\n",
    "All other values are true\n",
    " \n",
    "bool(1) Output: True bool(5) Output: True bool(0) Output: False bool(0.0) Output:\n",
    "False bool(0.1) Output: True bool(0b101) Output: True bool(0b0000) Output: False bool(2+3j)  Output:\n",
    "True\n",
    "bool(0+1j) Output: True bool(0+0j) Output:\tbool(“twenty”) Output: True bool(' ') Output:\n",
    "True\n",
    "False bool('') Output:\t False bool('A') Output:\n",
    "True"
   ]
  },
  {
   "cell_type": "code",
   "execution_count": null,
   "metadata": {},
   "outputs": [],
   "source": [
    "The str( ) Function\n",
    "Syntax: str(value)\n",
    "This function converts any data type to string , without any special cases\n",
    "It returns a String object converted from the given value\n",
    "str( ) Examples\n",
    "str(15) Output:\n",
    "‘15’ str(2.5) Output:\n",
    "‘2.5’ str(2+3j) Output:\n",
    "‘(2+3j)’ str(True) Output:\n",
    "‘True’\n",
    "str( ) Examples\n",
    "str(1) Output:\n",
    "‘1’\n",
    "str(5) Output:\n",
    "‘5’\n",
    "str(2.5) Output:\n",
    "‘2.5’\n",
    "str(True) Output:\n",
    "‘True’\n"
   ]
  },
  {
   "cell_type": "code",
   "execution_count": null,
   "metadata": {},
   "outputs": [],
   "source": [
    "Understanding Python Variables\n",
    "\n",
    "•A variable can be seen as a container to store certain values. \n",
    "•While the program is running, variables are accessed and sometimes changed, i.e. a new value will be assigned to a variable\n",
    " \n",
    "•In C language when we declare a variable and assign value to it then some space is created in memory by the given name and the given value is stored in it.\n",
    "•Suppose we write the statement int a=42; , then the following will be the memory diagram.\n",
    "•Now if we declare another variable , with the same value , then again the same process will take place.\n",
    "•Suppose we write , int b=42; \n",
    "\n",
    "•Finally if we assign a new value to an existing variable , then it’s previous value gets overwritten\n",
    "•Suppose we write , a=43;\n",
    " \n",
    "•In Python when we assign value to a variable , then things are different than C . \n",
    "•Suppose we write a=42 in Python , then Python will create 2 things:\n",
    "•An object in heap memory holding the value 42 , and\n",
    "•A reference called a which will point to this object\n",
    " \n",
    "•Now if we create another variable called b and assign it the same value , then Python will do the following:\n",
    "•Create a new reference by the name b\n",
    "•Assign the address of the previously created object to the reference b because the value is same\n",
    "•So now both a and b are pointing to the same object\n",
    " \n",
    "\n",
    "•Finally if we assign a new value to the variable a , then like C ,  Python will not overwrite the value . Rather it will do the following:\n",
    "•Create a new object initialized with the new value\n",
    "•Assign the address of the newly created object to the reference a\n",
    "•However the reference b is still pointing to the same object\n",
    " \n",
    "•This behaviour of objects in Python is called \n",
    "“immutability”\n",
    "•In other words when we cannot change the value of an object , we  say it is immutable , otherwise we say it is mutable\n",
    "•Objects of built-in types like (int, float, bool, str, complex , tuple) are immutable. \n",
    "•Objects of built-in types like (list, set, dict) are mutable. \n",
    " \n",
    "Strings Are Also Immutable\n",
    "•String objects in Python are also immutable.\n",
    "•That is , once we have created a String object , then we cannot overwrite it’s value.\n",
    "•Although we can change the value of the String reference by assigning it new String.\n",
    "Strings Are Also Immutable\n",
    " \n",
    "Immutable And Mutable\n",
    "•Following data types in Python are immutable:\n",
    "•int\n",
    "•float\n",
    "•bool\n",
    "•str\n",
    "•tuple\n",
    "•complex\n",
    "•range\n",
    "•frozenset\n",
    "•bytes\n",
    "•Following data types in Python are mutable:\n",
    "•list\n",
    "•dict\n",
    "•set\n",
    "•bytearray\n",
    "Two Very Important Questions\n",
    "•Keeping in mind the concept of immutability , 2 very common questions arise :\n",
    "•What is the benefit of making objects immutable ? \n",
    "&\n",
    "•If we have a single reference and we create multiple objects , then wouldn’t there be  memory wastage ?\n",
    "Qn 1 : Benefit Of Immutability\n",
    "•The main benefit of immutability is that , it prevents unnecessary creation of new objects .\n",
    "•This is because if we write , the following 2 statements:\n",
    "a=42\n",
    "b=42\n",
    "•Then Python will not create 2 objects . Rather it only creates 1 object and makes both the references a and b ,refer to the same object.\n",
    "•This saves memory and overhead  of creating multiple objects \n",
    "Qn 2 : What About Single Reference And Multiple Objects ?\n",
    "•Consider the following 3 lines :\n",
    "a=10 a=20 a=30\n",
    "•When the above 3 lines will run , then Python will create 3 objects , one by one and finally the reference a will refer to the last object with the value 30\n",
    "•An obvious question arises , that what will happen to the previous 2 objects with the value 10 and 20 ?\n",
    "Three Important Terms \n",
    "•Before understanding , what will happen to the previous 2 objects , we need to understand 3 important terminologies:\n",
    "1.Garbage Block \n",
    "2.The Garbage Collection\n",
    "3.Reference Counting\n",
    "The Garbage Block\n",
    "•In Python , if an object is not being referred by any reference , then such objects are called Garbage Blocks.  \n",
    "\n",
    "The Garbage Block \n",
    "\n",
    "The Garbage Collection\n",
    "•Garbage collection is the process of cleaning the computer memory which was used by a running program when that program no longer needs that memory .\n",
    "•Garbage collection is a memory management feature in many programming languages.\n",
    " \n",
    "•The process of memory management in Python is straightforward. \n",
    "•Python handles it’s objects by keeping a count to the number of references each object has in the program.\n",
    "•In simple words it means, each object stores how many references are currently referring it.\n",
    "•This count is updated with the program runtime and when it reaches 0, this means it is not reachable from the program anymore. \n",
    "•Hence, the memory for this object can be reclaimed and be freed by the interpreter.\n",
    "a=10   // The object 10 has a reference count of 1 b=10  // Now 10 has reference count of 2 a=20 // Now reference count of 10 becomes 1 b=20 // Finally reference count of 10 becomes 0\n",
    "•As soon as the reference count of 10 becomes 0 , Python automatically removes the object 10 from memory \n",
    "•So in our example\n",
    "a=10 a=20 a=30\n",
    "•The objects 10 and 20 will be reclaimed by the Python Garbage Collector as soon as their reference count becomes 0\n",
    "•ADVANTAGE:\n",
    "•The main advantage of such approach is that unused memory is reclaimed and made available for use again.\n",
    "•DISADVANTAGE:\n",
    "•The drawback is that Python has to continuously watch the reference count of objects in the background and free them as soon as reference count becomes 0.\n",
    "•This is another important reason why Python is slow as compared to other languages\n",
    " \n",
    "Another Important Question\n",
    "•Consider the following statements:\n",
    "a=42 b=42\n",
    "•Can you tell how many objects has Python created in the above code ?\n",
    "•Answer: Only 1\n",
    "•But , what is the proof ?\n",
    "Another Important Question\n",
    "•We can prove this in 2 ways:\n",
    "•By using id( ) function \n",
    "•By using is operator\n",
    "The id( ) Function\n",
    "•id() is a built-in function in Python 3, which returns the identity of an object. \n",
    "•The identity is a unique integer for that object during it’s lifetime. \n",
    "•This is also the address of the object in memory.\n",
    "The id( ) Function\n",
    "•We can use the id( ) function to prove that whenever we assign the same value to a variable then Python simply assigns the address of existing object to the new reference.\n",
    " \n",
    "The is Operator\n",
    "•Another way to find out whether 2 references are pointing to the same object or not is to use the is operator.\n",
    "•The is operator is a binary operator and checks whether both the operands refer to the same object or not.\n",
    "The is Operator\n",
    " \n",
    "An Important Twist !\n",
    "•\n",
    "•Example:\n",
    "a= -5 b=-5\n",
    "print(a is b)\n",
    "Output:\n",
    "True•\n",
    "•Example:\n",
    "a=256 b=256\n",
    "print(a is b)\n",
    "Output:\n",
    "True\n",
    "An Important Twist !\n",
    "•\n",
    "•Example:\n",
    "a= -6 b=-6\n",
    "print(a is b)\n",
    "Output:\n",
    "False•\n",
    "•Example:\n",
    "a=257 b=257\n",
    "print(a is b)\n",
    "Output:\n",
    "False\n",
    "Python caches the integer values in the range -5 to 256 . \n",
    "Beyond this range Python creates new objects even for the same value\n",
    "Another Important Twist !\n",
    "•\n",
    "•Example:\n",
    "a= “Bhopal” b=“Bhopal” print(a is b)\n",
    "Output:\n",
    "True•\n",
    "•Example:\n",
    "a=False b=False\n",
    "print(a is b)\n",
    "Output:\n",
    "True\n",
    "Yet Another Important Twist !\n",
    "•\n",
    "•Example:\n",
    "a= 1.0 b=1.0\n",
    "print(a is b)\n",
    "Output:\n",
    "False•\n",
    "•Example:\n",
    "a=(2+3j) b=(2+3j) print(a is b)\n",
    "Output:\n",
    "False\n",
    "The concept of caching or object reusability applies to strings  and booleans but doesn’t apply to float and complex data types\n"
   ]
  },
  {
   "cell_type": "code",
   "execution_count": null,
   "metadata": {},
   "outputs": [],
   "source": [
    "Comments , Constants And More About print( ) Function\n",
    "•How to write Comments in Python ?\n",
    "•How to create constants in Python ?\n",
    "•How to print a variables value using print( ) ?\n",
    "Comments In Python\n",
    "•Comments are statements in our program which are ignored by the compiler or interpreter i.e they are not executed by the language\n",
    "•We generally create comments to let developers understand our code’s logic.\n",
    "•This is a necessary practice, and good developers make heavy use of the comment system. \n",
    "•Without it, things can get confusing\n",
    " \n",
    "Types Of Comments In Python\n",
    "•Python provides 2 types of comments:\n",
    "•Single Line Comment ( official way of comment)\n",
    "•MultiLine Comment ( un offcial way)\n",
    "Single Line Comments\n",
    "•Single-line comments are created simply by beginning a line with the hash (#) character, and they are automatically terminated by the end of line.\n",
    "•For example:\n",
    "a=10\n",
    "#a=a+1 \n",
    "print(a) Output:\n",
    "10\n",
    "Official Way Of Multi Line Comments\n",
    "•To create a Multi Line Comments , the only problem with this style is we will have prefix each line with # , as shown below:\n",
    "#a=a+1\n",
    "#b=b+5\n",
    "#c=c+10\n",
    "•But most Python projects follow this style and Python’s PEP 8 style guide also favours repeated single-line comments.\n",
    "What Is PEP ?\n",
    "•PEP stands for Python Enhancement Proposal.\n",
    "•It is Python's style guide and is officially called PEP8\n",
    "•In simple words it is a set of rules for how to format your Python code to maximize its readability .\n",
    "•We can find it at https://www.python.org/dev/peps/pep-0008/\n",
    "Why Is PEP Needed ?\n",
    "•When you develop a program in a group of programmers, it is really important to follow some standards. \n",
    "•If all team members format the code in the same prescribed format, then it is much easier to read the code. \n",
    "•For the same purpose PEP8 is used to ensure Python coding standards are met.\n",
    "Un Official Way Of Multi Line Comments\n",
    "•If  we want to simplify our efforts for writing Multi Line Comments , then we can wrap these comments inside triple quotes ( double or single ) as shown below\n",
    "•For example:\n",
    "a=10\n",
    "' ' ' a=a+1 a=a+1  ' ' ' print(a) Output:\n",
    "10\n",
    "Why It Is Un Official ?\n",
    "•Triple quotes doesn’t create “true” comments.\n",
    "•They are regular multiline strings , but since they are not getting assigned to any variable , they will get garbage collected as soon as the code runs.\n",
    "•Hence they are not ignored by the interpreter in the same way that #a comment is.\n",
    "What Is A Constant ?\n",
    "•A constant is a type of variable whose value cannot be changed.\n",
    "•C++ provides the keyword const for declaring constant as shown below:\n",
    "const float pi=3.14; pi=5.0; // Syntax Error\n",
    "•Java provides the keyword final for declaring constant:\n",
    "final double PI=3.14; PI=5.0; // Syntax Error\n",
    "How To Create A Constant In Python?\n",
    "•Unfortunately , there is no keyword in Python , like const or final , to declare a variable as constant.\n",
    "•This is because of dynamic nature of Python .\n",
    "•However there is a convention in Python , that we can follow to let other developer’s know that we are declaring a variable as constant and we don’t want others to change it’s value.\n",
    "•The convention is to declare the variable in all upper case\n",
    "How To Create A Constant In Python?\n",
    "•For example:\n",
    "PI=3.14\n",
    "MAX_MARKS=100\n",
    "•But again , remember this is just a convention not a rule and still the value of PI and MAX_MARKS can be changed\n",
    "Some More About print( ) Function\n",
    "•We know that print( ) function can be used to print messages on the output screen.\n",
    "•But we can also use print( ) to display single or multiple variable values.\n",
    "•We just have to separate them with comma :\n",
    "•print( arg1 , arg2, arg3, . . .)\n",
    " \n",
    "•\n",
    "•Example:\n",
    "a=“Good” b=“Morning” print(a+b)\n",
    "Output:\n",
    "GoodMorning\t•\n",
    "•Example:\n",
    "a=“Good” b=10 print(a+b) Output:\n",
    "TypeError\n",
    "•\n",
    "•Example:\n",
    "a=“Good” b=“Morning” print(a,b)\n",
    "Output:•\n",
    "•Example:\n",
    "a=“Good” b=10\n",
    "print(a,b)\n",
    "Output:\n",
    "Good 10\n",
    "Good Morning\n",
    " \n",
    "•\n",
    "•Example:\n",
    "a=10 b=20\n",
    "print(a,b)\n",
    "Output:\n",
    "10 20•\n",
    "•Example:\n",
    "a=“Good” b=10\n",
    "print(a,b)\n",
    "Output:\n",
    "Good 10\n",
    "•Example:\n",
    "name=“Sachin” print(“My name is“, name)\n",
    "•Output:\n",
    "My name is Sachin\n",
    "•Example: age=32\n",
    "print(“My age is“, age)\n",
    "•Output:\n",
    "My age is 32\n",
    "•Example:\n",
    "name=“Sachin” age=32\n",
    "print(“My name is“, name,”and my age is”,age)\n",
    " \n",
    "Note , we have not provided any space at marked positions but in the output we will automatically get the space\n",
    "•Output:\n",
    "My name is Sachin and my age is 32\n",
    " \n",
    "How Is Space \n",
    "Getting Generated?\n",
    "•Just like print() function has a keyword argument called end , which generates newline automatically , similarly it also has another keyword argument called sep \n",
    "•This argument has the default value of “ “ and is used by Python to separate values of 2 arguments on screen.\n",
    "How Is Space Getting Generated?\n",
    "•So the statement :\n",
    "•print(“Good”,”Morning”)\n",
    "•Is actually converted by Python to \n",
    "•print(“Good”,”Morning”,sep=“ “)\n",
    "•And the output becomes \n",
    "•Good Morning\n",
    "Changing The Default Value Of sep\n",
    "•We can change the default value of sep to any value we like .\n",
    "•To do this , we just have to pass sep as the last argument to the function print( )\n",
    "•print(“Good”,”Morning”,sep=“,”)\n",
    "•And the output becomes \n",
    "•Good,Morning\n",
    " \n",
    "The print( ) Function\n",
    "•Example:•Example:\n",
    "hh=10\n",
    "a=10\n",
    "mm=30\n",
    "b=20 ss=45\n",
    "print(a,b,sep=“#”)\n",
    "print(hh,mm,ss,sep=“:”)\n",
    "•Output:\n",
    "•Output:\n",
    "10:30:45 10#20\n"
   ]
  },
  {
   "cell_type": "code",
   "execution_count": null,
   "metadata": {},
   "outputs": [],
   "source": [
    " \n",
    " \n",
    "\n",
    "Python divides the operators in the following groups:\n",
    "•Arithmetic operators\n",
    "•Comparison operators or Relational operators\n",
    "•Logical operators\n",
    "•Assignment operators\n",
    "•Identity operators\n",
    "•Membership operators\n",
    "•Bitwise operators\n",
    "Operator in python\n",
    "•Operators are special symbols in Python or in any other language which can manipulate the value of operands.\n",
    "•The value that the operator operates on is called the operand. \n",
    "•For example: here 2+3=5. Here, + is the operator that performs addition and 2 and 3 represent the operands.\n",
    "Arithmetic Operator  \n",
    "• Arithmetic operators are used with numeric values to perform common mathematical operations:\n",
    "Operator Name Example\n",
    "+ Addition x + y\n",
    "- Subtraction x - y\n",
    "* Multiplicationx * y\n",
    "/ Divisionx / y\n",
    "% Modulusx % y\n",
    "** Exponentiationx ** y\n",
    "// Floor divisionx // y\n",
    "Arithmetic Operator  \n",
    "myarithop.py x = 5 y = 3 print(x + y) print(x - y) print(x * y) print(x/y)\n",
    "Print(x%y)#It's used to get the remainder of a division problem.\n",
    "print(x**y)\n",
    "print(x//y)#the floor division // rounds the result down to the nearest whole number\n",
    "Relational Operators \n",
    "In Python\n",
    "•Relational Operators\n",
    "•Relational Operators With Strings\n",
    "•Chaining Of Relational Operators\n",
    "•Special Behavior Of == and !=\n",
    " \n",
    "Relational Operators In Python\n",
    "Relational operators are used to compare values. \n",
    "They either return True or False according to the condition.\n",
    "These operators are:\n",
    "Operator Meaning\n",
    "> Greater Than\n",
    "< Less Than\n",
    ">= Greater Than Equal To\n",
    "<= Less Than Equal To\n",
    "== Equal To\n",
    "!= Not Equal To\n",
    "The 6 Basic Relational Operators\n",
    "myrelop.py a=10 b=4\n",
    "print(\"a=\",a,\"b=\",b) print(\"a > b\",a>b) print(\"a < b\",a<b) print(\"a==b\",a==b) print(\"a!=b\",a!=b) print(\"a>=b\",a>=b) print(\"a<=b\",a<=b)\n",
    "The 6 Basic Relational \n",
    "Operators\n",
    "The Output:\n",
    " \n",
    " \n",
    "Relational Operators can also work with strings .\n",
    "When applied on string operands , they compare the unicode of corresponding characters and return True or False based on that comparison.\n",
    "As discussed previuosly , this type of comparison is called lexicographical comparsion\n",
    "myrelop2.py a=\"Ramesh\" b=\"Rajesh\" print(\"a=\",a,\"b=\",b) print(\"a > b\",a>b) print(\"a < b\",a<b) print(\"a==b\",a==b) print(\"a!=b\",a!=b) print(\"a>=b\",a>=b) print(\"a<=b\",a<=b) The Output:\n",
    " \n",
    "If  we want to check the UNICODE value for a particular letter , then we can call the function ord().\n",
    "It is a built in function which accepts only one character as argument and it returns the UNICODE number of the argument passed\n",
    "Example:\n",
    "ord(‘A’) 65 ord(‘m’)\n",
    "109\n",
    "ord(‘j’)\n",
    "106\n",
    "myrelop4.py a= \"BHOPAL\" b= \"bhopal\" print(\"a=\",a,\"b=\",b) print(\"a > b\",a>b) print(\"a < b\",a<b) print(\"a==b\",a==b) print(\"a!=b\",a!=b) print(\"a>=b\",a>=b) print(\"a<=b\",a<=b) The Output:\n",
    " \n",
    " \n",
    "Will This Code Run ?\n",
    "a=True b=False print(\"a=\",a,\"b=\",b)\tYes , the code will successfully Run because True is 1 and False is 0\n",
    "Output:\n",
    "print(\"a > b\",a>b) print(\"a < b\",a<b) print(\"a==b\",a==b) print(\"a!=b\",a!=b) print(\"a>=b\",a>=b) print(\"a<=b\",a<=b)\n",
    "What about this code?\n",
    "a=‘True’ b=‘False’ print(\"a=\",a,\"b=\",b)\tYes , this code will also successfully Run but  ‘True’ and ‘False’ will be handled as strings\n",
    "Output:\n",
    "print(\"a > b\",a>b) print(\"a < b\",a<b) print(\"a==b\",a==b) print(\"a!=b\",a!=b) print(\"a>=b\",a>=b) print(\"a<=b\",a<=b)\n",
    "Special Behavior Of Relational Operators\n",
    "Python allows us to chain multiple relational operators in one single statement.\n",
    "For example the expression 1<2<3 is perfectly valid in \n",
    "Python\n",
    "However when Python evaluates the expression , it returns True if all individual conditions are true , otherwise it returns False\n",
    "Cascading Of Relational Operators\n",
    "•Example:•Example:\n",
    "print(5<6>7)\n",
    "print(7>6>5)\n",
    "•Output:•Output:\n",
    "False True\n",
    "Cascading Of Relational Operators\n",
    "•Example:•Example:\n",
    "print(5<6<7)\n",
    "print(5>6>7)\n",
    "•Output:•Output:\n",
    "True False\n",
    " \n",
    "== compares  it’s operands for equality and if they are of compatible types and have same value then it returns True otherwise it returns False\n",
    "Similarly != compares  it’s operands for inequality and if they are of incompatible types or have different value then it returns True otherwise it returns False\n",
    "•\n",
    "•Example:\n",
    "print(10==10)\n",
    "Output:•\n",
    "•Example:\n",
    "print(10==20)\n",
    "Output:\n",
    "False\n",
    "True\n",
    "•\n",
    "•Example:\n",
    "print(10==“10”)\n",
    "Output:•Example:\n",
    "print(10==True)\n",
    "•Output:\n",
    "False\n",
    "False\n",
    "•\n",
    "•Example:\n",
    "print(1==True)\n",
    "Output:•Example:\n",
    "print(“A”==“A”)\n",
    "•Output:\n",
    "True\n",
    "True\n",
    "•\n",
    "•Example:\n",
    "print(“A”==“65”)\n",
    "Output:•Example:\n",
    "print(“A”==65)\n",
    "•Output:\n",
    "False\n",
    "False\n",
    "•\n",
    "•Example:\n",
    "print(15==15.0)\n",
    "Output:\t•Example:\n",
    "print(15==15.01)\n",
    "•Output:\n",
    "False\n",
    "True\n",
    "•\n",
    "•Example:\n",
    "print(15!=“15”)\n",
    "Output:\t•Example:\n",
    "print(0 != False)\n",
    "•Output:\n",
    "False\n",
    "True\n",
    "•\n",
    "•Example:\n",
    "print(False!=True)\n",
    "Output:•Example:\n",
    "print(False != 0.0)\n",
    "•Output:\n",
    "False\n",
    "True\n",
    "•\n",
    "•Example:\n",
    "print(2+5j==2+5j)\n",
    "Output:•Example:\n",
    "print(2+5j!= 2)\n",
    "•Output:\n",
    "True\n",
    "True\n"
   ]
  },
  {
   "cell_type": "code",
   "execution_count": null,
   "metadata": {},
   "outputs": [],
   "source": [
    " \n",
    " \n",
    " \n",
    " \n",
    "PYTHON\n",
    "LECTURE 12\n",
    " Today’s Agenda\t \n",
    "•Operators In Python\n",
    "•Logical Operators\n",
    "•How Logical Operators Work With Boolean Types ?\n",
    "•How Logical Operators Work With Non Boolean Types ?\n",
    "Logical Operators \n",
    "In Python\n",
    "Logial operators are used to combine two or more conditions and perform the logical operations using Logical and, Logical or and Logical not.\n",
    "Operator Meaning\n",
    "and It will return true when both conditions are true\n",
    "or It will returns true when at-least one of the condition is true\n",
    "not If the condition is true, logical NOT operator makes it false\n",
    " \n",
    "Logical and Operator\n",
    " \n",
    " \n",
    "Logical or Operator\n",
    " \n",
    " \n",
    "Logical not Operator\n",
    " \n",
    " \n",
    "Python allows us to apply logical operators with non boolean types also\n",
    "But before we understand how these operators work with non boolean types, we must understand some very important points\n",
    "1.None, 0 , 0.0 ,”” are all False values\n",
    "2.The return value of Logical and & Logical or operators is never True or False when they are applied on non boolean types.\n",
    "3.If the first value is False , then Logical and returns first value , otherwise it returns the second value\n",
    "4.If the first value is True , then Logical or returns first value , otherwise it returns the second value\n",
    "5.When we use not operator on non boolean types , it returns True if it’s operand is False( in any form) and \n",
    "False if it’s operand is True ( in any form) \n",
    " \n",
    "•Example:\n",
    "5 and 6\n",
    "•Output:•Example:\n",
    "5 and 0\n",
    "•Output:0\n",
    "6\n",
    "•Example:\n",
    "0 and 10\n",
    "•Output:•Example:\n",
    "6 and 0\n",
    "•Output:0\n",
    "0\n",
    "•Example:\n",
    "‘Sachin’ and 10\n",
    "•Output:•Example:\n",
    "‘Sachin’ and 0\n",
    "•Output:0\n",
    "10\n",
    "\n",
    "•\n",
    "•Example:\n",
    "‘Indore’ and ‘Bhopal’\n",
    "Output:\n",
    "Bhopal•Example:\n",
    "‘Bhopal’ and ‘Indore’\n",
    "•Output:\n",
    "Indore\n",
    "\n",
    "•\n",
    "•Example:\n",
    "0 and 10/0\n",
    "Output:\n",
    "0•Example:\n",
    "10/0 and 0\n",
    "•Output:\n",
    "ZeroDivisionEror\n",
    "•Example:\n",
    "5 or 6\n",
    "•Output:•Example:\n",
    "5 or 0\n",
    "•Output:5\n",
    "5\n",
    "•Example:\n",
    "0 or 10\n",
    "•Output:•Example:\n",
    "6 or 0\n",
    "•Output:6\n",
    "10\n",
    "•\n",
    "•Example:\n",
    "‘Sachin’ or 10\n",
    "Output:•\n",
    "•Example:\n",
    "‘Sachin’ or 0\n",
    "Output:\n",
    "Sachin\n",
    "Sachin\n",
    "\n",
    "•\n",
    "•Example:\n",
    "‘Indore’ or ‘Bhopal’\n",
    "Output:\n",
    "Indore•Example:\n",
    "‘Bhopal’ or ‘Indore’\n",
    "•Output:\n",
    "Bhopal\n",
    "\n",
    "•Example:\n",
    "0 or 10/0\n",
    "•Output:\n",
    "ZeroDivisionError•Example:\n",
    "10/0 or 0\n",
    "•Output:\n",
    "ZeroDivisionEror\n",
    "\n",
    "•\n",
    "•Example: not 5\n",
    "Output:\n",
    "False•\n",
    "•Example: not 0\n",
    "Output:\n",
    "True\n",
    "\n",
    "•\n",
    "•Example:\n",
    "not ‘Sachin’\n",
    "Output:\n",
    "False•\n",
    "•Example: not ‘’\n",
    "Output:\n",
    "True\n",
    "\n"
   ]
  },
  {
   "cell_type": "code",
   "execution_count": null,
   "metadata": {},
   "outputs": [],
   "source": [
    " •Operators In Python\n",
    "•Introduction To Bitwise Operators\n",
    "•Six Types Of Bitwise Operators\n",
    "Bitwise Operators In Python\n",
    "Bitwise operators are those operators which work at the bit level\n",
    "All the integer values will be converted into binary values and then bitwise operators will work on these bits.\n",
    "Also , we can apply these operators on just 2 data types int and bool\n",
    " \n",
    "Bitwise Operators In Python\n",
    "Python provides 6 Bitwise operators and they are:\n",
    "Operator Meaning\n",
    "& Bitwise AND\n",
    "| Bitwise OR\n",
    "^ Bitwise XOR\n",
    "~ Bitwise one’s complement\n",
    "<<Bitwise Left Shift\n",
    ">>Bitwise Right Shift\n",
    "Bitwise AND Operator\n",
    "1.Denoted using the symbol &\n",
    "2.Takes 2 operands and compares their corresponding bits\n",
    "3.If both bits are 1 , it returns 1 otherwise it returns 0\n",
    "And operator Result\n",
    "0 & 00\n",
    "0 & 10\n",
    "1 & 00\n",
    "1 & 11\n",
    "&\n",
    " \n",
    "Explanation:Explanation:\n",
    "Binary of 2 : 0010 Binary of 7 : 0111\n",
    "Binary of 3:  0011 Binary of 9:  1001\n",
    "Bitwise & :  0010 Bitwise & :  0001 Final Result: 2 Final Result: 1\n",
    " \n",
    "a=15 b=1 c=a & b print(c) Output: \n",
    "1\n",
    "Explanation:\n",
    "Binary of 15 : 1111\n",
    "Binary of 1: 0001\n",
    "Bitwise & :  0001\n",
    "Final Result: 1\n",
    "& \n",
    "a=8 b=10 c=a & b print(c) Output: \n",
    "8\n",
    "Explanation:\n",
    "Binary of 8 : 1000\n",
    "Binary of 10:  1010\n",
    "Bitwise & :  1000 Final Result: 8\n",
    " \n",
    "& \n",
    "a=True\ta=True b=False\tb=True c=a & b\tc=a & b print(c)\tprint(c)\n",
    "Output: \n",
    "Output: \n",
    "True False\n",
    "Explanation:\tExplanation:\n",
    "Binary of True(1) : 0001\tBinary of True(1) : 0001\n",
    "Binary of False(0): 0000\tBinary of True(1):  0001\n",
    "Bitwise & :  0000\tBitwise & :  0001\n",
    "Final Result: False\tFinal Result: True\n",
    "Bitwise OR Operator\n",
    "1.\tDenoted using the symbol |\n",
    "2.\tTakes 2 operands and compares their corresponding bits\n",
    "3.\tIf both bits are 0 , it returns 0 otherwise it returns 1\n",
    "Or operator\tResult\n",
    "0 | 00\n",
    "0 | 11\n",
    "1 | 01\n",
    "1 | 11\n",
    " \n",
    "Examples Of | Operator\n",
    " \n",
    "a=2 b=3 c=a | b print(c) Output: \n",
    "3\n",
    "Explanation:\n",
    "Binary of 2 : 0010\n",
    "Binary of 3:  0011 Bitwise | :    0011\n",
    "Final Result: 3 a=7 b=9 c=a | b print(c) Output: \n",
    "15\n",
    "Explanation:\n",
    "Binary of 7 : 0111\n",
    "Binary of 9:  1001\n",
    "Bitwise | :    1111 Final Result: 15\n",
    "Examples Of | Operator\n",
    "a=True b=False c=a|b print(c) Output: True\n",
    "Explanation:\n",
    "Binary of 1 : 0001\n",
    "Binary of 0: 0000\n",
    "Bitwise | :  0001\n",
    "Final Result: True a=True b=True c=a|b print(c) Output: \n",
    "True\n",
    "Explanation:\n",
    "Binary of 1 : 0001 Binary of 1:  0001\n",
    "Bitwise | :  0001\n",
    "Final Result: True\n",
    " \n",
    "Bitwise XOR Operator\n",
    "1.\tDenoted using the symbol ^\n",
    "XOR operator\tResult\n",
    "0 ^ 00\n",
    "0 ^ 11\n",
    "1^0\t1\n",
    "1 ^ 10\n",
    "2.Takes 2 operands and compares their corresponding bits\n",
    "3.Returns 1 only if both the bits are different otherwise it returns 0\n",
    "Examples Of ^Operator\n",
    " \n",
    "a=2 b=3 c=a^b\n",
    "print(c) Output: \n",
    "1\n",
    "Explanation:\n",
    "Binary of 2 : 0010\n",
    "Binary of 3:  0011\n",
    "Bitwise ^ :    0001\n",
    "Final Result: 1\n",
    "a=7 b=9 c=a^b\n",
    "print(c) Output: \n",
    "14\n",
    "Explanation:\n",
    "Binary of 7 : 0111\n",
    "Binary of 9:  1001\n",
    "Bitwise ^ :    1110 Final Result: 14\n",
    "Examples Of ^ Operator\n",
    "a=True b=False c=a^b\n",
    "print(c) Output: True\n",
    "Explanation:\n",
    "Binary of 1 : 0001\n",
    "Binary of 0: 0000\n",
    "Bitwise ^ :  0001\n",
    "Final Result: True a=True b=True c=a^b\n",
    "print(c) Output: False\n",
    "Explanation:\n",
    "Binary of 1 : 0001 Binary of 1:  0001\n",
    "Bitwise ^ :  0000\n",
    "Final Result: False\n",
    " \n",
    "Bitwise \n",
    "One’s Complement Operator\n",
    "1.\tDenoted using the symbol ~\n",
    "2.\tTakes an integer and flips all the bits (swapping 0 with 1 and vice versa).\n",
    "Example:\n",
    "a=2 b=~a\n",
    "print( b ) Output:\n",
    "-3\n",
    "Explanation\n",
    "Binary for 2 is 00000010. Its one’s complement is 11111101. \n",
    "This is binary for -3.\n",
    "Bitwise \n",
    "Left Shift Operator\n",
    "1.Denoted by  << \n",
    "2.Shifts the bits of the number towards left by the specified number of places. \n",
    "3.Adds 0 to the empty least-significant places\n",
    "Example: a=10 b=a<<1\n",
    "print( b ) Output:\n",
    "20\n",
    "Explanation\n",
    "Binary of 2 : 0010\n",
    "Left Shift by 1: 00100\n",
    "Result : 20\t \n",
    "New bit\n",
    "Examples Of Left Shift Operator\n",
    " \n",
    "a=15 b=3 c=a<<b print(c) Output: \n",
    "120\n",
    "Explanation:\n",
    "Binary of 15 :      1111\n",
    "Left Shift by 3:  1111000\n",
    "Final Result: 120\n",
    "a=7 b=2 c=a<<b print(c) Output: \n",
    "28\n",
    "Explanation:\n",
    "Binary of 7 :       0111\n",
    "Left Shift by 2:  11100 Final Result: 28\n",
    "Examples Of Left Shift Operator\n",
    "a=True b=a<<1 print(b) Output: \n",
    "2\n",
    "Explanation:\n",
    "Binary of 1 : 0001\n",
    "Left Shift By 1   :  0010\n",
    "Final Result: 2 a=False b=a<<1 print(b) Output: \n",
    "0\n",
    "Explanation:\n",
    "Binary of 0 : 0000\n",
    "Left Shift By 1 :  0000 Final Result: 0\n",
    " \n",
    "Bitwise \n",
    "Right Shift Operator\n",
    "1.Denoted by  >>\n",
    "2.Shifts the bits of the number towards right by the specified number of places. \n",
    "3.Adds 0 to the empty most-significant places\n",
    "Example: a=10 b=a>>1\n",
    "print( b ) Output:\n",
    "5\n",
    "Explanation\n",
    "Binary of 10 : 1010\n",
    "Right Shift by 1: 0101\n",
    "Result : 5\t \n",
    "New bit\n",
    "Examples Of Right Shift Operator\n",
    " \n",
    "a=15 b=3 c=a>>b print(c) Output: \n",
    "1\n",
    "Explanation:\n",
    "Binary of 15 :      1111\n",
    "Right Shift by 3:  0001\n",
    "Final Result: 1\n",
    "a=7 b=2 c=a>>b print(c) Output: \n",
    "1\n",
    "Explanation:\n",
    "Binary of 7 :       0111\n",
    "Right Shift by 2:  0001\n",
    "Final Result: 1\n",
    " \n",
    "Examples Of Right Shift Operator\n",
    "a=True\ta=False b=a>>1\tb=a>>1 print(b)\tprint(b)\n",
    "Output: \tOutput: \n",
    "0 0\n",
    "Explanation:\tExplanation:\n",
    "Binary of 1 : 0001\tBinary of 0 : 0000\n",
    "Right Shift By 1   :  0000\tRight Shift By 1 :  0000\n",
    "Final Result: 0\tFinal Result: 0\n"
   ]
  },
  {
   "cell_type": "code",
   "execution_count": null,
   "metadata": {},
   "outputs": [],
   "source": [
    "Operators In Python\n",
    "Assignment Operators\n",
    "Various Types Of Assignment Operators\n",
    "Compound Operators\n",
    "Identity Operators\n",
    "Membership Operators\n",
    "Precedence And Associativity\n",
    "Assignment Operators In Python\n",
    "The Python Assignment Operators are used to assign the values to the declared variables. \n",
    "Equals (=) operator is the most commonly used assignment operator in Python.\n",
    "For example:\n",
    "a=10\n",
    " \n",
    "Assignment Operators In Python\n",
    "Shortcut for assigning same value to all the variables\n",
    "x=y=z=10\n",
    "Shortcut for assigning different value to all the variables\n",
    "x,y,z=10,20,30\n",
    "Guess The Output \n",
    "a,b,c=10,20 print(a,b,c)\n",
    "Output:\n",
    "ValueError : Not enough values to unpack \n",
    "a,b,c=10,20,30,40 print(a,b,c)\n",
    "Output:\n",
    "ValueError : Too many values to unpack\n",
    "Compound Assignment Operators\n",
    "Python allows us to combine arithmetic operators as well as bitwise operators with assignment operator.\n",
    "For example: The statement\n",
    "x=x+5\n",
    "Can also be written as \n",
    "x+=5 \n",
    "Operator\tExample\tMeaning\n",
    "+=\tx+=5\tx=x+5\n",
    "-=\tx-=5\tx=x-5\n",
    "*=\tx*=5\tx=x*5\n",
    "/=\tx/=5\tx=x/5\n",
    "%=\tx%=5\tx=x%5\n",
    "//=\tx//=5\tx=x//5\n",
    "**=\tx**=5\tx=x**5\n",
    "&=\tx&=5\tx=x&5\n",
    "!=\tx!=5\tx=x!5\n",
    "^=\tx^=5\tx=x^5\n",
    ">>=\tx>>=5\tx=x>>5\n",
    "<<=\tx<<=5\tx=x<<5\n",
    "Compound Assignment Operators\n",
    " \n",
    "a=10\n",
    "print(++a)\n",
    "Output: 10\n",
    "a=10 print(a++) Output:\tConclusion:\n",
    "Python does not has any increment operator like ++.\n",
    "Rather it is solved as \n",
    "+(+x) i.e +(+10) which is 10\n",
    "However the expression a++ is an error as it doesn’t make any sense \n",
    "SyntaxError : Invalid Syntax\n",
    "a=10\n",
    "print(--a)\n",
    "Output: 10\n",
    "a=10\n",
    "print(a--) Output:\tConclusion:\n",
    "Python does not has any decrement operator like --.\n",
    "Rather it is solved as \n",
    "-(-x) i.e -(-10) which is 10\n",
    "However the expression a-is an error as it doesn’t make any sense \n",
    "SyntaxError : Invalid Syntax\n",
    "a=10\n",
    "Try to figure out yourself \n",
    "print(+++++a)\tthe reason for these outputs\n",
    "Output: 10\n",
    "a=10\n",
    "print(-----a)\n",
    "Output:\n",
    "-10\n",
    " \n",
    "Identity Operators\n",
    "Identity operators in Python are is and is not They serve 2 purposes:\n",
    "To verify if two references point to the same memory location or not\n",
    "AND\n",
    "To determine whether a value is of a certain class or type\n",
    "Behavior Of is and is not\n",
    "The operator is returns True if the operands are identical , otherwise it returns False.\n",
    "The operator is not returns True if the operands are not identical , otherwise it returns False.\n",
    "Examples Of is Operator\n",
    " \n",
    "a=2 b=3 c=a is b print(c) Output: False\n",
    "Explanation:\n",
    "Since a and b are pointing to 2 different objects, so the operator is returns \n",
    "False\n",
    "a=2 b=2 c=a is b print(c) Output: True\n",
    "Explanation: Since a and b are pointing to same objects, so \n",
    "the operator is returns \n",
    "True\n",
    "Examples Of is Operator\n",
    "a=2\n",
    "b=type(a) is int print(b)\n",
    "Output: True\n",
    "Explanation:\n",
    "type(a) is int evaluates to True because 2 is indeed an integer number. a=2\n",
    "b=type(a) is float print(b) Output: False\n",
    "Explanation:\n",
    "type(a) is float evaluates to False because 2 is not a float number.\n",
    "Examples Of is not Operator\n",
    "a=“Delhi” b=“Delhi” c=a is not b print(c) Output: False\n",
    "Explanation:\n",
    "Since a and b are pointing to the  same object, so the operator is not returns \n",
    "False\n",
    "a=“Delhi” b=“delhi” c=a is not b print(c) Output: True\n",
    "Explanation:\n",
    "Since a and b are pointing to 2 differentobjects, so the operator is not returns \n",
    "True\n",
    " \n",
    "Membership Operators\n",
    "Membership operators are used to test whether a value or variable is found in a sequence \n",
    "(string, list, tuple, set and dictionary).\n",
    "There are 2 Membership operators \n",
    "in\n",
    "not in\n",
    "Behavior Of in and not in\n",
    "in: The ‘in’ operator is used to check if a value exists in a sequence or not\n",
    "not in : The ‘not in’ operator is the opposite of ‘in’ operator. So, if a value does not exists in the sequence then it will return a True else it will return a False.\n",
    "Examples Of in Operator\n",
    "a=“Welcome” b=“om”\n",
    "print(b in a)\n",
    "Output: a=“Welcome” b=“mom”\n",
    "print(b in a)\n",
    "Output: \n",
    "False\n",
    "True\n",
    "Examples Of not in Operator\n",
    " \n",
    "primes=[2,3,5,7,11] x=4\n",
    "print(x not in primes)\n",
    "Output: \n",
    "True primes=[2,3,5,7,11] x=5\n",
    "print(x not in primes)\n",
    "Output: \n",
    "False\n",
    " \n",
    "Precedence Of Operators\n",
    "There can be more than one operator in an expression.\n",
    "To evaluate these type of expressions there is a rule called precedence in all programming languages .\n",
    "It guides the order in which operation are carried out.\n",
    "Precedence And Associativity \n",
    "\n",
    "Guess The Output \n",
    "a=6/2+3**4\ta=25/(2+3)**2 print(a)\tprint(a)\n",
    "Output:\n",
    "Output:\n",
    "1.0 84.0\n",
    "a=20-12//3**2 print(a)\n",
    "Output:\n",
    "19\n",
    "Associativity Of Operators\n",
    "When two operators have the same precedence, Python follows associativity\n",
    "Associativity is the order in which an expression is evaluated and almost all the operators have left-to-right associativity.\n",
    "For example, multiplication and division have the same precedence. Hence, if both of them are present in an expression, left one is evaluates first.\n",
    "Guess The Output \n",
    "a=5*2//3 print(a)\n",
    "Output: 3\n",
    "a=5*(2//3) print(a)\n",
    "Output:\n",
    "0\n",
    "Guess The Output \n",
    "a=2**3**2 print(a)\n",
    "Output:\t 512\n",
    "a=(2**3)**2 print(a)\n",
    "Output:\n",
    "64\n"
   ]
  }
 ],
 "metadata": {
  "colab": {
   "collapsed_sections": [],
   "name": "3. Python basic variables.ipynb",
   "provenance": [],
   "toc_visible": true
  },
  "kernelspec": {
   "display_name": "Python 3",
   "language": "python",
   "name": "python3"
  },
  "language_info": {
   "codemirror_mode": {
    "name": "ipython",
    "version": 3
   },
   "file_extension": ".py",
   "mimetype": "text/x-python",
   "name": "python",
   "nbconvert_exporter": "python",
   "pygments_lexer": "ipython3",
   "version": "3.8.3"
  }
 },
 "nbformat": 4,
 "nbformat_minor": 1
}
