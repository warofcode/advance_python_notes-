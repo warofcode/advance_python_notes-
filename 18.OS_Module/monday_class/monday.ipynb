{
 "cells": [
  {
   "cell_type": "code",
   "execution_count": 1,
   "id": "d5b0e688-f62c-4cfc-87aa-d6ae428fdfbf",
   "metadata": {},
   "outputs": [],
   "source": [
    "import os"
   ]
  },
  {
   "cell_type": "code",
   "execution_count": 2,
   "id": "c4b30607-c87d-499b-89ff-22927e1538d1",
   "metadata": {},
   "outputs": [
    {
     "data": {
      "text/plain": [
       "'C:\\\\Users\\\\rkt65\\\\Desktop\\\\monday_class'"
      ]
     },
     "execution_count": 2,
     "metadata": {},
     "output_type": "execute_result"
    }
   ],
   "source": [
    "os.getcwd()"
   ]
  },
  {
   "cell_type": "code",
   "execution_count": 3,
   "id": "26bed491-6908-45ba-a1e4-8db2f24109d3",
   "metadata": {},
   "outputs": [],
   "source": [
    "os.chdir('C:\\\\Users\\\\rkt65\\\\Desktop\\\\Tuesday_class')"
   ]
  },
  {
   "cell_type": "code",
   "execution_count": 4,
   "id": "8b1dc57d-c0eb-4e3b-b4b7-baf22c3f7265",
   "metadata": {},
   "outputs": [
    {
     "data": {
      "text/plain": [
       "'C:\\\\Users\\\\rkt65\\\\Desktop\\\\Tuesday_class'"
      ]
     },
     "execution_count": 4,
     "metadata": {},
     "output_type": "execute_result"
    }
   ],
   "source": [
    "os.getcwd()"
   ]
  },
  {
   "cell_type": "code",
   "execution_count": 6,
   "id": "0346f5d0-0da3-4b74-89fa-55449944ba32",
   "metadata": {},
   "outputs": [],
   "source": [
    "with open(\"rohit.txt\",\"x\") as file:\n",
    "    file.write(\"hi python\")"
   ]
  },
  {
   "cell_type": "code",
   "execution_count": 7,
   "id": "92df06c2-e1dc-47b9-9bee-1c50c43c4b2b",
   "metadata": {},
   "outputs": [],
   "source": [
    "os.chdir('C:\\\\Users\\\\rkt65\\\\Desktop\\\\monday_class')"
   ]
  },
  {
   "cell_type": "code",
   "execution_count": 8,
   "id": "3be9c17e-f1e7-45af-9e1b-80c51e372247",
   "metadata": {},
   "outputs": [
    {
     "data": {
      "text/plain": [
       "'C:\\\\Users\\\\rkt65\\\\Desktop\\\\monday_class'"
      ]
     },
     "execution_count": 8,
     "metadata": {},
     "output_type": "execute_result"
    }
   ],
   "source": [
    "os.getcwd()"
   ]
  },
  {
   "cell_type": "code",
   "execution_count": 9,
   "id": "0e91f8b0-f0fb-4781-ae75-587f47ed8970",
   "metadata": {},
   "outputs": [],
   "source": [
    "with open(\"rohit.txt\",\"x\") as file:\n",
    "    file.write(\"hi python\")"
   ]
  },
  {
   "cell_type": "code",
   "execution_count": 10,
   "id": "c635ad2c-bdcd-463a-b680-22ca30e4093d",
   "metadata": {},
   "outputs": [
    {
     "data": {
      "text/plain": [
       "['.ipynb_checkpoints', 'monday.ipynb', 'rohit.txt']"
      ]
     },
     "execution_count": 10,
     "metadata": {},
     "output_type": "execute_result"
    }
   ],
   "source": [
    "import os\n",
    "os.listdir()"
   ]
  },
  {
   "cell_type": "code",
   "execution_count": 11,
   "id": "fe2f5bfb-c80e-4591-82e0-791b24e5642f",
   "metadata": {},
   "outputs": [
    {
     "data": {
      "text/plain": [
       "'C:\\\\Users\\\\rkt65\\\\Desktop\\\\monday_class'"
      ]
     },
     "execution_count": 11,
     "metadata": {},
     "output_type": "execute_result"
    }
   ],
   "source": [
    "os.getcwd()"
   ]
  },
  {
   "cell_type": "code",
   "execution_count": 12,
   "id": "b593a7e0-a084-4b90-838c-e2e6ab8e0e8d",
   "metadata": {},
   "outputs": [],
   "source": [
    "os.mkdir('C:\\\\Users\\\\rkt65\\\\Desktop\\\\monday_class\\\\new_folder1')"
   ]
  },
  {
   "cell_type": "code",
   "execution_count": 13,
   "id": "774d7428-f741-4739-b4bc-1aca8490e069",
   "metadata": {},
   "outputs": [],
   "source": [
    "os.mkdir('C:\\\\Users\\\\rkt65\\\\Desktop\\\\monday_class\\\\new_folder1\\\\new_folder2')"
   ]
  },
  {
   "cell_type": "code",
   "execution_count": 15,
   "id": "92007997-0ee1-4c2b-8f0e-4b51975360b7",
   "metadata": {},
   "outputs": [],
   "source": [
    "os.mkdir('C:\\\\Users\\\\rkt65\\\\Desktop\\\\monday_class\\\\new_folder1\\\\new_folder2\\\\rohit')"
   ]
  },
  {
   "cell_type": "code",
   "execution_count": 18,
   "id": "588f921f-1777-4182-ae39-5a50eff0b535",
   "metadata": {},
   "outputs": [],
   "source": [
    "os.makedirs('C:\\\\Users\\\\rkt65\\\\Desktop\\\\monday_class\\\\this\\\\that\\\\hi\\\\new\\\\wow\\\\my\\\\roht')"
   ]
  },
  {
   "cell_type": "code",
   "execution_count": null,
   "id": "2f2fcea0-259f-44a1-a1ac-802ef89a9ec1",
   "metadata": {},
   "outputs": [],
   "source": []
  }
 ],
 "metadata": {
  "kernelspec": {
   "display_name": "Python 3 (ipykernel)",
   "language": "python",
   "name": "python3"
  },
  "language_info": {
   "codemirror_mode": {
    "name": "ipython",
    "version": 3
   },
   "file_extension": ".py",
   "mimetype": "text/x-python",
   "name": "python",
   "nbconvert_exporter": "python",
   "pygments_lexer": "ipython3",
   "version": "3.11.7"
  }
 },
 "nbformat": 4,
 "nbformat_minor": 5
}
