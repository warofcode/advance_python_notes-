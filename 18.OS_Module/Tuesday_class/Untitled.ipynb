{
 "cells": [
  {
   "cell_type": "code",
   "execution_count": 39,
   "id": "5c8a5c8c-5e8e-4335-8868-19251b4e1b83",
   "metadata": {},
   "outputs": [],
   "source": [
    "computer_input = 3234\n"
   ]
  },
  {
   "cell_type": "code",
   "execution_count": 45,
   "id": "d7447d54-33df-4dfb-b56a-74ec19134f28",
   "metadata": {},
   "outputs": [
    {
     "data": {
      "text/plain": [
       "True"
      ]
     },
     "execution_count": 45,
     "metadata": {},
     "output_type": "execute_result"
    }
   ],
   "source": [
    "import webbrowser\n",
    "webbrowser.open_new_tab(\"youtube.com\")"
   ]
  },
  {
   "cell_type": "code",
   "execution_count": null,
   "id": "b6d7bfb4-4372-4549-a705-d67502d78331",
   "metadata": {},
   "outputs": [],
   "source": []
  }
 ],
 "metadata": {
  "kernelspec": {
   "display_name": "Python 3 (ipykernel)",
   "language": "python",
   "name": "python3"
  },
  "language_info": {
   "codemirror_mode": {
    "name": "ipython",
    "version": 3
   },
   "file_extension": ".py",
   "mimetype": "text/x-python",
   "name": "python",
   "nbconvert_exporter": "python",
   "pygments_lexer": "ipython3",
   "version": "3.11.7"
  }
 },
 "nbformat": 4,
 "nbformat_minor": 5
}
