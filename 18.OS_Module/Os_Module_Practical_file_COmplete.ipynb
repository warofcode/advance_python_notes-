{
 "cells": [
  {
   "cell_type": "code",
   "execution_count": 1,
   "id": "642f02d4-4db2-4b44-ad23-820f6d82a2f6",
   "metadata": {},
   "outputs": [],
   "source": [
    "import os"
   ]
  },
  {
   "cell_type": "code",
   "execution_count": 2,
   "id": "03cf8b6f-4448-420c-b3b7-af1b724446fd",
   "metadata": {},
   "outputs": [
    {
     "data": {
      "text/plain": [
       "'C:\\\\Users\\\\rkt65'"
      ]
     },
     "execution_count": 2,
     "metadata": {},
     "output_type": "execute_result"
    }
   ],
   "source": [
    "os.getcwd()"
   ]
  },
  {
   "cell_type": "code",
   "execution_count": 3,
   "id": "deecd7fd-67bf-41a5-8b32-ac0cfe8ad807",
   "metadata": {},
   "outputs": [
    {
     "data": {
      "text/plain": [
       "'C:\\\\Users\\\\rkt65'"
      ]
     },
     "execution_count": 3,
     "metadata": {},
     "output_type": "execute_result"
    }
   ],
   "source": [
    "pwd"
   ]
  },
  {
   "cell_type": "code",
   "execution_count": 4,
   "id": "ca5b77fe-29ba-4f40-8810-89acdd4f550b",
   "metadata": {},
   "outputs": [],
   "source": [
    "os.chdir(\"D:\\\\1230class\")"
   ]
  },
  {
   "cell_type": "code",
   "execution_count": 6,
   "id": "e9d60a0e-433b-428e-8de2-67639c151dc5",
   "metadata": {},
   "outputs": [
    {
     "data": {
      "text/plain": [
       "'D:\\\\1230class'"
      ]
     },
     "execution_count": 6,
     "metadata": {},
     "output_type": "execute_result"
    }
   ],
   "source": [
    "os.getcwd()"
   ]
  },
  {
   "cell_type": "code",
   "execution_count": 8,
   "id": "a66424ec-bd8a-4a0d-96db-90033148af27",
   "metadata": {},
   "outputs": [
    {
     "data": {
      "text/plain": [
       "['rohit_file.txt']"
      ]
     },
     "execution_count": 8,
     "metadata": {},
     "output_type": "execute_result"
    }
   ],
   "source": [
    "os.listdir()"
   ]
  },
  {
   "cell_type": "code",
   "execution_count": 10,
   "id": "1275c4bd-07cc-4cb1-abc8-b64b30d1cc17",
   "metadata": {},
   "outputs": [
    {
     "data": {
      "text/plain": [
       "list"
      ]
     },
     "execution_count": 10,
     "metadata": {},
     "output_type": "execute_result"
    }
   ],
   "source": [
    "type(os.listdir())"
   ]
  },
  {
   "cell_type": "code",
   "execution_count": 11,
   "id": "ed448414-c276-44a7-a15b-2609737531a4",
   "metadata": {},
   "outputs": [
    {
     "name": "stdout",
     "output_type": "stream",
     "text": [
      "file exists in this folder already\n"
     ]
    }
   ],
   "source": [
    "if \"rohit_file.txt\" in os.listdir():\n",
    "    print(\"file exists in this folder already\")"
   ]
  },
  {
   "cell_type": "code",
   "execution_count": 13,
   "id": "323610de-d4d3-4e01-8e39-f3ed4186cc1e",
   "metadata": {},
   "outputs": [
    {
     "data": {
      "text/plain": [
       "['rohit_file.txt']"
      ]
     },
     "execution_count": 13,
     "metadata": {},
     "output_type": "execute_result"
    }
   ],
   "source": [
    "os.listdir()"
   ]
  },
  {
   "cell_type": "code",
   "execution_count": 24,
   "id": "f1e35f4b-9f79-4627-8cbe-ce03f505db18",
   "metadata": {},
   "outputs": [],
   "source": [
    "i=1\n",
    "while i <100:\n",
    "    if \"rohit_file2.txt\" in os.listdir():\n",
    "        with open(\"rohit_file2.txt\",mode=\"a\") as file:\n",
    "            file.write(\"\\nthis is second line\")\n",
    "    \n",
    "    else:\n",
    "        with open(\"rohit_file2.txt\",mode=\"X\") as file:\n",
    "            file.write(f\"{1})\n",
    "\n",
    "    i= i+1\n",
    "    "
   ]
  },
  {
   "cell_type": "code",
   "execution_count": 29,
   "id": "f0227672-d381-48e4-b63c-796a267aac2e",
   "metadata": {},
   "outputs": [
    {
     "name": "stdout",
     "output_type": "stream",
     "text": [
      "hello\n"
     ]
    }
   ],
   "source": [
    "print(\"hello\")"
   ]
  },
  {
   "cell_type": "code",
   "execution_count": 33,
   "id": "328dc06f-5926-4aef-80a5-6a360435f99d",
   "metadata": {},
   "outputs": [
    {
     "data": {
      "text/plain": [
       "list"
      ]
     },
     "execution_count": 33,
     "metadata": {},
     "output_type": "execute_result"
    }
   ],
   "source": [
    "with open(\"rohit_file2.txt\") as file:\n",
    "    content = file.readlines()\n",
    "\n",
    "type((content))"
   ]
  },
  {
   "cell_type": "code",
   "execution_count": 34,
   "id": "14488802-1075-43f0-99de-a8fd07fb128e",
   "metadata": {},
   "outputs": [
    {
     "data": {
      "text/plain": [
       "{'this is first line\\n', 'this is second line', 'this is second line\\n'}"
      ]
     },
     "execution_count": 34,
     "metadata": {},
     "output_type": "execute_result"
    }
   ],
   "source": [
    "set(content)"
   ]
  },
  {
   "cell_type": "code",
   "execution_count": 35,
   "id": "f58a94b4-c3b2-471e-87da-6b31030fb30a",
   "metadata": {},
   "outputs": [
    {
     "data": {
      "text/plain": [
       "'D:\\\\1230class'"
      ]
     },
     "execution_count": 35,
     "metadata": {},
     "output_type": "execute_result"
    }
   ],
   "source": [
    "pwd"
   ]
  },
  {
   "cell_type": "code",
   "execution_count": 37,
   "id": "622fcd24-6ecf-41ed-b4e8-1cd13db620c9",
   "metadata": {},
   "outputs": [],
   "source": [
    "os.mkdir(\"my_new_folder\")"
   ]
  },
  {
   "cell_type": "code",
   "execution_count": null,
   "id": "d1a6be79",
   "metadata": {},
   "outputs": [],
   "source": [
    "os.makedirs(\"1\\\\2\\\\3\\\\6\") # will create folders inside the same directory you are"
   ]
  },
  {
   "cell_type": "code",
   "execution_count": 39,
   "id": "61cd1f1b-d6f7-490e-b883-a37c1178b2cb",
   "metadata": {},
   "outputs": [
    {
     "data": {
      "text/plain": [
       "['my_new_folder', 'rohit_file.txt', 'rohit_file2.txt']"
      ]
     },
     "execution_count": 39,
     "metadata": {},
     "output_type": "execute_result"
    }
   ],
   "source": [
    "os.listdir()"
   ]
  },
  {
   "cell_type": "code",
   "execution_count": 40,
   "id": "ca491d63-cee4-4c06-91e8-12920afc49c7",
   "metadata": {},
   "outputs": [],
   "source": [
    "os.makedirs('D:\\\\1230class\\\\new1\\\\new2\\\\new3\\\\new4')"
   ]
  },
  {
   "cell_type": "code",
   "execution_count": 42,
   "id": "d4394e68-3e74-4f48-92cd-ec3c3b0b3ba0",
   "metadata": {},
   "outputs": [
    {
     "data": {
      "text/plain": [
       "['my_new_folder', 'new1', 'rohit_file.txt', 'rohit_file2.txt']"
      ]
     },
     "execution_count": 42,
     "metadata": {},
     "output_type": "execute_result"
    }
   ],
   "source": [
    "os.listdir()"
   ]
  },
  {
   "cell_type": "code",
   "execution_count": 43,
   "id": "31c3931b-3be9-45ea-aa54-d9ad262eb6a2",
   "metadata": {},
   "outputs": [],
   "source": [
    "os.rmdir('D:\\\\1230class\\\\new1\\\\new2\\\\new3\\\\new4')  # delte single folder in last "
   ]
  },
  {
   "cell_type": "code",
   "execution_count": 44,
   "id": "a35e198a-b389-40f9-93e3-9e9d836ac55b",
   "metadata": {},
   "outputs": [
    {
     "ename": "OSError",
     "evalue": "[WinError 145] The directory is not empty: 'D:\\\\1230class\\\\new1'",
     "output_type": "error",
     "traceback": [
      "\u001b[1;31m---------------------------------------------------------------------------\u001b[0m",
      "\u001b[1;31mOSError\u001b[0m                                   Traceback (most recent call last)",
      "Cell \u001b[1;32mIn[44], line 1\u001b[0m\n\u001b[1;32m----> 1\u001b[0m os\u001b[38;5;241m.\u001b[39mrmdir(\u001b[38;5;124m'\u001b[39m\u001b[38;5;124mD:\u001b[39m\u001b[38;5;130;01m\\\\\u001b[39;00m\u001b[38;5;124m1230class\u001b[39m\u001b[38;5;130;01m\\\\\u001b[39;00m\u001b[38;5;124mnew1\u001b[39m\u001b[38;5;124m'\u001b[39m)\n",
      "\u001b[1;31mOSError\u001b[0m: [WinError 145] The directory is not empty: 'D:\\\\1230class\\\\new1'"
     ]
    }
   ],
   "source": [
    "os.rmdir('D:\\\\1230class\\\\new1')  # will not delete new1 becuase you have folders inside new1"
   ]
  },
  {
   "cell_type": "code",
   "execution_count": 46,
   "id": "e89a6553-b808-4608-8a7c-d739d586707d",
   "metadata": {},
   "outputs": [],
   "source": [
    "os.removedirs('D:\\\\1230class\\\\new1\\\\new2\\\\new3') # it will not delete 1230class becuase pwd is 'D:\\\\1230class'"
   ]
  },
  {
   "cell_type": "code",
   "execution_count": 47,
   "id": "228c4a55-2904-4a57-a9e5-c35c8af50d73",
   "metadata": {},
   "outputs": [
    {
     "data": {
      "text/plain": [
       "'D:\\\\1230class'"
      ]
     },
     "execution_count": 47,
     "metadata": {},
     "output_type": "execute_result"
    }
   ],
   "source": [
    "pwd"
   ]
  },
  {
   "cell_type": "code",
   "execution_count": 48,
   "id": "ba3546f5-bcbc-4629-b1c8-c35342f70bc5",
   "metadata": {},
   "outputs": [
    {
     "data": {
      "text/plain": [
       "['my_new_folder', 'rohit_file.txt', 'rohit_file2.txt']"
      ]
     },
     "execution_count": 48,
     "metadata": {},
     "output_type": "execute_result"
    }
   ],
   "source": [
    "os.listdir()"
   ]
  },
  {
   "cell_type": "code",
   "execution_count": 49,
   "id": "6b91fee3-d054-4334-a021-e81e09a521fc",
   "metadata": {},
   "outputs": [
    {
     "ename": "NotADirectoryError",
     "evalue": "[WinError 267] The directory name is invalid: 'rohit_file.txt'",
     "output_type": "error",
     "traceback": [
      "\u001b[1;31m---------------------------------------------------------------------------\u001b[0m",
      "\u001b[1;31mNotADirectoryError\u001b[0m                        Traceback (most recent call last)",
      "Cell \u001b[1;32mIn[49], line 1\u001b[0m\n\u001b[1;32m----> 1\u001b[0m os\u001b[38;5;241m.\u001b[39mrmdir(\u001b[38;5;124m'\u001b[39m\u001b[38;5;124mrohit_file.txt\u001b[39m\u001b[38;5;124m'\u001b[39m)\n",
      "\u001b[1;31mNotADirectoryError\u001b[0m: [WinError 267] The directory name is invalid: 'rohit_file.txt'"
     ]
    }
   ],
   "source": [
    "os.rmdir('rohit_file.txt') # you are trying to delete a text file instead of folder "
   ]
  },
  {
   "cell_type": "code",
   "execution_count": 50,
   "id": "326fbba4-d01d-4176-a7cb-82ed2f407ecc",
   "metadata": {},
   "outputs": [],
   "source": [
    "os.remove('rohit_file.txt')"
   ]
  },
  {
   "cell_type": "code",
   "execution_count": 52,
   "id": "ce39d2e6-2cb9-4f31-a845-95fb0f1349ee",
   "metadata": {},
   "outputs": [
    {
     "data": {
      "text/plain": [
       "['my_new_folder', 'rohit_file2.txt']"
      ]
     },
     "execution_count": 52,
     "metadata": {},
     "output_type": "execute_result"
    }
   ],
   "source": [
    "os.listdir()"
   ]
  },
  {
   "cell_type": "code",
   "execution_count": 54,
   "id": "1aa03f4d-7301-4127-a5a3-ddecf2906827",
   "metadata": {},
   "outputs": [
    {
     "data": {
      "text/plain": [
       "'D:\\\\1230class'"
      ]
     },
     "execution_count": 54,
     "metadata": {},
     "output_type": "execute_result"
    }
   ],
   "source": [
    "pwd"
   ]
  },
  {
   "cell_type": "code",
   "execution_count": 4,
   "id": "5bbda8bd-9097-446d-9424-dd1c36e6bb5c",
   "metadata": {},
   "outputs": [
    {
     "name": "stdout",
     "output_type": "stream",
     "text": [
      "C:Users\\rkt65\\Desktop\\file.txt\n"
     ]
    }
   ],
   "source": [
    "import os\n",
    "path = \"C:\"\n",
    " \n",
    "# Join various path components\n",
    "# print(os.path.join(path, \"Users\\\\rkt65\\\\Desktop\", \"file.txt\"))\n",
    "complete_path =   os.path.join(path, \"Users\\\\rkt65\\\\Desktop\", \"file.txt\")\n",
    "print(complete_path)\n"
   ]
  },
  {
   "cell_type": "code",
   "execution_count": 73,
   "id": "7943f81b-c5c2-48bf-ad88-0561fa0794ae",
   "metadata": {},
   "outputs": [
    {
     "data": {
      "text/plain": [
       "'D:\\\\1230class'"
      ]
     },
     "execution_count": 73,
     "metadata": {},
     "output_type": "execute_result"
    }
   ],
   "source": [
    "pwd"
   ]
  },
  {
   "cell_type": "code",
   "execution_count": 72,
   "id": "f8aa12c8-af97-43c4-91b7-1e6bcfa60911",
   "metadata": {},
   "outputs": [
    {
     "data": {
      "text/plain": [
       "['my_new_folder', 'rohit_file2.txt']"
      ]
     },
     "execution_count": 72,
     "metadata": {},
     "output_type": "execute_result"
    }
   ],
   "source": [
    "os.listdir()"
   ]
  },
  {
   "cell_type": "code",
   "execution_count": 74,
   "id": "3ae5fd56-60c9-4d0b-99cc-cd9170e61ef3",
   "metadata": {},
   "outputs": [
    {
     "data": {
      "text/plain": [
       "True"
      ]
     },
     "execution_count": 74,
     "metadata": {},
     "output_type": "execute_result"
    }
   ],
   "source": [
    "os.path.exists('D:\\\\1230class\\\\')"
   ]
  },
  {
   "cell_type": "code",
   "execution_count": 75,
   "id": "5c5583f1-cb1e-4bbd-a521-f7cfc2ccdbf0",
   "metadata": {},
   "outputs": [
    {
     "data": {
      "text/plain": [
       "True"
      ]
     },
     "execution_count": 75,
     "metadata": {},
     "output_type": "execute_result"
    }
   ],
   "source": [
    "os.path.exists('D:\\\\1230class\\\\my_new_folder')"
   ]
  },
  {
   "cell_type": "code",
   "execution_count": 76,
   "id": "232b4a2d-f49a-4cdc-916e-22c92e7ce220",
   "metadata": {},
   "outputs": [
    {
     "data": {
      "text/plain": [
       "True"
      ]
     },
     "execution_count": 76,
     "metadata": {},
     "output_type": "execute_result"
    }
   ],
   "source": [
    "os.path.exists('D:\\\\1230class\\\\rohit_file2.txt')"
   ]
  },
  {
   "cell_type": "code",
   "execution_count": 77,
   "id": "7d910519-ea7d-49dd-b8b0-af6b986fe123",
   "metadata": {},
   "outputs": [
    {
     "data": {
      "text/plain": [
       "False"
      ]
     },
     "execution_count": 77,
     "metadata": {},
     "output_type": "execute_result"
    }
   ],
   "source": [
    "os.path.exists('D:\\\\1230class\\\\rohit1111111')"
   ]
  },
  {
   "cell_type": "code",
   "execution_count": 80,
   "id": "e21e9728-245c-4958-8ab2-dd0280317b43",
   "metadata": {},
   "outputs": [
    {
     "data": {
      "text/plain": [
       "True"
      ]
     },
     "execution_count": 80,
     "metadata": {},
     "output_type": "execute_result"
    }
   ],
   "source": [
    "os.path.isdir('D:\\\\1230class')"
   ]
  },
  {
   "cell_type": "code",
   "execution_count": 81,
   "id": "aae222e2-09d4-475f-a089-4944fe16a670",
   "metadata": {},
   "outputs": [
    {
     "data": {
      "text/plain": [
       "True"
      ]
     },
     "execution_count": 81,
     "metadata": {},
     "output_type": "execute_result"
    }
   ],
   "source": [
    "os.path.isdir('D:\\\\1230class\\\\my_new_folder')"
   ]
  },
  {
   "cell_type": "code",
   "execution_count": 84,
   "id": "b91179d4-f63e-4288-a5ff-b87094695de3",
   "metadata": {},
   "outputs": [
    {
     "data": {
      "text/plain": [
       "False"
      ]
     },
     "execution_count": 84,
     "metadata": {},
     "output_type": "execute_result"
    }
   ],
   "source": [
    "os.path.isdir('D:\\\\1230class\\\\my_file2.txt')"
   ]
  },
  {
   "cell_type": "code",
   "execution_count": 88,
   "id": "65610fa3-ad62-47b8-b157-b8ba2932e231",
   "metadata": {},
   "outputs": [
    {
     "data": {
      "text/plain": [
       "['my_new_folder', 'rohit_file2.txt']"
      ]
     },
     "execution_count": 88,
     "metadata": {},
     "output_type": "execute_result"
    }
   ],
   "source": [
    "os.listdir()"
   ]
  },
  {
   "cell_type": "code",
   "execution_count": 89,
   "id": "fa3dff9f-634d-470e-b03f-c17e44da3440",
   "metadata": {},
   "outputs": [
    {
     "data": {
      "text/plain": [
       "True"
      ]
     },
     "execution_count": 89,
     "metadata": {},
     "output_type": "execute_result"
    }
   ],
   "source": [
    "os.path.isfile('D:\\\\1230class\\\\rohit_file2.txt')"
   ]
  },
  {
   "cell_type": "code",
   "execution_count": 90,
   "id": "cdc70ea4-a11d-4319-8016-c25e321160f2",
   "metadata": {},
   "outputs": [
    {
     "data": {
      "text/plain": [
       "'nt'"
      ]
     },
     "execution_count": 90,
     "metadata": {},
     "output_type": "execute_result"
    }
   ],
   "source": [
    "os.name"
   ]
  },
  {
   "cell_type": "code",
   "execution_count": 91,
   "id": "d0361fb6-d38f-489d-8a1f-8276fca04a9b",
   "metadata": {},
   "outputs": [
    {
     "data": {
      "text/plain": [
       "'Windows-10-10.0.19045-SP0'"
      ]
     },
     "execution_count": 91,
     "metadata": {},
     "output_type": "execute_result"
    }
   ],
   "source": [
    "import platform\n",
    "\n",
    "platform.platform() # check plateform "
   ]
  },
  {
   "cell_type": "code",
   "execution_count": 92,
   "id": "b6c68cfd-5fa4-4805-ae2d-549e7bbb2714",
   "metadata": {},
   "outputs": [
    {
     "data": {
      "text/plain": [
       "'rkt65'"
      ]
     },
     "execution_count": 92,
     "metadata": {},
     "output_type": "execute_result"
    }
   ],
   "source": [
    "os.getlogin()"
   ]
  },
  {
   "cell_type": "code",
   "execution_count": null,
   "id": "fdd2f508-74e6-4232-a9c5-a3917cd87540",
   "metadata": {},
   "outputs": [],
   "source": []
  }
 ],
 "metadata": {
  "kernelspec": {
   "display_name": "Python 3 (ipykernel)",
   "language": "python",
   "name": "python3"
  },
  "language_info": {
   "codemirror_mode": {
    "name": "ipython",
    "version": 3
   },
   "file_extension": ".py",
   "mimetype": "text/x-python",
   "name": "python",
   "nbconvert_exporter": "python",
   "pygments_lexer": "ipython3",
   "version": "3.11.7"
  }
 },
 "nbformat": 4,
 "nbformat_minor": 5
}
