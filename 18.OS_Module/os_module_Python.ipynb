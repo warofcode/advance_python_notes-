{
 "cells": [
  {
   "cell_type": "markdown",
   "id": "49615bde-f7f3-46b0-b8f4-0e1cd5483ccc",
   "metadata": {},
   "source": [
    "                                                          PYTHON OS MODULE"
   ]
  },
  {
   "cell_type": "markdown",
   "id": "ee9137b4-56d1-4c10-b2d9-38854332e00e",
   "metadata": {},
   "source": [
    "The os module in Python provides a way of using operating system-dependent functionality. It allows you to interact with the underlying operating system in a platform-independent manner. Here's a comprehensive guide to the os module:\n"
   ]
  },
  {
   "cell_type": "raw",
   "id": "45355e13-7dba-4c4c-b0e0-931552957f30",
   "metadata": {},
   "source": [
    "\n",
    "1. File and Directory Operations:\n",
    "os.getcwd(): Get the current working directory.\n",
    "\n",
    "os.chdir(path): Change the current working directory to the specified path.\n",
    "\n",
    "os.listdir(path='.'): Return a list containing the names of the entries in the directory given by path.\n",
    "\n",
    "os.mkdir(path): Create a directory named path.\n",
    "\n",
    "os.makedirs(path): Recursive directory creation function.\n",
    "    \n",
    "os.rmdir(path): Remove (delete) the directory path.\n",
    "    \n",
    "os.remove(path): Remove (delete) the file path.\n",
    "    \n",
    "2. Path Manipulation:\n",
    "    \n",
    "os.path.join(path1, path2, ...): Join one or more path components intelligently.\n",
    "    \n",
    "os.path.exists(path): Return True if path refers to an existing path or an open file descriptor.\n",
    "    \n",
    "os.path.isdir(path): Return True if path is an existing directory.\n",
    "    \n",
    "os.path.isfile(path): Return True if path is an existing regular file.\n",
    "    \n",
    "3. Environmental Variables:\n",
    "    \n",
    "os.environ: A mapping object representing the environment variables.\n",
    "    \n",
    "4. Process Management:\n",
    "    \n",
    "os.system(command): Execute the command in a subshell.\n",
    "    \n",
    "os.popen(command[, mode[, bufsize]]): Open a pipe to or from the command.\n",
    "\n",
    "5. Miscellaneous:\n",
    "\n",
    "os.name: The name of the operating system dependent module imported.\n",
    "    \n",
    "os.pathsep: The character used by the operating system to separate components in PATH.\n",
    "    \n",
    "os.sep: The separator used by the operating system to separate pathname components.\n",
    "    \n",
    "os.getlogin(): Return the name of the user logged in on the controlling terminal of the process."
   ]
  },
  {
   "cell_type": "code",
   "execution_count": 1,
   "id": "0219398e-5c16-416f-a845-bdc4279cdb4c",
   "metadata": {},
   "outputs": [
    {
     "data": {
      "text/plain": [
       "'rkt65'"
      ]
     },
     "execution_count": 1,
     "metadata": {},
     "output_type": "execute_result"
    }
   ],
   "source": [
    "import os\n",
    "os.getlogin()"
   ]
  },
  {
   "cell_type": "code",
   "execution_count": 1,
   "id": "a588fce0-4bd0-48cc-b7e8-6298911c6496",
   "metadata": {},
   "outputs": [
    {
     "name": "stdout",
     "output_type": "stream",
     "text": [
      "Current working directory: C:\\Users\\rkt65\\Desktop\\1Python_RexGalaxy_Clasess\\18.OS_Module\n",
      "Files and directories in current directory: ['.ipynb_checkpoints', 'os_module_Python.ipynb']\n",
      "Directory 'test_directory' exists.\n"
     ]
    },
    {
     "ename": "FileNotFoundError",
     "evalue": "[WinError 3] The system cannot find the path specified: '/path/to/new/directory'",
     "output_type": "error",
     "traceback": [
      "\u001b[1;31m---------------------------------------------------------------------------\u001b[0m",
      "\u001b[1;31mFileNotFoundError\u001b[0m                         Traceback (most recent call last)",
      "Cell \u001b[1;32mIn[1], line 20\u001b[0m\n\u001b[0;32m     17\u001b[0m os\u001b[38;5;241m.\u001b[39mrmdir(\u001b[38;5;124m\"\u001b[39m\u001b[38;5;124mtest_directory\u001b[39m\u001b[38;5;124m\"\u001b[39m)\n\u001b[0;32m     19\u001b[0m \u001b[38;5;66;03m# Change directory\u001b[39;00m\n\u001b[1;32m---> 20\u001b[0m os\u001b[38;5;241m.\u001b[39mchdir(\u001b[38;5;124m\"\u001b[39m\u001b[38;5;124m/path/to/new/directory\u001b[39m\u001b[38;5;124m\"\u001b[39m)\n\u001b[0;32m     22\u001b[0m \u001b[38;5;66;03m# Execute a system command\u001b[39;00m\n\u001b[0;32m     23\u001b[0m os\u001b[38;5;241m.\u001b[39msystem(\u001b[38;5;124m\"\u001b[39m\u001b[38;5;124mls -l\u001b[39m\u001b[38;5;124m\"\u001b[39m)\n",
      "\u001b[1;31mFileNotFoundError\u001b[0m: [WinError 3] The system cannot find the path specified: '/path/to/new/directory'"
     ]
    }
   ],
   "source": [
    "import os\n",
    "\n",
    "# Get current working directory\n",
    "print(\"Current working directory:\", os.getcwd())\n",
    "\n",
    "# List files and directories in the current directory\n",
    "print(\"Files and directories in current directory:\", os.listdir())\n",
    "\n",
    "# Create a directory\n",
    "os.mkdir(\"test_directory\")\n",
    "\n",
    "# Check if a directory exists\n",
    "if os.path.exists(\"test_directory\"):\n",
    "    print(\"Directory 'test_directory' exists.\")\n",
    "\n",
    "# Remove the directory\n",
    "os.rmdir(\"test_directory\")\n",
    "\n",
    "# Change directory\n",
    "os.chdir(\"/path/to/new/directory\") # you need to provide path to change to new directory\n",
    "\n",
    "# Execute a system command\n",
    "os.system(\"ls -l\")\n",
    "\n",
    "# Get the value of an environment variable\n",
    "print(\"Value of HOME environment variable:\", os.environ.get(\"HOME\"))\n"
   ]
  },
  {
   "cell_type": "markdown",
   "id": "4862816d-1eaf-4cf7-b12d-6ad66080d74c",
   "metadata": {},
   "source": [
    "Note:\n",
    "Remember to handle exceptions appropriately, especially when dealing with file and directory operations.\n",
    "The functionality provided by the os module may vary slightly depending on the operating system being used."
   ]
  },
  {
   "cell_type": "code",
   "execution_count": 4,
   "id": "b41f5f7c-267c-4799-93fd-2857b9a003d5",
   "metadata": {},
   "outputs": [],
   "source": [
    "import os\n",
    "os.makedirs(r\"C:\\Users\\rkt65\\Desktop\\today2\\1\\2\\3\\4\\5\\6\\7\\8\")"
   ]
  },
  {
   "cell_type": "code",
   "execution_count": 6,
   "id": "a21f56a0-1089-42fb-8e4b-43286bc600e6",
   "metadata": {},
   "outputs": [],
   "source": [
    "with open(r\"C:\\Users\\rkt65\\Desktop\\today2\\1\\2\\3\\4\\5\\6\\7\\8\\rohit.txt\",\"w\") as file:\n",
    "    file.write(\"i m new created file\")"
   ]
  },
  {
   "cell_type": "code",
   "execution_count": 7,
   "id": "898aa236-f581-4ae5-a6a2-05731d26cc39",
   "metadata": {},
   "outputs": [
    {
     "data": {
      "text/plain": [
       "'C:\\\\Users\\\\rkt65\\\\Desktop\\\\1Python_RexGalaxy_Clasess\\\\18.OS_Module'"
      ]
     },
     "execution_count": 7,
     "metadata": {},
     "output_type": "execute_result"
    }
   ],
   "source": [
    "pwd"
   ]
  },
  {
   "cell_type": "code",
   "execution_count": null,
   "id": "795fcbbc-fcda-4ae6-ae0a-d8f2cc3e83cf",
   "metadata": {},
   "outputs": [],
   "source": []
  }
 ],
 "metadata": {
  "kernelspec": {
   "display_name": "Python 3 (ipykernel)",
   "language": "python",
   "name": "python3"
  },
  "language_info": {
   "codemirror_mode": {
    "name": "ipython",
    "version": 3
   },
   "file_extension": ".py",
   "mimetype": "text/x-python",
   "name": "python",
   "nbconvert_exporter": "python",
   "pygments_lexer": "ipython3",
   "version": "3.11.7"
  }
 },
 "nbformat": 4,
 "nbformat_minor": 5
}
