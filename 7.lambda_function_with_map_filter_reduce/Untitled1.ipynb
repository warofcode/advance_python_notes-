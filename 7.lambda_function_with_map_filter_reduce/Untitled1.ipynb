{
 "cells": [
  {
   "cell_type": "code",
   "execution_count": 34,
   "id": "7666f1d6-b9e7-4fac-ab4a-d23b68882cac",
   "metadata": {},
   "outputs": [
    {
     "name": "stdout",
     "output_type": "stream",
     "text": [
      "1 *2\n"
     ]
    }
   ],
   "source": [
    "print(1,2,sep=\" *\",end=\"\\n\")"
   ]
  },
  {
   "cell_type": "code",
   "execution_count": 59,
   "id": "f7c0c0a6-addc-4654-a3c7-e311093b233c",
   "metadata": {},
   "outputs": [],
   "source": [
    "def print1(first_name,last_name,*args,city = \"Noida\",**kwargs):\n",
    "    print(\"Your first_name is :\",first_name)\n",
    "    print(\"Your last_name is : \",last_name)\n",
    "    for i in args:\n",
    "        print(i)\n",
    "\n",
    "    for key,value in kwargs.items():\n",
    "        print(key,value)\n",
    "\n",
    "    print(\"total of your all nubmers is: \",sum(args))\n",
    "    \n",
    "    \n",
    "    \n",
    "    return None"
   ]
  },
  {
   "cell_type": "code",
   "execution_count": 60,
   "id": "1ce43e19-60a7-489d-9541-28cfe889f1dc",
   "metadata": {},
   "outputs": [
    {
     "name": "stdout",
     "output_type": "stream",
     "text": [
      "Your first_name is : ROhit\n",
      "Your last_name is :  Tyagi\n",
      "1\n",
      "2\n",
      "4\n",
      "4\n",
      "5\n",
      "8\n",
      "910\n",
      "name Sachin\n",
      "total of your all nubmers is:  934\n"
     ]
    }
   ],
   "source": [
    "print1(\"ROhit\",\"Tyagi\",1,2,4,4,5,8,910,city = \"Delhi\", name = \"Sachin\")"
   ]
  },
  {
   "cell_type": "code",
   "execution_count": 63,
   "id": "f4845eb1-37da-4d4d-801a-0b21d475b63d",
   "metadata": {},
   "outputs": [
    {
     "ename": "TypeError",
     "evalue": "'city' is an invalid keyword argument for print()",
     "output_type": "error",
     "traceback": [
      "\u001b[1;31m---------------------------------------------------------------------------\u001b[0m",
      "\u001b[1;31mTypeError\u001b[0m                                 Traceback (most recent call last)",
      "Cell \u001b[1;32mIn[63], line 1\u001b[0m\n\u001b[1;32m----> 1\u001b[0m \u001b[38;5;28mprint\u001b[39m(city \u001b[38;5;241m=\u001b[39m\u001b[38;5;124m\"\u001b[39m\u001b[38;5;124mr\u001b[39m\u001b[38;5;124m\"\u001b[39m)\n",
      "\u001b[1;31mTypeError\u001b[0m: 'city' is an invalid keyword argument for print()"
     ]
    }
   ],
   "source": [
    "print()"
   ]
  },
  {
   "cell_type": "code",
   "execution_count": 64,
   "id": "abdd4a0b-126f-4017-8ec9-baecf432d3c4",
   "metadata": {},
   "outputs": [
    {
     "ename": "SyntaxError",
     "evalue": "invalid syntax. Perhaps you forgot a comma? (728726206.py, line 3)",
     "output_type": "error",
     "traceback": [
      "\u001b[1;36m  Cell \u001b[1;32mIn[64], line 3\u001b[1;36m\u001b[0m\n\u001b[1;33m    'jim': 24\u001b[0m\n\u001b[1;37m           ^\u001b[0m\n\u001b[1;31mSyntaxError\u001b[0m\u001b[1;31m:\u001b[0m invalid syntax. Perhaps you forgot a comma?\n"
     ]
    }
   ],
   "source": [
    "ages = {\n",
    "    'pam': 24,\n",
    "    'jim': 24\n",
    "    'michael': 43\n",
    "    }\n",
    "\n",
    "print(f'Michael is {ages[\"michael\"]} years old.')"
   ]
  },
  {
   "cell_type": "code",
   "execution_count": null,
   "id": "9d4dc41c-8580-4dd7-b6d9-920e0d12a1c4",
   "metadata": {},
   "outputs": [],
   "source": []
  }
 ],
 "metadata": {
  "kernelspec": {
   "display_name": "Python 3 (ipykernel)",
   "language": "python",
   "name": "python3"
  },
  "language_info": {
   "codemirror_mode": {
    "name": "ipython",
    "version": 3
   },
   "file_extension": ".py",
   "mimetype": "text/x-python",
   "name": "python",
   "nbconvert_exporter": "python",
   "pygments_lexer": "ipython3",
   "version": "3.11.7"
  }
 },
 "nbformat": 4,
 "nbformat_minor": 5
}
