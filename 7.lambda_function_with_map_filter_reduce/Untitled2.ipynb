{
 "cells": [
  {
   "cell_type": "code",
   "execution_count": 19,
   "id": "8bda440b-81a8-4a80-a7d6-52f476df7910",
   "metadata": {},
   "outputs": [],
   "source": [
    "square = lambda x,y,z,r: x*y+z+y"
   ]
  },
  {
   "cell_type": "code",
   "execution_count": 20,
   "id": "f8935b8f-dd62-47f2-8793-4dd6f31edba3",
   "metadata": {},
   "outputs": [
    {
     "data": {
      "text/plain": [
       "19"
      ]
     },
     "execution_count": 20,
     "metadata": {},
     "output_type": "execute_result"
    }
   ],
   "source": [
    "square(5,3,1,2)"
   ]
  },
  {
   "cell_type": "code",
   "execution_count": 22,
   "id": "5a9b5120-4082-4d79-b8d0-43d00a947f10",
   "metadata": {},
   "outputs": [],
   "source": [
    "import pandas as pd\n",
    "df  = pd.read_csv(r\"C:\\Users\\rkt65\\Desktop\\my_table.csv\")"
   ]
  },
  {
   "cell_type": "code",
   "execution_count": 26,
   "id": "c8f90bdd-71ff-4e6d-9638-4b4ba6afb99b",
   "metadata": {},
   "outputs": [
    {
     "data": {
      "text/plain": [
       "0      PENELOPE\n",
       "1          NICK\n",
       "2            ED\n",
       "3      JENNIFER\n",
       "4        JOHNNY\n",
       "         ...   \n",
       "195        BELA\n",
       "196       REESE\n",
       "197        MARY\n",
       "198       JULIA\n",
       "199       THORA\n",
       "Name: first_name, Length: 200, dtype: object"
      ]
     },
     "execution_count": 26,
     "metadata": {},
     "output_type": "execute_result"
    }
   ],
   "source": [
    "df[\"first_name\"]"
   ]
  },
  {
   "cell_type": "code",
   "execution_count": 27,
   "id": "3178bad3-2530-45ce-8d0f-f4e722faec8e",
   "metadata": {},
   "outputs": [],
   "source": [
    "def square(x):\n",
    "    return x**2"
   ]
  },
  {
   "cell_type": "code",
   "execution_count": 29,
   "id": "9c02b1c1-3c5a-4a44-a028-e8339ad6bf40",
   "metadata": {},
   "outputs": [],
   "source": [
    "square = square(5)"
   ]
  },
  {
   "cell_type": "code",
   "execution_count": 30,
   "id": "41b201d5-a6bb-4a97-ba7b-255f83a1ee05",
   "metadata": {},
   "outputs": [
    {
     "data": {
      "text/plain": [
       "25"
      ]
     },
     "execution_count": 30,
     "metadata": {},
     "output_type": "execute_result"
    }
   ],
   "source": [
    "square"
   ]
  },
  {
   "cell_type": "code",
   "execution_count": null,
   "id": "2f8a7150-0845-422e-8a31-f8842a4bf0c2",
   "metadata": {},
   "outputs": [],
   "source": []
  }
 ],
 "metadata": {
  "kernelspec": {
   "display_name": "Python 3 (ipykernel)",
   "language": "python",
   "name": "python3"
  },
  "language_info": {
   "codemirror_mode": {
    "name": "ipython",
    "version": 3
   },
   "file_extension": ".py",
   "mimetype": "text/x-python",
   "name": "python",
   "nbconvert_exporter": "python",
   "pygments_lexer": "ipython3",
   "version": "3.11.7"
  }
 },
 "nbformat": 4,
 "nbformat_minor": 5
}
