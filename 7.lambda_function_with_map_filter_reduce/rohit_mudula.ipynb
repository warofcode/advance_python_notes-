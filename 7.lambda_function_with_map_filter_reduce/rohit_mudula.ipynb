{
 "cells": [
  {
   "cell_type": "code",
   "execution_count": 53,
   "id": "65571727-d337-4e53-afc8-dcf33144f42e",
   "metadata": {},
   "outputs": [],
   "source": [
    "def rohit_function(**kwargs):\n",
    "    return f\"i m from {city}\""
   ]
  },
  {
   "cell_type": "code",
   "execution_count": 56,
   "id": "bd0339ac-3038-4983-ab1c-09f79e6bbdde",
   "metadata": {},
   "outputs": [
    {
     "data": {
      "text/plain": [
       "'i m from Delhi'"
      ]
     },
     "execution_count": 56,
     "metadata": {},
     "output_type": "execute_result"
    }
   ],
   "source": [
    "rohit_function(city = \"Delhi\")\n"
   ]
  },
  {
   "cell_type": "code",
   "execution_count": 31,
   "id": "09aa60c6-3610-4307-83b6-f0769e3b4da2",
   "metadata": {},
   "outputs": [],
   "source": [
    "import math"
   ]
  },
  {
   "cell_type": "code",
   "execution_count": 9,
   "id": "1ca4357c-5ca0-4476-ac6a-cc6b38669afd",
   "metadata": {},
   "outputs": [
    {
     "data": {
      "text/plain": [
       "120"
      ]
     },
     "execution_count": 9,
     "metadata": {},
     "output_type": "execute_result"
    }
   ],
   "source": [
    "math.factorial(5)"
   ]
  },
  {
   "cell_type": "code",
   "execution_count": 8,
   "id": "d1bcfa37-0c75-4231-ac61-0666ce8c4065",
   "metadata": {},
   "outputs": [
    {
     "data": {
      "text/plain": [
       "'C:\\\\Users\\\\rkt65\\\\Desktop\\\\1Python_RexGalaxy_Clasess\\\\7.lambda_function_with_map_filter_reduce'"
      ]
     },
     "execution_count": 8,
     "metadata": {},
     "output_type": "execute_result"
    }
   ],
   "source": [
    "pwd"
   ]
  },
  {
   "cell_type": "code",
   "execution_count": 13,
   "id": "9d29e2e7-7ddf-48b1-8177-f0d5597c7415",
   "metadata": {},
   "outputs": [
    {
     "name": "stdout",
     "output_type": "stream",
     "text": [
      "12\n"
     ]
    }
   ],
   "source": [
    "print(1,2,sep=\"\")"
   ]
  },
  {
   "cell_type": "code",
   "execution_count": 39,
   "id": "a2a2cbd0-4afd-4c7d-b973-f6e5dbcd1845",
   "metadata": {},
   "outputs": [],
   "source": [
    "# area of triangle"
   ]
  },
  {
   "cell_type": "code",
   "execution_count": 41,
   "id": "76c08217-b6d1-4127-a971-a323e38e629e",
   "metadata": {},
   "outputs": [],
   "source": [
    "\n",
    "\n",
    "b = 13\n",
    "h = 43\n",
    "area  = 1/2 *b *h"
   ]
  },
  {
   "cell_type": "code",
   "execution_count": 43,
   "id": "21d79f90-7e8b-4fe7-808e-5ee93c08e8f6",
   "metadata": {},
   "outputs": [
    {
     "data": {
      "text/plain": [
       "1.0"
      ]
     },
     "execution_count": 43,
     "metadata": {},
     "output_type": "execute_result"
    }
   ],
   "source": [
    "def area(b,h):\n",
    "    triangle_area = 1/2 *b*h\n",
    "    return triangle_area\n",
    "area(1,2)    "
   ]
  },
  {
   "cell_type": "code",
   "execution_count": 69,
   "id": "544bebb6-bae2-4441-baa7-fe175f7c58b3",
   "metadata": {},
   "outputs": [
    {
     "name": "stdout",
     "output_type": "stream",
     "text": [
      "my name is soman\n",
      "my list 2\n",
      "i want to learn java\n",
      "age 18\n",
      "('soman', (1, 2, 3), 'java', {'age': 18})\n"
     ]
    }
   ],
   "source": [
    "def my_function(name,*args,course=\"python\",**age):\n",
    "    print(f\"my name is {name}\")\n",
    "    print(f\"my list {args[1]}\")\n",
    "    print(f\"i want to learn {course}\")\n",
    "\n",
    "    for key,value in age.items():\n",
    "        print(key,value)\n",
    "  #  print(f\"i am {age[key]} years old\")\n",
    "    return name,args,course,age\n",
    "\n",
    "print(my_function(\"soman\",1,2,3,course=\"java\",age=18))\n"
   ]
  },
  {
   "cell_type": "code",
   "execution_count": 71,
   "id": "bda640e1-b27e-460e-b998-5ca96e0ee1b5",
   "metadata": {},
   "outputs": [
    {
     "data": {
      "text/plain": [
       "120"
      ]
     },
     "execution_count": 71,
     "metadata": {},
     "output_type": "execute_result"
    }
   ],
   "source": [
    "import math\n",
    "math.factorial(5)"
   ]
  },
  {
   "cell_type": "code",
   "execution_count": 72,
   "id": "d23162b7-4671-4dc3-a58b-08788320dcf7",
   "metadata": {},
   "outputs": [],
   "source": [
    "number = 5"
   ]
  },
  {
   "cell_type": "code",
   "execution_count": 76,
   "id": "d4a6bac0-ebb0-4206-80cf-2cb8e15038af",
   "metadata": {},
   "outputs": [
    {
     "name": "stdout",
     "output_type": "stream",
     "text": [
      "120\n"
     ]
    }
   ],
   "source": [
    "fact = 1\n",
    "for i in range(1,6):\n",
    "    fact = fact*i\n",
    "\n",
    "print(fact)\n",
    "    "
   ]
  },
  {
   "cell_type": "code",
   "execution_count": null,
   "id": "61e94dae-cb3f-4456-8738-4b5ecdf2739e",
   "metadata": {},
   "outputs": [],
   "source": []
  },
  {
   "cell_type": "code",
   "execution_count": null,
   "id": "06823202-0b55-42c5-a701-f757134f212d",
   "metadata": {},
   "outputs": [],
   "source": []
  }
 ],
 "metadata": {
  "kernelspec": {
   "display_name": "Python 3 (ipykernel)",
   "language": "python",
   "name": "python3"
  },
  "language_info": {
   "codemirror_mode": {
    "name": "ipython",
    "version": 3
   },
   "file_extension": ".py",
   "mimetype": "text/x-python",
   "name": "python",
   "nbconvert_exporter": "python",
   "pygments_lexer": "ipython3",
   "version": "3.11.7"
  }
 },
 "nbformat": 4,
 "nbformat_minor": 5
}
