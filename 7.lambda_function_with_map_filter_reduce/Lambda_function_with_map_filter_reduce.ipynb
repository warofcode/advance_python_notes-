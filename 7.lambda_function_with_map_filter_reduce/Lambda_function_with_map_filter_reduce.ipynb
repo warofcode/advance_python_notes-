{
 "cells": [
  {
   "cell_type": "markdown",
   "id": "ae69ec8c",
   "metadata": {},
   "source": [
    "# Lambda_Function"
   ]
  },
  {
   "cell_type": "markdown",
   "id": "81b014f2",
   "metadata": {},
   "source": [
    "Lambda functions, also known as anonymous functions, are a concise way to create small, one-line functions in Python. They are particularly useful when you need a simple function for a short period and don't want to define a formal function using the def keyword."
   ]
  },
  {
   "cell_type": "markdown",
   "id": "da4b15e8",
   "metadata": {},
   "source": [
    "Here's a detailed explanation of lambda functions:"
   ]
  },
  {
   "cell_type": "markdown",
   "id": "767c9c58",
   "metadata": {},
   "source": [
    "# Syntax:"
   ]
  },
  {
   "cell_type": "markdown",
   "id": "10769de7",
   "metadata": {},
   "source": [
    "The syntax of a lambda function is as follows:"
   ]
  },
  {
   "cell_type": "code",
   "execution_count": 1,
   "id": "b3679b75",
   "metadata": {},
   "outputs": [
    {
     "data": {
      "text/plain": [
       "<function __main__.<lambda>(arguments)>"
      ]
     },
     "execution_count": 1,
     "metadata": {},
     "output_type": "execute_result"
    }
   ],
   "source": [
    "lambda arguments: expression"
   ]
  },
  {
   "cell_type": "markdown",
   "id": "e1042b25",
   "metadata": {},
   "source": [
    "lambda: This keyword is used to create a lambda function."
   ]
  },
  {
   "cell_type": "markdown",
   "id": "d5673b22",
   "metadata": {},
   "source": [
    "arguments: These are the input parameters of the function. You can specify zero or more arguments, separated by commas."
   ]
  },
  {
   "cell_type": "markdown",
   "id": "964b6a8c",
   "metadata": {},
   "source": [
    "expression: This is a single expression that defines the computation performed by the function. The result of the expression is implicitly returned by the lambda function."
   ]
  },
  {
   "cell_type": "markdown",
   "id": "e9957350",
   "metadata": {},
   "source": [
    "# Example:"
   ]
  },
  {
   "cell_type": "markdown",
   "id": "978fc001",
   "metadata": {},
   "source": [
    "Let's look at a simple example of a lambda function that calculates the square of a number:"
   ]
  },
  {
   "cell_type": "code",
   "execution_count": 13,
   "id": "0f7f8b5b",
   "metadata": {},
   "outputs": [
    {
     "name": "stdout",
     "output_type": "stream",
     "text": [
      "25\n"
     ]
    }
   ],
   "source": [
    "square = lambda x: x ** 2\n",
    "\n",
    "print(square(5))\n"
   ]
  },
  {
   "cell_type": "markdown",
   "id": "37f816f9",
   "metadata": {},
   "source": [
    "lambda x: This defines a lambda function that takes one argument x."
   ]
  },
  {
   "cell_type": "markdown",
   "id": "99b0aca8",
   "metadata": {},
   "source": [
    "x ** 2: This is the expression that calculates the square of x."
   ]
  },
  {
   "cell_type": "markdown",
   "id": "4a59fbb8",
   "metadata": {},
   "source": [
    "The lambda function is assigned to the variable square."
   ]
  },
  {
   "cell_type": "markdown",
   "id": "b94af7ed",
   "metadata": {},
   "source": [
    "# "
   ]
  },
  {
   "cell_type": "markdown",
   "id": "e3eff5b5",
   "metadata": {},
   "source": [
    "lets take two arguments"
   ]
  },
  {
   "cell_type": "code",
   "execution_count": 14,
   "id": "2107ad34",
   "metadata": {},
   "outputs": [
    {
     "name": "stdout",
     "output_type": "stream",
     "text": [
      "64\n"
     ]
    }
   ],
   "source": [
    "multiply = lambda x,y : x*y\n",
    "\n",
    "print(multiply(8,8))"
   ]
  },
  {
   "cell_type": "markdown",
   "id": "4e168c77",
   "metadata": {},
   "source": [
    "# Limitations:"
   ]
  },
  {
   "cell_type": "markdown",
   "id": "5ec1bd11",
   "metadata": {},
   "source": [
    "While lambda functions offer simplicity and conciseness, they have some limitations compared to regular functions defined using def:"
   ]
  },
  {
   "cell_type": "markdown",
   "id": "aad96970",
   "metadata": {},
   "source": [
    "1. They can only contain a single expression, which limits their complexity."
   ]
  },
  {
   "cell_type": "markdown",
   "id": "294a01fb",
   "metadata": {},
   "source": [
    "2. They are not as readable or self-documenting as named functions, especially for more complex logic."
   ]
  },
  {
   "cell_type": "markdown",
   "id": "a8a20d11",
   "metadata": {},
   "source": [
    "3. They cannot have docstrings or annotations, which are useful for documenting the function's purpose and parameters."
   ]
  },
  {
   "cell_type": "markdown",
   "id": "ccc2e427",
   "metadata": {},
   "source": [
    "# Usage:"
   ]
  },
  {
   "cell_type": "markdown",
   "id": "c2d47923",
   "metadata": {},
   "source": [
    "Lambda functions can be used in various contexts, including:"
   ]
  },
  {
   "cell_type": "markdown",
   "id": "1f98337e",
   "metadata": {},
   "source": [
    "Function Arguments:"
   ]
  },
  {
   "cell_type": "markdown",
   "id": "64cfc112",
   "metadata": {},
   "source": [
    "Lambda functions are commonly used as arguments to higher-order functions like map(), filter(),sorted() and reduce(). For example:"
   ]
  },
  {
   "cell_type": "markdown",
   "id": "ba4cc54a",
   "metadata": {},
   "source": [
    "# 1. map() function"
   ]
  },
  {
   "cell_type": "markdown",
   "id": "bcbe67b0",
   "metadata": {},
   "source": [
    "The map() function in Python is a built-in function that applies a specified function to each item in an iterable (such as a list, tuple, or string) and returns a new iterator that yields the results. It takes two arguments: the function to apply and the iterable to apply it to. The syntax for the map() function is:"
   ]
  },
  {
   "cell_type": "markdown",
   "id": "f68fa45f",
   "metadata": {},
   "source": [
    "# map(function, iterable)\n"
   ]
  },
  {
   "cell_type": "code",
   "execution_count": 24,
   "id": "e870cf5c",
   "metadata": {},
   "outputs": [
    {
     "name": "stdout",
     "output_type": "stream",
     "text": [
      "['10', '20', '30']\n"
     ]
    }
   ],
   "source": [
    "# question :  We have to convert all list item into int because items are string.\n",
    "list1 = [\"10\",\"20\",\"30\"]\n",
    "print(list1)\n",
    "# we want to convert the value of list1 into int"
   ]
  },
  {
   "cell_type": "code",
   "execution_count": 26,
   "id": "acb9ff2a",
   "metadata": {},
   "outputs": [
    {
     "name": "stdout",
     "output_type": "stream",
     "text": [
      "[10, 20, 30]\n"
     ]
    }
   ],
   "source": [
    "# lets try with our for loop\n",
    "list2 = []\n",
    "for i in range(len(list1)):\n",
    "    list2.append(int(list1[i]))\n",
    "    \n",
    "print(list2)    "
   ]
  },
  {
   "cell_type": "code",
   "execution_count": 28,
   "id": "bedd9959",
   "metadata": {},
   "outputs": [
    {
     "name": "stdout",
     "output_type": "stream",
     "text": [
      "[10, 20, 30]\n"
     ]
    }
   ],
   "source": [
    "print(list2)\n",
    "# our problem is solved but with a long code \n",
    "# this problem we are going to solve with the help of map () function"
   ]
  },
  {
   "cell_type": "code",
   "execution_count": 44,
   "id": "d5f8e7f9",
   "metadata": {},
   "outputs": [
    {
     "name": "stdout",
     "output_type": "stream",
     "text": [
      "[10, 20, 30]\n"
     ]
    }
   ],
   "source": [
    "# list(map(function,iterable))\n",
    "\n",
    "list1 = [\"10\",\"20\",\"30\"]\n",
    "list1 = map(int,list1) # it will return only map object so we need list method to make it list\n",
    "\n",
    "\n",
    "list1= list(map(int,list1))\n",
    "\n",
    "\n",
    "print(list1)\n"
   ]
  },
  {
   "cell_type": "code",
   "execution_count": 48,
   "id": "7deb6e54",
   "metadata": {},
   "outputs": [
    {
     "name": "stdout",
     "output_type": "stream",
     "text": [
      "[10, 20, 30]\n"
     ]
    }
   ],
   "source": [
    "# same above method we can do with lambda function\n",
    "list6 = [\"10\",\"20\",\"30\"]\n",
    "\n",
    "list7 = list(map(lambda x:int(x),list6))\n",
    "\n",
    "print(list7)"
   ]
  },
  {
   "cell_type": "markdown",
   "id": "ff7d0f73",
   "metadata": {},
   "source": [
    "# map () function with the help of user defined function"
   ]
  },
  {
   "cell_type": "code",
   "execution_count": null,
   "id": "e532d8eb",
   "metadata": {},
   "outputs": [],
   "source": [
    "# in below example we will try to convert all list1 value into int"
   ]
  },
  {
   "cell_type": "code",
   "execution_count": 32,
   "id": "9c7f1fc0",
   "metadata": {},
   "outputs": [
    {
     "name": "stdout",
     "output_type": "stream",
     "text": [
      "[10, 20, 30]\n"
     ]
    }
   ],
   "source": [
    "list1 = [\"10\",\"20\",\"30\"]\n",
    "def int_converter(n):\n",
    "    \n",
    "    return int(n)\n",
    "\n",
    "list2 = list(map(int_converter,list1))\n",
    "\n",
    "print(list2)"
   ]
  },
  {
   "cell_type": "code",
   "execution_count": null,
   "id": "e44beceb",
   "metadata": {},
   "outputs": [],
   "source": [
    "# Now instead of writing in so many lines we can solve it with the help of lambda function"
   ]
  },
  {
   "cell_type": "markdown",
   "id": "c81352b6",
   "metadata": {},
   "source": [
    "# map () function with the help of user defined function"
   ]
  },
  {
   "cell_type": "code",
   "execution_count": 35,
   "id": "ff39c2b3",
   "metadata": {},
   "outputs": [
    {
     "name": "stdout",
     "output_type": "stream",
     "text": [
      "[10, 20, 30]\n"
     ]
    }
   ],
   "source": [
    "list1 = [\"10\",\"20\",\"30\"]\n",
    "\n",
    "list2 = list(map(lambda x:int(x),list1))\n",
    "\n",
    "print(list2)"
   ]
  },
  {
   "cell_type": "markdown",
   "id": "64b8d79e",
   "metadata": {},
   "source": [
    "# Example2:\n",
    "    "
   ]
  },
  {
   "cell_type": "markdown",
   "id": "e0c03f53",
   "metadata": {},
   "source": [
    "Lets try to make sqare of each element of the list"
   ]
  },
  {
   "cell_type": "markdown",
   "id": "362f2c3d",
   "metadata": {},
   "source": [
    "first we will try with user defined function"
   ]
  },
  {
   "cell_type": "code",
   "execution_count": 37,
   "id": "db12434e",
   "metadata": {},
   "outputs": [
    {
     "name": "stdout",
     "output_type": "stream",
     "text": [
      "[1, 4, 9, 16, 25, 36, 49, 64, 81]\n"
     ]
    }
   ],
   "source": [
    "def i_do_square(x):\n",
    "    \n",
    "    return x**2\n",
    "\n",
    "list1 = [1,2,3,4,5,6,7,8,9]\n",
    "\n",
    "my_squared_list = list(map(i_do_square,list1))\n",
    "print(my_squared_list)"
   ]
  },
  {
   "cell_type": "markdown",
   "id": "33513f97",
   "metadata": {},
   "source": [
    "lets do it with lambda function"
   ]
  },
  {
   "cell_type": "code",
   "execution_count": 36,
   "id": "061cac88",
   "metadata": {},
   "outputs": [
    {
     "name": "stdout",
     "output_type": "stream",
     "text": [
      "[1, 4, 9, 16, 25, 36, 49, 64, 81]\n"
     ]
    }
   ],
   "source": [
    "list1 = [1,2,3,4,5,6,7,8,9]\n",
    "\n",
    "squared_list = list(map(lambda x:x**2,list1))\n",
    "\n",
    "print(squared_list)"
   ]
  },
  {
   "cell_type": "markdown",
   "id": "68714275",
   "metadata": {},
   "source": [
    "# filter function ()"
   ]
  },
  {
   "cell_type": "markdown",
   "id": "b5cb86b7",
   "metadata": {},
   "source": [
    "\n",
    "In Python, the filter() function is used to filter elements from an iterable (such as a list, tuple, or set) based on a specified condition. It returns an iterator containing the elements from the original iterable for which the condition evaluates to True."
   ]
  },
  {
   "cell_type": "markdown",
   "id": "ac81d4f4",
   "metadata": {},
   "source": [
    "# Syntax:"
   ]
  },
  {
   "cell_type": "markdown",
   "id": "5064de26",
   "metadata": {},
   "source": [
    "The syntax of the filter() function is as follows:"
   ]
  },
  {
   "cell_type": "markdown",
   "id": "8d92d6da",
   "metadata": {},
   "source": [
    "# filter(function, iterable)\n"
   ]
  },
  {
   "cell_type": "code",
   "execution_count": 51,
   "id": "05037aae",
   "metadata": {},
   "outputs": [
    {
     "name": "stdout",
     "output_type": "stream",
     "text": [
      "['rohit', 'python', 'mysql']\n"
     ]
    }
   ],
   "source": [
    "# in below progmam i want to filter the element that are strings data type\n",
    "# first we will try it with out using filter or lambda function \n",
    "my_list = [1,2,\"rohit\",\"python\",\"mysql\",9.5,76,[1,2,3,4]]\n",
    "filtered_list = []\n",
    "\n",
    "for item in my_list:\n",
    "    if type(item) == str:\n",
    "        filtered_list.append(item)\n",
    "    else:\n",
    "        continue\n",
    "        \n",
    "print(filtered_list)        \n",
    "        \n",
    "    \n",
    "\n"
   ]
  },
  {
   "cell_type": "markdown",
   "id": "e46ef914",
   "metadata": {},
   "source": [
    "Now we will try to solve above problem with user defined function:\n",
    "    "
   ]
  },
  {
   "cell_type": "code",
   "execution_count": 58,
   "id": "b27f6049",
   "metadata": {},
   "outputs": [
    {
     "data": {
      "text/plain": [
       "['rohit', 'python', 'mysql']"
      ]
     },
     "execution_count": 58,
     "metadata": {},
     "output_type": "execute_result"
    }
   ],
   "source": [
    "my_list_to_filter = [1,2,\"rohit\",\"python\",\"mysql\",9.5,76,[1,2,3,4]]\n",
    "my_filtered_list = []\n",
    "def my_filter_function(my_list_to_filter):\n",
    "    \n",
    "    for item in my_list:\n",
    "        if type(item) == str:\n",
    "            my_filtered_list.append(item)\n",
    "            \n",
    "        else:\n",
    "            continue\n",
    "            \n",
    "    return my_filtered_list        \n",
    "            \n",
    "my_filter_function(my_list_to_filter) \n",
    "\n",
    "\n",
    "    "
   ]
  },
  {
   "cell_type": "code",
   "execution_count": 59,
   "id": "5e170d9f",
   "metadata": {},
   "outputs": [],
   "source": [
    "# now we would like to use filter function "
   ]
  },
  {
   "cell_type": "code",
   "execution_count": 65,
   "id": "e8742b4b",
   "metadata": {},
   "outputs": [
    {
     "name": "stdout",
     "output_type": "stream",
     "text": [
      "['rohit', 'python', 'mysql']\n"
     ]
    }
   ],
   "source": [
    "my_new_list = [1, 2, \"rohit\", \"python\", \"mysql\", 9.5, 76, [1, 2, 3, 4]]\n",
    "\n",
    "def is_string(element):\n",
    "    return isinstance(element, str)   \n",
    "\n",
    "\n",
    "my_filter_list_with_filter_function  =  list(filter(is_string,my_new_list))\n",
    "\n",
    "print(my_filter_list_with_filter_function)"
   ]
  },
  {
   "cell_type": "code",
   "execution_count": 68,
   "id": "0a84f6e6",
   "metadata": {},
   "outputs": [
    {
     "data": {
      "text/plain": [
       "['rohit', 'python', 'mysql']"
      ]
     },
     "execution_count": 68,
     "metadata": {},
     "output_type": "execute_result"
    }
   ],
   "source": [
    "# now we will use lambda function\n",
    "my_new_list_2 = [1, 2, \"rohit\", \"python\", \"mysql\", 9.5, 76, [1, 2, 3, 4]]\n",
    "filter_list_with_lambda = list(filter(lambda item:isinstance(item,str),my_new_list_2))\n",
    "\n",
    "filter_list_with_lambda"
   ]
  },
  {
   "cell_type": "code",
   "execution_count": 1,
   "id": "1e1e0aeb-dcd7-4528-bec3-e462979dd5f7",
   "metadata": {},
   "outputs": [
    {
     "data": {
      "text/plain": [
       "[2, 76]"
      ]
     },
     "execution_count": 1,
     "metadata": {},
     "output_type": "execute_result"
    }
   ],
   "source": [
    "# filter number divided by 2\n",
    "my_new_list_2 = [1, 2,9.5, 76,]\n",
    "filter_list_with_lambda = list(filter(lambda item:item%2==0,my_new_list_2))\n",
    "\n",
    "filter_list_with_lambda"
   ]
  },
  {
   "cell_type": "markdown",
   "id": "fd1b2287",
   "metadata": {},
   "source": [
    "# reduce() function"
   ]
  },
  {
   "cell_type": "markdown",
   "id": "0adbe966",
   "metadata": {},
   "source": [
    "The reduce() function in Python is used to apply a function to an iterable (such as a list) cumulatively, reducing the iterable to a single value. It's part of the functools module in Python 3, so you need to import it before using it."
   ]
  },
  {
   "cell_type": "code",
   "execution_count": 72,
   "id": "0118107d",
   "metadata": {},
   "outputs": [],
   "source": [
    "from functools import reduce"
   ]
  },
  {
   "cell_type": "code",
   "execution_count": 73,
   "id": "7b8c93ad",
   "metadata": {},
   "outputs": [],
   "source": [
    "# syntax reduce(function,sequence)\n",
    "# reduce functin do not return list becuase it retruns only single value\n",
    "# instead of list , it returns a single output\n",
    "# first of all you need to import the reduce funtion from functools\n",
    "# by reduce function you can add ,multipy,subtract or many more\n",
    "# if you use reduce function and use lambda in function it will take two arguments\n",
    "\n",
    "\n"
   ]
  },
  {
   "cell_type": "code",
   "execution_count": 74,
   "id": "ee079d39",
   "metadata": {},
   "outputs": [
    {
     "name": "stdout",
     "output_type": "stream",
     "text": [
      "10\n",
      "24\n",
      "-8\n"
     ]
    }
   ],
   "source": [
    "from functools import reduce\n",
    "\n",
    "list1=[1,2,3,4,]\n",
    "\n",
    "Addition=reduce(lambda x,y:x+y , list1) # [1+2+3+4]=10\n",
    "\n",
    "Multiplication=reduce(lambda x,y:x*y , list1) # [1*2*3*4]=24\n",
    "\n",
    "Subtract=reduce(lambda x,y:x-y , list1) #[1-2-3-4]=-8\n",
    "\n",
    "print(Addition)\n",
    "print(Multiplication)\n",
    "print(Subtract)"
   ]
  },
  {
   "cell_type": "code",
   "execution_count": 78,
   "id": "bed15ba8",
   "metadata": {},
   "outputs": [],
   "source": [
    "# same problem  can be solved with the help of listcomprehension"
   ]
  },
  {
   "cell_type": "code",
   "execution_count": 80,
   "id": "7cbe5fa2",
   "metadata": {},
   "outputs": [
    {
     "name": "stdout",
     "output_type": "stream",
     "text": [
      "['rohit', 'python', 'mysql']\n"
     ]
    }
   ],
   "source": [
    "my_list11 =[1, 2, \"rohit\", \"python\", \"mysql\", 9.5, 76, [1, 2, 3, 4]]\n",
    "\n",
    "mylistfinal = [item for item in my_list11 if isinstance(item,str)]\n",
    "\n",
    "print(mylistfinal)"
   ]
  },
  {
   "cell_type": "markdown",
   "id": "124977a2",
   "metadata": {},
   "source": [
    "# sorted() method"
   ]
  },
  {
   "cell_type": "markdown",
   "id": "8b9e3f49",
   "metadata": {},
   "source": [
    "In Python, the sorted() function is used to sort any iterable (such as lists, tuples, or strings) and returns a new list containing the sorted elements. It does not modify the original iterable; instead, it returns a new sorted list."
   ]
  },
  {
   "cell_type": "markdown",
   "id": "7c8740b4",
   "metadata": {},
   "source": [
    "The syntax for the sorted() function is as follows:"
   ]
  },
  {
   "cell_type": "code",
   "execution_count": 81,
   "id": "83df0eb8",
   "metadata": {},
   "outputs": [
    {
     "ename": "SyntaxError",
     "evalue": "iterable argument unpacking follows keyword argument unpacking (616441449.py, line 1)",
     "output_type": "error",
     "traceback": [
      "\u001b[1;36m  Cell \u001b[1;32mIn[81], line 1\u001b[1;36m\u001b[0m\n\u001b[1;33m    sorted(iterable, *, key=None, reverse=False)\u001b[0m\n\u001b[1;37m           ^\u001b[0m\n\u001b[1;31mSyntaxError\u001b[0m\u001b[1;31m:\u001b[0m iterable argument unpacking follows keyword argument unpacking\n"
     ]
    }
   ],
   "source": [
    "sorted(iterable, *, key=None, reverse=False)\n"
   ]
  },
  {
   "cell_type": "code",
   "execution_count": 85,
   "id": "656cd42e",
   "metadata": {},
   "outputs": [
    {
     "name": "stdout",
     "output_type": "stream",
     "text": [
      "[1, 1, 2, 3, 3, 4, 5, 5, 5, 6, 9]\n"
     ]
    }
   ],
   "source": [
    "# Sort a list of strings in descending order\n",
    "list_to_sorted = [3, 1, 4, 1, 5, 9, 2, 6, 5, 3, 5]\n",
    "sorted_numbers = sorted(list_to_sorted)\n",
    "print(sorted_numbers) "
   ]
  },
  {
   "cell_type": "code",
   "execution_count": 96,
   "id": "9aae473d",
   "metadata": {},
   "outputs": [
    {
     "name": "stdout",
     "output_type": "stream",
     "text": [
      "['apple', 'banana', 'cherry', 'date']\n"
     ]
    }
   ],
   "source": [
    "# Sort a list of strings in descending order\n",
    "words = ['apple', 'banana', 'cherry', 'date']\n",
    "sorted_words = sorted(words, reverse=False)\n",
    "print(sorted_words) "
   ]
  },
  {
   "cell_type": "code",
   "execution_count": 93,
   "id": "8f3dfc46",
   "metadata": {},
   "outputs": [
    {
     "name": "stdout",
     "output_type": "stream",
     "text": [
      "[(1, 'b'), (2, 'a'), (3, 'c')]\n"
     ]
    }
   ],
   "source": [
    "# Sort a list of tuples based on the first element\n",
    "pairs = [(1, 'b'), (2, 'a'), (3, 'c')]\n",
    "sorted_pairs = sorted(pairs, key=lambda x: x[0])\n",
    "print(sorted_pairs)  "
   ]
  },
  {
   "cell_type": "code",
   "execution_count": 94,
   "id": "f5933544",
   "metadata": {},
   "outputs": [
    {
     "name": "stdout",
     "output_type": "stream",
     "text": [
      "[(2, 'a'), (1, 'b'), (3, 'c')]\n"
     ]
    }
   ],
   "source": [
    "# Sort a list of tuples based on the second element\n",
    "pairs = [(1, 'b'), (2, 'a'), (3, 'c')]\n",
    "sorted_pairs = sorted(pairs, key=lambda x: x[1])\n",
    "print(sorted_pairs) "
   ]
  },
  {
   "cell_type": "code",
   "execution_count": null,
   "id": "6cd1c6ee",
   "metadata": {},
   "outputs": [],
   "source": []
  }
 ],
 "metadata": {
  "kernelspec": {
   "display_name": "Python 3 (ipykernel)",
   "language": "python",
   "name": "python3"
  },
  "language_info": {
   "codemirror_mode": {
    "name": "ipython",
    "version": 3
   },
   "file_extension": ".py",
   "mimetype": "text/x-python",
   "name": "python",
   "nbconvert_exporter": "python",
   "pygments_lexer": "ipython3",
   "version": "3.11.7"
  }
 },
 "nbformat": 4,
 "nbformat_minor": 5
}
