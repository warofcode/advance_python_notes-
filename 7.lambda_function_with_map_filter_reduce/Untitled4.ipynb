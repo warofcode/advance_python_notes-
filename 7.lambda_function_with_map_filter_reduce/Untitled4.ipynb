{
 "cells": [
  {
   "cell_type": "code",
   "execution_count": 2,
   "id": "89abf218-4de0-496d-8bcd-b4bd369b2d99",
   "metadata": {},
   "outputs": [],
   "source": [
    "def my_func(name, *args, company = \"hcl\", **kwargs):\n",
    "    print(f\"my name is {name}\")\n",
    "    print(f\"Your last name is {args[0]}\")\n",
    "    print(f\"Your company is {company}\")\n",
    "    for key,value in kwargs.items():\n",
    "        print(f\"Your course is {value}\")\n",
    "        "
   ]
  },
  {
   "cell_type": "code",
   "execution_count": 5,
   "id": "458168c6-445e-4b0f-9686-003855a1a3d4",
   "metadata": {},
   "outputs": [
    {
     "name": "stdout",
     "output_type": "stream",
     "text": [
      "my name is kartikay\n",
      "Your last name is Bhardwaj\n",
      "Your company is TechM\n",
      "Your course is python\n",
      "Your course is mysql\n"
     ]
    }
   ],
   "source": [
    "my_func(\"kartikay\", \"Bhardwaj\", company = \"TechM\", first = \"python\", second = \"mysql\")"
   ]
  },
  {
   "cell_type": "code",
   "execution_count": 6,
   "id": "2d4209b6-e2f1-49c3-9410-c8b2df279154",
   "metadata": {},
   "outputs": [],
   "source": [
    "import math"
   ]
  },
  {
   "cell_type": "code",
   "execution_count": null,
   "id": "b38fe5b4-0f92-457a-86cf-ce9ad5b248df",
   "metadata": {},
   "outputs": [],
   "source": [
    "lambda arguments: expression"
   ]
  },
  {
   "cell_type": "code",
   "execution_count": 15,
   "id": "c0c5cc1a-32d0-41c8-a6f8-80ee350a88ad",
   "metadata": {},
   "outputs": [],
   "source": [
    "addition = lambda a,b:a-b"
   ]
  },
  {
   "cell_type": "code",
   "execution_count": 16,
   "id": "da159007-d253-4914-aea0-484f35bdfdb4",
   "metadata": {},
   "outputs": [
    {
     "data": {
      "text/plain": [
       "0"
      ]
     },
     "execution_count": 16,
     "metadata": {},
     "output_type": "execute_result"
    }
   ],
   "source": [
    "addition(12,12)"
   ]
  },
  {
   "cell_type": "code",
   "execution_count": 26,
   "id": "c1d16411-b71b-453f-b781-143d67b57e61",
   "metadata": {},
   "outputs": [],
   "source": [
    "list1 = [\"100\",\"200\",\"300\"]"
   ]
  },
  {
   "cell_type": "code",
   "execution_count": 33,
   "id": "255df71d-5d37-48a2-93b8-18d31de7678d",
   "metadata": {},
   "outputs": [
    {
     "name": "stdout",
     "output_type": "stream",
     "text": [
      "<class 'str'>\n",
      "100\n",
      "<class 'str'>\n",
      "200\n",
      "<class 'str'>\n",
      "300\n"
     ]
    }
   ],
   "source": [
    "# sum(list1)\n",
    "list2 = []\n",
    "for item in list1:\n",
    "    print(type(item))\n",
    "    print(item)\n",
    "    list2.append(int(item))\n",
    "\n",
    "\n"
   ]
  },
  {
   "cell_type": "code",
   "execution_count": 34,
   "id": "09a2dd06-673a-4482-9c76-489ed4f20645",
   "metadata": {},
   "outputs": [
    {
     "data": {
      "text/plain": [
       "[100, 200, 300]"
      ]
     },
     "execution_count": 34,
     "metadata": {},
     "output_type": "execute_result"
    }
   ],
   "source": [
    "list2"
   ]
  },
  {
   "cell_type": "code",
   "execution_count": 35,
   "id": "ab707ede-dd4f-4a6c-9bad-4fcaedc4d6ab",
   "metadata": {},
   "outputs": [
    {
     "data": {
      "text/plain": [
       "600"
      ]
     },
     "execution_count": 35,
     "metadata": {},
     "output_type": "execute_result"
    }
   ],
   "source": [
    "sum(list2)"
   ]
  },
  {
   "cell_type": "code",
   "execution_count": 44,
   "id": "0e2f69c6-028b-4a2f-8960-197f32464d9b",
   "metadata": {},
   "outputs": [],
   "source": [
    "list3 = [\"100\",\"200\",\"300\",\"1000\"]"
   ]
  },
  {
   "cell_type": "code",
   "execution_count": 48,
   "id": "86a7fc94-8efa-48f9-b0ac-08656987fa47",
   "metadata": {},
   "outputs": [],
   "source": [
    "list3 = list(map(int,list3))"
   ]
  },
  {
   "cell_type": "code",
   "execution_count": 49,
   "id": "03a0a578-e299-41df-90d8-68d848c89bd5",
   "metadata": {},
   "outputs": [
    {
     "name": "stdout",
     "output_type": "stream",
     "text": [
      "[100, 200, 300, 1000]\n"
     ]
    }
   ],
   "source": [
    "print(list4)"
   ]
  },
  {
   "cell_type": "code",
   "execution_count": 51,
   "id": "8e23684a-3eaa-44a5-be15-5a9cdfef63d9",
   "metadata": {},
   "outputs": [
    {
     "data": {
      "text/plain": [
       "1600"
      ]
     },
     "execution_count": 51,
     "metadata": {},
     "output_type": "execute_result"
    }
   ],
   "source": [
    "sum(list3)"
   ]
  },
  {
   "cell_type": "code",
   "execution_count": 55,
   "id": "d7a274ff-a84c-464a-95b1-181608b312bb",
   "metadata": {},
   "outputs": [
    {
     "data": {
      "text/plain": [
       "''"
      ]
     },
     "execution_count": 55,
     "metadata": {},
     "output_type": "execute_result"
    }
   ],
   "source": [
    "int()\n",
    "str()\n",
    "float()"
   ]
  },
  {
   "cell_type": "code",
   "execution_count": 56,
   "id": "00a53d68-3dcd-45f4-a7aa-c2f31981c5b7",
   "metadata": {},
   "outputs": [],
   "source": [
    "list5 = [\"100\",\"200\",\"300\",\"1000\"]"
   ]
  },
  {
   "cell_type": "code",
   "execution_count": 58,
   "id": "2106fd69-4501-42c3-942e-6edf131c99c2",
   "metadata": {},
   "outputs": [],
   "source": [
    "list6 = list(map(lambda x:int(x),list5))"
   ]
  },
  {
   "cell_type": "code",
   "execution_count": 59,
   "id": "e8c0c257-0863-461d-98e7-28978e777e06",
   "metadata": {},
   "outputs": [
    {
     "data": {
      "text/plain": [
       "1600"
      ]
     },
     "execution_count": 59,
     "metadata": {},
     "output_type": "execute_result"
    }
   ],
   "source": [
    "sum(list6)"
   ]
  },
  {
   "cell_type": "code",
   "execution_count": 65,
   "id": "a90fc588-bf4d-4a46-817e-1cc24b3ea479",
   "metadata": {},
   "outputs": [],
   "source": [
    "my_lambda = lambda x:int(x)"
   ]
  },
  {
   "cell_type": "code",
   "execution_count": 67,
   "id": "a20c1194-aa28-4ed4-b05e-32e9f17eb7c4",
   "metadata": {},
   "outputs": [
    {
     "data": {
      "text/plain": [
       "12"
      ]
     },
     "execution_count": 67,
     "metadata": {},
     "output_type": "execute_result"
    }
   ],
   "source": [
    "my_lambda(\"12\")"
   ]
  },
  {
   "cell_type": "code",
   "execution_count": 68,
   "id": "67a2a8ba-89c0-4d78-991a-eb5251a0c495",
   "metadata": {},
   "outputs": [],
   "source": [
    "def my_normalfunction(x):\n",
    "    return int(x)"
   ]
  },
  {
   "cell_type": "code",
   "execution_count": 69,
   "id": "0a5465be-a634-4bc0-990f-a0818402d242",
   "metadata": {},
   "outputs": [
    {
     "data": {
      "text/plain": [
       "12"
      ]
     },
     "execution_count": 69,
     "metadata": {},
     "output_type": "execute_result"
    }
   ],
   "source": [
    "my_normalfunction(\"12\")\n"
   ]
  },
  {
   "cell_type": "code",
   "execution_count": 82,
   "id": "68bcb425-2e84-4b83-a81b-a85fa139e684",
   "metadata": {},
   "outputs": [],
   "source": [
    "list12 = [1,2,3,4,5,6]"
   ]
  },
  {
   "cell_type": "code",
   "execution_count": null,
   "id": "f1287fd0-4537-4a92-917f-e34c40c7a419",
   "metadata": {},
   "outputs": [],
   "source": []
  }
 ],
 "metadata": {
  "kernelspec": {
   "display_name": "Python 3 (ipykernel)",
   "language": "python",
   "name": "python3"
  },
  "language_info": {
   "codemirror_mode": {
    "name": "ipython",
    "version": 3
   },
   "file_extension": ".py",
   "mimetype": "text/x-python",
   "name": "python",
   "nbconvert_exporter": "python",
   "pygments_lexer": "ipython3",
   "version": "3.11.7"
  }
 },
 "nbformat": 4,
 "nbformat_minor": 5
}
