{
 "cells": [
  {
   "cell_type": "code",
   "execution_count": 1,
   "id": "7a555382-e528-4c7d-b708-2815e0b78447",
   "metadata": {},
   "outputs": [],
   "source": [
    "list1 = [1,2,3,4,5,5]"
   ]
  },
  {
   "cell_type": "code",
   "execution_count": 2,
   "id": "86e9903e-dbe5-4953-8275-f0d7c68e2953",
   "metadata": {},
   "outputs": [
    {
     "name": "stdout",
     "output_type": "stream",
     "text": [
      "20\n"
     ]
    }
   ],
   "source": [
    "sum1=0\n",
    "for i in list1:\n",
    "    sum1 = sum1 +i\n",
    "\n",
    "print(sum1)\n",
    "    "
   ]
  },
  {
   "cell_type": "code",
   "execution_count": 3,
   "id": "681315b3-3cbf-476e-ac03-c831d948f7ec",
   "metadata": {},
   "outputs": [
    {
     "data": {
      "text/plain": [
       "20"
      ]
     },
     "execution_count": 3,
     "metadata": {},
     "output_type": "execute_result"
    }
   ],
   "source": [
    "sum(list1)"
   ]
  },
  {
   "cell_type": "code",
   "execution_count": 4,
   "id": "1544282c-d3d4-462a-b21f-45be9ca7a0e2",
   "metadata": {},
   "outputs": [],
   "source": [
    "\n",
    "def my_function():\n",
    "    global x\n",
    "    x=10\n",
    "    print(\"x is :\",x)"
   ]
  },
  {
   "cell_type": "code",
   "execution_count": 5,
   "id": "23af7261-8505-467d-bb8c-20861b2c8cbb",
   "metadata": {},
   "outputs": [
    {
     "ename": "NameError",
     "evalue": "name 'x' is not defined",
     "output_type": "error",
     "traceback": [
      "\u001b[1;31m---------------------------------------------------------------------------\u001b[0m",
      "\u001b[1;31mNameError\u001b[0m                                 Traceback (most recent call last)",
      "Cell \u001b[1;32mIn[5], line 1\u001b[0m\n\u001b[1;32m----> 1\u001b[0m \u001b[38;5;28mprint\u001b[39m(x)\n",
      "\u001b[1;31mNameError\u001b[0m: name 'x' is not defined"
     ]
    }
   ],
   "source": [
    "print(x)"
   ]
  },
  {
   "cell_type": "code",
   "execution_count": null,
   "id": "24435d3b-4bee-4c54-ab3b-84598e220daf",
   "metadata": {},
   "outputs": [],
   "source": [
    "my_function()"
   ]
  },
  {
   "cell_type": "code",
   "execution_count": null,
   "id": "d8302414-15d0-4b64-96c9-fb9eaa6f54d0",
   "metadata": {},
   "outputs": [],
   "source": [
    "local\n",
    "global\n",
    "module level\n",
    "builtin"
   ]
  },
  {
   "cell_type": "code",
   "execution_count": null,
   "id": "91fb2fa4-9676-45d7-ba1e-e025995e34a9",
   "metadata": {},
   "outputs": [],
   "source": [
    "def change():\n",
    "    # using a global keyword\n",
    "    global x\n",
    " \n",
    "    # increment value of a by 5\n",
    "    x = x + 5\n",
    "    print(\"Value of x inside a function :\", x)\n",
    " \n",
    " \n",
    "change()\n",
    "print(\"Value of x outside a function :\", x)"
   ]
  },
  {
   "cell_type": "code",
   "execution_count": 14,
   "id": "501a97ef-a4b6-4759-b441-656c1517937f",
   "metadata": {},
   "outputs": [
    {
     "name": "stdout",
     "output_type": "stream",
     "text": [
      "Value of x inside a function : 15\n",
      "Value of x outside a function : 17\n"
     ]
    }
   ],
   "source": [
    "x=17\n",
    " \n",
    " \n",
    "def change():\n",
    "    # using a global keyword\n",
    "    #global x\n",
    " \n",
    "    # increment value of a by 5\n",
    "    x = 10 + 5\n",
    "    print(\"Value of x inside a function :\", x)\n",
    " \n",
    " \n",
    "change()\n",
    "print(\"Value of x outside a function :\", x)"
   ]
  },
  {
   "cell_type": "code",
   "execution_count": 15,
   "id": "38cc0ded-2a9f-474e-af09-f529cc104a5b",
   "metadata": {},
   "outputs": [
    {
     "ename": "TypeError",
     "evalue": "map() must have at least two arguments.",
     "output_type": "error",
     "traceback": [
      "\u001b[1;31m---------------------------------------------------------------------------\u001b[0m",
      "\u001b[1;31mTypeError\u001b[0m                                 Traceback (most recent call last)",
      "Cell \u001b[1;32mIn[15], line 1\u001b[0m\n\u001b[1;32m----> 1\u001b[0m \u001b[38;5;28mmap\u001b[39m()\n",
      "\u001b[1;31mTypeError\u001b[0m: map() must have at least two arguments."
     ]
    }
   ],
   "source": [
    "map()"
   ]
  },
  {
   "cell_type": "code",
   "execution_count": 16,
   "id": "ae1cd476-f33c-41e9-b002-d4ee0672b1b9",
   "metadata": {},
   "outputs": [
    {
     "ename": "NameError",
     "evalue": "name 'reduce' is not defined",
     "output_type": "error",
     "traceback": [
      "\u001b[1;31m---------------------------------------------------------------------------\u001b[0m",
      "\u001b[1;31mNameError\u001b[0m                                 Traceback (most recent call last)",
      "Cell \u001b[1;32mIn[16], line 1\u001b[0m\n\u001b[1;32m----> 1\u001b[0m reduce\n",
      "\u001b[1;31mNameError\u001b[0m: name 'reduce' is not defined"
     ]
    }
   ],
   "source": [
    "reduce"
   ]
  },
  {
   "cell_type": "code",
   "execution_count": 18,
   "id": "bce9e16f-bd8e-4112-b3c9-ed956cee41c5",
   "metadata": {},
   "outputs": [],
   "source": [
    "from functools import reduce "
   ]
  },
  {
   "cell_type": "code",
   "execution_count": 20,
   "id": "825aef10-d7a8-483b-909c-11f3465bda74",
   "metadata": {},
   "outputs": [
    {
     "data": {
      "text/plain": [
       "<function _functools.reduce>"
      ]
     },
     "execution_count": 20,
     "metadata": {},
     "output_type": "execute_result"
    }
   ],
   "source": [
    "reduce "
   ]
  },
  {
   "cell_type": "code",
   "execution_count": 21,
   "id": "f0f53606-6726-429c-ae2e-577f22ca3ac5",
   "metadata": {},
   "outputs": [],
   "source": [
    "import numpy as np"
   ]
  },
  {
   "cell_type": "code",
   "execution_count": 23,
   "id": "9b95c047-ef00-4c35-aaa2-8d3f82032114",
   "metadata": {},
   "outputs": [],
   "source": [
    "import numpy\n"
   ]
  },
  {
   "cell_type": "code",
   "execution_count": null,
   "id": "352f2193-c5e5-400f-8cbd-b45081c0d7e9",
   "metadata": {},
   "outputs": [],
   "source": [
    "numpy.absolute()"
   ]
  },
  {
   "cell_type": "code",
   "execution_count": null,
   "id": "7d6f8da9-e8b2-4ac7-a50a-82897a0a2e71",
   "metadata": {},
   "outputs": [],
   "source": [
    "np.absolute()"
   ]
  },
  {
   "cell_type": "code",
   "execution_count": 24,
   "id": "9f9673dd-4750-43a6-b81a-451bc0b4c5a2",
   "metadata": {},
   "outputs": [],
   "source": [
    "from functools import reduce "
   ]
  },
  {
   "cell_type": "code",
   "execution_count": 27,
   "id": "a1d8c907-1d92-43d9-9339-f20f33571a9c",
   "metadata": {},
   "outputs": [
    {
     "data": {
      "text/plain": [
       "120"
      ]
     },
     "execution_count": 27,
     "metadata": {},
     "output_type": "execute_result"
    }
   ],
   "source": [
    "reduce(lambda x,y:x*y,(1,2,3,4,5))"
   ]
  },
  {
   "cell_type": "code",
   "execution_count": 28,
   "id": "2ab448a3-e2b6-477e-bb96-23196f889bb9",
   "metadata": {},
   "outputs": [
    {
     "data": {
      "text/plain": [
       "120"
      ]
     },
     "execution_count": 28,
     "metadata": {},
     "output_type": "execute_result"
    }
   ],
   "source": [
    "reduce(lambda x,y:x*y,(1,2,3,4,5))"
   ]
  },
  {
   "cell_type": "code",
   "execution_count": null,
   "id": "dd568159-94fe-403f-a995-3d763e5ba6eb",
   "metadata": {},
   "outputs": [],
   "source": []
  }
 ],
 "metadata": {
  "kernelspec": {
   "display_name": "Python 3 (ipykernel)",
   "language": "python",
   "name": "python3"
  },
  "language_info": {
   "codemirror_mode": {
    "name": "ipython",
    "version": 3
   },
   "file_extension": ".py",
   "mimetype": "text/x-python",
   "name": "python",
   "nbconvert_exporter": "python",
   "pygments_lexer": "ipython3",
   "version": "3.11.7"
  }
 },
 "nbformat": 4,
 "nbformat_minor": 5
}
