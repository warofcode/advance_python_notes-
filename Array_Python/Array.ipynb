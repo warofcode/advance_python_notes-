{
 "cells": [
  {
   "cell_type": "markdown",
   "id": "4c9b8482-a61e-4862-8edb-3dd2fe4b781c",
   "metadata": {},
   "source": [
    "# array(typecode [, initializer]) -> array"
   ]
  },
  {
   "cell_type": "code",
   "execution_count": 4,
   "id": "75a345d1-613c-49b5-8744-d60c623b46e6",
   "metadata": {},
   "outputs": [],
   "source": [
    "import array\n",
    "my_array = array.array(\"i\",[1,2,3,4,5,6])"
   ]
  },
  {
   "cell_type": "code",
   "execution_count": 6,
   "id": "8df00f64-aa0a-44ab-8d6f-f91ebdedc817",
   "metadata": {},
   "outputs": [
    {
     "name": "stdout",
     "output_type": "stream",
     "text": [
      "array('i', [1, 2, 3, 4, 5, 6])\n"
     ]
    }
   ],
   "source": [
    "print(my_array)"
   ]
  },
  {
   "cell_type": "code",
   "execution_count": 7,
   "id": "2cdc20f3-4cb9-4783-8f79-bca657f32fc2",
   "metadata": {},
   "outputs": [
    {
     "data": {
      "text/plain": [
       "array.array"
      ]
     },
     "execution_count": 7,
     "metadata": {},
     "output_type": "execute_result"
    }
   ],
   "source": [
    "type(my_array)"
   ]
  },
  {
   "cell_type": "code",
   "execution_count": 8,
   "id": "ed5f965c-415b-43a7-b081-102e29af4138",
   "metadata": {},
   "outputs": [
    {
     "data": {
      "text/plain": [
       "1"
      ]
     },
     "execution_count": 8,
     "metadata": {},
     "output_type": "execute_result"
    }
   ],
   "source": [
    "my_array[0]"
   ]
  },
  {
   "cell_type": "code",
   "execution_count": 9,
   "id": "d140b591-efca-4285-bb65-f0c31dc56f9b",
   "metadata": {},
   "outputs": [
    {
     "data": {
      "text/plain": [
       "6"
      ]
     },
     "execution_count": 9,
     "metadata": {},
     "output_type": "execute_result"
    }
   ],
   "source": [
    "my_array[-1]"
   ]
  },
  {
   "cell_type": "code",
   "execution_count": 10,
   "id": "efbdfae3-952f-4454-9f2d-4f3ae98a4655",
   "metadata": {},
   "outputs": [
    {
     "data": {
      "text/plain": [
       "array('i', [2, 4, 6])"
      ]
     },
     "execution_count": 10,
     "metadata": {},
     "output_type": "execute_result"
    }
   ],
   "source": [
    "my_array[1:6:2]"
   ]
  },
  {
   "cell_type": "code",
   "execution_count": 15,
   "id": "e40b298b-b145-47cd-bc71-e528cee5547c",
   "metadata": {},
   "outputs": [],
   "source": [
    "my_array = array.array(\"f\",[2.5,3.5])"
   ]
  },
  {
   "cell_type": "code",
   "execution_count": 16,
   "id": "8e16f426-4bb5-45a9-8fd9-43a717ffea1b",
   "metadata": {},
   "outputs": [
    {
     "data": {
      "text/plain": [
       "array('f', [2.5, 3.5])"
      ]
     },
     "execution_count": 16,
     "metadata": {},
     "output_type": "execute_result"
    }
   ],
   "source": [
    "my_array"
   ]
  },
  {
   "cell_type": "code",
   "execution_count": 20,
   "id": "ea5e786c-ad94-4eeb-8481-b95cd17a8407",
   "metadata": {},
   "outputs": [],
   "source": [
    "my_array = array.array(\"u\",\"this\")"
   ]
  },
  {
   "cell_type": "code",
   "execution_count": 21,
   "id": "0ff6ac87-8ca9-442d-a813-cc299955ef3c",
   "metadata": {},
   "outputs": [
    {
     "data": {
      "text/plain": [
       "array('u', 'this')"
      ]
     },
     "execution_count": 21,
     "metadata": {},
     "output_type": "execute_result"
    }
   ],
   "source": [
    "my_array"
   ]
  },
  {
   "cell_type": "code",
   "execution_count": null,
   "id": "1865bf03-2d79-432f-b65d-11d284da35bd",
   "metadata": {},
   "outputs": [],
   "source": []
  }
 ],
 "metadata": {
  "kernelspec": {
   "display_name": "Python 3 (ipykernel)",
   "language": "python",
   "name": "python3"
  },
  "language_info": {
   "codemirror_mode": {
    "name": "ipython",
    "version": 3
   },
   "file_extension": ".py",
   "mimetype": "text/x-python",
   "name": "python",
   "nbconvert_exporter": "python",
   "pygments_lexer": "ipython3",
   "version": "3.11.7"
  }
 },
 "nbformat": 4,
 "nbformat_minor": 5
}
