{
 "cells": [
  {
   "cell_type": "markdown",
   "id": "4c9bbbc9",
   "metadata": {},
   "source": [
    "# What is the difference Between is and == operator ?"
   ]
  },
  {
   "cell_type": "markdown",
   "id": "b81a8707",
   "metadata": {},
   "source": [
    "In Python, is and == are two comparison operators used to test for equality, but they differ in their behavior and what they actually test.\n",
    "\n",
    "== is the equality operator and is used to compare the values of two objects. It checks whether the values of the objects are the same, regardless of their identity."
   ]
  },
  {
   "cell_type": "code",
   "execution_count": 39,
   "id": "55e8a8ac",
   "metadata": {},
   "outputs": [],
   "source": [
    "number1 = 9191\n",
    "number2 = number1"
   ]
  },
  {
   "cell_type": "code",
   "execution_count": 4,
   "id": "a337411e",
   "metadata": {},
   "outputs": [
    {
     "name": "stdout",
     "output_type": "stream",
     "text": [
      "True\n"
     ]
    }
   ],
   "source": [
    "print(number1==number2) # this is true becuse they have same value"
   ]
  },
  {
   "cell_type": "code",
   "execution_count": 5,
   "id": "36b51d2e",
   "metadata": {},
   "outputs": [
    {
     "name": "stdout",
     "output_type": "stream",
     "text": [
      "True\n"
     ]
    }
   ],
   "source": [
    "print(number1 is number2) # # this is also true because they have same reference"
   ]
  },
  {
   "cell_type": "code",
   "execution_count": 6,
   "id": "ecba9cc8",
   "metadata": {},
   "outputs": [
    {
     "name": "stdout",
     "output_type": "stream",
     "text": [
      "1430938382832\n",
      "1430938382832\n"
     ]
    }
   ],
   "source": [
    "print(id(number1))\n",
    "print(id(number2))"
   ]
  },
  {
   "cell_type": "code",
   "execution_count": 7,
   "id": "1804571c",
   "metadata": {},
   "outputs": [],
   "source": [
    "List1 = [1,2,3,4]\n",
    "List2 = [1,2,3,4]"
   ]
  },
  {
   "cell_type": "code",
   "execution_count": 8,
   "id": "77d28723",
   "metadata": {},
   "outputs": [
    {
     "name": "stdout",
     "output_type": "stream",
     "text": [
      "True\n"
     ]
    }
   ],
   "source": [
    "print(List1==List2)"
   ]
  },
  {
   "cell_type": "code",
   "execution_count": 9,
   "id": "dab64181",
   "metadata": {},
   "outputs": [
    {
     "name": "stdout",
     "output_type": "stream",
     "text": [
      "False\n"
     ]
    }
   ],
   "source": [
    "print(List1 is List2)"
   ]
  },
  {
   "cell_type": "code",
   "execution_count": 11,
   "id": "d8db630b",
   "metadata": {},
   "outputs": [
    {
     "name": "stdout",
     "output_type": "stream",
     "text": [
      "1430938250304\n",
      "1430896951168\n"
     ]
    }
   ],
   "source": [
    "print(id(List1))\n",
    "print(id(List2))"
   ]
  },
  {
   "cell_type": "code",
   "execution_count": 12,
   "id": "17ea928c",
   "metadata": {},
   "outputs": [],
   "source": [
    "tuple1 = (1,2,3)\n",
    "tuple2 = (1,2,3)"
   ]
  },
  {
   "cell_type": "code",
   "execution_count": 13,
   "id": "dbaee05d",
   "metadata": {},
   "outputs": [
    {
     "name": "stdout",
     "output_type": "stream",
     "text": [
      "True\n"
     ]
    }
   ],
   "source": [
    "print(tuple1==tuple2)"
   ]
  },
  {
   "cell_type": "code",
   "execution_count": 14,
   "id": "5308256d",
   "metadata": {},
   "outputs": [
    {
     "name": "stdout",
     "output_type": "stream",
     "text": [
      "False\n"
     ]
    }
   ],
   "source": [
    "print(tuple1 is tuple2)"
   ]
  },
  {
   "cell_type": "code",
   "execution_count": 15,
   "id": "0f4190b3",
   "metadata": {},
   "outputs": [
    {
     "name": "stdout",
     "output_type": "stream",
     "text": [
      "1430938017152\n",
      "1430938052160\n"
     ]
    }
   ],
   "source": [
    "print(id(tuple1))\n",
    "print(id(tuple2))"
   ]
  },
  {
   "cell_type": "code",
   "execution_count": 16,
   "id": "e68990b5",
   "metadata": {},
   "outputs": [],
   "source": [
    "set1 = {1,2,3}\n",
    "set2 = {1,2,3}"
   ]
  },
  {
   "cell_type": "code",
   "execution_count": 17,
   "id": "4e0c6a0f",
   "metadata": {},
   "outputs": [
    {
     "name": "stdout",
     "output_type": "stream",
     "text": [
      "True\n"
     ]
    }
   ],
   "source": [
    "print(set1==set2)"
   ]
  },
  {
   "cell_type": "code",
   "execution_count": 18,
   "id": "420e4e12",
   "metadata": {},
   "outputs": [
    {
     "name": "stdout",
     "output_type": "stream",
     "text": [
      "False\n"
     ]
    }
   ],
   "source": [
    "print(set1 is set2)"
   ]
  },
  {
   "cell_type": "code",
   "execution_count": 20,
   "id": "3f78085d",
   "metadata": {},
   "outputs": [
    {
     "name": "stdout",
     "output_type": "stream",
     "text": [
      "1430938444064\n",
      "1430938443840\n"
     ]
    }
   ],
   "source": [
    "print(id(set1))\n",
    "print(id(set2))"
   ]
  },
  {
   "cell_type": "markdown",
   "id": "1659b9dc",
   "metadata": {},
   "source": [
    "if you want to create same reference of list than we should use = operator"
   ]
  },
  {
   "cell_type": "code",
   "execution_count": 21,
   "id": "87b8096e",
   "metadata": {},
   "outputs": [],
   "source": [
    "mylist1=[\"rohit\",1,3]\n",
    "\n",
    "mylist2 = mylist1"
   ]
  },
  {
   "cell_type": "code",
   "execution_count": 22,
   "id": "b1ff2517",
   "metadata": {},
   "outputs": [
    {
     "name": "stdout",
     "output_type": "stream",
     "text": [
      "1430938040768\n",
      "1430938040768\n"
     ]
    }
   ],
   "source": [
    "print(id(mylist1))\n",
    "print(id(mylist2))"
   ]
  },
  {
   "cell_type": "code",
   "execution_count": 23,
   "id": "a90fb455",
   "metadata": {},
   "outputs": [],
   "source": [
    "# now we will change mylist1 \n",
    "\n",
    "mylist1.append(\"new_item\")"
   ]
  },
  {
   "cell_type": "code",
   "execution_count": 24,
   "id": "942e21a3",
   "metadata": {},
   "outputs": [
    {
     "name": "stdout",
     "output_type": "stream",
     "text": [
      "['rohit', 1, 3, 'new_item']\n"
     ]
    }
   ],
   "source": [
    "print(mylist2)"
   ]
  },
  {
   "cell_type": "code",
   "execution_count": 25,
   "id": "d2d8a945",
   "metadata": {},
   "outputs": [],
   "source": [
    "# as you can see above = operator did not copy the object insted it just create the same reference"
   ]
  },
  {
   "cell_type": "code",
   "execution_count": 26,
   "id": "ba76eb95",
   "metadata": {},
   "outputs": [],
   "source": [
    "mylist2.append(\"my_again_item_in_list2\")"
   ]
  },
  {
   "cell_type": "code",
   "execution_count": 27,
   "id": "92f0f8ef",
   "metadata": {},
   "outputs": [
    {
     "name": "stdout",
     "output_type": "stream",
     "text": [
      "['rohit', 1, 3, 'new_item', 'my_again_item_in_list2']\n"
     ]
    }
   ],
   "source": [
    "print(mylist1)"
   ]
  },
  {
   "cell_type": "code",
   "execution_count": 31,
   "id": "aa28648d",
   "metadata": {},
   "outputs": [],
   "source": [
    "# whatever we are changing in mylist1 or mylist2 we are getting the same result in both the lists"
   ]
  },
  {
   "cell_type": "code",
   "execution_count": 33,
   "id": "c839f0db",
   "metadata": {},
   "outputs": [],
   "source": [
    "list10=[\"rohit\"]"
   ]
  },
  {
   "cell_type": "code",
   "execution_count": 34,
   "id": "e2d7319e",
   "metadata": {},
   "outputs": [],
   "source": [
    "list11 = list10"
   ]
  },
  {
   "cell_type": "code",
   "execution_count": 36,
   "id": "2677c9bc",
   "metadata": {},
   "outputs": [],
   "source": [
    "list12 = list11"
   ]
  },
  {
   "cell_type": "code",
   "execution_count": 37,
   "id": "e224367a",
   "metadata": {},
   "outputs": [],
   "source": [
    "# now we will upend item in list12 only lets see what happens\n",
    "\n",
    "list12.append(\"new_member\")"
   ]
  },
  {
   "cell_type": "code",
   "execution_count": 38,
   "id": "851b09d7",
   "metadata": {},
   "outputs": [
    {
     "name": "stdout",
     "output_type": "stream",
     "text": [
      "['rohit', 'new_member']\n",
      "['rohit', 'new_member']\n",
      "['rohit', 'new_member']\n"
     ]
    }
   ],
   "source": [
    "print(list10)\n",
    "print(list11)\n",
    "print(list12)"
   ]
  },
  {
   "cell_type": "markdown",
   "id": "e823bd52",
   "metadata": {},
   "source": [
    "# Conclusion"
   ]
  },
  {
   "cell_type": "markdown",
   "id": "b6ae4f49",
   "metadata": {},
   "source": [
    "== checks value\n",
    "\n",
    "is cheks identity"
   ]
  },
  {
   "cell_type": "code",
   "execution_count": null,
   "id": "1eec7fba",
   "metadata": {},
   "outputs": [],
   "source": []
  }
 ],
 "metadata": {
  "kernelspec": {
   "display_name": "Python 3 (ipykernel)",
   "language": "python",
   "name": "python3"
  },
  "language_info": {
   "codemirror_mode": {
    "name": "ipython",
    "version": 3
   },
   "file_extension": ".py",
   "mimetype": "text/x-python",
   "name": "python",
   "nbconvert_exporter": "python",
   "pygments_lexer": "ipython3",
   "version": "3.11.5"
  }
 },
 "nbformat": 4,
 "nbformat_minor": 5
}
