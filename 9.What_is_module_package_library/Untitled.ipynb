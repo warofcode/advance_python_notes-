{
 "cells": [
  {
   "cell_type": "code",
   "execution_count": 1,
   "id": "711ab163",
   "metadata": {},
   "outputs": [
    {
     "name": "stdout",
     "output_type": "stream",
     "text": [
      "x is positive\n"
     ]
    }
   ],
   "source": [
    "x = 10\n",
    "\n",
    "# Check if x is greater than 0\n",
    "assert x > 0, \"x should be greater than 0\"\n",
    "\n",
    "print(\"x is positive\")\n"
   ]
  },
  {
   "cell_type": "markdown",
   "id": "a87e3d37",
   "metadata": {},
   "source": [
    "In Python, the assert statement is used as a debugging aid to test whether a condition is true or false. It takes an expression and an optional message as arguments. If the expression evaluates to True, the assert statement does nothing and the program continues execution as normal. However, if the expression evaluates to False, an AssertionError exception is raised with the optional message (if provided)."
   ]
  },
  {
   "cell_type": "markdown",
   "id": "5c3ca566",
   "metadata": {},
   "source": [
    "assert expression, message\n"
   ]
  },
  {
   "cell_type": "markdown",
   "id": "ab1254d2",
   "metadata": {},
   "source": [
    "expression: This is the condition that you want to test. It can be any valid Python expression that evaluates to either True or False.\n",
    "\n",
    "\n",
    "message (optional): This is an optional message that will be displayed along with the AssertionError exception if the condition evaluates to False. It can be any object that can be converted to a string.\n",
    "\n",
    "\n",
    "Here's an example to illustrate how the assert statement works:"
   ]
  },
  {
   "cell_type": "code",
   "execution_count": 3,
   "id": "9ca68815",
   "metadata": {},
   "outputs": [
    {
     "ename": "AssertionError",
     "evalue": "x should be greater than 0",
     "output_type": "error",
     "traceback": [
      "\u001b[1;31m---------------------------------------------------------------------------\u001b[0m",
      "\u001b[1;31mAssertionError\u001b[0m                            Traceback (most recent call last)",
      "Cell \u001b[1;32mIn[3], line 4\u001b[0m\n\u001b[0;32m      1\u001b[0m x \u001b[38;5;241m=\u001b[39m \u001b[38;5;241m10\u001b[39m\n\u001b[0;32m      3\u001b[0m \u001b[38;5;66;03m# Check if x is greater than 0\u001b[39;00m\n\u001b[1;32m----> 4\u001b[0m \u001b[38;5;28;01massert\u001b[39;00m x \u001b[38;5;241m<\u001b[39m \u001b[38;5;241m0\u001b[39m, \u001b[38;5;124m\"\u001b[39m\u001b[38;5;124mx should be greater than 0\u001b[39m\u001b[38;5;124m\"\u001b[39m\n\u001b[0;32m      6\u001b[0m \u001b[38;5;28mprint\u001b[39m(\u001b[38;5;124m\"\u001b[39m\u001b[38;5;124mx is positive\u001b[39m\u001b[38;5;124m\"\u001b[39m)\n",
      "\u001b[1;31mAssertionError\u001b[0m: x should be greater than 0"
     ]
    }
   ],
   "source": [
    "x = 10\n",
    "\n",
    "# Check if x is greater than 0\n",
    "assert x < 0, \"x should be greater than 0\"\n",
    "\n",
    "print(\"x is positive\")\n"
   ]
  },
  {
   "cell_type": "markdown",
   "id": "93fef88b",
   "metadata": {},
   "source": [
    "# Use"
   ]
  },
  {
   "cell_type": "markdown",
   "id": "c447e2f8",
   "metadata": {},
   "source": [
    "The assert statement in Python is primarily used for debugging and testing purposes. Here are some common scenarios when you might use assert:"
   ]
  },
  {
   "cell_type": "code",
   "execution_count": null,
   "id": "f3c86c87",
   "metadata": {},
   "outputs": [],
   "source": []
  }
 ],
 "metadata": {
  "kernelspec": {
   "display_name": "Python 3 (ipykernel)",
   "language": "python",
   "name": "python3"
  },
  "language_info": {
   "codemirror_mode": {
    "name": "ipython",
    "version": 3
   },
   "file_extension": ".py",
   "mimetype": "text/x-python",
   "name": "python",
   "nbconvert_exporter": "python",
   "pygments_lexer": "ipython3",
   "version": "3.11.5"
  }
 },
 "nbformat": 4,
 "nbformat_minor": 5
}
