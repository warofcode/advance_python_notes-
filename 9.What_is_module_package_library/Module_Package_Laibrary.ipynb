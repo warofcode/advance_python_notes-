{
 "cells": [
  {
   "cell_type": "markdown",
   "id": "3e763477",
   "metadata": {},
   "source": [
    "# .....................................What is Module Package and library.............................."
   ]
  },
  {
   "cell_type": "markdown",
   "id": "3dc3bb84",
   "metadata": {},
   "source": [
    "# let's discuss the concepts of modules, packages, and libraries in Python."
   ]
  },
  {
   "cell_type": "markdown",
   "id": "4cc85aa7",
   "metadata": {},
   "source": [
    "# Module:"
   ]
  },
  {
   "cell_type": "markdown",
   "id": "408483da",
   "metadata": {},
   "source": [
    "1. In Python, a module is simply a file containing Python code. This code can define functions, classes, variables, and more.1. In Python, a module is simply a file containing Python code. This code can define functions, classes, variables, and more."
   ]
  },
  {
   "cell_type": "markdown",
   "id": "3808dcbb",
   "metadata": {},
   "source": [
    "2. Modules are used to organize Python code into logical units, making it easier to manage and reuse code across multiple projects."
   ]
  },
  {
   "cell_type": "markdown",
   "id": "72a21b57",
   "metadata": {},
   "source": [
    "3. You can create your own modules by writing Python code in a .py file and then import and use them in other Python scripts."
   ]
  },
  {
   "cell_type": "markdown",
   "id": "5c20c008",
   "metadata": {},
   "source": [
    "4. Additionally, Python comes with a standard library of modules that provide a wide range of functionality, such as math, random, datetime, etc."
   ]
  },
  {
   "cell_type": "markdown",
   "id": "172676eb",
   "metadata": {},
   "source": [
    "5. To use a module in your Python script, you typically use the import statement followed by the name of the module."
   ]
  },
  {
   "cell_type": "markdown",
   "id": "92400357",
   "metadata": {},
   "source": [
    "# Example to import module:"
   ]
  },
  {
   "cell_type": "code",
   "execution_count": 1,
   "id": "d2512d1d",
   "metadata": {},
   "outputs": [],
   "source": [
    "import math"
   ]
  },
  {
   "cell_type": "markdown",
   "id": "33157cac",
   "metadata": {},
   "source": [
    "# Package:"
   ]
  },
  {
   "cell_type": "markdown",
   "id": "0702d690",
   "metadata": {},
   "source": [
    "1. A package in Python is a directory that contains one or more Python modules and an __init__.py file."
   ]
  },
  {
   "cell_type": "markdown",
   "id": "4b55dabb",
   "metadata": {},
   "source": [
    "2. The __init__.py file is used to indicate that the directory should be treated as a package, and it can also contain initialization code for the package.\n",
    "\n"
   ]
  },
  {
   "cell_type": "markdown",
   "id": "8cb7a203",
   "metadata": {},
   "source": [
    "3. Packages are used to organize modules into hierarchical structures, making it easier to manage large codebases and promote code reusability"
   ]
  },
  {
   "cell_type": "markdown",
   "id": "6e2cf9f0",
   "metadata": {},
   "source": [
    "4. Packages allow you to create namespaces, preventing naming conflicts between modules with the same name in different packages."
   ]
  },
  {
   "cell_type": "markdown",
   "id": "fd08a3e2",
   "metadata": {},
   "source": [
    "\n",
    "5. You can create your own packages by organizing your Python modules into directories and adding __init__.py files where necessary."
   ]
  },
  {
   "cell_type": "markdown",
   "id": "1b426e72",
   "metadata": {},
   "source": [
    "# Library:"
   ]
  },
  {
   "cell_type": "markdown",
   "id": "7f9cec4b",
   "metadata": {},
   "source": [
    "1. In the context of Python, a library is a collection of modules and packages that provide additional functionality beyond what is available in the Python standard library.\n"
   ]
  },
  {
   "cell_type": "markdown",
   "id": "9a7c2403",
   "metadata": {},
   "source": [
    "2. Libraries can be installed using package managers like pip or conda, and they can be either third-party libraries developed by other developers or internal libraries developed within an organization.\n"
   ]
  },
  {
   "cell_type": "markdown",
   "id": "2c92b4a8",
   "metadata": {},
   "source": [
    "3. Libraries often provide specific functionality or solve particular problems, such as web development, data analysis, machine learning, etc.\n"
   ]
  },
  {
   "cell_type": "markdown",
   "id": "2f04773a",
   "metadata": {},
   "source": [
    "4. Examples of popular Python libraries include NumPy for numerical computing, pandas for data manipulation, matplotlib for data visualization, Django for web development, TensorFlow for machine learning, and many more."
   ]
  },
  {
   "cell_type": "markdown",
   "id": "1da55fec",
   "metadata": {},
   "source": [
    "# Summary:"
   ]
  },
  {
   "cell_type": "markdown",
   "id": "b4fc5bae",
   "metadata": {},
   "source": [
    "In summary, modules are individual files containing Python code, packages are directories containing multiple modules and an __init__.py file, and libraries are collections of modules and packages that provide additional functionality beyond the Python standard library. These concepts are fundamental to organizing, managing, and reusing code in Python projects.\n",
    "\n",
    "\n",
    "\n",
    "\n",
    "\n",
    "\n"
   ]
  },
  {
   "cell_type": "code",
   "execution_count": 1,
   "id": "43ee9012",
   "metadata": {},
   "outputs": [],
   "source": [
    "import sys"
   ]
  },
  {
   "cell_type": "code",
   "execution_count": 3,
   "id": "8d6d9c98",
   "metadata": {},
   "outputs": [
    {
     "data": {
      "text/plain": [
       "'3.11.5 | packaged by Anaconda, Inc. | (main, Sep 11 2023, 13:26:23) [MSC v.1916 64 bit (AMD64)]'"
      ]
     },
     "execution_count": 3,
     "metadata": {},
     "output_type": "execute_result"
    }
   ],
   "source": [
    "sys.version"
   ]
  },
  {
   "cell_type": "code",
   "execution_count": null,
   "id": "a8418eef",
   "metadata": {},
   "outputs": [],
   "source": []
  }
 ],
 "metadata": {
  "kernelspec": {
   "display_name": "Python 3 (ipykernel)",
   "language": "python",
   "name": "python3"
  },
  "language_info": {
   "codemirror_mode": {
    "name": "ipython",
    "version": 3
   },
   "file_extension": ".py",
   "mimetype": "text/x-python",
   "name": "python",
   "nbconvert_exporter": "python",
   "pygments_lexer": "ipython3",
   "version": "3.11.5"
  }
 },
 "nbformat": 4,
 "nbformat_minor": 5
}
