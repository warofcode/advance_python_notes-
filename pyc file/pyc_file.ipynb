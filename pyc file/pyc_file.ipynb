{
 "cells": [
  {
   "cell_type": "markdown",
   "id": "433f053e",
   "metadata": {},
   "source": [
    "A .pyc file is a compiled bytecode file in Python. When you run a Python script, the interpreter first compiles the source code into bytecode before executing it. The bytecode is a lower-level representation of the code that is more efficient for the interpreter to execute.\n",
    "\n",
    "When a Python module is imported or a script is executed for the first time, the interpreter compiles the corresponding .py file into bytecode and saves it as a .pyc file. The .pyc file contains the bytecode version of the module or script, which can be executed directly by the interpreter without the need for recompilation.\n",
    "\n",
    "The .pyc file is created in the same directory as the .py file and has the same base name. For example, if you have a Python module named \"example.py,\" the compiled bytecode file will be \"example.pyc.\"\n",
    "\n",
    "The presence of a .pyc file allows subsequent imports or executions of the same module or script to be faster since the interpreter can directly load and execute the bytecode instead of recompiling the source code.\n",
    "\n",
    "It's important to note that the .pyc file is specific to the version of Python and the underlying platform. If the source code or the Python version changes, the .pyc file may become invalid, and the interpreter will recompile the code to generate a new .pyc file. Additionally, .pyc files are typically generated for modules and scripts but not for interactive Python code entered in the Python interpreter shell."
   ]
  },
  {
   "cell_type": "code",
   "execution_count": null,
   "id": "16a80a79",
   "metadata": {},
   "outputs": [],
   "source": [
    "# we have two files \n",
    "\n",
    "# 1. rohit.py\n",
    "\n",
    "# 2. rohit2.py\n",
    "\n",
    "\n",
    "# while we import rohit in rohit 2. it will create a folder in same directory __pycache__"
   ]
  }
 ],
 "metadata": {
  "kernelspec": {
   "display_name": "Python 3 (ipykernel)",
   "language": "python",
   "name": "python3"
  },
  "language_info": {
   "codemirror_mode": {
    "name": "ipython",
    "version": 3
   },
   "file_extension": ".py",
   "mimetype": "text/x-python",
   "name": "python",
   "nbconvert_exporter": "python",
   "pygments_lexer": "ipython3",
   "version": "3.9.12"
  }
 },
 "nbformat": 4,
 "nbformat_minor": 5
}
