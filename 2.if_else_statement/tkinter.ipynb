{
 "cells": [
  {
   "cell_type": "code",
   "execution_count": 2,
   "id": "852cf41d-a6fa-4acf-a03b-931652b528e7",
   "metadata": {},
   "outputs": [],
   "source": [
    "import tkinter \n",
    "from tkinter import messagebox\n",
    "import webbrowser\n",
    "\n",
    "def login():\n",
    "    username = user_name_entry.get()\n",
    "    userpassword = password_entry.get()\n",
    "\n",
    "    if username == \"Rohit\" and userpassword == \"Rohit@1234\":\n",
    "        webbrowser.open(\"www.google.com\")\n",
    "\n",
    "    else:\n",
    "        messagebox.showinfo(\"Access denid wrong username or passwod\")\n",
    "\n",
    "\n",
    "    \n",
    "\n",
    "root = tkinter.Tk()\n",
    "root.title(\"Login Program\")\n",
    "\n",
    "user_name_label = tkinter.Label(root,text=\"Username:\",font=(25))\n",
    "user_name_label.grid(row=0,column=0,padx = 25,pady=25,sticky=tkinter.W)\n",
    "\n",
    "user_name_entry = tkinter.Entry(root)\n",
    "user_name_entry.grid(row=0,column=1,padx = 25,pady=25)\n",
    "\n",
    "password_label = tkinter.Label(root,text=\"Userpassword:\",font=25)\n",
    "password_label.grid(row = 1,column =0,padx = 25,pady=25,sticky=tkinter.W)\n",
    "\n",
    "password_entry = tkinter.Entry(root,show=\"*\")\n",
    "password_entry.grid(row=1,column=1,padx=25,pady=25)\n",
    "\n",
    "\n",
    "login_button = tkinter.Button(text = \"click to login\", background= \"powderblue\",command=login)\n",
    "login_button.grid(row=2,columnspan=2, pady=25,)\n",
    "\n",
    "\n",
    "\n",
    "\n",
    "\n",
    "\n",
    "root.mainloop()\n"
   ]
  },
  {
   "cell_type": "code",
   "execution_count": null,
   "id": "e168f4c8-b29c-4e6f-b134-5afaa9d6307d",
   "metadata": {},
   "outputs": [],
   "source": []
  },
  {
   "cell_type": "code",
   "execution_count": null,
   "id": "05e5c90e-7da8-406c-a364-bc6d641bc38c",
   "metadata": {},
   "outputs": [],
   "source": []
  }
 ],
 "metadata": {
  "kernelspec": {
   "display_name": "Python 3 (ipykernel)",
   "language": "python",
   "name": "python3"
  },
  "language_info": {
   "codemirror_mode": {
    "name": "ipython",
    "version": 3
   },
   "file_extension": ".py",
   "mimetype": "text/x-python",
   "name": "python",
   "nbconvert_exporter": "python",
   "pygments_lexer": "ipython3",
   "version": "3.11.7"
  }
 },
 "nbformat": 4,
 "nbformat_minor": 5
}
