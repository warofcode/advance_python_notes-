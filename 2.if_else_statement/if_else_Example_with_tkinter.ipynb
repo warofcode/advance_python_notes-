{
 "cells": [
  {
   "cell_type": "markdown",
   "id": "9c7c9180-5960-446e-82da-0d22a182fd58",
   "metadata": {},
   "source": [
    "First we will write a simple program in which we take user name and password togehter from user "
   ]
  },
  {
   "cell_type": "code",
   "execution_count": 1,
   "id": "e92c604a-f4bf-4de7-a67b-e55920360625",
   "metadata": {},
   "outputs": [
    {
     "name": "stdin",
     "output_type": "stream",
     "text": [
      "Enter your name :  kdfjk\n",
      "Enter your password :  jdf\n"
     ]
    },
    {
     "name": "stdout",
     "output_type": "stream",
     "text": [
      "wrong username access denied \n"
     ]
    }
   ],
   "source": [
    "import webbrowser\n",
    "import time\n",
    "user_name = \"Rohit\"\n",
    "user_password = \"Rohit@1234\"\n",
    "input_name = input(\"Enter your name : \").capitalize()\n",
    "input_password = input(\"Enter your password : \")\n",
    "\n",
    "if user_name == input_name:\n",
    "    if user_password ==input_password:\n",
    "        print(\"please wait... we are opening tab for you\")\n",
    "        time.sleep(3)\n",
    "        webbrowser.open(\"www.google.com\")\n",
    "\n",
    "    else:\n",
    "        print(\"wrong password permission denied\")\n",
    "\n",
    "else:\n",
    "\n",
    "    print(\"wrong username access denied \")\n",
    "        \n",
    "    \n",
    "\n",
    "# what if we dont want to take password if user name input by  user is incorrect"
   ]
  },
  {
   "cell_type": "markdown",
   "id": "fb8ebd36-916e-4c5a-a917-3b6feab8d47f",
   "metadata": {},
   "source": [
    "Second we take user password only if username is input by user is correct "
   ]
  },
  {
   "cell_type": "code",
   "execution_count": 2,
   "id": "82d48ee8-09e9-44b3-aa8f-6851456b1c17",
   "metadata": {},
   "outputs": [
    {
     "name": "stdin",
     "output_type": "stream",
     "text": [
      "Enter your name :  djf\n"
     ]
    },
    {
     "name": "stdout",
     "output_type": "stream",
     "text": [
      "wrong username access denied \n"
     ]
    }
   ],
   "source": [
    "import webbrowser\n",
    "import time\n",
    "user_name = \"Rohit\"\n",
    "user_password = \"Rohit@1234\"\n",
    "input_name = input(\"Enter your name : \").capitalize()\n",
    "\n",
    "\n",
    "if user_name == input_name:\n",
    "    input_password = input(\"Enter your password : \")\n",
    "    if user_password ==input_password:\n",
    "        print(\"please wait... we are opening tab for you\")\n",
    "        time.sleep(3)\n",
    "        webbrowser.open(\"www.google.com\")\n",
    "\n",
    "    else:\n",
    "        print(\"wrong password permission denied\")\n",
    "\n",
    "else:\n",
    "\n",
    "    print(\"wrong username access denied \")\n",
    "\n",
    "# what if we want to take input until user put right password\n",
    "# for that we can use while loop\n",
    "        "
   ]
  },
  {
   "cell_type": "markdown",
   "id": "b7f3d8db-bdfc-45d9-98da-9b8b76c88316",
   "metadata": {},
   "source": [
    "We want to take input infinite time until user put write user name and password"
   ]
  },
  {
   "cell_type": "code",
   "execution_count": 1,
   "id": "6f3e6e13-bb0d-4ab2-a9bd-bc33198dbc7d",
   "metadata": {},
   "outputs": [
    {
     "name": "stdin",
     "output_type": "stream",
     "text": [
      "Enter your name :  djfkd\n",
      "Enter your name :  fjdkjfk\n"
     ]
    },
    {
     "name": "stdout",
     "output_type": "stream",
     "text": [
      "wrong username access denied \n"
     ]
    },
    {
     "name": "stdin",
     "output_type": "stream",
     "text": [
      "Enter your name :  rohit\n",
      "Enter your password :  1222\n"
     ]
    },
    {
     "name": "stdout",
     "output_type": "stream",
     "text": [
      "wrong password permission denied\n"
     ]
    }
   ],
   "source": [
    "import webbrowser\n",
    "import time\n",
    "user_name = \"Rohit\"\n",
    "user_password = \"Rohit@1234\"\n",
    "input_name = input(\"Enter your name : \").capitalize()\n",
    "\n",
    "while user_name !=input_name:\n",
    "    input_name = input(\"Enter your name : \").capitalize()\n",
    "    \n",
    "\n",
    "    if user_name == input_name:\n",
    "        input_password = input(\"Enter your password : \")\n",
    "        if user_password ==input_password:\n",
    "            print(\"please wait... we are opening tab for you\")\n",
    "            time.sleep(3)\n",
    "            webbrowser.open(\"www.google.com\")\n",
    "    \n",
    "        else:\n",
    "            print(\"wrong password permission denied\")\n",
    "    \n",
    "    else:\n",
    "    \n",
    "        print(\"wrong username access denied \")\n",
    "     "
   ]
  },
  {
   "cell_type": "code",
   "execution_count": 18,
   "id": "2e3de499-9286-4b85-bed7-2f1ca3d0845c",
   "metadata": {},
   "outputs": [
    {
     "name": "stdout",
     "output_type": "stream",
     "text": [
      "that\n"
     ]
    }
   ],
   "source": [
    "if []:\n",
    "    print(\"this\")\n",
    "else:\n",
    "    print(\"that\")"
   ]
  },
  {
   "cell_type": "code",
   "execution_count": 2,
   "id": "7336f7df-1d70-4396-bac3-35eb475927ba",
   "metadata": {},
   "outputs": [],
   "source": [
    "import tkinter as tk\n",
    "from tkinter import messagebox\n",
    "import webbrowser\n",
    "\n",
    "def login():\n",
    "    username = username_entry.get()\n",
    "    password = password_entry.get()\n",
    "    if username == \"Rohit\" and password == \"Rohit@1234\":\n",
    "        webbrowser.open(\"https://www.google.com\")  # Change the URL to your desired website\n",
    "    else:\n",
    "        messagebox.showinfo(\"Permission Denied\", \"Access Denied: Invalid username or password\")\n",
    "\n",
    "# Create the main window\n",
    "root = tk.Tk()\n",
    "root.title(\"My_Login_program\")\n",
    "\n",
    "# Create and place labels and entry fields for username and password\n",
    "username_label = tk.Label(root, text=\"Username:\")\n",
    "username_label.grid(row=0, column=0, padx=10, pady=5, sticky=tk.W)\n",
    "\n",
    "username_entry = tk.Entry(root)\n",
    "username_entry.grid(row=0, column=1, padx=10, pady=5)\n",
    "\n",
    "password_label = tk.Label(root, text=\"Password:\")\n",
    "password_label.grid(row=1, column=0, padx=10, pady=5, sticky=tk.W)\n",
    "\n",
    "password_entry = tk.Entry(root, show=\"*\")\n",
    "password_entry.grid(row=1, column=1, padx=10, pady=5)\n",
    "\n",
    "# Create and place the login button\n",
    "login_button = tk.Button(root, text=\"Click_To_Login\", command=login)\n",
    "login_button.grid(row=2, columnspan=2, pady=10)\n",
    "\n",
    "# Run the Tkinter event loop\n",
    "root.mainloop()\n"
   ]
  },
  {
   "cell_type": "code",
   "execution_count": null,
   "id": "0ff0a97e-3874-4bed-8ab3-93a516ecf35b",
   "metadata": {},
   "outputs": [],
   "source": []
  }
 ],
 "metadata": {
  "kernelspec": {
   "display_name": "Python 3 (ipykernel)",
   "language": "python",
   "name": "python3"
  },
  "language_info": {
   "codemirror_mode": {
    "name": "ipython",
    "version": 3
   },
   "file_extension": ".py",
   "mimetype": "text/x-python",
   "name": "python",
   "nbconvert_exporter": "python",
   "pygments_lexer": "ipython3",
   "version": "3.11.7"
  }
 },
 "nbformat": 4,
 "nbformat_minor": 5
}
