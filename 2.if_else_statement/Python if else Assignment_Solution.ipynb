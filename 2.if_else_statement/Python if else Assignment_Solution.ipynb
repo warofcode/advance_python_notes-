{
 "cells": [
  {
   "cell_type": "raw",
   "id": "c783e984-6532-4074-9206-540f81a5c5cb",
   "metadata": {},
   "source": [
    "-------------------------------------Python if else Assignment_Solution--------------------------------------------"
   ]
  },
  {
   "cell_type": "raw",
   "id": "c733dfbf-0127-4f2f-8252-47a75f657a92",
   "metadata": {},
   "source": [
    "Q1. Write a program to calculate the electricity bill \n",
    "using only if statement? (accept number of unit from user) \n",
    "according to the following criteria:\n",
    " Unit                            Price \n",
    "First 100                     units no charge\n",
    "Next 100                      units Rs 5 per unit\n",
    "After 200                     units Rs 10 per unit\n",
    "(For example, if input unit is 350 than total bill amount is Rs2000). Lets explain…\n",
    "For first 100 no charges\n",
    "\n",
    "Now you have 250 unit remaining\n",
    "\n",
    "100-200 you need to pay – 100*5 = 500\n",
    "Now 200-100 you need to pay 150*10 = 1500\n",
    "Total = 500+1500 = 2000"
   ]
  },
  {
   "cell_type": "code",
   "execution_count": 43,
   "id": "4806ff49-a668-453f-abb7-ab2fdc9be965",
   "metadata": {},
   "outputs": [
    {
     "name": "stdin",
     "output_type": "stream",
     "text": [
      "Enter the number of units:  350\n"
     ]
    },
    {
     "name": "stdout",
     "output_type": "stream",
     "text": [
      "Total bill amount is Rs 2000\n"
     ]
    }
   ],
   "source": [
    "units = int(input(\"Enter the number of units: \"))\n",
    "bill = 0\n",
    "\n",
    "if units > 200:\n",
    "    bill += (units - 200) * 10\n",
    "    units = 200        # we are changing unit to 200 (if bill is greater than 200, so in both cases if statement will be true(if bill>200) ) \n",
    "if units > 100:\n",
    "    bill += (units - 100) * 5\n",
    "\n",
    "print(f\"Total bill amount is Rs {bill}\")\n"
   ]
  },
  {
   "cell_type": "code",
   "execution_count": null,
   "id": "618dce76-0938-4bad-9cb1-24ba20cca85b",
   "metadata": {},
   "outputs": [],
   "source": []
  },
  {
   "cell_type": "code",
   "execution_count": null,
   "id": "27701580-b36f-4d73-861a-bdd7cfacacd6",
   "metadata": {},
   "outputs": [],
   "source": []
  }
 ],
 "metadata": {
  "kernelspec": {
   "display_name": "Python 3 (ipykernel)",
   "language": "python",
   "name": "python3"
  },
  "language_info": {
   "codemirror_mode": {
    "name": "ipython",
    "version": 3
   },
   "file_extension": ".py",
   "mimetype": "text/x-python",
   "name": "python",
   "nbconvert_exporter": "python",
   "pygments_lexer": "ipython3",
   "version": "3.11.7"
  }
 },
 "nbformat": 4,
 "nbformat_minor": 5
}
