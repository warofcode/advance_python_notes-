{
 "cells": [
  {
   "cell_type": "markdown",
   "id": "963f0967-bc21-445d-b9bd-6f16488508ac",
   "metadata": {},
   "source": [
    "                                                        # Python Conditional Statement #"
   ]
  },
  {
   "cell_type": "markdown",
   "id": "a1600b10-6962-4e27-a4e9-a313f5db01b8",
   "metadata": {},
   "source": [
    "."
   ]
  },
  {
   "cell_type": "markdown",
   "id": "56ebc589-45b7-4d8c-9eb0-6663ef6e38e0",
   "metadata": {},
   "source": [
    "In Python, conditional statements are used to execute different actions based on whether a certain condition evaluates to true or false. The main conditional statements in Python are if, elif (short for \"else if\"), and else."
   ]
  },
  {
   "cell_type": "markdown",
   "id": "bdbb8c0d-bb12-4b8c-8054-d417fbc3f112",
   "metadata": {},
   "source": [
    "# 1. if statement:"
   ]
  },
  {
   "cell_type": "markdown",
   "id": "e9d8f8c9-7f61-42b9-b300-de0b0f87d0c8",
   "metadata": {},
   "source": [
    "This is used to execute a block of code if a condition is true. If the condition is false, the code block will be skipped."
   ]
  },
  {
   "cell_type": "markdown",
   "id": "dfdae4b1-0579-46c6-a486-80e0b810f495",
   "metadata": {},
   "source": [
    "if condition:\n",
    "\n",
    "    # code block to execute if condition is true\n",
    "    \n",
    "    # or pass statement to fill up the empty block \n",
    "    \n",
    "    pass\n"
   ]
  },
  {
   "cell_type": "code",
   "execution_count": 5,
   "id": "9bb9bb5a-095a-4342-8898-dee6867e3780",
   "metadata": {},
   "outputs": [],
   "source": [
    "if variable1 == variable2:\n",
    "    pass           # to fill up the empty block"
   ]
  },
  {
   "cell_type": "code",
   "execution_count": 14,
   "id": "23f8108e-4774-4682-a634-bf2230845558",
   "metadata": {},
   "outputs": [
    {
     "name": "stdout",
     "output_type": "stream",
     "text": [
      "Both variables are equal\n"
     ]
    }
   ],
   "source": [
    "variable1 = 33\n",
    "variable2 = 33\n",
    "if variable1 == variable2:\n",
    "    print(\"Both variables are equal\")\n"
   ]
  },
  {
   "cell_type": "markdown",
   "id": "80dce73e-3a9c-47e0-81f1-5d91229435a5",
   "metadata": {},
   "source": [
    "# Indentation"
   ]
  },
  {
   "cell_type": "markdown",
   "id": "5d023193-2c44-4bf4-947b-a9a79f8f87b7",
   "metadata": {},
   "source": [
    "Before we get into other conditional statement lets understand indentation"
   ]
  },
  {
   "cell_type": "markdown",
   "id": "9443cb33-e41c-4d35-af10-a82fe7cfda11",
   "metadata": {},
   "source": [
    "Indentation in Python refers to the spaces or tabs used at the beginning of a line to define the block of code. Unlike many other programming languages that use braces {} to denote code blocks, Python uses indentation to indicate where blocks of code begin and end.\n",
    "\n",
    "The standard and recommended indentation style in Python is to use four spaces for each level of indentation. However, you can also use a single tab or any other consistent whitespace characters, as long as you are consistent throughout your code."
   ]
  },
  {
   "cell_type": "raw",
   "id": "5c5f82b0-84c8-4cfc-822b-b94cfedad7f9",
   "metadata": {},
   "source": [
    "if condition:\n",
    "    \n",
    "    # This line is indented, indicating it's part of the if block above.\n",
    "    \n",
    "    print(\"Inside the if block\")\n",
    "    \n",
    "    # More code inside the if block\n",
    "    \n",
    "    if another_condition:\n",
    "        \n",
    "        # Nested if statement with further indentation\n",
    "        \n",
    "        print(\"Inside the nested if block\")\n",
    "        \n",
    "    # Back to the first level of indentation\n",
    "\n",
    "# This line is not indented, indicating it's outside the if block\n",
    "\n",
    "print(\"Outside the if block\")"
   ]
  },
  {
   "cell_type": "markdown",
   "id": "0ab34349-a7e1-457f-a240-f5fbf43628d1",
   "metadata": {},
   "source": [
    "1. The lines of code that are indented after the if statement belong to the block of code that executes if the condition is true.\n",
    "    \n",
    "2. Similarly, the lines of code that are indented under the nested if statement belong to the nested block of code.\n",
    "    \n",
    "3. The line of code that is not indented is outside both if blocks and will execute regardless of the condition."
   ]
  },
  {
   "cell_type": "markdown",
   "id": "b37c4ae5-9513-45b1-936f-c3e9d5adfc36",
   "metadata": {},
   "source": [
    "Using proper indentation is crucial in Python because it determines the structure of your code and affects how it executes. Incorrect indentation can lead to syntax errors or unintended behavior."
   ]
  },
  {
   "cell_type": "markdown",
   "id": "7f59bcb6-29fc-4aff-b845-65ecf228aeb4",
   "metadata": {},
   "source": [
    "\n"
   ]
  },
  {
   "cell_type": "markdown",
   "id": "c3046c80-10ee-405b-97cf-fcecc0308c68",
   "metadata": {},
   "source": [
    "# 2. if-else statement: "
   ]
  },
  {
   "cell_type": "markdown",
   "id": "05775c34-b3d2-4290-854a-9ec64cabc460",
   "metadata": {},
   "source": [
    "This allows you to execute one block of code if the condition is true, and another block if the condition is false."
   ]
  },
  {
   "cell_type": "markdown",
   "id": "7f7f1e1a-a33f-4e8b-8aae-8ae4f696c9d9",
   "metadata": {},
   "source": [
    "if condition:\n",
    "\n",
    "    # code block to execute if condition is true\n",
    "    \n",
    "else:\n",
    "\n",
    "    # code block to execute when if condition is false\n"
   ]
  },
  {
   "cell_type": "code",
   "execution_count": 18,
   "id": "76fa2a8f-7a8b-433c-8c28-473da3b6c417",
   "metadata": {},
   "outputs": [
    {
     "name": "stdout",
     "output_type": "stream",
     "text": [
      "Both variables are not equal\n"
     ]
    }
   ],
   "source": [
    "variable1 = 40\n",
    "variable2 = 60\n",
    "if variable1 == variable2:\n",
    "    print(\"Both variables are equal\")\n",
    "else:\n",
    "    print(\"Both variables are not equal\")"
   ]
  },
  {
   "cell_type": "markdown",
   "id": "995d2eac-1c72-48db-a04e-27b0a971aae1",
   "metadata": {},
   "source": [
    "# 3.if-elif-else statement:"
   ]
  },
  {
   "cell_type": "markdown",
   "id": "e8bdf0ea-c928-4af8-9674-1d3b93fa0c77",
   "metadata": {},
   "source": [
    " This is used when you have multiple conditions to check. elif allows you to check additional conditions if the previous ones are false."
   ]
  },
  {
   "cell_type": "raw",
   "id": "bc711b6e-811f-4bed-b336-ca10e1bb9697",
   "metadata": {},
   "source": [
    "if condition1:\n",
    "    \n",
    "    # code block to execute if condition1 is true\n",
    "    \n",
    "elif condition2:\n",
    "    \n",
    "    # code block to execute if condition2 is true and condition1 is false    \n",
    "    \n",
    "else:\n",
    "    \n",
    "    # code block to execute if both condition1 and condition2 are false\n"
   ]
  },
  {
   "cell_type": "code",
   "execution_count": 19,
   "id": "f2abc951-6869-4e58-80cb-264131afee99",
   "metadata": {},
   "outputs": [
    {
     "name": "stdout",
     "output_type": "stream",
     "text": [
      "Your grade is : B\n"
     ]
    }
   ],
   "source": [
    "if score >= 90:\n",
    "    grade = 'A'\n",
    "\n",
    "elif score >= 80:  \n",
    "    grade = 'B'\n",
    "\n",
    "elif score >= 70:   \n",
    "    grade = 'C'\n",
    "\n",
    "print(\"Your grade is :\",grade)"
   ]
  },
  {
   "cell_type": "markdown",
   "id": "7bf1fd3f-75e7-44f9-959b-44e43373a643",
   "metadata": {},
   "source": [
    "# Note:"
   ]
  },
  {
   "cell_type": "markdown",
   "id": "5126bafd-169d-422e-b691-910b6e6724a5",
   "metadata": {},
   "source": [
    "1. we can have one if and only one else but more than one elif in same indentation."
   ]
  },
  {
   "cell_type": "code",
   "execution_count": 20,
   "id": "8a266572-1f98-46fd-880a-73df1a2ed0cd",
   "metadata": {},
   "outputs": [
    {
     "name": "stdout",
     "output_type": "stream",
     "text": [
      "The student's grade is: B\n"
     ]
    }
   ],
   "source": [
    "# Example: Classify a student's grade based on their score\n",
    "\n",
    "score = 85\n",
    "\n",
    "if score >= 90:\n",
    "    grade = 'A'\n",
    "elif score >= 80:\n",
    "    grade = 'B'\n",
    "elif score >= 70:\n",
    "    grade = 'C'\n",
    "elif score >= 60:\n",
    "    grade = 'D'\n",
    "else:\n",
    "    grade = 'F'\n",
    "\n",
    "print(f\"The student's grade is: {grade}\")\n"
   ]
  },
  {
   "cell_type": "markdown",
   "id": "157493c9-3931-4349-b202-78f9fa72dcae",
   "metadata": {},
   "source": [
    "# Nested conditional statement "
   ]
  },
  {
   "cell_type": "code",
   "execution_count": null,
   "id": "3c2e95d3-f52e-44f0-8ba7-78447b170f1c",
   "metadata": {},
   "outputs": [],
   "source": [
    "# Example: Determine the price of a product based on its category and quantity\n",
    "\n",
    "category = \"Electronics\"\n",
    "quantity = 3\n",
    "\n",
    "if category == \"Electronics\":\n",
    "    base_price = 500  # Base price for electronics\n",
    "    if quantity >= 3:\n",
    "        discount = 0.1  # 10% discount for purchasing 3 or more electronics\n",
    "    else:\n",
    "        discount = 0\n",
    "elif category == \"Clothing\":\n",
    "    base_price = 50  # Base price for clothing\n",
    "    if quantity >= 5:\n",
    "        discount = 0.2  # 20% discount for purchasing 5 or more clothing items\n",
    "    else:\n",
    "        discount = 0\n",
    "else:\n",
    "    base_price = 100  # Default base price for other categories\n",
    "    discount = 0\n",
    "\n",
    "# Calculate the total price after applying the discount\n",
    "total_price = base_price * quantity * (1 - discount)\n",
    "\n",
    "print(f\"The total price for {quantity} {category} items is: ${total_price:.2f}\")\n"
   ]
  },
  {
   "cell_type": "markdown",
   "id": "3d65b1e5-cac4-451a-a6c3-f01dd6581d41",
   "metadata": {},
   "source": [
    "."
   ]
  },
  {
   "cell_type": "markdown",
   "id": "dee22e2e-8d5d-41c7-9b8c-357085f85abe",
   "metadata": {},
   "source": [
    "# Note"
   ]
  },
  {
   "cell_type": "markdown",
   "id": "17769192-463b-42bc-8082-55036eb10db9",
   "metadata": {},
   "source": [
    "Remember that Python evaluates certain values as True and others as False in conditional statements. For example, 0, None, empty sequences (like '', [],\n",
    "\n",
    "{}), and False are all considered False in Python, while non-zero integers, non-empty sequences, and True are considered True. Understanding this helps \n",
    "\n",
    "in writing concise and effective conditional statements."
   ]
  },
  {
   "cell_type": "markdown",
   "id": "5d46e4d1-ef1b-47a5-9c77-9cccc511f529",
   "metadata": {},
   "source": [
    "Examples:"
   ]
  },
  {
   "cell_type": "markdown",
   "id": "8dece2b5-7772-4ca6-b1d7-d55377004951",
   "metadata": {},
   "source": [
    "Lest try first for false return "
   ]
  },
  {
   "cell_type": "code",
   "execution_count": 28,
   "id": "4c569596-e146-46c7-a387-ca0bce7892f7",
   "metadata": {},
   "outputs": [
    {
     "name": "stdout",
     "output_type": "stream",
     "text": [
      "false\n"
     ]
    }
   ],
   "source": [
    "if None:\n",
    "    print(\"true\")\n",
    "else:\n",
    "    print(\"false\")"
   ]
  },
  {
   "cell_type": "code",
   "execution_count": 29,
   "id": "cbb10ef0-08e1-4986-866c-5a8e014e72f2",
   "metadata": {},
   "outputs": [
    {
     "name": "stdout",
     "output_type": "stream",
     "text": [
      "false\n"
     ]
    }
   ],
   "source": [
    "if \"\":\n",
    "    print(\"true\")\n",
    "else:\n",
    "    print(\"false\")"
   ]
  },
  {
   "cell_type": "code",
   "execution_count": 30,
   "id": "e11de937-7dfe-4e51-af29-e6caaf5af1d9",
   "metadata": {},
   "outputs": [
    {
     "name": "stdout",
     "output_type": "stream",
     "text": [
      "false\n"
     ]
    }
   ],
   "source": [
    "if 0:\n",
    "    print(\"true\")\n",
    "else:\n",
    "    print(\"false\")"
   ]
  },
  {
   "cell_type": "markdown",
   "id": "30398ffe-5168-46d1-8789-f32dde35ab18",
   "metadata": {},
   "source": [
    "For non Zero and other sequances:"
   ]
  },
  {
   "cell_type": "code",
   "execution_count": 7,
   "id": "3580416c-8e5a-46ff-949a-bb39e2edc302",
   "metadata": {},
   "outputs": [],
   "source": [
    "def my_function():\n",
    "    if 23:\n",
    "        print(\"true\")\n",
    "    else:\n",
    "        print(\"false\")"
   ]
  },
  {
   "cell_type": "code",
   "execution_count": 8,
   "id": "abac38d5-34a2-4c9e-9f8d-d03889bd3687",
   "metadata": {},
   "outputs": [
    {
     "name": "stdout",
     "output_type": "stream",
     "text": [
      "true\n"
     ]
    }
   ],
   "source": [
    "my_function()"
   ]
  },
  {
   "cell_type": "code",
   "execution_count": 32,
   "id": "8a625979-dd60-4311-b9fb-2423dff72c86",
   "metadata": {},
   "outputs": [
    {
     "name": "stdout",
     "output_type": "stream",
     "text": [
      "true\n"
     ]
    }
   ],
   "source": [
    "if [1,2]:\n",
    "    print(\"true\")\n",
    "else:\n",
    "    print(\"false\")"
   ]
  },
  {
   "cell_type": "code",
   "execution_count": 1,
   "id": "a7f68a25-973e-4a3a-9071-e4152d526d55",
   "metadata": {},
   "outputs": [
    {
     "name": "stdout",
     "output_type": "stream",
     "text": [
      "Requirement already satisfied: PyInputPlus in c:\\users\\rkt65\\anaconda3\\lib\\site-packages (0.2.12)\n",
      "Requirement already satisfied: pysimplevalidate>=0.2.7 in c:\\users\\rkt65\\anaconda3\\lib\\site-packages (from PyInputPlus) (0.2.12)\n",
      "Requirement already satisfied: stdiomask>=0.0.3 in c:\\users\\rkt65\\anaconda3\\lib\\site-packages (from PyInputPlus) (0.0.6)\n",
      "Note: you may need to restart the kernel to use updated packages.\n"
     ]
    }
   ],
   "source": [
    "pip install PyInputPlus"
   ]
  },
  {
   "cell_type": "code",
   "execution_count": 5,
   "id": "13a210dd-631c-4bc1-b771-033a00b14229",
   "metadata": {},
   "outputs": [
    {
     "name": "stdout",
     "output_type": "stream",
     "text": [
      "Enter unit: "
     ]
    },
    {
     "name": "stdin",
     "output_type": "stream",
     "text": [
      " eohifi@\n"
     ]
    },
    {
     "name": "stdout",
     "output_type": "stream",
     "text": [
      "'eohifi@' is not a valid email address.\n",
      "Enter unit: "
     ]
    },
    {
     "name": "stdin",
     "output_type": "stream",
     "text": [
      " rohit@1\n"
     ]
    },
    {
     "name": "stdout",
     "output_type": "stream",
     "text": [
      "'rohit@1' is not a valid email address.\n",
      "Enter unit: "
     ]
    },
    {
     "name": "stdin",
     "output_type": "stream",
     "text": [
      " rohit@gmai.com\n"
     ]
    }
   ],
   "source": [
    "import pyinputplus as pypi\n",
    "\n",
    "unit = pypi.inputEmail(\"Enter unit: \")"
   ]
  },
  {
   "cell_type": "code",
   "execution_count": 2,
   "id": "01c94181-466d-46ff-ba7a-ecbbdec5d353",
   "metadata": {},
   "outputs": [],
   "source": [
    "import numpy as np\n",
    "import pandas as rohit"
   ]
  },
  {
   "cell_type": "code",
   "execution_count": null,
   "id": "e25eb11a-3801-47f1-a63c-7d53e228135a",
   "metadata": {},
   "outputs": [],
   "source": [
    "rohit."
   ]
  }
 ],
 "metadata": {
  "kernelspec": {
   "display_name": "Python 3 (ipykernel)",
   "language": "python",
   "name": "python3"
  },
  "language_info": {
   "codemirror_mode": {
    "name": "ipython",
    "version": 3
   },
   "file_extension": ".py",
   "mimetype": "text/x-python",
   "name": "python",
   "nbconvert_exporter": "python",
   "pygments_lexer": "ipython3",
   "version": "3.11.7"
  }
 },
 "nbformat": 4,
 "nbformat_minor": 5
}
