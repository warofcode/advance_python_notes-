{
 "cells": [
  {
   "cell_type": "code",
   "execution_count": 2,
   "id": "a56b8ad9-9376-4dba-8950-2083e7fbc78f",
   "metadata": {},
   "outputs": [
    {
     "name": "stdout",
     "output_type": "stream",
     "text": [
      "     Name  Age   eligibility\n",
      "0   Rohit   21      Eligible\n",
      "1  Deepak   15  Not eligible\n",
      "2  Gaurav   18      Eligible\n",
      "3  Chirag   30      Eligible\n",
      "4  Sachin   10  Not eligible\n"
     ]
    }
   ],
   "source": [
    "import pandas as pd\n",
    "\n",
    "# Step 1: Load the CSV file\n",
    "csv_path = r\"C:\\Users\\rkt65\\Desktop\\csv\\voting_csv_file.csv\"  # Update this path as necessary\n",
    "df = pd.read_csv(csv_path)\n",
    "\n",
    "# Step 2: Define a function to check eligibility\n",
    "def check_eligibility(age):\n",
    "    if age >= 18:\n",
    "        return 'Eligible'\n",
    "    else:\n",
    "        return 'Not eligible'\n",
    "\n",
    "# Step 3: Apply the function to create the 'eligibility' column\n",
    "df['eligibility'] = df['Age'].apply(check_eligibility)\n",
    "\n",
    "# Display the resulting DataFrame\n",
    "print(df)\n",
    "\n",
    "# Optional: Save the DataFrame back to a CSV file\n",
    "df.to_csv(r\"C:\\Users\\rkt65\\Desktop\\csv\\eligible.csv\", index=False)\n"
   ]
  },
  {
   "cell_type": "code",
   "execution_count": null,
   "id": "fcc46c66-48ed-441d-b46f-01167037e394",
   "metadata": {},
   "outputs": [],
   "source": []
  }
 ],
 "metadata": {
  "kernelspec": {
   "display_name": "Python 3 (ipykernel)",
   "language": "python",
   "name": "python3"
  },
  "language_info": {
   "codemirror_mode": {
    "name": "ipython",
    "version": 3
   },
   "file_extension": ".py",
   "mimetype": "text/x-python",
   "name": "python",
   "nbconvert_exporter": "python",
   "pygments_lexer": "ipython3",
   "version": "3.11.7"
  }
 },
 "nbformat": 4,
 "nbformat_minor": 5
}
