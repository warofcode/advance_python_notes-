{
 "cells": [
  {
   "cell_type": "code",
   "execution_count": null,
   "id": "763e72ba-fb96-4f7a-99b1-5402217f98ef",
   "metadata": {},
   "outputs": [],
   "source": [
    "import tkinter as tk\n",
    "\n",
    "def evaluate_expression():\n",
    "    try:\n",
    "        result = eval(entry.get())\n",
    "        entry.delete(0, tk.END)\n",
    "        entry.insert(tk.END, str(result))\n",
    "    except Exception as e:\n",
    "        entry.delete(0, tk.END)\n",
    "        entry.insert(tk.END, \"Error\")\n",
    "\n",
    "def clear_entry():\n",
    "    entry.delete(0, tk.END)\n",
    "\n",
    "def add_to_entry(char):\n",
    "    entry.insert(tk.END, char)\n",
    "\n",
    "# Create the main window\n",
    "root = tk.Tk()\n",
    "root.title(\"Calculator\")\n",
    "\n",
    "# Create entry widget to display and input expression\n",
    "entry = tk.Entry(root, width=20, font=('Arial', 14))\n",
    "entry.grid(row=0, column=0, columnspan=4, padx=10, pady=10)\n",
    "\n",
    "# Define buttons\n",
    "buttons = [\n",
    "    ('7', 1, 0), ('8', 1, 1), ('9', 1, 2), ('/', 1, 3),\n",
    "    ('4', 2, 0), ('5', 2, 1), ('6', 2, 2), ('*', 2, 3),\n",
    "    ('1', 3, 0), ('2', 3, 1), ('3', 3, 2), ('-', 3, 3),\n",
    "    ('0', 4, 0), ('.', 4, 1), ('=', 4, 2), ('+', 4, 3)\n",
    "]\n",
    "\n",
    "# Create and place buttons\n",
    "for (text, row, col) in buttons:\n",
    "    btn = tk.Button(root, text=text, width=5, height=2, font=('Arial', 14),\n",
    "                    command=lambda char=text: add_to_entry(char))\n",
    "    btn.grid(row=row, column=col, padx=5, pady=5)\n",
    "\n",
    "# Clear button\n",
    "clear_btn = tk.Button(root, text='C', width=5, height=2, font=('Arial', 14),\n",
    "                      command=clear_entry)\n",
    "clear_btn.grid(row=5, column=0, columnspan=2, padx=5, pady=5)\n",
    "\n",
    "# Equals button\n",
    "equals_btn = tk.Button(root, text='=', width=5, height=2, font=('Arial', 14),\n",
    "                       command=evaluate_expression)\n",
    "equals_btn.grid(row=5, column=2, columnspan=2, padx=5, pady=5)\n",
    "\n",
    "root.mainloop()\n"
   ]
  },
  {
   "cell_type": "code",
   "execution_count": null,
   "id": "c8b42edc-e1d1-44bf-8741-05ce276d3067",
   "metadata": {},
   "outputs": [],
   "source": []
  }
 ],
 "metadata": {
  "kernelspec": {
   "display_name": "Python 3 (ipykernel)",
   "language": "python",
   "name": "python3"
  },
  "language_info": {
   "codemirror_mode": {
    "name": "ipython",
    "version": 3
   },
   "file_extension": ".py",
   "mimetype": "text/x-python",
   "name": "python",
   "nbconvert_exporter": "python",
   "pygments_lexer": "ipython3",
   "version": "3.11.7"
  }
 },
 "nbformat": 4,
 "nbformat_minor": 5
}
