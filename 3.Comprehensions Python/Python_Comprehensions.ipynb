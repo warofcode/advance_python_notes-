{
 "cells": [
  {
   "cell_type": "markdown",
   "metadata": {},
   "source": [
    "# Comprehensions in Python"
   ]
  },
  {
   "cell_type": "code",
   "execution_count": 10,
   "metadata": {},
   "outputs": [],
   "source": [
    "# Comprehensions in Python provide us with a short and concise way to construct new sequences \n",
    "# (such as lists, set, dictionary etc.) using sequences which have been already defined. Python supports the following 4 types\n",
    "# of comprehensions:\n",
    "\n",
    "# List Comprehensions\n",
    "# Dictionary Comprehensions\n",
    "# Set Comprehensions\n",
    "# Generator Comprehensions"
   ]
  },
  {
   "cell_type": "markdown",
   "metadata": {},
   "source": [
    "# List Comprehensions"
   ]
  },
  {
   "cell_type": "code",
   "execution_count": 16,
   "metadata": {},
   "outputs": [
    {
     "name": "stdout",
     "output_type": "stream",
     "text": [
      "List1 :  [2, 4, 6, 8, 10, 12, 14, 16, 18, 20, 22, 24, 26, 28, 30, 32, 34, 36, 38, 40, 42, 44, 46, 48, 50, 52, 54, 56, 58, 60, 62, 64, 66, 68, 70, 72, 74, 76, 78, 80, 82, 84, 86, 88, 90, 92, 94, 96, 98, 100]\n",
      "List2:  [2, 4, 6, 8, 10, 12, 14, 16, 18, 20, 22, 24, 26, 28, 30, 32, 34, 36, 38, 40, 42, 44, 46, 48, 50, 52, 54, 56, 58, 60, 62, 64, 66, 68, 70, 72, 74, 76, 78, 80, 82, 84, 86, 88, 90, 92, 94, 96, 98, 100]\n"
     ]
    }
   ],
   "source": [
    "list1=[]\n",
    "for i in range(1,101):\n",
    "    if i%2==0:\n",
    "        list1.append(i)\n",
    "        \n",
    "print(\"List1 : \",list1)                 \n",
    "\n",
    "# we got all the all sum numbers from o to 100.\n",
    "\n",
    "list2=[i for i in range(1,101) if i%2==0]\n",
    "print(\"List2: \",list2)\n",
    "\n",
    "# as you can see we got the same output but in a single line of code."
   ]
  },
  {
   "cell_type": "code",
   "execution_count": null,
   "metadata": {},
   "outputs": [],
   "source": [
    "print(\"\")\n",
    "list1 = [1,2,3,4,5,6,7,8,9,10]\n",
    "even_list = []\n",
    "for item in list1:\n",
    "    if item%2==0:\n",
    "        even_list.append(item)\n",
    "print(\"Your even list is : \",even_list)        \n",
    "\n",
    "new_list = [item for item in list1 if item%2==0 ]\n",
    "print(\"your new list is :\",new_list)\n",
    "\n",
    "new_list2 = [item if item %2 ==0  else \"this\" for  item in list1 ]\n",
    "print(\"your new_lis2 is : \",new_list2)"
   ]
  },
  {
   "cell_type": "markdown",
   "metadata": {},
   "source": [
    "# Dictionary Comprehensions"
   ]
  },
  {
   "cell_type": "code",
   "execution_count": 21,
   "metadata": {},
   "outputs": [
    {
     "name": "stdout",
     "output_type": "stream",
     "text": [
      "{0: 'item0', 1: 'item1', 2: 'item2', 3: 'item3', 4: 'item4', 5: 'item5', 6: 'item6', 7: 'item7', 8: 'item8', 9: 'item9', 10: 'item10', 11: 'item11', 12: 'item12', 13: 'item13', 14: 'item14', 15: 'item15', 16: 'item16', 17: 'item17', 18: 'item18', 19: 'item19', 20: 'item20', 21: 'item21', 22: 'item22', 23: 'item23', 24: 'item24', 25: 'item25', 26: 'item26', 27: 'item27', 28: 'item28', 29: 'item29', 30: 'item30', 31: 'item31', 32: 'item32', 33: 'item33', 34: 'item34', 35: 'item35', 36: 'item36', 37: 'item37', 38: 'item38', 39: 'item39', 40: 'item40', 41: 'item41', 42: 'item42', 43: 'item43', 44: 'item44', 45: 'item45', 46: 'item46', 47: 'item47', 48: 'item48', 49: 'item49'}\n"
     ]
    }
   ],
   "source": [
    "\n",
    "dict1={i:f\"item{i}\" for i in range(50) }\n",
    "\n",
    "print(dict1)"
   ]
  },
  {
   "cell_type": "code",
   "execution_count": 23,
   "metadata": {},
   "outputs": [
    {
     "name": "stdout",
     "output_type": "stream",
     "text": [
      "{0: 'item0', 2: 'item2', 4: 'item4', 6: 'item6', 8: 'item8', 10: 'item10', 12: 'item12', 14: 'item14', 16: 'item16', 18: 'item18', 20: 'item20', 22: 'item22', 24: 'item24', 26: 'item26', 28: 'item28', 30: 'item30', 32: 'item32', 34: 'item34', 36: 'item36', 38: 'item38', 40: 'item40', 42: 'item42', 44: 'item44', 46: 'item46', 48: 'item48'}\n"
     ]
    }
   ],
   "source": [
    "dict1={i:f\"item{i}\" for i in range(50) if i%2==0}\n",
    "print(dict1)"
   ]
  },
  {
   "cell_type": "code",
   "execution_count": 27,
   "metadata": {},
   "outputs": [
    {
     "name": "stdout",
     "output_type": "stream",
     "text": [
      "{'item0': 0, 'item2': 2, 'item4': 4, 'item6': 6, 'item8': 8, 'item10': 10, 'item12': 12, 'item14': 14, 'item16': 16, 'item18': 18, 'item20': 20, 'item22': 22, 'item24': 24, 'item26': 26, 'item28': 28, 'item30': 30, 'item32': 32, 'item34': 34, 'item36': 36, 'item38': 38, 'item40': 40, 'item42': 42, 'item44': 44, 'item46': 46, 'item48': 48}\n"
     ]
    }
   ],
   "source": [
    "dict2={value:key for key,value in dict1.items()}  #to reverse the dict\n",
    "print(dict2)"
   ]
  },
  {
   "cell_type": "code",
   "execution_count": null,
   "metadata": {},
   "outputs": [],
   "source": []
  }
 ],
 "metadata": {
  "kernelspec": {
   "display_name": "Python 3",
   "language": "python",
   "name": "python3"
  },
  "language_info": {
   "codemirror_mode": {
    "name": "ipython",
    "version": 3
   },
   "file_extension": ".py",
   "mimetype": "text/x-python",
   "name": "python",
   "nbconvert_exporter": "python",
   "pygments_lexer": "ipython3",
   "version": "3.7.4"
  }
 },
 "nbformat": 4,
 "nbformat_minor": 2
}
