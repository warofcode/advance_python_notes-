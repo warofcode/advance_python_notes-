{
 "cells": [
  {
   "cell_type": "markdown",
   "id": "c5e8f243",
   "metadata": {},
   "source": [
    "# --------------------------------------Python Decorators------------------------------------------"
   ]
  },
  {
   "cell_type": "markdown",
   "id": "644e8d8b",
   "metadata": {},
   "source": [
    "In Python, decorators are a way to modify the behavior of functions or classes without changing the structure of existing function or class."
   ]
  },
  {
   "cell_type": "markdown",
   "id": "0485b518",
   "metadata": {},
   "source": [
    "Decorators allow us to wrap another function in order to extend the behaviour of the wrapped function, without permanently modifying it."
   ]
  },
  {
   "cell_type": "markdown",
   "id": "545bf654",
   "metadata": {},
   "source": [
    "Decorators are implemented using the \"@\" symbol followed by the decorator name placed above the function or class definition. When you apply a decorator to a function or class, the decorator function is called with the function or class being decorated as its argument."
   ]
  },
  {
   "cell_type": "markdown",
   "id": "c8c83794",
   "metadata": {},
   "source": [
    "Decorators are called in a bottom-up fashion."
   ]
  },
  {
   "cell_type": "markdown",
   "id": "45f30bb6",
   "metadata": {},
   "source": [
    "Now we need to understand some important step to understand Decorators"
   ]
  },
  {
   "cell_type": "markdown",
   "id": "81894ad1",
   "metadata": {},
   "source": [
    "# Functions are first class objects:"
   ]
  },
  {
   "cell_type": "markdown",
   "id": "9b4ac149",
   "metadata": {},
   "source": [
    "First Class objects in various programming languages are ones that can be treated consistently. First-class objects can be stored as control structures, data structures, parameters for other methods, etc. If a Python function supports all the attributes of a First Class object, then we may claim that it is a First Class Function."
   ]
  },
  {
   "cell_type": "markdown",
   "id": "0cd37aee",
   "metadata": {},
   "source": [
    "# Properties of first class functions:"
   ]
  },
  {
   "cell_type": "markdown",
   "id": "27fb6ec4",
   "metadata": {},
   "source": [
    "1. A function is an instance of the Object type.\n",
    "\n",
    "\n",
    "\n",
    "2. You can store the function in a variable.\n",
    "\n",
    "\n",
    "\n",
    "3. You can pass the function as a parameter to another function.\n",
    "\n",
    "\n",
    "\n",
    "4. You can return the function from a function.\n",
    "\n",
    "\n",
    "5. You can store them in data structures such as hash tables, lists, …"
   ]
  },
  {
   "cell_type": "markdown",
   "id": "d4358e72",
   "metadata": {},
   "source": [
    "# Function can be treated as object"
   ]
  },
  {
   "cell_type": "code",
   "execution_count": 5,
   "id": "814c26f1",
   "metadata": {},
   "outputs": [
    {
     "name": "stdout",
     "output_type": "stream",
     "text": [
      "2643357770656\n",
      "2643357770656\n",
      "HELLO\n"
     ]
    }
   ],
   "source": [
    "def my_function(string):\n",
    "    return string.upper()\n",
    "\n",
    "your_function = my_function\n",
    "\n",
    "print(id(your_function))\n",
    "print(id(my_function))\n",
    "\n",
    "# instead of calling my_function i can call your_function\n",
    "\n",
    "\n",
    "print(your_function(\"hello\"))\n"
   ]
  },
  {
   "cell_type": "markdown",
   "id": "2d505f3b",
   "metadata": {},
   "source": [
    "# Function can be passed as an argument in other function"
   ]
  },
  {
   "cell_type": "code",
   "execution_count": 1,
   "id": "3edc01b3",
   "metadata": {},
   "outputs": [
    {
     "name": "stdout",
     "output_type": "stream",
     "text": [
      "HELLO PYTHON HOW ARE YOU ?\n"
     ]
    }
   ],
   "source": [
    "def upper_converter(string):\n",
    "    \n",
    "    return string.upper()\n",
    "\n",
    "\n",
    "def string_returner():\n",
    "    \n",
    "    return f\"hello python how are you ?\"\n",
    "\n",
    "\n",
    "\n",
    "print(upper_converter(string_returner()))"
   ]
  },
  {
   "cell_type": "markdown",
   "id": "1b50b143",
   "metadata": {},
   "source": [
    "# lets have fun with three functions"
   ]
  },
  {
   "cell_type": "code",
   "execution_count": 6,
   "id": "a055d8e6",
   "metadata": {},
   "outputs": [
    {
     "name": "stdout",
     "output_type": "stream",
     "text": [
      "['HELLO', 'GOOD', 'MORNING']\n"
     ]
    }
   ],
   "source": [
    "def upper_convertor(string):\n",
    "    \n",
    "    converted_string = string.upper()\n",
    "    \n",
    "    return converted_string\n",
    "    \n",
    "def splitter(string):\n",
    "    \n",
    "    splitted_string = string.split(\" \")\n",
    "    \n",
    "    return splitted_string\n",
    "\n",
    "def say_hi():\n",
    "    \n",
    "    return \"hello good morning\"\n",
    "\n",
    "greetings = splitter(upper_convertor(say_hi()))\n",
    "print(greetings)"
   ]
  },
  {
   "cell_type": "markdown",
   "id": "f06b0f65",
   "metadata": {},
   "source": [
    "# Returning function from another function"
   ]
  },
  {
   "cell_type": "code",
   "execution_count": 7,
   "id": "cb987134",
   "metadata": {},
   "outputs": [
    {
     "name": "stdout",
     "output_type": "stream",
     "text": [
      "Hello Python\n"
     ]
    }
   ],
   "source": [
    "def outer_function(word1):\n",
    "    def inner_function(word2):\n",
    "        \n",
    "        return word1 +\" \" + word2\n",
    "    \n",
    "    return inner_function\n",
    "        \n",
    "greetings = outer_function(\"Hello\")   \n",
    "\n",
    "print(greetings(\"Python\"))"
   ]
  },
  {
   "cell_type": "markdown",
   "id": "38771866",
   "metadata": {},
   "source": [
    "# Lets understand Decorators now"
   ]
  },
  {
   "cell_type": "code",
   "execution_count": 36,
   "id": "2c81ab36",
   "metadata": {},
   "outputs": [
    {
     "data": {
      "text/plain": [
       "'my name is rohit kumar'"
      ]
     },
     "execution_count": 36,
     "metadata": {},
     "output_type": "execute_result"
    }
   ],
   "source": [
    "def upper_converter(function):\n",
    "    def wrapper():\n",
    "        func_value = function()\n",
    "        splitted_string = func_value.upper()\n",
    "        return splitted_string\n",
    "\n",
    "    return wrapper\n",
    "\n",
    "\n",
    "\n",
    "def say_hi():\n",
    "    return 'my name is rohit kumar'\n",
    "\n",
    "say_hi()"
   ]
  },
  {
   "cell_type": "markdown",
   "id": "41dd11bc",
   "metadata": {},
   "source": [
    "# Lets see first how decorators works without using @ sign"
   ]
  },
  {
   "cell_type": "code",
   "execution_count": 37,
   "id": "a4c37d78",
   "metadata": {},
   "outputs": [
    {
     "data": {
      "text/plain": [
       "'MY NAME IS ROHIT KUMAR'"
      ]
     },
     "execution_count": 37,
     "metadata": {},
     "output_type": "execute_result"
    }
   ],
   "source": [
    "say_hi = upper_converter(say_hi) \n",
    "say_hi()"
   ]
  },
  {
   "cell_type": "markdown",
   "id": "c42713dd",
   "metadata": {},
   "source": [
    "# Lets try with two functions"
   ]
  },
  {
   "cell_type": "code",
   "execution_count": 39,
   "id": "3d0411c1",
   "metadata": {},
   "outputs": [
    {
     "data": {
      "text/plain": [
       "['MY', 'NAME', 'IS', 'ROHIT', 'KUMAR']"
      ]
     },
     "execution_count": 39,
     "metadata": {},
     "output_type": "execute_result"
    }
   ],
   "source": [
    "def split_string(function):\n",
    "    def wrapper():\n",
    "        func = function()\n",
    "        splitted_string = func.split()\n",
    "        return splitted_string\n",
    "\n",
    "    return wrapper\n",
    "\n",
    "def uppercase(myfunction):\n",
    "    def wrapper():\n",
    "        func = myfunction()\n",
    "        upper_string = func.upper()\n",
    "        return upper_string\n",
    "\n",
    "    return wrapper\n",
    "\n",
    "\n",
    "\n",
    "def say_hi():\n",
    "    return 'my name is rohit kumar'\n",
    "\n",
    "# say_hi = uppercase(say_hi)\n",
    "\n",
    "say_hi = split_string(uppercase(say_hi))\n",
    "\n",
    "say_hi()"
   ]
  },
  {
   "cell_type": "markdown",
   "id": "a363b33a",
   "metadata": {},
   "source": [
    "# Now lets do it with the help of @ sign"
   ]
  },
  {
   "cell_type": "code",
   "execution_count": 43,
   "id": "348be74e",
   "metadata": {},
   "outputs": [
    {
     "data": {
      "text/plain": [
       "'MY NAME IS ROHIT'"
      ]
     },
     "execution_count": 43,
     "metadata": {},
     "output_type": "execute_result"
    }
   ],
   "source": [
    "def outer_function(function):\n",
    "    def inner_function():\n",
    "        \n",
    "        function_output = function()\n",
    "        \n",
    "        function_output_upper = function_output.upper()\n",
    "       \n",
    "        \n",
    "        return function_output_upper\n",
    "    \n",
    "    \n",
    "    return inner_function\n",
    "    \n",
    "    \n",
    "          \n",
    "@outer_function        \n",
    "def say_hi():\n",
    "    \n",
    "    return \"my name is rohit\"\n",
    "\n",
    "\n",
    "say_hi()"
   ]
  },
  {
   "cell_type": "code",
   "execution_count": null,
   "id": "56d28a8a",
   "metadata": {},
   "outputs": [],
   "source": []
  },
  {
   "cell_type": "markdown",
   "id": "e45096b0",
   "metadata": {},
   "source": [
    "If you understand above concepts than you are ready to understand Decorators"
   ]
  },
  {
   "cell_type": "code",
   "execution_count": null,
   "id": "9200c5d9",
   "metadata": {},
   "outputs": [],
   "source": []
  },
  {
   "cell_type": "code",
   "execution_count": 9,
   "id": "24c37b1b",
   "metadata": {},
   "outputs": [
    {
     "data": {
      "text/plain": [
       "['HI', 'GOOD', 'MORNING']"
      ]
     },
     "execution_count": 9,
     "metadata": {},
     "output_type": "execute_result"
    }
   ],
   "source": [
    "def upper_converter(function):\n",
    "    def wrapper():\n",
    "        function_output = function()\n",
    "        \n",
    "        my_converted_string = function_output.upper()\n",
    "        \n",
    "        return my_converted_string\n",
    "    \n",
    "    return wrapper\n",
    "\n",
    "\n",
    "\n",
    "\n",
    "def spliter(function):\n",
    "    def wrapper():\n",
    "        function_output = function()\n",
    "        \n",
    "        my_splited_string = function_output.split()\n",
    "        \n",
    "        return my_splited_string\n",
    "    return wrapper\n",
    "\n",
    "\n",
    "def say_hi():\n",
    "    \n",
    "    return \"Hi Good Morning\"\n",
    "\n",
    "say_hi = spliter(upper_converter(say_hi))\n",
    "say_hi()"
   ]
  },
  {
   "cell_type": "code",
   "execution_count": 10,
   "id": "26b9062c",
   "metadata": {},
   "outputs": [
    {
     "data": {
      "text/plain": [
       "['MY', 'NAME', 'IS', 'ROHIT', 'KUMAR']"
      ]
     },
     "execution_count": 10,
     "metadata": {},
     "output_type": "execute_result"
    }
   ],
   "source": [
    "def split_string(function):\n",
    "    def wrapper():\n",
    "        func = function()\n",
    "        splitted_string = func.split()\n",
    "        return splitted_string\n",
    "\n",
    "    return wrapper\n",
    "\n",
    "def uppercase(myfunction):\n",
    "    def wrapper():\n",
    "        func = myfunction()\n",
    "        upper_string = func.upper()\n",
    "        return upper_string\n",
    "\n",
    "    return wrapper\n",
    "\n",
    "@split_string\n",
    "@uppercase\n",
    "\n",
    "def say_hi():\n",
    "    return 'my name is rohit kumar'\n",
    "\n",
    "say_hi()"
   ]
  },
  {
   "cell_type": "code",
   "execution_count": null,
   "id": "d80f47e4",
   "metadata": {},
   "outputs": [],
   "source": []
  },
  {
   "cell_type": "code",
   "execution_count": null,
   "id": "0a93f823",
   "metadata": {},
   "outputs": [],
   "source": []
  }
 ],
 "metadata": {
  "kernelspec": {
   "display_name": "Python 3 (ipykernel)",
   "language": "python",
   "name": "python3"
  },
  "language_info": {
   "codemirror_mode": {
    "name": "ipython",
    "version": 3
   },
   "file_extension": ".py",
   "mimetype": "text/x-python",
   "name": "python",
   "nbconvert_exporter": "python",
   "pygments_lexer": "ipython3",
   "version": "3.11.7"
  }
 },
 "nbformat": 4,
 "nbformat_minor": 5
}
