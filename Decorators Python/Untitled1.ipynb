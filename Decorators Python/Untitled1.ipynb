{
 "cells": [
  {
   "cell_type": "code",
   "execution_count": 1,
   "id": "edcca179-5579-40f0-90e0-9edb24bd059e",
   "metadata": {},
   "outputs": [],
   "source": [
    "def string_upper_converter(function):\n",
    "    def wrapper():\n",
    "        value = function()\n",
    "        upper_vlaue = value.upper()\n",
    "        return upper_vlaue\n",
    "    return wrapper   \n",
    "def string_splitter(function):\n",
    "    def wrapper():\n",
    "        value = function()\n",
    "        splitted_value = value.split(\"_\")\n",
    "        return splitted_value\n",
    "    return wrapper\n",
    "     \n",
    "        \n",
    "        \n",
    "        \n",
    "@string_splitter   \n",
    "@string_upper_converter\n",
    "def say_hi():\n",
    "    return \"Rohit_Kumar\""
   ]
  },
  {
   "cell_type": "code",
   "execution_count": 2,
   "id": "acb6cbb8-a6a1-4967-a481-d6fc53cb1751",
   "metadata": {},
   "outputs": [
    {
     "data": {
      "text/plain": [
       "['ROHIT', 'KUMAR']"
      ]
     },
     "execution_count": 2,
     "metadata": {},
     "output_type": "execute_result"
    }
   ],
   "source": [
    "say_hi()"
   ]
  },
  {
   "cell_type": "code",
   "execution_count": 3,
   "id": "0cc41115-28f4-472b-954b-1fe9912b2591",
   "metadata": {},
   "outputs": [],
   "source": [
    "say_hi = string_splitter(say_hi)"
   ]
  },
  {
   "cell_type": "code",
   "execution_count": 4,
   "id": "cb406015-7447-416d-b04a-b337fdd34549",
   "metadata": {},
   "outputs": [
    {
     "ename": "AttributeError",
     "evalue": "'list' object has no attribute 'split'",
     "output_type": "error",
     "traceback": [
      "\u001b[1;31m---------------------------------------------------------------------------\u001b[0m",
      "\u001b[1;31mAttributeError\u001b[0m                            Traceback (most recent call last)",
      "Cell \u001b[1;32mIn[4], line 1\u001b[0m\n\u001b[1;32m----> 1\u001b[0m say_hi()\n",
      "Cell \u001b[1;32mIn[1], line 10\u001b[0m, in \u001b[0;36mstring_splitter.<locals>.wrapper\u001b[1;34m()\u001b[0m\n\u001b[0;32m      8\u001b[0m \u001b[38;5;28;01mdef\u001b[39;00m \u001b[38;5;21mwrapper\u001b[39m():\n\u001b[0;32m      9\u001b[0m     value \u001b[38;5;241m=\u001b[39m function()\n\u001b[1;32m---> 10\u001b[0m     splitted_value \u001b[38;5;241m=\u001b[39m value\u001b[38;5;241m.\u001b[39msplit(\u001b[38;5;124m\"\u001b[39m\u001b[38;5;124m_\u001b[39m\u001b[38;5;124m\"\u001b[39m)\n\u001b[0;32m     11\u001b[0m     \u001b[38;5;28;01mreturn\u001b[39;00m splitted_value\n",
      "\u001b[1;31mAttributeError\u001b[0m: 'list' object has no attribute 'split'"
     ]
    }
   ],
   "source": [
    "say_hi()"
   ]
  },
  {
   "cell_type": "code",
   "execution_count": null,
   "id": "91d7fa9f-a71a-47d3-8294-e4c859b13e42",
   "metadata": {},
   "outputs": [],
   "source": []
  }
 ],
 "metadata": {
  "kernelspec": {
   "display_name": "Python 3 (ipykernel)",
   "language": "python",
   "name": "python3"
  },
  "language_info": {
   "codemirror_mode": {
    "name": "ipython",
    "version": 3
   },
   "file_extension": ".py",
   "mimetype": "text/x-python",
   "name": "python",
   "nbconvert_exporter": "python",
   "pygments_lexer": "ipython3",
   "version": "3.11.7"
  }
 },
 "nbformat": 4,
 "nbformat_minor": 5
}
