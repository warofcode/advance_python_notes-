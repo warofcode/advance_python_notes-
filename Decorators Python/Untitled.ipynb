{
 "cells": [
  {
   "cell_type": "code",
   "execution_count": 6,
   "id": "cdb18b1b",
   "metadata": {},
   "outputs": [
    {
     "name": "stdout",
     "output_type": "stream",
     "text": [
      "rohit.Kumar@gmail.com\n"
     ]
    }
   ],
   "source": [
    "result = \"\".join((\"rohit\",\".\",\"Kumar\",\"@\",\"gmail\",\".com\"))\n",
    "print(result)"
   ]
  },
  {
   "cell_type": "code",
   "execution_count": 7,
   "id": "74fb8829",
   "metadata": {},
   "outputs": [
    {
     "name": "stdout",
     "output_type": "stream",
     "text": [
      "anant\n"
     ]
    }
   ],
   "source": [
    "string1 = 'anant'\n",
    "print(string1)"
   ]
  },
  {
   "cell_type": "code",
   "execution_count": 9,
   "id": "e6a8f256",
   "metadata": {},
   "outputs": [
    {
     "name": "stdout",
     "output_type": "stream",
     "text": [
      "anantkuchhal4@gmail.com\n"
     ]
    }
   ],
   "source": [
    "result = \"\".join((\"anant\",\"kuchhal\",\"4\",\"@\",\"gmail\",\".com\"))\n",
    "print(result)"
   ]
  },
  {
   "cell_type": "code",
   "execution_count": 10,
   "id": "f68584b3",
   "metadata": {},
   "outputs": [
    {
     "name": "stdout",
     "output_type": "stream",
     "text": [
      "Anant\n"
     ]
    }
   ],
   "source": [
    "string2 = \"Anant\"\n",
    "print(string2)"
   ]
  },
  {
   "cell_type": "code",
   "execution_count": 11,
   "id": "406e5180",
   "metadata": {},
   "outputs": [
    {
     "name": "stdout",
     "output_type": "stream",
     "text": [
      "Anant\n"
     ]
    }
   ],
   "source": [
    "string3 = '''Anant'''\n",
    "print(string3)"
   ]
  },
  {
   "cell_type": "code",
   "execution_count": 13,
   "id": "1042258e",
   "metadata": {},
   "outputs": [
    {
     "name": "stdout",
     "output_type": "stream",
     "text": [
      "anant\n"
     ]
    }
   ],
   "source": [
    "string4 = \"\"\"anant\"\"\"\n",
    "print(string4)"
   ]
  },
  {
   "cell_type": "code",
   "execution_count": 15,
   "id": "3ac0d92f",
   "metadata": {},
   "outputs": [
    {
     "name": "stdout",
     "output_type": "stream",
     "text": [
      "Anant\n"
     ]
    }
   ],
   "source": [
    "string5 = \"\"\"Anant\"\"\"\n",
    "print(string5)"
   ]
  },
  {
   "cell_type": "code",
   "execution_count": 34,
   "id": "331f8ec6",
   "metadata": {},
   "outputs": [
    {
     "name": "stdout",
     "output_type": "stream",
     "text": [
      "D\n"
     ]
    }
   ],
   "source": [
    "name = \"DESI MELODIES\"\n",
    "print(name[0])"
   ]
  },
  {
   "cell_type": "code",
   "execution_count": null,
   "id": "05d86d01",
   "metadata": {},
   "outputs": [],
   "source": []
  },
  {
   "cell_type": "code",
   "execution_count": null,
   "id": "65b163df",
   "metadata": {},
   "outputs": [],
   "source": []
  },
  {
   "cell_type": "code",
   "execution_count": 35,
   "id": "db64c786",
   "metadata": {},
   "outputs": [
    {
     "name": "stdout",
     "output_type": "stream",
     "text": [
      "13\n"
     ]
    }
   ],
   "source": [
    "print(len(\"Desi Melodies\"))"
   ]
  },
  {
   "cell_type": "code",
   "execution_count": null,
   "id": "1482aaf7",
   "metadata": {},
   "outputs": [],
   "source": []
  }
 ],
 "metadata": {
  "kernelspec": {
   "display_name": "Python 3 (ipykernel)",
   "language": "python",
   "name": "python3"
  },
  "language_info": {
   "codemirror_mode": {
    "name": "ipython",
    "version": 3
   },
   "file_extension": ".py",
   "mimetype": "text/x-python",
   "name": "python",
   "nbconvert_exporter": "python",
   "pygments_lexer": "ipython3",
   "version": "3.11.5"
  }
 },
 "nbformat": 4,
 "nbformat_minor": 5
}
