{
 "cells": [
  {
   "cell_type": "code",
   "execution_count": 1,
   "id": "400a780c-dd9d-48c8-a68b-d18ec689491e",
   "metadata": {},
   "outputs": [],
   "source": [
    "def rageev():\n",
    "    return \"rajeev_dikshit\""
   ]
  },
  {
   "cell_type": "code",
   "execution_count": 2,
   "id": "9b9d5654-10ff-41d7-8b5c-24a8d6a07841",
   "metadata": {},
   "outputs": [],
   "source": [
    "sachin = rageev"
   ]
  },
  {
   "cell_type": "code",
   "execution_count": 3,
   "id": "5466f2db-c1bd-4310-ba97-3b7dd1a1f0d8",
   "metadata": {},
   "outputs": [
    {
     "data": {
      "text/plain": [
       "'rajeev_dikshit'"
      ]
     },
     "execution_count": 3,
     "metadata": {},
     "output_type": "execute_result"
    }
   ],
   "source": [
    "sachin()"
   ]
  },
  {
   "cell_type": "code",
   "execution_count": 4,
   "id": "189d785e-d79d-4eea-9ae6-663cd1baa8b4",
   "metadata": {},
   "outputs": [
    {
     "data": {
      "text/plain": [
       "'rajeev_dikshit'"
      ]
     },
     "execution_count": 4,
     "metadata": {},
     "output_type": "execute_result"
    }
   ],
   "source": [
    "rageev()"
   ]
  },
  {
   "cell_type": "code",
   "execution_count": 6,
   "id": "0405110f-db33-47c3-8c51-20f819446c40",
   "metadata": {},
   "outputs": [],
   "source": [
    "del rageev"
   ]
  },
  {
   "cell_type": "code",
   "execution_count": 7,
   "id": "a3f865bc-2f3c-4ff4-8593-cd310f02822f",
   "metadata": {},
   "outputs": [
    {
     "data": {
      "text/plain": [
       "'rajeev_dikshit'"
      ]
     },
     "execution_count": 7,
     "metadata": {},
     "output_type": "execute_result"
    }
   ],
   "source": [
    "sachin()"
   ]
  },
  {
   "cell_type": "code",
   "execution_count": 9,
   "id": "c5e7db16-9490-40cb-bd78-d3eaf841b432",
   "metadata": {},
   "outputs": [
    {
     "ename": "NameError",
     "evalue": "name 'rageev' is not defined",
     "output_type": "error",
     "traceback": [
      "\u001b[1;31m---------------------------------------------------------------------------\u001b[0m",
      "\u001b[1;31mNameError\u001b[0m                                 Traceback (most recent call last)",
      "Cell \u001b[1;32mIn[9], line 1\u001b[0m\n\u001b[1;32m----> 1\u001b[0m rageev()\n",
      "\u001b[1;31mNameError\u001b[0m: name 'rageev' is not defined"
     ]
    }
   ],
   "source": [
    "rageev()"
   ]
  },
  {
   "cell_type": "code",
   "execution_count": 10,
   "id": "0b88769b-ad6d-4bed-8ac5-fc79fc09d9d5",
   "metadata": {},
   "outputs": [],
   "source": [
    "value = sachin()"
   ]
  },
  {
   "cell_type": "code",
   "execution_count": 11,
   "id": "0d58c57d-6320-45d8-89af-23518e73a431",
   "metadata": {},
   "outputs": [
    {
     "data": {
      "text/plain": [
       "'rajeev_dikshit'"
      ]
     },
     "execution_count": 11,
     "metadata": {},
     "output_type": "execute_result"
    }
   ],
   "source": [
    "value"
   ]
  },
  {
   "cell_type": "code",
   "execution_count": null,
   "id": "0d1810fe-8884-4802-86f9-ff6c4115da1d",
   "metadata": {},
   "outputs": [],
   "source": [
    "def function2()"
   ]
  }
 ],
 "metadata": {
  "kernelspec": {
   "display_name": "Python 3 (ipykernel)",
   "language": "python",
   "name": "python3"
  },
  "language_info": {
   "codemirror_mode": {
    "name": "ipython",
    "version": 3
   },
   "file_extension": ".py",
   "mimetype": "text/x-python",
   "name": "python",
   "nbconvert_exporter": "python",
   "pygments_lexer": "ipython3",
   "version": "3.11.7"
  }
 },
 "nbformat": 4,
 "nbformat_minor": 5
}
