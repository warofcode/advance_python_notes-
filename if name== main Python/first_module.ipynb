{
 "cells": [
  {
   "cell_type": "code",
   "execution_count": 2,
   "id": "44843b42",
   "metadata": {},
   "outputs": [
    {
     "name": "stdout",
     "output_type": "stream",
     "text": [
      "18\n",
      "I AM GOOD\n",
      "__main__\n",
      "name of module is __main__\n"
     ]
    }
   ],
   "source": [
    "def addition(*args):\n",
    "    total = 0\n",
    "    for i in args:\n",
    "        \n",
    "        total = total+i\n",
    "        \n",
    "    return total    \n",
    "        \n",
    "    \n",
    "print(addition(1,5,6,6))   \n",
    "\n",
    "def string_convertor(string):\n",
    "    \n",
    "    return string.upper()\n",
    "\n",
    "\n",
    "print(string_convertor(\"i am good\"))\n",
    "\n",
    "print(__name__)\n",
    "\n",
    "print(f\"name of module is {__name__}\")\n",
    "\n"
   ]
  },
  {
   "cell_type": "code",
   "execution_count": null,
   "id": "3cb82f71",
   "metadata": {},
   "outputs": [],
   "source": []
  },
  {
   "cell_type": "code",
   "execution_count": null,
   "id": "11372374",
   "metadata": {},
   "outputs": [],
   "source": []
  }
 ],
 "metadata": {
  "kernelspec": {
   "display_name": "Python 3 (ipykernel)",
   "language": "python",
   "name": "python3"
  },
  "language_info": {
   "codemirror_mode": {
    "name": "ipython",
    "version": 3
   },
   "file_extension": ".py",
   "mimetype": "text/x-python",
   "name": "python",
   "nbconvert_exporter": "python",
   "pygments_lexer": "ipython3",
   "version": "3.11.5"
  }
 },
 "nbformat": 4,
 "nbformat_minor": 5
}
