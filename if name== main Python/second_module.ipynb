{
 "cells": [
  {
   "cell_type": "code",
   "execution_count": 1,
   "id": "2743eaf3",
   "metadata": {},
   "outputs": [
    {
     "name": "stdout",
     "output_type": "stream",
     "text": [
      "18\n",
      "I AM GOOD\n",
      "name of module is first_module\n"
     ]
    }
   ],
   "source": [
    "import first_module # it will print all the methods you have run in first_module.py\n",
    "\n",
    "\n",
    "\n",
    "\n",
    "\n",
    "#from module_1 import string_convertor\n",
    "\n",
    "\n",
    "\n",
    "def additon2():\n",
    "    print(\"hello everyone\")\n",
    "\n",
    "# if __name__ == \"__main__\":\n",
    "#     pass\n",
    "#     print(module_1.addition(1,2,3,4))\n",
    "\n",
    "\n"
   ]
  },
  {
   "cell_type": "code",
   "execution_count": 3,
   "id": "903e4dce",
   "metadata": {},
   "outputs": [
    {
     "data": {
      "text/plain": [
       "'C:\\\\Users\\\\rkt65\\\\OneDrive\\\\Desktop\\\\RexGalaxy_Complete\\\\RexGalaxy Python Class\\\\Python if name== main'"
      ]
     },
     "execution_count": 3,
     "metadata": {},
     "output_type": "execute_result"
    }
   ],
   "source": [
    "pwd"
   ]
  },
  {
   "cell_type": "code",
   "execution_count": null,
   "id": "d109e387",
   "metadata": {},
   "outputs": [],
   "source": []
  },
  {
   "cell_type": "code",
   "execution_count": null,
   "id": "3bde790a",
   "metadata": {},
   "outputs": [],
   "source": []
  },
  {
   "cell_type": "code",
   "execution_count": null,
   "id": "edabf49e",
   "metadata": {},
   "outputs": [],
   "source": []
  },
  {
   "cell_type": "code",
   "execution_count": null,
   "id": "f3dcbe46",
   "metadata": {},
   "outputs": [],
   "source": []
  }
 ],
 "metadata": {
  "kernelspec": {
   "display_name": "Python 3 (ipykernel)",
   "language": "python",
   "name": "python3"
  },
  "language_info": {
   "codemirror_mode": {
    "name": "ipython",
    "version": 3
   },
   "file_extension": ".py",
   "mimetype": "text/x-python",
   "name": "python",
   "nbconvert_exporter": "python",
   "pygments_lexer": "ipython3",
   "version": "3.11.5"
  }
 },
 "nbformat": 4,
 "nbformat_minor": 5
}
