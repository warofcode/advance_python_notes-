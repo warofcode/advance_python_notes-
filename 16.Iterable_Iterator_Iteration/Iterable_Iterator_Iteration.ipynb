{
 "cells": [
  {
   "cell_type": "markdown",
   "id": "7513dd91-5c4d-4464-a53b-50faa591008c",
   "metadata": {},
   "source": [
    "                                                        Iterable_Iterator_Iteration"
   ]
  },
  {
   "cell_type": "markdown",
   "id": "206896b4-df5b-4c9a-a7d0-1ffaafe2d5ce",
   "metadata": {},
   "source": [
    "1.Iterable: \n",
    "\n",
    "An iterable is any object that can be iterated over. In simpler terms, it's something that you can loop through, accessing each of its elements one by one. Lists, tuples, sets, dictionaries, and strings are examples of iterables in Python.\n"
   ]
  },
  {
   "cell_type": "raw",
   "id": "217c13a9-e6f5-42bc-b6aa-7389031af3dd",
   "metadata": {},
   "source": [
    "2.Iterator: \n",
    "An iterator is an object that represents a stream of data. It implements two methods: __iter__() and __next__(). The __iter__() method returns the iterator object itself, and the __next__() method returns the next element in the stream. Once all elements are exhausted, it raises a StopIteration exception.\n",
    "\n"
   ]
  },
  {
   "cell_type": "markdown",
   "id": "d664a7d9-4192-4457-8660-df923f3afb0f",
   "metadata": {},
   "source": [
    "3.Iteration: \n",
    "\n",
    "Iteration is the process of looping through elements of an iterable using an iterator. It's a fundamental concept in programming, especially in languages like Python where iteration is used extensively."
   ]
  },
  {
   "cell_type": "markdown",
   "id": "c3084f3e-2a9b-4fc6-af58-6a0c55c0f138",
   "metadata": {},
   "source": [
    " # So, in summary:"
   ]
  },
  {
   "cell_type": "markdown",
   "id": "e90aacca-9a96-4f50-a36d-880b7fcbc72d",
   "metadata": {},
   "source": [
    "An iterable is something you can loop over.\n",
    "    \n",
    "    \n",
    "An iterator is the object that does the looping, managing the state and providing the next element.\n",
    "\n",
    "    \n",
    "Iteration is the process of actually performing the looping, going through each element of the iterable."
   ]
  },
  {
   "cell_type": "markdown",
   "id": "cd1f85c5-f658-473f-945b-8aa3d4549a0a",
   "metadata": {},
   "source": [
    "Here's a simple example in Python to demonstrate iteration using iterables and iterators:"
   ]
  },
  {
   "cell_type": "code",
   "execution_count": 10,
   "id": "80214bf1-3a6b-45d5-8530-aa37234758fd",
   "metadata": {},
   "outputs": [
    {
     "name": "stdout",
     "output_type": "stream",
     "text": [
      "1\n",
      "2\n",
      "3\n",
      "4\n",
      "5\n"
     ]
    },
    {
     "ename": "StopIteration",
     "evalue": "",
     "output_type": "error",
     "traceback": [
      "\u001b[1;31m---------------------------------------------------------------------------\u001b[0m",
      "\u001b[1;31mStopIteration\u001b[0m                             Traceback (most recent call last)",
      "Cell \u001b[1;32mIn[10], line 14\u001b[0m\n\u001b[0;32m     12\u001b[0m \u001b[38;5;28mprint\u001b[39m(\u001b[38;5;28mnext\u001b[39m(my_iterator))  \n\u001b[0;32m     13\u001b[0m \u001b[38;5;28mprint\u001b[39m(\u001b[38;5;28mnext\u001b[39m(my_iterator))\n\u001b[1;32m---> 14\u001b[0m \u001b[38;5;28mprint\u001b[39m(\u001b[38;5;28mnext\u001b[39m(my_iterator))\n",
      "\u001b[1;31mStopIteration\u001b[0m: "
     ]
    }
   ],
   "source": [
    "# Define an iterable (list in this case)\n",
    "my_list = [1, 2, 3, 4, 5]\n",
    "\n",
    "# Get an iterator from the iterable\n",
    "my_iterator = iter(my_list)\n",
    "\n",
    "# Loop through the iterator manually using next() function\n",
    "\n",
    "print(next(my_iterator))  \n",
    "print(next(my_iterator)) \n",
    "print(next(my_iterator))  \n",
    "print(next(my_iterator))  \n",
    "print(next(my_iterator))\n",
    "print(next(my_iterator))  "
   ]
  },
  {
   "cell_type": "raw",
   "id": "8811bc4e-91af-4d17-870c-6d38f8cb1129",
   "metadata": {},
   "source": [
    "After all elements are exhausted, StopIteration exception is raised\n",
    "\n",
    "Uncommenting the line below will raise an exception"
   ]
  },
  {
   "cell_type": "markdown",
   "id": "421e9640-82af-4639-8262-779ae22ea571",
   "metadata": {},
   "source": [
    "# Alternatively, you can loop through the iterable directly"
   ]
  },
  {
   "cell_type": "code",
   "execution_count": 15,
   "id": "dfaf4c10-8ddc-485c-971a-66b83912a0e8",
   "metadata": {},
   "outputs": [
    {
     "name": "stdout",
     "output_type": "stream",
     "text": [
      "1\n",
      "2\n",
      "3\n"
     ]
    }
   ],
   "source": [
    "my_list = [1, 2, 3, 4, 5]\n",
    "my_iterator = iter(my_list)\n",
    "for i in range(3):\n",
    "    print(next(my_iterator))"
   ]
  },
  {
   "cell_type": "code",
   "execution_count": null,
   "id": "395b58a8-36e9-4473-8db4-2ebae60c2bd4",
   "metadata": {},
   "outputs": [],
   "source": []
  },
  {
   "cell_type": "code",
   "execution_count": null,
   "id": "11558be8-a108-448f-b80c-83e0cffc0f80",
   "metadata": {},
   "outputs": [],
   "source": []
  }
 ],
 "metadata": {
  "kernelspec": {
   "display_name": "Python 3 (ipykernel)",
   "language": "python",
   "name": "python3"
  },
  "language_info": {
   "codemirror_mode": {
    "name": "ipython",
    "version": 3
   },
   "file_extension": ".py",
   "mimetype": "text/x-python",
   "name": "python",
   "nbconvert_exporter": "python",
   "pygments_lexer": "ipython3",
   "version": "3.11.7"
  }
 },
 "nbformat": 4,
 "nbformat_minor": 5
}
