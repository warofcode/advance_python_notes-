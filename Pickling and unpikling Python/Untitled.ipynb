{
 "cells": [
  {
   "cell_type": "code",
   "execution_count": 1,
   "id": "c15209f9-7873-405c-a767-d970ce6e2148",
   "metadata": {},
   "outputs": [],
   "source": [
    "name = \"rohit\""
   ]
  },
  {
   "cell_type": "code",
   "execution_count": 2,
   "id": "b2b092ba-5a21-4011-9c13-fb5f2f46c372",
   "metadata": {},
   "outputs": [
    {
     "data": {
      "text/plain": [
       "'rohit'"
      ]
     },
     "execution_count": 2,
     "metadata": {},
     "output_type": "execute_result"
    }
   ],
   "source": [
    "name  = \"sachin\""
   ]
  },
  {
   "cell_type": "code",
   "execution_count": 3,
   "id": "1cfe6564-388b-4751-892a-7f1f6db7f2f3",
   "metadata": {},
   "outputs": [
    {
     "data": {
      "text/plain": [
       "'rohit'"
      ]
     },
     "execution_count": 3,
     "metadata": {},
     "output_type": "execute_result"
    }
   ],
   "source": [
    "name"
   ]
  },
  {
   "cell_type": "code",
   "execution_count": null,
   "id": "43457e05-6bf5-4ce3-9e7f-af29cfc4da7d",
   "metadata": {},
   "outputs": [],
   "source": [
    "name"
   ]
  }
 ],
 "metadata": {
  "kernelspec": {
   "display_name": "Python 3 (ipykernel)",
   "language": "python",
   "name": "python3"
  },
  "language_info": {
   "codemirror_mode": {
    "name": "ipython",
    "version": 3
   },
   "file_extension": ".py",
   "mimetype": "text/x-python",
   "name": "python",
   "nbconvert_exporter": "python",
   "pygments_lexer": "ipython3",
   "version": "3.11.7"
  }
 },
 "nbformat": 4,
 "nbformat_minor": 5
}
