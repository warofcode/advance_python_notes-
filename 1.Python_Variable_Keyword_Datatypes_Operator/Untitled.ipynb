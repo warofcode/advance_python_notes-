{
 "cells": [
  {
   "cell_type": "code",
   "execution_count": 21,
   "id": "3e1da8a7-0c19-4de8-8f61-3be3d0c34d26",
   "metadata": {},
   "outputs": [
    {
     "data": {
      "text/plain": [
       "['False',\n",
       " 'None',\n",
       " 'True',\n",
       " 'and',\n",
       " 'as',\n",
       " 'assert',\n",
       " 'async',\n",
       " 'await',\n",
       " 'break',\n",
       " 'class',\n",
       " 'continue',\n",
       " 'def',\n",
       " 'del',\n",
       " 'elif',\n",
       " 'else',\n",
       " 'except',\n",
       " 'finally',\n",
       " 'for',\n",
       " 'from',\n",
       " 'global',\n",
       " 'if',\n",
       " 'import',\n",
       " 'in',\n",
       " 'is',\n",
       " 'lambda',\n",
       " 'nonlocal',\n",
       " 'not',\n",
       " 'or',\n",
       " 'pass',\n",
       " 'raise',\n",
       " 'return',\n",
       " 'try',\n",
       " 'while',\n",
       " 'with',\n",
       " 'yield']"
      ]
     },
     "execution_count": 21,
     "metadata": {},
     "output_type": "execute_result"
    }
   ],
   "source": [
    "import keyword\n",
    "keyword.kwlist"
   ]
  },
  {
   "cell_type": "code",
   "execution_count": 22,
   "id": "38d58952-5ab8-495f-a32a-8f410cf52c7d",
   "metadata": {},
   "outputs": [
    {
     "ename": "SyntaxError",
     "evalue": "cannot assign to False (80661386.py, line 1)",
     "output_type": "error",
     "traceback": [
      "\u001b[1;36m  Cell \u001b[1;32mIn[22], line 1\u001b[1;36m\u001b[0m\n\u001b[1;33m    False = \"rohit\"\u001b[0m\n\u001b[1;37m    ^\u001b[0m\n\u001b[1;31mSyntaxError\u001b[0m\u001b[1;31m:\u001b[0m cannot assign to False\n"
     ]
    }
   ],
   "source": [
    "False = \"rohit\""
   ]
  },
  {
   "cell_type": "code",
   "execution_count": 28,
   "id": "ec8614c0-5dcf-436a-b9d6-b95c57a21179",
   "metadata": {},
   "outputs": [
    {
     "name": "stdout",
     "output_type": "stream",
     "text": [
      "27\n"
     ]
    }
   ],
   "source": [
    "number = 13\n",
    "number1 = 14\n",
    "type(number)\n",
    "print(number+number1)"
   ]
  },
  {
   "cell_type": "code",
   "execution_count": 31,
   "id": "321b6e9c-ad14-45ec-8095-575d4b0954f7",
   "metadata": {},
   "outputs": [
    {
     "data": {
      "text/plain": [
       "False"
      ]
     },
     "execution_count": 31,
     "metadata": {},
     "output_type": "execute_result"
    }
   ],
   "source": [
    "\n",
    "(33>33)"
   ]
  },
  {
   "cell_type": "code",
   "execution_count": 44,
   "id": "3cb24d33-00ed-4fb9-be48-90f00952a1e8",
   "metadata": {},
   "outputs": [
    {
     "name": "stdout",
     "output_type": "stream",
     "text": [
      "[1, 2, 3, 4, 'rohit', 12.5, True]\n"
     ]
    }
   ],
   "source": [
    "list1 = [1,2,3,4,\"rohit\",12.5,True]\n",
    "type(list1)\n",
    "print(list1)"
   ]
  },
  {
   "cell_type": "code",
   "execution_count": null,
   "id": "2d240094-bb00-4fc0-9c1a-527869bb3c7a",
   "metadata": {},
   "outputs": [],
   "source": [
    "list1."
   ]
  },
  {
   "cell_type": "code",
   "execution_count": 45,
   "id": "f4da43d1-8a70-4dd2-ba46-03325b511ccc",
   "metadata": {},
   "outputs": [],
   "source": [
    "import array"
   ]
  },
  {
   "cell_type": "code",
   "execution_count": 56,
   "id": "424ba8ae-435c-4b4d-9637-4abc603a8708",
   "metadata": {},
   "outputs": [
    {
     "ename": "TypeError",
     "evalue": "must be real number, not str",
     "output_type": "error",
     "traceback": [
      "\u001b[1;31m---------------------------------------------------------------------------\u001b[0m",
      "\u001b[1;31mTypeError\u001b[0m                                 Traceback (most recent call last)",
      "Cell \u001b[1;32mIn[56], line 1\u001b[0m\n\u001b[1;32m----> 1\u001b[0m my_array \u001b[38;5;241m=\u001b[39m array\u001b[38;5;241m.\u001b[39marray(\u001b[38;5;124m'\u001b[39m\u001b[38;5;124md\u001b[39m\u001b[38;5;124m'\u001b[39m, [\u001b[38;5;241m1\u001b[39m, \u001b[38;5;241m2\u001b[39m, \u001b[38;5;241m3\u001b[39m,\u001b[38;5;241m3\u001b[39m,\u001b[38;5;124m\"\u001b[39m\u001b[38;5;124mrohjit\u001b[39m\u001b[38;5;124m\"\u001b[39m])\n",
      "\u001b[1;31mTypeError\u001b[0m: must be real number, not str"
     ]
    }
   ],
   "source": [
    "my_array = array.array('d', [1, 2, 3,3,\"rohjit\"])"
   ]
  },
  {
   "cell_type": "code",
   "execution_count": 55,
   "id": "00fff6be-3755-4cd2-a289-88c0b556131f",
   "metadata": {},
   "outputs": [
    {
     "data": {
      "text/plain": [
       "array('d', [1.0, 2.0, 3.0, 3.0])"
      ]
     },
     "execution_count": 55,
     "metadata": {},
     "output_type": "execute_result"
    }
   ],
   "source": [
    "my_array"
   ]
  },
  {
   "cell_type": "code",
   "execution_count": 50,
   "id": "f31a8915-c879-4ebe-bf9a-84b8f82916ac",
   "metadata": {},
   "outputs": [
    {
     "data": {
      "text/plain": [
       "2.4"
      ]
     },
     "execution_count": 50,
     "metadata": {},
     "output_type": "execute_result"
    }
   ],
   "source": [
    "12/5"
   ]
  },
  {
   "cell_type": "code",
   "execution_count": 59,
   "id": "82b46d45-a3dd-436f-9dca-8b1b8ce6eb68",
   "metadata": {},
   "outputs": [],
   "source": [
    "tuple1 = (1,2,3,4,\"rohit\",12.5)"
   ]
  },
  {
   "cell_type": "code",
   "execution_count": 60,
   "id": "123d0799-279e-49a3-a79f-7dd611420816",
   "metadata": {},
   "outputs": [
    {
     "name": "stdout",
     "output_type": "stream",
     "text": [
      "<class 'tuple'>\n"
     ]
    }
   ],
   "source": [
    "print(type(tuple1))"
   ]
  },
  {
   "cell_type": "code",
   "execution_count": 63,
   "id": "b11f7ace-2089-42b9-844b-adae85bee11e",
   "metadata": {},
   "outputs": [
    {
     "name": "stdout",
     "output_type": "stream",
     "text": [
      "<class 'tuple'>\n"
     ]
    }
   ],
   "source": [
    "a = (1,2,3)\n",
    "print(type(a))"
   ]
  },
  {
   "cell_type": "code",
   "execution_count": 69,
   "id": "3bd623f9-1e05-489e-b744-90454086bb2d",
   "metadata": {},
   "outputs": [
    {
     "name": "stdout",
     "output_type": "stream",
     "text": [
      "<class 'tuple'>\n",
      "(1, 1)\n"
     ]
    }
   ],
   "source": [
    "b = (1,1)\n",
    "print(type(b))\n",
    "print(b)"
   ]
  },
  {
   "cell_type": "code",
   "execution_count": 66,
   "id": "973a36d4-ae12-4135-88a3-f29443a3a64a",
   "metadata": {},
   "outputs": [
    {
     "name": "stdout",
     "output_type": "stream",
     "text": [
      "<class 'set'>\n"
     ]
    }
   ],
   "source": [
    "set1 = {1,2,1,2,3,34,4,5,6}\n",
    "print(type(set1))"
   ]
  },
  {
   "cell_type": "code",
   "execution_count": 67,
   "id": "c1ba131f-7f74-4c3f-8d85-f029cb6cd2bb",
   "metadata": {},
   "outputs": [
    {
     "name": "stdout",
     "output_type": "stream",
     "text": [
      "{1, 2, 3, 34, 4, 5, 6}\n"
     ]
    }
   ],
   "source": [
    "print(set1)"
   ]
  },
  {
   "cell_type": "code",
   "execution_count": 76,
   "id": "e06fd9c7-d0ab-4087-951b-52c04bcf4a31",
   "metadata": {},
   "outputs": [],
   "source": [
    "dict1={\"name\":\"rohit\",\"class\":12,\"name\":\"rohit\"}"
   ]
  },
  {
   "cell_type": "code",
   "execution_count": 77,
   "id": "e204927d-b8bb-42a9-97c7-06a631b69642",
   "metadata": {},
   "outputs": [
    {
     "name": "stdout",
     "output_type": "stream",
     "text": [
      "<class 'dict'>\n"
     ]
    }
   ],
   "source": [
    "print(type(dict1))"
   ]
  },
  {
   "cell_type": "code",
   "execution_count": 78,
   "id": "efb75325-ab9a-4f65-b68a-8133dd29cf72",
   "metadata": {},
   "outputs": [
    {
     "name": "stdout",
     "output_type": "stream",
     "text": [
      "{'name': 'rohit', 'class': 12}\n"
     ]
    }
   ],
   "source": [
    "print(dict1)"
   ]
  },
  {
   "cell_type": "code",
   "execution_count": null,
   "id": "9bb93359-b129-4a70-980d-c767daccd173",
   "metadata": {},
   "outputs": [],
   "source": [
    "mydict1 = {key1:value1,key2:value2}"
   ]
  },
  {
   "cell_type": "code",
   "execution_count": 83,
   "id": "51b09b88-05a9-4cf6-8b5a-1162350b86d0",
   "metadata": {},
   "outputs": [],
   "source": [
    "mydict2 = {\"name\":\"rohit\",\"pin\":5148}"
   ]
  },
  {
   "cell_type": "code",
   "execution_count": 80,
   "id": "9b13f21d-59a3-4d0c-9e27-93534810d81e",
   "metadata": {},
   "outputs": [
    {
     "data": {
      "text/plain": [
       "'rohit'"
      ]
     },
     "execution_count": 80,
     "metadata": {},
     "output_type": "execute_result"
    }
   ],
   "source": [
    "mydict2[\"name\"]"
   ]
  },
  {
   "cell_type": "code",
   "execution_count": 81,
   "id": "095b5d71-0888-4af2-a645-ec780fe48807",
   "metadata": {},
   "outputs": [
    {
     "data": {
      "text/plain": [
       "'Python'"
      ]
     },
     "execution_count": 81,
     "metadata": {},
     "output_type": "execute_result"
    }
   ],
   "source": [
    "mydict2[\"class\"]"
   ]
  },
  {
   "cell_type": "code",
   "execution_count": 84,
   "id": "47d4c366-c65a-43b7-af4b-02d22fd461b5",
   "metadata": {},
   "outputs": [
    {
     "data": {
      "text/plain": [
       "5148"
      ]
     },
     "execution_count": 84,
     "metadata": {},
     "output_type": "execute_result"
    }
   ],
   "source": [
    "mydict2[\"pin\"]"
   ]
  },
  {
   "cell_type": "code",
   "execution_count": 87,
   "id": "d6613b73-4fd4-478d-8425-9f20b1514138",
   "metadata": {},
   "outputs": [
    {
     "name": "stdout",
     "output_type": "stream",
     "text": [
      "wrong pin\n"
     ]
    }
   ],
   "source": [
    "if mydict2[\"pin\"] == 5142:\n",
    "    print(\"welcom\")\n",
    "else:\n",
    "    print(\"wrong pin\")"
   ]
  },
  {
   "cell_type": "code",
   "execution_count": 111,
   "id": "6debbc45-ba5a-494e-aa27-9dfbecbda5b4",
   "metadata": {},
   "outputs": [
    {
     "name": "stdin",
     "output_type": "stream",
     "text": [
      "Please Enter your input :  rohit\n"
     ]
    },
    {
     "name": "stdout",
     "output_type": "stream",
     "text": [
      "Rohit\n",
      "<class 'str'>\n"
     ]
    }
   ],
   "source": [
    "my_input1 = input(\"Please Enter your input : \")\n",
    "print(my_input1.capitalize())\n",
    "print(type(my_input1))"
   ]
  },
  {
   "cell_type": "code",
   "execution_count": 112,
   "id": "f8e3eff3-8bcc-4383-8b69-30af81f05969",
   "metadata": {},
   "outputs": [
    {
     "name": "stdout",
     "output_type": "stream",
     "text": [
      "Requirement already satisfied: PyInputPlus in c:\\users\\rkt65\\anaconda3\\lib\\site-packages (0.2.12)\n",
      "Requirement already satisfied: pysimplevalidate>=0.2.7 in c:\\users\\rkt65\\anaconda3\\lib\\site-packages (from PyInputPlus) (0.2.12)\n",
      "Requirement already satisfied: stdiomask>=0.0.3 in c:\\users\\rkt65\\anaconda3\\lib\\site-packages (from PyInputPlus) (0.0.6)\n",
      "Note: you may need to restart the kernel to use updated packages.\n"
     ]
    }
   ],
   "source": [
    "pip install PyInputPlus"
   ]
  },
  {
   "cell_type": "code",
   "execution_count": 117,
   "id": "25ab041c-0bc6-402b-8088-773035fcdb94",
   "metadata": {},
   "outputs": [],
   "source": [
    "import pyinputplus as pyin"
   ]
  },
  {
   "cell_type": "code",
   "execution_count": 119,
   "id": "42515565-55db-4933-956b-63951d83084f",
   "metadata": {},
   "outputs": [
    {
     "name": "stdout",
     "output_type": "stream",
     "text": [
      "please enter your value : "
     ]
    },
    {
     "name": "stdin",
     "output_type": "stream",
     "text": [
      " dkfj@\n"
     ]
    },
    {
     "name": "stdout",
     "output_type": "stream",
     "text": [
      "'dkfj@' is not a valid email address.\n",
      "please enter your value : "
     ]
    },
    {
     "name": "stdin",
     "output_type": "stream",
     "text": [
      " rohit@gmail.com\n"
     ]
    },
    {
     "data": {
      "text/plain": [
       "'rohit@gmail.com'"
      ]
     },
     "execution_count": 119,
     "metadata": {},
     "output_type": "execute_result"
    }
   ],
   "source": [
    "pyin.inputEmail(\"please enter your value : \")"
   ]
  },
  {
   "cell_type": "code",
   "execution_count": null,
   "id": "d6ed31e3-a774-4856-b4ad-4ee4eee392fd",
   "metadata": {},
   "outputs": [],
   "source": [
    "import numpy as np"
   ]
  },
  {
   "cell_type": "code",
   "execution_count": null,
   "id": "4d693f42-b4a1-4d54-b884-d1e605f4847d",
   "metadata": {},
   "outputs": [],
   "source": []
  },
  {
   "cell_type": "code",
   "execution_count": null,
   "id": "86515550-4d79-4331-87e7-aa5410573612",
   "metadata": {},
   "outputs": [],
   "source": []
  },
  {
   "cell_type": "code",
   "execution_count": null,
   "id": "90c6cf3b-1c25-4aa3-8b26-3a1a2e93c941",
   "metadata": {},
   "outputs": [],
   "source": []
  },
  {
   "cell_type": "code",
   "execution_count": null,
   "id": "ed590909-f19d-4696-9093-40cbe0b93255",
   "metadata": {},
   "outputs": [],
   "source": []
  },
  {
   "cell_type": "code",
   "execution_count": null,
   "id": "1ea41152-faca-40f5-b30e-d4ba45ad7497",
   "metadata": {},
   "outputs": [],
   "source": []
  },
  {
   "cell_type": "code",
   "execution_count": null,
   "id": "69c5dcb4-9a18-4f18-9ab7-bb545e13d3a9",
   "metadata": {},
   "outputs": [],
   "source": []
  },
  {
   "cell_type": "code",
   "execution_count": null,
   "id": "ef4a7776-d719-412f-ab86-532412220c3c",
   "metadata": {},
   "outputs": [],
   "source": []
  },
  {
   "cell_type": "code",
   "execution_count": null,
   "id": "a8aa1619-afb6-4e72-ade9-64578d221152",
   "metadata": {},
   "outputs": [],
   "source": []
  },
  {
   "cell_type": "code",
   "execution_count": 92,
   "id": "eae0da2a-cbc8-4522-afe4-396afa9ecc34",
   "metadata": {},
   "outputs": [
    {
     "name": "stdout",
     "output_type": "stream",
     "text": [
      "12\n"
     ]
    }
   ],
   "source": [
    "print(my_input)"
   ]
  },
  {
   "cell_type": "code",
   "execution_count": 96,
   "id": "4f1ca077-7063-4384-9e7e-f63b2860f6dc",
   "metadata": {},
   "outputs": [
    {
     "data": {
      "text/plain": [
       "12.0"
      ]
     },
     "execution_count": 96,
     "metadata": {},
     "output_type": "execute_result"
    }
   ],
   "source": [
    "float(12)"
   ]
  },
  {
   "cell_type": "code",
   "execution_count": 101,
   "id": "459b1591-3f49-4faf-8c09-40b91f5aec90",
   "metadata": {},
   "outputs": [
    {
     "ename": "ValueError",
     "evalue": "invalid literal for int() with base 10: '13s'",
     "output_type": "error",
     "traceback": [
      "\u001b[1;31m---------------------------------------------------------------------------\u001b[0m",
      "\u001b[1;31mValueError\u001b[0m                                Traceback (most recent call last)",
      "Cell \u001b[1;32mIn[101], line 1\u001b[0m\n\u001b[1;32m----> 1\u001b[0m a \u001b[38;5;241m=\u001b[39m \u001b[38;5;28mint\u001b[39m(\u001b[38;5;124m\"\u001b[39m\u001b[38;5;124m13s\u001b[39m\u001b[38;5;124m\"\u001b[39m)\n",
      "\u001b[1;31mValueError\u001b[0m: invalid literal for int() with base 10: '13s'"
     ]
    }
   ],
   "source": [
    "a = int(\"13s\")"
   ]
  },
  {
   "cell_type": "code",
   "execution_count": 102,
   "id": "1c2c38dd-223b-46a6-baa2-f60af928594a",
   "metadata": {},
   "outputs": [
    {
     "data": {
      "text/plain": [
       "int"
      ]
     },
     "execution_count": 102,
     "metadata": {},
     "output_type": "execute_result"
    }
   ],
   "source": [
    "type(a)"
   ]
  },
  {
   "cell_type": "code",
   "execution_count": null,
   "id": "5ffe119b-05b6-4fed-b336-6b62406258cd",
   "metadata": {},
   "outputs": [],
   "source": [
    "set ([1,2,3])\n",
    "tupe()\n",
    "list()"
   ]
  }
 ],
 "metadata": {
  "kernelspec": {
   "display_name": "Python 3 (ipykernel)",
   "language": "python",
   "name": "python3"
  },
  "language_info": {
   "codemirror_mode": {
    "name": "ipython",
    "version": 3
   },
   "file_extension": ".py",
   "mimetype": "text/x-python",
   "name": "python",
   "nbconvert_exporter": "python",
   "pygments_lexer": "ipython3",
   "version": "3.11.7"
  }
 },
 "nbformat": 4,
 "nbformat_minor": 5
}
